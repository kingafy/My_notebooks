{
 "cells": [
  {
   "cell_type": "code",
   "execution_count": 1,
   "metadata": {},
   "outputs": [],
   "source": [
    "###Problem statement :-Predict the Building Permission Category\n",
    "##Import basic packages\n",
    "import pandas as pd\n",
    "import numpy as np"
   ]
  },
  {
   "cell_type": "code",
   "execution_count": 2,
   "metadata": {},
   "outputs": [
    {
     "name": "stdout",
     "output_type": "stream",
     "text": [
      "   Application/Permit Number   Permit Type               Address  \\\n",
      "0                    6640280  Construction       1924 10TH AVE E   \n",
      "1                    6452959  Construction  9434 DELRIDGE WAY SW   \n",
      "2                    6435127  Construction       535 TERRY AVE N   \n",
      "3                    6620870    Demolition         830 4TH AVE S   \n",
      "4                    6363778  Construction       805 NE 106TH ST   \n",
      "\n",
      "                                         Description Action Type  \\\n",
      "0  Alterations to single family residence, (porti...     ADD/ALT   \n",
      "1  Change use permit from restaurant to residenti...     ADD/ALT   \n",
      "2  Construct interior alterations to existing off...     ADD/ALT   \n",
      "3  need to remove a fire escape that is not part ...  DEMOLITION   \n",
      "4  Channel modification to Thornton Creek, stream...     ADD/ALT   \n",
      "\n",
      "        Work Type      Applicant Name     Application Date  \\\n",
      "0  No plan review        ZHANG, JERRY  2018-01-16T00:00:00   \n",
      "1     Plan Review       MARTIN, TERRY  2015-02-13T00:00:00   \n",
      "2  No plan review  ALLEXSAHT, REBECCA  2014-09-04T00:00:00   \n",
      "3     Plan Review         JUNK, FRANK                  NaN   \n",
      "4     Plan Review        DANIEL, MARK  2013-05-02T00:00:00   \n",
      "\n",
      "            Issue Date           Final Date      Expiration Date  \\\n",
      "0  2018-01-16T00:00:00                  NaN  2019-07-16T00:00:00   \n",
      "1  2015-04-16T00:00:00  2016-11-15T00:00:00  2016-10-16T00:00:00   \n",
      "2  2014-09-04T00:00:00  2015-11-20T00:00:00  2016-03-04T00:00:00   \n",
      "3                  NaN                  NaN                  NaN   \n",
      "4  2013-12-19T00:00:00  2015-05-14T00:00:00  2015-06-19T00:00:00   \n",
      "\n",
      "                          Status              Contractor  \\\n",
      "0                  Permit Issued                     NaN   \n",
      "1                  Permit Closed                     NaN   \n",
      "2                  Permit Closed  IA/INTERIOR ARCHITECTS   \n",
      "3  Initial Information Collected                     NaN   \n",
      "4                  Permit Closed      SEATTLE PARKS DEPT   \n",
      "\n",
      "                     Permit and Complaint Status URL  Master Use Permit  \\\n",
      "0  {'url': 'http://web6.seattle.gov/dpd/PermitSta...                NaN   \n",
      "1  {'url': 'http://web6.seattle.gov/dpd/PermitSta...                NaN   \n",
      "2  {'url': 'http://web6.seattle.gov/dpd/PermitSta...                NaN   \n",
      "3  {'url': 'http://web6.seattle.gov/dpd/PermitSta...                NaN   \n",
      "4  {'url': 'http://web6.seattle.gov/dpd/PermitSta...                NaN   \n",
      "\n",
      "    Latitude   Longitude                                           Location  \\\n",
      "0  47.636732 -122.319828  {'latitude': '47.63673222', 'human_address': '...   \n",
      "1  47.518298 -122.355555  {'latitude': '47.51829831', 'human_address': '...   \n",
      "2  47.624025 -122.337567  {'latitude': '47.62402492', 'human_address': '...   \n",
      "3  47.595020 -122.328530  {'latitude': '47.59502036', 'human_address': '...   \n",
      "4  47.705686 -122.320134  {'latitude': '47.70568601', 'human_address': '...   \n",
      "\n",
      "                 Category  \n",
      "0  SINGLE FAMILY / DUPLEX  \n",
      "1              COMMERCIAL  \n",
      "2              COMMERCIAL  \n",
      "3              COMMERCIAL  \n",
      "4              COMMERCIAL  \n",
      "   Application/Permit Number   Permit Type              Address  \\\n",
      "0                    6425384  Construction     8348 18TH AVE NW   \n",
      "1                    6496502  Construction  3120 S FRONTENAC ST   \n",
      "2                    6622347    Demolition     4031 S WILLOW ST   \n",
      "3                    6565685  Construction      3940 1ST AVE NE   \n",
      "4                    6487370  Construction  5317 BALLARD AVE NW   \n",
      "\n",
      "                                         Description Action Type  \\\n",
      "0  Construct 6' retaining wall to create walkway,...     ADD/ALT   \n",
      "1  Like for like repair of framing at porches of ...     ADD/ALT   \n",
      "2  Demolish existing single family dwelling. Subj...  DEMOLITION   \n",
      "3  Establish use as rowhouse and construct new du...         NEW   \n",
      "4  Tenant improvement to existing women's boutiqu...     ADD/ALT   \n",
      "\n",
      "        Work Type        Applicant Name     Application Date  \\\n",
      "0  No plan review        JOSSART, STEVE  2014-07-02T00:00:00   \n",
      "1  No plan review        RUNDLE, DANIEL  2015-11-12T00:00:00   \n",
      "2  No plan review         WEBER, JULIAN  2017-10-04T00:00:00   \n",
      "3     Plan Review         NOVION, SHAUN  2017-02-14T00:00:00   \n",
      "4  No plan review  DYNA CONTRACTING INC  2017-07-19T00:00:00   \n",
      "\n",
      "            Issue Date           Final Date      Expiration Date  \\\n",
      "0  2014-07-02T00:00:00  2015-06-29T00:00:00  2016-01-02T00:00:00   \n",
      "1  2015-11-12T00:00:00  2016-02-10T00:00:00  2017-05-12T00:00:00   \n",
      "2                  NaN                  NaN                  NaN   \n",
      "3  2017-10-20T00:00:00                  NaN  2019-04-20T00:00:00   \n",
      "4  2017-07-19T00:00:00  2018-01-17T00:00:00  2019-01-19T00:00:00   \n",
      "\n",
      "              Status              Contractor  \\\n",
      "0      Permit Closed                     NaN   \n",
      "1      Permit Closed  SCHULTIS SUNDBERG INC.   \n",
      "2  Reviews Completed                     NaN   \n",
      "3      Permit Issued                     NaN   \n",
      "4      Permit Closed    DYNA CONTRACTING INC   \n",
      "\n",
      "                     Permit and Complaint Status URL  Master Use Permit  \\\n",
      "0  {'url': 'http://web6.seattle.gov/dpd/PermitSta...                NaN   \n",
      "1  {'url': 'http://web6.seattle.gov/dpd/PermitSta...                NaN   \n",
      "2  {'url': 'http://web6.seattle.gov/dpd/PermitSta...          3024280.0   \n",
      "3  {'url': 'http://web6.seattle.gov/dpd/PermitSta...          3025762.0   \n",
      "4  {'url': 'http://web6.seattle.gov/dpd/PermitSta...                NaN   \n",
      "\n",
      "    Latitude   Longitude                                           Location  \n",
      "0  47.690123 -122.379795  {'latitude': '47.69012273', 'human_address': '...  \n",
      "1  47.540111 -122.290535  {'latitude': '47.54011095', 'human_address': '...  \n",
      "2  47.540470 -122.281410  {'latitude': '47.54046991', 'human_address': '...  \n",
      "3  47.654986 -122.327467  {'latitude': '47.65498619', 'human_address': '...  \n",
      "4  47.666714 -122.383900  {'latitude': '47.66671437', 'human_address': '...  \n"
     ]
    }
   ],
   "source": [
    "#Read files to check the contents\n",
    "train = pd.read_csv(\"D:/Certi/Intvw/zs/4dbe6a1eb80f11e8/dataset/train_file.csv\")\n",
    "print(train.head())\n",
    "test = pd.read_csv(\"D:/Certi/Intvw/zs/4dbe6a1eb80f11e8/dataset/test_file.csv\")\n",
    "print(test.head())"
   ]
  },
  {
   "cell_type": "code",
   "execution_count": 3,
   "metadata": {},
   "outputs": [
    {
     "name": "stdout",
     "output_type": "stream",
     "text": [
      "(33539, 19) (22360, 18)\n"
     ]
    }
   ],
   "source": [
    "print(train.shape, test.shape)"
   ]
  },
  {
   "cell_type": "code",
   "execution_count": 4,
   "metadata": {},
   "outputs": [
    {
     "name": "stdout",
     "output_type": "stream",
     "text": [
      "Index(['Application/Permit Number', 'Permit Type', 'Address', 'Description',\n",
      "       'Action Type', 'Work Type', 'Applicant Name', 'Application Date',\n",
      "       'Issue Date', 'Final Date', 'Expiration Date', 'Status', 'Contractor',\n",
      "       'Permit and Complaint Status URL', 'Master Use Permit', 'Latitude',\n",
      "       'Longitude', 'Location', 'Category'],\n",
      "      dtype='object')\n"
     ]
    }
   ],
   "source": [
    "##Check the data frame columns\n",
    "print(train.columns)"
   ]
  },
  {
   "cell_type": "code",
   "execution_count": 5,
   "metadata": {},
   "outputs": [
    {
     "data": {
      "text/plain": [
       "Application/Permit Number              0\n",
       "Permit Type                            0\n",
       "Address                               19\n",
       "Description                           10\n",
       "Action Type                          779\n",
       "Work Type                              0\n",
       "Applicant Name                       135\n",
       "Application Date                    6939\n",
       "Issue Date                         10624\n",
       "Final Date                         17851\n",
       "Expiration Date                    10569\n",
       "Status                              1574\n",
       "Contractor                         27503\n",
       "Permit and Complaint Status URL        0\n",
       "Master Use Permit                  29041\n",
       "Latitude                              21\n",
       "Longitude                             21\n",
       "Location                               8\n",
       "Category                               0\n",
       "dtype: int64"
      ]
     },
     "execution_count": 5,
     "metadata": {},
     "output_type": "execute_result"
    }
   ],
   "source": [
    "##check the characteristics of Data quality\n",
    "train.apply(lambda x: sum(x.isnull()))"
   ]
  },
  {
   "cell_type": "code",
   "execution_count": 6,
   "metadata": {},
   "outputs": [
    {
     "data": {
      "text/plain": [
       "'\\nAddress                               19\\nDescription                           10\\nAction Type                          779\\nApplicant Name                       135\\nApplication Date                    6939\\nIssue Date                         10624\\nFinal Date                         17851\\nExpiration Date                    10569\\nStatus                              1574\\nContractor                         27503\\nMaster Use Permit                  29041\\nLatitude                              21\\nLongitude                             21\\nLocation                               8\\n'"
      ]
     },
     "execution_count": 6,
     "metadata": {},
     "output_type": "execute_result"
    }
   ],
   "source": [
    "##observations\n",
    "##lots of missing values\n",
    "##Missing attributes\n",
    "'''\n",
    "Address                               19\n",
    "Description                           10\n",
    "Action Type                          779\n",
    "Applicant Name                       135\n",
    "Application Date                    6939\n",
    "Issue Date                         10624\n",
    "Final Date                         17851\n",
    "Expiration Date                    10569\n",
    "Status                              1574\n",
    "Contractor                         27503\n",
    "Master Use Permit                  29041\n",
    "Latitude                              21\n",
    "Longitude                             21\n",
    "Location                               8\n",
    "'''\n"
   ]
  },
  {
   "cell_type": "code",
   "execution_count": 7,
   "metadata": {},
   "outputs": [
    {
     "data": {
      "text/html": [
       "<div>\n",
       "<style scoped>\n",
       "    .dataframe tbody tr th:only-of-type {\n",
       "        vertical-align: middle;\n",
       "    }\n",
       "\n",
       "    .dataframe tbody tr th {\n",
       "        vertical-align: top;\n",
       "    }\n",
       "\n",
       "    .dataframe thead th {\n",
       "        text-align: right;\n",
       "    }\n",
       "</style>\n",
       "<table border=\"1\" class=\"dataframe\">\n",
       "  <thead>\n",
       "    <tr style=\"text-align: right;\">\n",
       "      <th></th>\n",
       "      <th>Application/Permit Number</th>\n",
       "      <th>Master Use Permit</th>\n",
       "      <th>Latitude</th>\n",
       "      <th>Longitude</th>\n",
       "    </tr>\n",
       "  </thead>\n",
       "  <tbody>\n",
       "    <tr>\n",
       "      <th>count</th>\n",
       "      <td>3.353900e+04</td>\n",
       "      <td>4.498000e+03</td>\n",
       "      <td>33518.000000</td>\n",
       "      <td>33518.000000</td>\n",
       "    </tr>\n",
       "    <tr>\n",
       "      <th>mean</th>\n",
       "      <td>6.464032e+06</td>\n",
       "      <td>3.018357e+06</td>\n",
       "      <td>47.625743</td>\n",
       "      <td>-122.334745</td>\n",
       "    </tr>\n",
       "    <tr>\n",
       "      <th>std</th>\n",
       "      <td>1.337487e+05</td>\n",
       "      <td>6.354964e+03</td>\n",
       "      <td>0.053839</td>\n",
       "      <td>0.036986</td>\n",
       "    </tr>\n",
       "    <tr>\n",
       "      <th>min</th>\n",
       "      <td>6.061738e+06</td>\n",
       "      <td>3.001776e+06</td>\n",
       "      <td>47.495860</td>\n",
       "      <td>-122.430368</td>\n",
       "    </tr>\n",
       "    <tr>\n",
       "      <th>25%</th>\n",
       "      <td>6.391959e+06</td>\n",
       "      <td>3.014586e+06</td>\n",
       "      <td>47.587431</td>\n",
       "      <td>-122.362746</td>\n",
       "    </tr>\n",
       "    <tr>\n",
       "      <th>50%</th>\n",
       "      <td>6.478519e+06</td>\n",
       "      <td>3.017859e+06</td>\n",
       "      <td>47.625653</td>\n",
       "      <td>-122.333894</td>\n",
       "    </tr>\n",
       "    <tr>\n",
       "      <th>75%</th>\n",
       "      <td>6.569116e+06</td>\n",
       "      <td>3.023228e+06</td>\n",
       "      <td>47.669658</td>\n",
       "      <td>-122.306386</td>\n",
       "    </tr>\n",
       "    <tr>\n",
       "      <th>max</th>\n",
       "      <td>6.658995e+06</td>\n",
       "      <td>3.031743e+06</td>\n",
       "      <td>47.733970</td>\n",
       "      <td>-122.236509</td>\n",
       "    </tr>\n",
       "  </tbody>\n",
       "</table>\n",
       "</div>"
      ],
      "text/plain": [
       "       Application/Permit Number  Master Use Permit      Latitude  \\\n",
       "count               3.353900e+04       4.498000e+03  33518.000000   \n",
       "mean                6.464032e+06       3.018357e+06     47.625743   \n",
       "std                 1.337487e+05       6.354964e+03      0.053839   \n",
       "min                 6.061738e+06       3.001776e+06     47.495860   \n",
       "25%                 6.391959e+06       3.014586e+06     47.587431   \n",
       "50%                 6.478519e+06       3.017859e+06     47.625653   \n",
       "75%                 6.569116e+06       3.023228e+06     47.669658   \n",
       "max                 6.658995e+06       3.031743e+06     47.733970   \n",
       "\n",
       "          Longitude  \n",
       "count  33518.000000  \n",
       "mean    -122.334745  \n",
       "std        0.036986  \n",
       "min     -122.430368  \n",
       "25%     -122.362746  \n",
       "50%     -122.333894  \n",
       "75%     -122.306386  \n",
       "max     -122.236509  "
      ]
     },
     "execution_count": 7,
     "metadata": {},
     "output_type": "execute_result"
    }
   ],
   "source": [
    "train.describe()"
   ]
  },
  {
   "cell_type": "code",
   "execution_count": 8,
   "metadata": {},
   "outputs": [
    {
     "data": {
      "text/plain": [
       "29380"
      ]
     },
     "execution_count": 8,
     "metadata": {},
     "output_type": "execute_result"
    }
   ],
   "source": [
    "train['Description'].nunique()"
   ]
  },
  {
   "cell_type": "code",
   "execution_count": 9,
   "metadata": {},
   "outputs": [],
   "source": [
    "##Description is combination of words"
   ]
  },
  {
   "cell_type": "code",
   "execution_count": 10,
   "metadata": {},
   "outputs": [
    {
     "data": {
      "text/plain": [
       "3"
      ]
     },
     "execution_count": 10,
     "metadata": {},
     "output_type": "execute_result"
    }
   ],
   "source": [
    "train['Permit Type'].nunique()\n"
   ]
  },
  {
   "cell_type": "code",
   "execution_count": 11,
   "metadata": {},
   "outputs": [
    {
     "data": {
      "text/plain": [
       "array(['Construction', 'Demolition', 'Site Development'], dtype=object)"
      ]
     },
     "execution_count": 11,
     "metadata": {},
     "output_type": "execute_result"
    }
   ],
   "source": [
    "##Permit  Type is categorical as it has 3 types\n",
    "train['Permit Type'].unique()"
   ]
  },
  {
   "cell_type": "code",
   "execution_count": 12,
   "metadata": {},
   "outputs": [
    {
     "data": {
      "text/plain": [
       "23217"
      ]
     },
     "execution_count": 12,
     "metadata": {},
     "output_type": "execute_result"
    }
   ],
   "source": [
    "train['Address'].nunique()"
   ]
  },
  {
   "cell_type": "code",
   "execution_count": 13,
   "metadata": {},
   "outputs": [],
   "source": [
    "##Address is of different types and combination of words"
   ]
  },
  {
   "cell_type": "code",
   "execution_count": 14,
   "metadata": {},
   "outputs": [
    {
     "data": {
      "text/plain": [
       "16"
      ]
     },
     "execution_count": 14,
     "metadata": {},
     "output_type": "execute_result"
    }
   ],
   "source": [
    "train['Action Type'].nunique()"
   ]
  },
  {
   "cell_type": "code",
   "execution_count": 15,
   "metadata": {},
   "outputs": [
    {
     "data": {
      "text/plain": [
       "array(['ADD/ALT', 'DEMOLITION', 'ALTER', 'NEW',\n",
       "       'TREE/VEGETATION MAINT/RESTORE', 'NO CONSTRUCTION', nan, 'TEMP',\n",
       "       'CURB CUT', 'GRADING', 'SHORELINE EXEMPTION ONLY',\n",
       "       'SITE MONITORING ONLY', 'DECONSTRUCTION', 'RELOCATION',\n",
       "       'FLOODPLAIN LICENSE ONLY', 'TREE PROTECTION EXEMPTION',\n",
       "       'DRAINAGE APPROVAL'], dtype=object)"
      ]
     },
     "execution_count": 15,
     "metadata": {},
     "output_type": "execute_result"
    }
   ],
   "source": [
    "##Action Type is categorical as it has fixed type of 16\n",
    "train['Action Type'].unique()"
   ]
  },
  {
   "cell_type": "code",
   "execution_count": 16,
   "metadata": {},
   "outputs": [
    {
     "data": {
      "text/plain": [
       "2"
      ]
     },
     "execution_count": 16,
     "metadata": {},
     "output_type": "execute_result"
    }
   ],
   "source": [
    "train['Work Type'].nunique()"
   ]
  },
  {
   "cell_type": "code",
   "execution_count": 17,
   "metadata": {},
   "outputs": [
    {
     "data": {
      "text/plain": [
       "array(['No plan review', 'Plan Review'], dtype=object)"
      ]
     },
     "execution_count": 17,
     "metadata": {},
     "output_type": "execute_result"
    }
   ],
   "source": [
    "##work Type is Categorical  with 2 types\n",
    "train['Work Type'].unique()"
   ]
  },
  {
   "cell_type": "code",
   "execution_count": 18,
   "metadata": {},
   "outputs": [],
   "source": [
    "##Applicant Name can be dropped as of no significance\n"
   ]
  },
  {
   "cell_type": "code",
   "execution_count": 19,
   "metadata": {},
   "outputs": [
    {
     "data": {
      "text/plain": [
       "2273"
      ]
     },
     "execution_count": 19,
     "metadata": {},
     "output_type": "execute_result"
    }
   ],
   "source": [
    "train['Application Date'].nunique()"
   ]
  },
  {
   "cell_type": "code",
   "execution_count": 20,
   "metadata": {},
   "outputs": [],
   "source": [
    "##Application Date needs to be transformed to some other variable for usage"
   ]
  },
  {
   "cell_type": "code",
   "execution_count": 21,
   "metadata": {},
   "outputs": [
    {
     "data": {
      "text/plain": [
       "1409"
      ]
     },
     "execution_count": 21,
     "metadata": {},
     "output_type": "execute_result"
    }
   ],
   "source": [
    "train['Issue Date'].nunique()"
   ]
  },
  {
   "cell_type": "code",
   "execution_count": 22,
   "metadata": {},
   "outputs": [],
   "source": [
    "##Issue date can be transformed to some other variable for usage"
   ]
  },
  {
   "cell_type": "code",
   "execution_count": 23,
   "metadata": {},
   "outputs": [
    {
     "data": {
      "text/plain": [
       "1249"
      ]
     },
     "execution_count": 23,
     "metadata": {},
     "output_type": "execute_result"
    }
   ],
   "source": [
    "train['Final Date'].nunique()"
   ]
  },
  {
   "cell_type": "code",
   "execution_count": 24,
   "metadata": {},
   "outputs": [
    {
     "data": {
      "text/plain": [
       "1610"
      ]
     },
     "execution_count": 24,
     "metadata": {},
     "output_type": "execute_result"
    }
   ],
   "source": [
    "train['Expiration Date'].nunique()"
   ]
  },
  {
   "cell_type": "code",
   "execution_count": 25,
   "metadata": {},
   "outputs": [
    {
     "data": {
      "text/plain": [
       "12"
      ]
     },
     "execution_count": 25,
     "metadata": {},
     "output_type": "execute_result"
    }
   ],
   "source": [
    "train['Status'].nunique()"
   ]
  },
  {
   "cell_type": "code",
   "execution_count": 26,
   "metadata": {},
   "outputs": [
    {
     "data": {
      "text/plain": [
       "array(['Permit Issued', 'Permit Closed', 'Initial Information Collected',\n",
       "       'Permit Finaled', 'AP Closed', 'CANCELLED', 'Application Accepted',\n",
       "       nan, 'Reviews Completed', 'Information Collected',\n",
       "       'Cert of Occupancy Authorized', 'AP Finaled', 'Inspections Added'],\n",
       "      dtype=object)"
      ]
     },
     "execution_count": 26,
     "metadata": {},
     "output_type": "execute_result"
    }
   ],
   "source": [
    "##unique no of Status is 12 .\n",
    "train['Status'].unique()"
   ]
  },
  {
   "cell_type": "code",
   "execution_count": 27,
   "metadata": {},
   "outputs": [
    {
     "data": {
      "text/plain": [
       "1743"
      ]
     },
     "execution_count": 27,
     "metadata": {},
     "output_type": "execute_result"
    }
   ],
   "source": [
    "train['Contractor'].nunique()"
   ]
  },
  {
   "cell_type": "code",
   "execution_count": 28,
   "metadata": {},
   "outputs": [
    {
     "data": {
      "text/plain": [
       "array(['SINGLE FAMILY / DUPLEX', 'COMMERCIAL', 'INSTITUTIONAL',\n",
       "       'MULTIFAMILY', 'INDUSTRIAL'], dtype=object)"
      ]
     },
     "execution_count": 28,
     "metadata": {},
     "output_type": "execute_result"
    }
   ],
   "source": [
    "train['Category'].unique()"
   ]
  },
  {
   "cell_type": "code",
   "execution_count": 126,
   "metadata": {},
   "outputs": [
    {
     "data": {
      "text/html": [
       "<div>\n",
       "<style scoped>\n",
       "    .dataframe tbody tr th:only-of-type {\n",
       "        vertical-align: middle;\n",
       "    }\n",
       "\n",
       "    .dataframe tbody tr th {\n",
       "        vertical-align: top;\n",
       "    }\n",
       "\n",
       "    .dataframe thead th {\n",
       "        text-align: right;\n",
       "    }\n",
       "</style>\n",
       "<table border=\"1\" class=\"dataframe\">\n",
       "  <thead>\n",
       "    <tr style=\"text-align: right;\">\n",
       "      <th>Category</th>\n",
       "      <th>COMMERCIAL</th>\n",
       "      <th>INDUSTRIAL</th>\n",
       "      <th>INSTITUTIONAL</th>\n",
       "      <th>MULTIFAMILY</th>\n",
       "      <th>SINGLE FAMILY / DUPLEX</th>\n",
       "      <th>All</th>\n",
       "    </tr>\n",
       "    <tr>\n",
       "      <th>Permit Type</th>\n",
       "      <th></th>\n",
       "      <th></th>\n",
       "      <th></th>\n",
       "      <th></th>\n",
       "      <th></th>\n",
       "      <th></th>\n",
       "    </tr>\n",
       "  </thead>\n",
       "  <tbody>\n",
       "    <tr>\n",
       "      <th>Construction</th>\n",
       "      <td>9272</td>\n",
       "      <td>342</td>\n",
       "      <td>850</td>\n",
       "      <td>3461</td>\n",
       "      <td>16086</td>\n",
       "      <td>30011</td>\n",
       "    </tr>\n",
       "    <tr>\n",
       "      <th>Demolition</th>\n",
       "      <td>413</td>\n",
       "      <td>29</td>\n",
       "      <td>44</td>\n",
       "      <td>596</td>\n",
       "      <td>1744</td>\n",
       "      <td>2826</td>\n",
       "    </tr>\n",
       "    <tr>\n",
       "      <th>Site Development</th>\n",
       "      <td>93</td>\n",
       "      <td>20</td>\n",
       "      <td>32</td>\n",
       "      <td>45</td>\n",
       "      <td>512</td>\n",
       "      <td>702</td>\n",
       "    </tr>\n",
       "    <tr>\n",
       "      <th>All</th>\n",
       "      <td>9778</td>\n",
       "      <td>391</td>\n",
       "      <td>926</td>\n",
       "      <td>4102</td>\n",
       "      <td>18342</td>\n",
       "      <td>33539</td>\n",
       "    </tr>\n",
       "  </tbody>\n",
       "</table>\n",
       "</div>"
      ],
      "text/plain": [
       "Category          COMMERCIAL  INDUSTRIAL  INSTITUTIONAL  MULTIFAMILY  \\\n",
       "Permit Type                                                            \n",
       "Construction            9272         342            850         3461   \n",
       "Demolition               413          29             44          596   \n",
       "Site Development          93          20             32           45   \n",
       "All                     9778         391            926         4102   \n",
       "\n",
       "Category          SINGLE FAMILY / DUPLEX    All  \n",
       "Permit Type                                      \n",
       "Construction                       16086  30011  \n",
       "Demolition                          1744   2826  \n",
       "Site Development                     512    702  \n",
       "All                                18342  33539  "
      ]
     },
     "execution_count": 126,
     "metadata": {},
     "output_type": "execute_result"
    }
   ],
   "source": [
    "pd.crosstab(train['Permit Type'],train['Category'],margins = True)\n",
    "##Majority of the Permit is for Single Family/Duplex and Commercial  construction. Same holds good for Demolition"
   ]
  },
  {
   "cell_type": "code",
   "execution_count": 127,
   "metadata": {},
   "outputs": [
    {
     "data": {
      "text/html": [
       "<div>\n",
       "<style scoped>\n",
       "    .dataframe tbody tr th:only-of-type {\n",
       "        vertical-align: middle;\n",
       "    }\n",
       "\n",
       "    .dataframe tbody tr th {\n",
       "        vertical-align: top;\n",
       "    }\n",
       "\n",
       "    .dataframe thead th {\n",
       "        text-align: right;\n",
       "    }\n",
       "</style>\n",
       "<table border=\"1\" class=\"dataframe\">\n",
       "  <thead>\n",
       "    <tr style=\"text-align: right;\">\n",
       "      <th>Category</th>\n",
       "      <th>COMMERCIAL</th>\n",
       "      <th>INDUSTRIAL</th>\n",
       "      <th>INSTITUTIONAL</th>\n",
       "      <th>MULTIFAMILY</th>\n",
       "      <th>SINGLE FAMILY / DUPLEX</th>\n",
       "      <th>All</th>\n",
       "    </tr>\n",
       "    <tr>\n",
       "      <th>Action Type</th>\n",
       "      <th></th>\n",
       "      <th></th>\n",
       "      <th></th>\n",
       "      <th></th>\n",
       "      <th></th>\n",
       "      <th></th>\n",
       "    </tr>\n",
       "  </thead>\n",
       "  <tbody>\n",
       "    <tr>\n",
       "      <th>ADD/ALT</th>\n",
       "      <td>7124</td>\n",
       "      <td>258</td>\n",
       "      <td>663</td>\n",
       "      <td>1582</td>\n",
       "      <td>11755</td>\n",
       "      <td>21382</td>\n",
       "    </tr>\n",
       "    <tr>\n",
       "      <th>ALTER</th>\n",
       "      <td>925</td>\n",
       "      <td>0</td>\n",
       "      <td>8</td>\n",
       "      <td>0</td>\n",
       "      <td>0</td>\n",
       "      <td>933</td>\n",
       "    </tr>\n",
       "    <tr>\n",
       "      <th>CURB CUT</th>\n",
       "      <td>12</td>\n",
       "      <td>0</td>\n",
       "      <td>2</td>\n",
       "      <td>1</td>\n",
       "      <td>59</td>\n",
       "      <td>74</td>\n",
       "    </tr>\n",
       "    <tr>\n",
       "      <th>DECONSTRUCTION</th>\n",
       "      <td>1</td>\n",
       "      <td>0</td>\n",
       "      <td>0</td>\n",
       "      <td>2</td>\n",
       "      <td>2</td>\n",
       "      <td>5</td>\n",
       "    </tr>\n",
       "    <tr>\n",
       "      <th>DEMOLITION</th>\n",
       "      <td>386</td>\n",
       "      <td>26</td>\n",
       "      <td>43</td>\n",
       "      <td>557</td>\n",
       "      <td>1581</td>\n",
       "      <td>2593</td>\n",
       "    </tr>\n",
       "    <tr>\n",
       "      <th>DRAINAGE APPROVAL</th>\n",
       "      <td>0</td>\n",
       "      <td>0</td>\n",
       "      <td>1</td>\n",
       "      <td>0</td>\n",
       "      <td>0</td>\n",
       "      <td>1</td>\n",
       "    </tr>\n",
       "    <tr>\n",
       "      <th>FLOODPLAIN LICENSE ONLY</th>\n",
       "      <td>0</td>\n",
       "      <td>1</td>\n",
       "      <td>0</td>\n",
       "      <td>0</td>\n",
       "      <td>2</td>\n",
       "      <td>3</td>\n",
       "    </tr>\n",
       "    <tr>\n",
       "      <th>GRADING</th>\n",
       "      <td>67</td>\n",
       "      <td>15</td>\n",
       "      <td>26</td>\n",
       "      <td>14</td>\n",
       "      <td>72</td>\n",
       "      <td>194</td>\n",
       "    </tr>\n",
       "    <tr>\n",
       "      <th>NEW</th>\n",
       "      <td>853</td>\n",
       "      <td>62</td>\n",
       "      <td>136</td>\n",
       "      <td>1799</td>\n",
       "      <td>4014</td>\n",
       "      <td>6864</td>\n",
       "    </tr>\n",
       "    <tr>\n",
       "      <th>NO CONSTRUCTION</th>\n",
       "      <td>51</td>\n",
       "      <td>3</td>\n",
       "      <td>6</td>\n",
       "      <td>11</td>\n",
       "      <td>39</td>\n",
       "      <td>110</td>\n",
       "    </tr>\n",
       "    <tr>\n",
       "      <th>RELOCATION</th>\n",
       "      <td>0</td>\n",
       "      <td>1</td>\n",
       "      <td>1</td>\n",
       "      <td>2</td>\n",
       "      <td>5</td>\n",
       "      <td>9</td>\n",
       "    </tr>\n",
       "    <tr>\n",
       "      <th>SHORELINE EXEMPTION ONLY</th>\n",
       "      <td>2</td>\n",
       "      <td>3</td>\n",
       "      <td>0</td>\n",
       "      <td>0</td>\n",
       "      <td>5</td>\n",
       "      <td>10</td>\n",
       "    </tr>\n",
       "    <tr>\n",
       "      <th>SITE MONITORING ONLY</th>\n",
       "      <td>1</td>\n",
       "      <td>0</td>\n",
       "      <td>0</td>\n",
       "      <td>0</td>\n",
       "      <td>2</td>\n",
       "      <td>3</td>\n",
       "    </tr>\n",
       "    <tr>\n",
       "      <th>TEMP</th>\n",
       "      <td>138</td>\n",
       "      <td>6</td>\n",
       "      <td>16</td>\n",
       "      <td>2</td>\n",
       "      <td>8</td>\n",
       "      <td>170</td>\n",
       "    </tr>\n",
       "    <tr>\n",
       "      <th>TREE PROTECTION EXEMPTION</th>\n",
       "      <td>0</td>\n",
       "      <td>0</td>\n",
       "      <td>0</td>\n",
       "      <td>0</td>\n",
       "      <td>1</td>\n",
       "      <td>1</td>\n",
       "    </tr>\n",
       "    <tr>\n",
       "      <th>TREE/VEGETATION MAINT/RESTORE</th>\n",
       "      <td>9</td>\n",
       "      <td>1</td>\n",
       "      <td>3</td>\n",
       "      <td>30</td>\n",
       "      <td>365</td>\n",
       "      <td>408</td>\n",
       "    </tr>\n",
       "    <tr>\n",
       "      <th>All</th>\n",
       "      <td>9569</td>\n",
       "      <td>376</td>\n",
       "      <td>905</td>\n",
       "      <td>4000</td>\n",
       "      <td>17910</td>\n",
       "      <td>32760</td>\n",
       "    </tr>\n",
       "  </tbody>\n",
       "</table>\n",
       "</div>"
      ],
      "text/plain": [
       "Category                       COMMERCIAL  INDUSTRIAL  INSTITUTIONAL  \\\n",
       "Action Type                                                            \n",
       "ADD/ALT                              7124         258            663   \n",
       "ALTER                                 925           0              8   \n",
       "CURB CUT                               12           0              2   \n",
       "DECONSTRUCTION                          1           0              0   \n",
       "DEMOLITION                            386          26             43   \n",
       "DRAINAGE APPROVAL                       0           0              1   \n",
       "FLOODPLAIN LICENSE ONLY                 0           1              0   \n",
       "GRADING                                67          15             26   \n",
       "NEW                                   853          62            136   \n",
       "NO CONSTRUCTION                        51           3              6   \n",
       "RELOCATION                              0           1              1   \n",
       "SHORELINE EXEMPTION ONLY                2           3              0   \n",
       "SITE MONITORING ONLY                    1           0              0   \n",
       "TEMP                                  138           6             16   \n",
       "TREE PROTECTION EXEMPTION               0           0              0   \n",
       "TREE/VEGETATION MAINT/RESTORE           9           1              3   \n",
       "All                                  9569         376            905   \n",
       "\n",
       "Category                       MULTIFAMILY  SINGLE FAMILY / DUPLEX    All  \n",
       "Action Type                                                                \n",
       "ADD/ALT                               1582                   11755  21382  \n",
       "ALTER                                    0                       0    933  \n",
       "CURB CUT                                 1                      59     74  \n",
       "DECONSTRUCTION                           2                       2      5  \n",
       "DEMOLITION                             557                    1581   2593  \n",
       "DRAINAGE APPROVAL                        0                       0      1  \n",
       "FLOODPLAIN LICENSE ONLY                  0                       2      3  \n",
       "GRADING                                 14                      72    194  \n",
       "NEW                                   1799                    4014   6864  \n",
       "NO CONSTRUCTION                         11                      39    110  \n",
       "RELOCATION                               2                       5      9  \n",
       "SHORELINE EXEMPTION ONLY                 0                       5     10  \n",
       "SITE MONITORING ONLY                     0                       2      3  \n",
       "TEMP                                     2                       8    170  \n",
       "TREE PROTECTION EXEMPTION                0                       1      1  \n",
       "TREE/VEGETATION MAINT/RESTORE           30                     365    408  \n",
       "All                                   4000                   17910  32760  "
      ]
     },
     "execution_count": 127,
     "metadata": {},
     "output_type": "execute_result"
    }
   ],
   "source": [
    "pd.crosstab(train['Action Type'],train['Category'],margins = True)\n",
    "##ADD/ALT , DEMOLITION and NEW are the major categories of Action Type in all categories.\n",
    "##The Action Type would have significance on the Category Type"
   ]
  },
  {
   "cell_type": "code",
   "execution_count": 128,
   "metadata": {},
   "outputs": [
    {
     "data": {
      "text/html": [
       "<div>\n",
       "<style scoped>\n",
       "    .dataframe tbody tr th:only-of-type {\n",
       "        vertical-align: middle;\n",
       "    }\n",
       "\n",
       "    .dataframe tbody tr th {\n",
       "        vertical-align: top;\n",
       "    }\n",
       "\n",
       "    .dataframe thead th {\n",
       "        text-align: right;\n",
       "    }\n",
       "</style>\n",
       "<table border=\"1\" class=\"dataframe\">\n",
       "  <thead>\n",
       "    <tr style=\"text-align: right;\">\n",
       "      <th>Category</th>\n",
       "      <th>COMMERCIAL</th>\n",
       "      <th>INDUSTRIAL</th>\n",
       "      <th>INSTITUTIONAL</th>\n",
       "      <th>MULTIFAMILY</th>\n",
       "      <th>SINGLE FAMILY / DUPLEX</th>\n",
       "      <th>All</th>\n",
       "    </tr>\n",
       "    <tr>\n",
       "      <th>Status</th>\n",
       "      <th></th>\n",
       "      <th></th>\n",
       "      <th></th>\n",
       "      <th></th>\n",
       "      <th></th>\n",
       "      <th></th>\n",
       "    </tr>\n",
       "  </thead>\n",
       "  <tbody>\n",
       "    <tr>\n",
       "      <th>AP Closed</th>\n",
       "      <td>38</td>\n",
       "      <td>7</td>\n",
       "      <td>5</td>\n",
       "      <td>33</td>\n",
       "      <td>395</td>\n",
       "      <td>478</td>\n",
       "    </tr>\n",
       "    <tr>\n",
       "      <th>AP Finaled</th>\n",
       "      <td>1</td>\n",
       "      <td>0</td>\n",
       "      <td>1</td>\n",
       "      <td>0</td>\n",
       "      <td>0</td>\n",
       "      <td>2</td>\n",
       "    </tr>\n",
       "    <tr>\n",
       "      <th>Application Accepted</th>\n",
       "      <td>374</td>\n",
       "      <td>14</td>\n",
       "      <td>43</td>\n",
       "      <td>315</td>\n",
       "      <td>776</td>\n",
       "      <td>1522</td>\n",
       "    </tr>\n",
       "    <tr>\n",
       "      <th>CANCELLED</th>\n",
       "      <td>530</td>\n",
       "      <td>25</td>\n",
       "      <td>35</td>\n",
       "      <td>202</td>\n",
       "      <td>633</td>\n",
       "      <td>1425</td>\n",
       "    </tr>\n",
       "    <tr>\n",
       "      <th>Cert of Occupancy Authorized</th>\n",
       "      <td>19</td>\n",
       "      <td>1</td>\n",
       "      <td>0</td>\n",
       "      <td>29</td>\n",
       "      <td>2</td>\n",
       "      <td>51</td>\n",
       "    </tr>\n",
       "    <tr>\n",
       "      <th>Information Collected</th>\n",
       "      <td>8</td>\n",
       "      <td>3</td>\n",
       "      <td>3</td>\n",
       "      <td>4</td>\n",
       "      <td>42</td>\n",
       "      <td>60</td>\n",
       "    </tr>\n",
       "    <tr>\n",
       "      <th>Initial Information Collected</th>\n",
       "      <td>1858</td>\n",
       "      <td>121</td>\n",
       "      <td>185</td>\n",
       "      <td>663</td>\n",
       "      <td>2358</td>\n",
       "      <td>5185</td>\n",
       "    </tr>\n",
       "    <tr>\n",
       "      <th>Inspections Added</th>\n",
       "      <td>0</td>\n",
       "      <td>0</td>\n",
       "      <td>1</td>\n",
       "      <td>0</td>\n",
       "      <td>2</td>\n",
       "      <td>3</td>\n",
       "    </tr>\n",
       "    <tr>\n",
       "      <th>Permit Closed</th>\n",
       "      <td>4905</td>\n",
       "      <td>124</td>\n",
       "      <td>408</td>\n",
       "      <td>1602</td>\n",
       "      <td>9368</td>\n",
       "      <td>16407</td>\n",
       "    </tr>\n",
       "    <tr>\n",
       "      <th>Permit Finaled</th>\n",
       "      <td>26</td>\n",
       "      <td>0</td>\n",
       "      <td>1</td>\n",
       "      <td>99</td>\n",
       "      <td>114</td>\n",
       "      <td>240</td>\n",
       "    </tr>\n",
       "    <tr>\n",
       "      <th>Permit Issued</th>\n",
       "      <td>1515</td>\n",
       "      <td>68</td>\n",
       "      <td>169</td>\n",
       "      <td>793</td>\n",
       "      <td>3507</td>\n",
       "      <td>6052</td>\n",
       "    </tr>\n",
       "    <tr>\n",
       "      <th>Reviews Completed</th>\n",
       "      <td>90</td>\n",
       "      <td>4</td>\n",
       "      <td>6</td>\n",
       "      <td>126</td>\n",
       "      <td>314</td>\n",
       "      <td>540</td>\n",
       "    </tr>\n",
       "    <tr>\n",
       "      <th>All</th>\n",
       "      <td>9364</td>\n",
       "      <td>367</td>\n",
       "      <td>857</td>\n",
       "      <td>3866</td>\n",
       "      <td>17511</td>\n",
       "      <td>31965</td>\n",
       "    </tr>\n",
       "  </tbody>\n",
       "</table>\n",
       "</div>"
      ],
      "text/plain": [
       "Category                       COMMERCIAL  INDUSTRIAL  INSTITUTIONAL  \\\n",
       "Status                                                                 \n",
       "AP Closed                              38           7              5   \n",
       "AP Finaled                              1           0              1   \n",
       "Application Accepted                  374          14             43   \n",
       "CANCELLED                             530          25             35   \n",
       "Cert of Occupancy Authorized           19           1              0   \n",
       "Information Collected                   8           3              3   \n",
       "Initial Information Collected        1858         121            185   \n",
       "Inspections Added                       0           0              1   \n",
       "Permit Closed                        4905         124            408   \n",
       "Permit Finaled                         26           0              1   \n",
       "Permit Issued                        1515          68            169   \n",
       "Reviews Completed                      90           4              6   \n",
       "All                                  9364         367            857   \n",
       "\n",
       "Category                       MULTIFAMILY  SINGLE FAMILY / DUPLEX    All  \n",
       "Status                                                                     \n",
       "AP Closed                               33                     395    478  \n",
       "AP Finaled                               0                       0      2  \n",
       "Application Accepted                   315                     776   1522  \n",
       "CANCELLED                              202                     633   1425  \n",
       "Cert of Occupancy Authorized            29                       2     51  \n",
       "Information Collected                    4                      42     60  \n",
       "Initial Information Collected          663                    2358   5185  \n",
       "Inspections Added                        0                       2      3  \n",
       "Permit Closed                         1602                    9368  16407  \n",
       "Permit Finaled                          99                     114    240  \n",
       "Permit Issued                          793                    3507   6052  \n",
       "Reviews Completed                      126                     314    540  \n",
       "All                                   3866                   17511  31965  "
      ]
     },
     "execution_count": 128,
     "metadata": {},
     "output_type": "execute_result"
    }
   ],
   "source": [
    "pd.crosstab(train['Status'],train['Category'], margins = True)\n",
    "##Permit Closed/Permit ISsued and Initial Information Collected contributes to the majority of the status in the population."
   ]
  },
  {
   "cell_type": "code",
   "execution_count": 29,
   "metadata": {},
   "outputs": [],
   "source": [
    "##So we have 5 classes in prediction"
   ]
  },
  {
   "cell_type": "code",
   "execution_count": 30,
   "metadata": {},
   "outputs": [],
   "source": [
    "##Final Observations from Exploratory data analysis\n",
    "##Loads of Missing values which needs to be cleaned to proceed\n",
    "## The varaibles Permit Type, Action Type,Work Type, status needs to be converted to Categorical\n",
    "##Some of the variables are not required as the Latitude and Longitude alreaday given so fields like Address,Location might not be needed as they attribute to same thing"
   ]
  },
  {
   "cell_type": "code",
   "execution_count": 31,
   "metadata": {},
   "outputs": [
    {
     "data": {
      "text/plain": [
       "'\\nApplication Date                    6939\\nIssue Date                         10624\\nFinal Date                         17851\\nExpiration Date                    10569\\n'"
      ]
     },
     "execution_count": 31,
     "metadata": {},
     "output_type": "execute_result"
    }
   ],
   "source": [
    "##There are lot of Missing values with dates \n",
    "'''\n",
    "Application Date                    6939\n",
    "Issue Date                         10624\n",
    "Final Date                         17851\n",
    "Expiration Date                    10569\n",
    "'''\n"
   ]
  },
  {
   "cell_type": "code",
   "execution_count": 32,
   "metadata": {},
   "outputs": [],
   "source": [
    "train_temp = train.copy()"
   ]
  },
  {
   "cell_type": "code",
   "execution_count": 33,
   "metadata": {},
   "outputs": [
    {
     "data": {
      "text/html": [
       "<div>\n",
       "<style scoped>\n",
       "    .dataframe tbody tr th:only-of-type {\n",
       "        vertical-align: middle;\n",
       "    }\n",
       "\n",
       "    .dataframe tbody tr th {\n",
       "        vertical-align: top;\n",
       "    }\n",
       "\n",
       "    .dataframe thead th {\n",
       "        text-align: right;\n",
       "    }\n",
       "</style>\n",
       "<table border=\"1\" class=\"dataframe\">\n",
       "  <thead>\n",
       "    <tr style=\"text-align: right;\">\n",
       "      <th></th>\n",
       "      <th>Application/Permit Number</th>\n",
       "      <th>Permit Type</th>\n",
       "      <th>Address</th>\n",
       "      <th>Description</th>\n",
       "      <th>Action Type</th>\n",
       "      <th>Work Type</th>\n",
       "      <th>Applicant Name</th>\n",
       "      <th>Application Date</th>\n",
       "      <th>Issue Date</th>\n",
       "      <th>Final Date</th>\n",
       "      <th>Expiration Date</th>\n",
       "      <th>Status</th>\n",
       "      <th>Contractor</th>\n",
       "      <th>Permit and Complaint Status URL</th>\n",
       "      <th>Master Use Permit</th>\n",
       "      <th>Latitude</th>\n",
       "      <th>Longitude</th>\n",
       "      <th>Location</th>\n",
       "      <th>Category</th>\n",
       "    </tr>\n",
       "  </thead>\n",
       "  <tbody>\n",
       "    <tr>\n",
       "      <th>0</th>\n",
       "      <td>6640280</td>\n",
       "      <td>Construction</td>\n",
       "      <td>1924 10TH AVE E</td>\n",
       "      <td>Alterations to single family residence, (porti...</td>\n",
       "      <td>ADD/ALT</td>\n",
       "      <td>No plan review</td>\n",
       "      <td>ZHANG, JERRY</td>\n",
       "      <td>2018-01-16T00:00:00</td>\n",
       "      <td>2018-01-16T00:00:00</td>\n",
       "      <td>NaN</td>\n",
       "      <td>2019-07-16T00:00:00</td>\n",
       "      <td>Permit Issued</td>\n",
       "      <td>NaN</td>\n",
       "      <td>{'url': 'http://web6.seattle.gov/dpd/PermitSta...</td>\n",
       "      <td>NaN</td>\n",
       "      <td>47.636732</td>\n",
       "      <td>-122.319828</td>\n",
       "      <td>{'latitude': '47.63673222', 'human_address': '...</td>\n",
       "      <td>SINGLE FAMILY / DUPLEX</td>\n",
       "    </tr>\n",
       "    <tr>\n",
       "      <th>1</th>\n",
       "      <td>6452959</td>\n",
       "      <td>Construction</td>\n",
       "      <td>9434 DELRIDGE WAY SW</td>\n",
       "      <td>Change use permit from restaurant to residenti...</td>\n",
       "      <td>ADD/ALT</td>\n",
       "      <td>Plan Review</td>\n",
       "      <td>MARTIN, TERRY</td>\n",
       "      <td>2015-02-13T00:00:00</td>\n",
       "      <td>2015-04-16T00:00:00</td>\n",
       "      <td>2016-11-15T00:00:00</td>\n",
       "      <td>2016-10-16T00:00:00</td>\n",
       "      <td>Permit Closed</td>\n",
       "      <td>NaN</td>\n",
       "      <td>{'url': 'http://web6.seattle.gov/dpd/PermitSta...</td>\n",
       "      <td>NaN</td>\n",
       "      <td>47.518298</td>\n",
       "      <td>-122.355555</td>\n",
       "      <td>{'latitude': '47.51829831', 'human_address': '...</td>\n",
       "      <td>COMMERCIAL</td>\n",
       "    </tr>\n",
       "    <tr>\n",
       "      <th>2</th>\n",
       "      <td>6435127</td>\n",
       "      <td>Construction</td>\n",
       "      <td>535 TERRY AVE N</td>\n",
       "      <td>Construct interior alterations to existing off...</td>\n",
       "      <td>ADD/ALT</td>\n",
       "      <td>No plan review</td>\n",
       "      <td>ALLEXSAHT, REBECCA</td>\n",
       "      <td>2014-09-04T00:00:00</td>\n",
       "      <td>2014-09-04T00:00:00</td>\n",
       "      <td>2015-11-20T00:00:00</td>\n",
       "      <td>2016-03-04T00:00:00</td>\n",
       "      <td>Permit Closed</td>\n",
       "      <td>IA/INTERIOR ARCHITECTS</td>\n",
       "      <td>{'url': 'http://web6.seattle.gov/dpd/PermitSta...</td>\n",
       "      <td>NaN</td>\n",
       "      <td>47.624025</td>\n",
       "      <td>-122.337567</td>\n",
       "      <td>{'latitude': '47.62402492', 'human_address': '...</td>\n",
       "      <td>COMMERCIAL</td>\n",
       "    </tr>\n",
       "    <tr>\n",
       "      <th>3</th>\n",
       "      <td>6620870</td>\n",
       "      <td>Demolition</td>\n",
       "      <td>830 4TH AVE S</td>\n",
       "      <td>need to remove a fire escape that is not part ...</td>\n",
       "      <td>DEMOLITION</td>\n",
       "      <td>Plan Review</td>\n",
       "      <td>JUNK, FRANK</td>\n",
       "      <td>NaN</td>\n",
       "      <td>NaN</td>\n",
       "      <td>NaN</td>\n",
       "      <td>NaN</td>\n",
       "      <td>Initial Information Collected</td>\n",
       "      <td>NaN</td>\n",
       "      <td>{'url': 'http://web6.seattle.gov/dpd/PermitSta...</td>\n",
       "      <td>NaN</td>\n",
       "      <td>47.595020</td>\n",
       "      <td>-122.328530</td>\n",
       "      <td>{'latitude': '47.59502036', 'human_address': '...</td>\n",
       "      <td>COMMERCIAL</td>\n",
       "    </tr>\n",
       "    <tr>\n",
       "      <th>4</th>\n",
       "      <td>6363778</td>\n",
       "      <td>Construction</td>\n",
       "      <td>805 NE 106TH ST</td>\n",
       "      <td>Channel modification to Thornton Creek, stream...</td>\n",
       "      <td>ADD/ALT</td>\n",
       "      <td>Plan Review</td>\n",
       "      <td>DANIEL, MARK</td>\n",
       "      <td>2013-05-02T00:00:00</td>\n",
       "      <td>2013-12-19T00:00:00</td>\n",
       "      <td>2015-05-14T00:00:00</td>\n",
       "      <td>2015-06-19T00:00:00</td>\n",
       "      <td>Permit Closed</td>\n",
       "      <td>SEATTLE PARKS DEPT</td>\n",
       "      <td>{'url': 'http://web6.seattle.gov/dpd/PermitSta...</td>\n",
       "      <td>NaN</td>\n",
       "      <td>47.705686</td>\n",
       "      <td>-122.320134</td>\n",
       "      <td>{'latitude': '47.70568601', 'human_address': '...</td>\n",
       "      <td>COMMERCIAL</td>\n",
       "    </tr>\n",
       "  </tbody>\n",
       "</table>\n",
       "</div>"
      ],
      "text/plain": [
       "   Application/Permit Number   Permit Type               Address  \\\n",
       "0                    6640280  Construction       1924 10TH AVE E   \n",
       "1                    6452959  Construction  9434 DELRIDGE WAY SW   \n",
       "2                    6435127  Construction       535 TERRY AVE N   \n",
       "3                    6620870    Demolition         830 4TH AVE S   \n",
       "4                    6363778  Construction       805 NE 106TH ST   \n",
       "\n",
       "                                         Description Action Type  \\\n",
       "0  Alterations to single family residence, (porti...     ADD/ALT   \n",
       "1  Change use permit from restaurant to residenti...     ADD/ALT   \n",
       "2  Construct interior alterations to existing off...     ADD/ALT   \n",
       "3  need to remove a fire escape that is not part ...  DEMOLITION   \n",
       "4  Channel modification to Thornton Creek, stream...     ADD/ALT   \n",
       "\n",
       "        Work Type      Applicant Name     Application Date  \\\n",
       "0  No plan review        ZHANG, JERRY  2018-01-16T00:00:00   \n",
       "1     Plan Review       MARTIN, TERRY  2015-02-13T00:00:00   \n",
       "2  No plan review  ALLEXSAHT, REBECCA  2014-09-04T00:00:00   \n",
       "3     Plan Review         JUNK, FRANK                  NaN   \n",
       "4     Plan Review        DANIEL, MARK  2013-05-02T00:00:00   \n",
       "\n",
       "            Issue Date           Final Date      Expiration Date  \\\n",
       "0  2018-01-16T00:00:00                  NaN  2019-07-16T00:00:00   \n",
       "1  2015-04-16T00:00:00  2016-11-15T00:00:00  2016-10-16T00:00:00   \n",
       "2  2014-09-04T00:00:00  2015-11-20T00:00:00  2016-03-04T00:00:00   \n",
       "3                  NaN                  NaN                  NaN   \n",
       "4  2013-12-19T00:00:00  2015-05-14T00:00:00  2015-06-19T00:00:00   \n",
       "\n",
       "                          Status              Contractor  \\\n",
       "0                  Permit Issued                     NaN   \n",
       "1                  Permit Closed                     NaN   \n",
       "2                  Permit Closed  IA/INTERIOR ARCHITECTS   \n",
       "3  Initial Information Collected                     NaN   \n",
       "4                  Permit Closed      SEATTLE PARKS DEPT   \n",
       "\n",
       "                     Permit and Complaint Status URL  Master Use Permit  \\\n",
       "0  {'url': 'http://web6.seattle.gov/dpd/PermitSta...                NaN   \n",
       "1  {'url': 'http://web6.seattle.gov/dpd/PermitSta...                NaN   \n",
       "2  {'url': 'http://web6.seattle.gov/dpd/PermitSta...                NaN   \n",
       "3  {'url': 'http://web6.seattle.gov/dpd/PermitSta...                NaN   \n",
       "4  {'url': 'http://web6.seattle.gov/dpd/PermitSta...                NaN   \n",
       "\n",
       "    Latitude   Longitude                                           Location  \\\n",
       "0  47.636732 -122.319828  {'latitude': '47.63673222', 'human_address': '...   \n",
       "1  47.518298 -122.355555  {'latitude': '47.51829831', 'human_address': '...   \n",
       "2  47.624025 -122.337567  {'latitude': '47.62402492', 'human_address': '...   \n",
       "3  47.595020 -122.328530  {'latitude': '47.59502036', 'human_address': '...   \n",
       "4  47.705686 -122.320134  {'latitude': '47.70568601', 'human_address': '...   \n",
       "\n",
       "                 Category  \n",
       "0  SINGLE FAMILY / DUPLEX  \n",
       "1              COMMERCIAL  \n",
       "2              COMMERCIAL  \n",
       "3              COMMERCIAL  \n",
       "4              COMMERCIAL  "
      ]
     },
     "execution_count": 33,
     "metadata": {},
     "output_type": "execute_result"
    }
   ],
   "source": [
    "train_temp.head()"
   ]
  },
  {
   "cell_type": "code",
   "execution_count": 34,
   "metadata": {},
   "outputs": [
    {
     "data": {
      "text/plain": [
       "Application/Permit Number            int64\n",
       "Permit Type                         object\n",
       "Address                             object\n",
       "Description                         object\n",
       "Action Type                         object\n",
       "Work Type                           object\n",
       "Applicant Name                      object\n",
       "Application Date                    object\n",
       "Issue Date                          object\n",
       "Final Date                          object\n",
       "Expiration Date                     object\n",
       "Status                              object\n",
       "Contractor                          object\n",
       "Permit and Complaint Status URL     object\n",
       "Master Use Permit                  float64\n",
       "Latitude                           float64\n",
       "Longitude                          float64\n",
       "Location                            object\n",
       "Category                            object\n",
       "dtype: object"
      ]
     },
     "execution_count": 34,
     "metadata": {},
     "output_type": "execute_result"
    }
   ],
   "source": [
    "train_temp.dtypes\n"
   ]
  },
  {
   "cell_type": "code",
   "execution_count": 35,
   "metadata": {},
   "outputs": [],
   "source": [
    "from datetime import datetime\n",
    "#from dateutil.parser import parse\n",
    "train_temp['Wait Time'] = pd.to_datetime(train_temp['Issue Date']) - pd.to_datetime(train_temp['Application Date'])\n",
    "\n"
   ]
  },
  {
   "cell_type": "code",
   "execution_count": 36,
   "metadata": {
    "scrolled": true
   },
   "outputs": [
    {
     "data": {
      "text/html": [
       "<div>\n",
       "<style scoped>\n",
       "    .dataframe tbody tr th:only-of-type {\n",
       "        vertical-align: middle;\n",
       "    }\n",
       "\n",
       "    .dataframe tbody tr th {\n",
       "        vertical-align: top;\n",
       "    }\n",
       "\n",
       "    .dataframe thead th {\n",
       "        text-align: right;\n",
       "    }\n",
       "</style>\n",
       "<table border=\"1\" class=\"dataframe\">\n",
       "  <thead>\n",
       "    <tr style=\"text-align: right;\">\n",
       "      <th></th>\n",
       "      <th>Application/Permit Number</th>\n",
       "      <th>Permit Type</th>\n",
       "      <th>Address</th>\n",
       "      <th>Description</th>\n",
       "      <th>Action Type</th>\n",
       "      <th>Work Type</th>\n",
       "      <th>Applicant Name</th>\n",
       "      <th>Application Date</th>\n",
       "      <th>Issue Date</th>\n",
       "      <th>Final Date</th>\n",
       "      <th>Expiration Date</th>\n",
       "      <th>Status</th>\n",
       "      <th>Contractor</th>\n",
       "      <th>Permit and Complaint Status URL</th>\n",
       "      <th>Master Use Permit</th>\n",
       "      <th>Latitude</th>\n",
       "      <th>Longitude</th>\n",
       "      <th>Location</th>\n",
       "      <th>Category</th>\n",
       "      <th>Wait Time</th>\n",
       "    </tr>\n",
       "  </thead>\n",
       "  <tbody>\n",
       "    <tr>\n",
       "      <th>0</th>\n",
       "      <td>6640280</td>\n",
       "      <td>Construction</td>\n",
       "      <td>1924 10TH AVE E</td>\n",
       "      <td>Alterations to single family residence, (porti...</td>\n",
       "      <td>ADD/ALT</td>\n",
       "      <td>No plan review</td>\n",
       "      <td>ZHANG, JERRY</td>\n",
       "      <td>2018-01-16T00:00:00</td>\n",
       "      <td>2018-01-16T00:00:00</td>\n",
       "      <td>NaN</td>\n",
       "      <td>2019-07-16T00:00:00</td>\n",
       "      <td>Permit Issued</td>\n",
       "      <td>NaN</td>\n",
       "      <td>{'url': 'http://web6.seattle.gov/dpd/PermitSta...</td>\n",
       "      <td>NaN</td>\n",
       "      <td>47.636732</td>\n",
       "      <td>-122.319828</td>\n",
       "      <td>{'latitude': '47.63673222', 'human_address': '...</td>\n",
       "      <td>SINGLE FAMILY / DUPLEX</td>\n",
       "      <td>0 days</td>\n",
       "    </tr>\n",
       "    <tr>\n",
       "      <th>1</th>\n",
       "      <td>6452959</td>\n",
       "      <td>Construction</td>\n",
       "      <td>9434 DELRIDGE WAY SW</td>\n",
       "      <td>Change use permit from restaurant to residenti...</td>\n",
       "      <td>ADD/ALT</td>\n",
       "      <td>Plan Review</td>\n",
       "      <td>MARTIN, TERRY</td>\n",
       "      <td>2015-02-13T00:00:00</td>\n",
       "      <td>2015-04-16T00:00:00</td>\n",
       "      <td>2016-11-15T00:00:00</td>\n",
       "      <td>2016-10-16T00:00:00</td>\n",
       "      <td>Permit Closed</td>\n",
       "      <td>NaN</td>\n",
       "      <td>{'url': 'http://web6.seattle.gov/dpd/PermitSta...</td>\n",
       "      <td>NaN</td>\n",
       "      <td>47.518298</td>\n",
       "      <td>-122.355555</td>\n",
       "      <td>{'latitude': '47.51829831', 'human_address': '...</td>\n",
       "      <td>COMMERCIAL</td>\n",
       "      <td>62 days</td>\n",
       "    </tr>\n",
       "    <tr>\n",
       "      <th>2</th>\n",
       "      <td>6435127</td>\n",
       "      <td>Construction</td>\n",
       "      <td>535 TERRY AVE N</td>\n",
       "      <td>Construct interior alterations to existing off...</td>\n",
       "      <td>ADD/ALT</td>\n",
       "      <td>No plan review</td>\n",
       "      <td>ALLEXSAHT, REBECCA</td>\n",
       "      <td>2014-09-04T00:00:00</td>\n",
       "      <td>2014-09-04T00:00:00</td>\n",
       "      <td>2015-11-20T00:00:00</td>\n",
       "      <td>2016-03-04T00:00:00</td>\n",
       "      <td>Permit Closed</td>\n",
       "      <td>IA/INTERIOR ARCHITECTS</td>\n",
       "      <td>{'url': 'http://web6.seattle.gov/dpd/PermitSta...</td>\n",
       "      <td>NaN</td>\n",
       "      <td>47.624025</td>\n",
       "      <td>-122.337567</td>\n",
       "      <td>{'latitude': '47.62402492', 'human_address': '...</td>\n",
       "      <td>COMMERCIAL</td>\n",
       "      <td>0 days</td>\n",
       "    </tr>\n",
       "    <tr>\n",
       "      <th>3</th>\n",
       "      <td>6620870</td>\n",
       "      <td>Demolition</td>\n",
       "      <td>830 4TH AVE S</td>\n",
       "      <td>need to remove a fire escape that is not part ...</td>\n",
       "      <td>DEMOLITION</td>\n",
       "      <td>Plan Review</td>\n",
       "      <td>JUNK, FRANK</td>\n",
       "      <td>NaN</td>\n",
       "      <td>NaN</td>\n",
       "      <td>NaN</td>\n",
       "      <td>NaN</td>\n",
       "      <td>Initial Information Collected</td>\n",
       "      <td>NaN</td>\n",
       "      <td>{'url': 'http://web6.seattle.gov/dpd/PermitSta...</td>\n",
       "      <td>NaN</td>\n",
       "      <td>47.595020</td>\n",
       "      <td>-122.328530</td>\n",
       "      <td>{'latitude': '47.59502036', 'human_address': '...</td>\n",
       "      <td>COMMERCIAL</td>\n",
       "      <td>NaT</td>\n",
       "    </tr>\n",
       "    <tr>\n",
       "      <th>4</th>\n",
       "      <td>6363778</td>\n",
       "      <td>Construction</td>\n",
       "      <td>805 NE 106TH ST</td>\n",
       "      <td>Channel modification to Thornton Creek, stream...</td>\n",
       "      <td>ADD/ALT</td>\n",
       "      <td>Plan Review</td>\n",
       "      <td>DANIEL, MARK</td>\n",
       "      <td>2013-05-02T00:00:00</td>\n",
       "      <td>2013-12-19T00:00:00</td>\n",
       "      <td>2015-05-14T00:00:00</td>\n",
       "      <td>2015-06-19T00:00:00</td>\n",
       "      <td>Permit Closed</td>\n",
       "      <td>SEATTLE PARKS DEPT</td>\n",
       "      <td>{'url': 'http://web6.seattle.gov/dpd/PermitSta...</td>\n",
       "      <td>NaN</td>\n",
       "      <td>47.705686</td>\n",
       "      <td>-122.320134</td>\n",
       "      <td>{'latitude': '47.70568601', 'human_address': '...</td>\n",
       "      <td>COMMERCIAL</td>\n",
       "      <td>231 days</td>\n",
       "    </tr>\n",
       "  </tbody>\n",
       "</table>\n",
       "</div>"
      ],
      "text/plain": [
       "   Application/Permit Number   Permit Type               Address  \\\n",
       "0                    6640280  Construction       1924 10TH AVE E   \n",
       "1                    6452959  Construction  9434 DELRIDGE WAY SW   \n",
       "2                    6435127  Construction       535 TERRY AVE N   \n",
       "3                    6620870    Demolition         830 4TH AVE S   \n",
       "4                    6363778  Construction       805 NE 106TH ST   \n",
       "\n",
       "                                         Description Action Type  \\\n",
       "0  Alterations to single family residence, (porti...     ADD/ALT   \n",
       "1  Change use permit from restaurant to residenti...     ADD/ALT   \n",
       "2  Construct interior alterations to existing off...     ADD/ALT   \n",
       "3  need to remove a fire escape that is not part ...  DEMOLITION   \n",
       "4  Channel modification to Thornton Creek, stream...     ADD/ALT   \n",
       "\n",
       "        Work Type      Applicant Name     Application Date  \\\n",
       "0  No plan review        ZHANG, JERRY  2018-01-16T00:00:00   \n",
       "1     Plan Review       MARTIN, TERRY  2015-02-13T00:00:00   \n",
       "2  No plan review  ALLEXSAHT, REBECCA  2014-09-04T00:00:00   \n",
       "3     Plan Review         JUNK, FRANK                  NaN   \n",
       "4     Plan Review        DANIEL, MARK  2013-05-02T00:00:00   \n",
       "\n",
       "            Issue Date           Final Date      Expiration Date  \\\n",
       "0  2018-01-16T00:00:00                  NaN  2019-07-16T00:00:00   \n",
       "1  2015-04-16T00:00:00  2016-11-15T00:00:00  2016-10-16T00:00:00   \n",
       "2  2014-09-04T00:00:00  2015-11-20T00:00:00  2016-03-04T00:00:00   \n",
       "3                  NaN                  NaN                  NaN   \n",
       "4  2013-12-19T00:00:00  2015-05-14T00:00:00  2015-06-19T00:00:00   \n",
       "\n",
       "                          Status              Contractor  \\\n",
       "0                  Permit Issued                     NaN   \n",
       "1                  Permit Closed                     NaN   \n",
       "2                  Permit Closed  IA/INTERIOR ARCHITECTS   \n",
       "3  Initial Information Collected                     NaN   \n",
       "4                  Permit Closed      SEATTLE PARKS DEPT   \n",
       "\n",
       "                     Permit and Complaint Status URL  Master Use Permit  \\\n",
       "0  {'url': 'http://web6.seattle.gov/dpd/PermitSta...                NaN   \n",
       "1  {'url': 'http://web6.seattle.gov/dpd/PermitSta...                NaN   \n",
       "2  {'url': 'http://web6.seattle.gov/dpd/PermitSta...                NaN   \n",
       "3  {'url': 'http://web6.seattle.gov/dpd/PermitSta...                NaN   \n",
       "4  {'url': 'http://web6.seattle.gov/dpd/PermitSta...                NaN   \n",
       "\n",
       "    Latitude   Longitude                                           Location  \\\n",
       "0  47.636732 -122.319828  {'latitude': '47.63673222', 'human_address': '...   \n",
       "1  47.518298 -122.355555  {'latitude': '47.51829831', 'human_address': '...   \n",
       "2  47.624025 -122.337567  {'latitude': '47.62402492', 'human_address': '...   \n",
       "3  47.595020 -122.328530  {'latitude': '47.59502036', 'human_address': '...   \n",
       "4  47.705686 -122.320134  {'latitude': '47.70568601', 'human_address': '...   \n",
       "\n",
       "                 Category Wait Time  \n",
       "0  SINGLE FAMILY / DUPLEX    0 days  \n",
       "1              COMMERCIAL   62 days  \n",
       "2              COMMERCIAL    0 days  \n",
       "3              COMMERCIAL       NaT  \n",
       "4              COMMERCIAL  231 days  "
      ]
     },
     "execution_count": 36,
     "metadata": {},
     "output_type": "execute_result"
    }
   ],
   "source": [
    "train_temp.head()"
   ]
  },
  {
   "cell_type": "code",
   "execution_count": 37,
   "metadata": {},
   "outputs": [],
   "source": [
    "train_temp['Wait_final'] = pd.to_datetime(train_temp['Final Date']) - pd.to_datetime(train_temp['Application Date'])"
   ]
  },
  {
   "cell_type": "code",
   "execution_count": 38,
   "metadata": {},
   "outputs": [],
   "source": [
    "train_temp['Wait_expire'] = pd.to_datetime(train_temp['Expiration Date']) - pd.to_datetime(train_temp['Application Date'])"
   ]
  },
  {
   "cell_type": "code",
   "execution_count": 39,
   "metadata": {},
   "outputs": [
    {
     "name": "stdout",
     "output_type": "stream",
     "text": [
      "   Application/Permit Number   Permit Type               Address  \\\n",
      "0                    6640280  Construction       1924 10TH AVE E   \n",
      "1                    6452959  Construction  9434 DELRIDGE WAY SW   \n",
      "2                    6435127  Construction       535 TERRY AVE N   \n",
      "3                    6620870    Demolition         830 4TH AVE S   \n",
      "4                    6363778  Construction       805 NE 106TH ST   \n",
      "\n",
      "                                         Description Action Type  \\\n",
      "0  Alterations to single family residence, (porti...     ADD/ALT   \n",
      "1  Change use permit from restaurant to residenti...     ADD/ALT   \n",
      "2  Construct interior alterations to existing off...     ADD/ALT   \n",
      "3  need to remove a fire escape that is not part ...  DEMOLITION   \n",
      "4  Channel modification to Thornton Creek, stream...     ADD/ALT   \n",
      "\n",
      "        Work Type      Applicant Name     Application Date  \\\n",
      "0  No plan review        ZHANG, JERRY  2018-01-16T00:00:00   \n",
      "1     Plan Review       MARTIN, TERRY  2015-02-13T00:00:00   \n",
      "2  No plan review  ALLEXSAHT, REBECCA  2014-09-04T00:00:00   \n",
      "3     Plan Review         JUNK, FRANK                  NaN   \n",
      "4     Plan Review        DANIEL, MARK  2013-05-02T00:00:00   \n",
      "\n",
      "            Issue Date           Final Date     ...      \\\n",
      "0  2018-01-16T00:00:00                  NaN     ...       \n",
      "1  2015-04-16T00:00:00  2016-11-15T00:00:00     ...       \n",
      "2  2014-09-04T00:00:00  2015-11-20T00:00:00     ...       \n",
      "3                  NaN                  NaN     ...       \n",
      "4  2013-12-19T00:00:00  2015-05-14T00:00:00     ...       \n",
      "\n",
      "               Contractor                    Permit and Complaint Status URL  \\\n",
      "0                     NaN  {'url': 'http://web6.seattle.gov/dpd/PermitSta...   \n",
      "1                     NaN  {'url': 'http://web6.seattle.gov/dpd/PermitSta...   \n",
      "2  IA/INTERIOR ARCHITECTS  {'url': 'http://web6.seattle.gov/dpd/PermitSta...   \n",
      "3                     NaN  {'url': 'http://web6.seattle.gov/dpd/PermitSta...   \n",
      "4      SEATTLE PARKS DEPT  {'url': 'http://web6.seattle.gov/dpd/PermitSta...   \n",
      "\n",
      "  Master Use Permit   Latitude   Longitude  \\\n",
      "0               NaN  47.636732 -122.319828   \n",
      "1               NaN  47.518298 -122.355555   \n",
      "2               NaN  47.624025 -122.337567   \n",
      "3               NaN  47.595020 -122.328530   \n",
      "4               NaN  47.705686 -122.320134   \n",
      "\n",
      "                                            Location                Category  \\\n",
      "0  {'latitude': '47.63673222', 'human_address': '...  SINGLE FAMILY / DUPLEX   \n",
      "1  {'latitude': '47.51829831', 'human_address': '...              COMMERCIAL   \n",
      "2  {'latitude': '47.62402492', 'human_address': '...              COMMERCIAL   \n",
      "3  {'latitude': '47.59502036', 'human_address': '...              COMMERCIAL   \n",
      "4  {'latitude': '47.70568601', 'human_address': '...              COMMERCIAL   \n",
      "\n",
      "  Wait Time Wait_final Wait_expire  \n",
      "0    0 days        NaT    546 days  \n",
      "1   62 days   641 days    611 days  \n",
      "2    0 days   442 days    547 days  \n",
      "3       NaT        NaT         NaT  \n",
      "4  231 days   742 days    778 days  \n",
      "\n",
      "[5 rows x 22 columns]\n"
     ]
    }
   ],
   "source": [
    "print(train_temp.head())"
   ]
  },
  {
   "cell_type": "code",
   "execution_count": 40,
   "metadata": {},
   "outputs": [],
   "source": [
    "###Dropping few columns which are either not required or duplicated. For example Latitude and Longitude and Address /Location are correlated.So remove Address and Location. \n",
    "###The contractor are different for different construtions so it is not needed for the final model\n",
    "###Master use Permit is also not limited and hence can be dropped\n",
    "train_temp.drop(['Address','Applicant Name','Application Date','Final Date', 'Expiration Date', 'Contractor', 'Permit and Complaint Status URL','Master Use Permit','Location'],axis=1,inplace=True)"
   ]
  },
  {
   "cell_type": "code",
   "execution_count": 41,
   "metadata": {},
   "outputs": [
    {
     "name": "stdout",
     "output_type": "stream",
     "text": [
      "   Application/Permit Number   Permit Type  \\\n",
      "0                    6640280  Construction   \n",
      "1                    6452959  Construction   \n",
      "2                    6435127  Construction   \n",
      "3                    6620870    Demolition   \n",
      "4                    6363778  Construction   \n",
      "\n",
      "                                         Description Action Type  \\\n",
      "0  Alterations to single family residence, (porti...     ADD/ALT   \n",
      "1  Change use permit from restaurant to residenti...     ADD/ALT   \n",
      "2  Construct interior alterations to existing off...     ADD/ALT   \n",
      "3  need to remove a fire escape that is not part ...  DEMOLITION   \n",
      "4  Channel modification to Thornton Creek, stream...     ADD/ALT   \n",
      "\n",
      "        Work Type           Issue Date                         Status  \\\n",
      "0  No plan review  2018-01-16T00:00:00                  Permit Issued   \n",
      "1     Plan Review  2015-04-16T00:00:00                  Permit Closed   \n",
      "2  No plan review  2014-09-04T00:00:00                  Permit Closed   \n",
      "3     Plan Review                  NaN  Initial Information Collected   \n",
      "4     Plan Review  2013-12-19T00:00:00                  Permit Closed   \n",
      "\n",
      "    Latitude   Longitude                Category Wait Time Wait_final  \\\n",
      "0  47.636732 -122.319828  SINGLE FAMILY / DUPLEX    0 days        NaT   \n",
      "1  47.518298 -122.355555              COMMERCIAL   62 days   641 days   \n",
      "2  47.624025 -122.337567              COMMERCIAL    0 days   442 days   \n",
      "3  47.595020 -122.328530              COMMERCIAL       NaT        NaT   \n",
      "4  47.705686 -122.320134              COMMERCIAL  231 days   742 days   \n",
      "\n",
      "  Wait_expire  \n",
      "0    546 days  \n",
      "1    611 days  \n",
      "2    547 days  \n",
      "3         NaT  \n",
      "4    778 days  \n"
     ]
    }
   ],
   "source": [
    "print(train_temp.head())"
   ]
  },
  {
   "cell_type": "code",
   "execution_count": 42,
   "metadata": {},
   "outputs": [
    {
     "data": {
      "text/plain": [
       "Application/Permit Number        0\n",
       "Permit Type                      0\n",
       "Description                     10\n",
       "Action Type                    779\n",
       "Work Type                        0\n",
       "Issue Date                   10624\n",
       "Status                        1574\n",
       "Latitude                        21\n",
       "Longitude                       21\n",
       "Category                         0\n",
       "Wait Time                    10624\n",
       "Wait_final                   17851\n",
       "Wait_expire                  10624\n",
       "dtype: int64"
      ]
     },
     "execution_count": 42,
     "metadata": {},
     "output_type": "execute_result"
    }
   ],
   "source": [
    "###check the Null values now\n",
    "train_temp.apply(lambda x: sum(x.isnull()))"
   ]
  },
  {
   "cell_type": "code",
   "execution_count": 43,
   "metadata": {},
   "outputs": [
    {
     "name": "stdout",
     "output_type": "stream",
     "text": [
      "ADD/ALT                          21382\n",
      "NEW                               6864\n",
      "DEMOLITION                        2593\n",
      "ALTER                              933\n",
      "TREE/VEGETATION MAINT/RESTORE      408\n",
      "GRADING                            194\n",
      "TEMP                               170\n",
      "NO CONSTRUCTION                    110\n",
      "CURB CUT                            74\n",
      "SHORELINE EXEMPTION ONLY            10\n",
      "RELOCATION                           9\n",
      "DECONSTRUCTION                       5\n",
      "SITE MONITORING ONLY                 3\n",
      "FLOODPLAIN LICENSE ONLY              3\n",
      "TREE PROTECTION EXEMPTION            1\n",
      "DRAINAGE APPROVAL                    1\n",
      "Name: Action Type, dtype: int64\n"
     ]
    }
   ],
   "source": [
    "print(train_temp['Action Type'].value_counts())\n"
   ]
  },
  {
   "cell_type": "code",
   "execution_count": 44,
   "metadata": {},
   "outputs": [],
   "source": [
    "##Max occurence is ADD/ALT , doing data imputation to missing values of Action Type as ADD/ALT\n",
    "train_temp['Action Type'] = train_temp['Action Type'].fillna(train_temp['Action Type'].value_counts().index[0])"
   ]
  },
  {
   "cell_type": "code",
   "execution_count": 45,
   "metadata": {},
   "outputs": [
    {
     "data": {
      "text/plain": [
       "0"
      ]
     },
     "execution_count": 45,
     "metadata": {},
     "output_type": "execute_result"
    }
   ],
   "source": [
    "train_temp['Action Type'].isnull().sum()"
   ]
  },
  {
   "cell_type": "code",
   "execution_count": 46,
   "metadata": {},
   "outputs": [
    {
     "name": "stdout",
     "output_type": "stream",
     "text": [
      "ADD/ALT                          22161\n",
      "NEW                               6864\n",
      "DEMOLITION                        2593\n",
      "ALTER                              933\n",
      "TREE/VEGETATION MAINT/RESTORE      408\n",
      "GRADING                            194\n",
      "TEMP                               170\n",
      "NO CONSTRUCTION                    110\n",
      "CURB CUT                            74\n",
      "SHORELINE EXEMPTION ONLY            10\n",
      "RELOCATION                           9\n",
      "DECONSTRUCTION                       5\n",
      "SITE MONITORING ONLY                 3\n",
      "FLOODPLAIN LICENSE ONLY              3\n",
      "TREE PROTECTION EXEMPTION            1\n",
      "DRAINAGE APPROVAL                    1\n",
      "Name: Action Type, dtype: int64\n"
     ]
    }
   ],
   "source": [
    "print(train_temp['Action Type'].value_counts())\n",
    "##Missing values from Action Type got cleaned"
   ]
  },
  {
   "cell_type": "code",
   "execution_count": 47,
   "metadata": {},
   "outputs": [],
   "source": [
    "##Issue Date needs to be dropped as not needed and missed in previous Drop\n",
    "train_temp.drop(['Issue Date'],axis=1,inplace=True)"
   ]
  },
  {
   "cell_type": "code",
   "execution_count": 48,
   "metadata": {},
   "outputs": [
    {
     "name": "stdout",
     "output_type": "stream",
     "text": [
      "   Application/Permit Number   Permit Type  \\\n",
      "0                    6640280  Construction   \n",
      "1                    6452959  Construction   \n",
      "2                    6435127  Construction   \n",
      "3                    6620870    Demolition   \n",
      "4                    6363778  Construction   \n",
      "\n",
      "                                         Description Action Type  \\\n",
      "0  Alterations to single family residence, (porti...     ADD/ALT   \n",
      "1  Change use permit from restaurant to residenti...     ADD/ALT   \n",
      "2  Construct interior alterations to existing off...     ADD/ALT   \n",
      "3  need to remove a fire escape that is not part ...  DEMOLITION   \n",
      "4  Channel modification to Thornton Creek, stream...     ADD/ALT   \n",
      "\n",
      "        Work Type                         Status   Latitude   Longitude  \\\n",
      "0  No plan review                  Permit Issued  47.636732 -122.319828   \n",
      "1     Plan Review                  Permit Closed  47.518298 -122.355555   \n",
      "2  No plan review                  Permit Closed  47.624025 -122.337567   \n",
      "3     Plan Review  Initial Information Collected  47.595020 -122.328530   \n",
      "4     Plan Review                  Permit Closed  47.705686 -122.320134   \n",
      "\n",
      "                 Category Wait Time Wait_final Wait_expire  \n",
      "0  SINGLE FAMILY / DUPLEX    0 days        NaT    546 days  \n",
      "1              COMMERCIAL   62 days   641 days    611 days  \n",
      "2              COMMERCIAL    0 days   442 days    547 days  \n",
      "3              COMMERCIAL       NaT        NaT         NaT  \n",
      "4              COMMERCIAL  231 days   742 days    778 days  \n"
     ]
    }
   ],
   "source": [
    "print(train_temp.head())"
   ]
  },
  {
   "cell_type": "code",
   "execution_count": 49,
   "metadata": {},
   "outputs": [
    {
     "name": "stdout",
     "output_type": "stream",
     "text": [
      "Permit Closed                    16407\n",
      "Permit Issued                     6052\n",
      "Initial Information Collected     5185\n",
      "Application Accepted              1522\n",
      "CANCELLED                         1425\n",
      "Reviews Completed                  540\n",
      "AP Closed                          478\n",
      "Permit Finaled                     240\n",
      "Information Collected               60\n",
      "Cert of Occupancy Authorized        51\n",
      "Inspections Added                    3\n",
      "AP Finaled                           2\n",
      "Name: Status, dtype: int64\n"
     ]
    }
   ],
   "source": [
    "print(train_temp['Status'].value_counts())"
   ]
  },
  {
   "cell_type": "code",
   "execution_count": 50,
   "metadata": {},
   "outputs": [],
   "source": [
    "##Max occurence is Permit Closed , doing data imputation to missing values as max occured value\n",
    "train_temp['Status'] = train_temp['Status'].fillna(train_temp['Status'].value_counts().index[0])"
   ]
  },
  {
   "cell_type": "code",
   "execution_count": 51,
   "metadata": {},
   "outputs": [
    {
     "data": {
      "text/plain": [
       "0"
      ]
     },
     "execution_count": 51,
     "metadata": {},
     "output_type": "execute_result"
    }
   ],
   "source": [
    "train_temp['Status'].isnull().sum()\n",
    "##Cleaning done for Status"
   ]
  },
  {
   "cell_type": "code",
   "execution_count": 52,
   "metadata": {},
   "outputs": [
    {
     "name": "stdout",
     "output_type": "stream",
     "text": [
      "<class 'pandas.core.series.Series'>\n"
     ]
    }
   ],
   "source": [
    "##Based on Permit  type imputing the values Wait Time Wait_final Wait_expire\n",
    "print(type(train_temp['Wait Time']))"
   ]
  },
  {
   "cell_type": "code",
   "execution_count": 53,
   "metadata": {},
   "outputs": [
    {
     "name": "stdout",
     "output_type": "stream",
     "text": [
      "0     0 days\n",
      "1    62 days\n",
      "2     0 days\n",
      "3        NaT\n",
      "4   231 days\n",
      "Name: Wait Time, dtype: timedelta64[ns]\n"
     ]
    }
   ],
   "source": [
    "pd.to_numeric(train_temp['Wait Time'], errors='coerce')\n",
    "print(train_temp['Wait Time'].head())\n"
   ]
  },
  {
   "cell_type": "code",
   "execution_count": 54,
   "metadata": {},
   "outputs": [],
   "source": [
    "train_temp['Wait Time'] = train_temp['Wait Time'].dt.days"
   ]
  },
  {
   "cell_type": "code",
   "execution_count": 55,
   "metadata": {},
   "outputs": [
    {
     "data": {
      "text/plain": [
       "0      0.0\n",
       "1     62.0\n",
       "2      0.0\n",
       "3      NaN\n",
       "4    231.0\n",
       "Name: Wait Time, dtype: float64"
      ]
     },
     "execution_count": 55,
     "metadata": {},
     "output_type": "execute_result"
    }
   ],
   "source": [
    "train_temp['Wait Time'].head()"
   ]
  },
  {
   "cell_type": "code",
   "execution_count": 56,
   "metadata": {},
   "outputs": [],
   "source": [
    "##converting rest to float as well \n",
    "train_temp['Wait_final'] = train_temp['Wait_final'].dt.days\n",
    "train_temp['Wait_expire'] = train_temp['Wait_expire'].dt.days"
   ]
  },
  {
   "cell_type": "code",
   "execution_count": 57,
   "metadata": {},
   "outputs": [
    {
     "data": {
      "text/plain": [
       "Permit Type\n",
       "Construction         73.744069\n",
       "Demolition          129.244968\n",
       "Site Development     58.369565\n",
       "Name: Wait Time, dtype: float64"
      ]
     },
     "execution_count": 57,
     "metadata": {},
     "output_type": "execute_result"
    }
   ],
   "source": [
    "Wait_Time_mean = train_temp.groupby('Permit Type')['Wait Time'].mean()\n",
    "Wait_Time_mean"
   ]
  },
  {
   "cell_type": "code",
   "execution_count": 58,
   "metadata": {},
   "outputs": [],
   "source": [
    "##Data imputation for Wait time \n",
    "miss_data_wait = train_temp['Wait Time'].isnull()"
   ]
  },
  {
   "cell_type": "code",
   "execution_count": 59,
   "metadata": {},
   "outputs": [],
   "source": [
    "for index, row in train_temp.iterrows():\n",
    "    if(pd.isnull(row['Wait Time'])):\n",
    "        train_temp.loc[index, 'Wait Time'] = Wait_Time_mean[row['Permit Type']]"
   ]
  },
  {
   "cell_type": "code",
   "execution_count": 60,
   "metadata": {},
   "outputs": [
    {
     "data": {
      "text/plain": [
       "0      0.000000\n",
       "1     62.000000\n",
       "2      0.000000\n",
       "3    129.244968\n",
       "4    231.000000\n",
       "Name: Wait Time, dtype: float64"
      ]
     },
     "execution_count": 60,
     "metadata": {},
     "output_type": "execute_result"
    }
   ],
   "source": [
    "train_temp['Wait Time'].head()"
   ]
  },
  {
   "cell_type": "code",
   "execution_count": 61,
   "metadata": {},
   "outputs": [],
   "source": [
    "##Data imputation for Wait_final\n",
    "train_temp['Wait_final'].head()\n",
    "Wait_Time_final = train_temp.groupby('Permit Type')['Wait_final'].mean()\n",
    "Wait_Time_final\n",
    "for index, row in train_temp.iterrows():\n",
    "    if(pd.isnull(row['Wait_final'])):\n",
    "        train_temp.loc[index, 'Wait_final'] = Wait_Time_final[row['Permit Type']]"
   ]
  },
  {
   "cell_type": "code",
   "execution_count": 62,
   "metadata": {},
   "outputs": [
    {
     "data": {
      "text/plain": [
       "0    320.976759\n",
       "1    641.000000\n",
       "2    442.000000\n",
       "3    394.305116\n",
       "4    742.000000\n",
       "Name: Wait_final, dtype: float64"
      ]
     },
     "execution_count": 62,
     "metadata": {},
     "output_type": "execute_result"
    }
   ],
   "source": [
    "train_temp['Wait_final'].head()"
   ]
  },
  {
   "cell_type": "code",
   "execution_count": 63,
   "metadata": {},
   "outputs": [],
   "source": [
    "Wait_Time_expire = train_temp.groupby('Permit Type')['Wait_expire'].mean()\n",
    "Wait_Time_expire\n",
    "for index, row in train_temp.iterrows():\n",
    "    if(pd.isnull(row['Wait_expire'])):\n",
    "        train_temp.loc[index, 'Wait_expire'] = Wait_Time_expire[row['Permit Type']]"
   ]
  },
  {
   "cell_type": "code",
   "execution_count": 64,
   "metadata": {},
   "outputs": [
    {
     "data": {
      "text/plain": [
       "0    546.000000\n",
       "1    611.000000\n",
       "2    547.000000\n",
       "3    688.241785\n",
       "4    778.000000\n",
       "Name: Wait_expire, dtype: float64"
      ]
     },
     "execution_count": 64,
     "metadata": {},
     "output_type": "execute_result"
    }
   ],
   "source": [
    "train_temp['Wait_expire'].head()"
   ]
  },
  {
   "cell_type": "code",
   "execution_count": 65,
   "metadata": {},
   "outputs": [
    {
     "data": {
      "text/plain": [
       "Application/Permit Number     0\n",
       "Permit Type                   0\n",
       "Description                  10\n",
       "Action Type                   0\n",
       "Work Type                     0\n",
       "Status                        0\n",
       "Latitude                     21\n",
       "Longitude                    21\n",
       "Category                      0\n",
       "Wait Time                     0\n",
       "Wait_final                    0\n",
       "Wait_expire                   0\n",
       "dtype: int64"
      ]
     },
     "execution_count": 65,
     "metadata": {},
     "output_type": "execute_result"
    }
   ],
   "source": [
    "###check the Null values now\n",
    "train_temp.apply(lambda x: sum(x.isnull()))"
   ]
  },
  {
   "cell_type": "code",
   "execution_count": 66,
   "metadata": {},
   "outputs": [
    {
     "data": {
      "text/plain": [
       "0"
      ]
     },
     "execution_count": 66,
     "metadata": {},
     "output_type": "execute_result"
    }
   ],
   "source": [
    "##label missing Description as Missing\n",
    "train_temp['Description'].fillna('missing',inplace=True)\n",
    "train_temp['Description'].isnull().sum()\n"
   ]
  },
  {
   "cell_type": "code",
   "execution_count": 67,
   "metadata": {},
   "outputs": [
    {
     "data": {
      "text/plain": [
       "0"
      ]
     },
     "execution_count": 67,
     "metadata": {},
     "output_type": "execute_result"
    }
   ],
   "source": [
    "##Replace missing latitude and longitude with default of 0\n",
    "train_temp['Latitude'].fillna(0,inplace=True)\n",
    "train_temp['Longitude'].fillna(0,inplace=True)\n",
    "train_temp['Latitude'].isnull().sum()\n",
    "train_temp['Longitude'].isnull().sum()"
   ]
  },
  {
   "cell_type": "code",
   "execution_count": 68,
   "metadata": {},
   "outputs": [
    {
     "data": {
      "text/plain": [
       "Application/Permit Number    0\n",
       "Permit Type                  0\n",
       "Description                  0\n",
       "Action Type                  0\n",
       "Work Type                    0\n",
       "Status                       0\n",
       "Latitude                     0\n",
       "Longitude                    0\n",
       "Category                     0\n",
       "Wait Time                    0\n",
       "Wait_final                   0\n",
       "Wait_expire                  0\n",
       "dtype: int64"
      ]
     },
     "execution_count": 68,
     "metadata": {},
     "output_type": "execute_result"
    }
   ],
   "source": [
    "##Check null values now\n",
    "train_temp.apply(lambda x: sum(x.isnull()))"
   ]
  },
  {
   "cell_type": "code",
   "execution_count": 69,
   "metadata": {},
   "outputs": [
    {
     "name": "stdout",
     "output_type": "stream",
     "text": [
      "SINGLE FAMILY / DUPLEX    18342\n",
      "COMMERCIAL                 9778\n",
      "MULTIFAMILY                4102\n",
      "INSTITUTIONAL               926\n",
      "INDUSTRIAL                  391\n",
      "Name: Category, dtype: int64\n"
     ]
    }
   ],
   "source": [
    "##Check the labels count distribution\n",
    "print(train_temp['Category'].value_counts())\n"
   ]
  },
  {
   "cell_type": "code",
   "execution_count": 70,
   "metadata": {},
   "outputs": [
    {
     "name": "stdout",
     "output_type": "stream",
     "text": [
      "0    alterations to single family residence portion...\n",
      "1    change use permit from restaurant to residenti...\n",
      "2    construct interior alterations to existing off...\n",
      "3    need to remove a fire escape that is not part ...\n",
      "4    channel modification to thornton creek stream ...\n",
      "Name: Description, dtype: object\n"
     ]
    }
   ],
   "source": [
    "import re\n",
    "def process_data(input):\n",
    "    return \" \".join(re.sub(\"(@[A-Za-z0-9]+)|([^0-9A-Za-z \\t])\", \"\",input.lower()).split())\n",
    "\n",
    "\n",
    "train_temp['Description'] = train_temp['Description'].apply(process_data)\n",
    "print(train_temp['Description'].head())"
   ]
  },
  {
   "cell_type": "code",
   "execution_count": 71,
   "metadata": {},
   "outputs": [],
   "source": [
    "##check the word features from the descriptio\n",
    "\n",
    "\n",
    "##from sklearn.feature_extraction.text import CountVectorizer\n",
    "##vect = CountVectorizer(stop_words='english',max_features = 200)\n",
    "##vect.fit(train_temp['Description'])"
   ]
  },
  {
   "cell_type": "code",
   "execution_count": 72,
   "metadata": {},
   "outputs": [],
   "source": [
    "##vect.get_feature_names()."
   ]
  },
  {
   "cell_type": "code",
   "execution_count": 73,
   "metadata": {},
   "outputs": [],
   "source": [
    "##dtm = vect.transform(train_temp['Description'])"
   ]
  },
  {
   "cell_type": "code",
   "execution_count": 74,
   "metadata": {},
   "outputs": [],
   "source": [
    "##print(dtm.shape)"
   ]
  },
  {
   "cell_type": "code",
   "execution_count": 75,
   "metadata": {},
   "outputs": [],
   "source": [
    "##repr(dtm)"
   ]
  },
  {
   "cell_type": "code",
   "execution_count": 76,
   "metadata": {},
   "outputs": [],
   "source": [
    "##Store the Dtm in dataframe\n",
    "\n",
    "##Text_df = pd.DataFrame(dtm.toarray(), columns=vect.get_feature_names())"
   ]
  },
  {
   "cell_type": "code",
   "execution_count": 77,
   "metadata": {},
   "outputs": [],
   "source": [
    "##print(Text_df.head())"
   ]
  },
  {
   "cell_type": "code",
   "execution_count": 78,
   "metadata": {},
   "outputs": [
    {
     "name": "stdout",
     "output_type": "stream",
     "text": [
      "(33539, 200)\n"
     ]
    }
   ],
   "source": [
    "##Create anothe DTM using TFIDF\n",
    "from sklearn.feature_extraction.text import TfidfVectorizer\n",
    "vect_tfidf = TfidfVectorizer(max_features = 200,ngram_range =(1,2),stop_words = 'english')\n",
    "dtm_tfidf = vect_tfidf.fit_transform(train_temp['Description'])\n",
    "print(dtm_tfidf.shape)"
   ]
  },
  {
   "cell_type": "code",
   "execution_count": 79,
   "metadata": {},
   "outputs": [
    {
     "data": {
      "text/plain": [
       "['1st',\n",
       " '2nd',\n",
       " '2nd floor',\n",
       " 'accessory',\n",
       " 'accessory dwelling',\n",
       " 'add',\n",
       " 'addition',\n",
       " 'addition alterations',\n",
       " 'addition existing',\n",
       " 'additions',\n",
       " 'alteration',\n",
       " 'alterations',\n",
       " 'alterations basement',\n",
       " 'alterations existing',\n",
       " 'apartment',\n",
       " 'apartment building',\n",
       " 'aps',\n",
       " 'area',\n",
       " 'attached',\n",
       " 'attached garage',\n",
       " 'basement',\n",
       " 'basement existing',\n",
       " 'bathroom',\n",
       " 'blanket',\n",
       " 'blanket permit',\n",
       " 'building',\n",
       " 'building occupy',\n",
       " 'building plan',\n",
       " 'building subject',\n",
       " 'buildings',\n",
       " 'cancelled',\n",
       " 'change',\n",
       " 'change use',\n",
       " 'closed',\n",
       " 'closed incomplete',\n",
       " 'commercial',\n",
       " 'commercial building',\n",
       " 'construct',\n",
       " 'construct addition',\n",
       " 'construct additions',\n",
       " 'construct alterations',\n",
       " 'construct interior',\n",
       " 'construct new',\n",
       " 'construct single',\n",
       " 'construct tenant',\n",
       " 'construction',\n",
       " 'customer',\n",
       " 'deck',\n",
       " 'demo',\n",
       " 'demo existing',\n",
       " 'demolish',\n",
       " 'demolish existing',\n",
       " 'demolition',\n",
       " 'detached',\n",
       " 'detached garage',\n",
       " 'duplex',\n",
       " 'dwelling',\n",
       " 'dwelling unit',\n",
       " 'east',\n",
       " 'equipment',\n",
       " 'establish',\n",
       " 'establish use',\n",
       " 'existing',\n",
       " 'existing commercial',\n",
       " 'existing office',\n",
       " 'existing single',\n",
       " 'expired',\n",
       " 'expired permit',\n",
       " 'exterior',\n",
       " 'facility',\n",
       " 'family',\n",
       " 'family dwelling',\n",
       " 'family residence',\n",
       " 'family residences',\n",
       " 'field',\n",
       " 'field inspection',\n",
       " 'floor',\n",
       " 'floor existing',\n",
       " 'floor plan',\n",
       " 'floors',\n",
       " 'foundation',\n",
       " 'garage',\n",
       " 'garage plan',\n",
       " 'grade',\n",
       " 'ground',\n",
       " 'house',\n",
       " 'improvement',\n",
       " 'improvements',\n",
       " 'improvements existing',\n",
       " 'including',\n",
       " 'incomplete',\n",
       " 'incomplete expired',\n",
       " 'inspection',\n",
       " 'inspection stfi',\n",
       " 'install',\n",
       " 'interior',\n",
       " 'interior alterations',\n",
       " 'interior nonstructural',\n",
       " 'kitchen',\n",
       " 'level',\n",
       " 'lfd',\n",
       " 'log',\n",
       " 'lot',\n",
       " 'ltr',\n",
       " 'main',\n",
       " 'main floor',\n",
       " 'minor',\n",
       " 'mixed',\n",
       " 'mixed use',\n",
       " 'multifamily',\n",
       " 'new',\n",
       " 'new single',\n",
       " 'nonstructural',\n",
       " 'nonstructural alterations',\n",
       " 'north',\n",
       " 'occupy',\n",
       " 'occupy plan',\n",
       " 'occupy plans',\n",
       " 'office',\n",
       " 'parking',\n",
       " 'parking plan',\n",
       " 'permit',\n",
       " 'permit construct',\n",
       " 'permit interior',\n",
       " 'plan',\n",
       " 'plan establish',\n",
       " 'plan subject',\n",
       " 'plans',\n",
       " 'portion',\n",
       " 'process',\n",
       " 'process aps',\n",
       " 'processing',\n",
       " 'processing aps',\n",
       " 'project',\n",
       " 'project cancelled',\n",
       " 'remodel',\n",
       " 'removal',\n",
       " 'remove',\n",
       " 'repair',\n",
       " 'replace',\n",
       " 'residence',\n",
       " 'residence attached',\n",
       " 'residence construct',\n",
       " 'residence plan',\n",
       " 'residence plans',\n",
       " 'residence subject',\n",
       " 'residences',\n",
       " 'residential',\n",
       " 'restaurant',\n",
       " 'retail',\n",
       " 'retaining',\n",
       " 'review',\n",
       " 'review process',\n",
       " 'review processing',\n",
       " 'roof',\n",
       " 'room',\n",
       " 'sbc',\n",
       " 'second',\n",
       " 'section',\n",
       " 'seismic',\n",
       " 'sent',\n",
       " 'sf',\n",
       " 'sfr',\n",
       " 'single',\n",
       " 'single family',\n",
       " 'singlefamily',\n",
       " 'singlefamily residence',\n",
       " 'site',\n",
       " 'site plan',\n",
       " 'south',\n",
       " 'space',\n",
       " 'stfi',\n",
       " 'storage',\n",
       " 'story',\n",
       " 'story addition',\n",
       " 'structure',\n",
       " 'structures',\n",
       " 'subject',\n",
       " 'subject field',\n",
       " 'substantial',\n",
       " 'substantial alterations',\n",
       " 'suite',\n",
       " 'surface',\n",
       " 'surface parking',\n",
       " 'tenant',\n",
       " 'tenant improvement',\n",
       " 'tenant improvements',\n",
       " 'townhouse',\n",
       " 'unit',\n",
       " 'units',\n",
       " 'use',\n",
       " 'use construct',\n",
       " 'use single',\n",
       " 'voluntary',\n",
       " 'voluntary seismic',\n",
       " 'wall',\n",
       " 'walls',\n",
       " 'west',\n",
       " 'windows',\n",
       " 'work']"
      ]
     },
     "execution_count": 79,
     "metadata": {},
     "output_type": "execute_result"
    }
   ],
   "source": [
    "vect_tfidf.get_feature_names()"
   ]
  },
  {
   "cell_type": "code",
   "execution_count": 80,
   "metadata": {},
   "outputs": [],
   "source": [
    "##Store the Tfidf Dtm in dataframe\n",
    "\n",
    "Text_tfidf_df = pd.DataFrame(dtm_tfidf.toarray(), columns=vect_tfidf.get_feature_names())"
   ]
  },
  {
   "cell_type": "code",
   "execution_count": 81,
   "metadata": {},
   "outputs": [
    {
     "data": {
      "text/html": [
       "<div>\n",
       "<style scoped>\n",
       "    .dataframe tbody tr th:only-of-type {\n",
       "        vertical-align: middle;\n",
       "    }\n",
       "\n",
       "    .dataframe tbody tr th {\n",
       "        vertical-align: top;\n",
       "    }\n",
       "\n",
       "    .dataframe thead th {\n",
       "        text-align: right;\n",
       "    }\n",
       "</style>\n",
       "<table border=\"1\" class=\"dataframe\">\n",
       "  <thead>\n",
       "    <tr style=\"text-align: right;\">\n",
       "      <th></th>\n",
       "      <th>1st</th>\n",
       "      <th>2nd</th>\n",
       "      <th>2nd floor</th>\n",
       "      <th>accessory</th>\n",
       "      <th>accessory dwelling</th>\n",
       "      <th>add</th>\n",
       "      <th>addition</th>\n",
       "      <th>addition alterations</th>\n",
       "      <th>addition existing</th>\n",
       "      <th>additions</th>\n",
       "      <th>...</th>\n",
       "      <th>use</th>\n",
       "      <th>use construct</th>\n",
       "      <th>use single</th>\n",
       "      <th>voluntary</th>\n",
       "      <th>voluntary seismic</th>\n",
       "      <th>wall</th>\n",
       "      <th>walls</th>\n",
       "      <th>west</th>\n",
       "      <th>windows</th>\n",
       "      <th>work</th>\n",
       "    </tr>\n",
       "  </thead>\n",
       "  <tbody>\n",
       "    <tr>\n",
       "      <th>0</th>\n",
       "      <td>0.0</td>\n",
       "      <td>0.000000</td>\n",
       "      <td>0.000000</td>\n",
       "      <td>0.0</td>\n",
       "      <td>0.0</td>\n",
       "      <td>0.0</td>\n",
       "      <td>0.0</td>\n",
       "      <td>0.0</td>\n",
       "      <td>0.0</td>\n",
       "      <td>0.0</td>\n",
       "      <td>...</td>\n",
       "      <td>0.000000</td>\n",
       "      <td>0.0</td>\n",
       "      <td>0.0</td>\n",
       "      <td>0.0</td>\n",
       "      <td>0.0</td>\n",
       "      <td>0.0</td>\n",
       "      <td>0.0</td>\n",
       "      <td>0.0</td>\n",
       "      <td>0.0</td>\n",
       "      <td>0.0</td>\n",
       "    </tr>\n",
       "    <tr>\n",
       "      <th>1</th>\n",
       "      <td>0.0</td>\n",
       "      <td>0.000000</td>\n",
       "      <td>0.000000</td>\n",
       "      <td>0.0</td>\n",
       "      <td>0.0</td>\n",
       "      <td>0.0</td>\n",
       "      <td>0.0</td>\n",
       "      <td>0.0</td>\n",
       "      <td>0.0</td>\n",
       "      <td>0.0</td>\n",
       "      <td>...</td>\n",
       "      <td>0.216024</td>\n",
       "      <td>0.0</td>\n",
       "      <td>0.0</td>\n",
       "      <td>0.0</td>\n",
       "      <td>0.0</td>\n",
       "      <td>0.0</td>\n",
       "      <td>0.0</td>\n",
       "      <td>0.0</td>\n",
       "      <td>0.0</td>\n",
       "      <td>0.0</td>\n",
       "    </tr>\n",
       "    <tr>\n",
       "      <th>2</th>\n",
       "      <td>0.0</td>\n",
       "      <td>0.264153</td>\n",
       "      <td>0.297901</td>\n",
       "      <td>0.0</td>\n",
       "      <td>0.0</td>\n",
       "      <td>0.0</td>\n",
       "      <td>0.0</td>\n",
       "      <td>0.0</td>\n",
       "      <td>0.0</td>\n",
       "      <td>0.0</td>\n",
       "      <td>...</td>\n",
       "      <td>0.000000</td>\n",
       "      <td>0.0</td>\n",
       "      <td>0.0</td>\n",
       "      <td>0.0</td>\n",
       "      <td>0.0</td>\n",
       "      <td>0.0</td>\n",
       "      <td>0.0</td>\n",
       "      <td>0.0</td>\n",
       "      <td>0.0</td>\n",
       "      <td>0.0</td>\n",
       "    </tr>\n",
       "    <tr>\n",
       "      <th>3</th>\n",
       "      <td>0.0</td>\n",
       "      <td>0.000000</td>\n",
       "      <td>0.000000</td>\n",
       "      <td>0.0</td>\n",
       "      <td>0.0</td>\n",
       "      <td>0.0</td>\n",
       "      <td>0.0</td>\n",
       "      <td>0.0</td>\n",
       "      <td>0.0</td>\n",
       "      <td>0.0</td>\n",
       "      <td>...</td>\n",
       "      <td>0.000000</td>\n",
       "      <td>0.0</td>\n",
       "      <td>0.0</td>\n",
       "      <td>0.0</td>\n",
       "      <td>0.0</td>\n",
       "      <td>0.0</td>\n",
       "      <td>0.0</td>\n",
       "      <td>0.0</td>\n",
       "      <td>0.0</td>\n",
       "      <td>0.0</td>\n",
       "    </tr>\n",
       "    <tr>\n",
       "      <th>4</th>\n",
       "      <td>0.0</td>\n",
       "      <td>0.000000</td>\n",
       "      <td>0.000000</td>\n",
       "      <td>0.0</td>\n",
       "      <td>0.0</td>\n",
       "      <td>0.0</td>\n",
       "      <td>0.0</td>\n",
       "      <td>0.0</td>\n",
       "      <td>0.0</td>\n",
       "      <td>0.0</td>\n",
       "      <td>...</td>\n",
       "      <td>0.000000</td>\n",
       "      <td>0.0</td>\n",
       "      <td>0.0</td>\n",
       "      <td>0.0</td>\n",
       "      <td>0.0</td>\n",
       "      <td>0.0</td>\n",
       "      <td>0.0</td>\n",
       "      <td>0.0</td>\n",
       "      <td>0.0</td>\n",
       "      <td>0.0</td>\n",
       "    </tr>\n",
       "  </tbody>\n",
       "</table>\n",
       "<p>5 rows × 200 columns</p>\n",
       "</div>"
      ],
      "text/plain": [
       "   1st       2nd  2nd floor  accessory  accessory dwelling  add  addition  \\\n",
       "0  0.0  0.000000   0.000000        0.0                 0.0  0.0       0.0   \n",
       "1  0.0  0.000000   0.000000        0.0                 0.0  0.0       0.0   \n",
       "2  0.0  0.264153   0.297901        0.0                 0.0  0.0       0.0   \n",
       "3  0.0  0.000000   0.000000        0.0                 0.0  0.0       0.0   \n",
       "4  0.0  0.000000   0.000000        0.0                 0.0  0.0       0.0   \n",
       "\n",
       "   addition alterations  addition existing  additions  ...        use  \\\n",
       "0                   0.0                0.0        0.0  ...   0.000000   \n",
       "1                   0.0                0.0        0.0  ...   0.216024   \n",
       "2                   0.0                0.0        0.0  ...   0.000000   \n",
       "3                   0.0                0.0        0.0  ...   0.000000   \n",
       "4                   0.0                0.0        0.0  ...   0.000000   \n",
       "\n",
       "   use construct  use single  voluntary  voluntary seismic  wall  walls  west  \\\n",
       "0            0.0         0.0        0.0                0.0   0.0    0.0   0.0   \n",
       "1            0.0         0.0        0.0                0.0   0.0    0.0   0.0   \n",
       "2            0.0         0.0        0.0                0.0   0.0    0.0   0.0   \n",
       "3            0.0         0.0        0.0                0.0   0.0    0.0   0.0   \n",
       "4            0.0         0.0        0.0                0.0   0.0    0.0   0.0   \n",
       "\n",
       "   windows  work  \n",
       "0      0.0   0.0  \n",
       "1      0.0   0.0  \n",
       "2      0.0   0.0  \n",
       "3      0.0   0.0  \n",
       "4      0.0   0.0  \n",
       "\n",
       "[5 rows x 200 columns]"
      ]
     },
     "execution_count": 81,
     "metadata": {},
     "output_type": "execute_result"
    }
   ],
   "source": [
    "Text_tfidf_df.head()"
   ]
  },
  {
   "cell_type": "code",
   "execution_count": 82,
   "metadata": {},
   "outputs": [
    {
     "data": {
      "text/plain": [
       "Application/Permit Number      int64\n",
       "Permit Type                   object\n",
       "Description                   object\n",
       "Action Type                   object\n",
       "Work Type                     object\n",
       "Status                        object\n",
       "Latitude                     float64\n",
       "Longitude                    float64\n",
       "Category                      object\n",
       "Wait Time                    float64\n",
       "Wait_final                   float64\n",
       "Wait_expire                  float64\n",
       "dtype: object"
      ]
     },
     "execution_count": 82,
     "metadata": {},
     "output_type": "execute_result"
    }
   ],
   "source": [
    "train_temp.dtypes"
   ]
  },
  {
   "cell_type": "code",
   "execution_count": 83,
   "metadata": {},
   "outputs": [],
   "source": [
    "##Convert the Categorical variables to one hot encoding\n",
    "##from sklearn.preprocessing import LabelEncoder\n",
    "##le = LabelEncoder()\n",
    "##var_mod = ['Permit Type','Action Type','Status','Work Type']\n",
    "##le = LabelEncoder()\n",
    "##for i in var_mod:\n",
    "##    train_temp[i] = le.fit_transform(train_temp[i])"
   ]
  },
  {
   "cell_type": "code",
   "execution_count": 84,
   "metadata": {},
   "outputs": [],
   "source": [
    "##print(train_temp.dtypes)"
   ]
  },
  {
   "cell_type": "code",
   "execution_count": 85,
   "metadata": {},
   "outputs": [
    {
     "data": {
      "text/plain": [
       "Application/Permit Number                      int64\n",
       "Description                                   object\n",
       "Latitude                                     float64\n",
       "Longitude                                    float64\n",
       "Category                                      object\n",
       "Wait Time                                    float64\n",
       "Wait_final                                   float64\n",
       "Wait_expire                                  float64\n",
       "Permit Type_Construction                       uint8\n",
       "Permit Type_Demolition                         uint8\n",
       "Permit Type_Site Development                   uint8\n",
       "Action Type_ADD/ALT                            uint8\n",
       "Action Type_ALTER                              uint8\n",
       "Action Type_CURB CUT                           uint8\n",
       "Action Type_DECONSTRUCTION                     uint8\n",
       "Action Type_DEMOLITION                         uint8\n",
       "Action Type_DRAINAGE APPROVAL                  uint8\n",
       "Action Type_FLOODPLAIN LICENSE ONLY            uint8\n",
       "Action Type_GRADING                            uint8\n",
       "Action Type_NEW                                uint8\n",
       "Action Type_NO CONSTRUCTION                    uint8\n",
       "Action Type_RELOCATION                         uint8\n",
       "Action Type_SHORELINE EXEMPTION ONLY           uint8\n",
       "Action Type_SITE MONITORING ONLY               uint8\n",
       "Action Type_TEMP                               uint8\n",
       "Action Type_TREE PROTECTION EXEMPTION          uint8\n",
       "Action Type_TREE/VEGETATION MAINT/RESTORE      uint8\n",
       "Status_AP Closed                               uint8\n",
       "Status_AP Finaled                              uint8\n",
       "Status_Application Accepted                    uint8\n",
       "Status_CANCELLED                               uint8\n",
       "Status_Cert of Occupancy Authorized            uint8\n",
       "Status_Information Collected                   uint8\n",
       "Status_Initial Information Collected           uint8\n",
       "Status_Inspections Added                       uint8\n",
       "Status_Permit Closed                           uint8\n",
       "Status_Permit Finaled                          uint8\n",
       "Status_Permit Issued                           uint8\n",
       "Status_Reviews Completed                       uint8\n",
       "Work Type_No plan review                       uint8\n",
       "Work Type_Plan Review                          uint8\n",
       "dtype: object"
      ]
     },
     "execution_count": 85,
     "metadata": {},
     "output_type": "execute_result"
    }
   ],
   "source": [
    "##Convert all Categorical as Dummy Encoding for Model Build\n",
    "train_temp= pd.get_dummies(train_temp, columns=['Permit Type','Action Type','Status','Work Type'])\n",
    "\n",
    "train_temp.dtypes"
   ]
  },
  {
   "cell_type": "code",
   "execution_count": 86,
   "metadata": {},
   "outputs": [],
   "source": [
    "##converting Category to Numerical form\n",
    "train_temp['Category_id'] = train_temp['Category'].factorize()[0]"
   ]
  },
  {
   "cell_type": "code",
   "execution_count": 87,
   "metadata": {},
   "outputs": [],
   "source": [
    "##Create dictionary for internal use\n",
    "category_id_df = train_temp[['Category', 'Category_id']].drop_duplicates().sort_values('Category_id')"
   ]
  },
  {
   "cell_type": "code",
   "execution_count": 88,
   "metadata": {},
   "outputs": [],
   "source": [
    "category_to_id = dict(category_id_df.values)\n",
    "id_to_category = dict(category_id_df[['Category_id', 'Category']].values)\n"
   ]
  },
  {
   "cell_type": "code",
   "execution_count": 89,
   "metadata": {},
   "outputs": [
    {
     "name": "stdout",
     "output_type": "stream",
     "text": [
      "{'SINGLE FAMILY / DUPLEX': 0, 'COMMERCIAL': 1, 'INSTITUTIONAL': 2, 'MULTIFAMILY': 3, 'INDUSTRIAL': 4}\n"
     ]
    }
   ],
   "source": [
    "print(category_to_id)"
   ]
  },
  {
   "cell_type": "code",
   "execution_count": 90,
   "metadata": {},
   "outputs": [
    {
     "name": "stdout",
     "output_type": "stream",
     "text": [
      "   Application/Permit Number  \\\n",
      "0                    6640280   \n",
      "1                    6452959   \n",
      "2                    6435127   \n",
      "3                    6620870   \n",
      "4                    6363778   \n",
      "\n",
      "                                         Description   Latitude   Longitude  \\\n",
      "0  alterations to single family residence portion...  47.636732 -122.319828   \n",
      "1  change use permit from restaurant to residenti...  47.518298 -122.355555   \n",
      "2  construct interior alterations to existing off...  47.624025 -122.337567   \n",
      "3  need to remove a fire escape that is not part ...  47.595020 -122.328530   \n",
      "4  channel modification to thornton creek stream ...  47.705686 -122.320134   \n",
      "\n",
      "                 Category   Wait Time  Wait_final  Wait_expire  \\\n",
      "0  SINGLE FAMILY / DUPLEX    0.000000  320.976759   546.000000   \n",
      "1              COMMERCIAL   62.000000  641.000000   611.000000   \n",
      "2              COMMERCIAL    0.000000  442.000000   547.000000   \n",
      "3              COMMERCIAL  129.244968  394.305116   688.241785   \n",
      "4              COMMERCIAL  231.000000  742.000000   778.000000   \n",
      "\n",
      "   Permit Type_Construction  Permit Type_Demolition     ...       \\\n",
      "0                         1                       0     ...        \n",
      "1                         1                       0     ...        \n",
      "2                         1                       0     ...        \n",
      "3                         0                       1     ...        \n",
      "4                         1                       0     ...        \n",
      "\n",
      "   Status_Information Collected  Status_Initial Information Collected  \\\n",
      "0                             0                                     0   \n",
      "1                             0                                     0   \n",
      "2                             0                                     0   \n",
      "3                             0                                     1   \n",
      "4                             0                                     0   \n",
      "\n",
      "   Status_Inspections Added  Status_Permit Closed  Status_Permit Finaled  \\\n",
      "0                         0                     0                      0   \n",
      "1                         0                     1                      0   \n",
      "2                         0                     1                      0   \n",
      "3                         0                     0                      0   \n",
      "4                         0                     1                      0   \n",
      "\n",
      "   Status_Permit Issued  Status_Reviews Completed  Work Type_No plan review  \\\n",
      "0                     1                         0                         1   \n",
      "1                     0                         0                         0   \n",
      "2                     0                         0                         1   \n",
      "3                     0                         0                         0   \n",
      "4                     0                         0                         0   \n",
      "\n",
      "   Work Type_Plan Review  Category_id  \n",
      "0                      0            0  \n",
      "1                      1            1  \n",
      "2                      0            1  \n",
      "3                      1            1  \n",
      "4                      1            1  \n",
      "\n",
      "[5 rows x 42 columns]\n"
     ]
    }
   ],
   "source": [
    "print(train_temp.head())"
   ]
  },
  {
   "cell_type": "code",
   "execution_count": 91,
   "metadata": {},
   "outputs": [
    {
     "data": {
      "text/plain": [
       "(33539, 42)"
      ]
     },
     "execution_count": 91,
     "metadata": {},
     "output_type": "execute_result"
    }
   ],
   "source": [
    "## create a new dataframe  to have features of Text and rest variables \n",
    "train_temp.shape"
   ]
  },
  {
   "cell_type": "code",
   "execution_count": 92,
   "metadata": {},
   "outputs": [
    {
     "data": {
      "text/plain": [
       "(33539, 200)"
      ]
     },
     "execution_count": 92,
     "metadata": {},
     "output_type": "execute_result"
    }
   ],
   "source": [
    "Text_tfidf_df.shape"
   ]
  },
  {
   "cell_type": "code",
   "execution_count": 93,
   "metadata": {},
   "outputs": [],
   "source": [
    "##Combine both data frames\n",
    "Features_Union = pd.concat([train_temp, Text_tfidf_df], axis=1)"
   ]
  },
  {
   "cell_type": "code",
   "execution_count": 94,
   "metadata": {},
   "outputs": [
    {
     "name": "stdout",
     "output_type": "stream",
     "text": [
      "(33539, 242)\n"
     ]
    }
   ],
   "source": [
    "print(Features_Union.shape)"
   ]
  },
  {
   "cell_type": "code",
   "execution_count": 95,
   "metadata": {},
   "outputs": [],
   "source": [
    "##Need to extract the X and Y to take further for model development\n",
    "train_temp_X = Features_Union.copy()"
   ]
  },
  {
   "cell_type": "code",
   "execution_count": 96,
   "metadata": {},
   "outputs": [
    {
     "data": {
      "text/plain": [
       "pandas.core.frame.DataFrame"
      ]
     },
     "execution_count": 96,
     "metadata": {},
     "output_type": "execute_result"
    }
   ],
   "source": [
    "type(Features_Union)"
   ]
  },
  {
   "cell_type": "code",
   "execution_count": 97,
   "metadata": {},
   "outputs": [
    {
     "name": "stdout",
     "output_type": "stream",
     "text": [
      "   Application/Permit Number  \\\n",
      "0                    6640280   \n",
      "1                    6452959   \n",
      "2                    6435127   \n",
      "3                    6620870   \n",
      "4                    6363778   \n",
      "\n",
      "                                         Description   Latitude   Longitude  \\\n",
      "0  alterations to single family residence portion...  47.636732 -122.319828   \n",
      "1  change use permit from restaurant to residenti...  47.518298 -122.355555   \n",
      "2  construct interior alterations to existing off...  47.624025 -122.337567   \n",
      "3  need to remove a fire escape that is not part ...  47.595020 -122.328530   \n",
      "4  channel modification to thornton creek stream ...  47.705686 -122.320134   \n",
      "\n",
      "                 Category   Wait Time  Wait_final  Wait_expire  \\\n",
      "0  SINGLE FAMILY / DUPLEX    0.000000  320.976759   546.000000   \n",
      "1              COMMERCIAL   62.000000  641.000000   611.000000   \n",
      "2              COMMERCIAL    0.000000  442.000000   547.000000   \n",
      "3              COMMERCIAL  129.244968  394.305116   688.241785   \n",
      "4              COMMERCIAL  231.000000  742.000000   778.000000   \n",
      "\n",
      "   Permit Type_Construction  Permit Type_Demolition  ...        use  \\\n",
      "0                         1                       0  ...   0.000000   \n",
      "1                         1                       0  ...   0.216024   \n",
      "2                         1                       0  ...   0.000000   \n",
      "3                         0                       1  ...   0.000000   \n",
      "4                         1                       0  ...   0.000000   \n",
      "\n",
      "   use construct  use single  voluntary  voluntary seismic  wall  walls  west  \\\n",
      "0            0.0         0.0        0.0                0.0   0.0    0.0   0.0   \n",
      "1            0.0         0.0        0.0                0.0   0.0    0.0   0.0   \n",
      "2            0.0         0.0        0.0                0.0   0.0    0.0   0.0   \n",
      "3            0.0         0.0        0.0                0.0   0.0    0.0   0.0   \n",
      "4            0.0         0.0        0.0                0.0   0.0    0.0   0.0   \n",
      "\n",
      "   windows  work  \n",
      "0      0.0   0.0  \n",
      "1      0.0   0.0  \n",
      "2      0.0   0.0  \n",
      "3      0.0   0.0  \n",
      "4      0.0   0.0  \n",
      "\n",
      "[5 rows x 242 columns]\n"
     ]
    }
   ],
   "source": [
    "print(train_temp_X.head())"
   ]
  },
  {
   "cell_type": "code",
   "execution_count": 98,
   "metadata": {},
   "outputs": [
    {
     "name": "stdout",
     "output_type": "stream",
     "text": [
      "Application/Permit Number                      int64\n",
      "Description                                   object\n",
      "Latitude                                     float64\n",
      "Longitude                                    float64\n",
      "Category                                      object\n",
      "Wait Time                                    float64\n",
      "Wait_final                                   float64\n",
      "Wait_expire                                  float64\n",
      "Permit Type_Construction                       uint8\n",
      "Permit Type_Demolition                         uint8\n",
      "Permit Type_Site Development                   uint8\n",
      "Action Type_ADD/ALT                            uint8\n",
      "Action Type_ALTER                              uint8\n",
      "Action Type_CURB CUT                           uint8\n",
      "Action Type_DECONSTRUCTION                     uint8\n",
      "Action Type_DEMOLITION                         uint8\n",
      "Action Type_DRAINAGE APPROVAL                  uint8\n",
      "Action Type_FLOODPLAIN LICENSE ONLY            uint8\n",
      "Action Type_GRADING                            uint8\n",
      "Action Type_NEW                                uint8\n",
      "Action Type_NO CONSTRUCTION                    uint8\n",
      "Action Type_RELOCATION                         uint8\n",
      "Action Type_SHORELINE EXEMPTION ONLY           uint8\n",
      "Action Type_SITE MONITORING ONLY               uint8\n",
      "Action Type_TEMP                               uint8\n",
      "Action Type_TREE PROTECTION EXEMPTION          uint8\n",
      "Action Type_TREE/VEGETATION MAINT/RESTORE      uint8\n",
      "Status_AP Closed                               uint8\n",
      "Status_AP Finaled                              uint8\n",
      "Status_Application Accepted                    uint8\n",
      "                                              ...   \n",
      "space                                        float64\n",
      "stfi                                         float64\n",
      "storage                                      float64\n",
      "story                                        float64\n",
      "story addition                               float64\n",
      "structure                                    float64\n",
      "structures                                   float64\n",
      "subject                                      float64\n",
      "subject field                                float64\n",
      "substantial                                  float64\n",
      "substantial alterations                      float64\n",
      "suite                                        float64\n",
      "surface                                      float64\n",
      "surface parking                              float64\n",
      "tenant                                       float64\n",
      "tenant improvement                           float64\n",
      "tenant improvements                          float64\n",
      "townhouse                                    float64\n",
      "unit                                         float64\n",
      "units                                        float64\n",
      "use                                          float64\n",
      "use construct                                float64\n",
      "use single                                   float64\n",
      "voluntary                                    float64\n",
      "voluntary seismic                            float64\n",
      "wall                                         float64\n",
      "walls                                        float64\n",
      "west                                         float64\n",
      "windows                                      float64\n",
      "work                                         float64\n",
      "Length: 242, dtype: object\n"
     ]
    }
   ],
   "source": [
    "print(train_temp_X.dtypes)"
   ]
  },
  {
   "cell_type": "code",
   "execution_count": 99,
   "metadata": {},
   "outputs": [],
   "source": [
    "train_temp_X.drop(['Description','Category', 'Category_id','Application/Permit Number'],axis=1,inplace=True)"
   ]
  },
  {
   "cell_type": "code",
   "execution_count": 100,
   "metadata": {},
   "outputs": [],
   "source": [
    "train_temp_Y = train_temp.Category_id"
   ]
  },
  {
   "cell_type": "code",
   "execution_count": 101,
   "metadata": {},
   "outputs": [
    {
     "name": "stdout",
     "output_type": "stream",
     "text": [
      "0    0\n",
      "1    1\n",
      "2    1\n",
      "3    1\n",
      "4    1\n",
      "5    1\n",
      "6    2\n",
      "7    1\n",
      "8    0\n",
      "9    0\n",
      "Name: Category_id, dtype: int64\n"
     ]
    }
   ],
   "source": [
    "print(train_temp_Y.head(10))"
   ]
  },
  {
   "cell_type": "code",
   "execution_count": 102,
   "metadata": {},
   "outputs": [
    {
     "name": "stdout",
     "output_type": "stream",
     "text": [
      "Overall Accuracy\n",
      "0.8493518104604381\n",
      "F1 score per class details\n",
      "             precision    recall  f1-score   support\n",
      "\n",
      "          0       0.92      0.93      0.92      3669\n",
      "          1       0.85      0.85      0.85      1956\n",
      "          2       0.41      0.38      0.39       186\n",
      "          3       0.67      0.69      0.68       821\n",
      "          4       0.33      0.22      0.26        79\n",
      "\n",
      "avg / total       0.85      0.85      0.85      6711\n",
      "\n",
      "Overall Accuracy\n",
      "0.8424504397078552\n",
      "F1 score per class details\n",
      "             precision    recall  f1-score   support\n",
      "\n",
      "          0       0.91      0.93      0.92      3669\n",
      "          1       0.84      0.83      0.83      1956\n",
      "          2       0.42      0.38      0.40       185\n",
      "          3       0.66      0.65      0.66       821\n",
      "          4       0.23      0.21      0.22        78\n",
      "\n",
      "avg / total       0.84      0.84      0.84      6709\n",
      "\n",
      "Overall Accuracy\n",
      "0.8517966303861637\n",
      "F1 score per class details\n",
      "             precision    recall  f1-score   support\n",
      "\n",
      "          0       0.92      0.93      0.93      3668\n",
      "          1       0.84      0.84      0.84      1956\n",
      "          2       0.36      0.36      0.36       185\n",
      "          3       0.70      0.68      0.69       820\n",
      "          4       0.34      0.26      0.29        78\n",
      "\n",
      "avg / total       0.85      0.85      0.85      6707\n",
      "\n",
      "Overall Accuracy\n",
      "0.852520131225768\n",
      "F1 score per class details\n",
      "             precision    recall  f1-score   support\n",
      "\n",
      "          0       0.92      0.93      0.93      3668\n",
      "          1       0.83      0.85      0.84      1955\n",
      "          2       0.45      0.42      0.43       185\n",
      "          3       0.70      0.65      0.68       820\n",
      "          4       0.30      0.23      0.26        78\n",
      "\n",
      "avg / total       0.85      0.85      0.85      6706\n",
      "\n",
      "Overall Accuracy\n",
      "0.8511780495079033\n",
      "F1 score per class details\n",
      "             precision    recall  f1-score   support\n",
      "\n",
      "          0       0.92      0.93      0.92      3668\n",
      "          1       0.84      0.87      0.85      1955\n",
      "          2       0.40      0.37      0.38       185\n",
      "          3       0.69      0.65      0.67       820\n",
      "          4       0.35      0.22      0.27        78\n",
      "\n",
      "avg / total       0.85      0.85      0.85      6706\n",
      "\n"
     ]
    }
   ],
   "source": [
    "###model development Random Forest to start with\n",
    "\n",
    "X = train_temp_X\n",
    "y = train_temp_Y\n",
    "from sklearn.model_selection import StratifiedKFold\n",
    "from imblearn.over_sampling import SMOTE\n",
    "from sklearn.ensemble import RandomForestClassifier\n",
    "from sklearn.metrics import accuracy_score, f1_score, confusion_matrix, classification_report\n",
    "from sklearn.metrics import precision_recall_fscore_support as score\n",
    "\n",
    "target_names = ['0', '1', '2', '3', '4']\n",
    "rf = RandomForestClassifier()\n",
    "skf = StratifiedKFold(n_splits=5,random_state=None, shuffle=False)\n",
    "sm = SMOTE()\n",
    "##accs = []\n",
    "##f1s = []\n",
    "##cms = []\n",
    "for train_index, test_index in skf.split(X,y):\n",
    "    \n",
    "    X_train, X_test = X.iloc[train_index], X.iloc[test_index]\n",
    "    y_train, y_test = y.iloc[train_index], y.iloc[test_index]\n",
    "    \n",
    "       \n",
    "    # Oversample\n",
    "    X_train_res, y_train_res = sm.fit_sample(X_train, y_train)\n",
    "    \n",
    "    # Fit Naive Bayes on the vectorized X with y train labels, \n",
    "    # then predict new y labels using X test\n",
    "    rf.fit(X_train_res, y_train_res)\n",
    "    y_pred = rf.predict(X_test)\n",
    "    \n",
    "    # Determine test set accuracy and f1 score on this fold using the true y labels and predicted y labels\n",
    "    accs =accuracy_score(y_test, y_pred)\n",
    "    print(\"Overall Accuracy\")\n",
    "    print(accs)\n",
    "      \n",
    "    print(\"F1 score per class details\")\n",
    "    print(classification_report(y_test, y_pred, target_names=target_names))\n",
    "    \n",
    "    \n",
    "    ##Feature Importance for RandomForest Classifier\n",
    "    feat_importances = pd.Series(rf.feature_importances_,index = X_train.columns)\n",
    "    feat_importances.nlargest(30).plot(kind='barh')\n",
    "    \n",
    "    #print(calculate_f1_score(y_test, y_pred, target_class='0'))\n",
    "    #print(f1_score(y_test, y_pred, average=\"macro\"))\n",
    "    #print(precision_score(y_test, y_pred, average=\"macro\"))\n",
    "    #print(recall_score(y_test, y_pred, average=\"macro\"))  \n",
    "    ##precision, recall, fscore, support = score(y_test, y_pred)\n",
    "\n",
    "    ##print('precision: {}'.format(precision))\n",
    "    ##print('recall: {}'.format(recall))\n",
    "    ##print('fscore: {}'.format(fscore))\n",
    "    ##print('support: {}'.format(support))\n",
    "    #cms.append(confusion_matrix(y_test, y_pred))\n",
    "    \n",
    "\n"
   ]
  },
  {
   "cell_type": "code",
   "execution_count": 103,
   "metadata": {},
   "outputs": [
    {
     "name": "stdout",
     "output_type": "stream",
     "text": [
      "Overall Accuracy\n",
      "0.7924303382506332\n",
      "F1 score per class details\n",
      "             precision    recall  f1-score   support\n",
      "\n",
      "          0       0.93      0.87      0.90      3669\n",
      "          1       0.89      0.70      0.78      1956\n",
      "          2       0.22      0.67      0.33       186\n",
      "          3       0.67      0.68      0.67       821\n",
      "          4       0.18      0.76      0.29        79\n",
      "\n",
      "avg / total       0.86      0.79      0.82      6711\n",
      "\n",
      "Overall Accuracy\n",
      "0.7782083768072738\n",
      "F1 score per class details\n",
      "             precision    recall  f1-score   support\n",
      "\n",
      "          0       0.93      0.87      0.90      3669\n",
      "          1       0.87      0.68      0.76      1956\n",
      "          2       0.19      0.62      0.29       185\n",
      "          3       0.63      0.67      0.65       821\n",
      "          4       0.17      0.62      0.26        78\n",
      "\n",
      "avg / total       0.85      0.78      0.80      6709\n",
      "\n",
      "Overall Accuracy\n",
      "0.7699418517966304\n",
      "F1 score per class details\n",
      "             precision    recall  f1-score   support\n",
      "\n",
      "          0       0.94      0.86      0.90      3668\n",
      "          1       0.87      0.66      0.75      1956\n",
      "          2       0.18      0.63      0.27       185\n",
      "          3       0.63      0.68      0.66       820\n",
      "          4       0.16      0.68      0.26        78\n",
      "\n",
      "avg / total       0.85      0.77      0.80      6707\n",
      "\n",
      "Overall Accuracy\n",
      "0.778705636743215\n",
      "F1 score per class details\n",
      "             precision    recall  f1-score   support\n",
      "\n",
      "          0       0.94      0.87      0.90      3668\n",
      "          1       0.88      0.69      0.77      1955\n",
      "          2       0.19      0.72      0.29       185\n",
      "          3       0.66      0.63      0.64       820\n",
      "          4       0.16      0.64      0.25        78\n",
      "\n",
      "avg / total       0.86      0.78      0.81      6706\n",
      "\n",
      "Overall Accuracy\n",
      "0.7734864300626305\n",
      "F1 score per class details\n",
      "             precision    recall  f1-score   support\n",
      "\n",
      "          0       0.93      0.86      0.90      3668\n",
      "          1       0.89      0.68      0.77      1955\n",
      "          2       0.17      0.69      0.28       185\n",
      "          3       0.68      0.63      0.65       820\n",
      "          4       0.17      0.67      0.27        78\n",
      "\n",
      "avg / total       0.86      0.77      0.80      6706\n",
      "\n"
     ]
    }
   ],
   "source": [
    "###Trying with GBoostClassifier\n",
    "from sklearn.ensemble import GradientBoostingClassifier\n",
    "gbc =GradientBoostingClassifier(learning_rate=0.01, n_estimators=25,max_depth=9, subsample=0.8, random_state=10)\n",
    "for train_index, test_index in skf.split(X,y):\n",
    "    \n",
    "    X_train, X_test = X.iloc[train_index], X.iloc[test_index]\n",
    "    y_train, y_test = y.iloc[train_index], y.iloc[test_index]\n",
    "    \n",
    "       \n",
    "    # Oversample\n",
    "    X_train_res, y_train_res = sm.fit_sample(X_train, y_train)\n",
    "    \n",
    "    # Fit Naive Bayes on the vectorized X with y train labels, \n",
    "    # then predict new y labels using X test\n",
    "    gbc.fit(X_train_res, y_train_res)\n",
    "    y_pred = gbc.predict(X_test)\n",
    "    \n",
    "    # Determine test set accuracy and f1 score on this fold using the true y labels and predicted y labels\n",
    "    accs =accuracy_score(y_test, y_pred)\n",
    "    print(\"Overall Accuracy\")\n",
    "    print(accs)\n",
    "      \n",
    "    print(\"F1 score per class details\")\n",
    "    print(classification_report(y_test, y_pred, target_names=target_names))\n",
    "    \n",
    "    #print(calculate_f1_score(y_test, y_pred, target_class='0'))\n",
    "    #print(f1_score(y_test, y_pred, average=\"macro\"))\n",
    "    #print(precision_score(y_test, y_pred, average=\"macro\"))\n",
    "    #print(recall_score(y_test, y_pred, average=\"macro\"))  \n",
    "    ##precision, recall, fscore, support = score(y_test, y_pred)\n",
    "\n",
    "    ##print('precision: {}'.format(precision))\n",
    "    ##print('recall: {}'.format(recall))\n",
    "    ##print('fscore: {}'.format(fscore))\n",
    "    ##print('support: {}'.format(support))\n",
    "    #cms.append(confusion_matrix(y_test, y_pred))\n",
    "    \n"
   ]
  },
  {
   "cell_type": "code",
   "execution_count": 105,
   "metadata": {},
   "outputs": [
    {
     "name": "stdout",
     "output_type": "stream",
     "text": [
      "Fitting 5 folds for each of 96 candidates, totalling 480 fits\n"
     ]
    },
    {
     "name": "stderr",
     "output_type": "stream",
     "text": [
      "[Parallel(n_jobs=-1)]: Done  33 tasks      | elapsed:  5.5min\n",
      "[Parallel(n_jobs=-1)]: Done 154 tasks      | elapsed: 24.5min\n",
      "[Parallel(n_jobs=-1)]: Done 357 tasks      | elapsed: 72.2min\n"
     ]
    },
    {
     "ename": "KeyboardInterrupt",
     "evalue": "",
     "output_type": "error",
     "traceback": [
      "\u001b[1;31m---------------------------------------------------------------------------\u001b[0m",
      "\u001b[1;31mKeyboardInterrupt\u001b[0m                         Traceback (most recent call last)",
      "\u001b[1;32m<ipython-input-105-65646b961150>\u001b[0m in \u001b[0;36m<module>\u001b[1;34m()\u001b[0m\n\u001b[0;32m     14\u001b[0m grid_search_rf = GridSearchCV(estimator = rf1, param_grid = param_grid, \n\u001b[0;32m     15\u001b[0m                           cv = 5, n_jobs = -1, verbose = 2)\n\u001b[1;32m---> 16\u001b[1;33m \u001b[0mgrid_search_rf\u001b[0m\u001b[1;33m.\u001b[0m\u001b[0mfit\u001b[0m\u001b[1;33m(\u001b[0m\u001b[0mX\u001b[0m\u001b[1;33m,\u001b[0m\u001b[0my\u001b[0m\u001b[1;33m)\u001b[0m\u001b[1;33m\u001b[0m\u001b[0m\n\u001b[0m\u001b[0;32m     17\u001b[0m \u001b[0mgrid_search_rf\u001b[0m\u001b[1;33m.\u001b[0m\u001b[0mbest_params_\u001b[0m\u001b[1;33m\u001b[0m\u001b[0m\n",
      "\u001b[1;32m~\\AppData\\Local\\Continuum\\anaconda3\\lib\\site-packages\\sklearn\\model_selection\\_search.py\u001b[0m in \u001b[0;36mfit\u001b[1;34m(self, X, y, groups, **fit_params)\u001b[0m\n\u001b[0;32m    637\u001b[0m                                   error_score=self.error_score)\n\u001b[0;32m    638\u001b[0m           for parameters, (train, test) in product(candidate_params,\n\u001b[1;32m--> 639\u001b[1;33m                                                    cv.split(X, y, groups)))\n\u001b[0m\u001b[0;32m    640\u001b[0m \u001b[1;33m\u001b[0m\u001b[0m\n\u001b[0;32m    641\u001b[0m         \u001b[1;31m# if one choose to see train score, \"out\" will contain train score info\u001b[0m\u001b[1;33m\u001b[0m\u001b[1;33m\u001b[0m\u001b[0m\n",
      "\u001b[1;32m~\\AppData\\Local\\Continuum\\anaconda3\\lib\\site-packages\\sklearn\\externals\\joblib\\parallel.py\u001b[0m in \u001b[0;36m__call__\u001b[1;34m(self, iterable)\u001b[0m\n\u001b[0;32m    787\u001b[0m                 \u001b[1;31m# consumption.\u001b[0m\u001b[1;33m\u001b[0m\u001b[1;33m\u001b[0m\u001b[0m\n\u001b[0;32m    788\u001b[0m                 \u001b[0mself\u001b[0m\u001b[1;33m.\u001b[0m\u001b[0m_iterating\u001b[0m \u001b[1;33m=\u001b[0m \u001b[1;32mFalse\u001b[0m\u001b[1;33m\u001b[0m\u001b[0m\n\u001b[1;32m--> 789\u001b[1;33m             \u001b[0mself\u001b[0m\u001b[1;33m.\u001b[0m\u001b[0mretrieve\u001b[0m\u001b[1;33m(\u001b[0m\u001b[1;33m)\u001b[0m\u001b[1;33m\u001b[0m\u001b[0m\n\u001b[0m\u001b[0;32m    790\u001b[0m             \u001b[1;31m# Make sure that we get a last message telling us we are done\u001b[0m\u001b[1;33m\u001b[0m\u001b[1;33m\u001b[0m\u001b[0m\n\u001b[0;32m    791\u001b[0m             \u001b[0melapsed_time\u001b[0m \u001b[1;33m=\u001b[0m \u001b[0mtime\u001b[0m\u001b[1;33m.\u001b[0m\u001b[0mtime\u001b[0m\u001b[1;33m(\u001b[0m\u001b[1;33m)\u001b[0m \u001b[1;33m-\u001b[0m \u001b[0mself\u001b[0m\u001b[1;33m.\u001b[0m\u001b[0m_start_time\u001b[0m\u001b[1;33m\u001b[0m\u001b[0m\n",
      "\u001b[1;32m~\\AppData\\Local\\Continuum\\anaconda3\\lib\\site-packages\\sklearn\\externals\\joblib\\parallel.py\u001b[0m in \u001b[0;36mretrieve\u001b[1;34m(self)\u001b[0m\n\u001b[0;32m    697\u001b[0m             \u001b[1;32mtry\u001b[0m\u001b[1;33m:\u001b[0m\u001b[1;33m\u001b[0m\u001b[0m\n\u001b[0;32m    698\u001b[0m                 \u001b[1;32mif\u001b[0m \u001b[0mgetattr\u001b[0m\u001b[1;33m(\u001b[0m\u001b[0mself\u001b[0m\u001b[1;33m.\u001b[0m\u001b[0m_backend\u001b[0m\u001b[1;33m,\u001b[0m \u001b[1;34m'supports_timeout'\u001b[0m\u001b[1;33m,\u001b[0m \u001b[1;32mFalse\u001b[0m\u001b[1;33m)\u001b[0m\u001b[1;33m:\u001b[0m\u001b[1;33m\u001b[0m\u001b[0m\n\u001b[1;32m--> 699\u001b[1;33m                     \u001b[0mself\u001b[0m\u001b[1;33m.\u001b[0m\u001b[0m_output\u001b[0m\u001b[1;33m.\u001b[0m\u001b[0mextend\u001b[0m\u001b[1;33m(\u001b[0m\u001b[0mjob\u001b[0m\u001b[1;33m.\u001b[0m\u001b[0mget\u001b[0m\u001b[1;33m(\u001b[0m\u001b[0mtimeout\u001b[0m\u001b[1;33m=\u001b[0m\u001b[0mself\u001b[0m\u001b[1;33m.\u001b[0m\u001b[0mtimeout\u001b[0m\u001b[1;33m)\u001b[0m\u001b[1;33m)\u001b[0m\u001b[1;33m\u001b[0m\u001b[0m\n\u001b[0m\u001b[0;32m    700\u001b[0m                 \u001b[1;32melse\u001b[0m\u001b[1;33m:\u001b[0m\u001b[1;33m\u001b[0m\u001b[0m\n\u001b[0;32m    701\u001b[0m                     \u001b[0mself\u001b[0m\u001b[1;33m.\u001b[0m\u001b[0m_output\u001b[0m\u001b[1;33m.\u001b[0m\u001b[0mextend\u001b[0m\u001b[1;33m(\u001b[0m\u001b[0mjob\u001b[0m\u001b[1;33m.\u001b[0m\u001b[0mget\u001b[0m\u001b[1;33m(\u001b[0m\u001b[1;33m)\u001b[0m\u001b[1;33m)\u001b[0m\u001b[1;33m\u001b[0m\u001b[0m\n",
      "\u001b[1;32m~\\AppData\\Local\\Continuum\\anaconda3\\lib\\multiprocessing\\pool.py\u001b[0m in \u001b[0;36mget\u001b[1;34m(self, timeout)\u001b[0m\n\u001b[0;32m    636\u001b[0m \u001b[1;33m\u001b[0m\u001b[0m\n\u001b[0;32m    637\u001b[0m     \u001b[1;32mdef\u001b[0m \u001b[0mget\u001b[0m\u001b[1;33m(\u001b[0m\u001b[0mself\u001b[0m\u001b[1;33m,\u001b[0m \u001b[0mtimeout\u001b[0m\u001b[1;33m=\u001b[0m\u001b[1;32mNone\u001b[0m\u001b[1;33m)\u001b[0m\u001b[1;33m:\u001b[0m\u001b[1;33m\u001b[0m\u001b[0m\n\u001b[1;32m--> 638\u001b[1;33m         \u001b[0mself\u001b[0m\u001b[1;33m.\u001b[0m\u001b[0mwait\u001b[0m\u001b[1;33m(\u001b[0m\u001b[0mtimeout\u001b[0m\u001b[1;33m)\u001b[0m\u001b[1;33m\u001b[0m\u001b[0m\n\u001b[0m\u001b[0;32m    639\u001b[0m         \u001b[1;32mif\u001b[0m \u001b[1;32mnot\u001b[0m \u001b[0mself\u001b[0m\u001b[1;33m.\u001b[0m\u001b[0mready\u001b[0m\u001b[1;33m(\u001b[0m\u001b[1;33m)\u001b[0m\u001b[1;33m:\u001b[0m\u001b[1;33m\u001b[0m\u001b[0m\n\u001b[0;32m    640\u001b[0m             \u001b[1;32mraise\u001b[0m \u001b[0mTimeoutError\u001b[0m\u001b[1;33m\u001b[0m\u001b[0m\n",
      "\u001b[1;32m~\\AppData\\Local\\Continuum\\anaconda3\\lib\\multiprocessing\\pool.py\u001b[0m in \u001b[0;36mwait\u001b[1;34m(self, timeout)\u001b[0m\n\u001b[0;32m    633\u001b[0m \u001b[1;33m\u001b[0m\u001b[0m\n\u001b[0;32m    634\u001b[0m     \u001b[1;32mdef\u001b[0m \u001b[0mwait\u001b[0m\u001b[1;33m(\u001b[0m\u001b[0mself\u001b[0m\u001b[1;33m,\u001b[0m \u001b[0mtimeout\u001b[0m\u001b[1;33m=\u001b[0m\u001b[1;32mNone\u001b[0m\u001b[1;33m)\u001b[0m\u001b[1;33m:\u001b[0m\u001b[1;33m\u001b[0m\u001b[0m\n\u001b[1;32m--> 635\u001b[1;33m         \u001b[0mself\u001b[0m\u001b[1;33m.\u001b[0m\u001b[0m_event\u001b[0m\u001b[1;33m.\u001b[0m\u001b[0mwait\u001b[0m\u001b[1;33m(\u001b[0m\u001b[0mtimeout\u001b[0m\u001b[1;33m)\u001b[0m\u001b[1;33m\u001b[0m\u001b[0m\n\u001b[0m\u001b[0;32m    636\u001b[0m \u001b[1;33m\u001b[0m\u001b[0m\n\u001b[0;32m    637\u001b[0m     \u001b[1;32mdef\u001b[0m \u001b[0mget\u001b[0m\u001b[1;33m(\u001b[0m\u001b[0mself\u001b[0m\u001b[1;33m,\u001b[0m \u001b[0mtimeout\u001b[0m\u001b[1;33m=\u001b[0m\u001b[1;32mNone\u001b[0m\u001b[1;33m)\u001b[0m\u001b[1;33m:\u001b[0m\u001b[1;33m\u001b[0m\u001b[0m\n",
      "\u001b[1;32m~\\AppData\\Local\\Continuum\\anaconda3\\lib\\threading.py\u001b[0m in \u001b[0;36mwait\u001b[1;34m(self, timeout)\u001b[0m\n\u001b[0;32m    549\u001b[0m             \u001b[0msignaled\u001b[0m \u001b[1;33m=\u001b[0m \u001b[0mself\u001b[0m\u001b[1;33m.\u001b[0m\u001b[0m_flag\u001b[0m\u001b[1;33m\u001b[0m\u001b[0m\n\u001b[0;32m    550\u001b[0m             \u001b[1;32mif\u001b[0m \u001b[1;32mnot\u001b[0m \u001b[0msignaled\u001b[0m\u001b[1;33m:\u001b[0m\u001b[1;33m\u001b[0m\u001b[0m\n\u001b[1;32m--> 551\u001b[1;33m                 \u001b[0msignaled\u001b[0m \u001b[1;33m=\u001b[0m \u001b[0mself\u001b[0m\u001b[1;33m.\u001b[0m\u001b[0m_cond\u001b[0m\u001b[1;33m.\u001b[0m\u001b[0mwait\u001b[0m\u001b[1;33m(\u001b[0m\u001b[0mtimeout\u001b[0m\u001b[1;33m)\u001b[0m\u001b[1;33m\u001b[0m\u001b[0m\n\u001b[0m\u001b[0;32m    552\u001b[0m             \u001b[1;32mreturn\u001b[0m \u001b[0msignaled\u001b[0m\u001b[1;33m\u001b[0m\u001b[0m\n\u001b[0;32m    553\u001b[0m \u001b[1;33m\u001b[0m\u001b[0m\n",
      "\u001b[1;32m~\\AppData\\Local\\Continuum\\anaconda3\\lib\\threading.py\u001b[0m in \u001b[0;36mwait\u001b[1;34m(self, timeout)\u001b[0m\n\u001b[0;32m    293\u001b[0m         \u001b[1;32mtry\u001b[0m\u001b[1;33m:\u001b[0m    \u001b[1;31m# restore state no matter what (e.g., KeyboardInterrupt)\u001b[0m\u001b[1;33m\u001b[0m\u001b[0m\n\u001b[0;32m    294\u001b[0m             \u001b[1;32mif\u001b[0m \u001b[0mtimeout\u001b[0m \u001b[1;32mis\u001b[0m \u001b[1;32mNone\u001b[0m\u001b[1;33m:\u001b[0m\u001b[1;33m\u001b[0m\u001b[0m\n\u001b[1;32m--> 295\u001b[1;33m                 \u001b[0mwaiter\u001b[0m\u001b[1;33m.\u001b[0m\u001b[0macquire\u001b[0m\u001b[1;33m(\u001b[0m\u001b[1;33m)\u001b[0m\u001b[1;33m\u001b[0m\u001b[0m\n\u001b[0m\u001b[0;32m    296\u001b[0m                 \u001b[0mgotit\u001b[0m \u001b[1;33m=\u001b[0m \u001b[1;32mTrue\u001b[0m\u001b[1;33m\u001b[0m\u001b[0m\n\u001b[0;32m    297\u001b[0m             \u001b[1;32melse\u001b[0m\u001b[1;33m:\u001b[0m\u001b[1;33m\u001b[0m\u001b[0m\n",
      "\u001b[1;31mKeyboardInterrupt\u001b[0m: "
     ]
    }
   ],
   "source": [
    "##Random forest has performed better than XGBoost atleast without any hypertuning.Trying hypertuning with Random forest\n",
    "from sklearn.model_selection import GridSearchCV\n",
    "# Create the parameter grid based on the results of random search \n",
    "param_grid = {\n",
    "    'bootstrap': [True],\n",
    "    'max_depth': [10, 5, 20, 60],\n",
    "    'max_features': ['auto', 'sqrt'],\n",
    "    'n_estimators': [100, 200, 300, 1000]\n",
    "}\n",
    "\n",
    "rf1 = RandomForestClassifier()\n",
    "# Instantiate the grid search model\n",
    "grid_search_rf = GridSearchCV(estimator = rf1, param_grid = param_grid, \n",
    "                          cv = 5, n_jobs = -1, verbose = 2)\n",
    "grid_search_rf.fit(X,y)\n",
    "grid_search_rf.best_params_"
   ]
  },
  {
   "cell_type": "code",
   "execution_count": 106,
   "metadata": {},
   "outputs": [
    {
     "name": "stdout",
     "output_type": "stream",
     "text": [
      "Overall Accuracy\n",
      "0.7945164655043958\n",
      "F1 score per class details\n",
      "             precision    recall  f1-score   support\n",
      "\n",
      "          0       0.94      0.86      0.90      3669\n",
      "          1       0.90      0.71      0.79      1956\n",
      "          2       0.23      0.59      0.33       186\n",
      "          3       0.61      0.76      0.67       821\n",
      "          4       0.17      0.65      0.27        79\n",
      "\n",
      "avg / total       0.86      0.79      0.82      6711\n",
      "\n",
      "Overall Accuracy\n",
      "0.7849157847667313\n",
      "F1 score per class details\n",
      "             precision    recall  f1-score   support\n",
      "\n",
      "          0       0.94      0.86      0.90      3669\n",
      "          1       0.90      0.69      0.78      1956\n",
      "          2       0.19      0.54      0.28       185\n",
      "          3       0.60      0.74      0.66       821\n",
      "          4       0.16      0.60      0.25        78\n",
      "\n",
      "avg / total       0.86      0.78      0.81      6709\n",
      "\n",
      "Overall Accuracy\n",
      "0.783211570001491\n",
      "F1 score per class details\n",
      "             precision    recall  f1-score   support\n",
      "\n",
      "          0       0.94      0.87      0.90      3668\n",
      "          1       0.90      0.67      0.77      1956\n",
      "          2       0.21      0.58      0.31       185\n",
      "          3       0.59      0.73      0.66       820\n",
      "          4       0.13      0.58      0.21        78\n",
      "\n",
      "avg / total       0.86      0.78      0.81      6707\n",
      "\n",
      "Overall Accuracy\n",
      "0.7954070981210856\n",
      "F1 score per class details\n",
      "             precision    recall  f1-score   support\n",
      "\n",
      "          0       0.95      0.88      0.91      3668\n",
      "          1       0.89      0.70      0.78      1955\n",
      "          2       0.22      0.65      0.33       185\n",
      "          3       0.62      0.71      0.66       820\n",
      "          4       0.17      0.63      0.27        78\n",
      "\n",
      "avg / total       0.86      0.80      0.82      6706\n",
      "\n",
      "Overall Accuracy\n",
      "0.7951088577393379\n",
      "F1 score per class details\n",
      "             precision    recall  f1-score   support\n",
      "\n",
      "          0       0.94      0.87      0.90      3668\n",
      "          1       0.90      0.71      0.80      1955\n",
      "          2       0.20      0.61      0.30       185\n",
      "          3       0.63      0.73      0.68       820\n",
      "          4       0.18      0.64      0.28        78\n",
      "\n",
      "avg / total       0.86      0.80      0.82      6706\n",
      "\n"
     ]
    }
   ],
   "source": [
    "###Using the parameters to check how the model would perform\n",
    "rfb = RandomForestClassifier(bootstrap = True, max_depth = 10,max_features = 'sqrt', n_estimators = 200)\n",
    "skf = StratifiedKFold(n_splits=5,random_state=None, shuffle=False)\n",
    "##sm = SMOTE()\n",
    "##accs = []\n",
    "##f1s = []\n",
    "##cms = []\n",
    "for train_index, test_index in skf.split(X,y):\n",
    "    \n",
    "    X_train, X_test = X.iloc[train_index], X.iloc[test_index]\n",
    "    y_train, y_test = y.iloc[train_index], y.iloc[test_index]\n",
    "    \n",
    "       \n",
    "    # Oversample\n",
    "    X_train_res, y_train_res = sm.fit_sample(X_train, y_train)\n",
    "    \n",
    "    # Fit Naive Bayes on the vectorized X with y train labels, \n",
    "    # then predict new y labels using X test\n",
    "    rfb.fit(X_train_res, y_train_res)\n",
    "    y_pred = rfb.predict(X_test)\n",
    "    \n",
    "    # Determine test set accuracy and f1 score on this fold using the true y labels and predicted y labels\n",
    "    accs =accuracy_score(y_test, y_pred)\n",
    "    print(\"Overall Accuracy\")\n",
    "    print(accs)\n",
    "      \n",
    "    print(\"F1 score per class details\")\n",
    "    print(classification_report(y_test, y_pred, target_names=target_names))\n",
    "    "
   ]
  },
  {
   "cell_type": "code",
   "execution_count": 107,
   "metadata": {},
   "outputs": [
    {
     "data": {
      "text/html": [
       "<div>\n",
       "<style scoped>\n",
       "    .dataframe tbody tr th:only-of-type {\n",
       "        vertical-align: middle;\n",
       "    }\n",
       "\n",
       "    .dataframe tbody tr th {\n",
       "        vertical-align: top;\n",
       "    }\n",
       "\n",
       "    .dataframe thead th {\n",
       "        text-align: right;\n",
       "    }\n",
       "</style>\n",
       "<table border=\"1\" class=\"dataframe\">\n",
       "  <thead>\n",
       "    <tr style=\"text-align: right;\">\n",
       "      <th></th>\n",
       "      <th>Application/Permit Number</th>\n",
       "      <th>Permit Type</th>\n",
       "      <th>Address</th>\n",
       "      <th>Description</th>\n",
       "      <th>Action Type</th>\n",
       "      <th>Work Type</th>\n",
       "      <th>Applicant Name</th>\n",
       "      <th>Application Date</th>\n",
       "      <th>Issue Date</th>\n",
       "      <th>Final Date</th>\n",
       "      <th>Expiration Date</th>\n",
       "      <th>Status</th>\n",
       "      <th>Contractor</th>\n",
       "      <th>Permit and Complaint Status URL</th>\n",
       "      <th>Master Use Permit</th>\n",
       "      <th>Latitude</th>\n",
       "      <th>Longitude</th>\n",
       "      <th>Location</th>\n",
       "    </tr>\n",
       "  </thead>\n",
       "  <tbody>\n",
       "    <tr>\n",
       "      <th>0</th>\n",
       "      <td>6425384</td>\n",
       "      <td>Construction</td>\n",
       "      <td>8348 18TH AVE NW</td>\n",
       "      <td>Construct 6' retaining wall to create walkway,...</td>\n",
       "      <td>ADD/ALT</td>\n",
       "      <td>No plan review</td>\n",
       "      <td>JOSSART, STEVE</td>\n",
       "      <td>2014-07-02T00:00:00</td>\n",
       "      <td>2014-07-02T00:00:00</td>\n",
       "      <td>2015-06-29T00:00:00</td>\n",
       "      <td>2016-01-02T00:00:00</td>\n",
       "      <td>Permit Closed</td>\n",
       "      <td>NaN</td>\n",
       "      <td>{'url': 'http://web6.seattle.gov/dpd/PermitSta...</td>\n",
       "      <td>NaN</td>\n",
       "      <td>47.690123</td>\n",
       "      <td>-122.379795</td>\n",
       "      <td>{'latitude': '47.69012273', 'human_address': '...</td>\n",
       "    </tr>\n",
       "    <tr>\n",
       "      <th>1</th>\n",
       "      <td>6496502</td>\n",
       "      <td>Construction</td>\n",
       "      <td>3120 S FRONTENAC ST</td>\n",
       "      <td>Like for like repair of framing at porches of ...</td>\n",
       "      <td>ADD/ALT</td>\n",
       "      <td>No plan review</td>\n",
       "      <td>RUNDLE, DANIEL</td>\n",
       "      <td>2015-11-12T00:00:00</td>\n",
       "      <td>2015-11-12T00:00:00</td>\n",
       "      <td>2016-02-10T00:00:00</td>\n",
       "      <td>2017-05-12T00:00:00</td>\n",
       "      <td>Permit Closed</td>\n",
       "      <td>SCHULTIS SUNDBERG INC.</td>\n",
       "      <td>{'url': 'http://web6.seattle.gov/dpd/PermitSta...</td>\n",
       "      <td>NaN</td>\n",
       "      <td>47.540111</td>\n",
       "      <td>-122.290535</td>\n",
       "      <td>{'latitude': '47.54011095', 'human_address': '...</td>\n",
       "    </tr>\n",
       "    <tr>\n",
       "      <th>2</th>\n",
       "      <td>6622347</td>\n",
       "      <td>Demolition</td>\n",
       "      <td>4031 S WILLOW ST</td>\n",
       "      <td>Demolish existing single family dwelling. Subj...</td>\n",
       "      <td>DEMOLITION</td>\n",
       "      <td>No plan review</td>\n",
       "      <td>WEBER, JULIAN</td>\n",
       "      <td>2017-10-04T00:00:00</td>\n",
       "      <td>NaN</td>\n",
       "      <td>NaN</td>\n",
       "      <td>NaN</td>\n",
       "      <td>Reviews Completed</td>\n",
       "      <td>NaN</td>\n",
       "      <td>{'url': 'http://web6.seattle.gov/dpd/PermitSta...</td>\n",
       "      <td>3024280.0</td>\n",
       "      <td>47.540470</td>\n",
       "      <td>-122.281410</td>\n",
       "      <td>{'latitude': '47.54046991', 'human_address': '...</td>\n",
       "    </tr>\n",
       "    <tr>\n",
       "      <th>3</th>\n",
       "      <td>6565685</td>\n",
       "      <td>Construction</td>\n",
       "      <td>3940 1ST AVE NE</td>\n",
       "      <td>Establish use as rowhouse and construct new du...</td>\n",
       "      <td>NEW</td>\n",
       "      <td>Plan Review</td>\n",
       "      <td>NOVION, SHAUN</td>\n",
       "      <td>2017-02-14T00:00:00</td>\n",
       "      <td>2017-10-20T00:00:00</td>\n",
       "      <td>NaN</td>\n",
       "      <td>2019-04-20T00:00:00</td>\n",
       "      <td>Permit Issued</td>\n",
       "      <td>NaN</td>\n",
       "      <td>{'url': 'http://web6.seattle.gov/dpd/PermitSta...</td>\n",
       "      <td>3025762.0</td>\n",
       "      <td>47.654986</td>\n",
       "      <td>-122.327467</td>\n",
       "      <td>{'latitude': '47.65498619', 'human_address': '...</td>\n",
       "    </tr>\n",
       "    <tr>\n",
       "      <th>4</th>\n",
       "      <td>6487370</td>\n",
       "      <td>Construction</td>\n",
       "      <td>5317 BALLARD AVE NW</td>\n",
       "      <td>Tenant improvement to existing women's boutiqu...</td>\n",
       "      <td>ADD/ALT</td>\n",
       "      <td>No plan review</td>\n",
       "      <td>DYNA CONTRACTING INC</td>\n",
       "      <td>2017-07-19T00:00:00</td>\n",
       "      <td>2017-07-19T00:00:00</td>\n",
       "      <td>2018-01-17T00:00:00</td>\n",
       "      <td>2019-01-19T00:00:00</td>\n",
       "      <td>Permit Closed</td>\n",
       "      <td>DYNA CONTRACTING INC</td>\n",
       "      <td>{'url': 'http://web6.seattle.gov/dpd/PermitSta...</td>\n",
       "      <td>NaN</td>\n",
       "      <td>47.666714</td>\n",
       "      <td>-122.383900</td>\n",
       "      <td>{'latitude': '47.66671437', 'human_address': '...</td>\n",
       "    </tr>\n",
       "  </tbody>\n",
       "</table>\n",
       "</div>"
      ],
      "text/plain": [
       "   Application/Permit Number   Permit Type              Address  \\\n",
       "0                    6425384  Construction     8348 18TH AVE NW   \n",
       "1                    6496502  Construction  3120 S FRONTENAC ST   \n",
       "2                    6622347    Demolition     4031 S WILLOW ST   \n",
       "3                    6565685  Construction      3940 1ST AVE NE   \n",
       "4                    6487370  Construction  5317 BALLARD AVE NW   \n",
       "\n",
       "                                         Description Action Type  \\\n",
       "0  Construct 6' retaining wall to create walkway,...     ADD/ALT   \n",
       "1  Like for like repair of framing at porches of ...     ADD/ALT   \n",
       "2  Demolish existing single family dwelling. Subj...  DEMOLITION   \n",
       "3  Establish use as rowhouse and construct new du...         NEW   \n",
       "4  Tenant improvement to existing women's boutiqu...     ADD/ALT   \n",
       "\n",
       "        Work Type        Applicant Name     Application Date  \\\n",
       "0  No plan review        JOSSART, STEVE  2014-07-02T00:00:00   \n",
       "1  No plan review        RUNDLE, DANIEL  2015-11-12T00:00:00   \n",
       "2  No plan review         WEBER, JULIAN  2017-10-04T00:00:00   \n",
       "3     Plan Review         NOVION, SHAUN  2017-02-14T00:00:00   \n",
       "4  No plan review  DYNA CONTRACTING INC  2017-07-19T00:00:00   \n",
       "\n",
       "            Issue Date           Final Date      Expiration Date  \\\n",
       "0  2014-07-02T00:00:00  2015-06-29T00:00:00  2016-01-02T00:00:00   \n",
       "1  2015-11-12T00:00:00  2016-02-10T00:00:00  2017-05-12T00:00:00   \n",
       "2                  NaN                  NaN                  NaN   \n",
       "3  2017-10-20T00:00:00                  NaN  2019-04-20T00:00:00   \n",
       "4  2017-07-19T00:00:00  2018-01-17T00:00:00  2019-01-19T00:00:00   \n",
       "\n",
       "              Status              Contractor  \\\n",
       "0      Permit Closed                     NaN   \n",
       "1      Permit Closed  SCHULTIS SUNDBERG INC.   \n",
       "2  Reviews Completed                     NaN   \n",
       "3      Permit Issued                     NaN   \n",
       "4      Permit Closed    DYNA CONTRACTING INC   \n",
       "\n",
       "                     Permit and Complaint Status URL  Master Use Permit  \\\n",
       "0  {'url': 'http://web6.seattle.gov/dpd/PermitSta...                NaN   \n",
       "1  {'url': 'http://web6.seattle.gov/dpd/PermitSta...                NaN   \n",
       "2  {'url': 'http://web6.seattle.gov/dpd/PermitSta...          3024280.0   \n",
       "3  {'url': 'http://web6.seattle.gov/dpd/PermitSta...          3025762.0   \n",
       "4  {'url': 'http://web6.seattle.gov/dpd/PermitSta...                NaN   \n",
       "\n",
       "    Latitude   Longitude                                           Location  \n",
       "0  47.690123 -122.379795  {'latitude': '47.69012273', 'human_address': '...  \n",
       "1  47.540111 -122.290535  {'latitude': '47.54011095', 'human_address': '...  \n",
       "2  47.540470 -122.281410  {'latitude': '47.54046991', 'human_address': '...  \n",
       "3  47.654986 -122.327467  {'latitude': '47.65498619', 'human_address': '...  \n",
       "4  47.666714 -122.383900  {'latitude': '47.66671437', 'human_address': '...  "
      ]
     },
     "execution_count": 107,
     "metadata": {},
     "output_type": "execute_result"
    }
   ],
   "source": [
    "##overall metrics in first model has proven to be better than the other models. Going with the initial model for predictions\n",
    "##checking the Test data \n",
    "test.head()\n"
   ]
  },
  {
   "cell_type": "code",
   "execution_count": 105,
   "metadata": {},
   "outputs": [],
   "source": [
    "##Taking a copy of the test data\n",
    "test_temp = test.copy()"
   ]
  },
  {
   "cell_type": "code",
   "execution_count": 106,
   "metadata": {},
   "outputs": [
    {
     "data": {
      "text/html": [
       "<div>\n",
       "<style scoped>\n",
       "    .dataframe tbody tr th:only-of-type {\n",
       "        vertical-align: middle;\n",
       "    }\n",
       "\n",
       "    .dataframe tbody tr th {\n",
       "        vertical-align: top;\n",
       "    }\n",
       "\n",
       "    .dataframe thead th {\n",
       "        text-align: right;\n",
       "    }\n",
       "</style>\n",
       "<table border=\"1\" class=\"dataframe\">\n",
       "  <thead>\n",
       "    <tr style=\"text-align: right;\">\n",
       "      <th></th>\n",
       "      <th>Application/Permit Number</th>\n",
       "      <th>Permit Type</th>\n",
       "      <th>Address</th>\n",
       "      <th>Description</th>\n",
       "      <th>Action Type</th>\n",
       "      <th>Work Type</th>\n",
       "      <th>Applicant Name</th>\n",
       "      <th>Application Date</th>\n",
       "      <th>Issue Date</th>\n",
       "      <th>Final Date</th>\n",
       "      <th>Expiration Date</th>\n",
       "      <th>Status</th>\n",
       "      <th>Contractor</th>\n",
       "      <th>Permit and Complaint Status URL</th>\n",
       "      <th>Master Use Permit</th>\n",
       "      <th>Latitude</th>\n",
       "      <th>Longitude</th>\n",
       "      <th>Location</th>\n",
       "    </tr>\n",
       "  </thead>\n",
       "  <tbody>\n",
       "    <tr>\n",
       "      <th>0</th>\n",
       "      <td>6425384</td>\n",
       "      <td>Construction</td>\n",
       "      <td>8348 18TH AVE NW</td>\n",
       "      <td>Construct 6' retaining wall to create walkway,...</td>\n",
       "      <td>ADD/ALT</td>\n",
       "      <td>No plan review</td>\n",
       "      <td>JOSSART, STEVE</td>\n",
       "      <td>2014-07-02T00:00:00</td>\n",
       "      <td>2014-07-02T00:00:00</td>\n",
       "      <td>2015-06-29T00:00:00</td>\n",
       "      <td>2016-01-02T00:00:00</td>\n",
       "      <td>Permit Closed</td>\n",
       "      <td>NaN</td>\n",
       "      <td>{'url': 'http://web6.seattle.gov/dpd/PermitSta...</td>\n",
       "      <td>NaN</td>\n",
       "      <td>47.690123</td>\n",
       "      <td>-122.379795</td>\n",
       "      <td>{'latitude': '47.69012273', 'human_address': '...</td>\n",
       "    </tr>\n",
       "    <tr>\n",
       "      <th>1</th>\n",
       "      <td>6496502</td>\n",
       "      <td>Construction</td>\n",
       "      <td>3120 S FRONTENAC ST</td>\n",
       "      <td>Like for like repair of framing at porches of ...</td>\n",
       "      <td>ADD/ALT</td>\n",
       "      <td>No plan review</td>\n",
       "      <td>RUNDLE, DANIEL</td>\n",
       "      <td>2015-11-12T00:00:00</td>\n",
       "      <td>2015-11-12T00:00:00</td>\n",
       "      <td>2016-02-10T00:00:00</td>\n",
       "      <td>2017-05-12T00:00:00</td>\n",
       "      <td>Permit Closed</td>\n",
       "      <td>SCHULTIS SUNDBERG INC.</td>\n",
       "      <td>{'url': 'http://web6.seattle.gov/dpd/PermitSta...</td>\n",
       "      <td>NaN</td>\n",
       "      <td>47.540111</td>\n",
       "      <td>-122.290535</td>\n",
       "      <td>{'latitude': '47.54011095', 'human_address': '...</td>\n",
       "    </tr>\n",
       "    <tr>\n",
       "      <th>2</th>\n",
       "      <td>6622347</td>\n",
       "      <td>Demolition</td>\n",
       "      <td>4031 S WILLOW ST</td>\n",
       "      <td>Demolish existing single family dwelling. Subj...</td>\n",
       "      <td>DEMOLITION</td>\n",
       "      <td>No plan review</td>\n",
       "      <td>WEBER, JULIAN</td>\n",
       "      <td>2017-10-04T00:00:00</td>\n",
       "      <td>NaN</td>\n",
       "      <td>NaN</td>\n",
       "      <td>NaN</td>\n",
       "      <td>Reviews Completed</td>\n",
       "      <td>NaN</td>\n",
       "      <td>{'url': 'http://web6.seattle.gov/dpd/PermitSta...</td>\n",
       "      <td>3024280.0</td>\n",
       "      <td>47.540470</td>\n",
       "      <td>-122.281410</td>\n",
       "      <td>{'latitude': '47.54046991', 'human_address': '...</td>\n",
       "    </tr>\n",
       "    <tr>\n",
       "      <th>3</th>\n",
       "      <td>6565685</td>\n",
       "      <td>Construction</td>\n",
       "      <td>3940 1ST AVE NE</td>\n",
       "      <td>Establish use as rowhouse and construct new du...</td>\n",
       "      <td>NEW</td>\n",
       "      <td>Plan Review</td>\n",
       "      <td>NOVION, SHAUN</td>\n",
       "      <td>2017-02-14T00:00:00</td>\n",
       "      <td>2017-10-20T00:00:00</td>\n",
       "      <td>NaN</td>\n",
       "      <td>2019-04-20T00:00:00</td>\n",
       "      <td>Permit Issued</td>\n",
       "      <td>NaN</td>\n",
       "      <td>{'url': 'http://web6.seattle.gov/dpd/PermitSta...</td>\n",
       "      <td>3025762.0</td>\n",
       "      <td>47.654986</td>\n",
       "      <td>-122.327467</td>\n",
       "      <td>{'latitude': '47.65498619', 'human_address': '...</td>\n",
       "    </tr>\n",
       "    <tr>\n",
       "      <th>4</th>\n",
       "      <td>6487370</td>\n",
       "      <td>Construction</td>\n",
       "      <td>5317 BALLARD AVE NW</td>\n",
       "      <td>Tenant improvement to existing women's boutiqu...</td>\n",
       "      <td>ADD/ALT</td>\n",
       "      <td>No plan review</td>\n",
       "      <td>DYNA CONTRACTING INC</td>\n",
       "      <td>2017-07-19T00:00:00</td>\n",
       "      <td>2017-07-19T00:00:00</td>\n",
       "      <td>2018-01-17T00:00:00</td>\n",
       "      <td>2019-01-19T00:00:00</td>\n",
       "      <td>Permit Closed</td>\n",
       "      <td>DYNA CONTRACTING INC</td>\n",
       "      <td>{'url': 'http://web6.seattle.gov/dpd/PermitSta...</td>\n",
       "      <td>NaN</td>\n",
       "      <td>47.666714</td>\n",
       "      <td>-122.383900</td>\n",
       "      <td>{'latitude': '47.66671437', 'human_address': '...</td>\n",
       "    </tr>\n",
       "  </tbody>\n",
       "</table>\n",
       "</div>"
      ],
      "text/plain": [
       "   Application/Permit Number   Permit Type              Address  \\\n",
       "0                    6425384  Construction     8348 18TH AVE NW   \n",
       "1                    6496502  Construction  3120 S FRONTENAC ST   \n",
       "2                    6622347    Demolition     4031 S WILLOW ST   \n",
       "3                    6565685  Construction      3940 1ST AVE NE   \n",
       "4                    6487370  Construction  5317 BALLARD AVE NW   \n",
       "\n",
       "                                         Description Action Type  \\\n",
       "0  Construct 6' retaining wall to create walkway,...     ADD/ALT   \n",
       "1  Like for like repair of framing at porches of ...     ADD/ALT   \n",
       "2  Demolish existing single family dwelling. Subj...  DEMOLITION   \n",
       "3  Establish use as rowhouse and construct new du...         NEW   \n",
       "4  Tenant improvement to existing women's boutiqu...     ADD/ALT   \n",
       "\n",
       "        Work Type        Applicant Name     Application Date  \\\n",
       "0  No plan review        JOSSART, STEVE  2014-07-02T00:00:00   \n",
       "1  No plan review        RUNDLE, DANIEL  2015-11-12T00:00:00   \n",
       "2  No plan review         WEBER, JULIAN  2017-10-04T00:00:00   \n",
       "3     Plan Review         NOVION, SHAUN  2017-02-14T00:00:00   \n",
       "4  No plan review  DYNA CONTRACTING INC  2017-07-19T00:00:00   \n",
       "\n",
       "            Issue Date           Final Date      Expiration Date  \\\n",
       "0  2014-07-02T00:00:00  2015-06-29T00:00:00  2016-01-02T00:00:00   \n",
       "1  2015-11-12T00:00:00  2016-02-10T00:00:00  2017-05-12T00:00:00   \n",
       "2                  NaN                  NaN                  NaN   \n",
       "3  2017-10-20T00:00:00                  NaN  2019-04-20T00:00:00   \n",
       "4  2017-07-19T00:00:00  2018-01-17T00:00:00  2019-01-19T00:00:00   \n",
       "\n",
       "              Status              Contractor  \\\n",
       "0      Permit Closed                     NaN   \n",
       "1      Permit Closed  SCHULTIS SUNDBERG INC.   \n",
       "2  Reviews Completed                     NaN   \n",
       "3      Permit Issued                     NaN   \n",
       "4      Permit Closed    DYNA CONTRACTING INC   \n",
       "\n",
       "                     Permit and Complaint Status URL  Master Use Permit  \\\n",
       "0  {'url': 'http://web6.seattle.gov/dpd/PermitSta...                NaN   \n",
       "1  {'url': 'http://web6.seattle.gov/dpd/PermitSta...                NaN   \n",
       "2  {'url': 'http://web6.seattle.gov/dpd/PermitSta...          3024280.0   \n",
       "3  {'url': 'http://web6.seattle.gov/dpd/PermitSta...          3025762.0   \n",
       "4  {'url': 'http://web6.seattle.gov/dpd/PermitSta...                NaN   \n",
       "\n",
       "    Latitude   Longitude                                           Location  \n",
       "0  47.690123 -122.379795  {'latitude': '47.69012273', 'human_address': '...  \n",
       "1  47.540111 -122.290535  {'latitude': '47.54011095', 'human_address': '...  \n",
       "2  47.540470 -122.281410  {'latitude': '47.54046991', 'human_address': '...  \n",
       "3  47.654986 -122.327467  {'latitude': '47.65498619', 'human_address': '...  \n",
       "4  47.666714 -122.383900  {'latitude': '47.66671437', 'human_address': '...  "
      ]
     },
     "execution_count": 106,
     "metadata": {},
     "output_type": "execute_result"
    }
   ],
   "source": [
    "test_temp.head()"
   ]
  },
  {
   "cell_type": "code",
   "execution_count": 107,
   "metadata": {},
   "outputs": [],
   "source": [
    "##Run the data through transformation and cleaning pipeline before predictions\n",
    "from datetime import datetime\n",
    "##from dateutil.parser import parse\n",
    "test_temp['Wait Time'] = pd.to_datetime(test_temp['Issue Date']) - pd.to_datetime(test_temp['Application Date'])\n",
    "test_temp['Wait_final'] = pd.to_datetime(test_temp['Final Date']) - pd.to_datetime(test_temp['Application Date'])\n",
    "test_temp['Wait_expire'] = pd.to_datetime(test_temp['Expiration Date']) - pd.to_datetime(test_temp['Application Date'])"
   ]
  },
  {
   "cell_type": "code",
   "execution_count": 108,
   "metadata": {},
   "outputs": [
    {
     "data": {
      "text/html": [
       "<div>\n",
       "<style scoped>\n",
       "    .dataframe tbody tr th:only-of-type {\n",
       "        vertical-align: middle;\n",
       "    }\n",
       "\n",
       "    .dataframe tbody tr th {\n",
       "        vertical-align: top;\n",
       "    }\n",
       "\n",
       "    .dataframe thead th {\n",
       "        text-align: right;\n",
       "    }\n",
       "</style>\n",
       "<table border=\"1\" class=\"dataframe\">\n",
       "  <thead>\n",
       "    <tr style=\"text-align: right;\">\n",
       "      <th></th>\n",
       "      <th>Application/Permit Number</th>\n",
       "      <th>Permit Type</th>\n",
       "      <th>Address</th>\n",
       "      <th>Description</th>\n",
       "      <th>Action Type</th>\n",
       "      <th>Work Type</th>\n",
       "      <th>Applicant Name</th>\n",
       "      <th>Application Date</th>\n",
       "      <th>Issue Date</th>\n",
       "      <th>Final Date</th>\n",
       "      <th>...</th>\n",
       "      <th>Status</th>\n",
       "      <th>Contractor</th>\n",
       "      <th>Permit and Complaint Status URL</th>\n",
       "      <th>Master Use Permit</th>\n",
       "      <th>Latitude</th>\n",
       "      <th>Longitude</th>\n",
       "      <th>Location</th>\n",
       "      <th>Wait Time</th>\n",
       "      <th>Wait_final</th>\n",
       "      <th>Wait_expire</th>\n",
       "    </tr>\n",
       "  </thead>\n",
       "  <tbody>\n",
       "    <tr>\n",
       "      <th>0</th>\n",
       "      <td>6425384</td>\n",
       "      <td>Construction</td>\n",
       "      <td>8348 18TH AVE NW</td>\n",
       "      <td>Construct 6' retaining wall to create walkway,...</td>\n",
       "      <td>ADD/ALT</td>\n",
       "      <td>No plan review</td>\n",
       "      <td>JOSSART, STEVE</td>\n",
       "      <td>2014-07-02T00:00:00</td>\n",
       "      <td>2014-07-02T00:00:00</td>\n",
       "      <td>2015-06-29T00:00:00</td>\n",
       "      <td>...</td>\n",
       "      <td>Permit Closed</td>\n",
       "      <td>NaN</td>\n",
       "      <td>{'url': 'http://web6.seattle.gov/dpd/PermitSta...</td>\n",
       "      <td>NaN</td>\n",
       "      <td>47.690123</td>\n",
       "      <td>-122.379795</td>\n",
       "      <td>{'latitude': '47.69012273', 'human_address': '...</td>\n",
       "      <td>0 days</td>\n",
       "      <td>362 days</td>\n",
       "      <td>549 days</td>\n",
       "    </tr>\n",
       "    <tr>\n",
       "      <th>1</th>\n",
       "      <td>6496502</td>\n",
       "      <td>Construction</td>\n",
       "      <td>3120 S FRONTENAC ST</td>\n",
       "      <td>Like for like repair of framing at porches of ...</td>\n",
       "      <td>ADD/ALT</td>\n",
       "      <td>No plan review</td>\n",
       "      <td>RUNDLE, DANIEL</td>\n",
       "      <td>2015-11-12T00:00:00</td>\n",
       "      <td>2015-11-12T00:00:00</td>\n",
       "      <td>2016-02-10T00:00:00</td>\n",
       "      <td>...</td>\n",
       "      <td>Permit Closed</td>\n",
       "      <td>SCHULTIS SUNDBERG INC.</td>\n",
       "      <td>{'url': 'http://web6.seattle.gov/dpd/PermitSta...</td>\n",
       "      <td>NaN</td>\n",
       "      <td>47.540111</td>\n",
       "      <td>-122.290535</td>\n",
       "      <td>{'latitude': '47.54011095', 'human_address': '...</td>\n",
       "      <td>0 days</td>\n",
       "      <td>90 days</td>\n",
       "      <td>547 days</td>\n",
       "    </tr>\n",
       "    <tr>\n",
       "      <th>2</th>\n",
       "      <td>6622347</td>\n",
       "      <td>Demolition</td>\n",
       "      <td>4031 S WILLOW ST</td>\n",
       "      <td>Demolish existing single family dwelling. Subj...</td>\n",
       "      <td>DEMOLITION</td>\n",
       "      <td>No plan review</td>\n",
       "      <td>WEBER, JULIAN</td>\n",
       "      <td>2017-10-04T00:00:00</td>\n",
       "      <td>NaN</td>\n",
       "      <td>NaN</td>\n",
       "      <td>...</td>\n",
       "      <td>Reviews Completed</td>\n",
       "      <td>NaN</td>\n",
       "      <td>{'url': 'http://web6.seattle.gov/dpd/PermitSta...</td>\n",
       "      <td>3024280.0</td>\n",
       "      <td>47.540470</td>\n",
       "      <td>-122.281410</td>\n",
       "      <td>{'latitude': '47.54046991', 'human_address': '...</td>\n",
       "      <td>NaT</td>\n",
       "      <td>NaT</td>\n",
       "      <td>NaT</td>\n",
       "    </tr>\n",
       "    <tr>\n",
       "      <th>3</th>\n",
       "      <td>6565685</td>\n",
       "      <td>Construction</td>\n",
       "      <td>3940 1ST AVE NE</td>\n",
       "      <td>Establish use as rowhouse and construct new du...</td>\n",
       "      <td>NEW</td>\n",
       "      <td>Plan Review</td>\n",
       "      <td>NOVION, SHAUN</td>\n",
       "      <td>2017-02-14T00:00:00</td>\n",
       "      <td>2017-10-20T00:00:00</td>\n",
       "      <td>NaN</td>\n",
       "      <td>...</td>\n",
       "      <td>Permit Issued</td>\n",
       "      <td>NaN</td>\n",
       "      <td>{'url': 'http://web6.seattle.gov/dpd/PermitSta...</td>\n",
       "      <td>3025762.0</td>\n",
       "      <td>47.654986</td>\n",
       "      <td>-122.327467</td>\n",
       "      <td>{'latitude': '47.65498619', 'human_address': '...</td>\n",
       "      <td>248 days</td>\n",
       "      <td>NaT</td>\n",
       "      <td>795 days</td>\n",
       "    </tr>\n",
       "    <tr>\n",
       "      <th>4</th>\n",
       "      <td>6487370</td>\n",
       "      <td>Construction</td>\n",
       "      <td>5317 BALLARD AVE NW</td>\n",
       "      <td>Tenant improvement to existing women's boutiqu...</td>\n",
       "      <td>ADD/ALT</td>\n",
       "      <td>No plan review</td>\n",
       "      <td>DYNA CONTRACTING INC</td>\n",
       "      <td>2017-07-19T00:00:00</td>\n",
       "      <td>2017-07-19T00:00:00</td>\n",
       "      <td>2018-01-17T00:00:00</td>\n",
       "      <td>...</td>\n",
       "      <td>Permit Closed</td>\n",
       "      <td>DYNA CONTRACTING INC</td>\n",
       "      <td>{'url': 'http://web6.seattle.gov/dpd/PermitSta...</td>\n",
       "      <td>NaN</td>\n",
       "      <td>47.666714</td>\n",
       "      <td>-122.383900</td>\n",
       "      <td>{'latitude': '47.66671437', 'human_address': '...</td>\n",
       "      <td>0 days</td>\n",
       "      <td>182 days</td>\n",
       "      <td>549 days</td>\n",
       "    </tr>\n",
       "  </tbody>\n",
       "</table>\n",
       "<p>5 rows × 21 columns</p>\n",
       "</div>"
      ],
      "text/plain": [
       "   Application/Permit Number   Permit Type              Address  \\\n",
       "0                    6425384  Construction     8348 18TH AVE NW   \n",
       "1                    6496502  Construction  3120 S FRONTENAC ST   \n",
       "2                    6622347    Demolition     4031 S WILLOW ST   \n",
       "3                    6565685  Construction      3940 1ST AVE NE   \n",
       "4                    6487370  Construction  5317 BALLARD AVE NW   \n",
       "\n",
       "                                         Description Action Type  \\\n",
       "0  Construct 6' retaining wall to create walkway,...     ADD/ALT   \n",
       "1  Like for like repair of framing at porches of ...     ADD/ALT   \n",
       "2  Demolish existing single family dwelling. Subj...  DEMOLITION   \n",
       "3  Establish use as rowhouse and construct new du...         NEW   \n",
       "4  Tenant improvement to existing women's boutiqu...     ADD/ALT   \n",
       "\n",
       "        Work Type        Applicant Name     Application Date  \\\n",
       "0  No plan review        JOSSART, STEVE  2014-07-02T00:00:00   \n",
       "1  No plan review        RUNDLE, DANIEL  2015-11-12T00:00:00   \n",
       "2  No plan review         WEBER, JULIAN  2017-10-04T00:00:00   \n",
       "3     Plan Review         NOVION, SHAUN  2017-02-14T00:00:00   \n",
       "4  No plan review  DYNA CONTRACTING INC  2017-07-19T00:00:00   \n",
       "\n",
       "            Issue Date           Final Date     ...                 Status  \\\n",
       "0  2014-07-02T00:00:00  2015-06-29T00:00:00     ...          Permit Closed   \n",
       "1  2015-11-12T00:00:00  2016-02-10T00:00:00     ...          Permit Closed   \n",
       "2                  NaN                  NaN     ...      Reviews Completed   \n",
       "3  2017-10-20T00:00:00                  NaN     ...          Permit Issued   \n",
       "4  2017-07-19T00:00:00  2018-01-17T00:00:00     ...          Permit Closed   \n",
       "\n",
       "               Contractor                    Permit and Complaint Status URL  \\\n",
       "0                     NaN  {'url': 'http://web6.seattle.gov/dpd/PermitSta...   \n",
       "1  SCHULTIS SUNDBERG INC.  {'url': 'http://web6.seattle.gov/dpd/PermitSta...   \n",
       "2                     NaN  {'url': 'http://web6.seattle.gov/dpd/PermitSta...   \n",
       "3                     NaN  {'url': 'http://web6.seattle.gov/dpd/PermitSta...   \n",
       "4    DYNA CONTRACTING INC  {'url': 'http://web6.seattle.gov/dpd/PermitSta...   \n",
       "\n",
       "  Master Use Permit   Latitude   Longitude  \\\n",
       "0               NaN  47.690123 -122.379795   \n",
       "1               NaN  47.540111 -122.290535   \n",
       "2         3024280.0  47.540470 -122.281410   \n",
       "3         3025762.0  47.654986 -122.327467   \n",
       "4               NaN  47.666714 -122.383900   \n",
       "\n",
       "                                            Location Wait Time Wait_final  \\\n",
       "0  {'latitude': '47.69012273', 'human_address': '...    0 days   362 days   \n",
       "1  {'latitude': '47.54011095', 'human_address': '...    0 days    90 days   \n",
       "2  {'latitude': '47.54046991', 'human_address': '...       NaT        NaT   \n",
       "3  {'latitude': '47.65498619', 'human_address': '...  248 days        NaT   \n",
       "4  {'latitude': '47.66671437', 'human_address': '...    0 days   182 days   \n",
       "\n",
       "  Wait_expire  \n",
       "0    549 days  \n",
       "1    547 days  \n",
       "2         NaT  \n",
       "3    795 days  \n",
       "4    549 days  \n",
       "\n",
       "[5 rows x 21 columns]"
      ]
     },
     "execution_count": 108,
     "metadata": {},
     "output_type": "execute_result"
    }
   ],
   "source": [
    "test_temp.head()"
   ]
  },
  {
   "cell_type": "code",
   "execution_count": 109,
   "metadata": {},
   "outputs": [
    {
     "name": "stdout",
     "output_type": "stream",
     "text": [
      "   Application/Permit Number   Permit Type  \\\n",
      "0                    6425384  Construction   \n",
      "1                    6496502  Construction   \n",
      "2                    6622347    Demolition   \n",
      "3                    6565685  Construction   \n",
      "4                    6487370  Construction   \n",
      "\n",
      "                                         Description Action Type  \\\n",
      "0  Construct 6' retaining wall to create walkway,...     ADD/ALT   \n",
      "1  Like for like repair of framing at porches of ...     ADD/ALT   \n",
      "2  Demolish existing single family dwelling. Subj...  DEMOLITION   \n",
      "3  Establish use as rowhouse and construct new du...         NEW   \n",
      "4  Tenant improvement to existing women's boutiqu...     ADD/ALT   \n",
      "\n",
      "        Work Type           Issue Date             Status   Latitude  \\\n",
      "0  No plan review  2014-07-02T00:00:00      Permit Closed  47.690123   \n",
      "1  No plan review  2015-11-12T00:00:00      Permit Closed  47.540111   \n",
      "2  No plan review                  NaN  Reviews Completed  47.540470   \n",
      "3     Plan Review  2017-10-20T00:00:00      Permit Issued  47.654986   \n",
      "4  No plan review  2017-07-19T00:00:00      Permit Closed  47.666714   \n",
      "\n",
      "    Longitude Wait Time Wait_final Wait_expire  \n",
      "0 -122.379795    0 days   362 days    549 days  \n",
      "1 -122.290535    0 days    90 days    547 days  \n",
      "2 -122.281410       NaT        NaT         NaT  \n",
      "3 -122.327467  248 days        NaT    795 days  \n",
      "4 -122.383900    0 days   182 days    549 days  \n"
     ]
    }
   ],
   "source": [
    "test_temp.drop(['Address','Applicant Name','Application Date','Final Date', 'Expiration Date', 'Contractor', 'Permit and Complaint Status URL','Master Use Permit','Location'],axis=1,inplace=True)\n",
    "print(test_temp.head())"
   ]
  },
  {
   "cell_type": "code",
   "execution_count": 110,
   "metadata": {},
   "outputs": [],
   "source": [
    "test_temp.drop(['Issue Date'],axis=1,inplace=True)"
   ]
  },
  {
   "cell_type": "code",
   "execution_count": 111,
   "metadata": {},
   "outputs": [],
   "source": [
    "test_temp['Wait Time'] = test_temp['Wait Time'].dt.days\n",
    "test_temp['Wait_final'] = test_temp['Wait_final'].dt.days\n",
    "test_temp['Wait_expire'] = test_temp['Wait_expire'].dt.days\n",
    "Wait_Time_mean_test = test_temp.groupby('Permit Type')['Wait Time'].mean()\n",
    "for index, row in test_temp.iterrows():\n",
    "    if(pd.isnull(row['Wait Time'])):\n",
    "        test_temp.loc[index, 'Wait Time'] = Wait_Time_mean_test[row['Permit Type']]\n",
    "        \n",
    "Wait_Time_final_test = test_temp.groupby('Permit Type')['Wait_final'].mean()\n",
    "for index, row in test_temp.iterrows():\n",
    "    if(pd.isnull(row['Wait_final'])):\n",
    "        test_temp.loc[index, 'Wait_final'] = Wait_Time_final_test[row['Permit Type']]\n",
    "Wait_Time_expire_test = test_temp.groupby('Permit Type')['Wait_expire'].mean()\n",
    "for index, row in test_temp.iterrows():\n",
    "    if(pd.isnull(row['Wait_expire'])):\n",
    "        test_temp.loc[index, 'Wait_expire'] = Wait_Time_expire_test[row['Permit Type']]"
   ]
  },
  {
   "cell_type": "code",
   "execution_count": 112,
   "metadata": {},
   "outputs": [
    {
     "name": "stdout",
     "output_type": "stream",
     "text": [
      "0    construct 6 retaining wall to create walkway p...\n",
      "1    like for like repair of framing at porches of ...\n",
      "2    demolish existing single family dwelling subje...\n",
      "3    establish use as rowhouse and construct new du...\n",
      "4    tenant improvement to existing womens boutique...\n",
      "Name: Description, dtype: object\n"
     ]
    }
   ],
   "source": [
    "##Data cleaning of Description of test data\n",
    "import re\n",
    "def process_data_test(input):\n",
    "    return \" \".join(re.sub(\"(@[A-Za-z0-9]+)|([^0-9A-Za-z \\t])\", \"\",str(input).lower()).split())\n",
    "test_temp['Description'] = test_temp['Description'].apply(process_data_test)\n",
    "print(test_temp['Description'].head())"
   ]
  },
  {
   "cell_type": "code",
   "execution_count": 113,
   "metadata": {},
   "outputs": [
    {
     "name": "stdout",
     "output_type": "stream",
     "text": [
      "(22360, 200)\n"
     ]
    }
   ],
   "source": [
    "##Convert Description to vector rep\n",
    "dtm_tfidf_test = vect_tfidf.transform(test_temp['Description'])\n",
    "print(dtm_tfidf_test.shape)"
   ]
  },
  {
   "cell_type": "code",
   "execution_count": 114,
   "metadata": {},
   "outputs": [],
   "source": [
    "##Storing the details into Dataframe \n",
    "Text_tfidf_test_df = pd.DataFrame(dtm_tfidf_test.toarray(), columns=vect_tfidf.get_feature_names())"
   ]
  },
  {
   "cell_type": "code",
   "execution_count": 115,
   "metadata": {},
   "outputs": [],
   "source": [
    "test_temp= pd.get_dummies(test_temp, columns=['Permit Type','Action Type','Status','Work Type'])"
   ]
  },
  {
   "cell_type": "code",
   "execution_count": 116,
   "metadata": {},
   "outputs": [],
   "source": [
    "Features_Union_test = pd.concat([test_temp, Text_tfidf_test_df], axis=1)"
   ]
  },
  {
   "cell_type": "code",
   "execution_count": 117,
   "metadata": {},
   "outputs": [],
   "source": [
    "test_temp_X = Features_Union_test.copy()"
   ]
  },
  {
   "cell_type": "code",
   "execution_count": 118,
   "metadata": {},
   "outputs": [],
   "source": [
    "test_temp_X.drop(['Description'],axis=1,inplace=True)"
   ]
  },
  {
   "cell_type": "code",
   "execution_count": 119,
   "metadata": {},
   "outputs": [
    {
     "data": {
      "text/plain": [
       "Application/Permit Number                     0\n",
       "Latitude                                     16\n",
       "Longitude                                    16\n",
       "Wait Time                                     0\n",
       "Wait_final                                    0\n",
       "Wait_expire                                   0\n",
       "Permit Type_Construction                      0\n",
       "Permit Type_Demolition                        0\n",
       "Permit Type_Site Development                  0\n",
       "Action Type_ADD/ALT                           0\n",
       "Action Type_ALTER                             0\n",
       "Action Type_CURB CUT                          0\n",
       "Action Type_DECONSTRUCTION                    0\n",
       "Action Type_DEMOLITION                        0\n",
       "Action Type_DRAINAGE APPROVAL                 0\n",
       "Action Type_GRADING                           0\n",
       "Action Type_NEW                               0\n",
       "Action Type_NO CONSTRUCTION                   0\n",
       "Action Type_RELOCATION                        0\n",
       "Action Type_SHORELINE EXEMPTION ONLY          0\n",
       "Action Type_SITE MONITORING ONLY              0\n",
       "Action Type_TEMP                              0\n",
       "Action Type_TREE PROTECTION EXEMPTION         0\n",
       "Action Type_TREE/VEGETATION MAINT/RESTORE     0\n",
       "Status_AP Closed                              0\n",
       "Status_AP Finaled                             0\n",
       "Status_Application Accepted                   0\n",
       "Status_CANCELLED                              0\n",
       "Status_Cert of Occupancy Authorized           0\n",
       "Status_Information Collected                  0\n",
       "                                             ..\n",
       "space                                         0\n",
       "stfi                                          0\n",
       "storage                                       0\n",
       "story                                         0\n",
       "story addition                                0\n",
       "structure                                     0\n",
       "structures                                    0\n",
       "subject                                       0\n",
       "subject field                                 0\n",
       "substantial                                   0\n",
       "substantial alterations                       0\n",
       "suite                                         0\n",
       "surface                                       0\n",
       "surface parking                               0\n",
       "tenant                                        0\n",
       "tenant improvement                            0\n",
       "tenant improvements                           0\n",
       "townhouse                                     0\n",
       "unit                                          0\n",
       "units                                         0\n",
       "use                                           0\n",
       "use construct                                 0\n",
       "use single                                    0\n",
       "voluntary                                     0\n",
       "voluntary seismic                             0\n",
       "wall                                          0\n",
       "walls                                         0\n",
       "west                                          0\n",
       "windows                                       0\n",
       "work                                          0\n",
       "Length: 238, dtype: int64"
      ]
     },
     "execution_count": 119,
     "metadata": {},
     "output_type": "execute_result"
    }
   ],
   "source": [
    "X_test = test_temp_X\n",
    "X_test.apply(lambda x: sum(x.isnull()))"
   ]
  },
  {
   "cell_type": "code",
   "execution_count": 120,
   "metadata": {},
   "outputs": [],
   "source": [
    "X_test['Latitude'].fillna(0,inplace=True)\n",
    "X_test['Longitude'].fillna(0,inplace=True)"
   ]
  },
  {
   "cell_type": "code",
   "execution_count": 121,
   "metadata": {},
   "outputs": [],
   "source": [
    "X_test['predictions'] = rf.predict(X_test)"
   ]
  },
  {
   "cell_type": "code",
   "execution_count": 122,
   "metadata": {},
   "outputs": [
    {
     "name": "stdout",
     "output_type": "stream",
     "text": [
      "0    0\n",
      "1    0\n",
      "2    0\n",
      "3    0\n",
      "4    1\n",
      "Name: predictions, dtype: int64\n"
     ]
    }
   ],
   "source": [
    "print(X_test['predictions'].head())"
   ]
  },
  {
   "cell_type": "code",
   "execution_count": 125,
   "metadata": {},
   "outputs": [
    {
     "data": {
      "text/plain": [
       "<matplotlib.axes._subplots.AxesSubplot at 0x1b197ad3ba8>"
      ]
     },
     "execution_count": 125,
     "metadata": {},
     "output_type": "execute_result"
    },
    {
     "data": {
      "image/png": "[encoded data removed]",
      "text/plain": [
       "<Figure size 432x288 with 1 Axes>"
      ]
     },
     "metadata": {},
     "output_type": "display_data"
    }
   ],
   "source": [
    "    feat_importances = pd.Series(rf.feature_importances_,index = X_train.columns)\n",
    "    feat_importances.nlargest(30).plot(kind='barh')"
   ]
  },
  {
   "cell_type": "code",
   "execution_count": null,
   "metadata": {},
   "outputs": [],
   "source": []
  }
 ],
 "metadata": {
  "kernelspec": {
   "display_name": "Python 3",
   "language": "python",
   "name": "python3"
  },
  "language_info": {
   "codemirror_mode": {
    "name": "ipython",
    "version": 3
   },
   "file_extension": ".py",
   "mimetype": "text/x-python",
   "name": "python",
   "nbconvert_exporter": "python",
   "pygments_lexer": "ipython3",
   "version": "3.6.5"
  }
 },
 "nbformat": 4,
 "nbformat_minor": 2
}
