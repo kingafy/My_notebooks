{
 "cells": [
  {
   "cell_type": "markdown",
   "metadata": {},
   "source": [
    "<span style=\"color:#337AFF;font-size:20px;font-weight:bold;\">PROBLEM  STATEMENT</span>"
   ]
  },
  {
   "cell_type": "markdown",
   "metadata": {},
   "source": [
    "Driver distraction is a significant and over-arching problem with many dimensions. Distracted Driving involves any activity a person engages in, that has the potential to distract him or her from the primary task of driving and increase the risk of a crash. The need to address this issue and implement effective countermeasures is urgent to improve public safety.\n",
    "\n",
    "![DriverUrl](https://kaggle2.blob.core.windows.net/competitions/kaggle/5048/media/output_DEb8oT.gif \"driver\")"
   ]
  },
  {
   "cell_type": "markdown",
   "metadata": {},
   "source": [
    "<span style=\"color:#337AFF;font-size:20px;font-weight:bold;\">SOLUTION</span>"
   ]
  },
  {
   "cell_type": "markdown",
   "metadata": {},
   "source": [
    "By leveraging deep learning techniques, \n",
    "\n",
    "1. To develop an accurate and robust system for detecting distracted driver and warn them against it. \n",
    "2. To classify the cause of distraction which will help initiate appropriate follow up actions.\n",
    "3. To use transfer learning technique to predict the probability for one of each class below, for an input image.\n",
    "\n",
    "        c0: normal driving \n",
    "        c1: texting – right \n",
    "        c2: talking on the phone – right\n",
    "        c3: texting - left \n",
    "        c4: talking on the phone - left \n",
    "        c5: operating the radio \n",
    "        c6: drinking \n",
    "        c7: reaching behind \n",
    "        c8: hair and makeup \n",
    "        c9: talking to passenger"
   ]
  },
  {
   "cell_type": "code",
   "execution_count": 337,
   "metadata": {
    "collapsed": true
   },
   "outputs": [],
   "source": [
    "import warnings\n",
    "warnings.filterwarnings('ignore')"
   ]
  },
  {
   "cell_type": "code",
   "execution_count": 338,
   "metadata": {
    "collapsed": true
   },
   "outputs": [],
   "source": [
    "import os\n",
    "from IPython import display\n",
    "import time\n",
    "import shutil\n",
    "import logging\n",
    "import datetime\n",
    "import json\n",
    "from numpy import array"
   ]
  },
  {
   "cell_type": "code",
   "execution_count": 339,
   "metadata": {
    "collapsed": true
   },
   "outputs": [],
   "source": [
    "import numpy as np\n",
    "import pandas as pd"
   ]
  },
  {
   "cell_type": "code",
   "execution_count": 340,
   "metadata": {
    "collapsed": true
   },
   "outputs": [],
   "source": [
    "import matplotlib.pyplot as plt\n",
    "%matplotlib inline"
   ]
  },
  {
   "cell_type": "code",
   "execution_count": 341,
   "metadata": {
    "collapsed": true
   },
   "outputs": [],
   "source": [
    "from PIL import Image\n",
    "from keras.models import model_from_json"
   ]
  },
  {
   "cell_type": "code",
   "execution_count": 342,
   "metadata": {
    "collapsed": true
   },
   "outputs": [],
   "source": [
    "logging.basicConfig(filename='AlexNetSavedPretrained.log',level=logging.DEBUG)\n",
    "ts = datetime.datetime.now()\n",
    "logging.info(\"******************************************************************\")\n",
    "logging.info(\"Execution started at - \"+ts.strftime(\"%Y-%m-%d %H:%M:%S\"))"
   ]
  },
  {
   "cell_type": "markdown",
   "metadata": {},
   "source": [
    "<span style=\"color:#337AFF;font-size:18px;font-weight:bold;\">Custom functions</span>"
   ]
  },
  {
   "cell_type": "code",
   "execution_count": 343,
   "metadata": {
    "collapsed": true
   },
   "outputs": [],
   "source": [
    "def fun_SetWorkingDirectoryPath(directoryPath):\n",
    "    os.chdir(directoryPath)"
   ]
  },
  {
   "cell_type": "code",
   "execution_count": 344,
   "metadata": {
    "collapsed": true
   },
   "outputs": [],
   "source": [
    "def fun_DeleteWorkingDirectory(working_dir_path):\n",
    "    if os.path.exists(working_dir_path):\n",
    "        shutil.rmtree(working_dir_path)\n",
    "        logging.info(\"Deleted Working Directory\")\n",
    "        print(\"Deleted Working Directory Successfully !\")\n",
    "    else:\n",
    "        logging.error(\"Directory Doesn't Exist\")\n",
    "        print(\"Directory Doesn't Exist !\")\n",
    "    print(\"\")"
   ]
  },
  {
   "cell_type": "code",
   "execution_count": 345,
   "metadata": {
    "collapsed": true
   },
   "outputs": [],
   "source": [
    "def fun_CreateWorkingDirectories(directory):\n",
    "    if not os.path.exists(directory):\n",
    "        os.makedirs(directory)\n",
    "        logging.info(directory + \"  -  Created !\")\n",
    "        print(directory + \"  -  Created !\")\n",
    "    print(\"\")"
   ]
  },
  {
   "cell_type": "code",
   "execution_count": 346,
   "metadata": {
    "collapsed": true
   },
   "outputs": [],
   "source": [
    "def fun_GetFilesList(directoryPath):\n",
    "    files_list = []\n",
    "    for root, directories, filenames in os.walk(directoryPath):\n",
    "        for filename in filenames:\n",
    "            iterImage = filename.upper()\n",
    "            if(iterImage.endswith(\".JPG\") or iterImage.endswith(\".JPEG\") or iterImage.endswith(\".PNG\")):\n",
    "                files_list.append(os.path.join(root,filename))\n",
    "    \n",
    "    return(files_list)"
   ]
  },
  {
   "cell_type": "code",
   "execution_count": 347,
   "metadata": {
    "collapsed": true
   },
   "outputs": [],
   "source": [
    "def fun_ConvertImagesToArray(readFile, imageFilesList):\n",
    "    imageFileArray = []\n",
    "    filesReadCount = 0\n",
    "    #for tempImages in imageFilesList:\n",
    "    logging.debug(\"Reading {0} images :\".format(readFile))\n",
    "    print(\"Reading {0} images :\".format(readFile))\n",
    "    for tempImages in log_progress(imageFilesList, every=1):\n",
    "        iterImage = tempImages.upper()\n",
    "        if(iterImage.endswith(\".JPG\") or iterImage.endswith(\".JPEG\") or iterImage.endswith(\".PNG\")):\n",
    "            tempArray = np.array(Image.open(tempImages))\n",
    "            if (len(tempArray.shape))==2:\n",
    "                tempShape = tempArray.shape\n",
    "                tempArray = tempArray.reshape(tempShape[0], tempShape[1], 1)\n",
    "            imageFileArray.append(tempArray)\n",
    "            filesReadCount = filesReadCount + 1\n",
    "    print(\"\")\n",
    "        \n",
    "    return(np.asarray(imageFileArray))"
   ]
  },
  {
   "cell_type": "code",
   "execution_count": 348,
   "metadata": {
    "collapsed": true
   },
   "outputs": [],
   "source": [
    "def fun_GetLabelsFromFileNames(entire_images_list):\n",
    "    Y_Master = []\n",
    "    for image_name in entire_images_list:\n",
    "        try:\n",
    "            temp = image_name.split(\"/\")\n",
    "            Y_Master.append(int(temp[len(temp)-2][1]))\n",
    "        except:\n",
    "            continue\n",
    "    return(Y_Master)"
   ]
  },
  {
   "cell_type": "code",
   "execution_count": 349,
   "metadata": {
    "collapsed": true
   },
   "outputs": [],
   "source": [
    "def fun_ConvertImages(readFile, imageFilesList, resizeHeight=None, resizeWidth=None, isGrayScaledConversion=None):\n",
    "    imageFileArray = []\n",
    "    filesReadCount = 0\n",
    "    logging.debug(\"Converting {0} to the desired format :\".format(readFile))\n",
    "    print(\"Converting {0} to the desired format :\".format(readFile))\n",
    "    for tempImages in log_progress(imageFilesList, every=1):\n",
    "        iterImage = tempImages.upper()\n",
    "        if(iterImage.endswith(\".JPG\") or iterImage.endswith(\".JPEG\") or iterImage.endswith(\".PNG\")):\n",
    "            image=Image.open(tempImages)\n",
    "            \n",
    "            if (resizeHeight is not None and resizeWidth is not None):\n",
    "                image = image.resize((resizeHeight, resizeWidth))\n",
    "\n",
    "            if (isGrayScaledConversion):\n",
    "                image=image.convert('L')\n",
    "\n",
    "            temp = tempImages.replace(\"Complete Dataset\", \"Working Dir\")\n",
    "            image.save(temp)\n",
    "            imageFileArray.append(temp)\n",
    "            filesReadCount = filesReadCount + 1\n",
    "            \n",
    "    return (readFile, imageFileArray)"
   ]
  },
  {
   "cell_type": "code",
   "execution_count": 350,
   "metadata": {
    "collapsed": true
   },
   "outputs": [],
   "source": [
    "def fun_Delete_And_Create_Working_Dir(working_dir_path):\n",
    "    fun_DeleteWorkingDirectory(working_dir_path)\n",
    "    for i in range(0,10):\n",
    "        fun_CreateWorkingDirectories(working_dir_path + \"imgs/train/c\" + str(i))"
   ]
  },
  {
   "cell_type": "code",
   "execution_count": 351,
   "metadata": {
    "collapsed": true
   },
   "outputs": [],
   "source": [
    "def log_progress(sequence, every=None, size=None, name='Items'):\n",
    "    from ipywidgets import IntProgress, HTML, VBox\n",
    "    from IPython.display import display\n",
    "\n",
    "    is_iterator = False\n",
    "    if size is None:\n",
    "        try:\n",
    "            size = len(sequence)\n",
    "        except TypeError:\n",
    "            is_iterator = True\n",
    "    if size is not None:\n",
    "        if every is None:\n",
    "            if size <= 200:\n",
    "                every = 1\n",
    "            else:\n",
    "                every = int(size / 200)     # every 0.5%\n",
    "    else:\n",
    "        assert every is not None, 'sequence is iterator, set every'\n",
    "\n",
    "    if is_iterator:\n",
    "        progress = IntProgress(min=0, max=1, value=1)\n",
    "        progress.bar_style = 'info'\n",
    "    else:\n",
    "        progress = IntProgress(min=0, max=size, value=0)\n",
    "    label = HTML()\n",
    "    box = VBox(children=[label, progress])\n",
    "    display(box)\n",
    "\n",
    "    index = 0\n",
    "    try:\n",
    "        for index, record in enumerate(sequence, 1):\n",
    "            if index == 1 or index % every == 0:\n",
    "                if is_iterator:\n",
    "                    label.value = '{name}: {index} / ?'.format(\n",
    "                        name=name,\n",
    "                        index=index\n",
    "                    )\n",
    "                else:\n",
    "                    progress.value = index\n",
    "                    label.value = u'{name}: {index} / {size}'.format(\n",
    "                        name=name,\n",
    "                        index=index,\n",
    "                        size=size\n",
    "                    )\n",
    "            yield record\n",
    "    except:\n",
    "        progress.bar_style = 'danger'\n",
    "        raise\n",
    "    else:\n",
    "        progress.bar_style = 'success'\n",
    "        progress.value = index\n",
    "        label.value = \"{name}: {index}\".format(\n",
    "            name=name,\n",
    "            index=str(index or '?')\n",
    "        )"
   ]
  },
  {
   "cell_type": "code",
   "execution_count": 352,
   "metadata": {
    "collapsed": true
   },
   "outputs": [],
   "source": [
    "def fun_oneHotEncode(labels):\n",
    "    values = array(labels)\n",
    "    onehot_encoder = OneHotEncoder(sparse=False)\n",
    "    values=values.reshape(len(values), 1)\n",
    "    onehot_encoded = to_categorical(values)\n",
    "    return onehot_encoded"
   ]
  },
  {
   "cell_type": "code",
   "execution_count": 353,
   "metadata": {
    "collapsed": true
   },
   "outputs": [],
   "source": [
    "def save_model(working_dir_path, model, index, cross=''):\n",
    "    print(model)\n",
    "    json_string = model.to_json()\n",
    "    if not os.path.isdir(working_dir_path + '/cache'):\n",
    "        os.mkdir(working_dir_path + '/cache')\n",
    "    json_name = 'architecture' + str(index) + cross + '.json'\n",
    "    weight_name = 'model_weights' + str(index) + cross + '.h5'\n",
    "    open(os.path.join(working_dir_path + '/cache', json_name), 'w').write(json_string)\n",
    "    print(working_dir_path + '/cache')\n",
    "    model.save_weights(os.path.join(working_dir_path + '/cache', weight_name), overwrite=True)"
   ]
  },
  {
   "cell_type": "code",
   "execution_count": 354,
   "metadata": {
    "collapsed": true
   },
   "outputs": [],
   "source": [
    "def read_model(working_dir_path, index, cross=''):\n",
    "    json_name = 'architecture' + str(index) + cross + '.json'\n",
    "    weight_name = 'model_weights' + str(index) + cross + '.h5'\n",
    "    model = model_from_json(open(os.path.join(working_dir_path + '/cache', json_name)).read())\n",
    "    model.load_weights(os.path.join(working_dir_path + '/cache', weight_name),by_name=True)\n",
    "    return model"
   ]
  },
  {
   "cell_type": "code",
   "execution_count": 355,
   "metadata": {
    "collapsed": true
   },
   "outputs": [],
   "source": [
    "def fun_AlexNet_model():\n",
    "    model = Sequential()\n",
    "    \n",
    "    # 1st Convolutional Layer\n",
    "    model.add(Conv2D(filters=96, input_shape=(224,224,3), kernel_size=(11,11),\\\n",
    "                     strides=(4,4), padding='valid'))\n",
    "    model.add(Activation('relu'))\n",
    "    # Pooling \n",
    "    model.add(MaxPooling2D(pool_size=(2,2), strides=(2,2), padding='valid'))\n",
    "    # Batch Normalisation before passing it to the next layer\n",
    "    model.add(BatchNormalization())\n",
    "    \n",
    "    # 2nd Convolutional Layer\n",
    "    model.add(Conv2D(filters=256, kernel_size=(11,11), strides=(1,1), padding='valid'))\n",
    "    model.add(Activation('relu'))\n",
    "    # Pooling\n",
    "    model.add(MaxPooling2D(pool_size=(2,2), strides=(2,2), padding='valid'))\n",
    "    # Batch Normalisation\n",
    "    model.add(BatchNormalization())\n",
    "    \n",
    "    # 3rd Convolutional Layer\n",
    "    model.add(Conv2D(filters=384, kernel_size=(3,3), strides=(1,1), padding='valid'))\n",
    "    model.add(Activation('relu'))\n",
    "    # Batch Normalisation\n",
    "    model.add(BatchNormalization())\n",
    "    \n",
    "    # 4th Convolutional Layer\n",
    "    model.add(Conv2D(filters=384, kernel_size=(3,3), strides=(1,1), padding='valid'))\n",
    "    model.add(Activation('relu'))\n",
    "    # Batch Normalisation\n",
    "    model.add(BatchNormalization())\n",
    "    \n",
    "    # 5th Convolutional Layer\n",
    "    model.add(Conv2D(filters=256, kernel_size=(3,3), strides=(1,1), padding='valid'))\n",
    "    model.add(Activation('relu'))\n",
    "    # Pooling\n",
    "    model.add(MaxPooling2D(pool_size=(2,2), strides=(2,2), padding='valid'))\n",
    "    # Batch Normalisation\n",
    "    model.add(BatchNormalization())\n",
    "\n",
    "    # Passing it to a dense layer\n",
    "    model.add(Flatten())\n",
    "    # 1st Dense Layer\n",
    "    model.add(Dense(4096, input_shape=(224*224*3,)))\n",
    "    model.add(Activation('relu'))\n",
    "    # Add Dropout to prevent overfitting\n",
    "    model.add(Dropout(0.4))\n",
    "    # Batch Normalisation\n",
    "    model.add(BatchNormalization())\n",
    "    \n",
    "    # 2nd Dense Layer\n",
    "    model.add(Dense(4096))\n",
    "    model.add(Activation('relu'))\n",
    "    # Add Dropout\n",
    "    model.add(Dropout(0.4))\n",
    "    # Batch Normalisation\n",
    "    model.add(BatchNormalization())\n",
    "\n",
    "    # 3rd Dense Layer\n",
    "    model.add(Dense(1000))\n",
    "    model.add(Activation('relu'))\n",
    "    # Add Dropout\n",
    "    model.add(Dropout(0.4))\n",
    "    # Batch Normalisation\n",
    "    model.add(BatchNormalization())\n",
    "\n",
    "    # Output Layer\n",
    "    #model.add(Dense(10))\n",
    "    #model.add(Activation('softmax'))\n",
    "\n",
    "    return model"
   ]
  },
  {
   "cell_type": "markdown",
   "metadata": {},
   "source": [
    "<span style=\"color:#337AFF;font-size:18px;font-weight:bold;\">Loading input Data</span>"
   ]
  },
  {
   "cell_type": "code",
   "execution_count": 356,
   "metadata": {
    "collapsed": true
   },
   "outputs": [],
   "source": [
    "source_dir_path = \"/mnt/home/kumar.manjushree_gmail/Capstone/imgs/train/\""
   ]
  },
  {
   "cell_type": "code",
   "execution_count": 357,
   "metadata": {
    "collapsed": true
   },
   "outputs": [],
   "source": [
    "working_dir_path = \"/mnt/home/kumar.manjushree_gmail/Capstone/WorkingDir/\""
   ]
  },
  {
   "cell_type": "code",
   "execution_count": 358,
   "metadata": {},
   "outputs": [
    {
     "data": {
      "text/plain": [
       "'/mnt/home/kumar.manjushree_gmail/Capstone/imgs/train/'"
      ]
     },
     "execution_count": 358,
     "metadata": {},
     "output_type": "execute_result"
    }
   ],
   "source": [
    "source_dir_path"
   ]
  },
  {
   "cell_type": "code",
   "execution_count": 359,
   "metadata": {
    "scrolled": true
   },
   "outputs": [
    {
     "name": "stdout",
     "output_type": "stream",
     "text": [
      "/mnt/home/kumar.manjushree_gmail/Capstone/imgs/train/\n",
      "(entire_images_list) : 22424\n"
     ]
    }
   ],
   "source": [
    "## List of images\n",
    "entire_images_list = fun_GetFilesList(source_dir_path)\n",
    "print(source_dir_path)\n",
    "logging.debug(\"(entire_images_list) :\".format(len(entire_images_list)))\n",
    "print(\"(entire_images_list) :\", len(entire_images_list))"
   ]
  },
  {
   "cell_type": "code",
   "execution_count": 360,
   "metadata": {},
   "outputs": [
    {
     "name": "stdout",
     "output_type": "stream",
     "text": [
      "(entire_labels_list) : 22424\n"
     ]
    }
   ],
   "source": [
    "## List of labels\n",
    "entire_labels_list = fun_GetLabelsFromFileNames(entire_images_list)\n",
    "logging.debug(\"(entire_labels_list) :\".format(len(entire_labels_list)))\n",
    "print(\"(entire_labels_list) :\", len(entire_labels_list))"
   ]
  },
  {
   "cell_type": "code",
   "execution_count": 361,
   "metadata": {
    "collapsed": true
   },
   "outputs": [],
   "source": [
    "## Data frame of training set    \n",
    "filePath_Labels_List_df = pd.DataFrame(\n",
    "                                        {\n",
    "                                            'Files_Path': entire_images_list,\n",
    "                                            'Labels'    : entire_labels_list\n",
    "                                        }\n",
    ")"
   ]
  },
  {
   "cell_type": "code",
   "execution_count": 362,
   "metadata": {
    "collapsed": true
   },
   "outputs": [],
   "source": [
    "## Stratified sample\n",
    "train_test_filePath_Labels_List_df = filePath_Labels_List_df.sample(n=3000, random_state=10)"
   ]
  },
  {
   "cell_type": "code",
   "execution_count": 363,
   "metadata": {
    "collapsed": true
   },
   "outputs": [],
   "source": [
    "num_classes=10"
   ]
  },
  {
   "cell_type": "code",
   "execution_count": 364,
   "metadata": {},
   "outputs": [
    {
     "name": "stdout",
     "output_type": "stream",
     "text": [
      "(Label, Number of Rows) : (0, 350)\n",
      "\n",
      "(Label, Number of Rows) : (1, 297)\n",
      "\n",
      "(Label, Number of Rows) : (2, 314)\n",
      "\n",
      "(Label, Number of Rows) : (3, 310)\n",
      "\n",
      "(Label, Number of Rows) : (4, 297)\n",
      "\n",
      "(Label, Number of Rows) : (5, 335)\n",
      "\n",
      "(Label, Number of Rows) : (6, 277)\n",
      "\n",
      "(Label, Number of Rows) : (7, 266)\n",
      "\n",
      "(Label, Number of Rows) : (8, 246)\n",
      "\n",
      "(Label, Number of Rows) : (9, 308)\n",
      "\n"
     ]
    }
   ],
   "source": [
    "## Shuffling images in sample\n",
    "for i in range(num_classes):\n",
    "    logging.debug(\"(Label, Number of Rows) : ({0}, {1})\".format(i, len(\n",
    "        train_test_filePath_Labels_List_df[train_test_filePath_Labels_List_df[\"Labels\"]==i])))\n",
    "    print(\"(Label, Number of Rows) : ({0}, {1})\".format(i, len(\n",
    "        train_test_filePath_Labels_List_df[train_test_filePath_Labels_List_df[\"Labels\"]==i])))\n",
    "    print(\"\")\n",
    "    train_test_filePath_Labels_List_df_shuffled = train_test_filePath_Labels_List_df.reindex(\n",
    "        np.random.permutation(train_test_filePath_Labels_List_df.index))\n"
   ]
  },
  {
   "cell_type": "code",
   "execution_count": 365,
   "metadata": {},
   "outputs": [
    {
     "data": {
      "text/html": [
       "<div>\n",
       "<style scoped>\n",
       "    .dataframe tbody tr th:only-of-type {\n",
       "        vertical-align: middle;\n",
       "    }\n",
       "\n",
       "    .dataframe tbody tr th {\n",
       "        vertical-align: top;\n",
       "    }\n",
       "\n",
       "    .dataframe thead th {\n",
       "        text-align: right;\n",
       "    }\n",
       "</style>\n",
       "<table border=\"1\" class=\"dataframe\">\n",
       "  <thead>\n",
       "    <tr style=\"text-align: right;\">\n",
       "      <th></th>\n",
       "      <th>Files_Path</th>\n",
       "      <th>Labels</th>\n",
       "    </tr>\n",
       "  </thead>\n",
       "  <tbody>\n",
       "    <tr>\n",
       "      <th>13302</th>\n",
       "      <td>/mnt/home/kumar.manjushree_gmail/Capstone/imgs/train/c3/img_18969.jpg</td>\n",
       "      <td>3</td>\n",
       "    </tr>\n",
       "    <tr>\n",
       "      <th>14475</th>\n",
       "      <td>/mnt/home/kumar.manjushree_gmail/Capstone/imgs/train/c3/img_64603.jpg</td>\n",
       "      <td>3</td>\n",
       "    </tr>\n",
       "    <tr>\n",
       "      <th>1773</th>\n",
       "      <td>/mnt/home/kumar.manjushree_gmail/Capstone/imgs/train/c9/img_84563.jpg</td>\n",
       "      <td>9</td>\n",
       "    </tr>\n",
       "    <tr>\n",
       "      <th>8221</th>\n",
       "      <td>/mnt/home/kumar.manjushree_gmail/Capstone/imgs/train/c6/img_94078.jpg</td>\n",
       "      <td>6</td>\n",
       "    </tr>\n",
       "    <tr>\n",
       "      <th>6156</th>\n",
       "      <td>/mnt/home/kumar.manjushree_gmail/Capstone/imgs/train/c6/img_11817.jpg</td>\n",
       "      <td>6</td>\n",
       "    </tr>\n",
       "    <tr>\n",
       "      <th>909</th>\n",
       "      <td>/mnt/home/kumar.manjushree_gmail/Capstone/imgs/train/c9/img_47403.jpg</td>\n",
       "      <td>9</td>\n",
       "    </tr>\n",
       "    <tr>\n",
       "      <th>8750</th>\n",
       "      <td>/mnt/home/kumar.manjushree_gmail/Capstone/imgs/train/c5/img_23348.jpg</td>\n",
       "      <td>5</td>\n",
       "    </tr>\n",
       "    <tr>\n",
       "      <th>13297</th>\n",
       "      <td>/mnt/home/kumar.manjushree_gmail/Capstone/imgs/train/c3/img_18841.jpg</td>\n",
       "      <td>3</td>\n",
       "    </tr>\n",
       "    <tr>\n",
       "      <th>13869</th>\n",
       "      <td>/mnt/home/kumar.manjushree_gmail/Capstone/imgs/train/c3/img_40777.jpg</td>\n",
       "      <td>3</td>\n",
       "    </tr>\n",
       "    <tr>\n",
       "      <th>21229</th>\n",
       "      <td>/mnt/home/kumar.manjushree_gmail/Capstone/imgs/train/c0/img_56098.jpg</td>\n",
       "      <td>0</td>\n",
       "    </tr>\n",
       "  </tbody>\n",
       "</table>\n",
       "</div>"
      ],
      "text/plain": [
       "                                                                  Files_Path  \\\n",
       "13302  /mnt/home/kumar.manjushree_gmail/Capstone/imgs/train/c3/img_18969.jpg   \n",
       "14475  /mnt/home/kumar.manjushree_gmail/Capstone/imgs/train/c3/img_64603.jpg   \n",
       "1773   /mnt/home/kumar.manjushree_gmail/Capstone/imgs/train/c9/img_84563.jpg   \n",
       "8221   /mnt/home/kumar.manjushree_gmail/Capstone/imgs/train/c6/img_94078.jpg   \n",
       "6156   /mnt/home/kumar.manjushree_gmail/Capstone/imgs/train/c6/img_11817.jpg   \n",
       "909    /mnt/home/kumar.manjushree_gmail/Capstone/imgs/train/c9/img_47403.jpg   \n",
       "8750   /mnt/home/kumar.manjushree_gmail/Capstone/imgs/train/c5/img_23348.jpg   \n",
       "13297  /mnt/home/kumar.manjushree_gmail/Capstone/imgs/train/c3/img_18841.jpg   \n",
       "13869  /mnt/home/kumar.manjushree_gmail/Capstone/imgs/train/c3/img_40777.jpg   \n",
       "21229  /mnt/home/kumar.manjushree_gmail/Capstone/imgs/train/c0/img_56098.jpg   \n",
       "\n",
       "       Labels  \n",
       "13302  3       \n",
       "14475  3       \n",
       "1773   9       \n",
       "8221   6       \n",
       "6156   6       \n",
       "909    9       \n",
       "8750   5       \n",
       "13297  3       \n",
       "13869  3       \n",
       "21229  0       "
      ]
     },
     "execution_count": 365,
     "metadata": {},
     "output_type": "execute_result"
    }
   ],
   "source": [
    "train_test_filePath_Labels_List_df_shuffled.head(10)"
   ]
  },
  {
   "cell_type": "markdown",
   "metadata": {},
   "source": [
    "<span style=\"color:#337AFF;font-size:18px;font-weight:bold;\">Splitting and preprocessing</span>"
   ]
  },
  {
   "cell_type": "code",
   "execution_count": 366,
   "metadata": {},
   "outputs": [
    {
     "name": "stdout",
     "output_type": "stream",
     "text": [
      "(X_train, Y_train) : ({0}, {1}) 2100 2100\n",
      "(X_test, Y_test)   : ({0}, {1}) 900 900\n",
      "\n"
     ]
    }
   ],
   "source": [
    "## Split into train and test\n",
    "X_train, X_test, Y_train, Y_test = (train_test_split(\n",
    "                                                train_test_filePath_Labels_List_df_shuffled[\"Files_Path\"], \n",
    "                                                train_test_filePath_Labels_List_df_shuffled[\"Labels\"], \n",
    "                                                test_size = 0.3,\n",
    "                                                random_state = 10\n",
    "                                            )\n",
    "                                   )\n",
    "logging.debug(\"(X_train, Y_train) : ({0}, {1})\".format(len(X_train), len(Y_train)))\n",
    "print(\"(X_train, Y_train) : ({0}, {1})\", len(X_train), len(Y_train))\n",
    "logging.debug(\"(X_test, Y_test)   : ({0}, {1})\".format(len(X_test), len(Y_test)))\n",
    "print(\"(X_test, Y_test)   : ({0}, {1})\", len(X_test), len(Y_test))\n",
    "print(\"\")"
   ]
  },
  {
   "cell_type": "code",
   "execution_count": 367,
   "metadata": {},
   "outputs": [
    {
     "data": {
      "text/plain": [
       "(900,)"
      ]
     },
     "execution_count": 367,
     "metadata": {},
     "output_type": "execute_result"
    }
   ],
   "source": [
    "Y_test.shape"
   ]
  },
  {
   "cell_type": "code",
   "execution_count": 368,
   "metadata": {},
   "outputs": [
    {
     "name": "stdout",
     "output_type": "stream",
     "text": [
      "Converting X_test to the desired format :\n"
     ]
    },
    {
     "data": {
      "application/vnd.jupyter.widget-view+json": {
       "model_id": "bc58dd66bc5c4d80b0932502150c763b",
       "version_major": 2,
       "version_minor": 0
      },
      "text/plain": [
       "A Jupyter Widget"
      ]
     },
     "metadata": {},
     "output_type": "display_data"
    }
   ],
   "source": [
    "## Resize test images\n",
    "(readFile, imageFileArray) = fun_ConvertImages(\n",
    "                        readFile=\"X_test\",\n",
    "                        imageFilesList=X_test, \n",
    "                        resizeHeight=224, \n",
    "                        resizeWidth=224, \n",
    "                        isGrayScaledConversion=False\n",
    "                )"
   ]
  },
  {
   "cell_type": "code",
   "execution_count": 369,
   "metadata": {},
   "outputs": [
    {
     "name": "stdout",
     "output_type": "stream",
     "text": [
      "Reading X_test images :\n"
     ]
    },
    {
     "data": {
      "application/vnd.jupyter.widget-view+json": {
       "model_id": "a593d5460b7d44a98df815ea86392086",
       "version_major": 2,
       "version_minor": 0
      },
      "text/plain": [
       "A Jupyter Widget"
      ]
     },
     "metadata": {},
     "output_type": "display_data"
    },
    {
     "name": "stdout",
     "output_type": "stream",
     "text": [
      "\n"
     ]
    }
   ],
   "source": [
    "## Convert test images to Array\n",
    "X_test  = fun_ConvertImagesToArray(\n",
    "                       readFile,\n",
    "                       imageFileArray\n",
    "                  )\n",
    "        \n",
    "X_test = X_test.astype('float32') \n",
    "#Y_test = Y_test.astype('float32')"
   ]
  },
  {
   "cell_type": "code",
   "execution_count": 370,
   "metadata": {},
   "outputs": [
    {
     "name": "stdout",
     "output_type": "stream",
     "text": [
      "(X_test.shape, Y_test.shape) : ((900, 224, 224, 3), (900,))\n"
     ]
    }
   ],
   "source": [
    "# Normalise data to [0, 1] range\n",
    "X_test /= np.max(X_test)\n",
    "#Y_test /= np.max(Y_test)\n",
    "logging.debug(\"(X_test.shape, Y_test.shape) : ({0}, {1})\".format(X_test.shape, Y_test.shape))\n",
    "print(\"(X_test.shape, Y_test.shape) : ({0}, {1})\".format(X_test.shape, Y_test.shape))    "
   ]
  },
  {
   "cell_type": "code",
   "execution_count": 371,
   "metadata": {
    "collapsed": true
   },
   "outputs": [],
   "source": [
    "# One-hot encode the test labels\n",
    "Y_test = fun_oneHotEncode(Y_test)"
   ]
  },
  {
   "cell_type": "code",
   "execution_count": 372,
   "metadata": {
    "collapsed": true
   },
   "outputs": [],
   "source": [
    "## Prepare input\n",
    "img_rows, img_cols, img_channel = 224, 224, 3\n",
    "img_shape=(img_rows, img_cols, img_channel)"
   ]
  },
  {
   "cell_type": "markdown",
   "metadata": {},
   "source": [
    "<span style=\"color:#337AFF;font-size:18px;font-weight:bold;\">Loading Saved Models</span>"
   ]
  },
  {
   "cell_type": "markdown",
   "metadata": {},
   "source": [
    "AlexNet model, pretrained with \"imageNet\" has been used and retrained with images specific to the problem statement. This model has been trained with 3000 images belonging to various classes."
   ]
  },
  {
   "cell_type": "code",
   "execution_count": 373,
   "metadata": {
    "collapsed": true
   },
   "outputs": [],
   "source": [
    "from keras import optimizers\n",
    "from keras.applications.vgg16 import VGG16\n",
    "from keras.preprocessing.image import ImageDataGenerator\n",
    "from keras.callbacks import EarlyStopping\n",
    "from keras.applications.resnet50 import ResNet50,preprocess_input\n",
    "from keras.applications.mobilenet import MobileNet"
   ]
  },
  {
   "cell_type": "code",
   "execution_count": 374,
   "metadata": {
    "collapsed": true
   },
   "outputs": [],
   "source": [
    "loss=\"categorical_crossentropy\"\n",
    "optimizer=\"adam\"\n",
    "metrics=\"accuracy\"\n",
    "batch_size = 32\n",
    "num_epochs = 20\n",
    "validation_split=0.2\n",
    "estimators=[]"
   ]
  },
  {
   "cell_type": "code",
   "execution_count": 375,
   "metadata": {
    "collapsed": true
   },
   "outputs": [],
   "source": [
    "alexnetmodel =  read_model(\"/mnt/home/kumar.manjushree_gmail/Capstone/\", 0, 'alexnet')"
   ]
  },
  {
   "attachments": {
    "image.png": {
     "image/png": "[encoded data removed]"
    }
   },
   "cell_type": "markdown",
   "metadata": {},
   "source": [
    "![image.png](attachment:image.png)"
   ]
  },
  {
   "attachments": {
    "image.png": {
     "image/png": "[encoded data removed]"
    }
   },
   "cell_type": "markdown",
   "metadata": {},
   "source": [
    "![image.png](attachment:image.png)"
   ]
  },
  {
   "cell_type": "markdown",
   "metadata": {},
   "source": [
    "<span style=\"color:#337AFF;font-size:18px;font-weight:bold;\">Confusion Matrices and Predictions</span>"
   ]
  },
  {
   "cell_type": "code",
   "execution_count": 376,
   "metadata": {
    "collapsed": true
   },
   "outputs": [],
   "source": [
    "import seaborn as sns\n",
    "from sklearn.metrics import accuracy_score"
   ]
  },
  {
   "cell_type": "code",
   "execution_count": 377,
   "metadata": {
    "collapsed": true
   },
   "outputs": [],
   "source": [
    "import scikitplot as skplt"
   ]
  },
  {
   "cell_type": "code",
   "execution_count": 378,
   "metadata": {
    "collapsed": true
   },
   "outputs": [],
   "source": [
    "model_name = \"alexnetPredictions\"\n",
    "extension = '.npy'\n",
    "prediction_path = './predictions/' + model_name + extension"
   ]
  },
  {
   "cell_type": "code",
   "execution_count": 379,
   "metadata": {},
   "outputs": [],
   "source": [
    "# Look at confusion matrix \n",
    "from sklearn.metrics import confusion_matrix"
   ]
  },
  {
   "cell_type": "code",
   "execution_count": 380,
   "metadata": {},
   "outputs": [],
   "source": [
    "\n",
    "# Predict the values from the validation dataset\n",
    "Y_pred = alexnetmodel.predict(X_test)\n",
    "np.save(prediction_path, Y_pred)\n",
    "# Convert predictions classes to one hot vectors \n",
    "Y_pred_classes = np.argmax(Y_pred,axis = 1) \n",
    "# Convert validation observations to one hot vectors\n",
    "Y_true = np.argmax(Y_test,axis = 1) "
   ]
  },
  {
   "cell_type": "code",
   "execution_count": 381,
   "metadata": {},
   "outputs": [
    {
     "data": {
      "text/plain": [
       "<matplotlib.axes._subplots.AxesSubplot at 0x7fd06a4b1e48>"
      ]
     },
     "execution_count": 381,
     "metadata": {},
     "output_type": "execute_result"
    },
    {
     "data": {
      "image/png": "[encoded data removed]",
      "text/plain": [
       "<matplotlib.figure.Figure at 0x7fd06a509390>"
      ]
     },
     "metadata": {},
     "output_type": "display_data"
    }
   ],
   "source": [
    "skplt.metrics.plot_confusion_matrix(Y_true, Y_pred_classes, figsize=(8,8))"
   ]
  },
  {
   "cell_type": "code",
   "execution_count": 382,
   "metadata": {},
   "outputs": [
    {
     "name": "stdout",
     "output_type": "stream",
     "text": [
      "Test accuracy: 95.0\n"
     ]
    }
   ],
   "source": [
    "# Predict\n",
    "test_acc = round(accuracy_score(Y_test, Y_pred.round())*100)\n",
    "print(\"Test accuracy:\", test_acc)\n",
    "\n",
    "resultList = []\n",
    "classType = []\n",
    "for i in range(len(X_test)):\n",
    "    preds = Y_pred[i]\n",
    "    #print(\"Predictions\", i, preds.round())\n",
    "    #print(\"Labels\", i, Y_test[i])\n",
    "    if (np.argmax(preds.round()) == np.argmax(Y_test[i])):\n",
    "        resultList.append(\"right\")\n",
    "        classType.append(np.argmax(Y_test[i]))\n",
    "    else:\n",
    "        resultList.append(\"wrong\")\n",
    "        classType.append(np.argmax(Y_test[i]))"
   ]
  },
  {
   "cell_type": "code",
   "execution_count": 383,
   "metadata": {
    "collapsed": true
   },
   "outputs": [],
   "source": [
    "class_df = pd.DataFrame(\n",
    "                            {\n",
    "                                'Class': classType,\n",
    "                                'Labels': Y_test[:,0],\n",
    "                                'Predictions'    : Y_pred[:,0],\n",
    "                                'Result': resultList\n",
    "                            }\n",
    "    )"
   ]
  },
  {
   "cell_type": "code",
   "execution_count": 384,
   "metadata": {},
   "outputs": [
    {
     "data": {
      "text/html": [
       "<div>\n",
       "<style scoped>\n",
       "    .dataframe tbody tr th:only-of-type {\n",
       "        vertical-align: middle;\n",
       "    }\n",
       "\n",
       "    .dataframe tbody tr th {\n",
       "        vertical-align: top;\n",
       "    }\n",
       "\n",
       "    .dataframe thead th {\n",
       "        text-align: right;\n",
       "    }\n",
       "</style>\n",
       "<table border=\"1\" class=\"dataframe\">\n",
       "  <thead>\n",
       "    <tr style=\"text-align: right;\">\n",
       "      <th></th>\n",
       "      <th>Class</th>\n",
       "      <th>Labels</th>\n",
       "      <th>Predictions</th>\n",
       "      <th>Result</th>\n",
       "    </tr>\n",
       "  </thead>\n",
       "  <tbody>\n",
       "    <tr>\n",
       "      <th>0</th>\n",
       "      <td>9</td>\n",
       "      <td>0.0</td>\n",
       "      <td>2.049447e-03</td>\n",
       "      <td>right</td>\n",
       "    </tr>\n",
       "    <tr>\n",
       "      <th>1</th>\n",
       "      <td>9</td>\n",
       "      <td>0.0</td>\n",
       "      <td>5.540781e-08</td>\n",
       "      <td>right</td>\n",
       "    </tr>\n",
       "    <tr>\n",
       "      <th>2</th>\n",
       "      <td>0</td>\n",
       "      <td>1.0</td>\n",
       "      <td>9.997987e-01</td>\n",
       "      <td>right</td>\n",
       "    </tr>\n",
       "    <tr>\n",
       "      <th>3</th>\n",
       "      <td>2</td>\n",
       "      <td>0.0</td>\n",
       "      <td>3.493090e-13</td>\n",
       "      <td>right</td>\n",
       "    </tr>\n",
       "    <tr>\n",
       "      <th>4</th>\n",
       "      <td>5</td>\n",
       "      <td>0.0</td>\n",
       "      <td>1.820315e-07</td>\n",
       "      <td>right</td>\n",
       "    </tr>\n",
       "  </tbody>\n",
       "</table>\n",
       "</div>"
      ],
      "text/plain": [
       "   Class  Labels   Predictions Result\n",
       "0  9      0.0     2.049447e-03  right\n",
       "1  9      0.0     5.540781e-08  right\n",
       "2  0      1.0     9.997987e-01  right\n",
       "3  2      0.0     3.493090e-13  right\n",
       "4  5      0.0     1.820315e-07  right"
      ]
     },
     "execution_count": 384,
     "metadata": {},
     "output_type": "execute_result"
    }
   ],
   "source": [
    "class_df.head(5)"
   ]
  },
  {
   "cell_type": "code",
   "execution_count": 385,
   "metadata": {
    "collapsed": true
   },
   "outputs": [],
   "source": [
    "groupedClassResult = pd.DataFrame({'count' : class_df.groupby( [ \"Class\", \"Result\"] ).size()}).reset_index()\n",
    "groupedClassResult.shape\n",
    "groupedClass = pd.DataFrame({'count' : class_df.groupby( [ \"Class\"] ).size()}).reset_index()\n",
    "groupedClass.shape\n",
    "merged_inner = pd.merge(left=groupedClass,right=groupedClassResult, left_on='Class', right_on='Class')\n",
    "merged_inner.columns = ['Class', 'TotalCount', 'Result', 'ResultCount']"
   ]
  },
  {
   "cell_type": "code",
   "execution_count": 386,
   "metadata": {},
   "outputs": [
    {
     "data": {
      "text/html": [
       "<div>\n",
       "<style scoped>\n",
       "    .dataframe tbody tr th:only-of-type {\n",
       "        vertical-align: middle;\n",
       "    }\n",
       "\n",
       "    .dataframe tbody tr th {\n",
       "        vertical-align: top;\n",
       "    }\n",
       "\n",
       "    .dataframe thead th {\n",
       "        text-align: right;\n",
       "    }\n",
       "</style>\n",
       "<table border=\"1\" class=\"dataframe\">\n",
       "  <thead>\n",
       "    <tr style=\"text-align: right;\">\n",
       "      <th></th>\n",
       "      <th>Result</th>\n",
       "      <th>right</th>\n",
       "      <th>wrong</th>\n",
       "      <th>RightPrediction%</th>\n",
       "    </tr>\n",
       "    <tr>\n",
       "      <th>Class</th>\n",
       "      <th>TotalCount</th>\n",
       "      <th></th>\n",
       "      <th></th>\n",
       "      <th></th>\n",
       "    </tr>\n",
       "  </thead>\n",
       "  <tbody>\n",
       "    <tr>\n",
       "      <th>0</th>\n",
       "      <th>110</th>\n",
       "      <td>105.0</td>\n",
       "      <td>5.0</td>\n",
       "      <td>95.454545</td>\n",
       "    </tr>\n",
       "    <tr>\n",
       "      <th>1</th>\n",
       "      <th>83</th>\n",
       "      <td>83.0</td>\n",
       "      <td>0.0</td>\n",
       "      <td>100.000000</td>\n",
       "    </tr>\n",
       "    <tr>\n",
       "      <th>2</th>\n",
       "      <th>96</th>\n",
       "      <td>96.0</td>\n",
       "      <td>0.0</td>\n",
       "      <td>100.000000</td>\n",
       "    </tr>\n",
       "    <tr>\n",
       "      <th>3</th>\n",
       "      <th>86</th>\n",
       "      <td>85.0</td>\n",
       "      <td>1.0</td>\n",
       "      <td>98.837209</td>\n",
       "    </tr>\n",
       "    <tr>\n",
       "      <th>4</th>\n",
       "      <th>80</th>\n",
       "      <td>79.0</td>\n",
       "      <td>1.0</td>\n",
       "      <td>98.750000</td>\n",
       "    </tr>\n",
       "    <tr>\n",
       "      <th>5</th>\n",
       "      <th>108</th>\n",
       "      <td>102.0</td>\n",
       "      <td>6.0</td>\n",
       "      <td>94.444444</td>\n",
       "    </tr>\n",
       "    <tr>\n",
       "      <th>6</th>\n",
       "      <th>86</th>\n",
       "      <td>84.0</td>\n",
       "      <td>2.0</td>\n",
       "      <td>97.674419</td>\n",
       "    </tr>\n",
       "    <tr>\n",
       "      <th>7</th>\n",
       "      <th>82</th>\n",
       "      <td>75.0</td>\n",
       "      <td>7.0</td>\n",
       "      <td>91.463415</td>\n",
       "    </tr>\n",
       "    <tr>\n",
       "      <th>8</th>\n",
       "      <th>77</th>\n",
       "      <td>66.0</td>\n",
       "      <td>11.0</td>\n",
       "      <td>85.714286</td>\n",
       "    </tr>\n",
       "    <tr>\n",
       "      <th>9</th>\n",
       "      <th>92</th>\n",
       "      <td>82.0</td>\n",
       "      <td>10.0</td>\n",
       "      <td>89.130435</td>\n",
       "    </tr>\n",
       "  </tbody>\n",
       "</table>\n",
       "</div>"
      ],
      "text/plain": [
       "Result            right  wrong  RightPrediction%\n",
       "Class TotalCount                                \n",
       "0     110         105.0  5.0    95.454545       \n",
       "1     83          83.0   0.0    100.000000      \n",
       "2     96          96.0   0.0    100.000000      \n",
       "3     86          85.0   1.0    98.837209       \n",
       "4     80          79.0   1.0    98.750000       \n",
       "5     108         102.0  6.0    94.444444       \n",
       "6     86          84.0   2.0    97.674419       \n",
       "7     82          75.0   7.0    91.463415       \n",
       "8     77          66.0   11.0   85.714286       \n",
       "9     92          82.0   10.0   89.130435       "
      ]
     },
     "execution_count": 386,
     "metadata": {},
     "output_type": "execute_result"
    }
   ],
   "source": [
    "merged_df = merged_inner.pivot_table('ResultCount', ['Class', 'TotalCount'], 'Result').fillna(0)\n",
    "merged_df['RightPrediction%'] = (merged_df['right']/(merged_df['right']+merged_df['wrong']))*100\n",
    "merged_df"
   ]
  },
  {
   "cell_type": "markdown",
   "metadata": {},
   "source": [
    "<span style=\"color:#337AFF;font-size:18px;font-weight:bold;\">Predicting class of images</span>"
   ]
  },
  {
   "cell_type": "code",
   "execution_count": 387,
   "metadata": {},
   "outputs": [
    {
     "name": "stdout",
     "output_type": "stream",
     "text": [
      "(input_images_list) : 8\n"
     ]
    }
   ],
   "source": [
    "## List of images to predict\n",
    "input_images_list = fun_GetFilesList(\"/mnt/home/kumar.manjushree_gmail/Capstone/predict\")\n",
    "logging.debug(\"(input_images_list) :\".format(len(input_images_list)))\n",
    "print(\"(input_images_list) :\", len(input_images_list))"
   ]
  },
  {
   "cell_type": "code",
   "execution_count": 388,
   "metadata": {},
   "outputs": [
    {
     "name": "stdout",
     "output_type": "stream",
     "text": [
      "Converting Predict_Images to the desired format :\n"
     ]
    },
    {
     "data": {
      "application/vnd.jupyter.widget-view+json": {
       "model_id": "2d33e896f32b4bb285816802d77278de",
       "version_major": 2,
       "version_minor": 0
      },
      "text/plain": [
       "A Jupyter Widget"
      ]
     },
     "metadata": {},
     "output_type": "display_data"
    }
   ],
   "source": [
    "(readFile, imageFileArray) = fun_ConvertImages(\n",
    "                            readFile=\"Predict_Images\",\n",
    "                            imageFilesList=input_images_list, \n",
    "                            resizeHeight=224, \n",
    "                            resizeWidth=224, \n",
    "                            isGrayScaledConversion=False\n",
    "                    )\n",
    "    "
   ]
  },
  {
   "cell_type": "code",
   "execution_count": 389,
   "metadata": {},
   "outputs": [
    {
     "name": "stdout",
     "output_type": "stream",
     "text": [
      "Reading Predict_Images images :\n"
     ]
    },
    {
     "data": {
      "application/vnd.jupyter.widget-view+json": {
       "model_id": "da89b2219eb2413f841958332370638f",
       "version_major": 2,
       "version_minor": 0
      },
      "text/plain": [
       "A Jupyter Widget"
      ]
     },
     "metadata": {},
     "output_type": "display_data"
    },
    {
     "name": "stdout",
     "output_type": "stream",
     "text": [
      "\n"
     ]
    }
   ],
   "source": [
    "## Convert train images to Array\n",
    "input_images = fun_ConvertImagesToArray(\n",
    "                   readFile,\n",
    "                   imageFileArray\n",
    "              )\n",
    "    \n",
    "input_images = input_images.astype('float32') "
   ]
  },
  {
   "cell_type": "code",
   "execution_count": 390,
   "metadata": {},
   "outputs": [
    {
     "name": "stdout",
     "output_type": "stream",
     "text": [
      "(input_images) : ((8, 224, 224, 3))\n"
     ]
    }
   ],
   "source": [
    "# Normalise data to [0, 1] range\n",
    "input_images /= np.max(input_images)\n",
    "    \n",
    "logging.debug(\"(input_images) : ({0})\".format(input_images.shape))\n",
    "print(\"(input_images) : ({0})\".format(input_images.shape))"
   ]
  },
  {
   "cell_type": "code",
   "execution_count": 391,
   "metadata": {},
   "outputs": [
    {
     "name": "stdout",
     "output_type": "stream",
     "text": [
      "8/8 [==============================] - 0s 22ms/step\n"
     ]
    }
   ],
   "source": [
    "predict_classes = alexnetmodel.predict(input_images, batch_size=5, verbose=1)"
   ]
  },
  {
   "cell_type": "code",
   "execution_count": 392,
   "metadata": {
    "collapsed": true
   },
   "outputs": [],
   "source": [
    "def classValue(x):\n",
    "    return {\n",
    "        0: \"Normal Driving\",\n",
    "        1: \"Texting - right\",\n",
    "        2: \"Talking on the phone - right\",\n",
    "        3: \"Texting - left\",\n",
    "        4: \"Talking on the phone - left\",\n",
    "        5: \"Operating the radio\",\n",
    "        6: \"Drinking\",\n",
    "        7: \"Reaching behind\",\n",
    "        8: \"Hair and makeup\",\n",
    "        9: \"Talking to passenger\"\n",
    "    }[x]"
   ]
  },
  {
   "cell_type": "code",
   "execution_count": 393,
   "metadata": {},
   "outputs": [],
   "source": [
    "vals=[]\n",
    "classNames=[]\n",
    "for val in predict_classes:\n",
    "    #print(np.argmax(val))\n",
    "    vals.append(np.argmax(val))\n",
    "    classNames.append(classValue(np.argmax(val)))"
   ]
  },
  {
   "cell_type": "code",
   "execution_count": 394,
   "metadata": {
    "collapsed": true
   },
   "outputs": [],
   "source": [
    "from PIL import Image\n",
    "from io import BytesIO\n",
    "from IPython.display import HTML\n",
    "import base64"
   ]
  },
  {
   "cell_type": "code",
   "execution_count": 395,
   "metadata": {
    "collapsed": true
   },
   "outputs": [],
   "source": [
    "def image_formatter(im):\n",
    "    return f'<img src=\"data:image/jpeg;base64,{image_base64(im)}\">'"
   ]
  },
  {
   "cell_type": "code",
   "execution_count": 396,
   "metadata": {
    "collapsed": true
   },
   "outputs": [],
   "source": [
    "def image_base64(im):\n",
    "    if isinstance(im, str):\n",
    "        im = get_thumbnail(im)\n",
    "    with BytesIO() as buffer:\n",
    "        im.save(buffer, 'jpeg')\n",
    "        return base64.b64encode(buffer.getvalue()).decode()"
   ]
  },
  {
   "cell_type": "code",
   "execution_count": 397,
   "metadata": {
    "collapsed": true
   },
   "outputs": [],
   "source": [
    "def get_thumbnail(path):\n",
    "    i = Image.open(path)\n",
    "    i.thumbnail((150, 150), Image.LANCZOS)\n",
    "    return i"
   ]
  },
  {
   "cell_type": "code",
   "execution_count": 398,
   "metadata": {
    "collapsed": true
   },
   "outputs": [],
   "source": [
    "predictions = pd.DataFrame(\n",
    "                            {\n",
    "                                'id':range(0,8),\n",
    "                                'Image': input_images_list,\n",
    "                                'Label': vals,\n",
    "                                'Description': classNames\n",
    "                            }\n",
    "    )\n",
    "\n",
    "predictions['dispimage'] = predictions.Image.map(lambda f: get_thumbnail(f))"
   ]
  },
  {
   "cell_type": "code",
   "execution_count": 399,
   "metadata": {
    "collapsed": true
   },
   "outputs": [],
   "source": [
    "pd.set_option('display.max_colwidth', -1)"
   ]
  },
  {
   "cell_type": "code",
   "execution_count": 400,
   "metadata": {},
   "outputs": [
    {
     "data": {
      "text/html": [
       "<table border=\"1\" class=\"dataframe\">\n",
       "  <thead>\n",
       "    <tr style=\"text-align: right;\">\n",
       "      <th></th>\n",
       "      <th>dispimage</th>\n",
       "      <th>Label</th>\n",
       "      <th>Description</th>\n",
       "    </tr>\n",
       "  </thead>\n",
       "  <tbody>\n",
       "    <tr>\n",
       "      <th>0</th>\n",
       "      <td><img src=\"data:image/jpeg;base64,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\"></td>\n",
       "      <td>5</td>\n",
       "      <td>Operating the radio</td>\n",
       "    </tr>\n",
       "    <tr>\n",
       "      <th>1</th>\n",
       "      <td><img src=\"data:image/jpeg;base64,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\"></td>\n",
       "      <td>5</td>\n",
       "      <td>Operating the radio</td>\n",
       "    </tr>\n",
       "    <tr>\n",
       "      <th>2</th>\n",
       "      <td><img src=\"data:image/jpeg;base64,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\"></td>\n",
       "      <td>3</td>\n",
       "      <td>Texting - left</td>\n",
       "    </tr>\n",
       "    <tr>\n",
       "      <th>3</th>\n",
       "      <td><img src=\"data:image/jpeg;base64,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\"></td>\n",
       "      <td>3</td>\n",
       "      <td>Texting - left</td>\n",
       "    </tr>\n",
       "    <tr>\n",
       "      <th>4</th>\n",
       "      <td><img src=\"data:image/jpeg;base64,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\"></td>\n",
       "      <td>2</td>\n",
       "      <td>Talking on the phone - right</td>\n",
       "    </tr>\n",
       "    <tr>\n",
       "      <th>5</th>\n",
       "      <td><img src=\"data:image/jpeg;base64,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\"></td>\n",
       "      <td>8</td>\n",
       "      <td>Hair and makeup</td>\n",
       "    </tr>\n",
       "    <tr>\n",
       "      <th>6</th>\n",
       "      <td><img src=\"data:image/jpeg;base64,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\"></td>\n",
       "      <td>2</td>\n",
       "      <td>Talking on the phone - right</td>\n",
       "    </tr>\n",
       "    <tr>\n",
       "      <th>7</th>\n",
       "      <td><img src=\"data:image/jpeg;base64,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\"></td>\n",
       "      <td>5</td>\n",
       "      <td>Operating the radio</td>\n",
       "    </tr>\n",
       "  </tbody>\n",
       "</table>"
      ],
      "text/plain": [
       "<IPython.core.display.HTML object>"
      ]
     },
     "execution_count": 400,
     "metadata": {},
     "output_type": "execute_result"
    }
   ],
   "source": [
    "# displaying PIL.Image objects embedded in dataframe\n",
    "HTML(predictions[['dispimage', 'Label', 'Description']].to_html(formatters={'dispimage': image_formatter}, escape=False))"
   ]
  },
  {
   "cell_type": "code",
   "execution_count": 401,
   "metadata": {
    "collapsed": true
   },
   "outputs": [],
   "source": [
    "te = datetime.datetime.now()\n",
    "logging.info(\"Execution ended at - \" + te.strftime(\"%Y-%m-%d %H:%M:%S\"))\n",
    "timetaken=te-ts"
   ]
  },
  {
   "cell_type": "code",
   "execution_count": 402,
   "metadata": {
    "collapsed": true
   },
   "outputs": [],
   "source": [
    "logging.info(\"Total time taken - \" + str(timetaken))"
   ]
  },
  {
   "cell_type": "code",
   "execution_count": null,
   "metadata": {
    "collapsed": true
   },
   "outputs": [],
   "source": []
  }
 ],
 "metadata": {
  "kernelspec": {
   "display_name": "Python 3",
   "language": "python",
   "name": "python3"
  },
  "language_info": {
   "codemirror_mode": {
    "name": "ipython",
    "version": 3
   },
   "file_extension": ".py",
   "mimetype": "text/x-python",
   "name": "python",
   "nbconvert_exporter": "python",
   "pygments_lexer": "ipython3",
   "version": "3.6.5"
  }
 },
 "nbformat": 4,
 "nbformat_minor": 2
}
