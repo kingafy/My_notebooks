{
 "cells": [
  {
   "cell_type": "code",
   "execution_count": 1,
   "metadata": {},
   "outputs": [
    {
     "data": {
      "text/html": [
       "<script>requirejs.config({paths: { 'plotly': ['https://cdn.plot.ly/plotly-latest.min']},});if(!window.Plotly) {{require(['plotly'],function(plotly) {window.Plotly=plotly;});}}</script>"
      ],
      "text/vnd.plotly.v1+html": [
       "<script>requirejs.config({paths: { 'plotly': ['https://cdn.plot.ly/plotly-latest.min']},});if(!window.Plotly) {{require(['plotly'],function(plotly) {window.Plotly=plotly;});}}</script>"
      ]
     },
     "metadata": {},
     "output_type": "display_data"
    }
   ],
   "source": [
    "import numpy as np # linear algebra\n",
    "import pandas as pd # data processing, CSV file I/O (e.g. pd.read_csv)\n",
    "import seaborn as sns # visualization library\n",
    "import matplotlib.pyplot as plt # visualization library\n",
    "import plotly.plotly as py # visualization library\n",
    "from plotly.offline import init_notebook_mode, iplot # plotly offline mode\n",
    "init_notebook_mode(connected=True) \n",
    "import plotly.graph_objs as go # plotly graphical object"
   ]
  },
  {
   "cell_type": "code",
   "execution_count": 4,
   "metadata": {},
   "outputs": [],
   "source": [
    "import os\n",
    "os.chdir('D:\\Data Science\\POC\\Time Series\\worldwar')\n",
    "import warnings            \n",
    "warnings.filterwarnings(\"ignore\") # if there is a warning after some codes, this will avoid us to see them.\n",
    "plt.style.use('ggplot') # style of plots. ggplot is one of the most used style, I also like it.\n",
    "# Any results you write to the current directory are saved as output."
   ]
  },
  {
   "cell_type": "code",
   "execution_count": 5,
   "metadata": {},
   "outputs": [],
   "source": [
    "# bombing data\n",
    "aerial = pd.read_csv(\"world-war-ii/operations.csv\")\n",
    "# first weather data that includes locations like country, latitude and longitude.\n",
    "weather_station_location = pd.read_csv(\"weatherww2/Weather Station Locations.csv\")\n",
    "# Second weather data that includes measured min, max and mean temperatures\n",
    "weather = pd.read_csv(\"weatherww2/Summary of Weather.csv\")"
   ]
  },
  {
   "cell_type": "markdown",
   "metadata": {},
   "source": [
    "##Description of Data\n",
    "Aerial bombing Data description:\n",
    "Mission Date: Date of mission\n",
    "Theater of Operations: Region in which active military operations are in progress; \"the army was in the field awaiting action\"; Example: \"he served in the Vietnam theater for three years\"\n",
    "Country: Country that makes mission or operation like USA\n",
    "Air Force: Name or id of air force unity like 5AF\n",
    "Aircraft Series: Model or type of aircraft like B24\n",
    "Callsign: Before bomb attack, message, code, announcement, or tune that is broadcast by radio.\n",
    "Takeoff Base: Takeoff airport name like Ponte Olivo Airfield\n",
    "Takeoff Location: takeoff region Sicily\n",
    "Takeoff Latitude: Latitude of takeoff region\n",
    "Takeoff Longitude: Longitude of takeoff region\n",
    "Target Country: Target country like Germany\n",
    "Target City: Target city like Berlin\n",
    "Target Type: Type of target like city area\n",
    "Target Industry: Target industy like town or urban\n",
    "Target Priority: Target priority like 1 (most)\n",
    "Target Latitude: Latitude of target\n",
    "Target Longitude: Longitude of target\n",
    "Weather Condition data description:\n",
    "Weather station location:\n",
    "WBAN: Weather station number\n",
    "NAME: weather station name\n",
    "STATE/COUNTRY ID: acronym of countries\n",
    "Latitude: Latitude of weather station\n",
    "Longitude: Longitude of weather station\n",
    "Weather:\n",
    "STA: eather station number (WBAN)\n",
    "Date: Date of temperature measurement\n",
    "MeanTemp: Mean temperature"
   ]
  },
  {
   "cell_type": "code",
   "execution_count": 7,
   "metadata": {},
   "outputs": [
    {
     "data": {
      "text/plain": [
       "Mission ID                                    0\n",
       "Mission Date                                  0\n",
       "Theater of Operations                      3158\n",
       "Country                                   51787\n",
       "Air Force                                 51837\n",
       "Unit ID                                  127368\n",
       "Aircraft Series                             116\n",
       "Callsign                                 178260\n",
       "Mission Type                             131095\n",
       "Takeoff Base                             174898\n",
       "Takeoff Location                         174943\n",
       "Takeoff Latitude                         175300\n",
       "Takeoff Longitude                        175301\n",
       "Target ID                                 50875\n",
       "Target Country                              599\n",
       "Target City                                2263\n",
       "Target Type                               31911\n",
       "Target Industry                           51802\n",
       "Target Priority                           43561\n",
       "Target Latitude                            8716\n",
       "Target Longitude                           8738\n",
       "Altitude (Hundreds of Feet)               57455\n",
       "Airborne Aircraft                         96039\n",
       "Attacking Aircraft                        53173\n",
       "Bombing Aircraft                          96669\n",
       "Aircraft Returned                        178148\n",
       "Aircraft Failed                          178034\n",
       "Aircraft Damaged                         178243\n",
       "Aircraft Lost                            178123\n",
       "High Explosives                          143544\n",
       "High Explosives Type                     136336\n",
       "High Explosives Weight (Pounds)          176260\n",
       "High Explosives Weight (Tons)             32080\n",
       "Incendiary Devices                       174998\n",
       "Incendiary Devices Type                  172762\n",
       "Incendiary Devices Weight (Pounds)       177925\n",
       "Incendiary Devices Weight (Tons)         152549\n",
       "Fragmentation Devices                    172513\n",
       "Fragmentation Devices Type               172516\n",
       "Fragmentation Devices Weight (Pounds)    178087\n",
       "Fragmentation Devices Weight (Tons)      161379\n",
       "Total Weight (Pounds)                    176162\n",
       "Total Weight (Tons)                       11773\n",
       "Time Over Target                         177592\n",
       "Bomb Damage Assessment                   178177\n",
       "Source ID                                  4045\n",
       "dtype: int64"
      ]
     },
     "execution_count": 7,
     "metadata": {},
     "output_type": "execute_result"
    }
   ],
   "source": [
    "##check null values\n",
    "aerial.apply(lambda x: sum(x.isnull()))"
   ]
  },
  {
   "cell_type": "markdown",
   "metadata": {},
   "source": [
    "There are too many values with Null , so removing the ones"
   ]
  },
  {
   "cell_type": "code",
   "execution_count": 8,
   "metadata": {},
   "outputs": [],
   "source": [
    "# drop unused features\n",
    "drop_list = ['Mission ID','Unit ID','Target ID','Altitude (Hundreds of Feet)','Airborne Aircraft',\n",
    "             'Attacking Aircraft', 'Bombing Aircraft', 'Aircraft Returned',\n",
    "             'Aircraft Failed', 'Aircraft Damaged', 'Aircraft Lost',\n",
    "             'High Explosives', 'High Explosives Type','Mission Type',\n",
    "             'High Explosives Weight (Pounds)', 'High Explosives Weight (Tons)',\n",
    "             'Incendiary Devices', 'Incendiary Devices Type',\n",
    "             'Incendiary Devices Weight (Pounds)',\n",
    "             'Incendiary Devices Weight (Tons)', 'Fragmentation Devices',\n",
    "             'Fragmentation Devices Type', 'Fragmentation Devices Weight (Pounds)',\n",
    "             'Fragmentation Devices Weight (Tons)', 'Total Weight (Pounds)',\n",
    "             'Total Weight (Tons)', 'Time Over Target', 'Bomb Damage Assessment','Source ID']\n",
    "aerial.drop(drop_list, axis=1,inplace = True)"
   ]
  },
  {
   "cell_type": "code",
   "execution_count": 9,
   "metadata": {},
   "outputs": [
    {
     "data": {
      "text/plain": [
       "Mission Date                  0\n",
       "Theater of Operations      3158\n",
       "Country                   51787\n",
       "Air Force                 51837\n",
       "Aircraft Series             116\n",
       "Callsign                 178260\n",
       "Takeoff Base             174898\n",
       "Takeoff Location         174943\n",
       "Takeoff Latitude         175300\n",
       "Takeoff Longitude        175301\n",
       "Target Country              599\n",
       "Target City                2263\n",
       "Target Type               31911\n",
       "Target Industry           51802\n",
       "Target Priority           43561\n",
       "Target Latitude            8716\n",
       "Target Longitude           8738\n",
       "dtype: int64"
      ]
     },
     "execution_count": 9,
     "metadata": {},
     "output_type": "execute_result"
    }
   ],
   "source": [
    "aerial.apply(lambda x: sum(x.isnull()))"
   ]
  },
  {
   "cell_type": "code",
   "execution_count": 10,
   "metadata": {},
   "outputs": [
    {
     "name": "stdout",
     "output_type": "stream",
     "text": [
      "<class 'pandas.core.frame.DataFrame'>\n",
      "RangeIndex: 178281 entries, 0 to 178280\n",
      "Data columns (total 17 columns):\n",
      "Mission Date             178281 non-null object\n",
      "Theater of Operations    175123 non-null object\n",
      "Country                  126494 non-null object\n",
      "Air Force                126444 non-null object\n",
      "Aircraft Series          178165 non-null object\n",
      "Callsign                 21 non-null object\n",
      "Takeoff Base             3383 non-null object\n",
      "Takeoff Location         3338 non-null object\n",
      "Takeoff Latitude         2981 non-null object\n",
      "Takeoff Longitude        2980 non-null float64\n",
      "Target Country           177682 non-null object\n",
      "Target City              176018 non-null object\n",
      "Target Type              146370 non-null object\n",
      "Target Industry          126479 non-null object\n",
      "Target Priority          134720 non-null object\n",
      "Target Latitude          169565 non-null float64\n",
      "Target Longitude         169543 non-null float64\n",
      "dtypes: float64(3), object(14)\n",
      "memory usage: 23.1+ MB\n"
     ]
    }
   ],
   "source": [
    "aerial.info()\n"
   ]
  },
  {
   "cell_type": "code",
   "execution_count": 11,
   "metadata": {},
   "outputs": [],
   "source": [
    "#Removing some incorrect records \n",
    "aerial = aerial[ aerial.iloc[:,8]!=\"4248\"] # drop this takeoff latitude \n",
    "aerial = aerial[ aerial.iloc[:,9]!=1355]   # drop this takeoff longitude"
   ]
  },
  {
   "cell_type": "code",
   "execution_count": 12,
   "metadata": {},
   "outputs": [
    {
     "name": "stdout",
     "output_type": "stream",
     "text": [
      "<class 'pandas.core.frame.DataFrame'>\n",
      "Int64Index: 177873 entries, 0 to 178280\n",
      "Data columns (total 17 columns):\n",
      "Mission Date             177873 non-null object\n",
      "Theater of Operations    174912 non-null object\n",
      "Country                  126086 non-null object\n",
      "Air Force                126036 non-null object\n",
      "Aircraft Series          177757 non-null object\n",
      "Callsign                 21 non-null object\n",
      "Takeoff Base             2975 non-null object\n",
      "Takeoff Location         2930 non-null object\n",
      "Takeoff Latitude         2573 non-null object\n",
      "Takeoff Longitude        2572 non-null float64\n",
      "Target Country           177471 non-null object\n",
      "Target City              175610 non-null object\n",
      "Target Type              146370 non-null object\n",
      "Target Industry          126479 non-null object\n",
      "Target Priority          134313 non-null object\n",
      "Target Latitude          169178 non-null float64\n",
      "Target Longitude         169156 non-null float64\n",
      "dtypes: float64(3), object(14)\n",
      "memory usage: 24.4+ MB\n"
     ]
    }
   ],
   "source": [
    "aerial.info()"
   ]
  },
  {
   "cell_type": "code",
   "execution_count": 13,
   "metadata": {},
   "outputs": [
    {
     "data": {
      "text/plain": [
       "Mission Date                  0\n",
       "Theater of Operations      2961\n",
       "Country                   51787\n",
       "Air Force                 51837\n",
       "Aircraft Series             116\n",
       "Callsign                 177852\n",
       "Takeoff Base             174898\n",
       "Takeoff Location         174943\n",
       "Takeoff Latitude         175300\n",
       "Takeoff Longitude        175301\n",
       "Target Country              402\n",
       "Target City                2263\n",
       "Target Type               31503\n",
       "Target Industry           51394\n",
       "Target Priority           43560\n",
       "Target Latitude            8695\n",
       "Target Longitude           8717\n",
       "dtype: int64"
      ]
     },
     "execution_count": 13,
     "metadata": {},
     "output_type": "execute_result"
    }
   ],
   "source": [
    "aerial.apply(lambda x: sum(x.isnull()))"
   ]
  },
  {
   "cell_type": "code",
   "execution_count": 14,
   "metadata": {},
   "outputs": [
    {
     "name": "stdout",
     "output_type": "stream",
     "text": [
      "<class 'pandas.core.frame.DataFrame'>\n",
      "RangeIndex: 161 entries, 0 to 160\n",
      "Data columns (total 8 columns):\n",
      "WBAN                161 non-null int64\n",
      "NAME                161 non-null object\n",
      "STATE/COUNTRY ID    161 non-null object\n",
      "LAT                 161 non-null object\n",
      "LON                 161 non-null object\n",
      "ELEV                161 non-null int64\n",
      "Latitude            161 non-null float64\n",
      "Longitude           161 non-null float64\n",
      "dtypes: float64(2), int64(2), object(4)\n",
      "memory usage: 10.1+ KB\n"
     ]
    }
   ],
   "source": [
    "##check weather station location\n",
    "weather_station_location.info()"
   ]
  },
  {
   "cell_type": "code",
   "execution_count": 15,
   "metadata": {},
   "outputs": [
    {
     "data": {
      "text/plain": [
       "WBAN                0\n",
       "NAME                0\n",
       "STATE/COUNTRY ID    0\n",
       "LAT                 0\n",
       "LON                 0\n",
       "ELEV                0\n",
       "Latitude            0\n",
       "Longitude           0\n",
       "dtype: int64"
      ]
     },
     "execution_count": 15,
     "metadata": {},
     "output_type": "execute_result"
    }
   ],
   "source": [
    "weather_station_location.apply(lambda x: sum(x.isnull()))"
   ]
  },
  {
   "cell_type": "code",
   "execution_count": 16,
   "metadata": {},
   "outputs": [
    {
     "name": "stdout",
     "output_type": "stream",
     "text": [
      "<class 'pandas.core.frame.DataFrame'>\n",
      "RangeIndex: 161 entries, 0 to 160\n",
      "Data columns (total 5 columns):\n",
      "WBAN                161 non-null int64\n",
      "NAME                161 non-null object\n",
      "STATE/COUNTRY ID    161 non-null object\n",
      "Latitude            161 non-null float64\n",
      "Longitude           161 non-null float64\n",
      "dtypes: float64(2), int64(1), object(2)\n",
      "memory usage: 6.4+ KB\n"
     ]
    }
   ],
   "source": [
    "# what we will use only\n",
    "weather_station_location = weather_station_location.loc[:,[\"WBAN\",\"NAME\",\"STATE/COUNTRY ID\",\"Latitude\",\"Longitude\"] ]\n",
    "weather_station_location.info()"
   ]
  },
  {
   "cell_type": "code",
   "execution_count": 17,
   "metadata": {},
   "outputs": [
    {
     "name": "stdout",
     "output_type": "stream",
     "text": [
      "<class 'pandas.core.frame.DataFrame'>\n",
      "RangeIndex: 119040 entries, 0 to 119039\n",
      "Data columns (total 31 columns):\n",
      "STA            119040 non-null int64\n",
      "Date           119040 non-null object\n",
      "Precip         119040 non-null object\n",
      "WindGustSpd    532 non-null float64\n",
      "MaxTemp        119040 non-null float64\n",
      "MinTemp        119040 non-null float64\n",
      "MeanTemp       119040 non-null float64\n",
      "Snowfall       117877 non-null object\n",
      "PoorWeather    34237 non-null object\n",
      "YR             119040 non-null int64\n",
      "MO             119040 non-null int64\n",
      "DA             119040 non-null int64\n",
      "PRCP           117108 non-null object\n",
      "DR             533 non-null float64\n",
      "SPD            532 non-null float64\n",
      "MAX            118566 non-null float64\n",
      "MIN            118572 non-null float64\n",
      "MEA            118542 non-null float64\n",
      "SNF            117877 non-null object\n",
      "SND            5563 non-null float64\n",
      "FT             0 non-null float64\n",
      "FB             0 non-null float64\n",
      "FTI            0 non-null float64\n",
      "ITH            0 non-null float64\n",
      "PGT            525 non-null float64\n",
      "TSHDSBRSGF     34237 non-null object\n",
      "SD3            0 non-null float64\n",
      "RHX            0 non-null float64\n",
      "RHN            0 non-null float64\n",
      "RVG            0 non-null float64\n",
      "WTE            0 non-null float64\n",
      "dtypes: float64(20), int64(4), object(7)\n",
      "memory usage: 28.2+ MB\n"
     ]
    }
   ],
   "source": [
    "weather.info()"
   ]
  },
  {
   "cell_type": "code",
   "execution_count": 18,
   "metadata": {},
   "outputs": [
    {
     "name": "stdout",
     "output_type": "stream",
     "text": [
      "<class 'pandas.core.frame.DataFrame'>\n",
      "RangeIndex: 119040 entries, 0 to 119039\n",
      "Data columns (total 3 columns):\n",
      "STA         119040 non-null int64\n",
      "Date        119040 non-null object\n",
      "MeanTemp    119040 non-null float64\n",
      "dtypes: float64(1), int64(1), object(1)\n",
      "memory usage: 2.7+ MB\n"
     ]
    }
   ],
   "source": [
    "weather = weather.loc[:,[\"STA\",\"Date\",\"MeanTemp\"] ]\n",
    "weather.info()"
   ]
  },
  {
   "cell_type": "code",
   "execution_count": 19,
   "metadata": {},
   "outputs": [
    {
     "name": "stdout",
     "output_type": "stream",
     "text": [
      "USA              94165\n",
      "GREAT BRITAIN    30953\n",
      "NEW ZEALAND        633\n",
      "AUSTRALIA          316\n",
      "SOUTH AFRICA        19\n",
      "Name: Country, dtype: int64\n"
     ]
    },
    {
     "data": {
      "image/png": "[encoded data removed]",
      "text/plain": [
       "<Figure size 1584x720 with 1 Axes>"
      ]
     },
     "metadata": {},
     "output_type": "display_data"
    }
   ],
   "source": [
    "##EDA\n",
    "# country\n",
    "print(aerial['Country'].value_counts())\n",
    "plt.figure(figsize=(22,10))\n",
    "sns.countplot(aerial['Country'])\n",
    "plt.show()"
   ]
  },
  {
   "cell_type": "code",
   "execution_count": 20,
   "metadata": {},
   "outputs": [
    {
     "name": "stdout",
     "output_type": "stream",
     "text": [
      "GERMANY                             61743\n",
      "ITALY                               23679\n",
      "FRANCE                              22226\n",
      "BURMA                                8259\n",
      "PHILIPPINE ISLANDS                   8180\n",
      "NEW GUINEA                           7213\n",
      "AUSTRIA                              4371\n",
      "CHINA                                4060\n",
      "HOLLAND OR NETHERLANDS               3560\n",
      "BISMARK ARCHIPELAGO                  3484\n",
      "CELEBES ISLANDS                      3094\n",
      "JAPAN                                2748\n",
      "UNKNOWN OR NOT INDICATED             2742\n",
      "BELGIUM                              2149\n",
      "TUNISIA                              1978\n",
      "FORMOSA AND RYUKYU ISLANDS           1803\n",
      "SOLOMON ISLANDS                      1689\n",
      "BORNEO                               1399\n",
      "CAROLINE ISLANDS                     1032\n",
      "CZECHOSLOVAKIA                        994\n",
      "VOLCANO AND BONIN ISLANDS             966\n",
      "YUGOSLAVIA                            925\n",
      "HUNGARY                               867\n",
      "ROMANIA                               777\n",
      "MARSHALL ISLANDS                      715\n",
      "FRENCH INDO CHINA                     642\n",
      "GREECE                                605\n",
      "PALAU ISLANDS                         593\n",
      "LIBYA                                 491\n",
      "PANTELLARIA                           474\n",
      "                                    ...  \n",
      "KOREA OR CHOSEN MINING                 33\n",
      "CORAL SEA AREA                         31\n",
      "MADAGASCAR                             30\n",
      "INDONESIA                              28\n",
      "ETHIOPIA                               27\n",
      "MANCHURIA                              25\n",
      "ERITREA                                23\n",
      "BOUGAINVILLE                           21\n",
      "UNKNOWN                                19\n",
      "BALI                                   19\n",
      "SWITZERLAND                            19\n",
      "FRENCH INDO CHINA MINING               15\n",
      "MALAY STATES MINING                    14\n",
      "CYPRUS                                  9\n",
      "ANDAMAN ISLANDS                         8\n",
      "SUDAN                                   7\n",
      "CHINA MINING                            7\n",
      "CORSICA                                 4\n",
      "AUSTRALIA                               4\n",
      "\"PAPUA NEW GUINEA, MANUS ISLAND\"        3\n",
      "ETHIOPIA/ABSINNYA                       2\n",
      "ALGERIA                                 2\n",
      "SOMALIA                                 2\n",
      "TURKEY                                  1\n",
      "MOROCCO                                 1\n",
      "FORMOSA                                 1\n",
      "NETHERLANDS EAST INDIES                 1\n",
      "THAILAND OR SIAM MINING                 1\n",
      "SUMATRA MINING                          1\n",
      "INDIAN OCEAN                            1\n",
      "Name: Target Country, Length: 90, dtype: int64\n"
     ]
    }
   ],
   "source": [
    "# Top target countries\n",
    "print(aerial['Target Country'].value_counts())"
   ]
  },
  {
   "cell_type": "code",
   "execution_count": 21,
   "metadata": {},
   "outputs": [
    {
     "name": "stdout",
     "output_type": "stream",
     "text": [
      "GERMANY                   61743\n",
      "ITALY                     23679\n",
      "FRANCE                    22226\n",
      "BURMA                      8259\n",
      "PHILIPPINE ISLANDS         8180\n",
      "NEW GUINEA                 7213\n",
      "AUSTRIA                    4371\n",
      "CHINA                      4060\n",
      "HOLLAND OR NETHERLANDS     3560\n",
      "BISMARK ARCHIPELAGO        3484\n",
      "Name: Target Country, dtype: int64\n"
     ]
    }
   ],
   "source": [
    "##too many countries ..lets see top 10 countries\n",
    "# Top target countries\n",
    "print(aerial['Target Country'].value_counts()[:10])"
   ]
  },
  {
   "cell_type": "code",
   "execution_count": 22,
   "metadata": {},
   "outputs": [
    {
     "data": {
      "image/png": "[encoded data removed]",
      "text/plain": [
       "<Figure size 1584x720 with 1 Axes>"
      ]
     },
     "metadata": {},
     "output_type": "display_data"
    }
   ],
   "source": [
    "plt.figure(figsize=(22,10))\n",
    "sns.countplot(aerial['Target Country'])\n",
    "plt.xticks(rotation=90)\n",
    "plt.show()"
   ]
  },
  {
   "cell_type": "code",
   "execution_count": 25,
   "metadata": {},
   "outputs": [
    {
     "name": "stdout",
     "output_type": "stream",
     "text": [
      "B24     33837\n",
      "B17     31448\n",
      "B25     17359\n",
      "A20     12561\n",
      "B26     11980\n",
      "GB17     9124\n",
      "WELL     6391\n",
      "HVY      6298\n",
      "A26      4736\n",
      "P47      4660\n",
      "Name: Aircraft Series, dtype: int64\n"
     ]
    },
    {
     "data": {
      "application/vnd.plotly.v1+json": {
       "data": [
        {
         "hoverinfo": "text",
         "marker": {
          "color": "rgba(177, 14, 22, 0.5)",
          "line": {
           "color": "rgb(0,0,0)",
           "width": 1.5
          }
         },
         "type": "bar",
         "uid": "b7ea25ae-feae-11e8-b4d4-18dbf211ef53",
         "x": [
          "B24",
          "B17",
          "B25",
          "A20",
          "B26",
          "GB17",
          "WELL",
          "HVY",
          "A26",
          "P47"
         ],
         "y": [
          33837,
          31448,
          17359,
          12561,
          11980,
          9124,
          6391,
          6298,
          4736,
          4660
         ]
        }
       ],
       "layout": {
        "title": "Aircraft Series"
       }
      },
      "text/html": [
       "<div id=\"c4e336b1-6d52-4d73-9717-5a50fed4e7e2\" style=\"height: 525px; width: 100%;\" class=\"plotly-graph-div\"></div><script type=\"text/javascript\">require([\"plotly\"], function(Plotly) { window.PLOTLYENV=window.PLOTLYENV || {};window.PLOTLYENV.BASE_URL=\"https://plot.ly\";\n",
       "        Plotly.plot(\n",
       "            'c4e336b1-6d52-4d73-9717-5a50fed4e7e2',\n",
       "            [{\"hoverinfo\": \"text\", \"marker\": {\"color\": \"rgba(177, 14, 22, 0.5)\", \"line\": {\"color\": \"rgb(0,0,0)\", \"width\": 1.5}}, \"x\": [\"B24\", \"B17\", \"B25\", \"A20\", \"B26\", \"GB17\", \"WELL\", \"HVY\", \"A26\", \"P47\"], \"y\": [33837.0, 31448.0, 17359.0, 12561.0, 11980.0, 9124.0, 6391.0, 6298.0, 4736.0, 4660.0], \"type\": \"bar\", \"uid\": \"b7ea25ae-feae-11e8-b4d4-18dbf211ef53\"}],\n",
       "            {\"title\": \"Aircraft Series\"},\n",
       "            {\"showLink\": true, \"linkText\": \"Export to plot.ly\"}\n",
       "        ).then(function () {return Plotly.addFrames('c4e336b1-6d52-4d73-9717-5a50fed4e7e2',{});}).then(function(){Plotly.animate('c4e336b1-6d52-4d73-9717-5a50fed4e7e2');})\n",
       "        });</script>"
      ],
      "text/vnd.plotly.v1+html": [
       "<div id=\"c4e336b1-6d52-4d73-9717-5a50fed4e7e2\" style=\"height: 525px; width: 100%;\" class=\"plotly-graph-div\"></div><script type=\"text/javascript\">require([\"plotly\"], function(Plotly) { window.PLOTLYENV=window.PLOTLYENV || {};window.PLOTLYENV.BASE_URL=\"https://plot.ly\";\n",
       "        Plotly.plot(\n",
       "            'c4e336b1-6d52-4d73-9717-5a50fed4e7e2',\n",
       "            [{\"hoverinfo\": \"text\", \"marker\": {\"color\": \"rgba(177, 14, 22, 0.5)\", \"line\": {\"color\": \"rgb(0,0,0)\", \"width\": 1.5}}, \"x\": [\"B24\", \"B17\", \"B25\", \"A20\", \"B26\", \"GB17\", \"WELL\", \"HVY\", \"A26\", \"P47\"], \"y\": [33837.0, 31448.0, 17359.0, 12561.0, 11980.0, 9124.0, 6391.0, 6298.0, 4736.0, 4660.0], \"type\": \"bar\", \"uid\": \"b7ea25ae-feae-11e8-b4d4-18dbf211ef53\"}],\n",
       "            {\"title\": \"Aircraft Series\"},\n",
       "            {\"showLink\": true, \"linkText\": \"Export to plot.ly\"}\n",
       "        ).then(function () {return Plotly.addFrames('c4e336b1-6d52-4d73-9717-5a50fed4e7e2',{});}).then(function(){Plotly.animate('c4e336b1-6d52-4d73-9717-5a50fed4e7e2');})\n",
       "        });</script>"
      ]
     },
     "metadata": {},
     "output_type": "display_data"
    }
   ],
   "source": [
    "# Aircraft Series\n",
    "data = aerial['Aircraft Series'].value_counts()\n",
    "print(data[:10])\n",
    "data = [go.Bar(\n",
    "            x=data[:10].index,\n",
    "            y=data[:10].values,\n",
    "            hoverinfo = 'text',\n",
    "            marker = dict(color = 'rgba(177, 14, 22, 0.5)',\n",
    "                             line=dict(color='rgb(0,0,0)',width=1.5)),\n",
    "    )]\n",
    "\n",
    "layout = dict(\n",
    "    title = 'Aircraft Series',\n",
    ")\n",
    "fig = go.Figure(data=data, layout=layout)\n",
    "iplot(fig)"
   ]
  },
  {
   "cell_type": "code",
   "execution_count": 26,
   "metadata": {},
   "outputs": [
    {
     "ename": "ValueError",
     "evalue": "\n    Invalid element(s) received for the 'color' property of scattergeo.marker\n        Invalid elements include: ['', '', '', '', '', '', '', '', '', '']\n\n    The 'color' property is a color and may be specified as:\n      - A hex string (e.g. '#ff0000')\n      - An rgb/rgba string (e.g. 'rgb(255,0,0)')\n      - An hsl/hsla string (e.g. 'hsl(0,100%,50%)')\n      - An hsv/hsva string (e.g. 'hsv(0,100%,100%)')\n      - A named CSS color:\n            aliceblue, antiquewhite, aqua, aquamarine, azure,\n            beige, bisque, black, blanchedalmond, blue,\n            blueviolet, brown, burlywood, cadetblue,\n            chartreuse, chocolate, coral, cornflowerblue,\n            cornsilk, crimson, cyan, darkblue, darkcyan,\n            darkgoldenrod, darkgray, darkgrey, darkgreen,\n            darkkhaki, darkmagenta, darkolivegreen, darkorange,\n            darkorchid, darkred, darksalmon, darkseagreen,\n            darkslateblue, darkslategray, darkslategrey,\n            darkturquoise, darkviolet, deeppink, deepskyblue,\n            dimgray, dimgrey, dodgerblue, firebrick,\n            floralwhite, forestgreen, fuchsia, gainsboro,\n            ghostwhite, gold, goldenrod, gray, grey, green,\n            greenyellow, honeydew, hotpink, indianred, indigo,\n            ivory, khaki, lavender, lavenderblush, lawngreen,\n            lemonchiffon, lightblue, lightcoral, lightcyan,\n            lightgoldenrodyellow, lightgray, lightgrey,\n            lightgreen, lightpink, lightsalmon, lightseagreen,\n            lightskyblue, lightslategray, lightslategrey,\n            lightsteelblue, lightyellow, lime, limegreen,\n            linen, magenta, maroon, mediumaquamarine,\n            mediumblue, mediumorchid, mediumpurple,\n            mediumseagreen, mediumslateblue, mediumspringgreen,\n            mediumturquoise, mediumvioletred, midnightblue,\n            mintcream, mistyrose, moccasin, navajowhite, navy,\n            oldlace, olive, olivedrab, orange, orangered,\n            orchid, palegoldenrod, palegreen, paleturquoise,\n            palevioletred, papayawhip, peachpuff, peru, pink,\n            plum, powderblue, purple, red, rosybrown,\n            royalblue, saddlebrown, salmon, sandybrown,\n            seagreen, seashell, sienna, silver, skyblue,\n            slateblue, slategray, slategrey, snow, springgreen,\n            steelblue, tan, teal, thistle, tomato, turquoise,\n            violet, wheat, white, whitesmoke, yellow,\n            yellowgreen\n      - A number that will be interpreted as a color\n        according to scattergeo.marker.colorscale\n      - A list or array of any of the above",
     "output_type": "error",
     "traceback": [
      "\u001b[1;31m---------------------------------------------------------------------------\u001b[0m",
      "\u001b[1;31mValueError\u001b[0m                                Traceback (most recent call last)",
      "\u001b[1;32m<ipython-input-26-ce4d58e6669b>\u001b[0m in \u001b[0;36m<module>\u001b[1;34m()\u001b[0m\n\u001b[0;32m     32\u001b[0m               countrycolor=\"rgb(5, 5, 5)\")\n\u001b[0;32m     33\u001b[0m )\n\u001b[1;32m---> 34\u001b[1;33m \u001b[0mfig\u001b[0m \u001b[1;33m=\u001b[0m \u001b[0mgo\u001b[0m\u001b[1;33m.\u001b[0m\u001b[0mFigure\u001b[0m\u001b[1;33m(\u001b[0m\u001b[0mdata\u001b[0m\u001b[1;33m=\u001b[0m\u001b[0mdata\u001b[0m\u001b[1;33m,\u001b[0m \u001b[0mlayout\u001b[0m\u001b[1;33m=\u001b[0m\u001b[0mlayout\u001b[0m\u001b[1;33m)\u001b[0m\u001b[1;33m\u001b[0m\u001b[0m\n\u001b[0m\u001b[0;32m     35\u001b[0m \u001b[0miplot\u001b[0m\u001b[1;33m(\u001b[0m\u001b[0mfig\u001b[0m\u001b[1;33m)\u001b[0m\u001b[1;33m\u001b[0m\u001b[0m\n",
      "\u001b[1;32m~\\AppData\\Local\\Continuum\\anaconda3\\lib\\site-packages\\plotly\\graph_objs\\_figure.py\u001b[0m in \u001b[0;36m__init__\u001b[1;34m(self, data, layout, frames)\u001b[0m\n\u001b[0;32m    312\u001b[0m                         \u001b[0mrespective\u001b[0m \u001b[0mtraces\u001b[0m \u001b[1;32min\u001b[0m \u001b[0mthe\u001b[0m \u001b[0mdata\u001b[0m \u001b[0mattribute\u001b[0m\u001b[1;33m\u001b[0m\u001b[0m\n\u001b[0;32m    313\u001b[0m         \"\"\"\n\u001b[1;32m--> 314\u001b[1;33m         \u001b[0msuper\u001b[0m\u001b[1;33m(\u001b[0m\u001b[0mFigure\u001b[0m\u001b[1;33m,\u001b[0m \u001b[0mself\u001b[0m\u001b[1;33m)\u001b[0m\u001b[1;33m.\u001b[0m\u001b[0m__init__\u001b[0m\u001b[1;33m(\u001b[0m\u001b[0mdata\u001b[0m\u001b[1;33m,\u001b[0m \u001b[0mlayout\u001b[0m\u001b[1;33m,\u001b[0m \u001b[0mframes\u001b[0m\u001b[1;33m)\u001b[0m\u001b[1;33m\u001b[0m\u001b[0m\n\u001b[0m\u001b[0;32m    315\u001b[0m \u001b[1;33m\u001b[0m\u001b[0m\n\u001b[0;32m    316\u001b[0m     def add_area(\n",
      "\u001b[1;32m~\\AppData\\Local\\Continuum\\anaconda3\\lib\\site-packages\\plotly\\basedatatypes.py\u001b[0m in \u001b[0;36m__init__\u001b[1;34m(self, data, layout_plotly, frames)\u001b[0m\n\u001b[0;32m    114\u001b[0m \u001b[1;33m\u001b[0m\u001b[0m\n\u001b[0;32m    115\u001b[0m         \u001b[1;31m# ### Import traces ###\u001b[0m\u001b[1;33m\u001b[0m\u001b[1;33m\u001b[0m\u001b[0m\n\u001b[1;32m--> 116\u001b[1;33m         \u001b[0mdata\u001b[0m \u001b[1;33m=\u001b[0m \u001b[0mself\u001b[0m\u001b[1;33m.\u001b[0m\u001b[0m_data_validator\u001b[0m\u001b[1;33m.\u001b[0m\u001b[0mvalidate_coerce\u001b[0m\u001b[1;33m(\u001b[0m\u001b[0mdata\u001b[0m\u001b[1;33m)\u001b[0m\u001b[1;33m\u001b[0m\u001b[0m\n\u001b[0m\u001b[0;32m    117\u001b[0m \u001b[1;33m\u001b[0m\u001b[0m\n\u001b[0;32m    118\u001b[0m         \u001b[1;31m# ### Save tuple of trace objects ###\u001b[0m\u001b[1;33m\u001b[0m\u001b[1;33m\u001b[0m\u001b[0m\n",
      "\u001b[1;32m~\\AppData\\Local\\Continuum\\anaconda3\\lib\\site-packages\\_plotly_utils\\basevalidators.py\u001b[0m in \u001b[0;36mvalidate_coerce\u001b[1;34m(self, v)\u001b[0m\n\u001b[0;32m   1953\u001b[0m                         \u001b[0minvalid_els\u001b[0m\u001b[1;33m.\u001b[0m\u001b[0mappend\u001b[0m\u001b[1;33m(\u001b[0m\u001b[0mv_el\u001b[0m\u001b[1;33m)\u001b[0m\u001b[1;33m\u001b[0m\u001b[0m\n\u001b[0;32m   1954\u001b[0m                     \u001b[1;32melse\u001b[0m\u001b[1;33m:\u001b[0m\u001b[1;33m\u001b[0m\u001b[0m\n\u001b[1;32m-> 1955\u001b[1;33m                         \u001b[0mtrace\u001b[0m \u001b[1;33m=\u001b[0m \u001b[0mself\u001b[0m\u001b[1;33m.\u001b[0m\u001b[0mclass_map\u001b[0m\u001b[1;33m[\u001b[0m\u001b[0mtrace_type\u001b[0m\u001b[1;33m]\u001b[0m\u001b[1;33m(\u001b[0m\u001b[1;33m**\u001b[0m\u001b[0mv_copy\u001b[0m\u001b[1;33m)\u001b[0m\u001b[1;33m\u001b[0m\u001b[0m\n\u001b[0m\u001b[0;32m   1956\u001b[0m                         \u001b[0mres\u001b[0m\u001b[1;33m.\u001b[0m\u001b[0mappend\u001b[0m\u001b[1;33m(\u001b[0m\u001b[0mtrace\u001b[0m\u001b[1;33m)\u001b[0m\u001b[1;33m\u001b[0m\u001b[0m\n\u001b[0;32m   1957\u001b[0m                 \u001b[1;32melse\u001b[0m\u001b[1;33m:\u001b[0m\u001b[1;33m\u001b[0m\u001b[0m\n",
      "\u001b[1;32m~\\AppData\\Local\\Continuum\\anaconda3\\lib\\site-packages\\plotly\\graph_objs\\_scattergeo.py\u001b[0m in \u001b[0;36m__init__\u001b[1;34m(self, arg, connectgaps, customdata, customdatasrc, fill, fillcolor, geo, hoverinfo, hoverinfosrc, hoverlabel, hovertext, hovertextsrc, ids, idssrc, lat, latsrc, legendgroup, line, locationmode, locations, locationssrc, lon, lonsrc, marker, mode, name, opacity, selected, selectedpoints, showlegend, stream, text, textfont, textposition, textpositionsrc, textsrc, uid, unselected, visible, **kwargs)\u001b[0m\n\u001b[0;32m   1553\u001b[0m         \u001b[0mself\u001b[0m\u001b[1;33m.\u001b[0m\u001b[0mlonsrc\u001b[0m \u001b[1;33m=\u001b[0m \u001b[0mlonsrc\u001b[0m \u001b[1;32mif\u001b[0m \u001b[0mlonsrc\u001b[0m \u001b[1;32mis\u001b[0m \u001b[1;32mnot\u001b[0m \u001b[1;32mNone\u001b[0m \u001b[1;32melse\u001b[0m \u001b[0m_v\u001b[0m\u001b[1;33m\u001b[0m\u001b[0m\n\u001b[0;32m   1554\u001b[0m         \u001b[0m_v\u001b[0m \u001b[1;33m=\u001b[0m \u001b[0marg\u001b[0m\u001b[1;33m.\u001b[0m\u001b[0mpop\u001b[0m\u001b[1;33m(\u001b[0m\u001b[1;34m'marker'\u001b[0m\u001b[1;33m,\u001b[0m \u001b[1;32mNone\u001b[0m\u001b[1;33m)\u001b[0m\u001b[1;33m\u001b[0m\u001b[0m\n\u001b[1;32m-> 1555\u001b[1;33m         \u001b[0mself\u001b[0m\u001b[1;33m.\u001b[0m\u001b[0mmarker\u001b[0m \u001b[1;33m=\u001b[0m \u001b[0mmarker\u001b[0m \u001b[1;32mif\u001b[0m \u001b[0mmarker\u001b[0m \u001b[1;32mis\u001b[0m \u001b[1;32mnot\u001b[0m \u001b[1;32mNone\u001b[0m \u001b[1;32melse\u001b[0m \u001b[0m_v\u001b[0m\u001b[1;33m\u001b[0m\u001b[0m\n\u001b[0m\u001b[0;32m   1556\u001b[0m         \u001b[0m_v\u001b[0m \u001b[1;33m=\u001b[0m \u001b[0marg\u001b[0m\u001b[1;33m.\u001b[0m\u001b[0mpop\u001b[0m\u001b[1;33m(\u001b[0m\u001b[1;34m'mode'\u001b[0m\u001b[1;33m,\u001b[0m \u001b[1;32mNone\u001b[0m\u001b[1;33m)\u001b[0m\u001b[1;33m\u001b[0m\u001b[0m\n\u001b[0;32m   1557\u001b[0m         \u001b[0mself\u001b[0m\u001b[1;33m.\u001b[0m\u001b[0mmode\u001b[0m \u001b[1;33m=\u001b[0m \u001b[0mmode\u001b[0m \u001b[1;32mif\u001b[0m \u001b[0mmode\u001b[0m \u001b[1;32mis\u001b[0m \u001b[1;32mnot\u001b[0m \u001b[1;32mNone\u001b[0m \u001b[1;32melse\u001b[0m \u001b[0m_v\u001b[0m\u001b[1;33m\u001b[0m\u001b[0m\n",
      "\u001b[1;32m~\\AppData\\Local\\Continuum\\anaconda3\\lib\\site-packages\\plotly\\basedatatypes.py\u001b[0m in \u001b[0;36m__setattr__\u001b[1;34m(self, prop, value)\u001b[0m\n\u001b[0;32m   2691\u001b[0m                 prop in self._validators):\n\u001b[0;32m   2692\u001b[0m             \u001b[1;31m# Let known properties and private properties through\u001b[0m\u001b[1;33m\u001b[0m\u001b[1;33m\u001b[0m\u001b[0m\n\u001b[1;32m-> 2693\u001b[1;33m             \u001b[0msuper\u001b[0m\u001b[1;33m(\u001b[0m\u001b[0mBasePlotlyType\u001b[0m\u001b[1;33m,\u001b[0m \u001b[0mself\u001b[0m\u001b[1;33m)\u001b[0m\u001b[1;33m.\u001b[0m\u001b[0m__setattr__\u001b[0m\u001b[1;33m(\u001b[0m\u001b[0mprop\u001b[0m\u001b[1;33m,\u001b[0m \u001b[0mvalue\u001b[0m\u001b[1;33m)\u001b[0m\u001b[1;33m\u001b[0m\u001b[0m\n\u001b[0m\u001b[0;32m   2694\u001b[0m         \u001b[1;32melse\u001b[0m\u001b[1;33m:\u001b[0m\u001b[1;33m\u001b[0m\u001b[0m\n\u001b[0;32m   2695\u001b[0m             \u001b[1;31m# Raise error on unknown public properties\u001b[0m\u001b[1;33m\u001b[0m\u001b[1;33m\u001b[0m\u001b[0m\n",
      "\u001b[1;32m~\\AppData\\Local\\Continuum\\anaconda3\\lib\\site-packages\\plotly\\graph_objs\\_scattergeo.py\u001b[0m in \u001b[0;36mmarker\u001b[1;34m(self, val)\u001b[0m\n\u001b[0;32m    693\u001b[0m     \u001b[1;33m@\u001b[0m\u001b[0mmarker\u001b[0m\u001b[1;33m.\u001b[0m\u001b[0msetter\u001b[0m\u001b[1;33m\u001b[0m\u001b[0m\n\u001b[0;32m    694\u001b[0m     \u001b[1;32mdef\u001b[0m \u001b[0mmarker\u001b[0m\u001b[1;33m(\u001b[0m\u001b[0mself\u001b[0m\u001b[1;33m,\u001b[0m \u001b[0mval\u001b[0m\u001b[1;33m)\u001b[0m\u001b[1;33m:\u001b[0m\u001b[1;33m\u001b[0m\u001b[0m\n\u001b[1;32m--> 695\u001b[1;33m         \u001b[0mself\u001b[0m\u001b[1;33m[\u001b[0m\u001b[1;34m'marker'\u001b[0m\u001b[1;33m]\u001b[0m \u001b[1;33m=\u001b[0m \u001b[0mval\u001b[0m\u001b[1;33m\u001b[0m\u001b[0m\n\u001b[0m\u001b[0;32m    696\u001b[0m \u001b[1;33m\u001b[0m\u001b[0m\n\u001b[0;32m    697\u001b[0m     \u001b[1;31m# mode\u001b[0m\u001b[1;33m\u001b[0m\u001b[1;33m\u001b[0m\u001b[0m\n",
      "\u001b[1;32m~\\AppData\\Local\\Continuum\\anaconda3\\lib\\site-packages\\plotly\\basedatatypes.py\u001b[0m in \u001b[0;36m__setitem__\u001b[1;34m(self, prop, value)\u001b[0m\n\u001b[0;32m   2654\u001b[0m             \u001b[1;31m# ### Handle compound property ###\u001b[0m\u001b[1;33m\u001b[0m\u001b[1;33m\u001b[0m\u001b[0m\n\u001b[0;32m   2655\u001b[0m             \u001b[1;32mif\u001b[0m \u001b[0misinstance\u001b[0m\u001b[1;33m(\u001b[0m\u001b[0mvalidator\u001b[0m\u001b[1;33m,\u001b[0m \u001b[0mCompoundValidator\u001b[0m\u001b[1;33m)\u001b[0m\u001b[1;33m:\u001b[0m\u001b[1;33m\u001b[0m\u001b[0m\n\u001b[1;32m-> 2656\u001b[1;33m                 \u001b[0mself\u001b[0m\u001b[1;33m.\u001b[0m\u001b[0m_set_compound_prop\u001b[0m\u001b[1;33m(\u001b[0m\u001b[0mprop\u001b[0m\u001b[1;33m,\u001b[0m \u001b[0mvalue\u001b[0m\u001b[1;33m)\u001b[0m\u001b[1;33m\u001b[0m\u001b[0m\n\u001b[0m\u001b[0;32m   2657\u001b[0m \u001b[1;33m\u001b[0m\u001b[0m\n\u001b[0;32m   2658\u001b[0m             \u001b[1;31m# ### Handle compound array property ###\u001b[0m\u001b[1;33m\u001b[0m\u001b[1;33m\u001b[0m\u001b[0m\n",
      "\u001b[1;32m~\\AppData\\Local\\Continuum\\anaconda3\\lib\\site-packages\\plotly\\basedatatypes.py\u001b[0m in \u001b[0;36m_set_compound_prop\u001b[1;34m(self, prop, val)\u001b[0m\n\u001b[0;32m   2952\u001b[0m         \u001b[0mvalidator\u001b[0m \u001b[1;33m=\u001b[0m \u001b[0mself\u001b[0m\u001b[1;33m.\u001b[0m\u001b[0m_validators\u001b[0m\u001b[1;33m.\u001b[0m\u001b[0mget\u001b[0m\u001b[1;33m(\u001b[0m\u001b[0mprop\u001b[0m\u001b[1;33m)\u001b[0m\u001b[1;33m\u001b[0m\u001b[0m\n\u001b[0;32m   2953\u001b[0m         \u001b[1;31m# type: BasePlotlyType\u001b[0m\u001b[1;33m\u001b[0m\u001b[1;33m\u001b[0m\u001b[0m\n\u001b[1;32m-> 2954\u001b[1;33m         \u001b[0mval\u001b[0m \u001b[1;33m=\u001b[0m \u001b[0mvalidator\u001b[0m\u001b[1;33m.\u001b[0m\u001b[0mvalidate_coerce\u001b[0m\u001b[1;33m(\u001b[0m\u001b[0mval\u001b[0m\u001b[1;33m)\u001b[0m\u001b[1;33m\u001b[0m\u001b[0m\n\u001b[0m\u001b[0;32m   2955\u001b[0m \u001b[1;33m\u001b[0m\u001b[0m\n\u001b[0;32m   2956\u001b[0m         \u001b[1;31m# Save deep copies of current and new states\u001b[0m\u001b[1;33m\u001b[0m\u001b[1;33m\u001b[0m\u001b[0m\n",
      "\u001b[1;32m~\\AppData\\Local\\Continuum\\anaconda3\\lib\\site-packages\\_plotly_utils\\basevalidators.py\u001b[0m in \u001b[0;36mvalidate_coerce\u001b[1;34m(self, v)\u001b[0m\n\u001b[0;32m   1783\u001b[0m \u001b[1;33m\u001b[0m\u001b[0m\n\u001b[0;32m   1784\u001b[0m         \u001b[1;32melif\u001b[0m \u001b[0misinstance\u001b[0m\u001b[1;33m(\u001b[0m\u001b[0mv\u001b[0m\u001b[1;33m,\u001b[0m \u001b[0mdict\u001b[0m\u001b[1;33m)\u001b[0m\u001b[1;33m:\u001b[0m\u001b[1;33m\u001b[0m\u001b[0m\n\u001b[1;32m-> 1785\u001b[1;33m             \u001b[0mv\u001b[0m \u001b[1;33m=\u001b[0m \u001b[0mself\u001b[0m\u001b[1;33m.\u001b[0m\u001b[0mdata_class\u001b[0m\u001b[1;33m(\u001b[0m\u001b[1;33m**\u001b[0m\u001b[0mv\u001b[0m\u001b[1;33m)\u001b[0m\u001b[1;33m\u001b[0m\u001b[0m\n\u001b[0m\u001b[0;32m   1786\u001b[0m \u001b[1;33m\u001b[0m\u001b[0m\n\u001b[0;32m   1787\u001b[0m         \u001b[1;32melif\u001b[0m \u001b[0misinstance\u001b[0m\u001b[1;33m(\u001b[0m\u001b[0mv\u001b[0m\u001b[1;33m,\u001b[0m \u001b[0mself\u001b[0m\u001b[1;33m.\u001b[0m\u001b[0mdata_class\u001b[0m\u001b[1;33m)\u001b[0m\u001b[1;33m:\u001b[0m\u001b[1;33m\u001b[0m\u001b[0m\n",
      "\u001b[1;32m~\\AppData\\Local\\Continuum\\anaconda3\\lib\\site-packages\\plotly\\graph_objs\\scattergeo\\_marker.py\u001b[0m in \u001b[0;36m__init__\u001b[1;34m(self, arg, autocolorscale, cauto, cmax, cmin, color, colorbar, colorscale, colorsrc, gradient, line, opacity, opacitysrc, reversescale, showscale, size, sizemin, sizemode, sizeref, sizesrc, symbol, symbolsrc, **kwargs)\u001b[0m\n\u001b[0;32m   1175\u001b[0m         \u001b[0mself\u001b[0m\u001b[1;33m.\u001b[0m\u001b[0mcmin\u001b[0m \u001b[1;33m=\u001b[0m \u001b[0mcmin\u001b[0m \u001b[1;32mif\u001b[0m \u001b[0mcmin\u001b[0m \u001b[1;32mis\u001b[0m \u001b[1;32mnot\u001b[0m \u001b[1;32mNone\u001b[0m \u001b[1;32melse\u001b[0m \u001b[0m_v\u001b[0m\u001b[1;33m\u001b[0m\u001b[0m\n\u001b[0;32m   1176\u001b[0m         \u001b[0m_v\u001b[0m \u001b[1;33m=\u001b[0m \u001b[0marg\u001b[0m\u001b[1;33m.\u001b[0m\u001b[0mpop\u001b[0m\u001b[1;33m(\u001b[0m\u001b[1;34m'color'\u001b[0m\u001b[1;33m,\u001b[0m \u001b[1;32mNone\u001b[0m\u001b[1;33m)\u001b[0m\u001b[1;33m\u001b[0m\u001b[0m\n\u001b[1;32m-> 1177\u001b[1;33m         \u001b[0mself\u001b[0m\u001b[1;33m.\u001b[0m\u001b[0mcolor\u001b[0m \u001b[1;33m=\u001b[0m \u001b[0mcolor\u001b[0m \u001b[1;32mif\u001b[0m \u001b[0mcolor\u001b[0m \u001b[1;32mis\u001b[0m \u001b[1;32mnot\u001b[0m \u001b[1;32mNone\u001b[0m \u001b[1;32melse\u001b[0m \u001b[0m_v\u001b[0m\u001b[1;33m\u001b[0m\u001b[0m\n\u001b[0m\u001b[0;32m   1178\u001b[0m         \u001b[0m_v\u001b[0m \u001b[1;33m=\u001b[0m \u001b[0marg\u001b[0m\u001b[1;33m.\u001b[0m\u001b[0mpop\u001b[0m\u001b[1;33m(\u001b[0m\u001b[1;34m'colorbar'\u001b[0m\u001b[1;33m,\u001b[0m \u001b[1;32mNone\u001b[0m\u001b[1;33m)\u001b[0m\u001b[1;33m\u001b[0m\u001b[0m\n\u001b[0;32m   1179\u001b[0m         \u001b[0mself\u001b[0m\u001b[1;33m.\u001b[0m\u001b[0mcolorbar\u001b[0m \u001b[1;33m=\u001b[0m \u001b[0mcolorbar\u001b[0m \u001b[1;32mif\u001b[0m \u001b[0mcolorbar\u001b[0m \u001b[1;32mis\u001b[0m \u001b[1;32mnot\u001b[0m \u001b[1;32mNone\u001b[0m \u001b[1;32melse\u001b[0m \u001b[0m_v\u001b[0m\u001b[1;33m\u001b[0m\u001b[0m\n",
      "\u001b[1;32m~\\AppData\\Local\\Continuum\\anaconda3\\lib\\site-packages\\plotly\\basedatatypes.py\u001b[0m in \u001b[0;36m__setattr__\u001b[1;34m(self, prop, value)\u001b[0m\n\u001b[0;32m   2691\u001b[0m                 prop in self._validators):\n\u001b[0;32m   2692\u001b[0m             \u001b[1;31m# Let known properties and private properties through\u001b[0m\u001b[1;33m\u001b[0m\u001b[1;33m\u001b[0m\u001b[0m\n\u001b[1;32m-> 2693\u001b[1;33m             \u001b[0msuper\u001b[0m\u001b[1;33m(\u001b[0m\u001b[0mBasePlotlyType\u001b[0m\u001b[1;33m,\u001b[0m \u001b[0mself\u001b[0m\u001b[1;33m)\u001b[0m\u001b[1;33m.\u001b[0m\u001b[0m__setattr__\u001b[0m\u001b[1;33m(\u001b[0m\u001b[0mprop\u001b[0m\u001b[1;33m,\u001b[0m \u001b[0mvalue\u001b[0m\u001b[1;33m)\u001b[0m\u001b[1;33m\u001b[0m\u001b[0m\n\u001b[0m\u001b[0;32m   2694\u001b[0m         \u001b[1;32melse\u001b[0m\u001b[1;33m:\u001b[0m\u001b[1;33m\u001b[0m\u001b[0m\n\u001b[0;32m   2695\u001b[0m             \u001b[1;31m# Raise error on unknown public properties\u001b[0m\u001b[1;33m\u001b[0m\u001b[1;33m\u001b[0m\u001b[0m\n",
      "\u001b[1;32m~\\AppData\\Local\\Continuum\\anaconda3\\lib\\site-packages\\plotly\\graph_objs\\scattergeo\\_marker.py\u001b[0m in \u001b[0;36mcolor\u001b[1;34m(self, val)\u001b[0m\n\u001b[0;32m    165\u001b[0m     \u001b[1;33m@\u001b[0m\u001b[0mcolor\u001b[0m\u001b[1;33m.\u001b[0m\u001b[0msetter\u001b[0m\u001b[1;33m\u001b[0m\u001b[0m\n\u001b[0;32m    166\u001b[0m     \u001b[1;32mdef\u001b[0m \u001b[0mcolor\u001b[0m\u001b[1;33m(\u001b[0m\u001b[0mself\u001b[0m\u001b[1;33m,\u001b[0m \u001b[0mval\u001b[0m\u001b[1;33m)\u001b[0m\u001b[1;33m:\u001b[0m\u001b[1;33m\u001b[0m\u001b[0m\n\u001b[1;32m--> 167\u001b[1;33m         \u001b[0mself\u001b[0m\u001b[1;33m[\u001b[0m\u001b[1;34m'color'\u001b[0m\u001b[1;33m]\u001b[0m \u001b[1;33m=\u001b[0m \u001b[0mval\u001b[0m\u001b[1;33m\u001b[0m\u001b[0m\n\u001b[0m\u001b[0;32m    168\u001b[0m \u001b[1;33m\u001b[0m\u001b[0m\n\u001b[0;32m    169\u001b[0m     \u001b[1;31m# colorbar\u001b[0m\u001b[1;33m\u001b[0m\u001b[1;33m\u001b[0m\u001b[0m\n",
      "\u001b[1;32m~\\AppData\\Local\\Continuum\\anaconda3\\lib\\site-packages\\plotly\\basedatatypes.py\u001b[0m in \u001b[0;36m__setitem__\u001b[1;34m(self, prop, value)\u001b[0m\n\u001b[0;32m   2663\u001b[0m             \u001b[1;31m# ### Handle simple property ###\u001b[0m\u001b[1;33m\u001b[0m\u001b[1;33m\u001b[0m\u001b[0m\n\u001b[0;32m   2664\u001b[0m             \u001b[1;32melse\u001b[0m\u001b[1;33m:\u001b[0m\u001b[1;33m\u001b[0m\u001b[0m\n\u001b[1;32m-> 2665\u001b[1;33m                 \u001b[0mself\u001b[0m\u001b[1;33m.\u001b[0m\u001b[0m_set_prop\u001b[0m\u001b[1;33m(\u001b[0m\u001b[0mprop\u001b[0m\u001b[1;33m,\u001b[0m \u001b[0mvalue\u001b[0m\u001b[1;33m)\u001b[0m\u001b[1;33m\u001b[0m\u001b[0m\n\u001b[0m\u001b[0;32m   2666\u001b[0m \u001b[1;33m\u001b[0m\u001b[0m\n\u001b[0;32m   2667\u001b[0m         \u001b[1;31m# Handle non-scalar case\u001b[0m\u001b[1;33m\u001b[0m\u001b[1;33m\u001b[0m\u001b[0m\n",
      "\u001b[1;32m~\\AppData\\Local\\Continuum\\anaconda3\\lib\\site-packages\\plotly\\basedatatypes.py\u001b[0m in \u001b[0;36m_set_prop\u001b[1;34m(self, prop, val)\u001b[0m\n\u001b[0;32m   2893\u001b[0m         \u001b[1;31m# ------------\u001b[0m\u001b[1;33m\u001b[0m\u001b[1;33m\u001b[0m\u001b[0m\n\u001b[0;32m   2894\u001b[0m         \u001b[0mvalidator\u001b[0m \u001b[1;33m=\u001b[0m \u001b[0mself\u001b[0m\u001b[1;33m.\u001b[0m\u001b[0m_validators\u001b[0m\u001b[1;33m.\u001b[0m\u001b[0mget\u001b[0m\u001b[1;33m(\u001b[0m\u001b[0mprop\u001b[0m\u001b[1;33m)\u001b[0m\u001b[1;33m\u001b[0m\u001b[0m\n\u001b[1;32m-> 2895\u001b[1;33m         \u001b[0mval\u001b[0m \u001b[1;33m=\u001b[0m \u001b[0mvalidator\u001b[0m\u001b[1;33m.\u001b[0m\u001b[0mvalidate_coerce\u001b[0m\u001b[1;33m(\u001b[0m\u001b[0mval\u001b[0m\u001b[1;33m)\u001b[0m\u001b[1;33m\u001b[0m\u001b[0m\n\u001b[0m\u001b[0;32m   2896\u001b[0m \u001b[1;33m\u001b[0m\u001b[0m\n\u001b[0;32m   2897\u001b[0m         \u001b[1;31m# val is None\u001b[0m\u001b[1;33m\u001b[0m\u001b[1;33m\u001b[0m\u001b[0m\n",
      "\u001b[1;32m~\\AppData\\Local\\Continuum\\anaconda3\\lib\\site-packages\\_plotly_utils\\basevalidators.py\u001b[0m in \u001b[0;36mvalidate_coerce\u001b[1;34m(self, v, should_raise)\u001b[0m\n\u001b[0;32m   1044\u001b[0m \u001b[1;33m\u001b[0m\u001b[0m\n\u001b[0;32m   1045\u001b[0m                 \u001b[1;32mif\u001b[0m \u001b[0minvalid_els\u001b[0m \u001b[1;32mand\u001b[0m \u001b[0mshould_raise\u001b[0m\u001b[1;33m:\u001b[0m\u001b[1;33m\u001b[0m\u001b[0m\n\u001b[1;32m-> 1046\u001b[1;33m                     \u001b[0mself\u001b[0m\u001b[1;33m.\u001b[0m\u001b[0mraise_invalid_elements\u001b[0m\u001b[1;33m(\u001b[0m\u001b[0minvalid_els\u001b[0m\u001b[1;33m)\u001b[0m\u001b[1;33m\u001b[0m\u001b[0m\n\u001b[0m\u001b[0;32m   1047\u001b[0m \u001b[1;33m\u001b[0m\u001b[0m\n\u001b[0;32m   1048\u001b[0m                 \u001b[1;31m# ### Check that elements have valid colors types ###\u001b[0m\u001b[1;33m\u001b[0m\u001b[1;33m\u001b[0m\u001b[0m\n",
      "\u001b[1;32m~\\AppData\\Local\\Continuum\\anaconda3\\lib\\site-packages\\_plotly_utils\\basevalidators.py\u001b[0m in \u001b[0;36mraise_invalid_elements\u001b[1;34m(self, invalid_els)\u001b[0m\n\u001b[0;32m    226\u001b[0m                 \u001b[0mpname\u001b[0m\u001b[1;33m=\u001b[0m\u001b[0mself\u001b[0m\u001b[1;33m.\u001b[0m\u001b[0mparent_name\u001b[0m\u001b[1;33m,\u001b[0m\u001b[1;33m\u001b[0m\u001b[0m\n\u001b[0;32m    227\u001b[0m                 \u001b[0minvalid\u001b[0m\u001b[1;33m=\u001b[0m\u001b[0minvalid_els\u001b[0m\u001b[1;33m[\u001b[0m\u001b[1;33m:\u001b[0m\u001b[1;36m10\u001b[0m\u001b[1;33m]\u001b[0m\u001b[1;33m,\u001b[0m\u001b[1;33m\u001b[0m\u001b[0m\n\u001b[1;32m--> 228\u001b[1;33m                 valid_clr_desc=self.description()))\n\u001b[0m\u001b[0;32m    229\u001b[0m \u001b[1;33m\u001b[0m\u001b[0m\n\u001b[0;32m    230\u001b[0m     \u001b[1;32mdef\u001b[0m \u001b[0mvalidate_coerce\u001b[0m\u001b[1;33m(\u001b[0m\u001b[0mself\u001b[0m\u001b[1;33m,\u001b[0m \u001b[0mv\u001b[0m\u001b[1;33m)\u001b[0m\u001b[1;33m:\u001b[0m\u001b[1;33m\u001b[0m\u001b[0m\n",
      "\u001b[1;31mValueError\u001b[0m: \n    Invalid element(s) received for the 'color' property of scattergeo.marker\n        Invalid elements include: ['', '', '', '', '', '', '', '', '', '']\n\n    The 'color' property is a color and may be specified as:\n      - A hex string (e.g. '#ff0000')\n      - An rgb/rgba string (e.g. 'rgb(255,0,0)')\n      - An hsl/hsla string (e.g. 'hsl(0,100%,50%)')\n      - An hsv/hsva string (e.g. 'hsv(0,100%,100%)')\n      - A named CSS color:\n            aliceblue, antiquewhite, aqua, aquamarine, azure,\n            beige, bisque, black, blanchedalmond, blue,\n            blueviolet, brown, burlywood, cadetblue,\n            chartreuse, chocolate, coral, cornflowerblue,\n            cornsilk, crimson, cyan, darkblue, darkcyan,\n            darkgoldenrod, darkgray, darkgrey, darkgreen,\n            darkkhaki, darkmagenta, darkolivegreen, darkorange,\n            darkorchid, darkred, darksalmon, darkseagreen,\n            darkslateblue, darkslategray, darkslategrey,\n            darkturquoise, darkviolet, deeppink, deepskyblue,\n            dimgray, dimgrey, dodgerblue, firebrick,\n            floralwhite, forestgreen, fuchsia, gainsboro,\n            ghostwhite, gold, goldenrod, gray, grey, green,\n            greenyellow, honeydew, hotpink, indianred, indigo,\n            ivory, khaki, lavender, lavenderblush, lawngreen,\n            lemonchiffon, lightblue, lightcoral, lightcyan,\n            lightgoldenrodyellow, lightgray, lightgrey,\n            lightgreen, lightpink, lightsalmon, lightseagreen,\n            lightskyblue, lightslategray, lightslategrey,\n            lightsteelblue, lightyellow, lime, limegreen,\n            linen, magenta, maroon, mediumaquamarine,\n            mediumblue, mediumorchid, mediumpurple,\n            mediumseagreen, mediumslateblue, mediumspringgreen,\n            mediumturquoise, mediumvioletred, midnightblue,\n            mintcream, mistyrose, moccasin, navajowhite, navy,\n            oldlace, olive, olivedrab, orange, orangered,\n            orchid, palegoldenrod, palegreen, paleturquoise,\n            palevioletred, papayawhip, peachpuff, peru, pink,\n            plum, powderblue, purple, red, rosybrown,\n            royalblue, saddlebrown, salmon, sandybrown,\n            seagreen, seashell, sienna, silver, skyblue,\n            slateblue, slategray, slategrey, snow, springgreen,\n            steelblue, tan, teal, thistle, tomato, turquoise,\n            violet, wheat, white, whitesmoke, yellow,\n            yellowgreen\n      - A number that will be interpreted as a color\n        according to scattergeo.marker.colorscale\n      - A list or array of any of the above"
     ]
    }
   ],
   "source": [
    "# ATTACK\n",
    "aerial[\"color\"] = \"\"\n",
    "aerial.color[aerial.Country == \"USA\"] = \"rgb(0,116,217)\"\n",
    "aerial.color[aerial.Country == \"GREAT BRITAIN\"] = \"rgb(255,65,54)\"\n",
    "aerial.color[aerial.Country == \"NEW ZEALAND\"] = \"rgb(133,20,75)\"\n",
    "aerial.color[aerial.Country == \"SOUTH AFRICA\"] = \"rgb(255,133,27)\"\n",
    "\n",
    "data = [dict(\n",
    "    type='scattergeo',\n",
    "    lon = aerial['Takeoff Longitude'],\n",
    "    lat = aerial['Takeoff Latitude'],\n",
    "    hoverinfo = 'text',\n",
    "    text = \"Country: \" + aerial.Country + \" Takeoff Location: \"+aerial[\"Takeoff Location\"]+\" Takeoff Base: \" + aerial['Takeoff Base'],\n",
    "    mode = 'markers',\n",
    "    marker=dict(\n",
    "        sizemode = 'area',\n",
    "        sizeref = 1,\n",
    "        size= 10 ,\n",
    "        line = dict(width=1,color = \"white\"),\n",
    "        color = aerial[\"color\"],\n",
    "        opacity = 0.7),\n",
    ")]\n",
    "layout = dict(\n",
    "    title = 'Countries Take Off Bases ',\n",
    "    hovermode='closest',\n",
    "    geo = dict(showframe=False, showland=True, showcoastlines=True, showcountries=True,\n",
    "               countrywidth=1, projection=dict(type='Mercator'),\n",
    "              landcolor = 'rgb(217, 217, 217)',\n",
    "              subunitwidth=1,\n",
    "              showlakes = True,\n",
    "              lakecolor = 'rgb(255, 255, 255)',\n",
    "              countrycolor=\"rgb(5, 5, 5)\")\n",
    ")\n",
    "fig = go.Figure(data=data, layout=layout)\n",
    "iplot(fig)"
   ]
  },
  {
   "cell_type": "code",
   "execution_count": null,
   "metadata": {},
   "outputs": [],
   "source": [
    "# Bombing paths\n",
    "airports = [ dict(\n",
    "        type = 'scattergeo',\n",
    "        lon = aerial['Takeoff Longitude'],\n",
    "        lat = aerial['Takeoff Latitude'],\n",
    "        hoverinfo = 'text',\n",
    "        text = \"Country: \" + aerial.Country + \" Takeoff Location: \"+aerial[\"Takeoff Location\"]+\" Takeoff Base: \" + aerial['Takeoff Base'],\n",
    "        mode = 'markers',\n",
    "        marker = dict( \n",
    "            size=5, \n",
    "            color = aerial[\"color\"],\n",
    "            line = dict(\n",
    "                width=1,\n",
    "                color = \"white\"\n",
    "            )\n",
    "        ))]\n",
    "\n",
    "targets = [ dict(\n",
    "        type = 'scattergeo',\n",
    "        lon = aerial['Target Longitude'],\n",
    "        lat = aerial['Target Latitude'],\n",
    "        hoverinfo = 'text',\n",
    "        text = \"Target Country: \"+aerial[\"Target Country\"]+\" Target City: \"+aerial[\"Target City\"],\n",
    "        mode = 'markers',\n",
    "        marker = dict( \n",
    "            size=1, \n",
    "            color = \"red\",\n",
    "            line = dict(\n",
    "                width=0.5,\n",
    "                color = \"red\"\n",
    "            )\n",
    "        ))]\n",
    "        \n",
    "\n",
    "flight_paths = []\n",
    "for i in range( len( aerial['Target Longitude'] ) ):\n",
    "    flight_paths.append(\n",
    "        dict(\n",
    "            type = 'scattergeo',\n",
    "            lon = [ aerial.iloc[i,9], aerial.iloc[i,16] ],\n",
    "            lat = [ aerial.iloc[i,8], aerial.iloc[i,15] ],\n",
    "            mode = 'lines',\n",
    "            line = dict(\n",
    "                width = 0.7,\n",
    "                color = 'black',\n",
    "            ),\n",
    "            opacity = 0.6,\n",
    "        )\n",
    "    )\n",
    "    \n",
    "layout = dict(\n",
    "    title = 'Bombing Paths from Attacker Country to Target ',\n",
    "    hovermode='closest',\n",
    "    geo = dict(showframe=False, showland=True, showcoastlines=True, showcountries=True,\n",
    "               countrywidth=1, projection=dict(type='Mercator'),\n",
    "              landcolor = 'rgb(217, 217, 217)',\n",
    "              subunitwidth=1,\n",
    "              showlakes = True,\n",
    "              lakecolor = 'rgb(255, 255, 255)',\n",
    "              countrycolor=\"rgb(5, 5, 5)\")\n",
    ")\n",
    "    \n",
    "fig = dict( data=flight_paths + airports+targets, layout=layout )\n",
    "iplot( fig )"
   ]
  },
  {
   "cell_type": "code",
   "execution_count": null,
   "metadata": {},
   "outputs": [],
   "source": [
    "#Theater of Operations\n",
    "print(aerial['Theater of Operations'].value_counts())\n",
    "plt.figure(figsize=(22,10))\n",
    "sns.countplot(aerial['Theater of Operations'])\n",
    "plt.show()"
   ]
  },
  {
   "cell_type": "code",
   "execution_count": null,
   "metadata": {},
   "outputs": [],
   "source": [
    "# weather station locations\n",
    "\n",
    "data = [dict(\n",
    "    type='scattergeo',\n",
    "    lon = weather_station_location.Longitude,\n",
    "    lat = weather_station_location.Latitude,\n",
    "    hoverinfo = 'text',\n",
    "    text = \"Name: \" + weather_station_location.NAME + \" Country: \" + weather_station_location[\"STATE/COUNTRY ID\"],\n",
    "    mode = 'markers',\n",
    "    marker=dict(\n",
    "        sizemode = 'area',\n",
    "        sizeref = 1,\n",
    "        size= 8 ,\n",
    "        line = dict(width=1,color = \"white\"),\n",
    "        color = \"blue\",\n",
    "        opacity = 0.7),\n",
    ")]\n",
    "layout = dict(\n",
    "    title = 'Weather Station Locations ',\n",
    "    hovermode='closest',\n",
    "    geo = dict(showframe=False, showland=True, showcoastlines=True, showcountries=True,\n",
    "               countrywidth=1, projection=dict(type='Mercator'),\n",
    "              landcolor = 'rgb(217, 217, 217)',\n",
    "              subunitwidth=1,\n",
    "              showlakes = True,\n",
    "              lakecolor = 'rgb(255, 255, 255)',\n",
    "              countrycolor=\"rgb(5, 5, 5)\")\n",
    ")\n",
    "fig = go.Figure(data=data, layout=layout)\n",
    "iplot(fig)"
   ]
  },
  {
   "cell_type": "code",
   "execution_count": null,
   "metadata": {},
   "outputs": [],
   "source": []
  }
 ],
 "metadata": {
  "kernelspec": {
   "display_name": "Python 3",
   "language": "python",
   "name": "python3"
  },
  "language_info": {
   "codemirror_mode": {
    "name": "ipython",
    "version": 3
   },
   "file_extension": ".py",
   "mimetype": "text/x-python",
   "name": "python",
   "nbconvert_exporter": "python",
   "pygments_lexer": "ipython3",
   "version": "3.6.5"
  }
 },
 "nbformat": 4,
 "nbformat_minor": 2
}
