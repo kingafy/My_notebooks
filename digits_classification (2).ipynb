{
 "cells": [
  {
   "cell_type": "markdown",
   "metadata": {
    "slideshow": {
     "slide_type": "slide"
    }
   },
   "source": [
    "# MNIST digits classification with TensorFlow"
   ]
  },
  {
   "cell_type": "markdown",
   "metadata": {},
   "source": [
    "<img src=\"images/mnist_sample.png\" style=\"width:30%\">"
   ]
  },
  {
   "cell_type": "code",
   "execution_count": 1,
   "metadata": {},
   "outputs": [
    {
     "name": "stdout",
     "output_type": "stream",
     "text": [
      "We're using TF 1.2.1\n"
     ]
    }
   ],
   "source": [
    "import numpy as np\n",
    "from sklearn.metrics import accuracy_score\n",
    "from matplotlib import pyplot as plt\n",
    "%matplotlib inline\n",
    "import tensorflow as tf\n",
    "print(\"We're using TF\", tf.__version__)"
   ]
  },
  {
   "cell_type": "code",
   "execution_count": 2,
   "metadata": {},
   "outputs": [
    {
     "name": "stderr",
     "output_type": "stream",
     "text": [
      "Using TensorFlow backend.\n"
     ]
    }
   ],
   "source": [
    "import sys\n",
    "sys.path.append(\"../..\")\n",
    "import grading\n",
    "\n",
    "import matplotlib_utils\n",
    "from importlib import reload\n",
    "reload(matplotlib_utils)\n",
    "\n",
    "import grading_utils\n",
    "reload(grading_utils)\n",
    "\n",
    "import keras_utils\n",
    "from keras_utils import reset_tf_session"
   ]
  },
  {
   "cell_type": "markdown",
   "metadata": {},
   "source": [
    "# Fill in your Coursera token and email\n",
    "To successfully submit your answers to our grader, please fill in your Coursera submission token and email"
   ]
  },
  {
   "cell_type": "code",
   "execution_count": 3,
   "metadata": {
    "collapsed": true
   },
   "outputs": [],
   "source": [
    "grader = grading.Grader(assignment_key=\"XtD7ho3TEeiHQBLWejjYAA\", \n",
    "                        all_parts=[\"9XaAS\", \"vmogZ\", \"RMv95\", \"i8bgs\", \"rE763\"])"
   ]
  },
  {
   "cell_type": "code",
   "execution_count": 4,
   "metadata": {
    "collapsed": true
   },
   "outputs": [],
   "source": [
    "# token expires every 30 min\n",
    "COURSERA_TOKEN = \"j3yfAGXYMxxJQIZe\"\n",
    "COURSERA_EMAIL = \"anshumanmah@gmail.com\""
   ]
  },
  {
   "cell_type": "markdown",
   "metadata": {},
   "source": [
    "# Look at the data\n",
    "\n",
    "In this task we have 50000 28x28 images of digits from 0 to 9.\n",
    "We will train a classifier on this data."
   ]
  },
  {
   "cell_type": "code",
   "execution_count": 12,
   "metadata": {
    "collapsed": true
   },
   "outputs": [],
   "source": [
    "import preprocessed_mnist\n",
    "X_train, y_train, X_val, y_val, X_test, y_test = preprocessed_mnist.load_dataset_from_file()"
   ]
  },
  {
   "cell_type": "code",
   "execution_count": 13,
   "metadata": {},
   "outputs": [
    {
     "name": "stdout",
     "output_type": "stream",
     "text": [
      "X_train [shape (50000, 28, 28)] sample patch:\n",
      " [[ 0.          0.29803922  0.96470588  0.98823529  0.43921569]\n",
      " [ 0.          0.33333333  0.98823529  0.90196078  0.09803922]\n",
      " [ 0.          0.33333333  0.98823529  0.8745098   0.        ]\n",
      " [ 0.          0.33333333  0.98823529  0.56862745  0.        ]\n",
      " [ 0.          0.3372549   0.99215686  0.88235294  0.        ]]\n",
      "A closeup of a sample patch:\n"
     ]
    },
    {
     "data": {
      "image/png": "[encoded data removed]",
      "text/plain": [
       "<matplotlib.figure.Figure at 0x7f74610b0dd8>"
      ]
     },
     "metadata": {},
     "output_type": "display_data"
    },
    {
     "name": "stdout",
     "output_type": "stream",
     "text": [
      "And the whole sample:\n"
     ]
    },
    {
     "data": {
      "image/png": "[encoded data removed]",
      "text/plain": [
       "<matplotlib.figure.Figure at 0x7f7460fa67b8>"
      ]
     },
     "metadata": {},
     "output_type": "display_data"
    },
    {
     "name": "stdout",
     "output_type": "stream",
     "text": [
      "y_train [shape (50000,)] 10 samples:\n",
      " [5 0 4 1 9 2 1 3 1 4]\n"
     ]
    }
   ],
   "source": [
    "# X contains rgb values divided by 255\n",
    "print(\"X_train [shape %s] sample patch:\\n\" % (str(X_train.shape)), X_train[1, 15:20, 5:10])\n",
    "print(\"A closeup of a sample patch:\")\n",
    "plt.imshow(X_train[1, 15:20, 5:10], cmap=\"Greys\")\n",
    "plt.show()\n",
    "print(\"And the whole sample:\")\n",
    "plt.imshow(X_train[1], cmap=\"Greys\")\n",
    "plt.show()\n",
    "print(\"y_train [shape %s] 10 samples:\\n\" % (str(y_train.shape)), y_train[:10])"
   ]
  },
  {
   "cell_type": "markdown",
   "metadata": {},
   "source": [
    "# Linear model\n",
    "\n",
    "Your task is to train a linear classifier $\\vec{x} \\rightarrow y$ with SGD using TensorFlow.\n",
    "\n",
    "You will need to calculate a logit (a linear transformation) $z_k$ for each class: \n",
    "$$z_k = \\vec{x} \\cdot \\vec{w_k} + b_k \\quad k = 0..9$$\n",
    "\n",
    "And transform logits $z_k$ to valid probabilities $p_k$ with softmax: \n",
    "$$p_k = \\frac{e^{z_k}}{\\sum_{i=0}^{9}{e^{z_i}}} \\quad k = 0..9$$\n",
    "\n",
    "We will use a cross-entropy loss to train our multi-class classifier:\n",
    "$$\\text{cross-entropy}(y, p) = -\\sum_{k=0}^{9}{\\log(p_k)[y = k]}$$ \n",
    "\n",
    "where \n",
    "$$\n",
    "[x]=\\begin{cases}\n",
    "       1, \\quad \\text{if $x$ is true} \\\\\n",
    "       0, \\quad \\text{otherwise}\n",
    "    \\end{cases}\n",
    "$$\n",
    "\n",
    "Cross-entropy minimization pushes $p_k$ close to 1 when $y = k$, which is what we want.\n",
    "\n",
    "Here's the plan:\n",
    "* Flatten the images (28x28 -> 784) with `X_train.reshape((X_train.shape[0], -1))` to simplify our linear model implementation\n",
    "* Use a matrix placeholder for flattened `X_train`\n",
    "* Convert `y_train` to one-hot encoded vectors that are needed for cross-entropy\n",
    "* Use a shared variable `W` for all weights (a column $\\vec{w_k}$ per class) and `b` for all biases.\n",
    "* Aim for ~0.93 validation accuracy"
   ]
  },
  {
   "cell_type": "code",
   "execution_count": 14,
   "metadata": {
    "collapsed": true
   },
   "outputs": [],
   "source": [
    "X_flat = X_train.reshape((X_train.shape[0],-1))"
   ]
  },
  {
   "cell_type": "code",
   "execution_count": 15,
   "metadata": {},
   "outputs": [
    {
     "name": "stdout",
     "output_type": "stream",
     "text": [
      "(50000, 784)\n"
     ]
    }
   ],
   "source": [
    "print(X_flat.shape)"
   ]
  },
  {
   "cell_type": "code",
   "execution_count": 16,
   "metadata": {},
   "outputs": [
    {
     "name": "stdout",
     "output_type": "stream",
     "text": [
      "(50000, 784)\n",
      "(10000, 784)\n"
     ]
    }
   ],
   "source": [
    "X_train_flat = X_train.reshape((X_train.shape[0], -1))\n",
    "print(X_train_flat.shape)\n",
    "\n",
    "X_val_flat = X_val.reshape((X_val.shape[0], -1))\n",
    "print(X_val_flat.shape)"
   ]
  },
  {
   "cell_type": "code",
   "execution_count": 17,
   "metadata": {},
   "outputs": [
    {
     "name": "stdout",
     "output_type": "stream",
     "text": [
      "(50000, 10)\n",
      "[[ 0.  0.  0.  0.  0.  1.  0.  0.  0.  0.]\n",
      " [ 1.  0.  0.  0.  0.  0.  0.  0.  0.  0.]\n",
      " [ 0.  0.  0.  0.  1.  0.  0.  0.  0.  0.]] [5 0 4]\n"
     ]
    }
   ],
   "source": [
    "import keras\n",
    "\n",
    "y_train_oh = keras.utils.to_categorical(y_train, 10)\n",
    "y_val_oh = keras.utils.to_categorical(y_val, 10)\n",
    "\n",
    "print(y_train_oh.shape)\n",
    "print(y_train_oh[:3], y_train[:3])"
   ]
  },
  {
   "cell_type": "code",
   "execution_count": 64,
   "metadata": {
    "collapsed": true
   },
   "outputs": [],
   "source": [
    "# run this again if you remake your graph\n",
    "s = reset_tf_session()"
   ]
  },
  {
   "cell_type": "code",
   "execution_count": 65,
   "metadata": {},
   "outputs": [
    {
     "name": "stdout",
     "output_type": "stream",
     "text": [
      "<tf.Variable 'W:0' shape=(784, 10) dtype=float64_ref>\n",
      "<tf.Variable 'b:0' shape=(10,) dtype=float64_ref>\n"
     ]
    }
   ],
   "source": [
    "# Model parameters: W and b\n",
    "'''\n",
    "W = ### YOUR CODE HERE ### tf.get_variable(...) with shape[0] = 784\n",
    "b = ### YOUR CODE HERE ### tf.get_variable(...)\n",
    "'''\n",
    "#W = tf.Variable(initial_value=np.random.randn(X_train_flat.shape[1], 10)*0.01, name=\"weights\", dtype=\"float32\")\n",
    "#b = tf.Variable(initial_value=0, name=\"b\", dtype=\"float32\")\n",
    "W = tf.get_variable(\"W\",shape=(784,10),dtype=tf.float64)\n",
    "b = tf.get_variable(\"b\",shape=(10,), dtype=tf.float64)\n",
    "print(W)\n",
    "print(b)"
   ]
  },
  {
   "cell_type": "code",
   "execution_count": 68,
   "metadata": {},
   "outputs": [
    {
     "name": "stdout",
     "output_type": "stream",
     "text": [
      "Tensor(\"input_X_1:0\", shape=(?, 784), dtype=float64)\n",
      "Tensor(\"input_y_1:0\", shape=(?, 10), dtype=float64)\n"
     ]
    }
   ],
   "source": [
    "# Placeholders for the input data\n",
    "#input_X = ### YOUR CODE HERE ### tf.placeholder(...) for flat X with shape[0] = None for any batch size\n",
    "#input_y = ### YOUR CODE HERE ### tf.placeholder(...) for one-hot encoded true labels\n",
    "input_X = tf.placeholder(tf.float64, shape=(None, 784),name=\"input_X\")\n",
    "input_y = tf.placeholder(tf.float64, shape=(None, 10),name=\"input_y\")\n",
    "print(input_X)\n",
    "print(input_y)"
   ]
  },
  {
   "cell_type": "code",
   "execution_count": 70,
   "metadata": {},
   "outputs": [
    {
     "name": "stdout",
     "output_type": "stream",
     "text": [
      "(?, 10)\n",
      "(?, 10)\n",
      "(?,)\n",
      "Tensor(\"predictions_1:0\", shape=(?,), dtype=int64)\n",
      "Tensor(\"loss:0\", shape=(), dtype=float64)\n",
      "name: \"Adam\"\n",
      "op: \"NoOp\"\n",
      "input: \"^Adam/update_W/ApplyAdam\"\n",
      "input: \"^Adam/update_b/ApplyAdam\"\n",
      "input: \"^Adam/Assign\"\n",
      "input: \"^Adam/Assign_1\"\n",
      "\n"
     ]
    }
   ],
   "source": [
    "# Compute predictions\n",
    "\n",
    "logits = tf.matmul(input_X, W) + b ### YOUR CODE HERE ### logits for input_X, resulting shape should be [input_X.shape[0], 10]\n",
    "print(logits.shape)\n",
    "#probas = tf.reduce_mean(tf.nn.softmax_cross_entropy_with_logits(labels=input_y, logits=logits),name='loss')### YOUR CODE HERE ### apply tf.nn.softmax to logits\n",
    "#probas = tf.nn.softmax_cross_entropy_with_logits(labels=input_y, logits=logits)\n",
    "probas = tf.nn.softmax(logits=logits)\n",
    "#probas = tf.nn.softmax(labels=input_y, logits=logits)\n",
    "print(probas.shape)\n",
    "#classes = tf.argmax(logits, axis=1, name='predictions')### YOUR CODE HERE ### apply tf.argmax to find a class index with highest probability\n",
    "#classes = tf.equal(tf.argmax(probas, 1), tf.argmax(input_y, 1), name='correct_pred'))\n",
    "classes = tf.argmax(probas, 1)\n",
    "#classes = input_y[tf.argmax(probas, 1)] \n",
    "#tf.equal(y_pred_cls, tf.argmax(probas, axis=1, name='predictions'))\n",
    "print(classes.shape)\n",
    "\n",
    "correct_prediction= tf.equal(tf.argmax(logits, 1), tf.argmax(input_y, 1), name='correct_pred')\n",
    "\n",
    "predicted_y =tf.argmax(logits,1, name='predictions')\n",
    "accuracy = tf.reduce_mean(tf.cast(correct_prediction, tf.float32), name='accuracy')\n",
    "\n",
    "#tf.equal(tf.argmax(logits, 1), tf.argmax(y, 1), name='correct_pred')\n",
    "print(predicted_y)\n",
    "# Loss should be a scalar number: average loss over all the objects with tf.reduce_mean().\n",
    "# Use tf.nn.softmax_cross_entropy_with_logits on top of one-hot encoded input_y and logits.\n",
    "# It is identical to calculating cross-entropy on top of probas, but is more numerically friendly (read the docs).\n",
    "#loss = ### YOUR CODE HERE ### cross-entropy loss\n",
    "#loss = tf.reduce_mean(tf.nn.softmax_cross_entropy_with_logits(labels=input_y, logits=logits), name='loss')\n",
    "loss = tf.reduce_mean(tf.nn.softmax_cross_entropy_with_logits(labels=input_y, logits=logits),name='loss')\n",
    "#loss = -tf.reduce_mean(tf.log(predicted_y)*input_y + tf.log(1-predicted_y)*(1-input_y))\n",
    "print(loss)\n",
    "\n",
    "\n",
    "# Use a default tf.train.AdamOptimizer to get an SGD step\n",
    "step = tf.train.AdamOptimizer(0.01).minimize(loss)\n",
    "print(step)### YOUR CODE HERE ### optimizer step that minimizes the loss\n"
   ]
  },
  {
   "cell_type": "code",
   "execution_count": 71,
   "metadata": {},
   "outputs": [
    {
     "name": "stdout",
     "output_type": "stream",
     "text": [
      "(?, 10)\n",
      "(50000, 10)\n"
     ]
    }
   ],
   "source": [
    "print(input_y.shape)\n",
    "print(y_train_oh.shape)"
   ]
  },
  {
   "cell_type": "code",
   "execution_count": 72,
   "metadata": {
    "scrolled": false
   },
   "outputs": [
    {
     "data": {
      "text/html": [
       "<img src=\"data:image/jpeg;base64,/9j/4AAQSkZJRgABAQAAAQABAAD/2wBDAAIBAQEBAQIBAQECAgICAgQDAgICAgUEBAMEBgUGBgYFBgYGBwkIBgcJBwYGCAsICQoKCgoKBggLDAsKDAkKCgr/2wBDAQICAgICAgUDAwUKBwYHCgoKCgoKCgoKCgoKCgoKCgoKCgoKCgoKCgoKCgoKCgoKCgoKCgoKCgoKCgoKCgoKCgr/wAARCAEgA2ADASIAAhEBAxEB/8QAHwAAAQUBAQEBAQEAAAAAAAAAAAECAwQFBgcICQoL/8QAtRAAAgEDAwIEAwUFBAQAAAF9AQIDAAQRBRIhMUEGE1FhByJxFDKBkaEII0KxwRVS0fAkM2JyggkKFhcYGRolJicoKSo0NTY3ODk6Q0RFRkdISUpTVFVWV1hZWmNkZWZnaGlqc3R1dnd4eXqDhIWGh4iJipKTlJWWl5iZmqKjpKWmp6ipqrKztLW2t7i5usLDxMXGx8jJytLT1NXW19jZ2uHi4%2BTl5ufo6erx8vP09fb3%2BPn6/8QAHwEAAwEBAQEBAQEBAQAAAAAAAAECAwQFBgcICQoL/8QAtREAAgECBAQDBAcFBAQAAQJ3AAECAxEEBSExBhJBUQdhcRMiMoEIFEKRobHBCSMzUvAVYnLRChYkNOEl8RcYGRomJygpKjU2Nzg5OkNERUZHSElKU1RVVldYWVpjZGVmZ2hpanN0dXZ3eHl6goOEhYaHiImKkpOUlZaXmJmaoqOkpaanqKmqsrO0tba3uLm6wsPExcbHyMnK0tPU1dbX2Nna4uPk5ebn6Onq8vP09fb3%2BPn6/9oADAMBAAIRAxEAPwD9/KKKKACiiigAooooAKKKKACiiigAooooAKKKKACiiigAooooAKKKKACiiigAooooAKKKKACiiigAooooAKKKKACiiigAooooAKKKKACiiigAooooAKKKKACiiigAooooAKKKKACiiigAooooAKKKKACiiigAooooAKKKKACiiigAooooAKKKKACiiigAooooAKKKKACiiigAooooAKKKKACiiigAooooAKKKKACiiigAooooAKKKKACiiigAooooAKKKKACiiigAooooAKKKKACiiigAooooAKKKKACiiigAooooAKKKKACiiigAooooAKKKKACiiigAooooAKKKKACiiigAooooAKKKKACvPfjt%2B1J8FP2b5NGsfil4g1Maj4ilnTQNB8OeF9R1zVNR8lVed4bHTbee5kjiVkMkixlI96biu5c%2BhV4N%2B0P8D/j5/wANJ%2BDv2tv2bLLwfrWueH/B2seFNX8KeOdcutLtLywv7mwuxcQXtraXj288U2noCpt3WVJSCUKK1ABpf/BTL9izWLvxPb2nxXv0h8FWsk/jLUrvwXrEFjoIS0iu9l5dy2iwWsrQzRskMjrJIWKorMrKL2n/APBQ/wDZK1HwBrXxFTx/q9vB4f1ay0vVdE1DwNrNrrkV5ebfscC6PNaLqEr3AYGER27eaAxTcFYjy2b9gH4y%2BMf2a/jn8NfGHinwppHin4o/FS38daHc6U1xeWFpeW0OiywQ3IkihkkiN3pRRwoyYHGDuJVaPi79i/8AaV%2BLmr/Ef45fG34S/CjWvFnjWx8KaPp/gKy%2BI2s2Wm6fY6Hcaldw3qa7b6al5DqDXOqTOksVoPJSKNFZiWcgHsviH9vv9mzwv4a8OeI9XvvG3meK0v5NE8P2vwm8SXGuSRWUscV3NJpMWntf28MLzQq8s0CIpmiy37xM%2Bmaz8RPBHhv4e3XxX8T%2BJbbSvDljo76rf6vqrfZYbSySIzPPMZdvlKsYLNvxtAOcYNfGHin9hH9s/WPgX4X8Nay3hfxV470a58RHRfGV/wDHbxNpGr%2BCLW%2BuUktLO11q1sJLzXIYkjhEy3qw/aTbReYCFGPUfjR/wTotfj1%2Bzb4n%2BHHxD%2BOfjW78d%2BMPhfH4Z17xS3jbWho818tpDE2oJoS3y2FuzzQLK3kRRSEPIBIrSM5AOkg/4KUfsZf8K58V/FbWPite6Jo3giysr7xQ/ifwdq%2Bk3NlZXkxhtb37LeWsVxJaSyK6pcxxtC3luQ%2BEYjj/AI3f8FZP2d/hn8ENU%2BMfgPRfFXiqbQfiD4X8L674Y/4QXXbHU7A6zqVrax3T2cmnNdeV5Fw88DeT5d48aW8MhknjB8r1T/gmJ8ZPHfwq8faR4i8DeG9G8Y%2BI9D0fR7DxDqv7RfjPxut3aWusW%2BoTRyf27AfsEZ8likUSzHe%2BGkxknv8A9qH9gz40/GD4g/F/4g%2BBfEPheOTxfB8LbzwlZ6tfXMSvf%2BE/EdzrUsN40dvJ5ENwGt4VljEzrl2MfyKrgHqFh/wUE/Zb1H4m2XwZh8T%2BJo/Fd5oun6xLoF38N9egudO0%2B9adILu/SSyU6dDut5VeS68pYiFEhQum6j4a/wCCmH7FPi3wZ4s%2BIWkfGC4TR/Bfgi68Zaxe6h4S1W0Fx4et0Z5tWsVntUbVLNVQ4nsxPGxZArEugbB0P9kP4ofEP4mfG74g/G9fD2gxfGj4O%2BHfCF1Y%2BE9duNRl0u4tE11Ltlnns7XzYwNViMT7FZikm6OPA3fN37Y37Kn7UOj/ALDHxS%2BJv7TF34AtIfhD%2BxT8QfBHhePwFqF5cNrzXukWxn1G6W5toBYqE0i3CWcbXAVppCZ22oKAPrPw9/wUl/Yy8TaHrHiPT/i1dQWehppU1/JqnhLVbJmtNSu1s7HUIUuLVGubCWdgovoQ9qoDO0qorMPT9E%2BLvw88R/FLX/gvofiH7T4k8LaXp%2Boa/YR2k22zgvmuBa7pinlF3%2ByzHy1cyKoRmVVkjLfJOofsz%2BIPFegeKfjb/wAFIvF/wz8J%2BBbf9nu5%2BHUlx4f8QTLay6beyQyXmq3k17BbpYOTBbCG2QzCAmT/AEiQsuOw/wCCPngP4u2f7I9r8f8A9pDUDf8AxJ%2BL15H4n8V6g9nJbtJCLSCy01fKl%2BeH/iX2lpI0TYKSzTZAYtkA%2BqqKKKACiiigAooooAKKKKACiiigAooooAKKKKACiiigAooooAKKKKACiiigAooooAKKKKACiiigAooooAKKKKACiiigAooooAK8R0j/AIKMfse6ld69Z6n8Urzw83hzw5c%2BINQk8a%2BEdV0GObSbd0jnv7WTUrWBb63R5IlaW2MqAyxjOXXPtN7FczWcsNndCCZ4mWKYx7/LYjhtp64POO9fmJq//BHL9uX4v6t4X1z43fHHQ31vw14P1Cz1DxRqHxW8TeJx4h1v7ZpV9a6idLvoobLSbaS50xfPsLIBRHJtWWQKgUA%2B2X/b/wD2YbX4aN8WNY8QeKtK0ttcg0axs9c%2BGWv2GqanfzIZIYLLTbixS9v2kQM6/Z4ZAyo7AkIxHReA/wBqz4H/ABH1%2By8J%2BHPEOqQ6vf8AhSfxJDpGteFdS0y7TTYbv7JLLLDeW8UkDrP8hhkVZe%2BzbzXk3xO%2BDn7bvxib4e/G3XPBvwq0P4h/Cjx1NrHh/wAM2vjjUr/Rdcs7jSbvTLmO4vn0qGaxmKXskkbpa3AjMQU%2BYJGxV%2BJPwG/bg1/4y%2BHf2mvA%2BjfCu08WX3ww1XwX4x0LUvFepSWGkLcX8N1a39lcJpwk1AxCN1kt5YrQSlxiWLHIB3Gk/wDBRv8AZA8R694F8LeFfiNqus6n8SfBuleLfBunaJ4H1m9nvND1F9lrqMiQWjNa2%2B7HmSTiNbcMpm8oMCdj4a/tufs3fFf4jXPwn8M%2BL9Ws9ft9LudThsvE/gzVtEW/sbeRI57uyl1G1gjv4I3liDy2zSIvmISQGUnyj9hT9hL4sfsw6/8ADjWfHniDw1dnwd%2Byl4R%2BGN%2B%2BkXM8rNq2lvM1zNF5kEe61bemxmKu235o0wK8a%2BGn/BKv9sbxP8UfC/ib9qb4w2eqRaf4A8V%2BF/GniaD4v%2BJNavPEUur2KW39p2umX0Men6EcqWNpaKUXKgTOI1WgD6l8J/8ABRf9kfxrosfirQfHeuf2Hcarpen6f4lvfh/rdrpWoy6lex2VlJaX09mlteQS3M0UYuIJHhBlQs4VgT6X4W%2BLvw88a/EDxT8LvC/iH7XrnguSzj8T2iWkwWxkuoPtEEZlZBG7tCVkKIzMiyRlgokTd8w%2BOPAnxF8K/wDBPbxp8CP%2BChnif4VeCPAWg/DSLQLb4meHfFt2GadI0trXUntLqzgTTZlmFvJDBHcXTGcoiOTtDdr/AMEr/h98WPDf7ImlfFX9oqwS3%2BJ3xYvpfHXxEhW3aL7Pf36xmG02N8yfZbGOys9pyQLXBoA%2BjaKKKACiiigAooooAKKKKACiiigAooooAKKKKACiiigAooooAKKKKACiiigAooooAKKKKACiiigAooooAKKKKACiiigAooooA8Z%2BFv7bvw4%2BK/xg/wCFTaT4H8U6fBe3Wt2vhfxbqlrarpXiOfSLoWmpRWbR3DzhoZtwHnwwiZYpJITLGhernw9/a0sPiN8SvGXgvT/gp4xsNB8C6zd6VrvxB1S40ePRxdW0EU8qoq6g16V2TL87WqrkNkgDJ8q%2BE37IP7SHw2%2BJvhlrxfBF94R%2BGWu%2BKtT8DSR%2BIryLUNWbW795FS9jNi0doLO0uruLMb3H2qQROfsw3CpPF/7DXiP4kftRN8S/%2BFO/DT4faNLPra%2BKvGPgnWJ5PEXjuyvdLubCOz1KL%2BzreNER54bvc9xdlZbCAIFDMQAemfsz/tl%2BB/2nNRuNI0b4d%2BLvC11/wjeneJNHt/F9lawPrGh3xmW11G3FvcTFY3MDhopvKuIsp5sMfmJurfHrx/8AtF/8NF%2BBfgR8BfGfgrw%2Bmv8AgrxLr2r6n4v8F3etEnTrvQ7eGGGO31Kx8sN/akrMzM%2BfLQALyTzX7HX7NH7QHw38cWvj39oq%2B8Im88N/C3R/Afh9PB%2Bo3Nwl/BZyyyT6ncC4t4fs0k5NvttE85YfKf8AfzeYNlfW/BXhnwH/AMFVfh9rWmah4gmu/F3wY8fzXseq%2BL9SvrWKSDVvB%2B1bW1ubiSCyUiRyy26Rhtq7gdowm0ty4QlUdo9m/u1Z1/8Awg//AAUL/wCjoPgz/wCGH1b/AOaij/hB/wDgoX/0dB8Gf/DD6t/81FezUUyDxn/hB/8AgoX/ANHQfBn/AMMPq3/zUUf8IP8A8FC/%2BjoPgz/4YfVv/mor2aigDxn/AIQf/goX/wBHQfBn/wAMPq3/AM1FH/CD/wDBQv8A6Og%2BDP8A4YfVv/mor2aigDxn/hB/%2BChf/R0HwZ/8MPq3/wA1FH/CD/8ABQv/AKOg%2BDP/AIYfVv8A5qK9mooA8Z/4Qf8A4KF/9HQfBn/ww%2Brf/NRR/wAIP/wUL/6Og%2BDP/hh9W/8Amor2aigDxn/hB/8AgoX/ANHQfBn/AMMPq3/zUUf8IP8A8FC/%2BjoPgz/4YfVv/mor2aigDxn/AIQf/goX/wBHQfBn/wAMPq3/AM1FH/CD/wDBQv8A6Og%2BDP8A4YfVv/mor2aigDxn/hB/%2BChf/R0HwZ/8MPq3/wA1FH/CD/8ABQv/AKOg%2BDP/AIYfVv8A5qK1/GfxX/Zo%2BFFtDqX7QfxM8DeG7jV9T1BdPm8Z61Z2bXiwXBRhEbl13iNWiBC527lzjcM4H/DX/wDwTg/6Oi%2BCP/hbaP8A/Ha554vCUpcs6kU%2BzlFP7nJP8D2MLw7xDjqCr4bBVqkHtKFGtOLs7O0o0pRdno7Sdno9dCx/wg//AAUL/wCjoPgz/wCGH1b/AOaij/hB/wDgoX/0dB8Gf/DD6t/81FV/%2BGv/APgnB/0dF8Ef/C20f/47XofgaX4H/FDwta%2BOfhpJ4U8RaJfb/sWsaE1td2txsdo32Sxbkfa6MhwThlIPINOlicNWly06kZPylF/k2Z43I88yykquMwlWlFuyc6VWCb3tedOCvZPS99HpocJ/wg//AAUL/wCjoPgz/wCGH1b/AOaij/hB/wDgoX/0dB8Gf/DD6t/81FcUP2%2Bf2PdG8S/Ejw/8RPAus%2BHY/hx8QbTwhdajdfDHVJrbU7%2B6i0826WssNkyTSSzahFCkMZeRwFlVTFLG7d7pHx7/AGYtX%2BIeh/C2Xwpqul6x4kt4pNDTxF8LNW0u2vJHsjfC1W6vLKKD7WLZZJHtDIJ4/JmV41aKRV3PLK//AAg//BQv/o6D4M/%2BGH1b/wCaij/hB/8AgoX/ANHQfBn/AMMPq3/zUVx3hX9vr9hrVdM8Jrr%2Bp6ZDqXijwl4d8QEaP4L1W906ys9bkeHTp5r46dElrBNPFLGkt2tscqN6Rlgtexa5rfwK0DwZ4i8fXEHh640zwpDdyeIJ7G3gnNkbWMyTxuEB2yIoyUOGGRxzQBx3/CD/APBQv/o6D4M/%2BGH1b/5qKP8AhB/%2BChf/AEdB8Gf/AAw%2Brf8AzUVgfsrfHpvjn4ouvAvxZ/Zj0PwPrUngrR/F%2BiWdpq8eqrc6RqLXKRrM/wBkg8i8he2ZZ4FEsa%2BbEY55QW2yyfFvxd4d/aR034C/EL9l7wXZW/i2z1248B6ppPiwXtzdJpphO/ULVtOiFjHKk8ZDxS3QRnRHwzrkA2v%2BEH/4KF/9HQfBn/ww%2Brf/ADUUf8IP/wAFC/8Ao6D4M/8Ahh9W/wDmorxGf/got4S0X4f/ABJ8R6/8C/hheXfw413QNK1TWvCfxFTUvCdrNqd41q63%2BstpkJsGsdnnXqm2kNvDNbud3m4XY079te61/wDZ58BftH%2BFv2U/Bmp6D4l%2BKun%2BDfEN9ZeNEktIIrzxPbeH7fVdJnXTj/a9rJLcrcRsy2geFSQwLLkA9W/4Qf8A4KF/9HQfBn/ww%2Brf/NRR/wAIP/wUL/6Og%2BDP/hh9W/8AmorB%2BNv7S/w9%2BFP7T3w2/Zn0D4Hafr9z401oWfiTV0eKCLwzFNZX9zZu6%2BS5uJbhtOulSIFNqQSSM4xGktv4WfFTxJ48%2BKPxc%2BEev/sweFNL1b4eCzm8OC08RrdJr9vdx3L2rTs1jH9hdvs4DIPtAQSA72IIoA0/%2BEH/AOChf/R0HwZ/8MPq3/zUUf8ACD/8FC/%2BjoPgz/4YfVv/AJqK47wT%2B0ZqXi/9kC%2B/aQ1f4EfCrwrrGheLvEWheJ9N8YfEX7DoOm/2Prt/o9xcHWDpTMY2exMib7VOJQrFcbj5/H/wUY8La3dfBnTdA%2BB3wo0ef4u%2BGtZ1WzuPiL8TU0O0c2Go2NisWmzLpdwdU%2B1fbRcWzBIfNt1WTaPMwoB7j/wg/wDwUL/6Og%2BDP/hh9W/%2Baij/AIQf/goX/wBHQfBn/wAMPq3/AM1Fcbr37VWiaP8AHy88CRfs3aHN4D0j4j6b4B1rxsdVRbuDX76wt7uAR6f9kKy2m69s7Zp/tKus0zAQskbSVq/CX4t%2BPfidP8XPCFz%2Byf4N0/xb8NvFEOk6VpCeLhNaawk%2BnWd/BNNdf2chsyY7tQ6LFcbCh2tJkCgDd/4Qf/goX/0dB8Gf/DD6t/8ANRR/wg//AAUL/wCjoPgz/wCGH1b/AOaiuH0/9rbQbD4TfEDXvHP7OGgQeOPAvjoeDIPCPh3WE1C01/W5bGyvbWCyvpLSBmjKX8Qmke3Q2xgu2dSkDOcTxf8At7/Dzw78BvgX8WtI/Zs07VNY%2BMsXhG9vPDUN/Ei%2BGtL1q80yykvpbg2x85YLjVbWJEEaNcO3HlqsrxgHqf8Awg//AAUL/wCjoPgz/wCGH1b/AOaij/hB/wDgoX/0dB8Gf/DD6t/81FVdA%2BJuo3n7XHiP9mjxF%2Bzh4ZstOsPBUXiLwz4jtdbS4n1WM3H2d45rQ2aLaESA7SJ5twGSE6Vg%2BBPjB8WPE/jrxn8C9e/ZK%2BHGnfEPw34V0jxDp2nWvj%2BS60i6tL%2B6vLdI7m%2BGjrNZ3CmxuG2C1mRxs2yH5zGAdR/wg/8AwUL/AOjoPgz/AOGH1b/5qKoeB/HH7Vng79qzw58Efjd8R/h74m0bxN8PfEOuQzeFfh5faLdWl1pt9oluis9xq98ksbpqkpKhEYNEhDYyDW/Zj%2BLOq/tC/A3xZ8TfFfwN8M%2BD73Q/FWvaJpU3hnX21S3vv7LnktJL2G5ksbOQKbuC5RQYuVhDhmDjGx44/wCUhfwv/wCyM%2BPP/Tt4QoA9mooooAKKKKACiiigAr5x%2BE3ir9u/466Pr3jvwv8AG/4SaBpdv8QvFWh6XpV/8H9Uv7iK10vXr/TIWluE8RQLLI8dmrsyxRrucgKABX0dXjP7B/8AyRDXP%2ByzfEf/ANTXW6AD/hB/%2BChf/R0HwZ/8MPq3/wA1FH/CD/8ABQv/AKOg%2BDP/AIYfVv8A5qK9mooA8Z/4Qf8A4KF/9HQfBn/ww%2Brf/NRR/wAIP/wUL/6Og%2BDP/hh9W/8Amor2aigDxn/hB/8AgoX/ANHQfBn/AMMPq3/zUUf8IP8A8FC/%2BjoPgz/4YfVv/mor2aigDxn/AIQf/goX/wBHQfBn/wAMPq3/AM1FH/CD/wDBQv8A6Og%2BDP8A4YfVv/mor2aigDxn/hB/%2BChf/R0HwZ/8MPq3/wA1FH/CD/8ABQv/AKOg%2BDP/AIYfVv8A5qK9mooA8Z/4Qf8A4KF/9HQfBn/ww%2Brf/NRR/wAIP/wUL/6Og%2BDP/hh9W/8Amor2aigDxn/hB/8AgoX/ANHQfBn/AMMPq3/zUUf8IP8A8FC/%2BjoPgz/4YfVv/mor2aigDxn/AIQf/goX/wBHQfBn/wAMPq3/AM1FH/CD/wDBQv8A6Og%2BDP8A4YfVv/mor2aigDxn/hB/%2BChf/R0HwZ/8MPq3/wA1FH/CD/8ABQv/AKOg%2BDP/AIYfVv8A5qK9mooA8Z/4Qf8A4KF/9HQfBn/ww%2Brf/NRR/wAIP/wUL/6Og%2BDP/hh9W/8Amor2aigDxn/hB/8AgoX/ANHQfBn/AMMPq3/zUUf8IP8A8FC/%2BjoPgz/4YfVv/mor2aigDxn/AIQf/goX/wBHQfBn/wAMPq3/AM1FH/CD/wDBQv8A6Og%2BDP8A4YfVv/mor2aigDxn/hB/%2BChf/R0HwZ/8MPq3/wA1FH/CD/8ABQv/AKOg%2BDP/AIYfVv8A5qK9mqG/1Cw0q0fUNUvobaCIZknuJQiIPUk8ChtIaTk7JXZ4/wD8IP8A8FC/%2BjoPgz/4YfVv/moo/wCEH/4KF/8AR0HwZ/8ADD6t/wDNRWj4x/bo/Yu%2BH8z2vjL9q/4d2E8f37WbxjZmYf8AbMSF/wBK858Rf8Fk/wDgmd4Xdk1L9q3SJSvX%2BzdKv7zP0MFu4NcNXNMsofxK8F6zj/8AJH1WA4E44zRJ4PKsTUT25cPWafo/ZJfidr/wg/8AwUL/AOjoPgz/AOGH1b/5qKP%2BEH/4KF/9HQfBn/ww%2Brf/ADUV5iP%2BC1f7DV983hfVPG%2BuIfuS6T8PNTdW%2Bm%2BFaD/wWB%2BDV/8AJ4P/AGYPj74hkP3YtF%2BFVw7N9N7pXP8A27k/SvF%2Bl3%2BUWer/AMQp8SF8eVVof41GH3%2B0q07fOx6d/wAIP/wUL/6Og%2BDP/hh9W/8Amoo/4Qf/AIKF/wDR0HwZ/wDDD6t/81FeY/8ADyn46eJvk%2BGP/BLT46Xbt9weKtMttEU/UyyPigftd/8ABUucfa7T/gkZH5DcxxT/AB30dJcf7QMWAfbtR/bWAfw88vSnUf8A7Yg/4hlxXD%2BP9XpPtUxmDg/ueJkenf8ACD/8FC/%2BjoPgz/4YfVv/AJqKP%2BEH/wCChf8A0dB8Gf8Aww%2Brf/NRXmP/AA1j/wAFVdR/c2P/AASZstPbvNqHx20mVM/SOLJo/wCGkv8AgrbpP%2Bk6h/wTV8K6sh5Ftpfxjs4JFHoWmjKk0f2zhekKn/gqp/8AI/oH/ENs9WksTgk%2B31/B3f3VWvvkj07/AIQf/goX/wBHQfBn/wAMPq3/AM1FH/CD/wDBQv8A6Og%2BDP8A4YfVv/morzL/AIbn/b508bfEX/BJDxZEw%2B%2BNN%2BJOl3gH0KqM0h/bq/bz1z9z4G/4JJ%2BMJ5uh/t/4h6ZpiA/70gbI96P7awPaf/gupf8A9ID/AIhlxTvzYa3f67guX7/rP6Hp3/CD/wDBQv8A6Og%2BDP8A4YfVv/moq3%2Byt8RvjT4w1j4oeBPjpr/hfVtU8A/EKLQ7PVfCfhq50m3urWXQdH1NWe3uL28ZZFk1GVCwl2lY0O1TnPk//C//APgrzqg32P8AwT68CaWG6JqXxXhnKexMKYP4V0H/AATs1b4y67rnx51X9oLwlo%2BheL5fjNB/a%2BlaBftdWkGPCPhsRbJWALZhEbH0ZmHaujDY%2BlipuMYTWl7yhKK%2B99fI8fO%2BE8bkOFVeviMPO75eWliaVaa0bu4027R0s5XtdpdT6ToooruPlwooooAKKKKACiiigAooooAKKKKACiiigAooooAKKKKACiiigAooooAK%2BYfj9q/9m/8ABWP9myz3Y/tD4W/Ey3x64m8LS/8AtKvp6vjn9r7V/wCzP%2BCxn7GtsWwt94W%2BKFuT/wBuOjSAfnGK5sXP2dHm84/jKK/U9vh7D/Wsy9n/ANO6z/8AAaFWX/tp9jUUUV0niBRRRQAUUUUAFFFFABRRRQAUUUUAFFFFAHn3iH4B/Ar446Tbf8Lq%2BC3hLxh/Zeq6n/Zn/CU%2BHLXUPsnmXb%2BZ5Xnxt5e7y4923G7Yuc4FY/8AwwP%2Bwr/0ZZ8Jf/Dc6Z/8YrK%2BOf7c/wCyz%2BxdpOkf8NL/ABR/4Rr/AISXVdY/sX/iSX159p%2Bz3f77/j1gl2bfPi%2B9jO7jODjzn/h%2Bb/wSy/6Oi/8ALJ1z/wCQq8fFYrIKddxxM6Sn15uTm20vdX2/A0jx7XyVfU45tKgofYWJqU1G%2BvwRrQSve%2BkVe99b3PW/%2BGB/2Ff%2BjLPhL/4bnTP/AIxXofgbwD4E%2BF/ha18DfDTwVpPh3RLHf9i0fQtNitLW33u0j7IolVE3O7OcAZZiTyTXzD/w/N/4JZf9HRf%2BWTrn/wAhV9D/AAM%2BOfws/aU%2BFml/Gv4KeKf7a8M615/9man9hntvO8meSCT93OiSLiWKRfmUZ25GQQTpgsTktaq44OVNyt9jkvb/ALdSdtvIUuM63ES%2BrTzKWJS97ldedVK2nNyyqzSte17X1tfXXyDxN%2Bwv4r1/4l%2BKfEEHxn02Dwz4l%2BMHhv4inRJPCEkl7balpcekxPALz7aI3gmj0mPA%2Bzh4nmZt8iqErm/EP/BMeXxD%2B23p37X138UvDsjaX8RU8V2ou/h2k/iBVGivpZ0gay13mPTh5jXCW8dum2Qncz5Jr1Q/tnfDAeOh8MhoGvnxAfii/gU6SLWDzRfLpB1k3R/fYFodPxcCTO7DquzedleQR/8ABWD4d/E/wlrH/CitMtk8TeGPiR8PdD8RaRrOtaTqscWn%2BI/FVpozTrLompXUKzCNr7bG8qyRSwxtLCUdRJ6hBJ4K/wCCWQ8H/AnUvgqPjp9oOofBzwJ4D/tT/hGNnl/8I3Ney/bfL%2B0nP2j7Zjytw8ry875N2B9L674Il8d%2BDPEXgH4lXVnqOma/Bd2LwWNk9sV0%2BeMxmFy0sm%2BTazAyLsByMIuOfl34xf8ABUyLwJ%2Bz1438bfDb4W%2BI/Gnivwx4Z8a61OmneHbeGy0S10XVNR02G61CKTUhJJA9xYSKBaySXE6QTSrBBzHH9S%2BAfGkPjLSEme1uoruG1tWvjJplxBA0ktvHN%2B4klUJOgEgBaNnCsGRiHVgADx79nX9kT4t/BXWLnxt4x/aA0rxZ4kj8KaB4S0XUpPBD2cNtoWm3E0rCaFb5zNf3C3EokuVeKIOkDLbBY3jlj%2BG37Kv7Rfgv9pDx/wDtA%2BJv2ifB3iCbxetxaaH9q%2BGN0moeHNLXcdP02C5/thoTbwyHzptttG93KzuzJ%2B7EXP8A7Iv7Y3xs%2BMvj7wIfifpvhZfDfxl%2BGmq%2BOfh9BoOm3MF5otjZ3mmxraX8stzKl5LLb6vaS%2BbFHbqjwzIUYFGPVfEv4zftBfC79qzwB8PbnxB4I1rwz8RPEV3YWPhKw8OXkWvabYW2mTXM%2BrSXpvXhlhjuI4IXT7JEo%2B3QKJjIUSQA5bxN%2BwT8Y/iDrPiH4q%2BP/wBpPQX8f6pf%2BE7jTL3Q/h1LaaDbjw/fXd5arc6bLqc0t4ZJL2cSObuNgI7by/KaHc1bxl%2BwF8ctR/Z8tfhB4E/aV8JaXrF38YLX4i%2BKtb1T4X3F3Z3epW3iK116GCzsodXtzZW/2m0jR1ea4d0eQ7xI5kryTwF/wVU/aV17wr4w8Q6n4F8N3Nzp/gGTxBa2A8Gatp0egyDWIdPc/aJriRPE9hbxSyXM2oaYI4FW1C5U3UW3YH/BVzW5/Ckvgnw34/8ABHifxPJ8Zl8C6X8Q/CHgjVdW0PUIT4cXxA1/a6TY3U93fMsXmWXkW90%2B6ZDL5ixh1QA9c%2BJ//BNT4WfFD41%2BEv2irvxp4n0nxbpXj7T/ABZ4tfQvGmv2uma/eWujyaYuzTk1MW1mSht8uqSM0UDQuZFmkLb3w3/Zy/aO8DftLfE/476n8fPBN/pvj3T7e30rQYPhleQT6S1mJksHlujrLrdhY5mEyrDB5zAMhtxlT5f4p/bn%2BKmleNvh1dW3xi8F23w213wTa6prvxRHwT8QX%2Bk3moPqH2Zrb7RDqKw6ACoP/H/JIY3O1iShU998Qfi9%2B094J/ba8A/Bqy%2BIPw81Dwf4qt9b1vXdKfwLewanougafaxo1wdQOrNA8jX95p8QzaIpjkmIGY8kAZ8Af2Zf2wPgJ8F9W%2BHWl/tP/Dm/1q/%2BIOueJrbWZfg5fJaRLq%2BrX%2Bq3trJa/wBvl5MXN%2BwikWePZHEquspJesbxH%2BwJ8VdR/ZVuf2QNC/aE8NweGfE%2Bm6/a%2BP73U/hq13e3R1m%2Buby8OmY1GODTURryZIIpYbtYVSAfP5ZD8VP/AMFCv2nPGej/ABy8S/CX4XaRc2Phrwj4V8Q/B2CPwvqOqX%2Bqafql/qdm15d2lrOst0sqad9sgggEUnkTxhyXLBbvxM/b3%2BKPhT4M%2BB9e8E/Erw54h1PxB421LQ/EviPTPgT4juZ9GktbG5uvsjeE4b5tX%2B05iRZCZB5KN5zxhGBAB6Bf/sIavcfG%2BbxXafGWOPwBqHxC0vx1q/gqbw60t9ca7p%2Bn21nbsmpG6AjtS1lZXLwm3eRp4WImVJGSq3h/9lD9sHw14h%2BOPinQ/wBrvwVp2o/FmQXWgajpvwguBP4Xvo7C00%2B2uP3%2BtSx3ojtrVWMbJEHmbflUHknxjxB/wVJ/aHtrj4a6jb%2BEfCFhB4m%2BHvgTxBqtjBod/rVneXOu6jJaXcB1uzuVstBht1RXhuL5ZEu2dkhLtE4Ps/hj9sX4m/Eb9u5fgD4D0DQf%2BFeXPgDxbPpfiS7gna7v/EGhaloVndGMrKIzYRyaxJbN8nmNcWU%2BGVFUyAEXgb/gm/4Sm%2BBPh74NfHTxTHqlz4O1S8vvC3iD4b3viHwhcw3F1A8VzdXUtvrc1ze3c7T3TzTyT/vTcvuTJZm4u9/4ItfAm/8A2dfAPweb4oePIPEXgzQ/Bej3vjKw%2BIniS2Gr2fh/VYdRWN7OHVVjTe/2tYGLO1ibpWgI%2BzxKNCX9rb9sGy/Yt8XfEoaR4Y1r4ieFvjRF4OuLjwr8NtY1KxGmr4otNMu9QXR7a9kvrhoLCa4uTHHcZLQbsBcrVH9pv/gor46%2BEf7BWpfGT4F%2BJfB3xG%2BJNt4O8T6/DK3hTUNI0q3ttBjnm1KW806a7e8tPIaOOxaB5xKLy4iVhGpcRgHrMn7OP7QEf7asv7Tlh8dvB6eGD4N/4RuHwhP8OruS/W3DGdZG1L%2B1wjyfajvJ%2ByAGIeVgOfPrM/ZT/ZS/aK/Z%2B8G%2BNLHx7%2B0d4R8W%2BK/GEk%2BoXXjq0%2BGdzYX9xq8iFEu7tZdXuY7iGFBDFDaxC3SKKBY1IHIt/tB/Gb9oL4MfG3wNbaT4g8D6p4a8beN9P8Paf4GHhy8Gv3EUkbPe38d8L3yQlrGsty8ZtCPJgYGVXdcecfsyf8FEfF/xT/aj074FfELWvBhufEn/AAlKp4L0LTLqLW/BM2kXyRQwavJJcyJK11bM8yMILX/VfuxcRt5qgHu/wt%2BCmgfs4fso6R8BfDF9Ld2fhHwSulpf3AxNevFbbXuZeTmWVw0rkkku7Ekk5rB8cf8AKQv4X/8AZGfHn/p28IV6l45/5EnWP%2BwVcf8Aotq8t8cf8pC/hf8A9kZ8ef8Ap28IUAezUUUUAFFFFABRRRQAV4z%2Bwf8A8kQ1z/ss3xH/APU11uvZq8Z/YP8A%2BSIa5/2Wb4j/APqa63QB7NRRRQAUUUUAFFFFABRRRQAUUUUAFFFZPjfx34J%2BGnhi78a/ETxdpuhaPYx77zVNXvo7e3hX1aSQhR%2BJpSlGEXKTskaUqVWvVjSpRcpSaSSTbbeiSSTbbeySbfRGtRXyJe/8FNvGnx41yXwr/wAE6P2ZdZ%2BKcdtO0d/461mY6N4ctyv3ljuJ1DXLgjBRFXqGBYVP/wAJV/wW31759K%2BFP7Oegg87Nc1zWLph7ZtgBmvK/tnCT/gxnUXeEHKPyl7qfybXmfevw0z/AAySzKthsHN68mIxNOlVSe3NSSq1IX6KcYStq4o%2BtKK%2BS/P/AOC6A5Nj%2BykfYSeJKX%2B1/wDguIn7tvCH7MLseBIl/r4Vfcg8kUf2sv8AoHrf%2BC//ALcX/EP5vbN8vf8A3OL9cMj6zor5Kbwn/wAFuPEy/ZdY%2BLH7OvhiOXh7vw7oer3s0I9VW7Oxj7Hio2/4Jr/Hj4pj/jKv/gpN8UfFFvJzdaN4Mjt/DNjOO8ckdsHLp26gnrxR/aOKqaUcLN/4uWC/GUn9yGuDMhwnvZjnuFiu1BV8VN%2BihRpQ/wDAqi%2B657r8XP2uv2XPgLc/2f8AGX9oLwh4bu8ZFhquvQR3JHqIS3mEfRa8b8Qf8Fov%2BCeOm3X9j%2BFPjLe%2BLdWY4t9G8I%2BFdQvZ7g%2BiEQiMn/gYrtPg/wD8Ez/2EfgbBjwN%2BzJ4XlujzJqevWX9qXbt1LedeGR1JPJ2kD2r2bQvDPhvwvaCw8M%2BH7HToB0gsLRIU/JABRy55V3lTh6Kc2vm3BfhYHW8K8C7Ro43FNdZVKGGi/8At2FPEVEvJz5vNM%2BVo/8Agof%2B1h4%2BP2/4Cf8ABKn4m6rpvVbrxzrdj4YlcdmWK48wsD1znpUn/DW3/BU3UP3Onf8ABJKCzLdLjUPjtpDIv1RIt35V9Z0Uf2fjpfFi5/KNNL/0iVvvYnxfwvS0ocPYay29pVxtSXzar0k3/wBuRXkfJTfEn/gtD4rHk%2BH/ANmn4JeE2f7s3ifxje36x/UWagn8KUfBv/gsf4k/0zXP2zPhT4akPWz8OfDyS9hX6PdsHNfWlFH9kqX8SvVl/wBv8v8A6TGP5h/xECVHTCZTgaX/AHKqo/vr1qv5fM%2BSZf2Pf%2BClvjYDSfiV/wAFSZbLSm/4%2BI/BfwxsbC7kHotyXLRfUA1Lpv8AwRj/AGN9WvE1v47XXjv4rasrbjq3xE8eXt1KW9dsLxIR7FTX1jRR/YmWyd6sHU/xylP8JSa/AH4ocbUo8uBxEcInv9VpUcM36yo0o1H/AODEvI8f8G/8E%2Bv2GfAEKReFv2Rvh3C0f3Lifwna3Ew/7ayoz/rXo/h34dfD7weqp4S8CaNpYX7o07S4oAPpsUVs0V30sLhaH8OnGPpFL8kj5XH59nuaNvG4urVv/PVqT/8ASqkl%2BAUUUVueSFFFFABRRRQAUUUUAFeM/sv/APJb/wBo7/ss1j/6hXhevZq8Z/Zf/wCS3/tHf9lmsf8A1CvC9AHs1FFFABRRRQAUUUUAFFFFABRRRQAUUUUAFFFFABRRRQAUUUUAFFFFABRXy78Bv2xvjb8QPjF4Wk8baZ4WXwH8TNa8XaZ4Ks9L025i1XS5NFu5YoZLy4e5eK6W7t7a5mKxwwG3by48z5Mgun9s/wCI/iT9uW0%2BBHgDwvo1x8Ph4W8TJN4gnhme91DxDpEmnC4htisgj%2BywG/8As8hKu7XMc0YMf2dvMAPpWvhb/gohqf8AYv8AwVs/Yh1LdjMnju2z/wBdoNGix/49Xrn/AATl/ae%2BKn7SHwzF98fvFmixePIvD2jaj4j8CWvwo1rwlfeGZby3d2img1e7nlu4jLHNFHdRrHE5tZQpcg7fmL/gqD8bvhR4g/4Krfsc%2BFfBPxQ8Pavrnhnx1q1j4l0bStaguLvSXurzQY40uoY3LwM%2BH2hwpO1sZwa83N5cmXyl2cf/AEumfaeHlD6zxdQo/wA0a6%2B/C4v/ACP0qooor0j4sKKKKACiiigAooooAKKKKACiiigAooooAyvB/wDyCZv%2Bwrff%2BlctatZk3hLRpriS5U3kLSuXkW11KeFWY9W2o4GT3OOaT/hD9J/5%2B9V/8Hl3/wDHaANSisv/AIQ/Sf8An71X/wAHl3/8do/4Q/Sf%2BfvVf/B5d/8Ax2gDy/xL%2Bwz8FfFv7Tup/tU67ca3LrGr%2BApvCt7oiagqaY0Up2yX4jVBIt8YALbzxJxCoQKOSeI8D/8ABLX4TeEY2Gs/G74j%2BJJVt/AlpZS63e6Yv2Kz8Ja3/bOk2sSWlhDGsf2glJiVMkkZPzrJ%2B8r6H/4Q/Sf%2BfvVf/B5d/wDx2j/hD9J/5%2B9V/wDB5d//AB2gD528e/8ABK34OeMvBOteBdG%2BM3xH8L23ijSPEuj%2BLbnw5qenpPrWma3ql7qdxZzNPZShEiuNQuvIkhEUyJKymR9zFvobwn4Vm8Jwy2KeJ9QvrTZBHY2l6lvssY4oEi2RmKJHYMUMjGRnO922lU2or/8AhD9J/wCfvVf/AAeXf/x2j/hD9J/5%2B9V/8Hl3/wDHaAPIPhN%2BwZ4G%2BC%2Bu3Ov%2BCvi743Etp4a1Dw/4DivJ9Omi8Dabe3Md1PbaYpssMhlt7Qj7Z9qKrZwRg7E2m7on7HK6B%2B1drv7Wlj%2B0d8QH1HxDDa2t94YuodEn0yOwt4isdhA8mmG8t7bzGe4ZIrlS80jOxOQB6l/wh%2Bk/8/eq/wDg8u//AI7R/wAIfpP/AD96r/4PLv8A%2BO0AeJfCP/gnp4N%2BCcVovgn49fEQP4c8B3Hg34by3tzpUp8D6LNLayNbaeDYbZsGwsFD3wu322cSkkb910/sGeCV8Lwxw/GDxunjSHx03jH/AIWl5mmPrj6y2nNpbXDI9ibDadNY2Xki0ESwhdqB1Dj2D/hD9J/5%2B9V/8Hl3/wDHaP8AhD9J/wCfvVf/AAeXf/x2gDxTWv8Agnt4L1j4Saf%2Bz5H8dviHZ%2BAE0ySz8T%2BELa50sweKhPdS3N5Lf3Elg92r3Uk0vnfZZ7dWVyFVAa9HT9n7wFN8avEXx01o3Wqan4k8H2Xhi40/U/KlsbbTrea7maOKLywR573jecXZ/MEMIwBGAek/4Q/Sf%2BfvVf8AweXf/wAdo/4Q/Sf%2BfvVf/B5d/wDx2gDxXwT/AME2P2X/AIMePfGHxT/Zh8HWHwk8R%2BMfDOmaHLq3w58KaJZNplvZ3U9zvtY5LCSIPO04WfzUlSRba3%2BVWiDVGv8AwTy8HWUNn4i8P/H74i6Z46t/FOoa/d/E21uNKfV9Qur2zhsrhZoZtPfTzE1tbWkQjS0QILSEptYFm9u/4Q/Sf%2BfvVf8AweXf/wAdo/4Q/Sf%2BfvVf/B5d/wDx2gD5%2BP8AwS3%2BBVlptj4U8LfEPx1ovhkeG9E0LxR4VsNUtJLTxTaaVNJNai%2BkuLWW5Vy0sgle2mt2mVyrlgBjptK/4J0/sdeFv2l9I/a3%2BHvwG8KeFvG%2Bj6LrthDqnhvwnpto1xNqslo9xqEzrbeZJeILV445i/Ed9eKwcTnHrf8Awh%2Bk/wDP3qv/AIPLv/47R/wh%2Bk/8/eq/%2BDy7/wDjtAHjfwh/Yk8S/BfwN4s8G%2BGP22PizcXHizxNJr8mv39l4Xa8069mnkmu2t1j0RICtw0nzrNFKFCL5XlHJOL8Qv8AglF%2Bxp8Yf2eta%2BAfxl%2BHNp4xudcsdejuPiF4o0XTb3xHa3esPLJe6ha3MlqY7S5Msvmp5MSRRtHEFjCxqo9%2B/wCEP0n/AJ%2B9V/8AB5d//HaP%2BEP0n/n71X/weXf/AMdoA8gsP2E/DPhz9pDT/wBorwF8bfGXhuPSfDlh4d0fwHo%2BnaD/AGDpmjWpQnTrOKbS5LiygmKIZhbzxs/lQgMqwQiPqPCn7NFno3xwm%2BPfjP4u%2BLvGGqwWt/aeGLHxGdPSz8NWl5PFNcQWaWdnbs%2B7yLeMS3LTzLHCFEg3y7%2B3/wCEP0n/AJ%2B9V/8AB5d//HaP%2BEP0n/n71X/weXf/AMdoATxz/wAiTrH/AGC7j/0W1eXeOP8AlIX8L/8AsjPjz/07eEK9RPgzQ3ws7X0yZBMVxq1zIjezK0hVh7EEV5d44/5SF/C//sjPjz/07eEKAPZqKKKAPMP20/i94q%2BAf7JnxD%2BMfgaO1Ot%2BH/Cl5daO99EXt4boRkRSyqCC0SOVd1yMqrDIzkeb/D3x/wDtQeFLX4%2BfBDSvHU3xP8ZfD7Q7bUPh7rPiewsLOfULu90qSWCwuxYQ21uQt5A2HWOM%2BTcRqxLIZH%2BhPGng3wr8RfB2rfD7x1oFrquia7ps%2Bn6xpd7EHhvLWaNo5YZFPDI6MykdwTXE/C79kv4JfBvTrvTfAGn%2BIoP7Rnnm1W7v/HesX11qMstvDbGS5uLq6kmuWSC3hiiaV2MCRgReWKAPnT9nP46/tAfFrUvip8Bj8TfjVe3/AIW8AeFfFGl%2BItV%2BHuh%2BH/FD3t/Nq8V3pdta6np8FgYd%2BkqkU1xDtJuJwLhlRJhy/gf9pT9r/wCMvhPw/wDDBfj9qPgfxLpvhT4ka7rmsXHh/R5tVa40LXLXT9O03U4jbyWQdYbtWvjYqiSSIhtZ0ikDt9S6L%2BxX8BPD3gzV/BOjweMYF17UIL3WNeHxQ1865dywqEh36ub46gURBsWPz9gVmULhmBzvEX/BPf8AZJ8U/D7Sfhjq3w1vhpWjPqRt3s/F2q215cjUX8zUUu7yG6W5vo7t8Pcx3MkqXDKrShyoIAOn%2BGPx2tvFf7L3hb9o/wAWeHtStk1zwVpuu32l6Jot3qVzCbm2imaKK2tY5J5mUyY2ojNx061xn/BOnxDYeLf2br7xTpVvfRW2o/Fv4h3NvFqelz2VyiP4z1pgJbe4RJoHAPMciK6nIZQQRXt9lZWem2cOnadaRW9vbxLHBBDGFSNFGFVVHAAAAAHTFePfsH/8kQ1z/ss3xH/9TXW6APZqKKKACiiigAooooAKKK8R/ae/4KD/ALNn7K1/D4P8XeJLrXvGd6Qmk/D/AMIWh1HWr2RhlFW3jP7vd2aQoDg4JPFYYjE4fCUnUrTUYrq3/V32STb6I9TJ8kzfiDHRweW0J1qr1UYRbdlu30jFbuUpRjFayklqe3VwHxz/AGp/2c/2aNIOtfHj4z%2BH/DEZjLxQalqCi4nA/wCeUC5lmPsisa%2Bdk8Jf8FMv24XFx4/8TH9m/wCHdwcrofhu6W78XahCf%2Bet3jy7DIwR5Y8xTlWVutekfA3/AIJg/sV/AfVv%2BEt0b4QW/iLxK8gluPFnjedtX1GWb/nr5lzuWN/eNUrzljcwxf8AutLlj/NUvH5qC99/9vOHofYy4a4Q4f0z7MHVrLehg1Co1/dniZtYeL7qlHENfzNnn0v/AAUU/aI/aRRtN/4J7fsda5rtjONsHxJ%2BJKtomgoD0mijfE96nTKpsb2q74H/AOCYX/CzfFFp8XP%2BCiXxgvfjJ4mtpPOsfDlxGbXwxpDn%2BG3sFwsxA%2BUvKPnABZM819aAADAGAOgoprKlWkpY2bqtdGkoL0gtH6zcvQipx/UyylKhwzhY4CMk06kZSqYqSejUsTNKcE1vGhCgnezk1oVtI0fSfD%2Bl2%2Bh6DpdtY2VpEsVrZ2cCxRQoBgKiKAFAHQAYqzRRXrJJKyPz%2BUpTk5Sd2929W/VsKKKKZIUUUUAFFFFABRRRQAUUUUAFFFFABRRRQAUUUUAFFFFABRRRQAUUUUAFeM/sv/8AJb/2jv8Ass1j/wCoV4Xr2avGf2X/APkt/wC0d/2Wax/9QrwvQB7NRRRQAUUUUAFFFFABRRRQAUUUUAFFFFABRRRQAUUUUAFFFFABRRRQB4Z4O/YM8DeAviXJ8SPC/wAXfG8Atb3V7vwroEk%2BnSaf4Yn1W%2BS91N7JHsjITcSK6/6Q8/kxzypb%2BQrYC3v/AATj/Y6H7Rel/tW%2BFPgZ4X8NeO9Lt9a26/4c8KaZbXF1d6mYTPqE8v2YyS3amJykxbI%2B03G4P5hr3KigDzL4K/szWfwk8ea98V/Evxg8X%2BPfFniDSrHSrvxD4wOnJLDp9nJcywWsUOm2dpboglu7iQt5RkcyfM7BEC/GX/BbH/Qf2wf2TfFfT%2BwfEuoX%2B7%2B7t1zwsmf/AB%2Bv0ar85f8AgvD/AKD4r%2BGnirp/YXhPWr/d/d2%2BKPBSZ/8AH68nPdMnrvtG/wBzi/0P0Dwq18R8rh/PVUP/AAZCtT/9yH6NUUUV6x%2BfhRRRQAUUUUAFFFFABRRRQAUUUUAFFFFABRRRQAUUUUAFFFFABRRRQAUUUUAFFFFABRRRQAUUUUAFFFFABRRRQAUUUUAFeM%2BOP%2BUhfwv/AOyM%2BPP/AE7eEK9mrxnxx/ykL%2BF//ZGfHn/p28IUAezUUUUAFFFFABRRRQAV4z%2Bwf/yRDXP%2ByzfEf/1Ndbr2avGf2D/%2BSIa5/wBlm%2BI//qa63QB7NRRRQAUUUUAFFQalqem6Lp0%2BsaxqEFpaWsLTXV1cyiOOGNRlnZmICqACSTwAK%2BLfGXx5%2BN//AAU28Uah8E/2MPEN74R%2BD9jcvZ%2BOPjVHEUn1fBxJYaKGxnIyrXPQZyMDaJuLG46ng0o2cpy%2BGK3k/wBEusnZJb62T%2Bo4a4VxnEU6lVzjRwtGzrV6l1TpRe17azqSs1Tow5qlSWkUoqU4aXx3/aQ%2BL/7aHxa1H9i/9hHxXLpGmaPOIPix8ZbLJi0NM/Np%2BnuCBLfMAQXU/u%2BcEEFk9r/Zg/Yb/Zq/ZEsJf%2BFP/D%2BNNYvQTq3ivVpDd6tqTscs011Jlzub5ii7UychRXVfAL4A/Cn9mT4WaZ8G/gx4Uh0jQ9Ki2xQx8yTSH780rnmSVzyznkn0AAHZVz4TL37X6zi7SrP7oL%2BWF9vOVuaT1bStFern/F9N4F5Hw/zUMvW6vapiZL/l7iXH4m38FHmdKjG0YxlPnqyKKKK9U%2BCCiiigAooooAKKzfFnjPwf4D0dvEPjnxXpui6ejhXvtWvo7aFWPQF5CFBOD3rzLVv%2BCgn7CmiX6aZqf7Y3wyjnd9mweN7Fth/2ispCfVsVhVxOGoO1ScY%2BskvzaOetjMHhnatUjH/FKK/OSPX6KxvBfxF%2BH3xI03%2B2Ph3470bXrQgEXWi6pFdR89PmiZhWzWsZRnG8XdeRtGcJxUou6fVar8LhRRRVFBRRRQAUUUUAFFFFABRRRQAUUUUAFFFFABRRRQAUUUUAFeM/sv8A/Jb/ANo7/ss1j/6hXhevZq8Z/Zf/AOS3/tHf9lmsf/UK8L0AezUUUUAFFFFABRRRQAUUUUAFFFFABRRRQAUUUUAFFFFABRRRQAUUUUAFFFFABX54/wDBefSm1fweYYwd8PwP8U3CMOqmLxX4Ekz%2BSmv0Or4Z/wCCxmkf23bX1ltzs/Zm%2BIlxj/rlq/g6X/2SvNzmHtMoxEe9Of8A6Sz7Xw2xH1TxEyat/LisO/8AytTX6n214d1Rdc8P2OtIRi8s4pxj0dA39auVxf7OGr/8JB%2Bzx4C17fu%2B3eC9LuN3rvtImz%2BtdpXdSn7SlGfdJ/ek/wBT5XMMP9UzCtQ/knOP/gM5R/8AbQooorQ5AooooAKKKKACiiigAooooAKKKKACiiigAooooAKKKKACiiigAooooAKKKKACiiigAooooAKKKKACiiigAooooAK8Z8cf8pC/hf8A9kZ8ef8Ap28IV7NXjPjj/lIX8L/%2ByM%2BPP/Tt4QoA9mooooAKK8e/4KDnxyP2HPiwfhv/AGn/AGx/wgWp/Z/7E3/btn2d/N%2BzeX8/n%2BV5nl7Pn37dvzYrwD9mxf2fPE2iftD/AAn/AGPPi/4X8GfDTxTpK2vw71rwTeW6adYar/YKpql9paQssbrb%2BZYSzGA7VuBKXIlMpoA%2B4KK/Lr4L/ET9lH4R/Dv42/EP4%2BeA/gfffs%2BaT4Z8EWljoXwx1CLWfCmv%2BMFuNUS4EUt1Db21xfziTRhNvBji/wBH86djFNKsnj74Y/s3ab%2ByX8IviZ47/aR/ZkvovDP/AAnOr%2BGvBHje3tfFHhfUJL%2B9F1/YGkMt5Du/s4NFYRSQpMVAUJbAFYQAfqDXjP7B/wDyRDXP%2ByzfEf8A9TXW67Pwz4u%2BIPiT4CaP468JfCy007xJqPhmzvbbwb4k1WTT4rG4lhRzZTzxW0zQ%2BWWKErA%2BCn3fTz7/AIJ03HiW7/ZuvrrxlpNjYavJ8W/iG2p2Omai93bW858Z615kcU7wwtMgbIDtFGWABKLnAAPdKjurq1sbWS9vbmOGGGMvNNK4VUUDJYk8AAckmpCQBknAHU18PfE/x341/wCCrfxQ1L9mv4EeIrzSfgL4av8A7N8UfiFp0hR/FVwpBbRtOkHWHp5swyCD3QqJuLG42OEglFc1SWkYrdv9IreUnol5tJ%2BdmOYRwMIxjHnqTdoQW8n%2BkVvKT0iu7cU/oJ/%2BCgn7CCOUf9tD4Vgg4I/4T/Tv/j1ZXxl/4KQ/sd/B74Yf8LNT42aD4rFzKLfQ9F8FatBql9rF03CW9tFA7F3YkDJwq5G4jIrz39sb4Vf8E/f2J/2bL34if8MUfDDVNShSHSfBugyeA7Ge41jVJR5drbbmiMkpLDc7ZLlEduT18%2B/Z0/4IX/s5Xng2b4g/tc%2BDrbVPiD4ldNQvrfwnK%2Bh6d4akYbhaWMGnvHHiPO0yMG3FMgDJ3eNXxnEDrvDUI0nPlu3eaUL7Xve7eto26Xdo7/S5TkeeYTKIcQZvChPC%2B05I0Y1K1KriHFJ1FTm6dSMIU1KKqVZRsnJQgnUfufOfxq8b/t6/8FaPjNN%2BzjpIh8O6RZzJJrvg/Sr1n0vwrCW%2BWTXLxMfbb4YJWxj%2BVHUbwrRzIPrzwf8A8EoPiFonhaw8F6r/AMFJ/jZZ6Vp1ssFppngXULTw/bQRqOEijgiYRr7CvpD9n39nT4N/st/DW0%2BE3wN8EW2h6LasZDFES8tzM2N000rEvLI2Bl2JOAAMAADt6MDw5Si5V8dJ1Ks93zSSS/lVnG6XyXaKRyZ9meacWqEcztChTv7LC0HOnhqCfSMFOMqtRq3tMRWlUrVXvKEOWnH5J/4dpfHLw3/yTb/gqZ8drXb/AKv/AISfVbbWcfXzY03UH9lX/gqr4Wy3hP8A4Ki6Xrka/wCrtPFHwd09MezSwSb2%2BuK%2BtqK9H%2BxcCvg54%2BlSov8A29nzf%2Br2Wx/h88P8NWqv/b5I%2BRn8f/8ABZ/4TIX8T/AX4O/Fa0hGVPg7xNc6LfTKP7wvgYg59FGKv%2BCP%2BCuv7OMOuL4B/ag8O%2BJ/gj4rCEto/wASNIktrefb95oLxQYZY/R2KbuwNfVVZHjb4f8AgL4laI3hr4jeCNI8Qaazh20/W9Niu4Cw6MY5VZcjscUngcfQ1w%2BIb8qiU196UZr736CeW5nhtcLipP8Au1Upr/wJKE163l6Hy1qP/BVV/jFfzeF/%2BCfn7MfjD4xXiSGI%2BJTbHR/Dtu4ODvvrpRuKnJ2hRuA%2BVu9Rxfsk/wDBRX9pJxrH7Vn7blx8OtPY%2BZb%2BDPgPGbF4G6qZNTnDTORwGTDIecEA19dadpunaPYQ6VpFhDa2tvGI7e2togkcSAYCqqgBQB2FTUv7Mq4jXGVpT/ux9yH3RfM/%2B3p/IX9j18Vrj68p/wB2N6cPui%2BeX/b1T5HyM37Hv/BSf4XKZvgd/wAFLpPENvFzDoXxS8D214suOgkvoSJwOxwvvVa//aq/4Kr/AAqs5PDnxL/4J36L411SZfJ0rxF8NvG6JpstyeE86C6BngizgtIxAA9Oo%2BwqKbylU/8Ad61Sn/29zL7qilb5MbyNUv8AdcRVp%2BXPzr/wGop2%2BTVj5A%2BH3/BN7xR8fPFEPx0/4KeeMbX4h%2BIgrNo3w908vH4Y8Mq45SKDObqXHBlkznod5VXr2jS/2Dv2ItG0%2BTS9N/Y/%2BGMcEqbJk/4QWwPmL6MTES345r1eitqGVYCgv4ak3vKSUpN93KSbf4Loklob4fJMrw0f4SlJ7ymlOcn3cpJt/glsklofMPjL/gjf/wAE6/F2p/29Zfs/xeHdQBOy98Ja3e6YUz2CW8yxj/vmsgf8Egfhfph8vwL%2B19%2B0T4Xh/wCffQPixNGmPTEkTnH419a0VnLJMolK/sIp%2BS5f/SXEzlw7kUpOX1aCb/lXL/6Q4HyUf%2BCTkcH77Tf%2BCjv7VMM68xyP8XPMUH3U22CPak/4d1ftR2H%2Bg6B/wVa%2BLkdg3Ekeo2dld3BHtOyhlPvivrail/YmWr4YNek6i/8AchP%2BruTr4abj6Tqr/wBynyS3/BLv4iuP7Wb/AIKf/tH/ANsJzBOPGsQs1P8AtWvk7XHsWrP134ff8FYv2V7dPHPgr4/6T%2B0JoOnvu1HwP4g8MW2i6vLa4%2Bb7LeQErLMOo8wfNyArHCn7GopPJcJFXouVOXeM5/ipSlF%2BjVhS4ewMVfDynTl3jUnv3alOcZeko2Z4d%2Bzt/wAFDv2Xv2ivCd3renePrfwvq%2BjyeR4m8J%2BNJU03U9FuASGinhmYdCCN6kqSCM5BA6/Rf2tv2VPEniWPwX4d/aZ%2BH1/rE3%2Bq0qy8Z2Mty/biJZSx/Ksj40/sKfsf/tE%2BMYfiD8a/2e/DfiHW4IBCNTvbPEskY%2B6shQjzQO2/dtGQMZNYPiD/AIJhf8E9fE3hl/CWo/seeAorWT70un6BFaXI4xxcwBJh%2BD0l/bsFy/upW6vni38kmov5tdtNBR/1lprl/czt1bqRcvkk1F99ZK%2B2mi93or49vP8Agmj8XP2e9viL/gnp%2B174r8Iy23MXgLx5qMmt%2BGrhO0IjlzLa56GVC74GBjrS6Z/wU98Y/AC8j8If8FIv2btd%2BGtysixL488PWsur%2BF70k4DrPCGktixxiJw7AcsR0o/tX6u7Y2m6X96/ND/wNLT/ALfUfUP7bWFfLmNJ0f71%2Bam/%2B34r3f8At%2BMPU%2BwaK43wR%2B0T8BPiT4Pj%2BIHgL4z%2BF9W0STganY65A8KtjJVmDfIw7q2CO4FZ2oftdfsoaTctZap%2B098PLaZfvQ3HjWwRh9QZc16DxWFUVJ1I2ez5o6%2Bmp6jxmDUFJ1Y2ez5o2fo%2BbU9DorxD4m/8FJ/2CvhHov8AbvjL9rHwQ0WCVg0fW49SuHx/dgszLIf%2B%2Ba82i/4LC/Ce%2BU6vof7JP7QupeH3P%2Bi%2BK7H4VTPp9yP7yOZQ5H1QVy1c3yujLllWjfsnzffyqVvnY4q2fZLh58k8RG/ZPmfz5FOy83ZH1xRXyXF/wWz/AGAdPkWDx9428U%2BEZWOPL8S%2BAdUhIPofLgcD869M%2BEP/AAUU/Yd%2BO%2BoLo3wu/af8JX99IQIdPudSFncyk9khuRG7/wDAQaKWb5VXnyU68G%2B3Mr/c2n%2BA6Ge5JiZqFLE03J9OeN/ubT/A9oooBBGQaK9E9UKKKKACvGf2X/8Akt/7R3/ZZrH/ANQrwvXs1eM/sv8A/Jb/ANo7/ss1j/6hXhegD2aiiigAooooAKKKKACiiigAooooAKKKKACiiigAooooAKKKKACiiigD4f8A2V/iD8Qb79oH4e%2BOL74r%2BJ9V1j4keJ/iXYePPC2peJbq50/TrbSNWlgtTb2EkjQ2BsmitrIvAkZl%2B1lpjLI6uOP%2BIv7Zfxr/AOHh15Ppdj8VtMFj8P8A4haV4O%2BHt98PvENtouo3GkjT3ttVlka1WzvHuZ/tXl3CyyRxWzWihopbp0k%2B20/Zt/Z1j8Wa74%2Bj%2BAfgpdd8UeT/AMJLrS%2BFrQXereS6SRfapvL3z7HjjZd5ba0akYKiumvPCvhfUPEdj4wv/DdhPq%2BmW1xb6bqs1mjXNpDOYzPHFKRujSQwwl1UgN5SZztGAD5V/wCCfWuaxpnxYbwPo3xq8T%2BO9A1v4DeDvGWoaj4n8VXOrtHq9/LqSSXUMk8j/Z47yO3VxbRbLdPs2YYowz7uZ/4KA674k8ffFfxd4H1X4QeIdEtdP/ZP%2BK0ema7qtzpz2mtEzeGCHtltruWdQjKuftEUBO8bQ3OPrf4Y/BH4L/BO31Gz%2BDPwi8L%2BEYdYv2vtWi8MaBbWC3t0ww08wgRRLIR1dssfWvEf2vNI/wCEg/aO0fQdu77d%2BzT8T7fb677zwov9a58XD2mEqQ7xkvvjJHscO4j6pxDgq/8AJWoy/wDAatKX6HdfsB6v/bv7DHwc1MtuaT4YaEJD6uthCrfqDXrlfPf/AASi1f8Atv8A4Jz/AAhvd%2BdnhCG3z/1yd4sf%2BOV9CVjlk/aZbQl3hD/0mJ6HHGH%2Bqca5pQ/lxOIX/let/mFFFFdx8uFFFFABRRRQAUUUUAFFFFABRRRQAUUUUAFFFFABRRRQAUUUUAFFFFABRRRQAUUUUAFFFFABRRRQAUUUUAFFFFABXjPjj/lIX8L/APsjPjz/ANO3hCvZq8Z8cf8AKQv4X/8AZGfHn/p28IUAezUUUUAFFFFABRRRQAV4z%2Bwf/wAkQ1z/ALLN8R//AFNdbr2avGf2D/8AkiGuf9lm%2BI//AKmut0AVv%2BCkXxtk/Z7/AGG/iV8TbK5MV/F4alsdIZD84vbsi0tyoHJKyTK2B2U10H7F/wADrb9mz9lHwD8FEs44J9A8L2sWphFADXrRiS5fj%2B9O0jfjXiX/AAUk/wCLyfH39nf9je3/AHsPib4iHxR4lgXkNpejQm4aKX0SV3Cj1aPArrv%2BCpXxt8TfCb9lS98GfDNi/jj4malb%2BDPBNvG%2B12vb9jE0gI5XZD5rhugYJ614FTEwpY3E4uesaMFBebfvyS823Tj6tEcJ5JieLuO44HDtKTdOgm9o8z9rVm30jCC5pvpGDPO/gwD/AMFFv24Lv9p7UAbn4SfBS/n0f4YxNzBrmv8AAu9WA6PHDgJE3IyEdSGVxX2lXE/s4fA7wt%2BzX8CfCnwJ8GxILDwxosNksqxhTcSKuZZ2A/ikkLyN/tOa7au/LcLPDUOarrUm%2Bab/ALz6LyirRj5LzZ9lxrn2FzrNlSwCccFho%2Bxw8XuqUG/fl/08rScq1V9Z1LbQikUUUV6B8gFFFFABRRRQAUUUUAFFFFABRRRQAUUUUAFFFFABRRRQAUUUUAFRXtlZ6lZy6fqNpFcW88ZSaCaMOkikYKsp4II7GpaKNwaTPnbxZ/wSY/4Jy%2BNfF8vjnXv2TfDIv5zmUWPn2luxzkt9ngkSHJPU7MnvmtfTv%2BCZ3/BPrS7ZbS2/Y4%2BHrIvQ3HhmCZvxaRSx/OvcqK4FleWKTkqELv8AuR/%2BRPMWS5NGTksNTu9/ch/8iea/Dn9jX9kn4Q62PE3wv/Zo8C6DqS42ajpfha1hnTH92RU3L%2BBFelUUV10qNGhHlpxUV2SS/JI7aOHw%2BGhy0YKK7RSS%2B5JDZYop42hmjV0YYZWGQR6EV5f8Y/2JP2Rv2gLFrH4v/s6%2BE9ZLKVF5Jo8cV0gPXZcRBZU/4C4r1KilWoUMRDkqxUl2aTX4phXw2HxVNwrQUovpJJr7mmfIyf8ABJTQfh4M/ss/tkfGj4ZQx/8AHroeneMGv9JhHYfZbpWLY93NNfwD/wAFi/gQ32nwj8cvhv8AHHTI%2BXsPF/h8%2BHtTZeyRS2hMBbtulPPXFfXdFed/Y2Dh/Acqb/uTkl/4C3KPy5bHk/6v5fT/AN2c6L/6dzlFf%2BAtyh8uW3ofJEX7fX7bmnoLHxP/AMEmfH0d/F8t0uleMNOu7feOvlzDAdfcCnH/AIKVfHfQD5nj7/gll8dLaIclvD2m22qvj/djkXn2r61op/UcwW2Ll84U3%2Bi/Qf8AZuaL4cdP506T/RfofI7f8FNPjR44P2L4C/8ABL/45axdj5T/AMJrpVv4btg/93z7h5Bx0JxxXSf8E6PE/wAXPGWs/HnxN8dvhjbeDPFV18ZoG1TwzaazHqCWIHhHw2sS/aIwFlJhEbkqMBnI7V9KV4z%2By/8A8lv/AGjv%2ByzWP/qFeF66MNhsVSqOdau5%2BXLGK9bK7v8A9vfI6sJhMbRqOdfEuppa3LCMV52im7%2BsreR7NRRRXaeiFFFFABRRRQAUUUUAFFFFABRRRQAUUUUAFFFFABRRRQAUUUUAFFFFABXiHxS02PWf28vh1pE2Nl18EPiBC2fRtU8Iqf517fXjPjj/AJSF/C//ALIz48/9O3hCk0mrMqMpQkpLda/dqed/8ES9Sk1L/gmL8MhcZEtrFqttKp6qY9WvEA/ICvqqvkv/AIItf6D%2BxfL4U6f2D8Q/Edht/u7dRlfH/j9fWleXkTbyXDX6QivuVv0PvPFWMY%2BJmcuO0sTWkvSc%2BdfhNBRRRXqnwIUUUUAFFFFABRRRQAUUUUAFFFFABRRRQAUUUUAFFFFABRRRQAUUUUAFFFFABRRRQAUUUUAFFFFABRRRQAUUUUAFeM%2BOP%2BUhfwv/AOyM%2BPP/AE7eEK9mrxnxx/ykL%2BF//ZGfHn/p28IUAezUUUUAFFc78XPil4N%2BB/wt8RfGP4h372uheFtFudU1aeKFpZFt4ImkfYi5aRyFIVFBZmIABJFcH4I/bN%2BHuvfDzx/4%2B%2BIvgzxL8PpfhdayXfjrQPGFvam90y0WxW/W5/0C4uYZontyWVopXO5JI2CyRugAPXqK8S8JftqN4z0nXbXSv2XviWni/QrTSr6b4dXKaKmrz6dqTTrZ36N/aX2NIHa0vFPm3McitaSqyK20Njal/wAFHfhtF4H0TxL4Y%2BDHxC8Q61qzeI/tfgfRtOsDq%2Bkx6Bdiz1mW4Wa8jt2W1uXihPkTTGZ54vIEwcGgD6Grxn9g/wD5Ihrn/ZZviP8A%2BprrdeqeDPGHhr4h%2BD9J8f8AgzV4tQ0fXNMg1DSb%2BHOy5tpo1kilXPOGRlYexryP9iTU7PRf2ffEus6jKI7e0%2BL3xKmnc/wovjTW2Y/kDQ2krsTaSuzzL4G/8X4/4K1/Fv4vOPO0v4S%2BCtM8D6LIeY2vLpjfXjr6OhHlMeuGA6VBY/8AGXn/AAVeuNRP%2BkeDf2bdBNvB3iuPFOpJ85HZ/Jtl2kdY5VB43Vif8E2fHtv8Iv8Agml4x/bj8exL/aPjPVvFHxD19JG5eTzpljiB6kMltHtA7ycda9K/4JO/CXVfhv8AsYaB4z8ZM83iv4k3E/jXxdfTLiS6vdRbz1Zh2IhMKkdip6Zr5PBp4xYem/8Al45Yifpzfu19/J/4AfVeGv8Awi8AZjxNLStiW8PR7qWKUqlaa86eDhGmuzrs%2Bk6KKK%2BsPlgooooAKKKKACiiigAooooAKKKKACiiigAooooAKKKKACiiigAooooAKKKKACiiigAooooAKKKKACiiigAooooAK8Z/Zf8A%2BS3/ALR3/ZZrH/1CvC9ezV4z%2By//AMlv/aO/7LNY/wDqFeF6APZqKKKACiiigAooooAKKKKACiiigAooooAKKKKACiiigAooooAKKKKACivzq/ZU8TfCfwl%2B1b4Z11PEGiaZ8UYvE/xFT9oi8nuoob1LF9ZaPS11R2IIjaZtNXThMebZiLb90Xrq/iA37O6f8FNvCviH4Q%2BO/hVJqcs3iOy%2BI%2BnfD/RYLfxPpTro120194kvYrh2uNOWWGOJYJoYGW6nsnEkgQrQB91V4z44/wCUhfwv/wCyM%2BPP/Tt4Qrwv/gj1pnwq%2BE2n65%2BzB8E7/wCDnjPQfBfgnwwJvi98FvC8Wm2uv3fl3ds9rqJhubqO41CJLSO4eRZ2JXUFLRQ5Uyep3%2BpfFe7/AOCm3guz8beC/D2n6Fb/AAe8cDw1qOleJ57y7v0OreEvMa5tpLKFLQjCYCTXAbccldo3AHJf8Ei/9B8CfGzwr0/sL9pLxbYhf7oWWB8f%2BP19aV8l/wDBMr/iVfFv9qLwp08n9oLU7/b/ANfUEL5/HbX1pXk5HpldNduZfdOoj9A8Uve48xlT%2BdUZ/wDgeFwkvzbCiiivWPz8KKKKACiiigAooooAKKKKACiiigAooooAKKKKACiiigAooooAKKKKACiiigAooooAKKKKACiiigAooooAKKKKACvGfHH/ACkL%2BF//AGRnx5/6dvCFezV4z44/5SF/C/8A7Iz48/8ATt4QoA9mooooA8//AGq/grdftGfs3eNvgdp2vR6VeeJ/Dl1Y6dqc0JljtLpkJgmdAQXRZQjMgILKCMjOa89%2BEfwM%2BPUvij4kfEX9oDwD8Pbm9%2BJ9nDYat4a0vxPd32nWlhZ2H2e3t2kn06FrwXEs940xaOIRRyRoqzlWY/QVFAHxR4F/Yg/a3%2BCXhH4ofEr9nXTfAvhT4meO9E8O%2BGdE0/VPijrniCw0LSdNmvWa6XVNSsJLiW62alciCA2v2WHyLZdrqJA%2B9B%2ByJ%2B0l8OvDXw88WfADwF8OdE8U%2BEvBHinwlf8Ah3W/iBqV/YSQazd2F4%2BrtqR0tbi8vRdack8qSW8f2hry43TBtsh%2BuaKAPP8A4afs8eGPh9%2BzD4X/AGW213WJtI8NeC9O8OJqOmaxdaZeyw2ltFbrIlxZyxzQOREDujkUjJGa%2BdPCur2HwK/4JN/GS90e9vmj8P6z8WYNNn1PVJ725aQeKNeihMtxcO80zlymZJHZ2JJZiSTX2XX53ftcazfWn/BIH4meFNGk26h4r%2BPHi/Q7Af3nuPiPqQZffMayCuDNazoZZXqLdQl9/K0vxaPMzuu8Nk2JqreNOdvXlaX4tCfH7w5qOh/8Eof2e/2JvD8r2%2BsfF6Twn4bulhOJIIJVivb%2Bb/dUoVY%2BknTmv0K0rS9P0PS7bRNItEt7Szt0gtYIxhY40UKqj2AAH4V8g3%2Bi2PxY/wCCt3gr4caXHv8AD/7Pfwpm1Ar1WLVdT22sMTDpkWiLIpPTBxX2NXDk9FKrVmto8tJelOKT%2B%2Bbl9x%2Bm8RUFkPBmQ5DHRxovE1F/fxDSp39MPh6dvKp56lFFFe6fChRRRQAUUUUAFFFFABRRRQAUUUUAFFFFABRRRQAUUUUAFFFFABRRRQAUUUUAFFFFABRRRQAUUUUAFFFFABRRRQAV4z%2By/wD8lv8A2jv%2ByzWP/qFeF69mrxn9l/8A5Lf%2B0d/2Wax/9QrwvQB7NRRRQAUUUUAFFFFABRRRQAUUUUAFFFFABRRRQAUUUUAFFFFABRRRQAUUUUAFeM%2BOP%2BUhfwv/AOyM%2BPP/AE7eEK9mrxnxx/ykL%2BF//ZGfHn/p28IUAeY/sJ/8Sr9vD9rbwp08nxl4ev8Ab/19aWz5/HbX1pXyX%2BzD/wASf/grH%2B1DpvT%2B2NA8FX4Hr5WnywZ/WvrSvJybTByj2qVV/wCVJf5n6B4l%2B9xHSq/z4TAy%2B/B0E/xgwooor1j8/CiiigAooooAKKKKACiiigAooooAKKKKACiiigAooooAKKKKACiiigAooooAKKKKACiiigAooooAKKKKACiiigArxnxx/wApC/hf/wBkZ8ef%2BnbwhXs1eM%2BOP%2BUhfwv/AOyM%2BPP/AE7eEKAPZqKKKACiiigAooooAK/OP4vf8Vb8OPgf8F0%2Bb/hIf25/F17eRf8APWzsfGXiCaZcenzIfwr9HK/LvV/Fe39oz4cgSfufh1rf7QHjO9TsP%2BKk1uCFz6bZEJB9a8fPZqOWuL%2B1KC%2BTnFv8Is8vN8PUx2Hp4Kn8VerRpL1qVqUT6K/4JSBvivJ8Zf21LseYfit8ULtdCuTz5uiaZmzsufbEy%2Bny19dV85f8EjvCn/CG/wDBN34SaR5WzzvDJvsY/wCfq4luc/j52fxr6NrTJYOGVUXLeUVJ%2Bs/ff4y/I/TvE3E08R4gZlGl/DpVZUaflTw9sPTXyhRXzcu4UUUV6h8KFFFFABRRRQAUUUUAFFFFABRRRQAUUUUAFFFFABRRRQAUUUUAFFFFABRRRQAUUUUAFFFFABRRRQAUUUUAFFFFABXjP7L/APyW/wDaO/7LNY/%2BoV4Xr2avGf2X/wDkt/7R3/ZZrH/1CvC9AHs1FFFABRRRQAUUUUAFFFFABRRRQAUUUUAFFFFABRRRQAUUUUAFFFFABRXnHgL9rb4AfE34tal8EPBfjae68RaW1%2BskMuhX0FrdNYzpbXyWl5LCttetbTyJDOtvJIYJGCSBG4qSH9qf4MN8Xj8DdR1XXNL8QO1ytn/bvg3VdPsNQa3jMsyWl/c20dpeMkQaQrBNIdkcjYwjkAHodeM%2BOP8AlIX8L/8AsjPjz/07eEK6H4BftX/Af9p2PUJPgt4wutSOm21pdzx3%2BgX2nPJZ3YkNpewreQRNcWk4hm8m6iDwS%2BVJsdtjY88%2BMvxM8NeCv%2BCnXwH8Ha/diG48XfCj4iWGjlj/AK26ivfCl0Y/xhgmb/gGO9TKcYK8nZf56fmyJzhTjzSdlp%2BLsvxaRyPw7mh0H/gtN8RtHllVH174HaRqMUbNgyiC%2BaAsB3xnFfW1fI//AAVB8K%2BIPhHdeBv%2BCi3wz0uW41v4P6pjxVZ2o%2BfVPDF0RFfQEfxGMN5qZ4TMj9RX1R4T8VeH/HXhbTfG3hLVYr7StYsIb3Tb2A5S4t5UDxyKfRlYEfWvKy5%2BwxOIw0t1JzXnGet/lJSi/O3c/R%2BNILM8lynPKOtOVCGFn/crYVOLi/8AHSnSqw7x5l9lmhRRRXrn52FFFFABRRRQAUUUUAFFFFABRRRQAUUUUAFFFFABRRRQAUUUUAFFFFABRRRQAUUUUAFFFFABRRRQAUUUUAFFFFABXjPjj/lIX8L/APsjPjz/ANO3hCvZq8Z8cf8AKQv4X/8AZGfHn/p28IUAezUUUUAef/tV/Gq5/Zz/AGb/ABt8cdP0FNVvPDHhy6vtP0yWYxR3d0qHyIXcAlEaUorOASqknBxivN/Bv7Sf7Qfhbw18bPCfxT8LaH418d/CXQ49Y0uHwHo9zp1v4lhuNMe6traO2nuLuSGc3EFxb482QMBHIApcxr7N8XPhZ4N%2BOHws8RfBv4h2El1oXinRbnStWghmaKRreeJo32OuGjcBiVdSCrAEEECuJ%2BD37KafB%2B71vXovj3468Q694nnabxL4j8Qf2U13qLLaRWtruFvYQxRLbRxZiSGONS8kryiZnY0AeHfAn9uz4w/H/wAM/FLwD8MfjP8ACPxT4y8F%2BBvD/ijTPGnh/wAK6g/h6NNRk1BZtOntP7SaaW5t/wCy5wxW6i5uYQ0cTRyJU/xO/bd/aH0j4I/Ab4taPLofhvS/iD8Pm8Q/ETxZL8Ide8V6foMn9n2Vyg8jTLyF7OBnuJ8z3EjIiQ/M3BavWtK/Y1XTfCnje1uP2kfiFe%2BMPH1hZ6frXxMvY9EbWYrG1Mn2ezgiXTBp8UKC4u8L9kJzeTuSZGDrn6T%2Bw/rWgfs7%2BF/2adA/bO%2BLNjonhnQpNEbULaPw4t9qemmKOGK2uJP7H2p5MUflxy26QzYdmaR3wwAPWtT%2BJXgDwv8ADn/hanjD4iaDY%2BHIdNjvbrxPd6jFb6cIGVSLjzpH2JE24EMXIww5PWvyA0T4o%2BGvH2r/ALU3xp8G%2BJrHV9E8N/CX4g6FpWq6XeJcW039tePdcminiljJVw8UoKupIKkEHFfsT4G8F%2BGfht4J0f4deC9LWx0bQNKt9O0myR2YW9tBGsUUYLEkhUVRkknjmvxkl0K7k/Zy/bx16zZhdeN/2pJPCFhJ1w0Piu6ldF%2BqznI96%2Ba4plKOAjbvJ/8AgNOo1%2BMke1wbgVmniXw5g5fDLHYeUv8ADTk6jfouS/yP1t/ZI8Kf8IL%2Byp8M/BRj2HSfh/o1my4/ijsoUOffINehVDYWNtplhBptnGEht4ViiQfwqoAA/IVNX0NGmqNGNNfZSX3JL9DizLGTzHMq%2BLlvVnOb9ZznN/jMKKKK0OIKKKKACiiigAooooAKKKKACiiigAooooAKKKKACiiigAooooAKKKKACiiigAooooAKKKKACiiigAooooAKKKKACvGf2X/%2BS3/tHf8AZZrH/wBQrwvXs1eM/sv/APJb/wBo7/ss1j/6hXhegD2aiiigAooooAKKKKACiiigAooooAKKKKACiiigAooooAKKKKACiiigD4x%2BCPwJ/aO%2BH/xT8EaD4j%2BA2qf2H8JfEvjbUofFNnrelOvilNa1GU2S2sTXazIUt7ySe6%2B0rCFltQsP2jerVf8A2if2dfir%2B0x%2B01Y6loXwZ8Z%2BFLew0vxJout%2BNfFfjS0vdDudOvNFvbGCXSNLi1GdrS9a5mtJGufstpJ9njuond/NCn6/ooA%2BY/2Kfhh8eI/ipJ8VvjT8FpvAI0f4PeG/A8GlXGsWN4dSvLGa9mu7uE2U0qizBnhW3MvlztumLww4UN89/wDBW34H/F61/aU8D/tG%2BAPi94l13Xvhr4E8V%2BPfCvhrUbbTks9OXT9W8Ki6toGtbSK4kjktppiy3Es5PlKqlctn9IK8U%2BItlZ6l%2B398NNO1C1jnt7j4KePo54ZUDJIjar4QDKwPBBBIIrmxmGWMwk6LduZWv2e6fyaT%2BRx5hhI4/A1MO3bmTV1unumvNSUX8ju/Ani74dftOfArTPGen2sWp%2BF/HXhmOc2twAyz2l1B80Mg9drlGXscivnD/gmX4t1L4FeKPHH/AATV%2BJWutJq/ww1JrvwFcXso83VvC10xltpFz/rGgLmN8cJuRB92j/gmBqFz8BfGXxS/4Jz%2BJbx/M%2BGPiR9T8C/aJMtc%2BGdRY3FvtJ5cxSO6Ow4DSqvGK9E/be/YtT9pXTdJ%2BJvws8Unwf8AFvwRIbrwF42tlw0MgyTZ3OAfNtZclWQhsbiQGBdH8dTxOKw9HH0o3q07xnHa/SpBealHmhfS9tlK59r4dcQZdmWS18lzqfsqOK5bzs5LD4qi5RjVcVq6es6VXl972NSM0pOmoy97or5%2B/Ym/betv2h4tS%2BDvxk0CLwZ8ZPBz/ZfGvga6lCszqB/ptnkkzWsgIcMpbbuAJIKO/wBA17OFxVDGUFVpO6f3p9U1umno09U/x83PcizThvM54DMKfJUjbqnGUWrxnCS92dOcWpQnFuMotNPdIoooroPICiiigAooooAKKKKACiiigAooooAKKKKACiiigAooooAKKKxdd%2BI/w88L7v8AhJvHmi6dt%2B99u1SGHH13sKmUoxV5OxMpwgryaXrp%2BZtUV5prn7aP7HfhjcPEf7V/w1sCvVbvxzp8Z%2BmGmBrjtc/4Klf8E7/D%2B77f%2B2D4Hk29fsOsLdfl5IbNcs8wy%2Bn8daC9ZR/%2BSOKpmuV0f4mIpr1nD/5I98or5V1b/gtn/wAExtJl%2Bzn9p2G6lJwkWn%2BF9VuCx9AY7Uj9aqf8Po/2PdQ/5E7w/wDEzxFn7n9i/DbUH3fTeiVzPPMmTt9Yg/SSf5XOR8ScPp2%2BtU36ST/9J5j61or5K/4e06PqXy%2BD/wBgD9pzWs/dltPhOyxfi7zjH5Uf8PHf2jtX/wCRQ/4JWfGefP3f7aW00/8APe7Yo/tvLH8M2/SM3%2BVMX%2BsWTv4ajl6QqP8AKkfWtFfJX/DZv/BS3WOPC/8AwSLv1U9JtZ%2BM2kWu33KGMk/QUf8AC8/%2BCw2tf8gz9hP4b6Jnp/bPxOFzt%2Bv2dBn8KP7Ywz%2BGFR%2BlKp%2BqQf2/g38FOrL0o1f1jE%2BtaK%2BSv7Z/4Lia1/x4%2BDf2ZtFU9f7S1DXbh1H/AGx4Jo/4V9/wWq1n/kJftC/AjRc9f7H8J6hc7fp55Gfxo/tVv4cPVf8A25b85oP7ak/gwld/9w0v/SqiPrWivkr/AIZl/wCCtWs/8hL/AIKc%2BG9Gz1/sj4L2Nxt%2BnnyDNH/DCv7fWq/8jX/wVx8WzZ%2B9/ZHw30uw/LYzYo/tDFv4cJU%2Bbpr/ANvYf2rjpfDgavzdJfnUf5H1rXjPjj/lIX8L/wDsjPjz/wBO3hCvMP8Ah2b8ZdU/5Gr/AIKkfH6bP3v7I1%2B3sPy2RNiqnwT/AGTIv2X/APgoX4Mk/wCGjfir8Qpde%2BDPjLzZfid4v/tU2fk6t4Vx9m/dp5Ifzjv67vLj/u1rQxOOq1VGeHcI93ODt8lq/vN8NjMyrVlGphXCPWTqU3b/ALdirvtufYFFFFegeoFFFFABRRRQAV%2BUK%2BA5dO%2BEemeDWtWU/E3/AIKa%2BJr25Rlx5tnB4l1KGR/cD7GvtX6vV%2Bcll/xVH7SH7NHw2Hzo/wC0d8atcmXsn2HxHrLox/4E5A968XPqcamBs93KMV/29OEX%2BFz7vwypR/14w%2BMf/MNTxVb/AMF4PFO/ybj87H6N0UUV7R8IFFFFABRRRQAUUUUAFFFFABRRRQAUUUUAFFFFABRRRQAUUUUAFFFFABRRRQAUUUUAFFFFABRRRQAUUUUAFFFFABRRRQAV4z%2By/wD8lv8A2jv%2ByzWP/qFeF69mrxn9l/8A5Lf%2B0d/2Wax/9QrwvQB7NRRRQAUUUUAFFFFABRRRQAUUUUAFFFFABRRRQAUUUUAFFFFABRRRQAUUUUAFeM%2BOP%2BUhfwv/AOyM%2BPP/AE7eEK9mrxnxx/ykL%2BF//ZGfHn/p28IUAY/7ZP7DGlftG6lpfxn%2BFnjW58BfF7wpEf8AhEfH2mL8wUFm%2Bx3cfS5tWLMCjA7d7YyGdH4b4Jf8FPfDnhHX/wDhnr/goba2Xwm%2BKGnMInm1Fmj0LxBH0W9srxh5Sxt3SRwVJ25JDBfresH4jfCz4afGDw1L4N%2BK3w/0bxJpM3%2Bs07XNNiuoSfXbIpAI7EcjtXl18BVhXeIwclCb%2BJNNwn5tJpqX96OttGpK1vGxGWVqeJeKwE1CpL4k03CfnJJpqS254620kpJK3lX7Tv7E/wAAv20tJ0vx9/ac2j%2BLNMjWfwd8T/Bl8IdS09hko0dxGcTRZJ%2BRiVwzbSpO6vJNO/bD/a2/YZX/AIRH/goH8KtQ8Y%2BELNtlp8cvh9pnnwmDtJqlgnz2rAfekQbCSAquQWO3e/8ABHz4D%2BGNQuNV/Zr%2BNfxZ%2BD7TymZtP%2BH3jueGwaU9Wa3nEgIP90EDsMDioz%2Bxf/wUl8MIbTwD/wAFZL%2BexUYjs/Ffwl0u/kI9HuC4dvyry69LMY1nXp0HCo95U5QlGX%2BKEnC/rpNfzPY%2B1yjxFzvCZdDKc/yv69g4/DFVY89K7u3h6z5atJPd05KpRk9ZUk7yf0V8Gvjx8Gv2hvCEXj34I/EvSPE%2Bky4zdaTeLJ5TEZ2SL96J/VHCsO4rra/Mnxd/wRU/bF1b4jN8W/Bn7VHgTwj4pL7n8SeBfCd1oFxMc5JeOynWEljyx2Etk5JrsvF/wk/4OCPhL4VMPw8/aW%2BHXxGFtGFhjutIt7XUZAB0zNbxxN/vPLuPc9a0pZzmdOD%2BtYKpp1haSf8A27zcy9Pe9TlzCpkWNxMI5FDE%2B/8A8u8RChScH29ssR7Ga/vWpX3cUfoJRX5L3X7Z/wDwUm8EXZ039sD9qfx18EvLbbcazdfszWWqaUvrsu4JZBIB6hcV6/8ACa38b/tFpEvhr/g4Fj16a4A26foHhXRdKuzn/p3L%2Ban4pSo8S0cTPkpUZc3aUqcH/wCAympfgysy4V8Q8qw31mtkWJ9j/wA/I%2ByqUn/3Fo1a9P75LzSP0Jor5K/4de/ELXOfHH/BTz9o26B%2B8uieNItNVvwjhbig/wDBG/8AZ11T/kffjd8avFWfv/8ACQ/FG7k3/Xywleh9bzWXw4W3rUh%2BkWfIfXs7l8ODS/xVof8AtsZH1Vq2vaHoFv8Aa9d1m0sov%2Bet3cLGv5sQK4jxH%2B1x%2Byl4P3f8Jb%2B038PdL2feGoeM7GEj/vuUV4tpP/BE7/gmfplx9uu/2cf7TuT9%2B51fxXqtyz/UPclf0ruPDn/BMr/gnz4W2/2Z%2Bx18P5NvT%2B0fDkN5/wCjw%2BaPaZ5LanTj6znL8oIPa8ST2pUY%2Bs6kv/SYRKfiP/gqj/wTs8Lbv7T/AGv/AAVLt6/2dqn2z8vs4fNcbd/8FuP%2BCcJuGsfDPxp1PxBcr1ttC8E6tMxPsTbKp/A1734c/Zo/Zx8H7f8AhEv2f/BOl7Pu/wBneFLODH02Riuxs7Kz0%2BBbWwtIoIl%2B7HDGFUfQDij2eeS3q04%2BkJv85oPY8Rz3rUo%2BlOcv/Sqi/I%2BTv%2BHv/wALNV/5J/8Asj/tC%2BK8/cPh/wCFMzhvxkkTil/4eQftF6//AMiD/wAErPjTc7vuf8JFHaaTn6%2BY7ba%2BtaKPqeaS%2BLFW9KcF%2BbkH1DOZ/Hjbf4aVNfm5M%2BSv%2BGsv%2BCp3iLjwz/wSqs9KjP3LrxD8Z9NP5xRR7h%2BdH/Ccf8FsPEf/ACBvgZ8APDm7p/wkHibU7zb9fsoGfwr61oo/s2vL48VUfo4R/KAf2RiZfHjaz9HCP/pNM%2BSv%2BFff8FqvEX/IY/aE%2BBHhzd1/4R/wnqF5t%2Bn2ojP40f8ADJX/AAVL8Qc%2BJf8Agq3baZG337XQPgtpn6SySbhX1rRR/ZFB/HUqP1qz/TlD%2BwcNL46taXrWqf8AtvKfJP8Aw7k/aW1z/kef%2BCq3xjuM/f8A7ASz0vP08tGxS/8ADo7whqfPjf8Abk/aU8Rbvvx6r8WJPLPsFjhXA9s19a0Uf2Jlj%2BKDfrKb/OYf6uZO/ipuX%2BKdSX51P0Pkr/hyd%2BwfqX/I7eH/ABn4mz9/%2B3fiHqkm/wCvlzJW1of/AARr/wCCZvh7H2D9k/RpNvT7dql/df8Ao64bNfTdFOOSZPF3WHhf/Cn%2Bdyo8O5BB3WEp384Rb%2B93Z4rof/BOH9gTw9j%2Bzv2NvhsxXobzwhaXBH4yo1djof7MH7NXhnb/AMI3%2Bzz4G0/b937D4Ss4sfTZEK7miuqGCwVL4KUV6Riv/bTtp5dl1H%2BHRgvSEF%2BUSppXh/QdCj8nQ9Es7JMY2WlskYx9FAq3RRXSkkrI60lFWQUUUUxhRRRQAUUUUAFFFFABXjPjj/lIX8L/APsjPjz/ANO3hCvZq8Z8cf8AKQv4X/8AZGfHn/p28IUAezUUUUAFFePf8FBz45H7DnxYPw3/ALT/ALY/4QLU/s/9ib/t2z7O/m/ZvL%2Bfz/K8zy9nz79u35sV4B%2BzYv7PnibRP2h/hP8AsefF/wAL%2BDPhp4p0lbX4d614JvLdNOsNV/sFU1S%2B0tIWWN1t/MsJZjAdq3AlLkSmU0AfcFFfmd%2BzpYfAG9%2BF37RMXxO0r4BWH7PcHw48KWszeBvEMd74Iu/EkMuqG7uGu7iG3glu5M6J5w2sA32WNpJpVcmvN8QP2QPiR%2BzD%2By7r37Rvjbwjr3wag/Zs1mye9udSgutMj8ZwWXh%2BK0gV1ZkGqx266yluinzlkWcIBIFFAH6c1%2Bb/AOzPf2etf8FKPCem38wWLwbbfF/XWJBPl/a/iHrFiDgc5JAUY5J4r7N%2BAN3%2B0BY/sYeAbzxVoNrqnxNT4c6Odd0/xNq0thHPrH2KH7UtxcR29w8R83zNzCGQ5/hr4V/4JhXHiXxx%2B3j8YfFXjPSbGy1fwre6voup2emai95bWk938RtXvpIop3hhaVAwOHaKMsACUXOB5Oa%2B99Xp/wA1WH/kvNL9EfoHAH7lZvi/%2BfWAxNvWr7Cgv/Tkl8z9KP8AhMNJ/wCfTVP/AAR3f/xql/4TDSf%2BfTVf/BHd/wDxqvnbx9/wWR/4JvfC/wAd618NPHP7Rv2HW/DurXOmaxZf8IhrEv2e6t5Wilj3x2jI%2B10YblJU4yCRzWT/AMPy/wDglp/0dD/5ZOt//IVVLPMlhJxliaaa/vx/zM6Phb4mYijGrSyTFyjJJprD1Wmmk001CzTTTT6pp9T6f/4TDSf%2BfTVf/BHd/wDxqj/hMNJ/59NV/wDBHd//ABqvnbwD/wAFkf8Agm98UPHei/DTwN%2B0b9u1vxFq1tpmj2X/AAiGsRfaLq4lWKKPfJaKibndRuYhRnJIHNd9%2B398YPiZ%2Bz7%2BxN8U/jj8G7TTZvE/hLwPqGq6OurzMlussELSb32xybtqhmCbcOyhCyBi69eFxuDxsXLD1IzS35Wnb1sfP55wzxJwxWhSzjBVcNKabiqtOdNySdm0ppNpPRtddD0v/hMNJ/59NV/8Ed3/APGqP%2BEw0n/n01X/AMEd3/8AGq%2Be9T/bc%2BNvhX4h%2BOfBfxC%2BBXgTQtP%2BGXw8tPE3jnxPd/FS6Njbvdxao1vbW2NHEs6h9PjEsrpEUS4LRxzOgik5n4bf8FKtX%2BKuqeGdD1b4T6v4X1uL40S%2BDvEOkLLeW0MiHwfqGvwz7dY0e0vXhdIYk2/Z7SQSoGWWSFStx0nhn1V/wmGk/wDPpqv/AII7v/41R/wmGk/8%2Bmq/%2BCO7/wDjVfPP7JX7fPxJ/aH0/RLjxz%2BzB/wj934s%2BE2i/EHwnpfh7xrDqs91p18wR4JzcQWUVvcQl4mKh5EdHyHDKY66n9qvxZ8VdS%2BLXwv/AGePhb8V9Q8CN42utYutW8V6NptjdXsVvYWQkW2gW/t7i3VpJpoWZnic%2BVBKq7WYSIAeu/8ACYaT/wA%2Bmq/%2BCO7/APjVH/CYaT/z6ar/AOCO7/8AjVfOUH7Qn7SPxP8A%2BCZHhD4//D60uf8AhOdd0jw7N4hu/Cuhre3FvaS39pFrGoadZSLIJ5UszeXNvAVl3Msa7JziN%2BL8BfHH9pX40fs1fEHUPAvi7426hrvwz%2BJV/oelXPh3wp4X0zxJ4osxY2l5by3lnr1nDaQbBehGSOK2mbyB%2B7Vy0VAH2D/wmGk/8%2Bmq/wDgju//AI1R/wAJhpP/AD6ar/4I7v8A%2BNV8gePv2g/2lrX4J/AH9qPwz8V9cvbLxlaeC/8AhNrrw/puif8ACDQR391Ype3VyLyAa4guEu5UtjbErFIsDXCwxiZjD8Af%2BCkWj/tBf8FOj8G/CH7S/gy48FXfg3xTZaN8PrLVdOl1OTVtH1LS4Wv5wpN1DJMsuq%2BVbEhWtbJbjblm8sA%2BzNN8Q6Xqtw1nbNOkypvMVzaSwsVzjcBIqkjPGR61drKu/wDkdtP/AOwVef8Aoy2rVoAKKKKACiiigAooooAKKKKACiiigAooooAKKKKACiiigAooooAKKKKACiiigArxn9l//kt/7R3/AGWax/8AUK8L17NXjP7L/wDyW/8AaO/7LNY/%2BoV4XoA9mooooAKKKKACiiigAooooAKKKKACiiigAooooAKKKKACiiigAqO6urWxtZL69uEhhhjLzSyuFVFAyWJPAAHOakqj4o8PWHi3w1qPhTVS4tdTsZrS5MTYby5EKNg9jhjQB5X%2BzP8Atp%2BAf2ntUfSNA%2BH/AIt8NS3Phmy8TeHT4ssrWH%2B39Cu3kS31K1EFxMVjYx/NFOIbiMSReZCnmJnnvF3/AAUP8F/DLQfHutfGH4B/EbwhL4F%2BGWsePl03WbXS5LjXtE0xc3ctl9lv5kWRS0K%2BTdNbvm4jyAN5XB/ZM/Zh/af%2BEnjTwz4p%2BMKeBbw%2BC/hppnw80d/D/iC8JvtPgcyXOrzJLYqIriUwWQWxVnSPExN2%2BVUU/hX%2Bzv8AtY6tq3xY8a/tY/BT4Q%2BMNc8e6Dd6RaQH4h393pj6N5jrbeHmtZ9DUWtk8Msr3M4Ny888jM0TR%2BVFAAfRHwr8deKPiF4bk1zxd8GPEvgW6S7aFdG8VXWmTXLoFUiYNpt5dw7CWKgGQPlGyoG0t5944/5SF/C//sjPjz/07eEKp/sQ/s4eMP2eNL8anxF4V8IeEbDxR4qTU9D%2BHfw/v5rnRfDUC2NtbPHbSS21rzPLBJcyLHbwxh5jhWYvLJlX/wAMfDfg7/gpt4L8Z6TqXiGa88Q/B7xxJfw6r4u1G%2BtIimreEsC2tbmeSCyB3HK26RhsDcDtXAB9D0UUUAFFFFABRRRQAjokilHUMrDBBGQRXjnxY/4J6/sQfG95bj4l/sueDb65nz5%2BoW2jJaXcmfW4t/LlP/fVeyUVjXw2HxMOWtBSXZpP80z0ssznOMkxHt8uxNShP%2BanOdN/fCUb/O68j5I/4c//AAi8F/vP2cf2kvjR8LhH/wAe9h4U%2BIU72S%2BitDciTevsWpf%2BGW/%2BCp3w75%2BGX/BSLR/FVsn%2Bo0z4hfDS2GB6PdWrea/1wK%2BtqK8/%2BxMvj/CTp/4Jzj%2BClb/yU%2Bv/AOIocY1/9/qU8X/2E4fD12/%2B350VU%2BftW/M%2BSR8R/wDgtB4A48T/ALN3wW%2BICR9/B3jC70qSUf8Ab%2BpVW/TNKP8Agob%2B1h4Q/wCSw/8ABKT4q2Wz/W/8IXqtj4hx/u%2BQU3V9a0Uf2diofwsVUX%2BLkn%2BcU/xF/rnkOJ/33IMJLzpPE4d/dTr1IL/wA%2BSv%2BHyn7M2h/wDJWPhP8YfAW3/W/wDCX/DG8h8v13eT5tdD4U/4LBf8E1/GW0aT%2B1joEBboNWtLuwx9ftMMeK%2BlK57xX8JPhT47DDxx8MvD2s7/AL/9q6LBcbvr5iHNHsc7h8NeEv8AFTa/9Jn%2Bgf2n4Y4n%2BLlmJov/AKdYuE191fDXfzmcr4X/AGz/ANkDxrtHhH9qj4dakz9I7PxrYyP9ColyD7EV3%2BjeIvD/AIjt/tfh7XbO/ix/rbO6SVfzUkV5D4n/AOCcP7A/jDcda/Y8%2BHYZ/vyWXhS2tXPuWgRDn3zXA6z/AMEVP%2BCaWrXH262/ZxXTLocpc6P4o1S1ZD7BLkL%2BlHPnsN6dKXpKcfzjIPqvhViPhxWOo/4qGGq/jTr0n%2BHyPqiivkv/AIc6/AHSv%2BRA%2BPnxv8J4%2B5/wjvxSuo9n08wPQP8AgmT8WdC/5ET/AIKh/tB2%2B37n9v8AiaDVMfXzIVzR9bzWPxYW/pUg/wA4xD/V7gCt/Bz5x8qmCxEfxp1ai/Bn1pRXyX/wxb/wUe0Pnwd/wVv1bavSHXvhFpN7u9i5cEfUUf8AClf%2BCxOg/wDIJ/bZ%2BGGv7en9ufDdrXd9fsznH4Uf2lio/FhKny9m/wAph/qXkdX%2BBxBg3/iWKp/%2Bl4Vr8WfWlFfJfl/8Fw9C%2B5c/sya7EP8AnomvWszfl8go/wCFu/8ABZLRP%2BQp%2ByF8I9c29f7F8fz2276faFOPxo/taC%2BKhVX/AHDb/KTD/iHuIn/AzTAT9MZCP/pylT/M%2BtKK%2BS/%2BGt/%2BCpGj8a7/AMEm4b5B9640f43aUfyjePcaP%2BHgf7YGlf8AI1f8EoPiZDj739keIdPv/wAthXNH9tYJfEpr1p1F/wC2MP8AiGfE8v4U8NU/wY3BS/D6xF/gj60or5L/AOHpPjDTP%2BRo/wCCZX7S8GPvHTPh9Hegfik44o/4e/fCWy/5Gb9lH9oPRcfe/tX4UTpt%2BuyRqP7cypb1besZr86aD/iFnH8v4eBc/wDBVw0//SMVJ/gfWlFfJf8Aw%2Bo/Yis/%2BRluPHmjY%2B9/anw61JNv12RNU9l/wW6/4JiXknkSftMC2lH3o7zwjq8RX6lrTH601nuSv/mJh85JfnYUvCnxNSuslxTXeNGcl98OdH1bRXzhpv8AwV2/4Jt6rj7L%2B1r4bTPT7THcw/8AoyJa39N/4KW/8E/dVx9l/bG%2BHi56fafE9vD/AOjGWto5rlc/hrwf/b8f/kjza3AHHmG/i5Tio%2BuHr/8AypnuFFeW6d%2B3H%2BxVq%2BBpf7X3wvuCeiw%2BP9OY/kJq3dP/AGk/2ddWx/ZXx88FXWen2fxVaPn8pDW8cXhJ/DUi/SUf/kjyq3DvEOH/AIuCrR/xUay/OkjtaKxrD4jfD3Vcf2X480a5z0%2Bz6pE%2BfyataGeC5jEtvMkinoyMCP0raMoy2dzzKlCvRdqkHH1TX5pD6KKKoyCvGfHH/KQv4X/9kZ8ef%2BnbwhXs1eM%2BOP8AlIX8L/8AsjPjz/07eEKAPZqKKKACiiigAooooAK/Ob/gkL4eY/H79sTx4yki8/aYu9NRj2%2BzeItRcgf%2BBANfozXxL/wSg8Lto3gT9obxDNH%2B81r9tHxvMjkdYo/EYhUfQNG/51wYun7TFYd/yyk//JJL9T63h/GrB5BnEb61aNKn9%2BKpTf8A6bR9tUV8xeP/APgpr/wgXjvW/Av/AA75/ae1r%2BxdXubD%2B2NA%2BE/2mwv/ACZWj8%2B2l%2B0jzYX270fA3KynAzWR/wAPYf8ArGp%2B1p/4Zv8A%2B6qylnWWRk4upqv7s/8A5WfnMuIcmhJxlV1Wnw1Omn/Po%2BtKxfiP8PPBnxc%2BH2ufCr4jaDFqvh/xLpFzpeuaZOzKl1aXETRTREoQwDIzDKkEZyCDzXz54B/4Ka/8J7470XwL/wAO%2Bf2ntF/trV7aw/tjX/hP9msLDzpVj8%2B5l%2B0nyoU3b3fB2qrHBxXs37SfjD4nfDz4BeL/AIg/Bnw5aaz4n0HQLnUtH0W9hd01KSBDKbUBHQh5VRo0bdhXdWIYAqevDYzDYyLlRldLfSS/9KjH9TtwePweYRcsPLmS0ekl5/ajH8LmNB%2Bxr%2BzwvhXxT4O1PwhqWr2fjXw3b6D4ql8ReK9T1O61Kwg%2B0%2BTHJc3dzJPvT7XPiUOJRuX5/kTbneB/2Cv2Wvh7qS654f8AAWpTakPFw8US6trXjHVtSvLjVxpE2jC7muLy6llnYafPLb4kZl2lTjciMvhviP8A4KP/ABN%2BJHha58Y/suNoeq2HiPx3NpHwoli8JLqjeINOsNIW61W9ka51vSraGOK78%2BAO1wu0WbgJK0g8vifBv7dXxG%2BLniPRPjxZfabXTvHnwy/Z31WPwo2v3v2HSp/EXi7Xba/kg%2BzTxbnMXkozHKTrawrMksS%2BUek7D7D8MfsnfAjwTY6JYeDvCd7pS%2BHPA1p4O0SbTvEeoQzWmi2rxvBarKk4c7TFHmQsZGAIZ2DMDo/G/wDZ6%2BFP7ROiafofxS0fUZhpGom%2B0i/0TxFfaRfWNwYZYGeG8sJobiLdDNNE4SQB0kZWBUkV8m/BP9qn9qD43ftSfCDxhqfirwj/AGJ47%2BFvj/W/Dnw90q6vdPa1ks7/AEaC2g1aUzXCXUsfmlGuEtojbSPcIsUmcn279t/VvEk%2BmfCj4by%2BKtV8O6R47%2BK9hofjPUvDeu3Gn3UNmdPv7pIIb23aKe38%2B9tbO18yNo5GW4KqVLigD0KT9nf4WJ4DHww0ax1jRdAi8OWGhWWmeGfFeo6VHp9jZkm3S0%2Bx3ERs3UHaZYCkroiIzssaKvO3f7Ev7P0/w8074W2Nh4t0vSNNury5B0D4l69pt3ez3bmS5lvbu1vY7i/eVyXdrmSUsx3Ek815f8ItR/aF%2BKf/AATb8b6H8J/iTdz%2BNLPUvHfhzwD4s1jVS1xcW%2Bn69qmn6ZcSXkoctKbW2gH2tw5dsTtv3HPmPw3%2BI2i2HhX42eFP2jX%2BMfhPwF4C8Z6EPDOiTfGDUb7xVNql3pcW7Q11HTNSmubmWW4mt5orNL2Vib2EEqrCGMA%2Bn9R/Yi/Zr1TUPDs9x4M1RNO8JwaZDoHhW18YarBoFsunFGsc6PHcrYSGBoomjZ4GKtDEQcxoR3V78MfA%2BofFDTfjNeaHv8S6RoF7oun6l9plHlWN3Paz3EPlhvLbfJZWrbmUsvlYUgMwb4w/ae8CftSfDz/gmZZ/EvxX451y0%2BJfw/8AAd/qeua4PjPqumz%2BG7VUluEuZLezP2PxJe2kccUfk3xjgu5IJN06rK5abT/j54/uP25fFPjf4oeHfE0/hLQ/jLofgHwlJp/xT1DTEsTqGgabdwPJ4ehC22pxyXF/K0txdOZYlZQkW21Z6APtO7/5HbT/APsFXn/oy2rUrLu/%2BR20/wD7BV5/6Mtq1KACiiigAooooAKKKKACiiigAooooAKKKKACiiigAooooAKKKKACiiigAooooAK8Z/Zf/wCS3/tHf9lmsf8A1CvC9ezV4z%2By/wD8lv8A2jv%2ByzWP/qFeF6APZqKKKACiiigAooooAKKKKACiiigAooooAKKKKACiiigAooooAKKKKACiiigArxnxx/ykL%2BF//ZGfHn/p28IV7NXzh%2B0fq/xr0f8Abw%2BE8/wO%2BH/hbxFqTfCPx2t3aeK/GFzosEcH9qeEiXSW30%2B9Z33bRsMajBJ35AUgH0fRXjP/AAnH/BQv/o1/4M/%2BH41b/wCZej/hOP8AgoX/ANGv/Bn/AMPxq3/zL0AezUV4z/wnH/BQv/o1/wCDP/h%2BNW/%2BZej/AITj/goX/wBGv/Bn/wAPxq3/AMy9AHs1FfOOk/tHft26x8Z9f%2BB1v%2Byh8JF1Tw74X0jXby5f466p5EkGo3OpW8KIR4Y3F1bS5ywKgAPHgsSwXqP%2BE4/4KF/9Gv8AwZ/8Pxq3/wAy9AHs1FeM/wDCcf8ABQv/AKNf%2BDP/AIfjVv8A5l6P%2BE4/4KF/9Gv/AAZ/8Pxq3/zL0AezUV4z/wAJx/wUL/6Nf%2BDP/h%2BNW/8AmXrl/AP7R37dvxE8V%2BN/CGj/ALKHwkhuPAfiiLQtVkufjrqgSeeTStP1MPFt8MElPJ1GFSWCnejjGAGYA%2BjqK8Z/4Tj/AIKF/wDRr/wZ/wDD8at/8y9H/Ccf8FC/%2BjX/AIM/%2BH41b/5l6APZqK8Z/wCE4/4KF/8ARr/wZ/8AD8at/wDMvR/wnH/BQv8A6Nf%2BDP8A4fjVv/mXoA9mor5x%2BEX7R37dvxl8KXfi/wAOfsofCS2t7PxRrehSR3vx11RXM%2Bl6rdaZO42%2BGGGxprSRkOclGUkKcqOo/wCE4/4KF/8ARr/wZ/8AD8at/wDMvQB7NRXjP/Ccf8FC/wDo1/4M/wDh%2BNW/%2BZej/hOP%2BChf/Rr/AMGf/D8at/8AMvQB7NRXjP8AwnH/AAUL/wCjX/gz/wCH41b/AOZeuX%2BCP7R37dvx4%2BDHhD44%2BFf2UPhJa6X4z8L6frum22ofHXVFnhgu7aO4jSQJ4YZQ4WQBgrMMg4JHNAH0dRXjP/Ccf8FC/wDo1/4M/wDh%2BNW/%2BZej/hOP%2BChf/Rr/AMGf/D8at/8AMvQB7NRXjP8AwnH/AAUL/wCjX/gz/wCH41b/AOZeuX%2BN37R37dvwH%2BDHi/44%2BKv2UPhJdaX4M8L6hrupW2n/AB11Rp5oLS2kuJEjD%2BGFUuVjIUMyjJGSBzQB9HUV4z/wnH/BQv8A6Nf%2BDP8A4fjVv/mXo/4Tj/goX/0a/wDBn/w/Grf/ADL0AezVDe6bp2pR%2BTqNhDcJ/dmiDj8iK8f/AOE4/wCChf8A0a/8Gf8Aw/Grf/MvR/wnH/BQv/o1/wCDP/h%2BNW/%2BZehpMalKLunZnoOp/Bn4P61n%2B2PhT4au89ftOhW8mf8AvpDWBqX7IX7JusZ/tf8AZf8Ah3dZ6/afBNg%2Bf%2B%2BojXmvxd/aO/bt%2BDXhS08X%2BI/2UPhJc2954o0TQo47L466ozifVNVtdMgc7vDCjYs13GznOQisQGOFPUf8Jx/wUL/6Nf8Agz/4fjVv/mXrGWGw0/ihF%2BsU/wA0elRzrOsN/BxVWP8Ahq1I/wDpNREmof8ABPP9g3VM/av2M/heCepg8DWER/NIhWHqH/BLD/gnbqeftP7IPgpc/wDPvpnk/wDositj/hOP%2BChf/Rr/AMGf/D8at/8AMvR/wnH/AAUL/wCjX/gz/wCH41b/AOZesJZZls/ioQf/AG5H/wCRPVo8ccbYf%2BFmmJj6Yiv/APLmcXqH/BG7/gmfqeftP7KGjLn/AJ99Uvof/QJxWRP/AMEPf%2BCYrSGay/Zxms5D/wAtLPxprKH8vteP0r0v/hOP%2BChf/Rr/AMGf/D8at/8AMvXL%2BPv2jv27fh34r8EeENY/ZQ%2BEk1x488US6FpUlt8ddUKQTx6VqGpl5d3hgEJ5OnTKCoY73QYwSy4SyPJZb4an/wCAR/yPTpeKPiZRVoZ3i1/3MVv1mzmf%2BHKf7DFtxomk%2BNtN9PsPxD1NcfTdMaX/AIc5fs523/IF%2BNPxo030%2Bw/FC7XH/fWa9N/4Tj/goX/0a/8ABn/w/Grf/MvR/wAJx/wUL/6Nf%2BDP/h%2BNW/8AmXqf7CybpQivRW/Jo1/4it4kv4s2ry/xSUv/AEunI8y/4dHeDLf/AJA37cf7TGnen2L4uSLj/vqA1S%2BCv7KU/wCzD/wUK8FpJ%2B0t8VviImtfBnxlsHxP8WjVTp3k6t4Vz9nPlJ5fmeaN/Xd5UfTbz61/wnH/AAUL/wCjX/gz/wCH41b/AOZeqHgfwP8AtWeMf2rPDnxu%2BN3w4%2BHvhnRvDPw98Q6HDD4V%2BId9rV1d3WpX2iXCMyXGkWKRRomlygsHdi0qALjJG1DKsvw1VVKVO0l5y/Jza/A8/NOP%2BMM7wM8Hj8W6lOdrp06Cbs0170cPCa1S2muzurp%2B60UUV6B8eFFFFABRRRQAV85fsQ%2BGNN8Lfs8eLL2x8wi9/aG8f6nfOwzg/wDCeapvbgdFSMfgtfRtfJX7JXiz9s7T/h74os/hj8A/hhq%2BhJ8afiL/AGfqOvfF3UdNu5l/4TPWSxktotAuUiIbcABM%2BQAcgnaE0m0%2BxcalSMJQT0la/nZ3X3PU%2BoP%2BE58E/wDQ4aX/AODCP/4ql/4TnwT/ANDhpX/gwj/%2BKry3/hOP%2BChf/Rr/AMGf/D8at/8AMvR/wnH/AAUL/wCjX/gz/wCH41b/AOZemQepf8Jz4J/6HDSv/BhH/wDFUf8ACc%2BCf%2Bhw0r/wYR//ABVeW/8ACcf8FC/%2BjX/gz/4fjVv/AJl6P%2BE4/wCChf8A0a/8Gf8Aw/Grf/MvQBqX3wM/Yo1T4caT8HdT%2BDvwtuPCOgXv2zQvCs/h7TX03TbndI3nQWxTyoZN0sp3ooOZHOfmOdDT/hx%2ByjpNra2WleA/h7bQ2VppNpZQ2%2Bl2KLbwaXPJcaZEgCgIlpPLLLbqMCCSR3jCsxJ8z%2BCP7R37dvx4%2BDHhD44%2BFf2UPhJa6X4z8L6frum22ofHXVFnhgu7aO4jSQJ4YZQ4WQBgrMMg4JHNdR/wnH/BQv8A6Nf%2BDP8A4fjVv/mXoA1bH4H/ALFWl%2BKdb8c6Z8IPhdb634lguofEesQeH9NS61WO6x9pS5lCb51l2r5gckPgbs4roPG%2BlfAD4meCLn4ZfEjTfB3iDw3eQpFd%2BHtchtLuxnjRlZEeCUNGyqyqQCuAVBHQVxX/AAnH/BQv/o1/4M/%2BH41b/wCZej/hOP8AgoX/ANGv/Bn/AMPxq3/zL0AdUPBP7MI8PW/hEeEfAY0m08Nz%2BHrXS/sFl9nh0icRrNpyR7dq2sghiDwAeWwiQFTtGOf1H9nH9g7V/hhY/BHVvgP8I7rwXpmp/wBo6b4RuPC%2BlvpdpeYcfaYrVozFHLiWQeYqhv3j8/Mc8b8bv2jv27fgP8GPF/xx8VfsofCS60vwZ4X1DXdSttP%2BOuqNPNBaW0lxIkYfwwqlysZChmUZIyQOa6j/AITj/goX/wBGv/Bn/wAPxq3/AMy9AFm6/Zv/AGDL6Dw7a33wF%2BEU0Xg9SvhKOXwtpbLogMvnEWgMf%2BjDzf3n7vb8/wA3Xmugv/A37L2q/FKz%2BOOqeD/AVz410%2B0NrYeMLjT7J9UtoCHBijuyvnImJJBtDAYduOTXLf8ACcf8FC/%2BjX/gz/4fjVv/AJl6P%2BE4/wCChf8A0a/8Gf8Aw/Grf/MvQB6TbavpeueMbW40XUYLuO30y5WeW2lDqjPJAVBK5AJCNx7Vu14z/wAJx/wUL/6Nf%2BDP/h%2BNW/8AmXrl/i7%2B0d%2B3b8GvClp4v8R/sofCS5t7zxRomhRx2Xx11RnE%2Bqara6ZA53eGFGxZruNnOchFYgMcKQD6Oorxn/hOP%2BChf/Rr/wAGf/D8at/8y9H/AAnH/BQv/o1/4M/%2BH41b/wCZegD2aivGf%2BE4/wCChf8A0a/8Gf8Aw/Grf/MvR/wnH/BQv/o1/wCDP/h%2BNW/%2BZegD2aivnHx9%2B0d%2B3b8O/FfgjwhrH7KHwkmuPHniiXQtKktvjrqhSCePStQ1MvLu8MAhPJ06ZQVDHe6DGCWXqP8AhOP%2BChf/AEa/8Gf/AA/Grf8AzL0AezUV4z/wnH/BQv8A6Nf%2BDP8A4fjVv/mXo/4Tj/goX/0a/wDBn/w/Grf/ADL0AezUV4z/AMJx/wAFC/8Ao1/4M/8Ah%2BNW/wDmXrl9W/aO/bt0f4z6B8Drj9lD4SNqniLwvq%2Bu2dynx11TyI4NOudNt5kcnwxuDs2qQFQFIISTJUhQwB9HUV4z/wAJx/wUL/6Nf%2BDP/h%2BNW/8AmXo/4Tj/AIKF/wDRr/wZ/wDD8at/8y9AHs1FeM/8Jx/wUL/6Nf8Agz/4fjVv/mXo/wCE4/4KF/8ARr/wZ/8AD8at/wDMvQB7NRXzjpP7R37dusfGfX/gdb/sofCRdU8O%2BF9I128uX%2BOuqeRJBqNzqVvCiEeGNxdW0ucsCoADx4LEsF6j/hOP%2BChf/Rr/AMGf/D8at/8AMvQB7NRXjP8AwnH/AAUL/wCjX/gz/wCH41b/AOZej/hOP%2BChf/Rr/wAGf/D8at/8y9AHs1FeM/8ACcf8FC/%2BjX/gz/4fjVv/AJl65fwD%2B0d%2B3b8RPFfjfwho/wCyh8JIbjwH4oi0LVZLn466oEnnk0rT9TDxbfDBJTydRhUlgp3o4xgBmAPo6ivGf%2BE4/wCChf8A0a/8Gf8Aw/Grf/MvR/wnH/BQv/o1/wCDP/h%2BNW/%2BZegD2avGf2X/APkt/wC0d/2Wax/9QrwvR/wnH/BQv/o1/wCDP/h%2BNW/%2BZerf7K3w5%2BNPg/WPih47%2BOmgeF9J1Tx98Qotcs9K8J%2BJbnVre1tYtB0fTFV7i4srNmkaTTpXKiLaFkQbmOcAHrdFFFABRRRQAUUUUAFFFFABRRRQAUUUUAFFFFABRRRQAUUUUAFFFFABRRRQAV8r/tPftafFz4YfGPxZrXgHw74Pk8MfB/w/4fvfGp1rSLibVdUt9Xv5UuYLC4juI0svItrOO4zJFOLmQpGRD5fmn6orxn4z/sQ/Dj43fFI/EzXPHPirS4tRtdItfF/hrRrq1TTvFMGl3sl7YxXyy28kwWOaaXP2eWAyxyGKYyxhUAB7NRRRQAUUUUAfMfhz9pX4mQ/t/wDij4P/ABG1jw94T8Nr4gtNE8GRaj8ItZS68YwDQINRxB4ja7XTmlju7nUALQQvJ5dpMAoLNIv05Xlfiz9lqDx/8ZNI%2BKfj343%2BNdX0rw9rsetaB4AuDpkWjWOoR27wRzhobJL2XZ5kkipNdSRiR92z5EC%2BqUAFFFFAHi//AAUF%2BLvxw/Z%2B/ZH8afHr4BXvhSPWPBOhXeuXUHjDRbm%2Btru0tbaWZ7dEtrq2ZJXZEUSFyqAsSj8CvP8Ax5%2B1p8XPBfx48W6n4U8O%2BEIvh54Q%2BMfhH4feMrObSLg63quq67BoqR6hDdpcLDHHB/bmkxmKS3leRIZ8Sx7UFew/tY/s42X7WnwI179n3Wvir4p8I6T4nspbHXL/AMILp32u5spYnimtt1/aXUaI6vyyIsgKja6854uD9gHwdP8AEWz%2BIvir44%2BPtdY6zpOueJtG1CXSorHxPrmmJGljq17HbWETLcRCC0wts0EDGxti8TGPJAPe6KKKACvF/wBsn4u/HD4JWvgHxj8LL3wp/Y2ofEzw54e8X2PiDRbm5urm11XWbHTQbOWG6hS2kjW5lk3yJOpKIuzkmvaK8q/au/Zbf9qrw3oXhef4%2B%2BN/A1voXiSw11G8Fw6Oz3d7Y3kF5ZtKdS0%2B8G2K4t43CxhA3Kyb1O0AHnH7PP7SvxM1v9qrxb8Efihq/h7wnp0PinW7fwT4Sk%2BEWs6Zc69bQukpv7fWri7%2Bwag7GSaWWK2gL8l2K4Yn6cryXSf2UQ/xk0X4y/Ef9oDx341m8L3d5d%2BE9C8QjSYbDR7q5t5LWS4iWw0%2B2llf7PNPCvnySqizvtAJBHrVABRRRQB4f%2B3d8XPjx%2Bz98GtX%2BOvwo8Y%2BBbHT/C2i3N5e6L4s8M3t/c%2BIb3KLZ6ZZyW17B9nmuJSLdG8q6ZpZ4gsLH5W8/wDgj%2B198Z9c%2BJfgr%2B1vBnhLSPhp43%2BJ/ij4beFfDWnaXNHq%2BiX%2BgQ6tvnnuRcNbzQSN4f1NFhjt4jGrWx8yTLAen/tK/sgwftJePPBHxAm/aB8d%2BELnwDd3N7otj4Yi0aezkvZUEa3k0Gp6deI88MfmLDIApjE8pHzNkVfAf7DXw98B/GW3%2BLsPxF8XalBp2u6nr2ieENSubL%2BydK1vUY3j1DVIEitUn8%2BcT3ZZXmeFGvrkxxR%2BZwAe10UUUAFfL/7XPx4/aX%2BC3xE0/wAKaVD4A8a6P45h1q20X4cxeD76TWEtbTQ7q7kv7icXrxXVsLqK3tpIRaxA/b4UExkZEk%2BoK8Om/YmuI/2j/Ff7TWiftV/EvTtX8W6bDp1zpcMHh%2Be00%2BzhgaOG2s2udJlubeJZXe62LNtedy7hwdtADP2EP2g/G/x7%2BHt5dfFfx9o194u04Wba/wCG7L4Xav4RvNAee2WUQXNlq91PcOC2/wAu4ASORUO0NtJr3SvN/gd%2Bzdp3wZ8T%2BJPiHrHxS8U%2BOPFXiuKxt9Y8T%2BLmsFuXtLMTfZbVItPtbW2jija5uXG2EMzXEhZmyMekUAFFFFAHxz/wUE/bj%2BKn7GHjn%2B09c0XQPGPhF9G1HW7fwrL8OdTspbdNN0a%2B1JJP%2BEimun0ye7%2B16aNlisCXQjmWUDbC0jevfs0fF3456t8VPG/7PX7R1z4U1DxP4R0nQ9aj1rwVpFzYWNzY6oLyNIjBc3Ny6yxXGnXal/NxIhibZGSVFb46/sJeCP2nNaurX4//ABb8a%2BKPBdzJcSL8MryTTYdFikmsZrJm329lHfSAR3EzBJbp0Dvu2/IgXp/2fP2ZtI%2BAd5r3iK7%2BKHizxx4j8SGzj1bxV41uLN76W2tIjFa2o%2Bx21vCsUQeVhiPezzyu7Ozk0AelUUUUAFfEf7U/7ZX7Wfwb%2BNXiD4UeDvDfhzxrqdhotxrvhgJ8D/EEcmigajplqhhb7c48TSCx1S487%2By/KeFoSsojEwjr7crw/Xv2LdT8S%2BPT8Tta/a5%2BKM2t6fBeReDbwpoAHhVbqaGSf7JGNJ2Ts0cC2%2B69W6ZYmcKVd2cgHVfssfFh/jJ8I4PFl78TNG8VX8Oo3Vlql9o3gy%2B8Oi2uIpWVrWbTdQuJ7qznjGFeOZw%2Bfm2qGAr0auG%2BAfwF8PfADwzqejaV4p1vxBqOv69ca34k8SeI5oGvdVv5giNPKLeKGBMRxQxKkMUcapEgCjBJ7mgAooooAKKKKACiiigAooooAo%2BKPENh4S8Naj4r1UObXTLGa7uREuW8uNC7YHc4U185/sTftJ/Gvx/4p0fwZ8bPD3gyzHjr4W2XxG8Mw%2BDNKuLQaZHeXBN3p92ZriUXc0b3Ns/2xBAJ2lmJgj2gv9LXdpa39rLY3tuk0M0bRzRSqGV1IwVIPBBHGK8h/Zm/Yr8Bfswaq%2Br6B8QfFviWW28MWPhnw6PFl7azDQNCs3ke3021Nvbwlo1MnzSzma4kEcXmTP5a4APYqKKKACuF/ag8efEX4Wfs0fET4nfB/wAKLr3i3w54F1fVPC2htYzXQ1HUbezlltrYwwMsswklRE8uNg7bsKQSDXdVneLdEv8AxL4Y1Dw/pfivUdCub20kht9a0hYGurF2UgTRC4iliLqeQJI3TI%2BZWGQQDy79in4tT/FD4Z31lq3xC8P6zqfh3VV0680zRPhhqfg59DQW0EkVncaVqlzPcwuEcSK7eWjxSxbEwN7%2BxV558B/2dtJ%2BB154l8R3PxE8SeMfEni/UYbzxF4p8VvZi7ujDbpbwRCOxtra2iijjQBVjhTJZ2YszMx9DoAKKKKAPlz9qj9rH4ofs4fF7xxZfErRvCXiL4X2H7O/i/x7baFb6JcJqrtog0tZ7a4uZLl7eaKdb6cBBbIVCJl3ywrt/wBmf4v/AB81T4ueMv2df2ln8JXnijwx4Y8PeJY9V8FaTc2NlJZas%2BpW62xhubm5cyw3GkXYMokCyI8TeXGdy1B8Y/2FfDvx0%2BOrfGXx58dvHMumzeCtT8I33w9hg0X%2BxLvRtSW2%2B32khfTWvSJ2tIHZxdB1KEIyIzIek/Z3/Zd0P9n2%2B1rxHP8AFDxb438Q6/a2Flf%2BJ/G1zaSXpsLFJFs7MfZLa3j8qIz3DglDI73Mru7s2aAPT6KKKACvkT41/tL/ALW3gzXf2gPAlv4V8GeLL3wF4f8ACniT4bWOk/D/AFO/nWPUdV1KEJeWsV48uozwLpsc6m2FuS5IVflVq%2Bu68Ll/Yo8QxfHTxt8f9C/bQ%2BK2lat430ix0y5sbKz8MNaabbWVxcz2aWwl0V5P3RvLpQZnlLrORJ5hVCoB1f7Knxbm%2BMvwpHibUfido3inUbXVbmx1a60fwRf%2BGzZ3ETfNaz6ZqNxPdWk6KV3JMwYhlbaqsK9JrhPgH8A9A%2BAOhazY6f4t1zxHqvibxBLrnifxN4klt2vdVv5IYYPNkFtDDBGFgt7eFUiijRUhQBc5J7ugAooooA%2BNv2lv2u/2lv2ePjNB8NtZT4Z%2BNb7W4IJvCMOneFr20l8F3mpeIdM8PaRNqcr30wuop21ecFols5HFjdLGGXzDF7j%2Byr8X/iR8Rh4/%2BH3xiOiT%2BKvhp48bw1rOq%2BGtOms7DU/M0vTtWt7iG3mnnkt82uqW6PG00uJI5MMQRjhbb/gmr4Sa6%2BIb%2BIf2l/idrNv8SdeOuaxb6kdC8yz1KK4hn0%2B5trqLS0ulNg9vbi0jeaSKJYUDI/OfWPgH8BdD%2BAfh7VtNsvF%2BueJNW8Ra9NrXifxR4le2N/q99JHFD50wtYIIF2QQW8CJFFGixwRqF4JIB3VFFFADLn7T9mk%2Bx7PO2HyvNzt3Y4zjnGa%2BIPit%2B1z%2B2n8NPiJrnw2t7bwH4z17wxe%2BGrfVvHXgj4K6/q0fhy31Zrx72wl0qz1Ke7uZo4bKxuiYp0/d3ULSwIDE0n29dwyXFrLbw3UkDyRsqzxBS8ZIwGXcCuR1GQR6g189/Bj9gLxB8BPhtcfDT4d/t1fGKKO61Z9Tm1m8svCc%2BoS3cryyXM80z6EftMk7y7pJJxI%2BY02FAMEA9Z%2BAnxDsvit8HfD/AMQrD4gaN4qTU9PEj6/4f0mawtLuQErIUtZ5ppbYq6sjQySO8bKysdykDr65L4F/Bfwl%2Bz78L9O%2BFPgq5v7iysJbq4mvtVuRNdX13dXMt1dXUzhVDSzXE80r7VVd0h2qq4UdbQAVR8Tw%2BJLnw3qFv4N1OxstXkspV0u81Owe6toLgoRHJLDHLE00atgsiyRlgCA6k7herN8Y6Df%2BKPC1/wCHdL8W6loNzeWrxQa1o4gN1YuRxNELiKWIup5AkjdDj5lYZFAHw98N/wBuz9rX4wfFPW/gl8LNN%2BHyeM9NtddvpPGfiv4Xa1oa6ppmkWuiypYy6JeXyahp8r3fiHYk08zx%2BVDJcJC6zoD9jfAL4tab8fPgT4K%2BOujabLZ2fjXwlpuvWlnM%2B54Iry1juFjYgDJUSAE%2BorxbV/8AgmR4H1rXL74i3f7SnxTT4gasl5a618Sba90iHVr/AEy6trW2m0wommizhtillaMPItopVkgWVZQ5Zj9B%2BC/B/hr4eeDtJ8AeDNJi0/R9D0yDT9JsIc7La2hjWOKNc84VFVR9KANOiiigDl/jTqPjjRvhbrWt/DnxDY6Xq1hZm6hvtQ8H3viBEjjIeUDTrGeC5vJGiV1SKGQOXZcK5%2BRvi34S/wDBRH4/eJPGmh6n43uPCPgTwZqU86%2BIPHF58DPEU1trF/Dr91pCJcyrfRp4ZnktbS1/cao0ksDyrG%2BdgSvtv4meDNd8e%2BEpvDnhv4pa/wCDbySWN4tf8MxWL3cG1gSqrf21zAwYAqQ8TcE4wcEeK3X/AATm8Kah4PuPhtq37SHxNu/DGuahNf8AjzQJrjRxF4wu57xrq4mvpV00XEXmllhaOzltYhDEkaoo3bgD6JooooAKKKKACiiigAooooAKKKKACiiigAooooAKKKKACiiigAooooAKKKKACiiigAooooAKKKKACiiigAooooAKKKKACiiigAooooAKKKKACiiigAooooAKKKKACiiigAooooAKKKKACiiigAooooAKKKKACiiigAooooAKKKKACiiigAooooAKKKKACiiigAooooAKKKKACiiigAooooAKKKKACiiigAooooAKKKKACiiigAooooAKKKKACiiigAooooAKKKKACiiigAooooAKKKKACiiigAooooAKKKKACiiigAooooAKKKKACiiigAooooA//9k%3D\">"
      ]
     },
     "metadata": {},
     "output_type": "display_data"
    }
   ],
   "source": [
    "s.run(tf.global_variables_initializer())\n",
    "\n",
    "BATCH_SIZE = 512\n",
    "EPOCHS = 40\n",
    "#EPOCHS = 60\n",
    "\n",
    "# for logging the progress right here in Jupyter (for those who don't have TensorBoard)\n",
    "simpleTrainingCurves = matplotlib_utils.SimpleTrainingCurves(\"cross-entropy\", \"accuracy\")\n",
    "\n",
    "for epoch in range(EPOCHS):  # we finish an epoch when we've looked at all training samples\n",
    "    \n",
    "    batch_losses = []\n",
    "    for batch_start in range(0, X_train_flat.shape[0], BATCH_SIZE):  # data is already shuffled\n",
    "        _, batch_loss = s.run([step, loss], {input_X: X_train_flat[batch_start:batch_start+BATCH_SIZE], \n",
    "                                             input_y: y_train_oh[batch_start:batch_start+BATCH_SIZE]})\n",
    "        # collect batch losses, this is almost free as we need a forward pass for backprop anyway\n",
    "        batch_losses.append(batch_loss)\n",
    "\n",
    "    train_loss = np.mean(batch_losses)\n",
    "    val_loss = s.run(loss, {input_X: X_val_flat, input_y: y_val_oh})  # this part is usually small\n",
    "    train_accuracy = accuracy_score(y_train, s.run(classes, {input_X: X_train_flat}))  # this is slow and usually skipped\n",
    "    valid_accuracy = accuracy_score(y_val, s.run(classes, {input_X: X_val_flat}))  \n",
    "    simpleTrainingCurves.add(train_loss, val_loss, train_accuracy, valid_accuracy)"
   ]
  },
  {
   "cell_type": "markdown",
   "metadata": {},
   "source": [
    "# Submit a linear model"
   ]
  },
  {
   "cell_type": "code",
   "execution_count": 73,
   "metadata": {},
   "outputs": [
    {
     "name": "stdout",
     "output_type": "stream",
     "text": [
      "784 10 10 None 784 None 10 None 10 None 10 None\n",
      "0.290216190889\n",
      "0.9238\n"
     ]
    }
   ],
   "source": [
    "'''\n",
    "print(W.shape)\n",
    "print(b.shape)\n",
    "print(input_y.shape)\n",
    "print(input_X.shape)\n",
    "print(logits.shape)\n",
    "print(probas.shape)\n",
    "print(classes.shape)\n",
    "'''\n",
    "print(grading_utils.get_tensors_shapes_string([W, b, input_X, input_y, logits, probas, classes]))\n",
    "print(s.run(loss, {input_X: X_val_flat, input_y: y_val_oh}))\n",
    "print(accuracy_score(y_val, s.run(classes, {input_X: X_val_flat})))"
   ]
  },
  {
   "cell_type": "code",
   "execution_count": 74,
   "metadata": {},
   "outputs": [
    {
     "name": "stdout",
     "output_type": "stream",
     "text": [
      "(?,)\n"
     ]
    }
   ],
   "source": [
    "print(classes.shape)"
   ]
  },
  {
   "cell_type": "code",
   "execution_count": 31,
   "metadata": {
    "collapsed": true
   },
   "outputs": [],
   "source": [
    "grader.set_answer(\"RMv95\", accuracy_score(y_val, s.run(classes, {input_X: X_val_flat})))"
   ]
  },
  {
   "cell_type": "code",
   "execution_count": 32,
   "metadata": {
    "collapsed": true
   },
   "outputs": [],
   "source": [
    "grader.set_answer(\"vmogZ\", s.run(loss, {input_X: X_val_flat, input_y: y_val_oh}))"
   ]
  },
  {
   "cell_type": "code",
   "execution_count": 33,
   "metadata": {
    "collapsed": true
   },
   "outputs": [],
   "source": [
    "grader.set_answer(\"9XaAS\", grading_utils.get_tensors_shapes_string([W, b, input_X, input_y, logits, probas, classes]))"
   ]
  },
  {
   "cell_type": "code",
   "execution_count": 75,
   "metadata": {
    "collapsed": true
   },
   "outputs": [],
   "source": [
    "## GRADED PART, DO NOT CHANGE!\n",
    "# Testing shapes \n",
    "grader.set_answer(\"9XaAS\", grading_utils.get_tensors_shapes_string([W, b, input_X, input_y, logits, probas, classes]))\n",
    "# Validation loss\n",
    "grader.set_answer(\"vmogZ\", s.run(loss, {input_X: X_val_flat, input_y: y_val_oh}))\n",
    "# Validation accuracy\n",
    "grader.set_answer(\"RMv95\", accuracy_score(y_val, s.run(classes, {input_X: X_val_flat})))"
   ]
  },
  {
   "cell_type": "code",
   "execution_count": 76,
   "metadata": {},
   "outputs": [
    {
     "name": "stdout",
     "output_type": "stream",
     "text": [
      "Submitted to Coursera platform. See results on assignment page!\n"
     ]
    }
   ],
   "source": [
    "# you can make submission with answers so far to check yourself at this stage\n",
    "#grader.submit(COURSERA_EMAIL, COURSERA_TOKEN)\n",
    "grader.submit(\"anshumanmah@gmail.com\",\"eb6UtpkLBFeLrzIB\")"
   ]
  },
  {
   "cell_type": "markdown",
   "metadata": {},
   "source": [
    "# MLP with hidden layers"
   ]
  },
  {
   "cell_type": "markdown",
   "metadata": {},
   "source": [
    "Previously we've coded a dense layer with matrix multiplication by hand. \n",
    "But this is not convenient, you have to create a lot of variables and your code becomes a mess. \n",
    "In TensorFlow there's an easier way to make a dense layer:\n",
    "```python\n",
    "hidden1 = tf.layers.dense(inputs, 256, activation=tf.nn.sigmoid)\n",
    "```\n",
    "\n",
    "That will create all the necessary variables automatically.\n",
    "Here you can also choose an activation function (remember that we need it for a hidden layer!).\n",
    "\n",
    "Now define the MLP with 2 hidden layers and restart training with the cell above.\n",
    "\n",
    "You're aiming for ~0.97 validation accuracy here."
   ]
  },
  {
   "cell_type": "code",
   "execution_count": 77,
   "metadata": {},
   "outputs": [
    {
     "name": "stdout",
     "output_type": "stream",
     "text": [
      "Tensor(\"predictions_2:0\", shape=(?,), dtype=int64)\n",
      "Tensor(\"loss_1:0\", shape=(), dtype=float64)\n",
      "name: \"Adam_1\"\n",
      "op: \"NoOp\"\n",
      "input: \"^Adam_1/update_dense/kernel/ApplyAdam\"\n",
      "input: \"^Adam_1/update_dense/bias/ApplyAdam\"\n",
      "input: \"^Adam_1/update_dense_1/kernel/ApplyAdam\"\n",
      "input: \"^Adam_1/update_dense_1/bias/ApplyAdam\"\n",
      "input: \"^Adam_1/update_dense_2/kernel/ApplyAdam\"\n",
      "input: \"^Adam_1/update_dense_2/bias/ApplyAdam\"\n",
      "input: \"^Adam_1/Assign\"\n",
      "input: \"^Adam_1/Assign_1\"\n",
      "\n"
     ]
    }
   ],
   "source": [
    "# write the code here to get a new `step` operation and then run the cell with training loop above.\n",
    "# name your variables in the same way (e.g. logits, probas, classes, etc) for safety.\n",
    "### YOUR CODE HERE ###\n",
    "hidden1 = tf.layers.dense(inputs=input_X, units=256, activation=tf.nn.sigmoid)\n",
    "hidden2 = tf.layers.dense(inputs=hidden1, units=256, activation=tf.nn.sigmoid)\n",
    "logits = tf.layers.dense(inputs=hidden2, units=10)\n",
    "\n",
    "#probas = tf.reduce_mean(tf.nn.softmax_cross_entropy_with_logits(labels=input_y, logits=logits),name='loss')### YOUR CODE HERE ### apply tf.nn.softmax to logits\n",
    "probas = tf.nn.softmax(logits=logits)\n",
    "classes = tf.argmax(probas, 1)### YOUR CODE HERE ### apply tf.argmax to find a class index with highest probability\n",
    "correct_prediction= tf.equal(tf.argmax(logits, 1), tf.argmax(input_y, 1), name='correct_pred')\n",
    "predicted_y =tf.argmax(logits, axis=1, name='predictions')\n",
    "accuracy = tf.reduce_mean(tf.cast(correct_prediction, tf.float32), name='accuracy')\n",
    "\n",
    "#tf.equal(tf.argmax(output_logits, 1), tf.argmax(y, 1), name='correct_pred')\n",
    "print(predicted_y)\n",
    "# Loss should be a scalar number: average loss over all the objects with tf.reduce_mean().\n",
    "# Use tf.nn.softmax_cross_entropy_with_logits on top of one-hot encoded input_y and logits.\n",
    "# It is identical to calculating cross-entropy on top of probas, but is more numerically friendly (read the docs).\n",
    "#loss = ### YOUR CODE HERE ### cross-entropy loss\n",
    "loss = tf.reduce_mean(tf.nn.softmax_cross_entropy_with_logits(labels=input_y, logits=logits), name='loss')\n",
    "#loss = -tf.reduce_mean(tf.log(predicted_y)*input_y + tf.log(1-predicted_y)*(1-input_y))\n",
    "print(loss)\n",
    "\n",
    "# Use a default tf.train.AdamOptimizer to get an SGD step\n",
    "step = tf.train.AdamOptimizer(0.01).minimize(loss)\n",
    "print(step)### YOUR CODE HERE ### optimizer step that minimizes the loss"
   ]
  },
  {
   "cell_type": "code",
   "execution_count": null,
   "metadata": {},
   "outputs": [],
   "source": [
    "s.run(tf.global_variables_initializer())\n",
    "\n",
    "BATCH_SIZE = 512\n",
    "EPOCHS = 40\n",
    "\n",
    "# for logging the progress right here in Jupyter (for those who don't have TensorBoard)\n",
    "simpleTrainingCurves = matplotlib_utils.SimpleTrainingCurves(\"cross-entropy\", \"accuracy\")\n",
    "\n",
    "for epoch in range(EPOCHS):  # we finish an epoch when we've looked at all training samples\n",
    "    \n",
    "    batch_losses = []\n",
    "    for batch_start in range(0, X_train_flat.shape[0], BATCH_SIZE):  # data is already shuffled\n",
    "        _, batch_loss = s.run([step, loss], {input_X: X_train_flat[batch_start:batch_start+BATCH_SIZE], \n",
    "                                             input_y: y_train_oh[batch_start:batch_start+BATCH_SIZE]})\n",
    "        # collect batch losses, this is almost free as we need a forward pass for backprop anyway\n",
    "        batch_losses.append(batch_loss)\n",
    "\n",
    "    train_loss = np.mean(batch_losses)\n",
    "    val_loss = s.run(loss, {input_X: X_val_flat, input_y: y_val_oh})  # this part is usually small\n",
    "    train_accuracy = accuracy_score(y_train, s.run(classes, {input_X: X_train_flat}))  # this is slow and usually skipped\n",
    "    valid_accuracy = accuracy_score(y_val, s.run(classes, {input_X: X_val_flat}))  \n",
    "    simpleTrainingCurves.add(train_loss, val_loss, train_accuracy, valid_accuracy)"
   ]
  },
  {
   "cell_type": "markdown",
   "metadata": {},
   "source": [
    "# Submit the MLP with 2 hidden layers\n",
    "Run these cells after training the MLP with 2 hidden layers"
   ]
  },
  {
   "cell_type": "code",
   "execution_count": 72,
   "metadata": {
    "collapsed": true
   },
   "outputs": [],
   "source": [
    "## GRADED PART, DO NOT CHANGE!\n",
    "# Validation loss for MLP\n",
    "grader.set_answer(\"i8bgs\", s.run(loss, {input_X: X_val_flat, input_y: y_val_oh}))\n",
    "# Validation accuracy for MLP\n",
    "grader.set_answer(\"rE763\", accuracy_score(y_val, s.run(classes, {input_X: X_val_flat})))"
   ]
  },
  {
   "cell_type": "code",
   "execution_count": 73,
   "metadata": {},
   "outputs": [
    {
     "name": "stdout",
     "output_type": "stream",
     "text": [
      "Submitted to Coursera platform. See results on assignment page!\n"
     ]
    }
   ],
   "source": [
    "# you can make submission with answers so far to check yourself at this stage\n",
    "grader.submit(\"anshumanmah@gmail.com\",\"Kh2rOnbzeJPeMEUs\")"
   ]
  },
  {
   "cell_type": "code",
   "execution_count": null,
   "metadata": {
    "collapsed": true
   },
   "outputs": [],
   "source": []
  }
 ],
 "metadata": {
  "kernelspec": {
   "display_name": "Python 3",
   "language": "python",
   "name": "python3"
  },
  "language_info": {
   "codemirror_mode": {
    "name": "ipython",
    "version": 3
   },
   "file_extension": ".py",
   "mimetype": "text/x-python",
   "name": "python",
   "nbconvert_exporter": "python",
   "pygments_lexer": "ipython3",
   "version": "3.6.2"
  }
 },
 "nbformat": 4,
 "nbformat_minor": 1
}
