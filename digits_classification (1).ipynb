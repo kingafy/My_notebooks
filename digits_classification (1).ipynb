{
 "cells": [
  {
   "cell_type": "markdown",
   "metadata": {
    "slideshow": {
     "slide_type": "slide"
    }
   },
   "source": [
    "# MNIST digits classification with TensorFlow"
   ]
  },
  {
   "cell_type": "markdown",
   "metadata": {},
   "source": [
    "<img src=\"images/mnist_sample.png\" style=\"width:30%\">"
   ]
  },
  {
   "cell_type": "code",
   "execution_count": null,
   "metadata": {},
   "outputs": [],
   "source": [
    "import numpy as np\n",
    "from sklearn.metrics import accuracy_score\n",
    "from matplotlib import pyplot as plt\n",
    "%matplotlib inline\n",
    "import tensorflow as tf\n",
    "print(\"We're using TF\", tf.__version__)"
   ]
  },
  {
   "cell_type": "code",
   "execution_count": null,
   "metadata": {},
   "outputs": [],
   "source": [
    "import sys\n",
    "sys.path.append(\"../..\")\n",
    "import grading\n",
    "\n",
    "import matplotlib_utils\n",
    "from importlib import reload\n",
    "reload(matplotlib_utils)\n",
    "\n",
    "import grading_utils\n",
    "reload(grading_utils)\n",
    "\n",
    "import keras_utils\n",
    "from keras_utils import reset_tf_session"
   ]
  },
  {
   "cell_type": "markdown",
   "metadata": {},
   "source": [
    "# Fill in your Coursera token and email\n",
    "To successfully submit your answers to our grader, please fill in your Coursera submission token and email"
   ]
  },
  {
   "cell_type": "code",
   "execution_count": null,
   "metadata": {
    "collapsed": true
   },
   "outputs": [],
   "source": [
    "grader = grading.Grader(assignment_key=\"XtD7ho3TEeiHQBLWejjYAA\", \n",
    "                        all_parts=[\"9XaAS\", \"vmogZ\", \"RMv95\", \"i8bgs\", \"rE763\"])"
   ]
  },
  {
   "cell_type": "code",
   "execution_count": 36,
   "metadata": {
    "collapsed": true
   },
   "outputs": [],
   "source": [
    "# token expires every 30 min\n",
    "COURSERA_TOKEN = \"DvrBUZPWQDj8M2hy\"\n",
    "COURSERA_EMAIL = \"anshumanmah@gmail.com\""
   ]
  },
  {
   "cell_type": "markdown",
   "metadata": {},
   "source": [
    "# Look at the data\n",
    "\n",
    "In this task we have 50000 28x28 images of digits from 0 to 9.\n",
    "We will train a classifier on this data."
   ]
  },
  {
   "cell_type": "code",
   "execution_count": 9,
   "metadata": {},
   "outputs": [],
   "source": [
    "import preprocessed_mnist\n",
    "X_train, y_train, X_val, y_val, X_test, y_test = preprocessed_mnist.load_dataset_from_file()"
   ]
  },
  {
   "cell_type": "code",
   "execution_count": 10,
   "metadata": {},
   "outputs": [
    {
     "name": "stdout",
     "output_type": "stream",
     "text": [
      "X_train [shape (50000, 28, 28)] sample patch:\n",
      " [[ 0.          0.29803922  0.96470588  0.98823529  0.43921569]\n",
      " [ 0.          0.33333333  0.98823529  0.90196078  0.09803922]\n",
      " [ 0.          0.33333333  0.98823529  0.8745098   0.        ]\n",
      " [ 0.          0.33333333  0.98823529  0.56862745  0.        ]\n",
      " [ 0.          0.3372549   0.99215686  0.88235294  0.        ]]\n",
      "A closeup of a sample patch:\n"
     ]
    },
    {
     "data": {
      "image/png": "[encoded data removed]",
      "text/plain": [
       "<matplotlib.figure.Figure at 0x7fef68f57710>"
      ]
     },
     "metadata": {},
     "output_type": "display_data"
    },
    {
     "name": "stdout",
     "output_type": "stream",
     "text": [
      "And the whole sample:\n"
     ]
    },
    {
     "data": {
      "image/png": "[encoded data removed]",
      "text/plain": [
       "<matplotlib.figure.Figure at 0x7fef68f579e8>"
      ]
     },
     "metadata": {},
     "output_type": "display_data"
    },
    {
     "name": "stdout",
     "output_type": "stream",
     "text": [
      "y_train [shape (50000,)] 10 samples:\n",
      " [5 0 4 1 9 2 1 3 1 4]\n"
     ]
    }
   ],
   "source": [
    "# X contains rgb values divided by 255\n",
    "print(\"X_train [shape %s] sample patch:\\n\" % (str(X_train.shape)), X_train[1, 15:20, 5:10])\n",
    "print(\"A closeup of a sample patch:\")\n",
    "plt.imshow(X_train[1, 15:20, 5:10], cmap=\"Greys\")\n",
    "plt.show()\n",
    "print(\"And the whole sample:\")\n",
    "plt.imshow(X_train[1], cmap=\"Greys\")\n",
    "plt.show()\n",
    "print(\"y_train [shape %s] 10 samples:\\n\" % (str(y_train.shape)), y_train[:10])"
   ]
  },
  {
   "cell_type": "markdown",
   "metadata": {},
   "source": [
    "# Linear model\n",
    "\n",
    "Your task is to train a linear classifier $\\vec{x} \\rightarrow y$ with SGD using TensorFlow.\n",
    "\n",
    "You will need to calculate a logit (a linear transformation) $z_k$ for each class: \n",
    "$$z_k = \\vec{x} \\cdot \\vec{w_k} + b_k \\quad k = 0..9$$\n",
    "\n",
    "And transform logits $z_k$ to valid probabilities $p_k$ with softmax: \n",
    "$$p_k = \\frac{e^{z_k}}{\\sum_{i=0}^{9}{e^{z_i}}} \\quad k = 0..9$$\n",
    "\n",
    "We will use a cross-entropy loss to train our multi-class classifier:\n",
    "$$\\text{cross-entropy}(y, p) = -\\sum_{k=0}^{9}{\\log(p_k)[y = k]}$$ \n",
    "\n",
    "where \n",
    "$$\n",
    "[x]=\\begin{cases}\n",
    "       1, \\quad \\text{if $x$ is true} \\\\\n",
    "       0, \\quad \\text{otherwise}\n",
    "    \\end{cases}\n",
    "$$\n",
    "\n",
    "Cross-entropy minimization pushes $p_k$ close to 1 when $y = k$, which is what we want.\n",
    "\n",
    "Here's the plan:\n",
    "* Flatten the images (28x28 -> 784) with `X_train.reshape((X_train.shape[0], -1))` to simplify our linear model implementation\n",
    "* Use a matrix placeholder for flattened `X_train`\n",
    "* Convert `y_train` to one-hot encoded vectors that are needed for cross-entropy\n",
    "* Use a shared variable `W` for all weights (a column $\\vec{w_k}$ per class) and `b` for all biases.\n",
    "* Aim for ~0.93 validation accuracy"
   ]
  },
  {
   "cell_type": "code",
   "execution_count": 11,
   "metadata": {
    "collapsed": true
   },
   "outputs": [],
   "source": [
    "X_flat = X_train.reshape((X_train.shape[0],-1))"
   ]
  },
  {
   "cell_type": "code",
   "execution_count": 12,
   "metadata": {},
   "outputs": [
    {
     "name": "stdout",
     "output_type": "stream",
     "text": [
      "(50000, 784)\n"
     ]
    }
   ],
   "source": [
    "print(X_flat.shape)"
   ]
  },
  {
   "cell_type": "code",
   "execution_count": 13,
   "metadata": {},
   "outputs": [
    {
     "name": "stdout",
     "output_type": "stream",
     "text": [
      "(50000, 784)\n",
      "(10000, 784)\n"
     ]
    }
   ],
   "source": [
    "X_train_flat = X_train.reshape((X_train.shape[0], -1))\n",
    "print(X_train_flat.shape)\n",
    "\n",
    "X_val_flat = X_val.reshape((X_val.shape[0], -1))\n",
    "print(X_val_flat.shape)"
   ]
  },
  {
   "cell_type": "code",
   "execution_count": 14,
   "metadata": {},
   "outputs": [
    {
     "name": "stdout",
     "output_type": "stream",
     "text": [
      "(50000, 10)\n",
      "[[ 0.  0.  0.  0.  0.  1.  0.  0.  0.  0.]\n",
      " [ 1.  0.  0.  0.  0.  0.  0.  0.  0.  0.]\n",
      " [ 0.  0.  0.  0.  1.  0.  0.  0.  0.  0.]] [5 0 4]\n"
     ]
    }
   ],
   "source": [
    "import keras\n",
    "\n",
    "y_train_oh = keras.utils.to_categorical(y_train, 10)\n",
    "y_val_oh = keras.utils.to_categorical(y_val, 10)\n",
    "\n",
    "print(y_train_oh.shape)\n",
    "print(y_train_oh[:3], y_train[:3])"
   ]
  },
  {
   "cell_type": "code",
   "execution_count": 15,
   "metadata": {
    "collapsed": true
   },
   "outputs": [],
   "source": [
    "# run this again if you remake your graph\n",
    "s = reset_tf_session()"
   ]
  },
  {
   "cell_type": "code",
   "execution_count": 27,
   "metadata": {},
   "outputs": [
    {
     "name": "stdout",
     "output_type": "stream",
     "text": [
      "<tf.Variable 'weights_1:0' shape=(784, 10) dtype=float32_ref>\n",
      "<tf.Variable 'b_1:0' shape=() dtype=float32_ref>\n"
     ]
    }
   ],
   "source": [
    "# Model parameters: W and b\n",
    "'''\n",
    "W = ### YOUR CODE HERE ### tf.get_variable(...) with shape[0] = 784\n",
    "b = ### YOUR CODE HERE ### tf.get_variable(...)\n",
    "'''\n",
    "W = tf.Variable(initial_value=np.random.randn(X_train_flat.shape[1], 10)*0.01, name=\"weights\", dtype=\"float32\")\n",
    "b = tf.Variable(initial_value=0, name=\"b\", dtype=\"float32\")\n",
    "print(W)\n",
    "print(b)"
   ]
  },
  {
   "cell_type": "code",
   "execution_count": 28,
   "metadata": {},
   "outputs": [
    {
     "name": "stdout",
     "output_type": "stream",
     "text": [
      "Tensor(\"input_X_1:0\", shape=(?, 784), dtype=float32)\n",
      "Tensor(\"input_y_1:0\", shape=(?, 10), dtype=float32)\n"
     ]
    }
   ],
   "source": [
    "# Placeholders for the input data\n",
    "#input_X = ### YOUR CODE HERE ### tf.placeholder(...) for flat X with shape[0] = None for any batch size\n",
    "#input_y = ### YOUR CODE HERE ### tf.placeholder(...) for one-hot encoded true labels\n",
    "input_X = tf.placeholder(tf.float32, shape=(None, 784),name=\"input_X\")\n",
    "input_y = tf.placeholder(tf.float32, shape=(None, 10),name=\"input_y\")\n",
    "print(input_X)\n",
    "print(input_y)"
   ]
  },
  {
   "cell_type": "code",
   "execution_count": 29,
   "metadata": {},
   "outputs": [
    {
     "name": "stdout",
     "output_type": "stream",
     "text": [
      "Tensor(\"predictions_3:0\", shape=(?,), dtype=int64)\n",
      "Tensor(\"loss_4:0\", shape=(), dtype=float32)\n",
      "name: \"GradientDescent_2\"\n",
      "op: \"NoOp\"\n",
      "input: \"^GradientDescent_2/update_weights_1/ApplyGradientDescent\"\n",
      "input: \"^GradientDescent_2/update_b_1/ApplyGradientDescent\"\n",
      "\n"
     ]
    }
   ],
   "source": [
    "# Compute predictions\n",
    "\n",
    "output_logits = tf.matmul(input_X, W) + b ### YOUR CODE HERE ### logits for input_X, resulting shape should be [input_X.shape[0], 10]\n",
    "\n",
    "probas = tf.reduce_mean(tf.nn.softmax_cross_entropy_with_logits(labels=input_y, logits=output_logits),name='loss')### YOUR CODE HERE ### apply tf.nn.softmax to logits\n",
    "classes = tf.argmax(output_logits, axis=1, name='predictions')### YOUR CODE HERE ### apply tf.argmax to find a class index with highest probability\n",
    "correct_prediction= tf.equal(tf.argmax(output_logits, 1), tf.argmax(input_y, 1), name='correct_pred')\n",
    "predicted_y =tf.argmax(output_logits, axis=1, name='predictions')\n",
    "accuracy = tf.reduce_mean(tf.cast(correct_prediction, tf.float32), name='accuracy')\n",
    "\n",
    "#tf.equal(tf.argmax(output_logits, 1), tf.argmax(y, 1), name='correct_pred')\n",
    "print(predicted_y)\n",
    "# Loss should be a scalar number: average loss over all the objects with tf.reduce_mean().\n",
    "# Use tf.nn.softmax_cross_entropy_with_logits on top of one-hot encoded input_y and logits.\n",
    "# It is identical to calculating cross-entropy on top of probas, but is more numerically friendly (read the docs).\n",
    "#loss = ### YOUR CODE HERE ### cross-entropy loss\n",
    "loss = tf.reduce_mean(tf.nn.softmax_cross_entropy_with_logits(labels=input_y, logits=output_logits), name='loss')\n",
    "#loss = -tf.reduce_mean(tf.log(predicted_y)*input_y + tf.log(1-predicted_y)*(1-input_y))\n",
    "print(loss)\n",
    "\n",
    "# Use a default tf.train.AdamOptimizer to get an SGD step\n",
    "step = tf.train.GradientDescentOptimizer(0.01).minimize(loss)\n",
    "print(step)### YOUR CODE HERE ### optimizer step that minimizes the loss\n"
   ]
  },
  {
   "cell_type": "code",
   "execution_count": 30,
   "metadata": {},
   "outputs": [
    {
     "name": "stdout",
     "output_type": "stream",
     "text": [
      "(?, 10)\n",
      "(50000, 10)\n"
     ]
    }
   ],
   "source": [
    "print(input_y.shape)\n",
    "print(y_train_oh.shape)"
   ]
  },
  {
   "cell_type": "code",
   "execution_count": 31,
   "metadata": {
    "scrolled": false
   },
   "outputs": [
    {
     "data": {
      "text/html": [
       "<img src=\"data:image/jpeg;base64,/9j/4AAQSkZJRgABAQAAAQABAAD/2wBDAAIBAQEBAQIBAQECAgICAgQDAgICAgUEBAMEBgUGBgYFBgYGBwkIBgcJBwYGCAsICQoKCgoKBggLDAsKDAkKCgr/2wBDAQICAgICAgUDAwUKBwYHCgoKCgoKCgoKCgoKCgoKCgoKCgoKCgoKCgoKCgoKCgoKCgoKCgoKCgoKCgoKCgoKCgr/wAARCAEgA2ADASIAAhEBAxEB/8QAHwAAAQUBAQEBAQEAAAAAAAAAAAECAwQFBgcICQoL/8QAtRAAAgEDAwIEAwUFBAQAAAF9AQIDAAQRBRIhMUEGE1FhByJxFDKBkaEII0KxwRVS0fAkM2JyggkKFhcYGRolJicoKSo0NTY3ODk6Q0RFRkdISUpTVFVWV1hZWmNkZWZnaGlqc3R1dnd4eXqDhIWGh4iJipKTlJWWl5iZmqKjpKWmp6ipqrKztLW2t7i5usLDxMXGx8jJytLT1NXW19jZ2uHi4%2BTl5ufo6erx8vP09fb3%2BPn6/8QAHwEAAwEBAQEBAQEBAQAAAAAAAAECAwQFBgcICQoL/8QAtREAAgECBAQDBAcFBAQAAQJ3AAECAxEEBSExBhJBUQdhcRMiMoEIFEKRobHBCSMzUvAVYnLRChYkNOEl8RcYGRomJygpKjU2Nzg5OkNERUZHSElKU1RVVldYWVpjZGVmZ2hpanN0dXZ3eHl6goOEhYaHiImKkpOUlZaXmJmaoqOkpaanqKmqsrO0tba3uLm6wsPExcbHyMnK0tPU1dbX2Nna4uPk5ebn6Onq8vP09fb3%2BPn6/9oADAMBAAIRAxEAPwD9/KKKKACiiigAooooAKKKKACiiigAooooAKKKKACiiigAooooAKKKKACiiigAooooAKKKKACiiigAooooAKKKKACiiigAooooAKKKKACiiigAooooAKKKKACiiigAooooAKKKKACiiigAooooAKKKKACiiigAooooAKKKKACiiigAooooAKKKKACiiigAooooAKKKKACiiigAooooAKKKKACiiigAooooAKKKKACiiigAooooAKKKKACiiigAooooAKKKKACiiigAooooAKKKKACiiigAooooAKKKKACiiigAooooAKKKKACiiigAooooAKKKKACiiigAooooAKKKKACiiigAooooAKKKKACvPfjt%2B1J8FP2b5NGsfil4g1Maj4ilnTQNB8OeF9R1zVNR8lVed4bHTbee5kjiVkMkixlI96biu5c%2BhV4N%2B0P8D/j5/wANJ%2BDv2tv2bLLwfrWueH/B2seFNX8KeOdcutLtLywv7mwuxcQXtraXj288U2noCpt3WVJSCUKK1ABpf/BTL9izWLvxPb2nxXv0h8FWsk/jLUrvwXrEFjoIS0iu9l5dy2iwWsrQzRskMjrJIWKorMrKL2n/APBQ/wDZK1HwBrXxFTx/q9vB4f1ay0vVdE1DwNrNrrkV5ebfscC6PNaLqEr3AYGER27eaAxTcFYjy2b9gH4y%2BMf2a/jn8NfGHinwppHin4o/FS38daHc6U1xeWFpeW0OiywQ3IkihkkiN3pRRwoyYHGDuJVaPi79i/8AaV%2BLmr/Ef45fG34S/CjWvFnjWx8KaPp/gKy%2BI2s2Wm6fY6Hcaldw3qa7b6al5DqDXOqTOksVoPJSKNFZiWcgHsviH9vv9mzwv4a8OeI9XvvG3meK0v5NE8P2vwm8SXGuSRWUscV3NJpMWntf28MLzQq8s0CIpmiy37xM%2Bmaz8RPBHhv4e3XxX8T%2BJbbSvDljo76rf6vqrfZYbSySIzPPMZdvlKsYLNvxtAOcYNfGHin9hH9s/WPgX4X8Nay3hfxV470a58RHRfGV/wDHbxNpGr%2BCLW%2BuUktLO11q1sJLzXIYkjhEy3qw/aTbReYCFGPUfjR/wTotfj1%2Bzb4n%2BHHxD%2BOfjW78d%2BMPhfH4Z17xS3jbWho818tpDE2oJoS3y2FuzzQLK3kRRSEPIBIrSM5AOkg/4KUfsZf8K58V/FbWPite6Jo3giysr7xQ/ifwdq%2Bk3NlZXkxhtb37LeWsVxJaSyK6pcxxtC3luQ%2BEYjj/AI3f8FZP2d/hn8ENU%2BMfgPRfFXiqbQfiD4X8L674Y/4QXXbHU7A6zqVrax3T2cmnNdeV5Fw88DeT5d48aW8MhknjB8r1T/gmJ8ZPHfwq8faR4i8DeG9G8Y%2BI9D0fR7DxDqv7RfjPxut3aWusW%2BoTRyf27AfsEZ8likUSzHe%2BGkxknv8A9qH9gz40/GD4g/F/4g%2BBfEPheOTxfB8LbzwlZ6tfXMSvf%2BE/EdzrUsN40dvJ5ENwGt4VljEzrl2MfyKrgHqFh/wUE/Zb1H4m2XwZh8T%2BJo/Fd5oun6xLoF38N9egudO0%2B9adILu/SSyU6dDut5VeS68pYiFEhQum6j4a/wCCmH7FPi3wZ4s%2BIWkfGC4TR/Bfgi68Zaxe6h4S1W0Fx4et0Z5tWsVntUbVLNVQ4nsxPGxZArEugbB0P9kP4ofEP4mfG74g/G9fD2gxfGj4O%2BHfCF1Y%2BE9duNRl0u4tE11Ltlnns7XzYwNViMT7FZikm6OPA3fN37Y37Kn7UOj/ALDHxS%2BJv7TF34AtIfhD%2BxT8QfBHhePwFqF5cNrzXukWxn1G6W5toBYqE0i3CWcbXAVppCZ22oKAPrPw9/wUl/Yy8TaHrHiPT/i1dQWehppU1/JqnhLVbJmtNSu1s7HUIUuLVGubCWdgovoQ9qoDO0qorMPT9E%2BLvw88R/FLX/gvofiH7T4k8LaXp%2Boa/YR2k22zgvmuBa7pinlF3%2ByzHy1cyKoRmVVkjLfJOofsz%2BIPFegeKfjb/wAFIvF/wz8J%2BBbf9nu5%2BHUlx4f8QTLay6beyQyXmq3k17BbpYOTBbCG2QzCAmT/AEiQsuOw/wCCPngP4u2f7I9r8f8A9pDUDf8AxJ%2BL15H4n8V6g9nJbtJCLSCy01fKl%2BeH/iX2lpI0TYKSzTZAYtkA%2BqqKKKACiiigAooooAKKKKACiiigAooooAKKKKACiiigAooooAKKKKACiiigAooooAKKKKACiiigAooooAKKKKACiiigAooooAK8R0j/AIKMfse6ld69Z6n8Urzw83hzw5c%2BINQk8a%2BEdV0GObSbd0jnv7WTUrWBb63R5IlaW2MqAyxjOXXPtN7FczWcsNndCCZ4mWKYx7/LYjhtp64POO9fmJq//BHL9uX4v6t4X1z43fHHQ31vw14P1Cz1DxRqHxW8TeJx4h1v7ZpV9a6idLvoobLSbaS50xfPsLIBRHJtWWQKgUA%2B2X/b/wD2YbX4aN8WNY8QeKtK0ttcg0axs9c%2BGWv2GqanfzIZIYLLTbixS9v2kQM6/Z4ZAyo7AkIxHReA/wBqz4H/ABH1%2By8J%2BHPEOqQ6vf8AhSfxJDpGteFdS0y7TTYbv7JLLLDeW8UkDrP8hhkVZe%2BzbzXk3xO%2BDn7bvxib4e/G3XPBvwq0P4h/Cjx1NrHh/wAM2vjjUr/Rdcs7jSbvTLmO4vn0qGaxmKXskkbpa3AjMQU%2BYJGxV%2BJPwG/bg1/4y%2BHf2mvA%2BjfCu08WX3ww1XwX4x0LUvFepSWGkLcX8N1a39lcJpwk1AxCN1kt5YrQSlxiWLHIB3Gk/wDBRv8AZA8R694F8LeFfiNqus6n8SfBuleLfBunaJ4H1m9nvND1F9lrqMiQWjNa2%2B7HmSTiNbcMpm8oMCdj4a/tufs3fFf4jXPwn8M%2BL9Ws9ft9LudThsvE/gzVtEW/sbeRI57uyl1G1gjv4I3liDy2zSIvmISQGUnyj9hT9hL4sfsw6/8ADjWfHniDw1dnwd%2Byl4R%2BGN%2B%2BkXM8rNq2lvM1zNF5kEe61bemxmKu235o0wK8a%2BGn/BKv9sbxP8UfC/ib9qb4w2eqRaf4A8V%2BF/GniaD4v%2BJNavPEUur2KW39p2umX0Men6EcqWNpaKUXKgTOI1WgD6l8J/8ABRf9kfxrosfirQfHeuf2Hcarpen6f4lvfh/rdrpWoy6lex2VlJaX09mlteQS3M0UYuIJHhBlQs4VgT6X4W%2BLvw88a/EDxT8LvC/iH7XrnguSzj8T2iWkwWxkuoPtEEZlZBG7tCVkKIzMiyRlgokTd8w%2BOPAnxF8K/wDBPbxp8CP%2BChnif4VeCPAWg/DSLQLb4meHfFt2GadI0trXUntLqzgTTZlmFvJDBHcXTGcoiOTtDdr/AMEr/h98WPDf7ImlfFX9oqwS3%2BJ3xYvpfHXxEhW3aL7Pf36xmG02N8yfZbGOys9pyQLXBoA%2BjaKKKACiiigAooooAKKKKACiiigAooooAKKKKACiiigAooooAKKKKACiiigAooooAKKKKACiiigAooooAKKKKACiiigAooooAKKKKACvF/j14/8A2i/%2BGi/AvwI%2BAvjPwV4fTX/BXiXXtX1Pxf4Lu9aJOnXeh28MMMdvqVj5Yb%2B1JWZmZ8%2BWgAXkn2ivBviX4jt9L/4KXfBvQLjAOqfBf4hiAk8mSPVPBz7f%2B%2Bd5/wCA0m1FXZdOnOrK0Vd2b%2BSV3%2BBp/wDCD/8ABQv/AKOg%2BDP/AIYfVv8A5qKP%2BEH/AOChf/R0HwZ/8MPq3/zUV7NRTIPGf%2BEH/wCChf8A0dB8Gf8Aww%2Brf/NRR/wg/wDwUL/6Og%2BDP/hh9W/%2BaivZqKAPGf8AhB/%2BChf/AEdB8Gf/AAw%2Brf8AzUUf8IP/AMFC/wDo6D4M/wDhh9W/%2BaivZqKAPGf%2BEH/4KF/9HQfBn/ww%2Brf/ADUUf8IP/wAFC/8Ao6D4M/8Ahh9W/wDmor2aigDxn/hB/wDgoX/0dB8Gf/DD6t/81FH/AAg//BQv/o6D4M/%2BGH1b/wCaivZqKAPGf%2BEH/wCChf8A0dB8Gf8Aww%2Brf/NRR/wg/wDwUL/6Og%2BDP/hh9W/%2BaivZqKAPGf8AhB/%2BChf/AEdB8Gf/AAw%2Brf8AzUUf8IP/AMFC/wDo6D4M/wDhh9W/%2BaivZqKAPGf%2BEH/4KF/9HQfBn/ww%2Brf/ADUUf8IP/wAFC/8Ao6D4M/8Ahh9W/wDmoq1r/wAb/wBkT4U2mkaT8dPjD8OfDmuahosGoG28XeIbC0u7iOTI8/bcOrsjOkgDdMowzwQM3/hr/wD4Jwf9HRfBH/wttH/%2BO1zTxmDpycZ1Ypro5RT%2B5yTPaw/DfEmLoRrUMDXnCSupRo1pRa7qUaMotaPVNrTcsf8ACD/8FC/%2BjoPgz/4YfVv/AJqKP%2BEH/wCChf8A0dB8Gf8Aww%2Brf/NRVf8A4a//AOCcH/R0XwR/8LbR/wD47Xp2gaL8LPFehWXinwtpPh/UtM1K0jutO1HT4IJoLqCRQ8csciAq6MpDKykgggg4NXSxOHrtqnOMrdpJ/k2c%2BOybOcrhGeNwtWkpOydSnUppveyc6cE3bWybdtbW1POf%2BEH/AOChf/R0HwZ/8MPq3/zUUf8ACD/8FC/%2BjoPgz/4YfVv/AJqK88%2BH3/BRr9i/xf4Hs/GHiH4e%2BJ9Bn1TxxrXhbRNGufg9rc95q17p1xfxyLaRQ6ez3RMOnzzssSuYQDHJskVlHZfEL9qj9lrwLZePbS80SLT9Y8BeENa8Q3lt4s8CatpNnd2emL/pc9vdSac4vbeJmiEktkl0VE0bBH3or7Hmmj/wg/8AwUL/AOjoPgz/AOGH1b/5qKP%2BEH/4KF/9HQfBn/ww%2Brf/ADUVVsP2rP2MNQ%2BM8n7P0N5b/wDCUW/iCPQbqP8A4Qa/FhDqr6dHqUdi2oNaC0Wd7SVJkjMoZwcKCwKjZ%2BNfxV%2BCvwk/Z5139ofR/COjeKNO0uwaTTbfQ1tpBqt00oggtYpgCgaS4ZIdxO1WYluhoAof8IP/AMFC/wDo6D4M/wDhh9W/%2Baij/hB/%2BChf/R0HwZ/8MPq3/wA1FP8A2cPiBbfFy88ZeB/ij8CvDfhXxh4D8QQ6Zr%2BlaPqK6rYyLPY217b3NtdSWls8sbxXKqd8EbLLFKuGUK78L8Nv2qrf46fFv4sfCj4JfsweH9SPgPQ9D1Hwfresa6llZ%2BK0vr/WNPmkylnK9pbwXGi3YWYLOZ0AkjTayFwDt/8AhB/%2BChf/AEdB8Gf/AAw%2Brf8AzUUf8IP/AMFC/wDo6D4M/wDhh9W/%2BaivIvE/7f8A4E8DfDmS68e/BP4d6B4yh%2BKF74Gntdd8dwWnhiG7tLI3894%2Bty2KstqsGIyxtPMF0wt/LyC43vj1%2B1db/s/eH/h74u8SfBv4Q39n43GmwR6bpfxMV9W1O9uZ4ong0G0Olga4qJPHKH8y2Z0OSiDkgHf/APCD/wDBQv8A6Og%2BDP8A4YfVv/moo/4Qf/goX/0dB8Gf/DD6t/8ANRWH4i%2BNeo/DX9oXQ/hX8Yf2cvBuk%2BGfFs2sJ4X8S6V4mF7fbNPtHu5Li%2BsGsIltYGhjfEkdxcbXeFHCmUY5/wDZn/akn/az%2BFniD4m/Br4G/CPVJIdPs7rwx4es/ilDcagpuQXSDXI4dNcaLOItjmJGvCD5idU%2BYA7z/hB/%2BChf/R0HwZ/8MPq3/wA1FH/CD/8ABQv/AKOg%2BDP/AIYfVv8A5qK5Twn8dPHPxU/Y6%2BHf7V3wl/ZW%2BH8zeMPAdp4p17SPFXjr%2By7bRIJrGO6MSXiaXP8AaGXeVDPFAmELMycLXJ%2BGP28vBHxC%2BPvw9%2BDvg/4O/DTR7bx58MPC3je2/wCFi%2BPI9E1qW21ma%2BU2djpi6dcfb7q2isS8kfnxDdMiEqPnoA9X/wCEH/4KF/8AR0HwZ/8ADD6t/wDNRR/wg/8AwUL/AOjoPgz/AOGH1b/5qK8i0H/god8Jbz9qPxB8APEfwZ8H2Fj4cvNfi1iSDxHHceIdHtdKtzPJquo6MLNTZ6bcKB9nuRcSGX7Ra/IPOOx/gL9uzQvHvwLvfjLovwJ%2BF%2BpXV/4g0HQ/B3hbw18S7fU73%2B0dVukgitNbMVhs0eaESxSTpG15sRZ9nmGNVkAPWv8AhB/%2BChf/AEdB8Gf/AAw%2Brf8AzUUf8IP/AMFC/wDo6D4M/wDhh9W/%2BaivO9Y/ah8exfAjxD8YdA/ZD%2BH73fw7u/EFt8VdK1r4gCxg0l9KAkP2K5GlSC9WeA%2BfG0yWihGXzTExKr1X/C8/M/aD%2BGfw0i/Zo0SLwj8TvCt1qmm%2BJr7Ulh1KzuYLZLlrWXTfshUDy5EBk%2B0gh8jyyBuoA2v%2BEH/4KF/9HQfBn/ww%2Brf/ADUUf8IP/wAFC/8Ao6D4M/8Ahh9W/wDmorktP/ak8O%2BMf2q/FP7Mnwu/Zw0nWU0DwNqep6b4nudRhtbbVdasLi1guNKjX7O%2B2ON72CN7vcwSZLiLyi0D1V039pDxF/wi/wATbTxj%2Bz78JPDnir4VanYxeJW1r4mGHwxHa3NnFeCdtYfSBJC6RSDfFJZrt3RndskV6AO3/wCEH/4KF/8AR0HwZ/8ADD6t/wDNRVDwP44/as8HftWeHPgj8bviP8PfE2jeJvh74h1yGbwr8PL7Rbq0utNvtEt0VnuNXvkljdNUlJUIjBokIbGQbn7PnxS8I/tH/ssWX7Qui/DbT9Bl1Kx1CSz%2BwyJcRM1tcTwJd2d0scZubSbyBcW9xsTzoJopNi79of44/wCUhfwv/wCyM%2BPP/Tt4QoA9mooooAKKK8w/a2%2BMnjL4MfDCwvvhrZ6ZL4l8SeMNF8NaBJrcEktla3GoX8NsbqeOKSN5Y4Y5JJvKWSMymIRh49%2B9QD0%2BivmG/wD2x/jP4Z/ZD%2BInxI13w94evfHPw38bzeFtbvrDTbpNGAW%2Btov7Za286SdLWGyu476eATMyCGaMTHAlrivhl/wUI%2BMHx51CD4GfBDx/8M9b8Xj4p6h4Yk%2BJtp4bvLjwzeWFr4dtNba/tbGPURLKW%2B32tntF8U3rNMJGVVjYA%2B06%2BcfhN4q/bv8Ajro%2BveO/C/xv%2BEmgaXb/ABC8VaHpelX/AMH9Uv7iK10vXr/TIWluE8RQLLI8dmrsyxRrucgKABXc/AP9p/w58Q/2SvDv7T/xb1DRvB1tdaCt14nm1DVUh0/S7mNjFcj7RMVXyVmRwrvtyu0kAnFYH/BOnxP4a8a/s3X3jDwb4hsdX0jVPi38Q7vTNU0y7S4truCTxnrTRyxSoSsiMpDBlJBBBBoAvf8ACD/8FC/%2BjoPgz/4YfVv/AJqKP%2BEH/wCChf8A0dB8Gf8Aww%2Brf/NRXs1FAHjP/CD/APBQv/o6D4M/%2BGH1b/5qKP8AhB/%2BChf/AEdB8Gf/AAw%2Brf8AzUV7NRQB4z/wg/8AwUL/AOjoPgz/AOGH1b/5qKP%2BEH/4KF/9HQfBn/ww%2Brf/ADUV7NRQB4z/AMIP/wAFC/8Ao6D4M/8Ahh9W/wDmoo/4Qf8A4KF/9HQfBn/ww%2Brf/NRXs1FAHjP/AAg//BQv/o6D4M/%2BGH1b/wCaij/hB/8AgoX/ANHQfBn/AMMPq3/zUV7NRQB4z/wg/wDwUL/6Og%2BDP/hh9W/%2Baij/AIQf/goX/wBHQfBn/wAMPq3/AM1FezUUAeM/8IP/AMFC/wDo6D4M/wDhh9W/%2Baij/hB/%2BChf/R0HwZ/8MPq3/wA1FezUUAeM/wDCD/8ABQv/AKOg%2BDP/AIYfVv8A5qKP%2BEH/AOChf/R0HwZ/8MPq3/zUV7NRQB4z/wAIP/wUL/6Og%2BDP/hh9W/8Amoo/4Qf/AIKF/wDR0HwZ/wDDD6t/81FezUUAeM/8IP8A8FC/%2BjoPgz/4YfVv/moo/wCEH/4KF/8AR0HwZ/8ADD6t/wDNRXs1FAHjP/CD/wDBQv8A6Og%2BDP8A4YfVv/moo/4Qf/goX/0dB8Gf/DD6t/8ANRXs1FAHjP8Awg//AAUL/wCjoPgz/wCGH1b/AOaij/hB/wDgoX/0dB8Gf/DD6t/81FezUUAeM/8ACD/8FC/%2BjoPgz/4YfVv/AJqKP%2BEH/wCChf8A0dB8Gf8Aww%2Brf/NRXs1FAHjP/CD/APBQv/o6D4M/%2BGH1b/5qKP8AhB/%2BChf/AEdB8Gf/AAw%2Brf8AzUV7NRQB4z/wg/8AwUL/AOjoPgz/AOGH1b/5qKP%2BEH/4KF/9HQfBn/ww%2Brf/ADUV7NRQB4z/AMIP/wAFC/8Ao6D4M/8Ahh9W/wDmoo/4Qf8A4KF/9HQfBn/ww%2Brf/NRXs1ZfiXxv4L8GQfavGHi/S9JixnzNS1COBceuXYClKUYq7dkKUowV5OyPLf8AhB/%2BChf/AEdB8Gf/AAw%2Brf8AzUUf8IP/AMFC/wDo6D4M/wDhh9W/%2BairfiL9vn9h7wm7xa/%2B1/8ADS3lT78H/CbWLyD/AIAspb9K8%2B8W/wDBY/8A4JueEJBayftNadqly5xDaeHtKvdQeVv7q/Z4XXP1IriqZpllH468F/2/H/5JnnVs6yfD/wATE016zh/8kztv%2BEH/AOChf/R0HwZ/8MPq3/zUUf8ACD/8FC/%2BjoPgz/4YfVv/AJqK8wH/AAV8%2BGesDf8ADv8AY/8A2ifFsbf6mfw98KJnjkHYgySpx74o/wCHkf7Qmuf8iN/wSu%2BNtxu%2B5/b9ta6Xn6%2BZI2Kw/tvK38NTm9Izf5Q/U5v9Y8mfwVeb/DCpL8qdvxPT/wDhB/8AgoX/ANHQfBn/AMMPq3/zUVb/AGVviN8afGGsfFDwJ8dNf8L6tqngH4hRaHZ6r4T8NXOk291ay6Do%2Bpqz29xe3jLIsmoyoWEu0rGh2qc58l/4a3/4Ki%2BJjs8I/wDBKmDS4z9y88S/GPTV/OGKPePzrov%2BCdWsfGXX9b%2BPOr/tA%2BDtI8P%2BLpvjNAdW0fQtQN1a22PCPhsRBJSAXJhEbN6MzAcCujDY%2BjipuMIz73cJRX3yS/I6sJmeHxtRwpxmrK95U5wX3ySu/Kx9J0UUV2nohRRRQAUUUUAFFFFABRRRQAUUUUAFFFFABRRRQAUUUUAFFFFAGB8Uvib4S%2BDfgLUfiX46fUl0rSo0e7OkaFd6nckM6xqI7WzilnmYsyjbHGx5zjAJrHP7RvwXT9n21/anl8bxp4DvvDNt4gtNdks5183T7iFJoJFhKecXkSRNsWzzSzhAm47a1Pi5rXiDw/8ADTWtV8K/DzV/FeopYstp4e0G4soru8Z8Jtje%2BuLe3UgMWPmSoMKcEnCn5V8NfCb9pHxd/wAEj9A/ZJ1n9mLW9D8YaP8ACPRNA1TSPEWs6I6XctjHaW93Ba3FpfXEcdxLFDM9rO%2B1I3MLuY2UqAD6c%2BC/x6%2BGP7QGi6lrnwy1XUJRourNpetWGs%2BH73Sr7TrwQxT%2BRcWd9DDcQOYZ4JVEka7o5o3XKupPzX%2B2B4sbwt/wWA/Y7t3k2Q6x4W%2BJunzNnj5rbQ5UH4vEgr0H/gnz8GvHfwg0b4jTeJvAHiPwtpHif4gnV/DGieOfFMeu%2BIIrb%2BytPtpX1HUUu7xrl2uLacxeZdXDx24gj8xURIIflv8A4KgaZ4o%2BFv8AwVQ/ZA%2BJ2qfFvxFrdjqHjLWbe30bVLbTktNBhuLzQbaRbZra0hnZH84bjcyzn5V2lctu8/NKvscFKp2cX/5PD/M%2Bt4FwKzPielhGr%2B0hXivX6tiWvxij9KKKKK9A%2BSCiiigAooooAKKKKACiiigAooooAKKKKAPM9S/Zk/Zt%2BNGj6D4p%2BMX7PfgfxZqdv4ftbWDUfEvhOzv544FUusSyTxswQM7sFBwC7HGSapf8MD/sK/8ARlnwl/8ADc6Z/wDGK5P4vf8ABSD9i/8AY%2Bl8OfDT9ov4y/8ACO63feFLPU7Wy/4R3UbvfavviWTfa28iDLwyjaWDfLnGCCeQ/wCH5v8AwSy/6Oi/8snXP/kKvFxGL4dp15RrzpKaevN7O9/O6vf1NF4h4jKl9UjnE6Sp6cixNSCj1soqvFR32UVvtqet/wDDA/7Cv/Rlnwl/8Nzpn/xivTtA0DQvCmhWXhbwtotppumabaR2unadp9ssMFrBGoSOKONAFRFUBVVQAAAAMCvlb/h%2Bb/wSy/6Oi/8ALJ1z/wCQq%2BnvAPjrwr8UPAmi/EvwLqn27RPEWkW2p6Pe%2BQ8X2i1uIllik2SKrpuR1O1lDDOCAeK6MDiMnrTksHKm2lryct7efKlpfuKXF1XiT91PMZYnk1s686vLfS9pValr7XSV9r9Dwn4YfsL%2BK/AHjzwprWp/GfTdQ0HwP8UPFXi/w1pcPhCSC7C67/azz2lxcm9dJTFLqrFJUhi/dwhGQsxkHketf8EYZde8U%2BPfEl58dvDsVx4y8BeP/C/9tWvwvRNbuY/E0iuLjVdRN8X1R7LaI4UC26eWNu1MBh7tYft%2BfCPV9OsZtJ8KeI5r660XxbqV3pMv2C3l0tPDl6thqMd3JPdpBAwu3SBGaXy2JLF1jV3XhPBv/BT7wP8AHab4caj8BILOWx134z6j4G8bwX99Y6lLp5t/Bur%2BIUNtc6VfXFnK7G0sDvSeZAk00bBJVPlekQddJ%2BwwH8Q6rr4%2BKGDqfx10n4jmIaJ/q/sWkafpv2DPn/Nv%2BweZ52Bt83b5bbdzd58a/gdqH7QH7POu/BLx/wCMYre/1qwaNPEGh6WYBZXSSia1uooJZZctDKkL7WdldoznAbA%2BePFv/BVaV/gh4U8a/CL4U6/4jvdUg%2BHsniPxTL4fgt9G0VvEl3pypBcwDUmuY7hrW981UgN1FA00HmzMpJb6Q%2BMPx48P/CT4BePPj7daNqVzY%2BAvD%2BsapfWVxp81pLcDToZZZVjE6KWVvJYJKoaNwQyMykEgHL/Bb9m/4jfD6fxT4n%2BIXxY0bxF4k%2BIPidNR8dahp3hS40y2lsotLj0%2BCy0%2BEX8sllsEEMpmkmuGZmuMBfMjMPl%2Bgf8ABLWz%2BButfEDxT%2Bxv%2B0H4n8Aap4p%2BEeh%2BBfCUviDWta8U2/hSPT7vUZjdQ2%2Bo6qyTfur6OK3iOxbMwSNGSLq4jfvf2WvjZ8fvEPxU8TfAb9pUeEbnxFo3grw74rtdS8F6Vc2VoLXVZNSgNk0dzc3DvLbz6XNmcOiypNGRFGQy1wHxS/bO/aH%2BC/x78ffC%2B8s/DPi2DRPhb4n8X6Jay%2BC9S8KR20lglrNZWZ1fUbuWy1hZUuRHcT2gjW0aPdMI/MVAAbGi/sC%2BNtA%2BE/w08OaN8SfANj4u%2BEPiu51jwNrlp8NL1tNC3NhdWVyt7Z3Gsy3N3PML26nkuhexyPOySNuPmCWPUP2A/igf2ddA/ZC0D9ojRbT4e22kWtt4mSb4fPJrN1cLfNeTz6fdpqCQaaGYqsSG1nNsI1KMSFK%2BUaJ/wVR%2BLdn8M9bk8Ttodxrk/jjw34a8Kazc/CbxDojpNqlnJdyNceG7meXVLgRRQTeQYnRb%2BUrDCU2vIPVPFP7VHxytPhL8IPi98N/if8O/FOk%2BIPiZYeF/H11/wgOqafJdfa9ai00x2ltPqBl0q5tmM6TRXX2hlmhKFEIYAA6Lwh%2ByN8ZLX9qnxl8fPil8bvCXi3RPFdpNpFnoV18PLqDUdD0Fo8JpVpfDVmhjRpgJ7iX7J5ly4AYqsUCw4v7O/wCwZ8Tf2cbVLzwp8dvDNzqvhr4XWHgD4cTy/DiSG10/SbOUyQvqcEWpK2p3OAgLxSWcYPmFIk81q7PWfi78cPDf7e/hj4F6je%2BFJ/APi74b%2BIdbsIYNGuU1i0vdLu9EhJkujdGGSGQarL%2B7FurKYkPmHJWvmjw3/wAFXfjzDceOL7xP4J8O3f8AZXgnxLqui6GPC%2Bp6QLTUrHWrXS7KzTU7meS38Q28zXW6e906NY7Qxqsg3XES0Ad%2BP%2BCdf7S7fsX/AAx/Yyuv2tPBFzo3gKOysNeW4%2BEN59i8X6PZWscNpp97bJrqyCMvGJbgJOI7kKsTRrCZY5fS/jx%2BzB8b/wBoXRNG%2BHnjL42%2BDrTwmDodz4rtNL%2BGs6ale3un3kV40ljdyao6afE8sKbEeC5lhUttmLlXXyf4k/tkftlfDlNT%2BFd3a%2BGdT8V%2BGfihpekeJPF/hX4O6/rljHoF9oVxqKXw0Swv5L1JUuYfsjYuZEAKynHmeWmz%2B0B/wUB8W%2BCfhb8ONR/Z81nwf4%2B1fX5/DF/4v8SRabcw6VbaFqGsWmlvdxW4uWlgnuJ7iRLaCWZ9v2a6ZzL9leNwDTh/4JxXerfENX%2BIHxjtNY8BWfjTxb4o0zw5H4UMGrtd%2BIbbUbe8t7vVPtbC5s449Uu1ihW2iZRHaBpHFsucTw5/wS/8V6b4bH9sftCaS/iTw/oHg/R/h7rGj/D77DbaXb%2BG7%2BS%2BsHvbUXr/ANoSSNK8U/lyWyGJ3WFLdnL12PxB/aT%2BN3wz/bY8HfAu6vND1nw542uL5YbH/hXmqaXJpUEGlXd2so16e7fTtRuGntFjNhDElwsVw05Hl20jN4B8Kv8Agqz%2B0l4u%2BEXiLxx4g8O%2BEo7u38J%2BENZF1d%2BBtX0i18LjWNY%2BwXs0y3V0za/punwFrttVsXhs50t32uisZIwD1bx1/wAE7/jl4o8FaH4U0/8Aaf8ACzLcfEDUvGfxRsNf%2BGFzeaX4y1OaWOSzha2h1i3kt7G0MabbV5pxN5Fv5zuEkEvoPxT/AGc/2jPH/wC0f8Lvjhovx78E6bpvgC1nTVNCuvhneXM%2BrSXaLFfNFcrrEa2itEiiFWhnML5Z2nB2Dwa1/wCCoXjnxH4VsdP0j4wfCbSI7P4ha54Y13406voF5J4Su5bPT7S/s1tbddRjZHvYr6MRFr2RCbWfyzPviB1vAP8AwUc%2BK3xQ8a/Cvxnf3OkfDr4aePfhf4M8RtqPiL4Ua5q0dzq2r3l7DdaP/bMF1b2OlSxiGzjia7jYtJeodj5EZAO30b/gmN4H%2BFHxqk%2BPP7NfxS8TeFNYtvAHiHRNBsNd8U67r%2BmWGp6ncRXI1E2d3qnkyQxzI8jWSqiSu4ffG8aMNn9nv9ln9qD9nb4DyfDDwz%2B0T8Pb3xHJrH9o3Pi%2B%2B%2BE%2BoO2r3Eu5r261GJteMl1dzyFX81J4UjCBFiMYVFxfiX%2B2N8U/gP8AtWTfDf4h32laz4Pfwvruvzx2Pw31XSJ9Ks7CzF2nlatd3cljrc7LlHt7VI5Y93mOESNgdb/gn/8AtZeKP2o/D99rnjr4h%2BFrrUp9D0rWrfwpofgPV9Hn0a0vUmdGNzqUzDWbZzGY4tQtoYIJWt5ioOdqAHa/Bn4GSfs6fs03/wAM7vxcddvDLr%2Br6nqa2AtIZbzUr671G4EFuHcW9us11IkUW9ykaopdyC7Z3jj/AJSF/C//ALIz48/9O3hCvUvHP/Ik6x/2Crj/ANFtXlvjj/lIX8L/APsjPjz/ANO3hCgD2aiiigArjfjx8EvDX7QPw6l%2BHfibWNT0vbqVjqel61ok0cd7peoWV1Fd2l3A0scke%2BOeGNtsiPG4BR0dGZT2VFAHlPw5/ZYHwp%2BHureBvBfx68cQXWuSXl7qXiaVdJl1CbVrq6e4n1Ul7Aw%2BeS4jEXlfZUiijRIFC1zlx%2BwF4KPhqzOl/Gvx7p/ja18Z3HiqX4qWs%2BmNrt3qk9gdOmkmWSxexaNrER2whFoIkjt4CiI8SOvvNFAHN/B34UeDvgV8KvD3wb%2BH1pNDovhnSINO01bmcyzNHEgUPLI3MkjYLO55ZmZjyTXnv7B//JENc/7LN8R//U11uvZq8Z/YP/5Ihrn/AGWb4j/%2BprrdAHs1FFFABRRRQAUUUUAFFFFABRRRQAUUUUAFFFFABRRRQAUVyfj/AOPPwO%2BFMTzfFD4y%2BFfDixjLnXfENtabfr5rrXhXjP8A4LH/APBPvwxqP/CPeG/jNN4y1liRb6N4G0G71Sa4I7I0UflH/vsVx4jMMBhdK1WMfWSv917/AIHBis1yzBO2Irwg%2BzlFP7rt/gfUNFfIv/Ddv7cXxe%2BT9mX/AIJm%2BK7azl/1evfFvXLfQFiHZzZkvNID/stmnJ8IP%2BCyHxSP23xp%2B2B8L/harjK2PgLwC2tFR6M%2BpMvzY6leM9K5f7Xp1P4FKpU81BpffPkX4HF/btKr/u1GrV81Bxj/AOBVHTX4M%2BuKK%2BSv%2BHfH7XmvfP4%2B/wCCsHxPuXP3j4e0Gw0pfwEYbFJJ/wAEmbDxIPs/xU/b4/aN8U2Tf6/SL34kmGzn9njihBI%2BjCn9dzKXw4R/OpTX5cw/7QzeXwYJ/wDb1Wmvy5vwPpfxJ8Vvhd4O1FdH8X/EnQNKu3XclrqWsQQSMPUK7AkVVv8A45fBPStObWNU%2BMPha2tF%2B9dXHiC2SMfVi%2BK8Q8Mf8Ed/%2BCbvhfT3sI/2XtJ1B5W3T3mt393ezyv3YyTTMQT324HtVyx/4JH/APBN3TtRXVLf9kfwu0q9FnE8sf4xvIUP4ij2meP/AJd01/2/P/5DX5WD2vEj/wCXVFf9v1Hb7oK/ysa3jb/gp3/wT4%2BH%2B8eIf2v/AALI0f300nXE1BgfTba%2BYc%2B1cBL/AMFpf2N9dkNt8FtI%2BI/xLuASqW3gT4c39w7n0Xz0hB596918E/snfst/DbYfh9%2Bzf4E0Rk%2B7JpfhKzgfPqWSMEn3JzXfRxxwxrFDGqIowqqMAD0Ao9lndT4qtOP%2BGEpfjKSX4B7HiKr8ValD/DTlJ/fOaX4HyV/w31%2B2x44%2Bb4Kf8En/AB/cQv8A6ufx74rsPDrKP7zRTb2/DOaD4m/4LU/Ej9xpPwx%2BBvw1tn/1k2ua1faxeRD/AGBbgRFh/tcV9b0Uf2biJ/xcVUfpyQX/AJLFv8Q/snF1P42MqvyjyU1/5LBv/wAmPkhf2L/%2BCj3i7/TPiP8A8FWdTsnk%2B9p/g/4ZadZxQj%2B6srMXb6sM07/h2t8dpf391/wVN%2BOpuD99otTtkjP0jEeB%2BdfWtFH9i4B/FzP1qVH/AO3oP9Xssfx88n51ar/9yL8j5Jb/AIJY%2BKPFR%2ByfGD/gov8AH/xFpy/8wu08YJp0Mw7ibyYsyD8RWn4Z/wCCMf8AwTg8Oz/2he/s7x65fud1xqHiTX7%2B%2Blnb%2B84lnKE/RRX1HRTjkmUp3dFSfeV5f%2BluQ48O5GnzSw8ZPvO83/5PKf4WPJPDv7A37D3hNFXQP2QPhpAyfdmPgmxeT/vt4ix/OvQPCXw1%2BHXgFDH4F8AaJoqsMMuk6VDbAj/tmorbortp4XDUf4dOMfSKX5JHo0cHg8P/AAqUY%2BkYr8ooKKKK3OkK8Z/Zf/5Lf%2B0d/wBlmsf/AFCvC9ezEhQWYgADkmvFP2U72z1H4z/tGXen3cU8TfGeyCywyBlJHgvwwCMjjggg%2B4oHZ2vbQ9rooooEFFFFABRRRQAUUUUAFFFFABRRRQAUUUUAFFFFABRRRQAUUUUAFFFFABX5y/8ABeFH0jxX8NfihEhL%2BBvCWt68jKOUMfijwVFuH4TGv0ar4b/4LD%2BEP%2BE3gv8ARvK3%2BT%2BzJ8Rr/GP%2BfTVvB11n8PJz%2BFebnNN1coxEVvySt6pNr8Yn23hriqeC8Q8orVPh%2Bs0VL/DOoqcl841GvmfcaOkiCSNwysMqwOQR60tcT%2BzR4v8A%2BFg/s4/D/wAe%2Bbv/ALb8E6Vf78/e86zikz/49XbV30qiq0ozWzSf3pP9T5PHYWpgMdVwtT4qc5QfrCUov8YsKKKKs5QooooAKKKKACiiigAooooAKKKKAMrwN/yJOj/9gu3/APRa1q1lDwZoaZWBr6FMkiK31a5jRfZVWQKo9gAKX/hD9J/5%2B9V/8Hl3/wDHaANSisv/AIQ/Sf8An71X/wAHl3/8do/4Q/Sf%2BfvVf/B5d/8Ax2gDw/xB/wAE0/2fPEviP4zeJdQ1fxMJfjbp1tZ65bpqMPk6IIlJaTTUMJEDTTkXMwl81JZlUspX5C/wV/wTu%2BHPhbxdH8QvEHxi8feKfEB%2BJ0nju81jxBe6f5l3qbeFZ/C/lslrZQxJbiwnLLHEkeJkRs7N0be2/wDCH6T/AM/eq/8Ag8u//jtH/CH6T/z96r/4PLv/AOO0AfOX/DqT4MWfhfQPAPhz4z/EjSPDukWPhCHVNB07U9PEHiCbw01qdMu7xnsWlE22ytkl%2BzvBHKkShk%2BVcfQOsfDrSPFvgfXfh18Qr658R6T4ihvrbUrXVI4VDWV0HV7MeRHGDEsbmNS2ZCoG93bLG5/wh%2Bk/8/eq/wDg8u//AI7R/wAIfpP/AD96r/4PLv8A%2BO0AeZ/A79j3S/gXJqWs6d8c/HfiDX9Uh0WxuvFHiafTZ746RpUkr2mkjy7KOL7MPtF2Gcxm5Y3kzmfzCsi4/jv9gPwN8ZNV125%2BP/xl8eePNO1bwxrnh/T9C1y5062tdEsdWjEN4tq2n2VtM0hhURJLcSTyRqDtYMzM3sn/AAh%2Bk/8AP3qv/g8u/wD47R/wh%2Bk/8/eq/wDg8u//AI7QB4ov/BPfwde2mr6z4t%2BPHxC17xrqeo6NeWvxJ1SbSRq%2BlvpLTNYLbJBp8dkEjN1eZEltJ5ovJxJvDACr4y/4J0%2BH/Evwm8NfCXw7%2B038TfDMWgeOJfGN9rWjf2FNfa7rr6n/AGp9tvDfaVcRAreF5Fit44IgHMflmNURfdf%2BEP0n/n71X/weXf8A8do/4Q/Sf%2BfvVf8AweXf/wAdoA8z8V/slX/iv9pvwl%2B1BL%2B018QbO%2B8H6FdaPZeGbO20H%2By7q0u5LKW9SfzNLa5JnfT7RmZJ0KeWRF5QZgeM0j/gl38CrXRLzwZ4n8f%2BOPEPhtPBmr%2BFfCvhzV9TtFt/Cul6lLDLcxWEltaxXBcG2thHNcy3EsIgURuuW3e//wDCH6T/AM/eq/8Ag8u//jtH/CH6T/z96r/4PLv/AOO0AeT%2BHP2NdU8H%2BGtZtvCv7WfxNsvFPiXxJFrHib4hCHw/Nq2qGKySyitXjm0l7KK3SGKLakNrG2%2BMuWLSSmTmfH3/AASW/YO%2BKHwk0H4UfEH4CeH9bk8PRadFZ%2BLtb8P2F/rkkVrqI1FopLy5t5HMc9wZzMgAV1u7gKE8zI9%2B/wCEP0n/AJ%2B9V/8AB5d//HaP%2BEP0n/n71X/weXf/AMdoA8y8SfsceHvHnxN0zxx8SfjB4y8Q6HoOo3F/4b%2BH19/ZkOi6VcTWNxYl4/stlFdyhbe6uURJ7mVF87cFykZTD%2BFX7AeifB/Tpl8LftJfEubVrbwbZ%2BE/CfiLUZtHmu/C%2BjW0oljtLNTp3ky5KRh5byK5mcRpuckZr2n/AIQ/Sf8An71X/wAHl3/8do/4Q/Sf%2BfvVf/B5d/8Ax2gDy6z/AGO28P8Awxk%2BHngL9pb4j%2BHL/Uteu9Y8V%2BMtKk0h9X8R3Vyu2Z7l7jTpYYsqI1T7LFbmFYYkiMaIFqt4s/YY8D%2BJvDHhn4TWXxV8Y6L8M/C%2Bm6RYW/ws0d9NTSLuDTZI5LZJppLJ9Q25hhV1ju41dYgrAhpN/rX/AAh%2Bk/8AP3qv/g8u/wD47R/wh%2Bk/8/eq/wDg8u//AI7QB5pqn7HuheMvixB8Tfi58YvGXjWy0y51Ofw54N8QjTF0nRnvraa0mMS2ljDcT4tbm4t0%2B0zT7Y53/iIYO/Zy/Y78Ifs467ceJrL4l%2BLvFl%2BfDOn%2BG9KuvF11aSNpWi2LTNbWEH2W2gDKrTuWmm824kwvmSvtXHpP/CH6T/z96r/4PLv/AOO0f8IfpP8Az96r/wCDy7/%2BO0AJ45/5EnWP%2BwXcf%2Bi2ry7xx/ykL%2BF//ZGfHn/p28IV6ifBmhvhZ2vpkyCYrjVrmRG9mVpCrD2IIry7xx/ykL%2BF/wD2Rnx5/wCnbwhQB7NRRRQAUUV8/f8ABS46YP2a7X/hNPL/AOEK/wCFheF/%2BFkfaP8Aj3/4R7%2B2bT7b9qzx9j8v/j53fu/s3n%2BZ%2B730AfQNFfnfqPij4cv/AMEzPjR4I%2BGPifT4fBU3ji/f4d2%2Bj3EbWdj4Un1uC3N/5CZL6BHc/b3cRgQvYRSpEwjKEeMSaT8K7j4e2XgnUviX8ErLwBF%2B0Nrs1h471zwbFN8Hr1f%2BEStGSO10dr5IYh580scaC/ZBf2moTCR5H%2BzAA/XevGf2D/8AkiGuf9lm%2BI//AKmut1n/ALEmofEK3/4J0fCu78JeEJrrxFB8MNHjstK8deIZ7d7iVLSJAbq8FpJKu8DfvNtu%2BYZjU5Ad/wAE6bjxLd/s3X114y0mxsNXk%2BLfxDbU7HTNRe7trec%2BM9a8yOKd4YWmQNkB2ijLAAlFzgAHulFFFABRRRQAUUUUAFFFFABRXn3x9/au/Zx/Zc0MeIfj/wDGPQ/DELoWggv7vNzcAdfKt0DSzf8AAEavBP8Ah6X4u%2BL/APov7FH7DPxN%2BJKyf8e3iLV7JPD2iS56Mt3d8t6kFFOMetcGIzPAYWp7Oc1z/wAqvKX/AIDFSf3pHmYrOcswdX2VSouf%2BWN5T/8AAYqUvvS9T68or5EX4bf8FhPjywl8d/H74dfBLSpTkaf4G8PtrmphP7ks14RErdt8R49Kkb/glHP41U/8L7/b5%2BPfjGOQYudLXxqNO06cHqGt4I%2Bh6cMODWH9oYyr/Bwsmu8nGH4Nyl%2BCOb%2B1Mwrf7vg5td5yhT/BuUv/ACVPyPWvj7%2B3n%2ByB%2BzFDOnxo%2BP3h3S76AHdokN6LrUWPYC1g3zcnjO3Ge9eNW/7X3/BQL9qiZW/Yv/ZMs/BfhhzmPx78c2mtBdp62%2BnWxM5BHKyMSjAjIWvYPgN/wT%2B/Yz/ZnaG7%2BDX7PHhzTL%2BAgx6zcWn2y/B9RdXBeYc88MBXsVH1bNMV/HqqnHtT3%2Bc5K/8A4DFeovqmdYz/AHmsqUf5aV%2Bb51Jq/wD4BBep8kH9mL/gq747G3x5/wAFI/D3hWCT/X2Xgb4WW0xI7qk904dP94DNIP8AgkV4F8aHz/2i/wBrb43/ABHZ/wDXWOtePpbaw99lvbKmwH0DV9cUU/7FwEv4qlP/ABznL8HJL8Cv9Xsrn/GUqn%2BOpUmvuclH/wAlPnTwD/wSS/4JxfDeRJtB/ZM8MXboc7/ECzaruPqReySg/lXufg74feAfh3po0f4f%2BCNH0K0AAFro2mRWsfHT5Y1UVsUV14fBYLC/waUY%2BkUvyX6nfhcuy/BL/Z6MIf4YxX5JP8QooqnrniHQPDNg2q%2BJNcs9PtU%2B/c31ykUa/VmIArpbSV2d0ITqSUYJtvZJXb9Erv8AAuUV4144/wCCh/7Cnw5Z4fFv7W/gCGWPPmW1t4nt7mZfrHCzuPyrzXUv%2BC1H7Akt22kfDnx74i8c6kpwNL8GeCNRupnPopeFEP4NXn1c3yqg7TrwT7cyv9ybf4H1%2BA8POPszh7TC5ViZR/m9jUUfVynGnFLzckvM%2Br6K%2BSR/wUQ/aq8e/vPgJ/wSq%2BKepwt/qpvHuqWXhjd6HbcGQ4pT8SP%2BC0Hjz5PDP7NvwV8ArJ/H4w8YXeqPEP8AtwUAt%2BlZf2zhZfwoVJ/4ac7fe1Ffieh/xDXP6H%2B/V8Lhu/tcZhlJesKc681/4Cz61or5K/4Zm/4KvePP3njz/go94c8JRP8A63T/AAL8LLa4BHos944kX64zSN/wSu1rxnz8dv8AgoN8evFcbf67TbXxgul2M3ruggj6fRhij6/j5/w8JL/t6UI/rJ/gL/VPhPC/77n9DzVCjiq7%2BT9nQg/XmsfUHiXx74F8GLv8YeNNJ0oFd2dS1GKAY9fnYcV5/wCKf27P2KfBSM3if9rX4cWjL1hbxpZNL%2BEaylj%2BArzbwz/wRq/4Jv8Ahtjcz/s32usXbtunvvEOt319LM395vOnZc/QAe1eg%2BF/%2BCf/AOw14MdZvDn7Ifw4glT7k7%2BDrOWVfo8kbMPzo589ntClH1lOX5RiH1fwqw/xYjHVv8NLC0U//BlWq0vxPPfEn/BZz/gmn4an%2BxzftO2V9OTiODRtC1G9Mh9AYLdl/Wsv/h8T8BNY/wCSZ/s//HHxrn/V/wDCLfC26l8z6ea0dfUHhvwR4L8GwfZvCHhDS9Kjxjy9N0%2BOBcemEUVqUewzqfxV4R/w07/%2BlT/QP7V8M8P/AAsqxFX/AK%2B4xRT%2BVDDJr5SZ8lH/AIKJftSeLfk%2BEH/BKf4t3rt/qx4zvbLw8D6ZMzPtpV%2BNf/BYrxP%2B90X9iX4YeF1f7sXiT4kNetH/ALxtEAP4V9aUUf2di5/xMXP/ALdUI/lGT/EP9ceHcPphMgwq86s8VXf/AJNXpx/8kPkvy/8AguJrfL3H7MWhxN0CJr1zMv1z8hoPwR/4LDeJ/l1z9uH4Z%2BFwer%2BGvhp9tK/QXbgH8a%2BtKKP7Ig/jrVX/ANxGv/SVEP8AiIeKp/wMswFP0wdOX/pypV/FHyWP2D/26Ne58ff8FavG1wW/1n/CO%2BA9M0ofh5ZbbR/w6q1LW/m8ff8ABRr9pXVc/ft7b4jizt3%2BsccH9a%2BtKKP7Ey1/FGUvWdR/nUD/AIihxpD%2BBWp0v%2BveFwlP7uXCu3yZ8lj/AIIr/sSaw274mw%2BPPGx/i/4Sr4ialNu%2BvlSx103/AAT3%2BC3wx/Z58R/Hr4O/BvwpHonhvRvjLbDTdLiuJZVh83wf4amk%2BeVmdt0kjtyx5avo6vGf2X/%2BS3/tHf8AZZrH/wBQrwvXThsty/Bzc6FKMZPS6Wtu19X%2BJ42d8a8X8SYaOGzTH1a1KL5lCc24KVmuZQSjBOzauop2bR7NRRRXafMBRRRQAUUUUAFFFFABRRRQAUUUUAFFFFABRRRQAUUUUAFFFFAHnv7V1p8A739nfxXb/tQSeF18CHTc6%2BfGs8Eel7RIpiFw1wRFtMwjADnBbaOc4r5F8FfHDTvG3/BBPw1Y/sv/ABV0PXfFGnfs56FHdW3hvxGst1awQWNpb6kM2jNNDJFGLiNmjHmxyLhQJABX35RQB8x/8Ew/Enw9vPA3jvwT8IvC3wqXwx4d8arBpni74J%2BHl0zw54maXTbKaS4hhSe4QzxM/wBlldJ5gzW4yysHijx/2i9D%2BK/xM/bCPw28beBvD1loWqfs4/EnT/DV9pXiae9u9RSe88LRyG6tpLKFLQjcmFSa4DbjkrgbvrSvmf47eP18I/8ABVj9nTwxJNhfFXwr%2BJWnJGW4Z47jwteA49Qtq/4E1jX5PYtT2en/AIF7v6mlDGyy3E08VF2cJwkvVTi4/wDkyRof8EmfF/8Awm//AATj%2BEes%2Bbv8nwomn5z/AM%2Bkslrj8PJx%2BFfRFfJf/BF//iR/sgaj8KTx/wAIH8TPEmgeX/zz8u/ebb7f6/8AWvrSuLJZuplGHb35Ip%2BqXK/xifaeJuGp4TxFzenT%2BH6xVlH/AAzn7SP/AJLVT%2BYUUUV6Z8OFFFFABRRRQAUUUUAFFFFABRRRQAUUUUAFFFFABRRRQAUUUUAFFFFABRRRQAUUUUAFFFFABRRRQAUUUUAFFFFABXjPjj/lIX8L/wDsjPjz/wBO3hCvZq8Z8cf8pC/hf/2Rnx5/6dvCFAHs1FFFABRRRQAUUUUAFeM/sH/8kQ1z/ss3xH/9TXW69mrxn9g//kiGuf8AZZviP/6mut0AezUUUUAFFFFABRSO6RoZJHCqoyzMcAD1r43%2BKf7X/wAaf2z/AIgaj%2BzF/wAE39TittN064%2By%2BP8A46TQ%2Bbp2ij%2BO203teXZHRlO1cggjIlTjxmNo4OK5ruUtIxWspPsl%2Bbdklq2uvBj8xoZfBc15TlpGEdZSfZL827RitZNLf1L9qz/goF8Hv2YtZs/hjY6dqPjn4k6xhdB%2BGvhCL7Tqd0zDKvKFyLaLHJkk/hDFVbaceanwH/wVo/aqG/4hfErwx%2Bzx4XuPvaJ4PRda8RPGescl4%2BIIW9JIMMO617B%2Byh%2Bw78B/2P8ASbp/h3o1zqPiTVyX8S%2BOPENwbvWNZlJ3M89w3OC3OxdqZ5wTkn2GuNYLGY33sXUcU/sQdkv8U1aUn3s4x7X3OCOX5hmHv4%2Bq4Rf/AC7pyaSX96aSnN9%2BVwj0V938%2B/AD/gmP%2ByT8Ade/4T%2BPwTc%2BMvGcjiW68dfEG9bV9VmlH/LUSTApE/8AtRoh9Sa%2BgqKK9DDYXDYSnyUIKK8lb7%2Brfm235nqYTBYPAUvZ4emoR7JWv5vq35tt%2BYUUUyeeC1ge5uZkjjjUtJJIwCqoGSST0FdB1JNuyH0V88fGT/gqh%2Bw58GdV/wCEVu/jTa%2BJ/ELuY7fw14Ft31m9mlH/ACyC2wZEf/Zd1rih%2B1r/AMFIf2gD5f7L/wCwjB4H0qb/AFHir456ubNsHudMtSbhTjnO5hXmVM4y%2BE3CEvaSXSCc38%2BW6Xzkj7nB%2BHHF2Iw0cViaCwtCWqqYqccNBrvH2rjOf/cOjUPryuQ%2BKv7QPwL%2BBlj/AGl8ZfjF4Z8LRFNyHXtbgtWkH%2BwsjAufZQSa%2BdP%2BGDf20vjT%2B%2B/au/4KQeK4bOX/AFvhr4RaZD4fgjHeP7WA00yHod6g44zXYfCn/glB%2BwN8Jr/%2B3rP9nzTPEOru/mXGteNZZNZuJpP%2Beh%2B1s6K3uqrUfWs2r/wqCgu9SWv/AIDDmf3yR0/2F4f5X/yMM2niJL7GEotr09viXSh840ZeV9DmdY/4LIfsn6rqMvh79n7w/wCP/i9qsTbGsfhv4Iu7sK/YNLKsSbe5ZSwA55qsf2gP%2BCsnxt/d/B39i7wd8MNPl4h1v4seLTdzFD/H9jsB5kTgdFfIz14r6w0fRdH8PadFo%2BgaTbWNpAu2C1s4FijjHoqqAAPpVmj6jmNb%2BPiWl2pxUP8AyZ88vyD/AFo4Oy3/AJFeSQnJbTxdWpiH6%2Byp/VqHyamvXr8jp%2BwH%2B2J8Wz9r/ah/4KZeOwknJ0T4TWNv4bghHePz0V5Jl93AODV7Q/8AgjB%2BwLb36654%2B%2BHWueOdUXrqnjbxhf30reuV81Yzn3Svqqimskyu96lPnfebc3/5M2vwRE/FHjtRcMJjHhYPTlw0KeGjbt%2B4p05NetSV%2Bp5d4H/Yj/Y5%2BGqp/wAIL%2By18P8ATZE6XEHhK084/WUxlz%2BJr0rTtM03SLRbDSdPgtYEHyQ28QRF%2BgUACp6K9ClQoUFanBRXkkvySPkMfm2a5rU58biKlWXepUnN/wDk85BRRRWp54UUUUAFFFFABRRRQAUUUUAFFFFABRRRQAV4z%2By//wAlv/aO/wCyzWP/AKhXhevZq8Z/Zf8A%2BS3/ALR3/ZZrH/1CvC9AHs1FFFABRRRQAUUUUAFFFFABRRRQAUUUUAFFFFABRRRQAUUUUAFFFFABRXMfGjQ/FviP4W63pHgX4lal4P1WSzL2niPSLK0uLmyKMHYxx3kM0DMyqyfvI3A35wSBXi/gb9syH4Xf8Es/Av7bH7Q3iGC9vrj4S%2BHNY1u9uprfT49R1a/tLRUVpCEt7UT3lyibyEhi83c2xFJAB9H18A/8FTfGMnw3/wCCnv7EfjxWZEj17xRpc8o6Rx38ug2bFj2XE2CfevZP%2BCV37TWv/tNfAzxNrHjX9o7wn8Tdd8P/ABI1vSr3XvBs9m1kkMd0xt44VteBAIivlNIWkeIIzvIxLn5m/wCC2fjTS/G3jrTbvwbo/iFNe%2BEvw71/X1m1TwjqVhaSSw%2BJvBeWtbu5t0gvAsZlLNbvKF43EbhnzM5coZXVnHeK5v8AwFxl%2BUWePxBKcMlr1I7wjzf%2BASjP8os9%2B/4JqD/hFfjh%2B1J8KPu/Yfjpda4sX91dTtopgR7Hy6%2Bta%2BQP2Uta0%2By/4Kn/ALQFvpU26y8d%2BB/B3ijT/Ro47R7YuPqWBPvX1/UZI19R5F9mdRfdUk1%2BEkfq/iW1W4mhjFqsRhsHVv3c8JQTf/gVN/cFFFFesfABRRRQAUUUUAFFFFABRRRQAUUUUAFFFFABRRRQAUUUUAFFFFABRRRQAUUUUAFFFFABRRRQAUUUUAFFFFABRRRQAV4z44/5SF/C/wD7Iz48/wDTt4Qr2avGfHH/ACkL%2BF//AGRnx5/6dvCFAHs1FFFABXHfHj42eGv2fvh1L8RPE2kanqm7UrHTNM0XRIY5L3VNQvbqK0tLSBZZI4/MknmjXdI6RoCXd0RWYdjXl/7W/wAG/Gfxn%2BGFhY/DW80yLxN4a8YaL4l0CPW55IrK6uNPv4bk2s8kUcjxJNGkkPmrHIYjIJAkmzYwBmf8NufC61/Zs179pXXvC/iPS7bwxqdxpOv%2BFb21t/7WstVhvBZmwZY52tzI07RqkgnMDLKkvm%2BW2%2Bsey/4KAeC9Q0CSO0%2BCPj1/Gkfj2XwcPhkkWltrD6rFp6anIglF%2BdP8pbGRLhpzdiNQwjLCYiKuO1H9kD9ozxP%2By/8AEr4Va9L4KtvEXxN8Sz%2BJtbig1y7n0yWSXUIWk0GQtZpI1lLptrFZy3gUSMbid1tkwqnzxf8Aglp4s/4RjTNXuvgZ8HbiHRvitqPiXRvgM2s3KeCrDS7zQ4dNmsI5hph5N5EdV/5B4i8%2BaVRGGIuKAPuDwrrN74i8M6dr%2BpeGL/RLm%2BsYp7jRtVaE3Vi7oGaCYwSSxGRCSrGOR0yp2uwwT5R%2Bwf8A8kQ1z/ss3xH/APU11utP4Dfs9ax4G/ZI8Mfs3/FbxzqWrXmmeGYNN1bWND16/sJyygfLb3cMqXcapxGknmCUogLHJNc9/wAE6fD1h4S/ZuvvC2lXF9Lbad8W/iHbW8up6pPe3LonjPWlBluLh3mncgcySOzsclmJJNAHulFFFABXPfFb4q/D74IfDvVviv8AFTxTbaL4f0O0a51LUbtsLEg4AAGSzMSFVFBZmYKASQK0PF3i3wx4C8L6h428aa7a6XpGk2cl3qWo3swjitoI1LPI7HgAAE18W/Dvwl4r/wCCtHxWsP2gPi7od3pv7PXhPUjP8OPBeoRGN/Gd5GSo1a%2BjPW2U58qJuGGcjBcSefjsZKg40aK5qs/hXRLrKXaMevVu0Vq9PKzLMJ4Zxw%2BHjzV5/DHokt5zttCPXrJ2jG7ejo9N/ag/4KxlbvXl1z4Rfs63GGh05X8jxH47tz0aUjP2KycfwjJkU/xhlZPsD4V/Cj4cfBDwDpvwv%2BE3g6x0HQNJgEVhpmnxbY416knuzE5LOxLMxJYkkmugREjQRxoFVRhVAwAPSlp4PAQw0nVnJzqy3k9/RLaMe0V6tyepWAyynhJutUk6laXxTe/pFbQgukY6dW5PUKKp%2BIfEXh/wlod14m8V67Z6ZptjC017qGoXSQwW8a8l3kchUUdySBXyl4m/4Kd6t8ZfEN18Nf8AgnH8DNR%2BLerW8xgvfGNzusPC2lv3Ml5IAbgjr5ceN45R26VeKx%2BEwVlVlq9oq7k/SKu391u7R9tkHCef8SucsDRvTp/xKs3GnRpp9alWbjTh5Jycn9mEnofXDMqqWYgADJJ7V84fGr/gqX%2By98L/ABWfhZ8Pb3V/il45clYvBnww046tdBgcHzZIz5MQUkbgz7lHO3iuOH/BPH9o79pgjUf%2BChf7X2q6zps3M3wz%2BGJfRtBAPWGaUf6ReJ1%2B/tYf3q%2Bjvgn%2Bzv8AA39nDwsvgz4F/CzRfC%2BnYHmxaVZLG85HAaWTl5m/2nZm965Pa5tjP4cFRj3naU/lBPlX/b0n6H0X1Dw94d1xuIlmNZf8u8PzUcOn/exFSPtai/68UYJ9KnU%2Bdv8AhY//AAV7/aF%2BXwB8DvAPwN0WbpqfjjVzrer%2BX2eO3tgIUfvsmHHTNOg/4JO6X8Vpk1X9uL9qv4jfGKcsHm0S61U6PoW4c5Sws2XZz6SdAOK%2BuqKf9jYarripSqv%2B%2B/d/8Ajyw%2B9SIfiTnOBXLkdCjl674emlV%2BeIq%2B2xF/OM6XyOK%2BDf7N/wC/Z60r%2Bxvgh8HfDnhaFkCyto2kxQyTAf89JAN8p93JNdrRRXp06VOjBQpxSS6JJL7kkfD4zG43McTLEYurKpUlq5TlKcn6yk5N/NhRRRVnKFFFFABRRRQAUUUUAFFFFABRRRQAUUUUAFFFFABRRRQAUUUUAFFFFABXjP7L//ACW/9o7/ALLNY/8AqFeF69mrxn9l/wD5Lf8AtHf9lmsf/UK8L0AezUUUUAFFFFABRRRQAUUUUAFFFFABRRRQAUUUUAFFFFABRRRQAUUUUAYnxG%2BH/h/4qeCdQ%2BH3iq51eHTtUhEV3JoPiG90q7Chg2I7uxliuISSACY5FJBKnIJB5z4B/sz/AAn/AGZvBuk/Dz4QR%2BJLXRNC0ldM0fTdZ8davq8VpaIR5cSDULqbAQKqJ3RAEUhBtrvqKAMH4f8Awx8D/C211Sy8CaH9hi1rX7zWtTX7TLL519dymW4mzIzFdzknauFGcKAOK%2BbP%2BCgvw9/4Wv8AFOP4cJB5kusfsvfFG2tVxn9%2Bbzwp5RHuJAp/CvrGvGPHkaS/8FB/hhFIgZW%2BDHj0MrDII/tbwhxWdalGvRlTltJNfemv1McRRjicPOjLaSafo01%2Bp8hfsgfEM2H7R37JXx1a4P2f4sfs93PgTVZyfke/0gJcB29Hd42QevIFfpJX5JaEJ/hH/wAE8/DfjGIss/7Kf7V9xZ6g3Vk09dUKXEJ77X%2B3xg%2Bwr9bI5ElQSxOGVgCrKcgj1r5zhmrJ0Z05b2hP/wACgoy/8npSPssdWlm/h1w1m8tZfV54Wp/jwlVqKfn7KtH5RFooor6c%2BTCiiigAooooAKKKKACiiigAooooAKKKKACiiigAooooAKKKKACiiigAooooAKKKKACiiigAooooAKKKKACiiigArxnxx/ykL%2BF//ZGfHn/p28IV7NXjPjj/AJSF/C//ALIz48/9O3hCgD2aiiigAooooAKKKKACvGf2D/8AkiGuf9lm%2BI//AKmut17NXjP7B/8AyRDXP%2ByzfEf/ANTXW6APZqSSSOGNpZZFVFUlmY4AA6kmlr5D/wCCgPxS8dfHv4j6V/wTM/Zz12Wz1/xhZfbPih4mszk%2BGPDOQJcnoJ7kHy0U/wAL84EiuOTG4uOCw7qNXeiilvKT0UV6v7km3ojhzHHQy/Cuq1zSbSjFbyk9IxXq%2BuyScnomcr4iv9X/AOCvXxqn8AeHby4t/wBmnwDrIHiPVLaRo/8AhYWrwsGFpE4wTYQsAWccOcEZJRo/t/S9L03Q9Mt9F0XT4LSzs4EgtLS2iEccMSKFVEVcBVAAAA4AFYvwm%2BFXgT4H/DbRfhJ8MtAi0zQfD%2Bnx2em2UI4SNR1Y9WdjlmY8szMxJJJroaywGDlh1KrWfNVnrJ9PKMe0Y7JddZPVu2OWYCeFUq1d81apZzl08ox7QjtFddZP3pOxXhH7W/7e/wAN/wBmLUbH4Y%2BHtAvvHfxP18BfDHw28M/vL67Yg4lnIBFrAMEmVx90MVVgrY8%2B%2BPn7aXxW%2BOfxPv8A9j3/AIJ0RWmp%2BKLNvJ8dfE%2B6j83RvBkZJDKGwVur3hgsQyFYEENtkEfqH7I37DXwh/ZG0%2B91jQpL3xH4114%2Bb4t%2BIXiSX7RqusTEgsXlbJjj3AERKcDAJ3MCx56mMxGOqOjgWklpKo9Un1UFtOS6v4Ivdyfun65heG8n4WwlPMeKIuVSaUqWDi3GpOLV41MRJe9h6MtHGKX1itHWEaUGqr8h8OfsFfHT9rrXbT4of8FOviBFqFhBOtzo3wS8I3Tw6BpzA5Q3kitvv5l75OwHcAzI22vrfwv4V8MeCNAtfCngzw5YaRpdjEIrLTdMtEggt0HRUjQBVHsBV%2BiuvCYDDYO8oK8nvJu8perf4JWiuiR87xDxbnXEnJSxElChTv7OhTiqdGkn/JTjpd/anJzqT3nUk9EUUUV2nzIUUUUAFFFFABRRRQAUUUUAFFFFABRRRQAUUUUAFFFFABRRRQAUUUUAFFFFABRRRQAUUUUAFeM/sv8A/Jb/ANo7/ss1j/6hXhevZq8Z/Zf/AOS3/tHf9lmsf/UK8L0AezUUUUAFFFFABRRRQAUUUUAFFFFABRRRQAUUUUAFFFFABRRRQAUUUUAc58XfEfxA8I/DfVvEvws8E6b4j1%2BztxJp%2BjavrzaZbXJ3Lu8y6S3uGiVU3NkQyE7cBea5b4U/HLxt8b/2RfB/7R3w4%2BGdjJrnjTwLpPiDTfCmp%2BI2t7eGS9tYbj7PLerbOwSMSkGVYGJCZEeSFrrfijonjzxL8PtV0D4ZeKdI0TXby1MVhquvaFLqdpbkkBmktorm1eUbNwAE0eCQckAqfGvhb%2By9%2B1Z8KP2KNM/ZS8M/tXeFbLXPD3w7t/C3hjx7pvwsmSSwe3hjtoL5rSbVpklkWCPlC4Uy4k4QeSQDtv2Yfj94g%2BO2meLrDxr4CsvD3iHwL40n8NeILTR9ebVNPluY7W1u/Mtbtre3aePy7yJG3Qxsk0c0ZXMeTj%2BOP%2BUhfwv/AOyM%2BPP/AE7eEK2f2RvgV4n/AGbfgrZfB/xL4k8M6qNMuJTZXfhjwxd6WkkcmJJJLkXeoX8tzdyztPNLdPNuleYsy7tzvwt/8I/hR4G/4KbeC/Hvgn4Y%2BHtH13xP8HvHEviXWtK0WC3u9WePVvCXltczRoHnK73wXLEbjjqaAPnuH4Sf8Jv4z/b0/Y7S13PrcNn4p0CHbkTXeoaW0%2B8DvtuoIQfevqf/AIJ6fFv/AIXn%2BxD8L/ibLdedcX3g60h1CXOd93bp9muD/wB/opK8o8eSN8CP%2BCxngzxhdfJo/wAa/hjeeHGdhhV1bTJRdoxPQFrdhGoPUk49Kf8A8Ek/%2BLeeF/i5%2BynP%2B7/4Vd8YdXstJt/7mlXTi6tGx23b5jivk8u/2bNVT86sPukq0P8AyWcreh9Nwj/t3hbmuXP48BjYVku1PEc9GXyvKi/xfQ%2BuKKKK%2BsPmQooooAKKKKACiiigAooooAKKKKACiiigAooooAKKKKACiiigAooooAKKKKACiiigAooooAKKKKACiiigAooooAK8Z8cf8pC/hf8A9kZ8ef8Ap28IV7NXjPjj/lIX8L/%2ByM%2BPP/Tt4QoA9mooooAK8w/a2%2BMnjL4MfDCwvvhrZ6ZL4l8SeMNF8NaBJrcEktla3GoX8NsbqeOKSN5Y4Y5JJvKWSMymIRh49%2B9fT64348fBLw1%2B0D8Opfh34m1jU9L26lY6npetaJNHHe6XqFldRXdpdwNLHJHvjnhjbbIjxuAUdHRmUgHiWq/tk/Gbwp%2Bxr8UPinrnh/w5f%2BPfhb4m1Dw/qT2FlPFpl7LDcQiO%2BitWuHnYG1uYZ/sSzvK8oa3jldmRzwtv/wAFIvjQf2WvHXiTSNE8Pa78StL8WatofgiC58I6noEV3FZaXb6jcalqWi3s7ahpcVtHLLugnlR7gJamN4xqFvXtEf7B3gGT4Lax8EdX%2BKvjW/tNe1P%2B2tT1q5ubBNRl18amupprQlitEVbpLmOApGEFqiW0Ua24RSpytX/4Jifsq/EDwF4n8J/tBeEoPipq/i3U7zUdV8afEXQNJv8AVYry40%2B104z2uyyjt7NktbGzjUQQRr/oyMwZ9zMAen%2BDfjNoCfs8aF8d/i54m0Xw5Y3XhSx1bXNTv71LOwsjNBHI7NJM%2BI4wz4BduBjJNcF/wTp8T%2BGvGv7N194w8G%2BIbHV9I1T4t/EO70zVNMu0uLa7gk8Z600csUqErIjKQwZSQQQQa9Q%2BD3wn8DfAj4V%2BHvg18NNEg07QfDOkQadpdpb20UKpFEgUHZEiIGbBZtqqCzE4Ga89/YP/AOSIa5/2Wb4j/wDqa63QB2f7RXxk0T9nn4EeL/jh4h2G18LeHrrUTE7Y8944y0cQ93fag92FeNf8EuvgDqvw7%2BAi/H34qTS6h8Tfi/5Xijx1rN2gExadfMtrNR/yzigidVEfRWL4wMAc3/wVUnm%2BMuofCL9grSZmZ/i149hm8TRRtz/wj%2Bmbby9zj7pJWLaTwShFfXUMMNtClvbxLHHGoVERcBQOAAB0FeRBLF5xKT1jRSS/xz1k/VQ5Y%2BXM%2B54VNLHZ9Ob1jh4qK/6%2BTXNJ%2Bqhyx8uZ9x1fIn7afxy%2BJf7QnxZX/gnD%2ByN4iksde1C0Wf4seOrTJXwfoz4zEjA/8fs6nai5DKrZ43eZH6B/wUE/at139mz4VWXhr4TaYurfFHx/qI0L4a6Eqhmmv5MBrl1PHkwKwkdj8udisQGyNn9iT9kXw5%2ByB8IF8KLqb614r1u5OqePfF12xe51zVZPmmmd2%2BYoGLBFPReTlmZmnGTqY7EPA0naKSdSS3Se0E%2BkpLd7xhrvJW/ZuG8NhOFMnjxRj4KdWUpRwdKSTjKpCyniakXpKlQk0oRaarYi0XenSqKXW/s%2B/s9fCT9l74Wab8Hfgt4Sg0jRdNjACRqDLcy4AeeZ8ZllfALOeTwOAAB2tFFetTp06NNU6aSilZJaJI/P8bjcZmWMqYvF1JVKtRuUpSblKUm7ttu7bb/rZIoooqzmCiiigAooooAKKKKACiiigAooooAKKKKACiiigAooooAKKKKACiiigAooooAKKKKACiiigAooooAK8Z/Zf/5Lf%2B0d/wBlmsf/AFCvC9ezV4z%2By/8A8lv/AGjv%2ByzWP/qFeF6APZqKKKACiiigAooooAKKKKACiiigAooooAKKKKACiiigAooooAKKKKACisD4pfE3wl8G/AWo/Evx0%2BpLpWlRo92dI0K71O5IZ1jUR2tnFLPMxZlG2ONjznGATWVF%2B0N8Gpf2f7f9qVvHMEXgK68Kw%2BJIPENzbyxI2mS263Ec5jdBKC0TKRGUEmWC7d3FAHaV4z44/wCUhfwv/wCyM%2BPP/Tt4QruPgz8c/hp8fvDV14q%2BGWq300On6nJp2qWer6FeaXfafdoiO0FzZ30UNxbSeXJFIFljUtHLG4yrqx4fxx/ykL%2BF/wD2Rnx5/wCnbwhQB5t/wWD8OaxpX7NOj/tM%2BELNptd%2BC/jrSvF9kkXDzW8M4iuYc/3DFKXYdCIqxPAHirR/hD/wVgutcsbpG8K/tNfDWx1Xw9qCHEdzq2lQ48sDpk2Ugkz3LAY5r6s%2BKXw90H4t/DPxD8K/FEW/TfEmiXWl364zmG4haJ8e%2B1jX5uaVB8RPHn/BJzw/4%2B0iHf8AFX9kPx3NHJEpOf8AiS3Gy4tWPXyzp7Rllx8xhA6V8pm8ZYXMPbwXRVF5uldTXq6M3/4Cj6Lw3rUKXH9TJsRJRo5vh5YZt6KNVOLozb6ctVUG3/K5PofqDRWB8K/iR4Y%2BMXwz8P8AxX8F3fn6T4k0a21LTpMjJhmjWRQcdGAbBHYgjtW/X1MJxqQUou6eq9HqeFiKFbC150K0XGcG4yT0alFuLTXdNNPzTCiiiqMgooooAKKKKACiiigAooooAKKKKACiiigAooooAKKKKACiiigAooooAKKKKACiiigAooooAKKKKACiiigArxnxx/ykL%2BF//ZGfHn/p28IV7NXjPjj/AJSF/C//ALIz48/9O3hCgD2aiiigAooooAKKKKACvGf2D/8AkiGuf9lm%2BI//AKmut17NXgX7J3i2z8A/sq%2BN/Heo4%2Bz6L8T/AIoX8%2B44GyHxhrsjfoppSkoxcnsiZSjCLlLZa/dqeffs6f8AGSf/AAVD%2BLv7Q837/QvhNo9t8O/Csh5Q37N9p1NwOgkjkIhJ6lXA9q%2BrvFnirw94F8Lal428XatFYaVo9hNe6nfTthLe3iQvJIx9FVST9K%2Bbf%2BCNvgy58Nf8E/PB3irW90mt%2BNri/wDE/iC9kHz3l1eXcriZvcwiEf8AARWH/wAFKvEGt/tA%2BPfAn/BNH4d6nNDdfEa5GrfEa9tHw%2BmeFbSQNMSR9xriRREh6EoyHh6%2BfwuIlg8l%2BtNXqVXzJd51H7sfucF5KLfQ7PDHh18S4rD0q8/Zwq8%2BIr1N/Z0UnVqzf%2BCkoxius3TiviRB%2BwX4P8T/ALWnxn1b/gp78ZdGntYdVtpNI%2BCfh69XnR/D4Zla%2BK9FuLo7mLDkIzAMyOoH2LVPw94f0XwnoFj4W8N6ZDZadplnFa2FnbptjggjQIkajsqqAAPQVcr1MBhFgsOoN80nrKX80nu/0S6JJdD2%2BLOIZcS5zLEwh7OhBKnRprVUqMLqnTXdpe9OW86k6k3rLQooortPmgooooAKKKKACiiigAooooAKKKKACiiigAooooAKKKKACiiigAooooAKKKKACiiigAooooAKKKKACiiigArxn9l//kt/7R3/AGWax/8AUK8L17NXjP7L/wDyW/8AaO/7LNY/%2BoV4XoA9mooooAKKKKACiiigAooooAKKKKACiiigAooooAKKKKACiiigAooooA5z4ua14g8P/DTWtV8K/DzV/FeopYstp4e0G4soru8Z8Jtje%2BuLe3UgMWPmSoMKcEnCn5Z8F/B79ozxh/wSp8G/swaz%2Bztrvhfxx4N%2BHfheJtL8Ra1o722oalocthIbET2N9cqEuWsiqyMAojlBk2NlK%2ByaKAPFP2Q/BXxLtPFfxY%2BNfxN%2BHF94Nm%2BJHjy21TS/Cmq31ncXtjaWuiaZpivdNYzz2/nSSWUsmIppAImhBbcGVcO/8F%2BJPD3/AAU28F%2BItW%2BLniHXbPVvg944ew0HVbbTktNFC6t4Syls1taRTuH3DP2iWc/INpX5s/Q9eM%2BOP%2BUhfwv/AOyM%2BPP/AE7eEKAPZq%2BN/hdb6Z%2Bzz/wVG%2BJ3wC8XWKL4X/aB8Pw%2BKPC0NwgNvcalbQtBqlqAfvSSITOw/uAeoz9kV80/8FRvgd4w%2BIfwEtPjb8HYcfET4P6vH4u8GyIhLzm3%2Ba6syByyTQKwMY%2B%2ByRqeK8vNqc/YRxFNXlSfNburNTj84N280jx86hWp0IYygm6lCSqJLdpJqaXm4Ntf3oxOb/4JXapffB5/iX/wT78VX0j3vwe8XSHwyblyZLnw5flrqxkyeXK75FbGQu5F9K%2Buq%2BEP2j/HEWr%2BDPhl/wAFq/2WtMlvG0fQY0%2BIuhWbAyat4Xmb/S4Hxw09lMHYHoDGzEkRgV9s%2BA/HPhT4neCdJ%2BIvgXWodR0bXNOhvtLvoDlJ4JUDo49Mgjg8joawyatCFN4S9%2BRJwf8ANSlrBr0T5H2cV3P1vjh0eIaWG4xwbUqWPS9rb7GKjCHtk7bKt7uJpvTmjVqW1hJLWooor2z88CiiigAooooAKKKKACiiigAooooAKKKKACiiigAooooAKKKKACiiigAooooAKKKKACiiigAooooAKKKKACvGfHH/ACkL%2BF//AGRnx5/6dvCFezV4z44/5SF/C/8A7Iz48/8ATt4QoA9mooooAK%2Bfv%2BClx0wfs12v/CaeX/whX/CwvC//AAsj7R/x7/8ACPf2zafbftWePsfl/wDHzu/d/ZvP8z93vr6BooA/O/UfFHw5f/gmZ8aPBHwx8T6fD4Km8cX7/Du30e4jazsfCk%2BtwW5v/ITJfQI7n7e7iMCF7CKVImEZQjgNA%2BI/7D3wg/ZX8a6L8bfDPwN%2BIVrqnx0vNK%2BDe6zstK%2BH%2Bq6hPoemyPdaXDcyzwaVp9rmdbqVJ7gi5t75onae5W2r9T6KAPLvgNo/ifwB%2Bxv4G8NfC/x5pPxR1TRfh9pNnpXinVvEbw2fih4bOGMX0l7DFdsFnCmXzVSbO/PzZzXy/wCNfiN4l8Af8EX/AI1%2BL/GOn2Omaxc%2BJ/iZYahaaXqL3dvbXV74z1izZIZ3ihaVQ9xhZGijZhglFJwPvGvzi/aj/wCKn/YE0j4GD5/%2BFmftleIfDTw/89Ek%2BIGt3DZHoPs4z26V5ucVJUsqryjvytL1kuVfjJHkZ/VlRyTEyjvySS9ZLlX4zR9r/APQdI/Z9/ZK8G%2BHfEMy2Vl4M%2BHthDqU0gwIktbFBK7fTYxP414Z/wAEufCuvfF3/hM/%2BCjPxNsGi8QfGLUj/wAI1ZznL6R4ZtXMVlbDspfZ5rleHxGxGc1uf8Fd/iHrvhP9irWPhx4Klx4k%2BKGr2Pgjw7Dux50%2BozCKROOebcTjj2r3/wCFnw80L4R/DLw78KvC8ezTfDWh2ul2C7cfuYIViTPvhRmuaNKNXNIUV8FCCf8A29L3Y/dCLa/xXP1fAQjw14YSnS0q4%2Br7BPr9WwsacqiXZVMRKlGXdUeXa6e9RRRXtn5%2BFFFFABRRRQAUUUUAFFFFABRRRQAUUUUAFFFFABRRRQAUUUUAFFFFABRRRQAUUUUAFFFFABRRRQAUUUUAFFFFABXjP7L/APyW/wDaO/7LNY/%2BoV4Xr2avGf2X/wDkt/7R3/ZZrH/1CvC9AHs1FFFABRRRQAUUUUAFFFFABRRRQAUUUUAFFFFABRRRQAUUUUAFFFFABRXj3/BQc%2BOR%2Bw58WD8N/wC0/wC2P%2BEC1P7P/Ym/7ds%2Bzv5v2by/n8/yvM8vZ8%2B/bt%2BbFfOfwP8AGn7PfhrwH%2B0tp37H17p83wzufDr3Hw70P4T6hbwjUdUg8PhtVXQRDmMygNYBmhVlS7eQuPNMuQD7trxnxx/ykL%2BF/wD2Rnx5/wCnbwhXzn/wRp0nwh4d8bfEXRPh34z%2BHXijR/8AhCPBc0viD4N6L/Znhv7cY9USe1kthNOrawgSOS7ufMV5YrixDwW5iUSe13%2BpfFe7/wCCm3guz8beC/D2n6Fb/B7xwPDWo6V4nnvLu/Q6t4S8xrm2ksoUtCMJgJNcBtxyV2jcAfQ9BAIwRRRQB8U/sxNpX7Ev7XXjH/gn/wDEOxSH4ffE69uvEvwakvIw1m/nLnUtEGflGxjuSI9UJJ5lUFP2W/E9z/wTl/aJuf2B/ircTwfDnxjq8%2BofAXxNeSEwQmZt8%2BgySE/JIkjkxbjl9/XMiLXu/wC25%2ByXoP7YPwTn8BSas2jeJNLuo9V8D%2BKbclZ9E1eH5oLhGX5gu75XA5KscYYKR458Itc8Gf8ABUX9l3xN%2Byt%2B114aGj/E3wTeDTPHOmwbY7rStViB%2Bz6xZH%2BFJP8AWI6/IcunzIct8pPDVsHiY0aVlKPNKi3tKL1nRl%2BcX0Vml7jT9PgLiDAcOYqvwznSby3GWacdZUpRblCdNPR1MO5yahde2w06lK6cYuP2HRXyV%2Bx/%2B1r8QPhf8Qo/2Cv26tWW1%2BI2nAxeCvGVyhjsvHunLxFPFI3H2sDCyRE7iwzy24D61r6DB4yljqPPDRrRp7xa3i10a%2B5qzTaaZ28S8N5hwvmP1bE2lGSU6dSGtOtTl8NWnL7UZL/t6MlKE4xnCUUUUUV1nz4UUUUAFFFFABRRRQAUUUUAFFFFABRRRQAUUUUAFFFFABRRRQAUUUUAFFFFABRRRQAUUUUAFFFFABXjPjj/AJSF/C//ALIz48/9O3hCvZq8Z8cf8pC/hf8A9kZ8ef8Ap28IUAezUUUUAFFFcd8ePjZ4a/Z%2B%2BHUvxE8TaRqeqbtSsdM0zRdEhjkvdU1C9uorS0tIFlkjj8ySeaNd0jpGgJd3RFZgAdjRXjn/AA258LrX9mzXv2lde8L%2BI9LtvDGp3Gk6/wCFb21t/wC1rLVYbwWZsGWOdrcyNO0apIJzAyypL5vltvrn0/4KH%2BD7rSzp2mfs/wDxFvPG6%2BNrrwtL8MrWHSG1iO%2BttOj1OdjKdRGnmFLOaCUyi7K7po4f9cfKoA%2Bg6/OKy/4rv9o/9m/4Nr%2B8hj/aM%2BMnim/XqIv7P8Tay1u5HvI7KD6199/CP4peDfjf8LfDvxj%2BHmoPdaF4p0W21TSZ5YWidreeJZE3o2GjcBgGRgGVgQQCDXwJ%2Bwfn4h/8FRNc/js/h3o/xH/7ZX9/8SNb/LNuP0rys39%2BhTpfz1Ka%2BSlzP8IHiZ97%2BHpUf%2BflWlH5KfO/wpnsX7QP/GQH/BVb4P8AwNi/faR8KfDF/wCP/EMQ5RruVhZ6erHtJHJmUDrtYnpX13XyJ/wTQ/4vR8Yfj5%2B2zdfvYfGnxCPh/wALTtyG0bR4/s0Usfosjs5IHVo8mvrupyf97SqYp/8AL2cpL/Cvch/5LG//AG8frviN/sGYYPIo7YHD0qUl/wBPpr6xiPmqtdQf/Xq3SyKKKK9c/PQooooAKKKKACiiigAooooAKKKKACiiigAooooAKKKKACiiigAooooAKKKKACiiigAooooAKKKKACiiigAooooAK8Z/Zf8A%2BS3/ALR3/ZZrH/1CvC9ezV4z%2By//AMlv/aO/7LNY/wDqFeF6APZqKKKACiiigAooooAKKKKACiiigAooooAKKKKACiiigAooooAKKKKACiiigArxnxx/ykL%2BF/8A2Rnx5/6dvCFezV4z44/5SF/C/wD7Iz48/wDTt4QoA9mooooAK%2Baf20v2MfGfjTxhYftd/si67b%2BGfjV4WttltcS/LZeKbIYLaXqC5AdGAwkh5Q7eQArR/S1Fc2LwlHGUXTqLTdNaNNbNPo10f5ptPkx2Cw%2BYYd0aq03TWji1tKL3Uk9U1%2BKbT%2BTvCHir9mT/AIK7/ATUvhR8ZvA9xoPjTwzd%2BT4n8KXcvka34P1aP5RcW8hAcLuGUlA2OPldfvIOc8IftX/H/wD4J6ana/Bz/goXBfeI/An2lbTwp8ftMtGliaMkCKHWIk3PbzDhfO%2BYOeu/DyV6f%2B1x%2BwH4b%2BPXia0%2BPXwd8Z3Xw4%2BMOhx/8SLx/ocYDTqBgW1/F927t2AClXyQOBlco3C/Df8A4KAWuj6v/wAMl/8ABUD4bad4D8XahG9lDq2o24l8J%2BMIiNpe3uJAY03g/NDNgDcFJDN5a/PVlWw2IUq8/Z1do1be5UXSNRaJS9WtbunPXkPoOG%2BP55FglkHFVH6zgJSvF83I4TentKNSz%2Br1mrc8JJ4evZc0b2cPrLw34l8O%2BMdBtPFXhLXrPVNM1CBZ7HUdPuVmguImGVdHQlXUjoQcVdr471f/AIJ//G/9lvVrr4i/8ExvjNFoVhdTtd33we8ZySXfhq%2BZvmb7K4JlsXbrlDgnA3IgxWv8Ov8Agqt8OdE8S23wm/bc%2BHOs/A3xrI3lrD4tTdot%2B44L2mpoPJkj/wBpyijpuY816cM1VGSp46Pspd27wl6T2V%2B0%2BV%2Bp9diOAamZ0pYvhat9fopXcIrlxVNb/vMNdykl1qYd16btf3E7L6toqDS9V0vXNNg1jRdSt7y0uohJbXVrMskcqEZDKykhgR0I4qevXTTV0fnsoyhJxkrNBRRRQIKKKKACiiigAooooAKKKKACiiigAooooAKKKKACiiigAooooAKKKKACiiigAooooAK8Z8cf8pC/hf8A9kZ8ef8Ap28IV7NXjPjj/lIX8L/%2ByM%2BPP/Tt4QoA9mooooAK8v8A2t/g34z%2BM/wwsLH4a3mmReJvDXjDRfEugR63PJFZXVxp9/Dcm1nkijkeJJo0kh81Y5DEZBIEk2bG9QooA%2BU9R/ZA/aM8T/sv/Er4Va9L4KtvEXxN8Sz%2BJtbig1y7n0yWSXUIWk0GQtZpI1lLptrFZy3gUSMbid1tkwqnmPhh%2Bwj%2B0V8C7vTvi18GfA3wp0LV9J%2BIGsapofwh03xFeWvhbRdH1HR7Oyns7S8i0zfFI17ZLqTbLFI2e6uIwil/PP2nRQB5Z8Bv2aLT4XfsjeFv2XvFnijUL46R4VttM1jWdA1S70ma5uFQGeaCa1lSe1DS72XZIGVSF3Hkn4K/4Jg28HwIb9u347W19fy2fgvx54p03RbrVdUnvbhI9Nv9auXD3Nw7zTyM0sbM8js7NyWJJJ/Uivy38SafqHwc/wCCUP7WPiCytXGofEb9p7x9Bp8eMPcfafF8ml7Vz1GyCU%2BnB9a8XO26dBV/%2BfanP5qnNL8ZI9PhnIv9ZOO8ly%2BSvGeKpp9rSai7%2BXK5/mfYn/BKP4fj4af8E6fhJ4d8jy2uPCUWqOuMHN873pJ9/wDSK%2BhKxfhv4OtPh38PNB%2BH%2Bn48jQtFtdPg2jA2QwrGMfgorar0MFQWFwVKj/LGK%2B5Jf5nTxPmrz7iXHZk3f29arU%2BU6k5L8HEKKKK6jwwooooAKKKKACiiigAooooAKKKKACiiigAooooAKKKKACiiigAooooAKKKKACiiigAooooAKKKKACiiigAooooAK8Z/Zf8A%2BS3/ALR3/ZZrH/1CvC9ezV4z%2By//AMlv/aO/7LNY/wDqFeF6APZqKKKACiiigAooooAKKKKACiiigAooooAKKKKACiiigAooooAKKKKAPMP20/i94q%2BAf7JnxD%2BMfgaO1Ot%2BH/Cl5daO99EXt4boRkRSyqCC0SOVd1yMqrDIzkeZeCvjt8WfgPpP7QXhj4m%2BP9S%2BJknwe8PQeI9H1vVtPsbO%2Bv4JtJkumsZxp9vBbl1mtZSrpCp8q4iVg7IXf6J8aeDfCvxF8Hat8PvHWgWuq6Jrumz6frGl3sQeG8tZo2jlhkU8MjozKR3BNcX8Kf2T/gh8FrO5sfAmia1tv7mafVpNb8Y6pqsuqyS28NsTeyX1zM97tgt4YoxOZBEkYWPYMggHl3/BPP45eOfiVbaj4d%2BM/j34hX3jKbwroniWfSPHHhzRNPtYrG/FyI7rS10tC4tJJYJ0EN7LJeQiBBKFL5fRv/id4b8Y/wDBTbwX4M0nTfEMN54e%2BD3jiO/m1XwjqNjaSl9W8JYNtdXMEcF6BtOWt3kC5G4jcufQ/gV%2Byr8Df2bptQu/hH4XvrS41OztLK5utV8SahqkyWVr5v2Wyikvp5ngtYfOm8q2iKwxmVyqLuOed8cf8pC/hf8A9kZ8ef8Ap28IUAezUUUUAFFFFABXNfFn4O/C347%2BB7v4bfGLwHpniPQ75cXGnaraiRM84dc8o4zlXUhlPIINdLRUzhCpBxmrp7p6p/IipTp1YOE0mno01dNeaejPjSP9j39tj9ibdd/sCfGeDxl4It2Lx/Bv4oXLSC1j/wCeWnalnfD6JHIRGvVmc1Ztf%2BCj/wCyT8WY2/Z3/b7%2BD9x8Ltevh5d34T%2BLejI%2BlXbDgvb3robaaME8St5ec/L619hVhfET4YfDj4u%2BGJvBXxU8B6P4j0i4/wBdput6dHdQsfXZICMjseo7V5Esrq4eLWDqWj/JNc8PRfaivJNr%2B6eTQy/H5TWjWyjEOk4u6i3JxTW3I1JVKbXTknZdIo%2BW0/4Jhad8Pl/4T/8A4J0ftY%2BKvhSL0/arfRLO%2BGueGLvd8277HcMy/Nk/OrkKD8q9qkX9pf8A4Kdfs6D7N%2B0b%2BxnpvxP0e34l8WfBbVS10UHRjpdziWSQjkiMqoPA6ipdS/4JNeGvhnfz%2BJP2Gf2lPHvwUv5JGlGkaTqR1PQZJCclpNOu2Kvz23hQCQBUS/E7/gr5%2Bz4PK%2BInwB8BfHDRoODq3gPWzourGMdZJba6Bid/%2BmcI54Ga8v2E8E9KdSh50n7Sn/4A7tfKCPv14t55XiqfFuWQx8dvaSi51beWJw/ssV/4NhXt1udT8MP%2BCt37CnxF1b/hFNc%2BLp8DeIEYLdeHviNp0ui3Ns56I7XAEO7thZDX0Vomu6J4l0uHW/Dms2moWVwu6C8srhZYpF9VdSQw%2Bhr4y8af8FJf%2BCfXxRhi%2BHv7dnwC1/wLdyExJpPxm%2BGUjQ7%2B/lTCOZAvcSEpxg8VX8Ef8E9v%2BCafxduZPF/7EH7QWq%2BCdTn/AHr33wX%2BKjod3%2B3AZJlQDoUCrxxxXTh80xk5ctKdKt5KTpz%2BcZXV/uOvC5l4N8Ry5cLi6%2BCqfyyVPFwT/wC3XhsTFetKb9dz7for5HH7MP8AwVO%2BEvzfBr/goLoPje0j/wCPfRfiv4GQYA7Pe2R86TPckCl/4aX/AOCrPwvGz4q/8E%2BPDXja3j/4%2BNV%2BGXxCjhx/tJaXqmV89gCDXd/avs/49CpD/t3nX3wcvyPQ/wBQFjNcqzXB4jsvb/V5/wDgGKhR18lUeuivufW9FfJP/D3z4W%2BEP3f7QX7L3xu%2BGxj/ANfeeJfh3M9mPUrNbtJvX3C12fgH/gq3/wAE6viVs/4R39rjwjbmT7q67dvpZ%2BhF6sWDV085ympLlVeKfZvlf3S5Wc2L8NPEHB0XWnldaVP%2BenD20P8AwOg68fx%2BR9B0VheDvih8NPiJB9p%2BH/xE0LXYyuRJo2rw3S49cxs1btejGUZxvF3Xlr%2BR8ZWoV8NUdOtBxkt1JOLXqpJNfNBRRRVGQUUUUAFFFFABRRRQAUUUUAFFFFABRRRQAUUUUAFFFFABXjPjj/lIX8L/APsjPjz/ANO3hCvZq8Z8cf8AKQv4X/8AZGfHn/p28IUAezUUUUAFFFeQ/tr/ABI8ffDz4T6RZfDLxK2hax4s8f8Ah3wxD4iS0hnfSYtQ1O3t57mOOdHiaYQvIIvMR4xK0ZdHUFGAPXqK8H/Zp8Q/Fn4wfCLx58L/ABd8a9bi8QeD/iDqvhi3%2BIul6bpkeo3UEEsc0FyYZLR7LzxDMkEpFsI2eORljj3BV%2BcNF/aB/bKv/gD4H17wn8c/iD43f4mfGPxCfC7%2BHNH8JReLbvwdZ2l4ljJZ/bbO20cxyvaQX0k1wiv5F8I0cyGNCAfoPX5xfGuRfFfwZ%2BEHwQAZ08UftueL7nVIVQsX02w8Z%2BILm5%2BUcnACH8K%2Buf2Wfj5rHiz9h/wP%2B0B8WtVm1vVbrwXZ3nia48LeGL25lmvBGq3CxWNvA1w0glDq0SRZDK2EUDA%2BKfgt4qt/jN%2B2Z8CbDQF1CKz8M%2BNvi54wlttR0yeyuFivvHGp2EXn29wiTQOCSDHIiurEhlByK8rOrSwPsv55Qj9843/CLPv/AAz5qPFLxy/5haGKr%2Bjp4atyf%2BVKsLedj9Jf%2BEw0n/n01T/wR3f/AMapf%2BEw0n/n01X/AMEd3/8AGq%2BdvH3/AAWR/wCCb3wv8d618NPHP7Rv2HW/DurXOmaxZf8ACIaxL9nureVopY98doyPtdGG5SVOMgkc1k/8Py/%2BCWn/AEdD/wCWTrf/AMhU5Z5ksJOMsTTTX9%2BP%2BZFHwt8TMRRjVpZJi5Rkk01h6rTTSaaahZpppp9U0%2Bp9P/8ACYaT/wA%2Bmq/%2BCO7/APjVH/CYaT/z6ar/AOCO7/8AjVfO3gH/AILI/wDBN74oeO9F%2BGngb9o37drfiLVrbTNHsv8AhENYi%2B0XVxKsUUe%2BS0VE3O6jcxCjOSQOa779v74wfEz9n39ib4p/HH4N2mmzeJ/CXgfUNV0ddXmZLdZYIWk3vtjk3bVDME24dlCFkDF168LjcHjYuWHqRmlvytO3rY%2BfzzhniThitClnGCq4aU03FVac6bkk7NpTSbSeja66Hpf/AAmGk/8APpqv/gju/wD41R/wmGk/8%2Bmq/wDgju//AI1Xz3qf7bnxt8K/EPxz4L%2BIXwK8CaFp/wAMvh5aeJvHPie7%2BKl0bG3e7i1Rre2tsaOJZ1D6fGJZXSIolwWjjmdBFJzPw2/4KVav8VdU8M6Hq3wn1fwvrcXxol8HeIdIWW8toZEPg/UNfhn26xo9pevC6QxJt%2Bz2kglQMsskKlbjpPDPqr/hMNJ/59NV/wDBHd//ABqj/hMNJ/59NV/8Ed3/APGq%2Bef2Sv2%2BfiT%2B0Pp%2BiXHjn9mD/hH7vxZ8JtF%2BIPhPS/D3jWHVZ7rTr5gjwTm4gsore4hLxMVDyI6PkOGUx11P7Vfiz4q6l8Wvhf8As8fC34r6h4Ebxtdaxdat4r0bTbG6vYrewshIttAt/b3FurSTTQszPE58qCVV2swkQA9d/wCEw0n/AJ9NV/8ABHd//GqP%2BEw0n/n01X/wR3f/AMar5i8R/tW/HDX/APglZ4V/aS8N6lb2XxA8S6Z4ZtzJpNpAXvb2%2B1Oysp002K6DwC5uPOlWzW4zAs00Hnt5QkavG5/2r/23tY8L6X8LtA8S/Ei%2B8XWnj3xbY6z4b0DSfCI8e29jYWVncWgvPtcf9glF%2B32rzSWp%2BeO%2B09YmeRpgQD9Af%2BEw0n/n01X/AMEd3/8AGqP%2BEw0n/n01X/wR3f8A8ar5B1X4pftD/Efwn%2By543%2BHP7Yetxa/8YZPDdzrejeGPD%2Bjnw/d6bBpw1XWr5Ev9LfUIYp4YWtkzOjRSX1v8qsCK7zTvEHxzX9tfU/gl4J/ab17xVpcnhHVtR8a22oeHdI%2ByeAri4lh/sSK1ltrSKR53Q3LfZ7qS5LxQCVzGGj80A%2Bgf%2BEw0n/n01T/AMEd3/8AGqv2F/aanaJfWM4kikGVYAjvgjB5BByCDyCK8F/Yo8d/E/xf40%2BJei6n8Z9Y%2BJHgXw9rVrpnhXx34g0vTra5vtSiSVNWto2061tbe5treZYYlmWEHz/tcRd/J49r8H/8gmb/ALCl9/6Vy0AatFFFABRRRQAUUUUAFFFFABRRRQAUUUUAFFFFABRRRQAUUUUAFFFFABRRRQAV4z%2By/wD8lv8A2jv%2ByzWP/qFeF69mrxn9l/8A5Lf%2B0d/2Wax/9QrwvQB7NRRRQAUUUUAFFFFABRRRQAUUUUAFFFFABRRRQAUUUUAFFFFABRRRQAUVx37Qfxm0L9nf4HeLPjn4k0y6vrPwpoFzqUmn2O3z7xooyyW8W4hfMkYLGu4gbnGSBk1zX7Pf7Q3i/wCJGr%2BNPh/8avhxpfgzxd4EurT%2B2rDSvE7atp8lndWq3FvdQ3clrasyn99E6vChSS2kxuTY7AHq1eM%2BOP8AlIX8L/8AsjPjz/07eEKh/Y4/bHi/a9vfiDPpvw2n0HSvCXim30/w/qF1qPmvr%2BnXGm2l/bal5Xlp9mSaK6V0iLO3llGYozNEk3jj/lIX8L/%2ByM%2BPP/Tt4QoA9mooooAKKKKACiiigAooooAKKKKAK2s6Lo3iLTZdG8QaTa31ncLtntLyBZYpF9GVgQR9RXz/APFD/gk9/wAE9fizdNqeufsxaBpd9v3x6h4V83R5Y5OvmD7E8als85YHnrmvomiubEYPCYuNq9OM15pP81%2BpyYrAYHHR5cTSjNf3op/mrr5NHyOP%2BCXvxF%2BHn7z9mn/go18afCQT/j303xBq8XiDT7f0CW9yq4X2LHPrR/wgX/BaT4Zf8i38fPgt8TreP73/AAl/he70a6mH%2Bz9hJiVj78V9cUVxf2NhIfwZTp/4ZyS%2B5uS/A8//AFfwNP8AgSqUv8FSaX/gLc4/gfJA/a%2B/4KZeAPk%2BKv8AwTAOtW6f6zVfAHxKsrnd/u2sqiX8zXG%2BPv26/wBj7xfvj/a6/wCCZfxM0dj/AMfN544%2BCEV9be7LMvmFx/tACvumipqZbjHHlWJcl2nCnNflFnThaXEOWVlVwGZVISWztG//AIFB0Z/ifmXJcf8ABtr8ZbzcW8L%2BHdQV%2BCia14ee3k/AQxgj8RXceEP2TP2BtdKN%2BzN/wVb8e%2BHX/wCWFl4R%2BP1vNEPRWgkMjEf7JIr7i8W/DX4dePoTb%2BO/AOia1GRgx6tpUNyMemJFNeVeL/8Agmr%2BwD453HXv2Pvh%2BrP9%2BTTvDcFk7H1LW6oc%2B%2Ba86WRVU7qlQb7qNSm/vhI%2Byo%2BJ3jRhKap/2v7aC%2BzVdSa/8BrLFR/A80sf2LP27tGtlvvg5/wVw8RT22MxJ4p8A6ZrSyj0MrMp/Ec1N/wgP/Bajwh/yAPj98CPGAXp/wAJT4W1DT2ce/2MkA1Jff8ABEz/AIJ3LctqHg/4T6z4Xu3OTdeG/G2qW7A%2BoBuGUfgKhP8AwSW0XQ/n%2BGn7eP7SHhrb/q7ay%2BJ7S2w%2BscsJ3fnU/wBn4%2Bn8NKS/wYmX5VIs1/4inxxL/fsqwOI9aGFu/nGjh5f%2BTDv%2BFw/8FkfCf/If/Y5%2BE/izb97/AIRb4gy2G/6fbVOPxoH7dn7d/h3/AJKL/wAElfGVuF%2B%2B3hn4gaZq%2BfcCMLn6Un/DBH7cHh3/AJJ1/wAFavHltt/1f/CS%2BCdN1jH180ruo/4UJ/wWB8N/8gX9vv4feJdvT/hIvhZHZ7/r9kc4/Ci2a0/%2Bf6/8EVP/AJFh/wARIy%2Bp/vvCVB%2BdKVWn93s8Y1/5IL/w9cbRPk%2BIX/BPP9pTRMf6y5Hw0%2B02y/8AbSOfn8qP%2BH1P7EWl/wDI%2Bz%2BPPCuPv/8ACQ/DvUo9n18uJ6T/AI3ieHe37M/iKFf%2Bw7aXDf8AtMUf8Lz/AOCw3h//AJC/7Cnw38Qbev8AYPxOFpu%2Bn2lDj8aPrmaQ3nU/7ew1/wD0ioH%2BvPhtV/3nhzFUv%2BveIrP7vaUay/M29A/4LH/8E0PEu3%2Bzv2r9Gj3dP7Q0y%2BtPz8%2BBMV2uhf8ABRL9gzxHtGl/tj/DXc33UuvGVnAx/wCAyyKa8U1/9pD9tLUcj4s/8ETGvx/y0ks/iLoeq7vcL5Wfwri9d%2BKvwg1Dcfil/wAEAvGEzfxvp3ws0fU2H0ZQp/Kj%2B18dDecP%2B3qOIj%2BSkH%2BtHgtV/iUMxo/OjO3/AIHhaZ9o6H%2B0f%2Bzz4mx/wjfx58Gahu%2B79h8UWkuf%2B%2BZDXV6dq%2Bk6xD9o0nU7e6j/AL9tOrj81Jr80dc8Q/8ABLLUc/8ACe/8EZvjD4dz983HwUlswv421x/KuV1Gy/4N%2BDN9q8R/syfELwnOP%2BW02i%2BJ7Ux/hFMy/pR/rBVj8UqP/gdSH/pVIP7Y8Dqv/M1xdL/HhqEvyrUvyP1gor8n9P1z/ggUZPI8Kfti/EzwtKpx5Vprvia2MZ%2Bs1uw/Wuj0r/h2Fc4Pgn/gtl8cdD/uRx/F64gjHsVntOR%2BNXHiPm2VJ%2BmIp/8AtyRpCfg5iP4PEyj/AI8JP/3HipH6e0V%2Bcumaf%2Bz24H/CF/8ABwt4nt/7n9v/ABI0m4/Pz9ma6HTPDvxKnx/wgH/BwroUw/g%2B2aR4b1H%2BdwM10Rz2Uv8Alzf0q0X/AO3o6oZN4f4j%2BBxRhX/ipYqP5RqH3zRXxLpvgv8A4KAPj/hGf%2BCznw68Qf3ftfwy0ePd/wCA85resPAX/BYHbv8ADv7YfwT10DobzwZPHn6%2BQ5rojm1SX/MNU%2BXs5f8ApNRnTDg3Ja/8DiDAy/7fxEP/AErCn15RXyWdP/4LjaZ/x6%2BIP2X9UUdftlp4ggc/Ty%2BM0f8ACZ/8FsdN/wCP34Mfs96njr/Z3iLVYc/TzRVf2sl8WHqr/uH/AJTZp/xD%2Bcv4ebZfL/ubS/8AS6EPzPrSvGfHH/KQv4X/APZGfHn/AKdvCFeZf8Ly/wCCwenf8fv7C3w31LHX%2Bz/icIc/TzUql8Ffih%2B1j8R/%2BChfguP9qL9lyx%2BG5sfgz4y/sSSw8bW%2BsLqm/VvCvnZEKgweXsi%2B9nf5vH3TW1DMqNeqqahNN/zU5Jfe1ZfeefmnBWY5TgZ4ueJwtSEbXVLF0Kk9WlpTjJTlvraLsrt6Jn2BRRRXoHx4VzvxY%2BE/gH43%2BAr34Z/E3Q21DR794JJoYr2a2ljlhmSeCeGeB0lgmimijljlidZI5I0dGVlBHRUUAcF8Pv2Z/hB8LPBtx4A8C6XrFnpV3Y3dteQSeLNSne4N1PNcXNzJLLcNJJdyyzyu94zG4YtzKcLjP8Wfse/s9%2BMfhv4P%2BFF54NvdN0f4fwQQ%2BCW8M%2BJtR0e90SKK0Nmkdve2FxDcxr9nYxMokw6HDBq9NooAxvh18PPBXwl8CaR8Mvhx4dt9I0HQdPistJ021B2W8EahVUEkljgcsxLMckkkk1%2BdP/BNeN/iD/wUH/aA8ZyIWHw%2B8Vav4Wjcjhft3xC1fUio/wC%2Bcmv0vr4L/wCCR/gh7C4/ah%2BJlzBsl139sLxRYxsRy8Fn4hkCn6b55R%2BBrzcfTlVxGGj0U%2BZ/9uwk1%2BLR9twpjKWAybOqr%2BKWFVKP/cXE0Iy%2B%2BFOSPvSivmLx/wD8FNf%2BEC8d634F/wCHfP7T2tf2Lq9zYf2xoHwn%2B02F/wCTK0fn20v2kebC%2B3ej4G5WU4GayP8Ah7D/ANY1P2tP/DN//dVTLOssjJxdTVf3Z/8Ays/MJcQ5NCTjKrqtPhqdNP8An0fWlYvxH%2BHngz4ufD7XPhV8RtBi1Xw/4l0i50vXNMnZlS6tLiJopoiUIYBkZhlSCM5BB5r588A/8FNf%2BE98d6L4F/4d8/tPaL/bWr21h/bGv/Cf7NYWHnSrH59zL9pPlQpu3u%2BDtVWODivZv2k/GHxO%2BHnwC8X/ABB%2BDPhy01nxPoOgXOpaPot7C7pqUkCGU2oCOhDyqjRo27Cu6sQwBU9eGxmGxkXKjK6W%2Bkl/6VGP6nbg8fg8wi5YeXMlo9JLz%2B1GP4XMaD9jX9nhfCvinwdqfhDUtXs/Gvhu30HxVL4i8V6nqd1qVhB9p8mOS5u7mSfen2ufEocSjcvz/Im3O8D/ALBX7LXw91Jdc8P%2BAtSm1IeLh4ol1bWvGOraleXGrjSJtGF3NcXl1LLOw0%2BeW3xIzLtKnG5EZfDfEf8AwUf%2BJvxI8LXPjH9lxtD1Ww8R%2BO5tI%2BFEsXhJdUbxBp1hpC3Wq3sjXOt6VbQxxXfnwB2uF2izcBJWkHl8T4N/bq%2BI3xc8R6J8eLL7Ta6d48%2BGX7O%2Bqx%2BFG1%2B9%2Bw6VP4i8Xa7bX8kH2aeLc5i8lGY5SdbWFZkliXyj0nYfYfhj9k74EeCbHRLDwd4TvdKXw54GtPB2iTad4j1CGa00W1eN4LVZUnDnaYo8yFjIwBDOwZgdH43/ALPXwp/aJ0TT9D%2BKWj6jMNI1E32kX%2BieIr7SL6xuDDLAzw3lhNDcRboZponCSAOkjKwKkivk34J/tU/tQfG79qT4QeMNT8VeEf7E8d/C3x/rfhz4e6VdXuntayWd/o0FtBq0pmuEupY/NKNcJbRG2ke4RYpM5Pt37b%2BreJJ9M%2BFHw3l8Var4d0jx38V7DQ/GepeG9duNPuobM6ff3SQQ3tu0U9v597a2dr5kbRyMtwVUqXFAHbeIf2VPgN4o%2BGa/BnVPBMieFIdE0vSrDw/Y6zeWtrp1vpswmsGtI4ZkFnPBKsbpcweXODBB%2B8/cxbOZu/8Agnx%2Bypd%2BGbHw0PB2v276fql9qMOvWPxC1y21uW5vESO7ebVYrxb64EyRwo6yzurLBCpBEUYXz/4Raj%2B0L8U/%2BCbfjfQ/hP8AEm7n8aWepeO/DngHxZrGqlri4t9P17VNP0y4kvJQ5aU2ttAPtbhy7YnbfuOfD/CHxD%2BL2ufE9/2Wtdk%2BJ3gn4d6h8f8ARPD%2BoNr/AMVLi/8AEWmQzeENR1WbTX1q1v7ieDztQs9Mwsd68gj1QIHjEywxgH3L4b/Z4%2BC/g7xF4U8U%2BFfAVrp914G8HzeFvCCWksiQaTpErWhktYYA3lIp%2BwWY3bd4WBVDBcg8l4O/YR/Zz%2BH/AIg8X%2BJPB9p41sZ/Hl5qd54qt0%2BK/iJrW8udQBW6uFtmvzDBMVwqSRIjwhEERjCKB84%2BHde8e%2BIvhD8AfifefGbxvPd6R%2B0Zqvg6yvYPGd9FB4i8Pwa9q9hZz6hFHKseptNZWVpJ5twsm4u0g%2BZyx9R8Z6dNq/7f/hnRvgJ8Q/G91rekaidY%2BMqTeONQuPD2laHJplxBaaYdOkmayivLm5NtcRLDEkyx280zyBXRLgA9a/Zy/ZZ%2BDv7KHg9fh/8ABG28SWehw2lta2Wla3471jWYLCCBCkUVqmo3U4tUCtjbDsDALuB2rjsPB/8AyCZv%2Bwrff%2BlctalZfg//AJBM3/YVvv8A0rloA1KKKKACiiigAooooAKKKKACiiigAooooAKKKKACiiigAooooAKKKKACiiigArxn9l//AJLf%2B0d/2Wax/wDUK8L17NXjP7L/APyW/wDaO/7LNY/%2BoV4XoA9mooooAKKKKACiiigAooooAKKKKACiiigAooooAKKKKACiiigAooooA479oT4M6H%2B0T8DfFnwM8SapdWFn4r0C502TULHb59m0sZVLiPcCvmRsVkXcCNyDIIyK808F/saeKdRsviFB%2B0n8T9F8bt8WtPfS/iFHo3he70OK40xdPWyt7Oz8vUpZbNQrXUkkhllkeS7Yo0ARFHvlFAHiX7Kv7D/gj9kz4jfEnx14M8d%2BLNVh%2BIOrafdx2HibxjrGrnTY7XTrezEfm6je3JmdmhZ/NwjhHjh5SGPGLf8Awj%2BFHgb/AIKbeC/Hvgn4Y%2BHtH13xP8HvHEviXWtK0WC3u9WePVvCXltczRoHnK73wXLEbjjqa%2Bh6%2BcP2j9X%2BNej/ALeHwnn%2BB3w/8LeItSb4R%2BO1u7TxX4wudFgjg/tTwkS6S2%2Bn3rO%2B7aNhjUYJO/ICkA%2Bj6K8Z/wCE4/4KF/8ARr/wZ/8AD8at/wDMvR/wnH/BQv8A6Nf%2BDP8A4fjVv/mXoA9morxn/hOP%2BChf/Rr/AMGf/D8at/8AMvR/wnH/AAUL/wCjX/gz/wCH41b/AOZegD2aivnHSf2jv27dY%2BM%2Bv/A63/ZQ%2BEi6p4d8L6Rrt5cv8ddU8iSDUbnUreFEI8Mbi6tpc5YFQAHjwWJYL1H/AAnH/BQv/o1/4M/%2BH41b/wCZegD2aivGf%2BE4/wCChf8A0a/8Gf8Aw/Grf/MvR/wnH/BQv/o1/wCDP/h%2BNW/%2BZegD2aivGf8AhOP%2BChf/AEa/8Gf/AA/Grf8AzL1y/gH9o79u34ieK/G/hDR/2UPhJDceA/FEWharJc/HXVAk88mlafqYeLb4YJKeTqMKksFO9HGMAMwB9HUV4z/wnH/BQv8A6Nf%2BDP8A4fjVv/mXo/4Tj/goX/0a/wDBn/w/Grf/ADL0AezUV4z/AMJx/wAFC/8Ao1/4M/8Ah%2BNW/wDmXo/4Tj/goX/0a/8ABn/w/Grf/MvQB7NRXzj8Iv2jv27fjL4Uu/F/hz9lD4SW1vZ%2BKNb0KSO9%2BOuqK5n0vVbrTJ3G3www2NNaSMhzkoykhTlR1H/Ccf8ABQv/AKNf%2BDP/AIfjVv8A5l6APZqK8Z/4Tj/goX/0a/8ABn/w/Grf/MvR/wAJx/wUL/6Nf%2BDP/h%2BNW/8AmXoA9morxn/hOP8AgoX/ANGv/Bn/AMPxq3/zL1y/wR/aO/bt%2BPHwY8IfHHwr%2Byh8JLXS/GfhfT9d0221D466os8MF3bR3EaSBPDDKHCyAMFZhkHBI5oA%2BjqK8Z/4Tj/goX/0a/8ABn/w/Grf/MvR/wAJx/wUL/6Nf%2BDP/h%2BNW/8AmXoA9morxn/hOP8AgoX/ANGv/Bn/AMPxq3/zL1y/xu/aO/bt%2BA/wY8X/ABx8VfsofCS60vwZ4X1DXdSttP8AjrqjTzQWltJcSJGH8MKpcrGQoZlGSMkDmgD6Oorxn/hOP%2BChf/Rr/wAGf/D8at/8y9H/AAnH/BQv/o1/4M/%2BH41b/wCZegD2aivGf%2BE4/wCChf8A0a/8Gf8Aw/Grf/MvR/wnH/BQv/o1/wCDP/h%2BNW/%2BZegD17UNI0nVo/J1XS7e6T%2B7cQK4/Ig1zmq/Af4Ha5n%2B2/gz4UvN3X7V4dtpM/8AfSGvHPi7%2B0d%2B3b8GvClp4v8AEf7KHwkube88UaJoUcdl8ddUZxPqmq2umQOd3hhRsWa7jZznIRWIDHCnqP8AhOP%2BChf/AEa/8Gf/AA/Grf8AzL1EqdOfxRT9Un%2BaZnOlSqfHFP1Sf5pmxqn7E37Get5Os/skfDK7J6m58Bac5/WGue1P/gmn/wAE/dWz9q/Y3%2BHSZ6/ZvC1vD/6LVas/8Jx/wUL/AOjX/gz/AOH41b/5l6P%2BE4/4KF/9Gv8AwZ/8Pxq3/wAy9c8svwE/iowf/bsf/kTlnleWVPioQf8A25D/AOQOW1L/AIJE/wDBNvVc/av2SPDS5/59nuIf/Rcq1hX/APwRF/4Jfag2%2BT9l2CJuzW3ivV4sH/gF2BXo3/Ccf8FC/wDo1/4M/wDh%2BNW/%2BZeuX8fftHft2/DvxX4I8Iax%2Byh8JJrjx54ol0LSpLb466oUgnj0rUNTLy7vDAITydOmUFQx3ugxgllwlk2Tz%2BLDU/8AwCP%2BRyz4eyGfxYSk/wDuHD/5E5j/AIckf8E/rX/kA%2BCPFWl4%2B7/Z/wAQNVXH03XDUf8ADmn9mO2/5AfxV%2BMGmen2D4nXi4%2Bm4tXp/wDwnH/BQv8A6Nf%2BDP8A4fjVv/mXo/4Tj/goX/0a/wDBn/w/Grf/ADL1H9hZN0w8V6K35NEf6t5B0wsF6K35NHmH/DonwJbf8gT9tv8AaV0zHT7B8XJVx/31Cap/BP8AZQm/Zf8A%2BChfgxG/aX%2BK3xETW/gz4y8tfif4t/tU6d5OreFc/Zj5SeX5nmjf13eVH02163/wnH/BQv8A6Nf%2BDP8A4fjVv/mXqh4H8D/tWeMf2rPDnxu%2BN3w4%2BHvhnRvDPw98Q6HDD4V%2BId9rV1d3WpX2iXCMyXGkWKRRomlygsHdi0qALjJGtDKsvw1VVKVOzXnL8nNr8DfDZLleErKrRpcsltZz9NnNr8Ge60UUV6B6gVm%2BMPGXhD4eeF7/AMceP/Fem6Houl2zXGp6xrF9HbWtnCoy0ksshCRoB1ZiAK0q8Q/b%2B8N%2BItd%2BCejatonhTUtftPDfxL8K6/4g0PR9OkvLq802x1q0ubgxW0StJcvCsf2kQorSSfZ9qK7lVIB6Ifjx8Dl%2BE4%2BPTfGbwoPAzWoul8aHxFbf2SYC%2BwS/a9/k7C5C7t2MnGc1i6P%2B19%2ByZ4i%2BGOp/Gzw/%2B1D8Or7wZomofYNZ8XWfjawl0uwusRN5E10spiikxNCdjMGxKnHzDPnX7E2tXfhbwR8RfE%2BseAPFukWGv%2BPfEPjDw7oV/wCDdQtrlNKnuWAPkSQq0dxczRXF2LNgLnF2peJWcivBdb%2BAvx08P/AL4C/GHxbP408M6tffFXVviF8YX8HeCjr2uaFf6zpeqNCsdgbS785rKS7tdNz9lnMUaq%2BweWZYwD718K%2BK/C/jrw1YeNPBHiSw1nR9VtI7vS9W0q8S4tryCRQySxSxkpIjKQQykgggg14B%2Bw/4V0rwn%2Bz14uv9OR/%2BJh%2B0P4/1TUXIz8w8d6pvbgdFjiH4LXbfs96r%2B0n44/ZF8O6t47fTvDfxIvtCDTT694ZeSKGXefLmutPhuIGSR4gkklus0flyOyZG3FeKfsSeJP289E%2BDWtaTofwZ%2BEXieGD4u/EFH1%2B7%2BJmqaE19N/wmOsebINPXRb8WiGTftj%2B1zkKFzISThOKbTfQuNWpCEoJ6Stdd7O6%2B56n1d/wnPgn/AKHDS/8AwYR//FUv/Cc%2BCf8AocNK/wDBhH/8VXlv/Ccf8FC/%2BjX/AIM/%2BH41b/5l6P8AhOP%2BChf/AEa/8Gf/AA/Grf8AzL0yD1L/AITnwT/0OGlf%2BDCP/wCKo/4TnwT/ANDhpX/gwj/%2BKry3/hOP%2BChf/Rr/AMGf/D8at/8AMvR/wnH/AAUL/wCjX/gz/wCH41b/AOZegDUvvgZ%2BxRqnw40n4O6n8HfhbceEdAvftmheFZ/D2mvpum3O6RvOgtinlQybpZTvRQcyOc/Mc6Gn/Dj9lHSbW1stK8B/D22hsrTSbSyht9LsUW3g0ueS40yJAFARLSeWWW3UYEEkjvGFZiT5n8Ef2jv27fjx8GPCHxx8K/sofCS10vxn4X0/XdNttQ%2BOuqLPDBd20dxGkgTwwyhwsgDBWYZBwSOa6j/hOP8AgoX/ANGv/Bn/AMPxq3/zL0Aatj8D/wBirS/FOt%2BOdM%2BEHwut9b8SwXUPiPWIPD%2BmpdarHdY%2B0pcyhN86y7V8wOSHwN2cV0HjfSvgB8TPBFz8MviRpvg7xB4bvIUiu/D2uQ2l3YzxoysiPBKGjZVZVIBXAKgjoK4r/hOP%2BChf/Rr/AMGf/D8at/8AMvR/wnH/AAUL/wCjX/gz/wCH41b/AOZegDqh4J/ZhHh638Ijwj4DGk2nhufw9a6X9gsvs8OkTiNZtOSPbtW1kEMQeADy2ESAqdoxmwfBn9jS2%2BEcvwAtvhR8MY/Ac7l5vBKaFpw0iRjIJSzWYTySfMAfJT7wDdea8/8Ajd%2B0d%2B3b8B/gx4v%2BOPir9lD4SXWl%2BDPC%2Boa7qVtp/wAddUaeaC0tpLiRIw/hhVLlYyFDMoyRkgc11H/Ccf8ABQv/AKNf%2BDP/AIfjVv8A5l6ALPxG/Zt/YL%2BMWh%2BH/DHxc%2BAfwh8U6b4TtDa%2BFdP8R%2BFtLvoNGgKopitI5o2W3QrFGNsYUYjQY%2BUYsRfAX9iGD4sP8eoPgx8Kk8dSXQupPGieHdNGrNOIhCJTebPOLiJVjDbs7FC5wMVnf8Jx/wAFC/8Ao1/4M/8Ah%2BNW/wDmXo/4Tj/goX/0a/8ABn/w/Grf/MvQB6j/AMJz4J/6HDS//BhH/wDFUeDDv0MzqDsmvruWIkY3I9zIyt9CpBHsa8u/4Tj/AIKF/wDRr/wZ/wDD8at/8y9cv8Xf2jv27fg14UtPF/iP9lD4SXNveeKNE0KOOy%2BOuqM4n1TVbXTIHO7wwo2LNdxs5zkIrEBjhSAfR1FeM/8ACcf8FC/%2BjX/gz/4fjVv/AJl6P%2BE4/wCChf8A0a/8Gf8Aw/Grf/MvQB7NRXjP/Ccf8FC/%2BjX/AIM/%2BH41b/5l6P8AhOP%2BChf/AEa/8Gf/AA/Grf8AzL0AezUV84%2BPv2jv27fh34r8EeENY/ZQ%2BEk1x488US6FpUlt8ddUKQTx6VqGpl5d3hgEJ5OnTKCoY73QYwSy9R/wnH/BQv8A6Nf%2BDP8A4fjVv/mXoA9morxn/hOP%2BChf/Rr/AMGf/D8at/8AMvR/wnH/AAUL/wCjX/gz/wCH41b/AOZegD2aivGf%2BE4/4KF/9Gv/AAZ/8Pxq3/zL1y%2BrftHft26P8Z9A%2BB1x%2Byh8JG1TxF4X1fXbO5T466p5EcGnXOm28yOT4Y3B2bVICoCkEJJkqQoYA%2BjqK8Z/4Tj/AIKF/wDRr/wZ/wDD8at/8y9H/Ccf8FC/%2BjX/AIM/%2BH41b/5l6APZqK8Z/wCE4/4KF/8ARr/wZ/8AD8at/wDMvR/wnH/BQv8A6Nf%2BDP8A4fjVv/mXoA9mor5x0n9o79u3WPjPr/wOt/2UPhIuqeHfC%2Bka7eXL/HXVPIkg1G51K3hRCPDG4uraXOWBUAB48FiWC9R/wnH/AAUL/wCjX/gz/wCH41b/AOZegD2aivGf%2BE4/4KF/9Gv/AAZ/8Pxq3/zL0f8ACcf8FC/%2BjX/gz/4fjVv/AJl6APZqK8Z/4Tj/AIKF/wDRr/wZ/wDD8at/8y9cv4B/aO/bt%2BInivxv4Q0f9lD4SQ3HgPxRFoWqyXPx11QJPPJpWn6mHi2%2BGCSnk6jCpLBTvRxjADMAfR1FeM/8Jx/wUL/6Nf8Agz/4fjVv/mXo/wCE4/4KF/8ARr/wZ/8AD8at/wDMvQB7NXjP7L//ACW/9o7/ALLNY/8AqFeF6P8AhOP%2BChf/AEa/8Gf/AA/Grf8AzL1b/ZW%2BHPxp8H6x8UPHfx00DwvpOqePviFFrlnpXhPxLc6tb2trFoOj6YqvcXFlZs0jSadK5URbQsiDcxzgA9booooAKKKKACiiigAooooAKKKKACiiigAooooAKKKKACiiigAooooAKKKKACvlf9p79rT4ufDD4x%2BLNa8A%2BHfB8nhj4P8Ah/w/e%2BNTrWkXE2q6pb6vfypcwWFxHcRpZeRbWcdxmSKcXMhSMiHy/NP1RXjPxn/Yh%2BHHxu%2BKR%2BJmueOfFWlxaja6Ra%2BL/DWjXVqmneKYNLvZL2xivllt5Jgsc00ufs8sBljkMUxljCoAD2aiiigAooooA%2BY/Dn7SvxMh/b/8UfB/4jax4e8J%2BG18QWmieDItR%2BEWspdeMYBoEGo4g8RtdrpzSx3dzqAFoIXk8u0mAUFmkX6cryvxZ%2By1B4/%2BMmkfFPx78b/Gur6V4e12PWtA8AXB0yLRrHUI7d4I5w0Nkl7Ls8ySRUmupIxI%2B7Z8iBfVKACiiigDxf8A4KC/F344fs/fsj%2BNPj18Ar3wpHrHgnQrvXLqDxhotzfW13aWttLM9uiW11bMkrsiKJC5VAWJR%2BBXn/jz9rT4ueC/jx4t1Pwp4d8IRfDzwh8Y/CPw%2B8ZWc2kXB1vVdV12DRUj1CG7S4WGOOD%2B3NJjMUlvK8iQz4lj2oK9h/ax/Zxsv2tPgRr37PutfFXxT4R0nxPZS2OuX/hBdO%2B13NlLE8U1tuv7S6jRHV%2BWRFkBUbXXnPFwfsA%2BDp/iLZ/EXxV8cfH2usdZ0nXPE2jahLpUVj4n1zTEjSx1a9jtrCJluIhBaYW2aCBjY2xeJjHkgHvdFFFABXi/7ZPxd%2BOHwStfAPjH4WXvhT%2BxtQ%2BJnhzw94vsfEGi3NzdXNrqus2Omg2csN1CltJGtzLJvkSdSURdnJNe0V5V%2B1d%2By2/7VXhvQvC8/wAffG/ga30LxJYa6jeC4dHZ7u9sbyC8s2lOpafeDbFcW8bhYwgblZN6naADzj9nn9pX4ma3%2B1V4t%2BCPxQ1fw94T06HxTrdv4J8JSfCLWdMudetoXSU39vrVxd/YNQdjJNLLFbQF%2BS7FcMT9OV5LpP7KIf4yaL8ZfiP%2B0B478azeF7u8u/CeheIRpMNho91c28lrJcRLYafbSyv9nmnhXz5JVRZ32gEgj1qgAooooA8P/bu%2BLnx4/Z%2B%2BDWr/AB1%2BFHjHwLY6f4W0W5vL3RfFnhm9v7nxDe5RbPTLOS2vYPs81xKRbo3lXTNLPEFhY/K3n/wR/a%2B%2BM%2BufEvwV/a3gzwlpHw08b/E/xR8NvCvhrTtLmj1fRL/QIdW3zz3IuGt5oJG8P6miwx28RjVrY%2BZJlgPT/wBpX9kGD9pLx54I%2BIE37QPjvwhc%2BAbu5vdFsfDEWjT2cl7KgjW8mg1PTrxHnhj8xYZAFMYnlI%2BZsir4D/Ya%2BHvgP4y2/wAXYfiL4u1KDTtd1PXtE8Ialc2X9k6VreoxvHqGqQJFapP584nuyyvM8KNfXJjij8zgA9rooooAK%2BX/ANrn48ftL/Bb4iaf4U0qHwB410fxzDrVtovw5i8H30msJa2mh3V3Jf3E4vXiurYXUVvbSQi1iB%2B3woJjIyJJ9QV4dN%2BxNcR/tH%2BK/wBprRP2q/iXp2r%2BLdNh0650uGDw/PaafZwwNHDbWbXOky3NvEsrvdbFm2vO5dw4O2gBn7CH7Qfjf49/D28uviv4%2B0a%2B8XacLNtf8N2Xwu1fwjeaA89ssogubLV7qe4cFt/l3ACRyKh2htpNe6V5v8Dv2btO%2BDPifxJ8Q9Y%2BKXinxx4q8VxWNvrHifxc1gty9pZib7LapFp9ra20cUbXNy42whma4kLM2Rj0igAooooA%2BOf%2BCgn7cfxU/Yw8c/2nrmi6B4x8Ivo2o63b%2BFZfhzqdlLbppujX2pJJ/wAJFNdPpk939r00bLFYEuhHMsoG2FpG9e/Zo%2BLvxz1b4qeN/wBnr9o658Kah4n8I6ToetR614K0i5sLG5sdUF5GkRgubm5dZYrjTrtS/m4kQxNsjJKit8df2EvBH7TmtXVr8f8A4t%2BNfFHgu5kuJF%2BGV5JpsOixSTWM1kzb7eyjvpAI7iZgkt06B33bfkQL0/7Pn7M2kfAO817xFd/FDxZ448R%2BJDZx6t4q8a3Fm99LbWkRitbUfY7a3hWKIPKwxHvZ55XdnZyaAPSqKKKACviP9qf9sr9rP4N/GrxB8KPB3hvw5411Ow0W413wwE%2BB/iCOTRQNR0y1Qwt9uceJpBY6pced/ZflPC0JWURiYR19uV4fr37Fup%2BJfHp%2BJ2tftc/FGbW9PgvIvBt4U0ADwqt1NDJP9kjGk7J2aOBbfderdMsTOFKu7OQDqv2WPiw/xk%2BEcHiy9%2BJmjeKr%2BHUbqy1S%2B0bwZfeHRbXEUrK1rNpuoXE91ZzxjCvHM4fPzbVDAV6NXDfAP4C%2BHvgB4Z1PRtK8U634g1HX9euNb8SeJPEc0DXuq38wRGnlFvFDAmI4oYlSGKONUiQBRgk9zQAUUUUAFFFFABRRRQAUUUUAUfFHiGw8JeGtR8V6qHNrpljNd3IiXLeXGhdsDucKa%2Bc/2Jv2k/jX4/8AFOj%2BDPjZ4e8GWY8dfC2y%2BI3hmHwZpVxaDTI7y4Ju9PuzNcSi7mje5tn%2B2IIBO0sxMEe0F/pa7tLW/tZbG9t0mhmjaOaKVQyupGCpB4II4xXkP7M37FfgL9mDVX1fQPiD4t8Sy23hix8M%2BHR4svbWYaBoVm8j2%2Bm2pt7eEtGpk%2BaWczXEgji8yZ/LXAB7FRRRQAVwv7UHjz4i/Cz9mj4ifE74P%2BFF17xb4c8C6vqnhbQ2sZroajqNvZyy21sYYGWWYSSoieXGwdt2FIJBruqzvFuiX/iXwxqHh/S/Feo6Fc3tpJDb61pCwNdWLspAmiFxFLEXU8gSRumR8ysMggHl37FPxan%2BKHwzvrLVviF4f1nU/Duqrp15pmifDDU/Bz6GgtoJIrO40rVLme5hcI4kV28tHili2Jgb39irzz4D/s7aT8DrzxL4jufiJ4k8Y%2BJPF%2Bow3niLxT4rezF3dGG3S3giEdjbW1tFFHGgCrHCmSzsxZmZj6HQAUUUUAfLn7VH7WPxQ/Zw%2BL3jiy%2BJWjeEvEXwvsP2d/F/j220K30S4TVXbRBpaz21xcyXL280U6304CC2QqETLvlhXb/sz/F/4%2Bap8XPGX7Ov7Sz%2BErzxR4Y8MeHvEseq%2BCtJubGykstWfUrdbYw3NzcuZYbjSLsGUSBZEeJvLjO5ag%2BMf7Cvh346fHVvjL48%2BO3jmXTZvBWp%2BEb74ewwaL/Yl3o2pLbfb7SQvprXpE7WkDs4ug6lCEZEZkPSfs7/ALLuh/s%2B32teI5/ih4t8b%2BIdftbCyv8AxP42ubSS9NhYpItnZj7JbW8flRGe4cEoZHe5ld3dmzQB6fRRRQAV8ifGv9pf9rbwZrv7QHgS38K%2BDPFl74C8P%2BFPEnw2sdJ%2BH%2Bp386x6jqupQhLy1ivHl1GeBdNjnU2wtyXJCr8qtX13Xhcv7FHiGL46eNvj/oX7aHxW0rVvG%2BkWOmXNjZWfhhrTTbayuLmezS2EuivJ%2B6N5dKDM8pdZyJPMKoVAOr/ZU%2BLc3xl%2BFI8Taj8TtG8U6ja6rc2OrXWj%2BCL/AMNmzuIm%2Ba1n0zUbie6tJ0UruSZgxDK21VYV6TXCfAP4B6B8AdC1mx0/xbrniPVfE3iCXXPE/ibxJLbte6rfyQwwebILaGGCMLBb28KpFFGipCgC5yT3dABRRRQB8bftLftd/tLfs8fGaD4baynwz8a32twQTeEYdO8LXtpL4LvNS8Q6Z4e0ibU5XvphdRTtq84LRLZyOLG6WMMvmGL3H9lX4v8AxI%2BIw8f/AA%2B%2BMR0SfxV8NPHjeGtZ1Xw1p01nYan5ml6dq1vcQ28088lvm11S3R42mlxJHJhiCMcLbf8ABNXwk118Q38Q/tL/ABO1m3%2BJOvHXNYt9SOheZZ6lFcQz6fc211FpaXSmwe3txaRvNJFEsKBkfnPrHwD%2BAuh/APw9q2m2Xi/XPEmreItem1rxP4o8SvbG/wBXvpI4ofOmFrBBAuyCC3gRIoo0WOCNQvBJAO6ooooAZc/afs0n2PZ52w%2BV5udu7HGcc4zXxB8Vv2uf20/hp8RNc%2BG1vbeA/GeveGL3w1b6t468EfBXX9Wj8OW%2BrNePe2EulWepT3dzNHDZWN0TFOn7u6haWBAYmk%2B3ruGS4tZbeG6kgeSNlWeIKXjJGAy7gVyOoyCPUGvnv4MfsBeIPgJ8Nrj4afDv9ur4xRR3WrPqc2s3ll4Tn1CW7leWS5nmmfQj9pkneXdJJOJHzGmwoBggHrPwE%2BIdl8Vvg74f%2BIVh8QNG8VJqeniR9f8AD%2BkzWFpdyAlZClrPNNLbFXVkaGSR3jZWVjuUgdfXJfAv4L%2BEv2ffhfp3wp8FXN/cWVhLdXE19qtyJrq%2Bu7q5lurq6mcKoaWa4nmlfaqrukO1VXCjraACqPieHxJc%2BG9Qt/Bup2Nlq8llKul3mp2D3VtBcFCI5JYY5YmmjVsFkWSMsAQHUncL1ZvjHQb/AMUeFr/w7pfi3UtBuby1eKDWtHEBurFyOJohcRSxF1PIEkbocfMrDIoA%2BHvhv%2B3Z%2B1r8YPinrfwS%2BFmm/D5PGem2uu30njPxX8Lta0NdU0zSLXRZUsZdEvL5NQ0%2BV7vxDsSaeZ4/KhkuEhdZ0B%2BxvgF8WtN%2BPnwJ8FfHXRtNls7Pxr4S03XrSzmfc8EV5ax3CxsQBkqJACfUV4tq/wDwTI8D61rl98Rbv9pT4pp8QNWS8tda%2BJNte6RDq1/pl1bWttNphRNNFnDbFLK0YeRbRSrJAsqyhyzH6D8F%2BD/DXw88HaT4A8GaTFp%2Bj6HpkGn6TYQ52W1tDGscUa55wqKqj6UAadFFFAHL/GnUfHGjfC3Wtb%2BHPiGx0vVrCzN1Dfah4PvfECJHGQ8oGnWM8FzeSNErqkUMgcuy4Vz8jfFvwl/4KI/H7xJ400PU/G9x4R8CeDNSnnXxB44vPgZ4imttYv4dfutIRLmVb6NPDM8lraWv7jVGklgeVY3zsCV9t/EzwZrvj3wlN4c8N/FLX/Bt5JLG8Wv%2BGYrF7uDawJVVv7a5gYMAVIeJuCcYOCPFbr/gnN4U1DwfcfDbVv2kPibd%2BGNc1Ca/8eaBNcaOIvGF3PeNdXE19Kumi4i80ssLR2ctrEIYkjVFG7cAfRNFFFABRRRQAUUUUAFFFFABRRRQAUUUUAFFFFABRRRQAUUUUAFFFFABRRRQAUUUUAFFFFABRRRQAUUUUAFFFFABRRRQAUUUUAFFFFABRRRQAUUUUAFFFFABRRRQAUUUUAFFFFABRRRQAUUUUAFFFFABRRRQAUUUUAFFFFABRRRQAUUUUAFFFFABRRRQAUUUUAFFFFABRRRQAUUUUAFFFFABRRRQAUUUUAFFFFABRRRQAUUUUAFFFFABRRRQAUUUUAFFFFABRRRQAUUUUAFFFFABRRRQAUUUUAFFFFABRRRQAUUUUAFFFFABRRRQAUUUUAFFFFAH/9k%3D\">"
      ]
     },
     "metadata": {},
     "output_type": "display_data"
    }
   ],
   "source": [
    "s.run(tf.global_variables_initializer())\n",
    "\n",
    "BATCH_SIZE = 512\n",
    "EPOCHS = 40\n",
    "\n",
    "# for logging the progress right here in Jupyter (for those who don't have TensorBoard)\n",
    "simpleTrainingCurves = matplotlib_utils.SimpleTrainingCurves(\"cross-entropy\", \"accuracy\")\n",
    "\n",
    "for epoch in range(EPOCHS):  # we finish an epoch when we've looked at all training samples\n",
    "    \n",
    "    batch_losses = []\n",
    "    for batch_start in range(0, X_train_flat.shape[0], BATCH_SIZE):  # data is already shuffled\n",
    "        _, batch_loss = s.run([step, loss], {input_X: X_train_flat[batch_start:batch_start+BATCH_SIZE], \n",
    "                                             input_y: y_train_oh[batch_start:batch_start+BATCH_SIZE]})\n",
    "        # collect batch losses, this is almost free as we need a forward pass for backprop anyway\n",
    "        batch_losses.append(batch_loss)\n",
    "\n",
    "    train_loss = np.mean(batch_losses)\n",
    "    val_loss = s.run(loss, {input_X: X_val_flat, input_y: y_val_oh})  # this part is usually small\n",
    "    train_accuracy = accuracy_score(y_train, s.run(classes, {input_X: X_train_flat}))  # this is slow and usually skipped\n",
    "    valid_accuracy = accuracy_score(y_val, s.run(classes, {input_X: X_val_flat}))  \n",
    "    simpleTrainingCurves.add(train_loss, val_loss, train_accuracy, valid_accuracy)"
   ]
  },
  {
   "cell_type": "markdown",
   "metadata": {},
   "source": [
    "# Submit a linear model"
   ]
  },
  {
   "cell_type": "code",
   "execution_count": 32,
   "metadata": {
    "collapsed": true
   },
   "outputs": [],
   "source": [
    "## GRADED PART, DO NOT CHANGE!\n",
    "# Testing shapes \n",
    "grader.set_answer(\"9XaAS\", grading_utils.get_tensors_shapes_string([W, b, input_X, input_y, logits, probas, classes]))\n",
    "# Validation loss\n",
    "grader.set_answer(\"vmogZ\", s.run(loss, {input_X: X_val_flat, input_y: y_val_oh}))\n",
    "# Validation accuracy\n",
    "grader.set_answer(\"RMv95\", accuracy_score(y_val, s.run(classes, {input_X: X_val_flat})))"
   ]
  },
  {
   "cell_type": "code",
   "execution_count": 37,
   "metadata": {},
   "outputs": [
    {
     "name": "stdout",
     "output_type": "stream",
     "text": [
      "Submitted to Coursera platform. See results on assignment page!\n"
     ]
    }
   ],
   "source": [
    "# you can make submission with answers so far to check yourself at this stage\n",
    "grader.submit(COURSERA_EMAIL, COURSERA_TOKEN)"
   ]
  },
  {
   "cell_type": "markdown",
   "metadata": {},
   "source": [
    "# MLP with hidden layers"
   ]
  },
  {
   "cell_type": "markdown",
   "metadata": {},
   "source": [
    "Previously we've coded a dense layer with matrix multiplication by hand. \n",
    "But this is not convenient, you have to create a lot of variables and your code becomes a mess. \n",
    "In TensorFlow there's an easier way to make a dense layer:\n",
    "```python\n",
    "hidden1 = tf.layers.dense(inputs, 256, activation=tf.nn.sigmoid)\n",
    "```\n",
    "\n",
    "That will create all the necessary variables automatically.\n",
    "Here you can also choose an activation function (remember that we need it for a hidden layer!).\n",
    "\n",
    "Now define the MLP with 2 hidden layers and restart training with the cell above.\n",
    "\n",
    "You're aiming for ~0.97 validation accuracy here."
   ]
  },
  {
   "cell_type": "code",
   "execution_count": null,
   "metadata": {
    "collapsed": true
   },
   "outputs": [],
   "source": [
    "# write the code here to get a new `step` operation and then run the cell with training loop above.\n",
    "# name your variables in the same way (e.g. logits, probas, classes, etc) for safety.\n",
    "### YOUR CODE HERE ###\n",
    "hidden1 = tf.layers.dense(inputs=input_X, units=1024, activation=tf.nn.sigmoid)\n",
    "output_logits = tf.layers.dense(inputs=hidden1, units=10, activation=tf.nn.sigmoid)\n",
    "\n",
    "probas = tf.reduce_mean(tf.nn.softmax_cross_entropy_with_logits(labels=input_y, logits=output_logits),name='loss')### YOUR CODE HERE ### apply tf.nn.softmax to logits\n",
    "classes = tf.argmax(output_logits, axis=1, name='predictions')### YOUR CODE HERE ### apply tf.argmax to find a class index with highest probability\n",
    "correct_prediction= tf.equal(tf.argmax(output_logits, 1), tf.argmax(input_y, 1), name='correct_pred')\n",
    "predicted_y =tf.argmax(output_logits, axis=1, name='predictions')\n",
    "accuracy = tf.reduce_mean(tf.cast(correct_prediction, tf.float32), name='accuracy')\n",
    "\n",
    "#tf.equal(tf.argmax(output_logits, 1), tf.argmax(y, 1), name='correct_pred')\n",
    "print(predicted_y)\n",
    "# Loss should be a scalar number: average loss over all the objects with tf.reduce_mean().\n",
    "# Use tf.nn.softmax_cross_entropy_with_logits on top of one-hot encoded input_y and logits.\n",
    "# It is identical to calculating cross-entropy on top of probas, but is more numerically friendly (read the docs).\n",
    "#loss = ### YOUR CODE HERE ### cross-entropy loss\n",
    "loss = tf.reduce_mean(tf.nn.softmax_cross_entropy_with_logits(labels=input_y, logits=output_logits), name='loss')\n",
    "#loss = -tf.reduce_mean(tf.log(predicted_y)*input_y + tf.log(1-predicted_y)*(1-input_y))\n",
    "print(loss)\n",
    "\n",
    "# Use a default tf.train.AdamOptimizer to get an SGD step\n",
    "step = tf.train.GradientDescentOptimizer(0.01).minimize(loss)\n",
    "print(step)### YOUR CODE HERE ### optimizer step that minimizes the loss"
   ]
  },
  {
   "cell_type": "code",
   "execution_count": null,
   "metadata": {
    "collapsed": true
   },
   "outputs": [],
   "source": [
    "s.run(tf.global_variables_initializer())\n",
    "\n",
    "BATCH_SIZE = 512\n",
    "EPOCHS = 40\n",
    "\n",
    "# for logging the progress right here in Jupyter (for those who don't have TensorBoard)\n",
    "simpleTrainingCurves = matplotlib_utils.SimpleTrainingCurves(\"cross-entropy\", \"accuracy\")\n",
    "\n",
    "for epoch in range(EPOCHS):  # we finish an epoch when we've looked at all training samples\n",
    "    \n",
    "    batch_losses = []\n",
    "    for batch_start in range(0, X_train_flat.shape[0], BATCH_SIZE):  # data is already shuffled\n",
    "        _, batch_loss = s.run([step, loss], {input_X: X_train_flat[batch_start:batch_start+BATCH_SIZE], \n",
    "                                             input_y: y_train_oh[batch_start:batch_start+BATCH_SIZE]})\n",
    "        # collect batch losses, this is almost free as we need a forward pass for backprop anyway\n",
    "        batch_losses.append(batch_loss)\n",
    "\n",
    "    train_loss = np.mean(batch_losses)\n",
    "    val_loss = s.run(loss, {input_X: X_val_flat, input_y: y_val_oh})  # this part is usually small\n",
    "    train_accuracy = accuracy_score(y_train, s.run(classes, {input_X: X_train_flat}))  # this is slow and usually skipped\n",
    "    valid_accuracy = accuracy_score(y_val, s.run(classes, {input_X: X_val_flat}))  \n",
    "    simpleTrainingCurves.add(train_loss, val_loss, train_accuracy, valid_accuracy)"
   ]
  },
  {
   "cell_type": "markdown",
   "metadata": {},
   "source": [
    "# Submit the MLP with 2 hidden layers\n",
    "Run these cells after training the MLP with 2 hidden layers"
   ]
  },
  {
   "cell_type": "code",
   "execution_count": null,
   "metadata": {
    "collapsed": true
   },
   "outputs": [],
   "source": [
    "## GRADED PART, DO NOT CHANGE!\n",
    "# Validation loss for MLP\n",
    "grader.set_answer(\"i8bgs\", s.run(loss, {input_X: X_val_flat, input_y: y_val_oh}))\n",
    "# Validation accuracy for MLP\n",
    "grader.set_answer(\"rE763\", accuracy_score(y_val, s.run(classes, {input_X: X_val_flat})))"
   ]
  },
  {
   "cell_type": "code",
   "execution_count": null,
   "metadata": {
    "collapsed": true
   },
   "outputs": [],
   "source": [
    "# you can make submission with answers so far to check yourself at this stage\n",
    "grader.submit(COURSERA_EMAIL, COURSERA_TOKEN)"
   ]
  },
  {
   "cell_type": "code",
   "execution_count": null,
   "metadata": {
    "collapsed": true
   },
   "outputs": [],
   "source": []
  }
 ],
 "metadata": {
  "kernelspec": {
   "display_name": "Python 3",
   "language": "python",
   "name": "python3"
  },
  "language_info": {
   "codemirror_mode": {
    "name": "ipython",
    "version": 3
   },
   "file_extension": ".py",
   "mimetype": "text/x-python",
   "name": "python",
   "nbconvert_exporter": "python",
   "pygments_lexer": "ipython3",
   "version": "3.6.2"
  }
 },
 "nbformat": 4,
 "nbformat_minor": 1
}
