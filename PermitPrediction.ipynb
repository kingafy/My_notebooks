{
 "cells": [
  {
   "cell_type": "code",
   "execution_count": 2,
   "metadata": {},
   "outputs": [],
   "source": [
    "\n",
    "\n",
    "\n",
    "\n",
    "###Problem statement :-Predict the Building Permission Category\n",
    "##Import basic packages\n",
    "import pandas as pd\n",
    "import numpy as np"
   ]
  },
  {
   "cell_type": "code",
   "execution_count": 5,
   "metadata": {},
   "outputs": [
    {
     "name": "stdout",
     "output_type": "stream",
     "text": [
      "   Application/Permit Number   Permit Type               Address  \\\n",
      "0                    6640280  Construction       1924 10TH AVE E   \n",
      "1                    6452959  Construction  9434 DELRIDGE WAY SW   \n",
      "2                    6435127  Construction       535 TERRY AVE N   \n",
      "3                    6620870    Demolition         830 4TH AVE S   \n",
      "4                    6363778  Construction       805 NE 106TH ST   \n",
      "\n",
      "                                         Description Action Type  \\\n",
      "0  Alterations to single family residence, (porti...     ADD/ALT   \n",
      "1  Change use permit from restaurant to residenti...     ADD/ALT   \n",
      "2  Construct interior alterations to existing off...     ADD/ALT   \n",
      "3  need to remove a fire escape that is not part ...  DEMOLITION   \n",
      "4  Channel modification to Thornton Creek, stream...     ADD/ALT   \n",
      "\n",
      "        Work Type      Applicant Name     Application Date  \\\n",
      "0  No plan review        ZHANG, JERRY  2018-01-16T00:00:00   \n",
      "1     Plan Review       MARTIN, TERRY  2015-02-13T00:00:00   \n",
      "2  No plan review  ALLEXSAHT, REBECCA  2014-09-04T00:00:00   \n",
      "3     Plan Review         JUNK, FRANK                  NaN   \n",
      "4     Plan Review        DANIEL, MARK  2013-05-02T00:00:00   \n",
      "\n",
      "            Issue Date           Final Date      Expiration Date  \\\n",
      "0  2018-01-16T00:00:00                  NaN  2019-07-16T00:00:00   \n",
      "1  2015-04-16T00:00:00  2016-11-15T00:00:00  2016-10-16T00:00:00   \n",
      "2  2014-09-04T00:00:00  2015-11-20T00:00:00  2016-03-04T00:00:00   \n",
      "3                  NaN                  NaN                  NaN   \n",
      "4  2013-12-19T00:00:00  2015-05-14T00:00:00  2015-06-19T00:00:00   \n",
      "\n",
      "                          Status              Contractor  \\\n",
      "0                  Permit Issued                     NaN   \n",
      "1                  Permit Closed                     NaN   \n",
      "2                  Permit Closed  IA/INTERIOR ARCHITECTS   \n",
      "3  Initial Information Collected                     NaN   \n",
      "4                  Permit Closed      SEATTLE PARKS DEPT   \n",
      "\n",
      "                     Permit and Complaint Status URL  Master Use Permit  \\\n",
      "0  {'url': 'http://web6.seattle.gov/dpd/PermitSta...                NaN   \n",
      "1  {'url': 'http://web6.seattle.gov/dpd/PermitSta...                NaN   \n",
      "2  {'url': 'http://web6.seattle.gov/dpd/PermitSta...                NaN   \n",
      "3  {'url': 'http://web6.seattle.gov/dpd/PermitSta...                NaN   \n",
      "4  {'url': 'http://web6.seattle.gov/dpd/PermitSta...                NaN   \n",
      "\n",
      "    Latitude   Longitude                                           Location  \\\n",
      "0  47.636732 -122.319828  {'latitude': '47.63673222', 'human_address': '...   \n",
      "1  47.518298 -122.355555  {'latitude': '47.51829831', 'human_address': '...   \n",
      "2  47.624025 -122.337567  {'latitude': '47.62402492', 'human_address': '...   \n",
      "3  47.595020 -122.328530  {'latitude': '47.59502036', 'human_address': '...   \n",
      "4  47.705686 -122.320134  {'latitude': '47.70568601', 'human_address': '...   \n",
      "\n",
      "                 Category  \n",
      "0  SINGLE FAMILY / DUPLEX  \n",
      "1              COMMERCIAL  \n",
      "2              COMMERCIAL  \n",
      "3              COMMERCIAL  \n",
      "4              COMMERCIAL  \n",
      "   Application/Permit Number   Permit Type              Address  \\\n",
      "0                    6425384  Construction     8348 18TH AVE NW   \n",
      "1                    6496502  Construction  3120 S FRONTENAC ST   \n",
      "2                    6622347    Demolition     4031 S WILLOW ST   \n",
      "3                    6565685  Construction      3940 1ST AVE NE   \n",
      "4                    6487370  Construction  5317 BALLARD AVE NW   \n",
      "\n",
      "                                         Description Action Type  \\\n",
      "0  Construct 6' retaining wall to create walkway,...     ADD/ALT   \n",
      "1  Like for like repair of framing at porches of ...     ADD/ALT   \n",
      "2  Demolish existing single family dwelling. Subj...  DEMOLITION   \n",
      "3  Establish use as rowhouse and construct new du...         NEW   \n",
      "4  Tenant improvement to existing women's boutiqu...     ADD/ALT   \n",
      "\n",
      "        Work Type        Applicant Name     Application Date  \\\n",
      "0  No plan review        JOSSART, STEVE  2014-07-02T00:00:00   \n",
      "1  No plan review        RUNDLE, DANIEL  2015-11-12T00:00:00   \n",
      "2  No plan review         WEBER, JULIAN  2017-10-04T00:00:00   \n",
      "3     Plan Review         NOVION, SHAUN  2017-02-14T00:00:00   \n",
      "4  No plan review  DYNA CONTRACTING INC  2017-07-19T00:00:00   \n",
      "\n",
      "            Issue Date           Final Date      Expiration Date  \\\n",
      "0  2014-07-02T00:00:00  2015-06-29T00:00:00  2016-01-02T00:00:00   \n",
      "1  2015-11-12T00:00:00  2016-02-10T00:00:00  2017-05-12T00:00:00   \n",
      "2                  NaN                  NaN                  NaN   \n",
      "3  2017-10-20T00:00:00                  NaN  2019-04-20T00:00:00   \n",
      "4  2017-07-19T00:00:00  2018-01-17T00:00:00  2019-01-19T00:00:00   \n",
      "\n",
      "              Status              Contractor  \\\n",
      "0      Permit Closed                     NaN   \n",
      "1      Permit Closed  SCHULTIS SUNDBERG INC.   \n",
      "2  Reviews Completed                     NaN   \n",
      "3      Permit Issued                     NaN   \n",
      "4      Permit Closed    DYNA CONTRACTING INC   \n",
      "\n",
      "                     Permit and Complaint Status URL  Master Use Permit  \\\n",
      "0  {'url': 'http://web6.seattle.gov/dpd/PermitSta...                NaN   \n",
      "1  {'url': 'http://web6.seattle.gov/dpd/PermitSta...                NaN   \n",
      "2  {'url': 'http://web6.seattle.gov/dpd/PermitSta...          3024280.0   \n",
      "3  {'url': 'http://web6.seattle.gov/dpd/PermitSta...          3025762.0   \n",
      "4  {'url': 'http://web6.seattle.gov/dpd/PermitSta...                NaN   \n",
      "\n",
      "    Latitude   Longitude                                           Location  \n",
      "0  47.690123 -122.379795  {'latitude': '47.69012273', 'human_address': '...  \n",
      "1  47.540111 -122.290535  {'latitude': '47.54011095', 'human_address': '...  \n",
      "2  47.540470 -122.281410  {'latitude': '47.54046991', 'human_address': '...  \n",
      "3  47.654986 -122.327467  {'latitude': '47.65498619', 'human_address': '...  \n",
      "4  47.666714 -122.383900  {'latitude': '47.66671437', 'human_address': '...  \n"
     ]
    }
   ],
   "source": [
    "#Read files to check the contents\n",
    "train = pd.read_csv(\"D:/Certi/Intvw/zs/4dbe6a1eb80f11e8/dataset/train_file.csv\")\n",
    "print(train.head())\n",
    "test = pd.read_csv(\"D:/Certi/Intvw/zs/4dbe6a1eb80f11e8/dataset/test_file.csv\")\n",
    "print(test.head())"
   ]
  },
  {
   "cell_type": "code",
   "execution_count": 6,
   "metadata": {},
   "outputs": [
    {
     "name": "stdout",
     "output_type": "stream",
     "text": [
      "(33539, 19) (22360, 18)\n"
     ]
    }
   ],
   "source": [
    "print(train.shape, test.shape)"
   ]
  },
  {
   "cell_type": "code",
   "execution_count": 7,
   "metadata": {},
   "outputs": [
    {
     "name": "stdout",
     "output_type": "stream",
     "text": [
      "Index(['Application/Permit Number', 'Permit Type', 'Address', 'Description',\n",
      "       'Action Type', 'Work Type', 'Applicant Name', 'Application Date',\n",
      "       'Issue Date', 'Final Date', 'Expiration Date', 'Status', 'Contractor',\n",
      "       'Permit and Complaint Status URL', 'Master Use Permit', 'Latitude',\n",
      "       'Longitude', 'Location', 'Category'],\n",
      "      dtype='object')\n"
     ]
    }
   ],
   "source": [
    "##Check the data frame columns\n",
    "print(train.columns)"
   ]
  },
  {
   "cell_type": "code",
   "execution_count": 8,
   "metadata": {},
   "outputs": [
    {
     "data": {
      "text/plain": [
       "Application/Permit Number              0\n",
       "Permit Type                            0\n",
       "Address                               19\n",
       "Description                           10\n",
       "Action Type                          779\n",
       "Work Type                              0\n",
       "Applicant Name                       135\n",
       "Application Date                    6939\n",
       "Issue Date                         10624\n",
       "Final Date                         17851\n",
       "Expiration Date                    10569\n",
       "Status                              1574\n",
       "Contractor                         27503\n",
       "Permit and Complaint Status URL        0\n",
       "Master Use Permit                  29041\n",
       "Latitude                              21\n",
       "Longitude                             21\n",
       "Location                               8\n",
       "Category                               0\n",
       "dtype: int64"
      ]
     },
     "execution_count": 8,
     "metadata": {},
     "output_type": "execute_result"
    }
   ],
   "source": [
    "##check the characteristics of Data quality\n",
    "train.apply(lambda x: sum(x.isnull()))"
   ]
  },
  {
   "cell_type": "code",
   "execution_count": 9,
   "metadata": {},
   "outputs": [
    {
     "data": {
      "text/plain": [
       "'\\nAddress                               19\\nDescription                           10\\nAction Type                          779\\nApplicant Name                       135\\nApplication Date                    6939\\nIssue Date                         10624\\nFinal Date                         17851\\nExpiration Date                    10569\\nStatus                              1574\\nContractor                         27503\\nMaster Use Permit                  29041\\nLatitude                              21\\nLongitude                             21\\nLocation                               8\\n'"
      ]
     },
     "execution_count": 9,
     "metadata": {},
     "output_type": "execute_result"
    }
   ],
   "source": [
    "##observations\n",
    "##lots of missing values\n",
    "##Missing attributes\n",
    "'''\n",
    "Address                               19\n",
    "Description                           10\n",
    "Action Type                          779\n",
    "Applicant Name                       135\n",
    "Application Date                    6939\n",
    "Issue Date                         10624\n",
    "Final Date                         17851\n",
    "Expiration Date                    10569\n",
    "Status                              1574\n",
    "Contractor                         27503\n",
    "Master Use Permit                  29041\n",
    "Latitude                              21\n",
    "Longitude                             21\n",
    "Location                               8\n",
    "'''\n"
   ]
  },
  {
   "cell_type": "code",
   "execution_count": 10,
   "metadata": {},
   "outputs": [
    {
     "data": {
      "text/html": [
       "<div>\n",
       "<style scoped>\n",
       "    .dataframe tbody tr th:only-of-type {\n",
       "        vertical-align: middle;\n",
       "    }\n",
       "\n",
       "    .dataframe tbody tr th {\n",
       "        vertical-align: top;\n",
       "    }\n",
       "\n",
       "    .dataframe thead th {\n",
       "        text-align: right;\n",
       "    }\n",
       "</style>\n",
       "<table border=\"1\" class=\"dataframe\">\n",
       "  <thead>\n",
       "    <tr style=\"text-align: right;\">\n",
       "      <th></th>\n",
       "      <th>Application/Permit Number</th>\n",
       "      <th>Master Use Permit</th>\n",
       "      <th>Latitude</th>\n",
       "      <th>Longitude</th>\n",
       "    </tr>\n",
       "  </thead>\n",
       "  <tbody>\n",
       "    <tr>\n",
       "      <th>count</th>\n",
       "      <td>3.353900e+04</td>\n",
       "      <td>4.498000e+03</td>\n",
       "      <td>33518.000000</td>\n",
       "      <td>33518.000000</td>\n",
       "    </tr>\n",
       "    <tr>\n",
       "      <th>mean</th>\n",
       "      <td>6.464032e+06</td>\n",
       "      <td>3.018357e+06</td>\n",
       "      <td>47.625743</td>\n",
       "      <td>-122.334745</td>\n",
       "    </tr>\n",
       "    <tr>\n",
       "      <th>std</th>\n",
       "      <td>1.337487e+05</td>\n",
       "      <td>6.354964e+03</td>\n",
       "      <td>0.053839</td>\n",
       "      <td>0.036986</td>\n",
       "    </tr>\n",
       "    <tr>\n",
       "      <th>min</th>\n",
       "      <td>6.061738e+06</td>\n",
       "      <td>3.001776e+06</td>\n",
       "      <td>47.495860</td>\n",
       "      <td>-122.430368</td>\n",
       "    </tr>\n",
       "    <tr>\n",
       "      <th>25%</th>\n",
       "      <td>6.391959e+06</td>\n",
       "      <td>3.014586e+06</td>\n",
       "      <td>47.587431</td>\n",
       "      <td>-122.362746</td>\n",
       "    </tr>\n",
       "    <tr>\n",
       "      <th>50%</th>\n",
       "      <td>6.478519e+06</td>\n",
       "      <td>3.017859e+06</td>\n",
       "      <td>47.625653</td>\n",
       "      <td>-122.333894</td>\n",
       "    </tr>\n",
       "    <tr>\n",
       "      <th>75%</th>\n",
       "      <td>6.569116e+06</td>\n",
       "      <td>3.023228e+06</td>\n",
       "      <td>47.669658</td>\n",
       "      <td>-122.306386</td>\n",
       "    </tr>\n",
       "    <tr>\n",
       "      <th>max</th>\n",
       "      <td>6.658995e+06</td>\n",
       "      <td>3.031743e+06</td>\n",
       "      <td>47.733970</td>\n",
       "      <td>-122.236509</td>\n",
       "    </tr>\n",
       "  </tbody>\n",
       "</table>\n",
       "</div>"
      ],
      "text/plain": [
       "       Application/Permit Number  Master Use Permit      Latitude  \\\n",
       "count               3.353900e+04       4.498000e+03  33518.000000   \n",
       "mean                6.464032e+06       3.018357e+06     47.625743   \n",
       "std                 1.337487e+05       6.354964e+03      0.053839   \n",
       "min                 6.061738e+06       3.001776e+06     47.495860   \n",
       "25%                 6.391959e+06       3.014586e+06     47.587431   \n",
       "50%                 6.478519e+06       3.017859e+06     47.625653   \n",
       "75%                 6.569116e+06       3.023228e+06     47.669658   \n",
       "max                 6.658995e+06       3.031743e+06     47.733970   \n",
       "\n",
       "          Longitude  \n",
       "count  33518.000000  \n",
       "mean    -122.334745  \n",
       "std        0.036986  \n",
       "min     -122.430368  \n",
       "25%     -122.362746  \n",
       "50%     -122.333894  \n",
       "75%     -122.306386  \n",
       "max     -122.236509  "
      ]
     },
     "execution_count": 10,
     "metadata": {},
     "output_type": "execute_result"
    }
   ],
   "source": [
    "train.describe()"
   ]
  },
  {
   "cell_type": "code",
   "execution_count": 11,
   "metadata": {},
   "outputs": [
    {
     "data": {
      "text/plain": [
       "29380"
      ]
     },
     "execution_count": 11,
     "metadata": {},
     "output_type": "execute_result"
    }
   ],
   "source": [
    "train['Description'].nunique()"
   ]
  },
  {
   "cell_type": "code",
   "execution_count": 12,
   "metadata": {},
   "outputs": [],
   "source": [
    "##Description is combination of words"
   ]
  },
  {
   "cell_type": "code",
   "execution_count": 13,
   "metadata": {},
   "outputs": [
    {
     "data": {
      "text/plain": [
       "3"
      ]
     },
     "execution_count": 13,
     "metadata": {},
     "output_type": "execute_result"
    }
   ],
   "source": [
    "train['Permit Type'].nunique()\n"
   ]
  },
  {
   "cell_type": "code",
   "execution_count": 21,
   "metadata": {},
   "outputs": [
    {
     "data": {
      "text/plain": [
       "array(['Construction', 'Demolition', 'Site Development'], dtype=object)"
      ]
     },
     "execution_count": 21,
     "metadata": {},
     "output_type": "execute_result"
    }
   ],
   "source": [
    "##Permit  Type is categorical as it has 3 types\n",
    "train['Permit Type'].unique()"
   ]
  },
  {
   "cell_type": "code",
   "execution_count": 15,
   "metadata": {},
   "outputs": [
    {
     "data": {
      "text/plain": [
       "23217"
      ]
     },
     "execution_count": 15,
     "metadata": {},
     "output_type": "execute_result"
    }
   ],
   "source": [
    "train['Address'].nunique()"
   ]
  },
  {
   "cell_type": "code",
   "execution_count": 16,
   "metadata": {},
   "outputs": [],
   "source": [
    "##Address is of different types and combination of words"
   ]
  },
  {
   "cell_type": "code",
   "execution_count": 19,
   "metadata": {},
   "outputs": [
    {
     "data": {
      "text/plain": [
       "16"
      ]
     },
     "execution_count": 19,
     "metadata": {},
     "output_type": "execute_result"
    }
   ],
   "source": [
    "train['Action Type'].nunique()"
   ]
  },
  {
   "cell_type": "code",
   "execution_count": 20,
   "metadata": {},
   "outputs": [
    {
     "data": {
      "text/plain": [
       "array(['ADD/ALT', 'DEMOLITION', 'ALTER', 'NEW',\n",
       "       'TREE/VEGETATION MAINT/RESTORE', 'NO CONSTRUCTION', nan, 'TEMP',\n",
       "       'CURB CUT', 'GRADING', 'SHORELINE EXEMPTION ONLY',\n",
       "       'SITE MONITORING ONLY', 'DECONSTRUCTION', 'RELOCATION',\n",
       "       'FLOODPLAIN LICENSE ONLY', 'TREE PROTECTION EXEMPTION',\n",
       "       'DRAINAGE APPROVAL'], dtype=object)"
      ]
     },
     "execution_count": 20,
     "metadata": {},
     "output_type": "execute_result"
    }
   ],
   "source": [
    "##Action Type is categorical as it has fixed type of 16\n",
    "train['Action Type'].unique()"
   ]
  },
  {
   "cell_type": "code",
   "execution_count": 22,
   "metadata": {},
   "outputs": [
    {
     "data": {
      "text/plain": [
       "2"
      ]
     },
     "execution_count": 22,
     "metadata": {},
     "output_type": "execute_result"
    }
   ],
   "source": [
    "train['Work Type'].nunique()"
   ]
  },
  {
   "cell_type": "code",
   "execution_count": 24,
   "metadata": {},
   "outputs": [
    {
     "data": {
      "text/plain": [
       "array(['No plan review', 'Plan Review'], dtype=object)"
      ]
     },
     "execution_count": 24,
     "metadata": {},
     "output_type": "execute_result"
    }
   ],
   "source": [
    "##work Type is Categorical  with 2 types\n",
    "train['Work Type'].unique()"
   ]
  },
  {
   "cell_type": "code",
   "execution_count": 25,
   "metadata": {},
   "outputs": [],
   "source": [
    "##Applicant Name can be dropped as of no significance\n"
   ]
  },
  {
   "cell_type": "code",
   "execution_count": 26,
   "metadata": {},
   "outputs": [
    {
     "data": {
      "text/plain": [
       "2273"
      ]
     },
     "execution_count": 26,
     "metadata": {},
     "output_type": "execute_result"
    }
   ],
   "source": [
    "train['Application Date'].nunique()"
   ]
  },
  {
   "cell_type": "code",
   "execution_count": 27,
   "metadata": {},
   "outputs": [],
   "source": [
    "##Application Date needs to be transformed to some other variable for usage"
   ]
  },
  {
   "cell_type": "code",
   "execution_count": 28,
   "metadata": {},
   "outputs": [
    {
     "data": {
      "text/plain": [
       "1409"
      ]
     },
     "execution_count": 28,
     "metadata": {},
     "output_type": "execute_result"
    }
   ],
   "source": [
    "train['Issue Date'].nunique()"
   ]
  },
  {
   "cell_type": "code",
   "execution_count": 29,
   "metadata": {},
   "outputs": [],
   "source": [
    "##Issue date can be transformed to some other variable for usage"
   ]
  },
  {
   "cell_type": "code",
   "execution_count": 30,
   "metadata": {},
   "outputs": [
    {
     "data": {
      "text/plain": [
       "1249"
      ]
     },
     "execution_count": 30,
     "metadata": {},
     "output_type": "execute_result"
    }
   ],
   "source": [
    "train['Final Date'].nunique()"
   ]
  },
  {
   "cell_type": "code",
   "execution_count": 31,
   "metadata": {},
   "outputs": [
    {
     "data": {
      "text/plain": [
       "1610"
      ]
     },
     "execution_count": 31,
     "metadata": {},
     "output_type": "execute_result"
    }
   ],
   "source": [
    "train['Expiration Date'].nunique()"
   ]
  },
  {
   "cell_type": "code",
   "execution_count": 32,
   "metadata": {},
   "outputs": [
    {
     "data": {
      "text/plain": [
       "12"
      ]
     },
     "execution_count": 32,
     "metadata": {},
     "output_type": "execute_result"
    }
   ],
   "source": [
    "train['Status'].nunique()"
   ]
  },
  {
   "cell_type": "code",
   "execution_count": 33,
   "metadata": {},
   "outputs": [
    {
     "data": {
      "text/plain": [
       "array(['Permit Issued', 'Permit Closed', 'Initial Information Collected',\n",
       "       'Permit Finaled', 'AP Closed', 'CANCELLED', 'Application Accepted',\n",
       "       nan, 'Reviews Completed', 'Information Collected',\n",
       "       'Cert of Occupancy Authorized', 'AP Finaled', 'Inspections Added'],\n",
       "      dtype=object)"
      ]
     },
     "execution_count": 33,
     "metadata": {},
     "output_type": "execute_result"
    }
   ],
   "source": [
    "##unique no of Status is 12 .\n",
    "train['Status'].unique()"
   ]
  },
  {
   "cell_type": "code",
   "execution_count": 34,
   "metadata": {},
   "outputs": [
    {
     "data": {
      "text/plain": [
       "1743"
      ]
     },
     "execution_count": 34,
     "metadata": {},
     "output_type": "execute_result"
    }
   ],
   "source": [
    "train['Contractor'].nunique()"
   ]
  },
  {
   "cell_type": "code",
   "execution_count": 35,
   "metadata": {},
   "outputs": [
    {
     "data": {
      "text/plain": [
       "array(['SINGLE FAMILY / DUPLEX', 'COMMERCIAL', 'INSTITUTIONAL',\n",
       "       'MULTIFAMILY', 'INDUSTRIAL'], dtype=object)"
      ]
     },
     "execution_count": 35,
     "metadata": {},
     "output_type": "execute_result"
    }
   ],
   "source": [
    "train['Category'].unique()"
   ]
  },
  {
   "cell_type": "code",
   "execution_count": 36,
   "metadata": {},
   "outputs": [],
   "source": [
    "##So we have 5 classes in prediction"
   ]
  },
  {
   "cell_type": "code",
   "execution_count": 37,
   "metadata": {},
   "outputs": [],
   "source": [
    "##Final Observations from Exploratory data analysis\n",
    "##Loads of Missing values which needs to be cleaned to proceed\n",
    "## The varaibles Permit Type, Action Type,Work Type, status needs to be converted to Categorical\n",
    "##Some of the variables are not required as the Latitude and Longitude alreaday given so fields like Address,Location might not be needed as they attribute to same thing"
   ]
  },
  {
   "cell_type": "code",
   "execution_count": 38,
   "metadata": {},
   "outputs": [
    {
     "data": {
      "text/plain": [
       "'\\nApplication Date                    6939\\nIssue Date                         10624\\nFinal Date                         17851\\nExpiration Date                    10569\\n'"
      ]
     },
     "execution_count": 38,
     "metadata": {},
     "output_type": "execute_result"
    }
   ],
   "source": [
    "##There are lot of Missing values with dates \n",
    "'''\n",
    "Application Date                    6939\n",
    "Issue Date                         10624\n",
    "Final Date                         17851\n",
    "Expiration Date                    10569\n",
    "'''\n"
   ]
  },
  {
   "cell_type": "code",
   "execution_count": 174,
   "metadata": {},
   "outputs": [],
   "source": [
    "train_temp = train.copy()"
   ]
  },
  {
   "cell_type": "code",
   "execution_count": 175,
   "metadata": {},
   "outputs": [
    {
     "data": {
      "text/html": [
       "<div>\n",
       "<style scoped>\n",
       "    .dataframe tbody tr th:only-of-type {\n",
       "        vertical-align: middle;\n",
       "    }\n",
       "\n",
       "    .dataframe tbody tr th {\n",
       "        vertical-align: top;\n",
       "    }\n",
       "\n",
       "    .dataframe thead th {\n",
       "        text-align: right;\n",
       "    }\n",
       "</style>\n",
       "<table border=\"1\" class=\"dataframe\">\n",
       "  <thead>\n",
       "    <tr style=\"text-align: right;\">\n",
       "      <th></th>\n",
       "      <th>Application/Permit Number</th>\n",
       "      <th>Permit Type</th>\n",
       "      <th>Address</th>\n",
       "      <th>Description</th>\n",
       "      <th>Action Type</th>\n",
       "      <th>Work Type</th>\n",
       "      <th>Applicant Name</th>\n",
       "      <th>Application Date</th>\n",
       "      <th>Issue Date</th>\n",
       "      <th>Final Date</th>\n",
       "      <th>Expiration Date</th>\n",
       "      <th>Status</th>\n",
       "      <th>Contractor</th>\n",
       "      <th>Permit and Complaint Status URL</th>\n",
       "      <th>Master Use Permit</th>\n",
       "      <th>Latitude</th>\n",
       "      <th>Longitude</th>\n",
       "      <th>Location</th>\n",
       "      <th>Category</th>\n",
       "    </tr>\n",
       "  </thead>\n",
       "  <tbody>\n",
       "    <tr>\n",
       "      <th>0</th>\n",
       "      <td>6640280</td>\n",
       "      <td>Construction</td>\n",
       "      <td>1924 10TH AVE E</td>\n",
       "      <td>Alterations to single family residence, (porti...</td>\n",
       "      <td>ADD/ALT</td>\n",
       "      <td>No plan review</td>\n",
       "      <td>ZHANG, JERRY</td>\n",
       "      <td>2018-01-16T00:00:00</td>\n",
       "      <td>2018-01-16T00:00:00</td>\n",
       "      <td>NaN</td>\n",
       "      <td>2019-07-16T00:00:00</td>\n",
       "      <td>Permit Issued</td>\n",
       "      <td>NaN</td>\n",
       "      <td>{'url': 'http://web6.seattle.gov/dpd/PermitSta...</td>\n",
       "      <td>NaN</td>\n",
       "      <td>47.636732</td>\n",
       "      <td>-122.319828</td>\n",
       "      <td>{'latitude': '47.63673222', 'human_address': '...</td>\n",
       "      <td>SINGLE FAMILY / DUPLEX</td>\n",
       "    </tr>\n",
       "    <tr>\n",
       "      <th>1</th>\n",
       "      <td>6452959</td>\n",
       "      <td>Construction</td>\n",
       "      <td>9434 DELRIDGE WAY SW</td>\n",
       "      <td>Change use permit from restaurant to residenti...</td>\n",
       "      <td>ADD/ALT</td>\n",
       "      <td>Plan Review</td>\n",
       "      <td>MARTIN, TERRY</td>\n",
       "      <td>2015-02-13T00:00:00</td>\n",
       "      <td>2015-04-16T00:00:00</td>\n",
       "      <td>2016-11-15T00:00:00</td>\n",
       "      <td>2016-10-16T00:00:00</td>\n",
       "      <td>Permit Closed</td>\n",
       "      <td>NaN</td>\n",
       "      <td>{'url': 'http://web6.seattle.gov/dpd/PermitSta...</td>\n",
       "      <td>NaN</td>\n",
       "      <td>47.518298</td>\n",
       "      <td>-122.355555</td>\n",
       "      <td>{'latitude': '47.51829831', 'human_address': '...</td>\n",
       "      <td>COMMERCIAL</td>\n",
       "    </tr>\n",
       "    <tr>\n",
       "      <th>2</th>\n",
       "      <td>6435127</td>\n",
       "      <td>Construction</td>\n",
       "      <td>535 TERRY AVE N</td>\n",
       "      <td>Construct interior alterations to existing off...</td>\n",
       "      <td>ADD/ALT</td>\n",
       "      <td>No plan review</td>\n",
       "      <td>ALLEXSAHT, REBECCA</td>\n",
       "      <td>2014-09-04T00:00:00</td>\n",
       "      <td>2014-09-04T00:00:00</td>\n",
       "      <td>2015-11-20T00:00:00</td>\n",
       "      <td>2016-03-04T00:00:00</td>\n",
       "      <td>Permit Closed</td>\n",
       "      <td>IA/INTERIOR ARCHITECTS</td>\n",
       "      <td>{'url': 'http://web6.seattle.gov/dpd/PermitSta...</td>\n",
       "      <td>NaN</td>\n",
       "      <td>47.624025</td>\n",
       "      <td>-122.337567</td>\n",
       "      <td>{'latitude': '47.62402492', 'human_address': '...</td>\n",
       "      <td>COMMERCIAL</td>\n",
       "    </tr>\n",
       "    <tr>\n",
       "      <th>3</th>\n",
       "      <td>6620870</td>\n",
       "      <td>Demolition</td>\n",
       "      <td>830 4TH AVE S</td>\n",
       "      <td>need to remove a fire escape that is not part ...</td>\n",
       "      <td>DEMOLITION</td>\n",
       "      <td>Plan Review</td>\n",
       "      <td>JUNK, FRANK</td>\n",
       "      <td>NaN</td>\n",
       "      <td>NaN</td>\n",
       "      <td>NaN</td>\n",
       "      <td>NaN</td>\n",
       "      <td>Initial Information Collected</td>\n",
       "      <td>NaN</td>\n",
       "      <td>{'url': 'http://web6.seattle.gov/dpd/PermitSta...</td>\n",
       "      <td>NaN</td>\n",
       "      <td>47.595020</td>\n",
       "      <td>-122.328530</td>\n",
       "      <td>{'latitude': '47.59502036', 'human_address': '...</td>\n",
       "      <td>COMMERCIAL</td>\n",
       "    </tr>\n",
       "    <tr>\n",
       "      <th>4</th>\n",
       "      <td>6363778</td>\n",
       "      <td>Construction</td>\n",
       "      <td>805 NE 106TH ST</td>\n",
       "      <td>Channel modification to Thornton Creek, stream...</td>\n",
       "      <td>ADD/ALT</td>\n",
       "      <td>Plan Review</td>\n",
       "      <td>DANIEL, MARK</td>\n",
       "      <td>2013-05-02T00:00:00</td>\n",
       "      <td>2013-12-19T00:00:00</td>\n",
       "      <td>2015-05-14T00:00:00</td>\n",
       "      <td>2015-06-19T00:00:00</td>\n",
       "      <td>Permit Closed</td>\n",
       "      <td>SEATTLE PARKS DEPT</td>\n",
       "      <td>{'url': 'http://web6.seattle.gov/dpd/PermitSta...</td>\n",
       "      <td>NaN</td>\n",
       "      <td>47.705686</td>\n",
       "      <td>-122.320134</td>\n",
       "      <td>{'latitude': '47.70568601', 'human_address': '...</td>\n",
       "      <td>COMMERCIAL</td>\n",
       "    </tr>\n",
       "  </tbody>\n",
       "</table>\n",
       "</div>"
      ],
      "text/plain": [
       "   Application/Permit Number   Permit Type               Address  \\\n",
       "0                    6640280  Construction       1924 10TH AVE E   \n",
       "1                    6452959  Construction  9434 DELRIDGE WAY SW   \n",
       "2                    6435127  Construction       535 TERRY AVE N   \n",
       "3                    6620870    Demolition         830 4TH AVE S   \n",
       "4                    6363778  Construction       805 NE 106TH ST   \n",
       "\n",
       "                                         Description Action Type  \\\n",
       "0  Alterations to single family residence, (porti...     ADD/ALT   \n",
       "1  Change use permit from restaurant to residenti...     ADD/ALT   \n",
       "2  Construct interior alterations to existing off...     ADD/ALT   \n",
       "3  need to remove a fire escape that is not part ...  DEMOLITION   \n",
       "4  Channel modification to Thornton Creek, stream...     ADD/ALT   \n",
       "\n",
       "        Work Type      Applicant Name     Application Date  \\\n",
       "0  No plan review        ZHANG, JERRY  2018-01-16T00:00:00   \n",
       "1     Plan Review       MARTIN, TERRY  2015-02-13T00:00:00   \n",
       "2  No plan review  ALLEXSAHT, REBECCA  2014-09-04T00:00:00   \n",
       "3     Plan Review         JUNK, FRANK                  NaN   \n",
       "4     Plan Review        DANIEL, MARK  2013-05-02T00:00:00   \n",
       "\n",
       "            Issue Date           Final Date      Expiration Date  \\\n",
       "0  2018-01-16T00:00:00                  NaN  2019-07-16T00:00:00   \n",
       "1  2015-04-16T00:00:00  2016-11-15T00:00:00  2016-10-16T00:00:00   \n",
       "2  2014-09-04T00:00:00  2015-11-20T00:00:00  2016-03-04T00:00:00   \n",
       "3                  NaN                  NaN                  NaN   \n",
       "4  2013-12-19T00:00:00  2015-05-14T00:00:00  2015-06-19T00:00:00   \n",
       "\n",
       "                          Status              Contractor  \\\n",
       "0                  Permit Issued                     NaN   \n",
       "1                  Permit Closed                     NaN   \n",
       "2                  Permit Closed  IA/INTERIOR ARCHITECTS   \n",
       "3  Initial Information Collected                     NaN   \n",
       "4                  Permit Closed      SEATTLE PARKS DEPT   \n",
       "\n",
       "                     Permit and Complaint Status URL  Master Use Permit  \\\n",
       "0  {'url': 'http://web6.seattle.gov/dpd/PermitSta...                NaN   \n",
       "1  {'url': 'http://web6.seattle.gov/dpd/PermitSta...                NaN   \n",
       "2  {'url': 'http://web6.seattle.gov/dpd/PermitSta...                NaN   \n",
       "3  {'url': 'http://web6.seattle.gov/dpd/PermitSta...                NaN   \n",
       "4  {'url': 'http://web6.seattle.gov/dpd/PermitSta...                NaN   \n",
       "\n",
       "    Latitude   Longitude                                           Location  \\\n",
       "0  47.636732 -122.319828  {'latitude': '47.63673222', 'human_address': '...   \n",
       "1  47.518298 -122.355555  {'latitude': '47.51829831', 'human_address': '...   \n",
       "2  47.624025 -122.337567  {'latitude': '47.62402492', 'human_address': '...   \n",
       "3  47.595020 -122.328530  {'latitude': '47.59502036', 'human_address': '...   \n",
       "4  47.705686 -122.320134  {'latitude': '47.70568601', 'human_address': '...   \n",
       "\n",
       "                 Category  \n",
       "0  SINGLE FAMILY / DUPLEX  \n",
       "1              COMMERCIAL  \n",
       "2              COMMERCIAL  \n",
       "3              COMMERCIAL  \n",
       "4              COMMERCIAL  "
      ]
     },
     "execution_count": 175,
     "metadata": {},
     "output_type": "execute_result"
    }
   ],
   "source": [
    "train_temp.head()"
   ]
  },
  {
   "cell_type": "code",
   "execution_count": 176,
   "metadata": {},
   "outputs": [
    {
     "data": {
      "text/plain": [
       "Application/Permit Number            int64\n",
       "Permit Type                         object\n",
       "Address                             object\n",
       "Description                         object\n",
       "Action Type                         object\n",
       "Work Type                           object\n",
       "Applicant Name                      object\n",
       "Application Date                    object\n",
       "Issue Date                          object\n",
       "Final Date                          object\n",
       "Expiration Date                     object\n",
       "Status                              object\n",
       "Contractor                          object\n",
       "Permit and Complaint Status URL     object\n",
       "Master Use Permit                  float64\n",
       "Latitude                           float64\n",
       "Longitude                          float64\n",
       "Location                            object\n",
       "Category                            object\n",
       "dtype: object"
      ]
     },
     "execution_count": 176,
     "metadata": {},
     "output_type": "execute_result"
    }
   ],
   "source": [
    "train_temp.dtypes\n"
   ]
  },
  {
   "cell_type": "code",
   "execution_count": 177,
   "metadata": {},
   "outputs": [],
   "source": [
    "from datetime import datetime\n",
    "from dateutil.parser import parse\n",
    "train_temp['Wait Time'] = pd.to_datetime(train_temp['Issue Date']) - pd.to_datetime(train_temp['Application Date'])\n",
    "\n"
   ]
  },
  {
   "cell_type": "code",
   "execution_count": 178,
   "metadata": {
    "scrolled": true
   },
   "outputs": [
    {
     "data": {
      "text/html": [
       "<div>\n",
       "<style scoped>\n",
       "    .dataframe tbody tr th:only-of-type {\n",
       "        vertical-align: middle;\n",
       "    }\n",
       "\n",
       "    .dataframe tbody tr th {\n",
       "        vertical-align: top;\n",
       "    }\n",
       "\n",
       "    .dataframe thead th {\n",
       "        text-align: right;\n",
       "    }\n",
       "</style>\n",
       "<table border=\"1\" class=\"dataframe\">\n",
       "  <thead>\n",
       "    <tr style=\"text-align: right;\">\n",
       "      <th></th>\n",
       "      <th>Application/Permit Number</th>\n",
       "      <th>Permit Type</th>\n",
       "      <th>Address</th>\n",
       "      <th>Description</th>\n",
       "      <th>Action Type</th>\n",
       "      <th>Work Type</th>\n",
       "      <th>Applicant Name</th>\n",
       "      <th>Application Date</th>\n",
       "      <th>Issue Date</th>\n",
       "      <th>Final Date</th>\n",
       "      <th>Expiration Date</th>\n",
       "      <th>Status</th>\n",
       "      <th>Contractor</th>\n",
       "      <th>Permit and Complaint Status URL</th>\n",
       "      <th>Master Use Permit</th>\n",
       "      <th>Latitude</th>\n",
       "      <th>Longitude</th>\n",
       "      <th>Location</th>\n",
       "      <th>Category</th>\n",
       "      <th>Wait Time</th>\n",
       "    </tr>\n",
       "  </thead>\n",
       "  <tbody>\n",
       "    <tr>\n",
       "      <th>0</th>\n",
       "      <td>6640280</td>\n",
       "      <td>Construction</td>\n",
       "      <td>1924 10TH AVE E</td>\n",
       "      <td>Alterations to single family residence, (porti...</td>\n",
       "      <td>ADD/ALT</td>\n",
       "      <td>No plan review</td>\n",
       "      <td>ZHANG, JERRY</td>\n",
       "      <td>2018-01-16T00:00:00</td>\n",
       "      <td>2018-01-16T00:00:00</td>\n",
       "      <td>NaN</td>\n",
       "      <td>2019-07-16T00:00:00</td>\n",
       "      <td>Permit Issued</td>\n",
       "      <td>NaN</td>\n",
       "      <td>{'url': 'http://web6.seattle.gov/dpd/PermitSta...</td>\n",
       "      <td>NaN</td>\n",
       "      <td>47.636732</td>\n",
       "      <td>-122.319828</td>\n",
       "      <td>{'latitude': '47.63673222', 'human_address': '...</td>\n",
       "      <td>SINGLE FAMILY / DUPLEX</td>\n",
       "      <td>0 days</td>\n",
       "    </tr>\n",
       "    <tr>\n",
       "      <th>1</th>\n",
       "      <td>6452959</td>\n",
       "      <td>Construction</td>\n",
       "      <td>9434 DELRIDGE WAY SW</td>\n",
       "      <td>Change use permit from restaurant to residenti...</td>\n",
       "      <td>ADD/ALT</td>\n",
       "      <td>Plan Review</td>\n",
       "      <td>MARTIN, TERRY</td>\n",
       "      <td>2015-02-13T00:00:00</td>\n",
       "      <td>2015-04-16T00:00:00</td>\n",
       "      <td>2016-11-15T00:00:00</td>\n",
       "      <td>2016-10-16T00:00:00</td>\n",
       "      <td>Permit Closed</td>\n",
       "      <td>NaN</td>\n",
       "      <td>{'url': 'http://web6.seattle.gov/dpd/PermitSta...</td>\n",
       "      <td>NaN</td>\n",
       "      <td>47.518298</td>\n",
       "      <td>-122.355555</td>\n",
       "      <td>{'latitude': '47.51829831', 'human_address': '...</td>\n",
       "      <td>COMMERCIAL</td>\n",
       "      <td>62 days</td>\n",
       "    </tr>\n",
       "    <tr>\n",
       "      <th>2</th>\n",
       "      <td>6435127</td>\n",
       "      <td>Construction</td>\n",
       "      <td>535 TERRY AVE N</td>\n",
       "      <td>Construct interior alterations to existing off...</td>\n",
       "      <td>ADD/ALT</td>\n",
       "      <td>No plan review</td>\n",
       "      <td>ALLEXSAHT, REBECCA</td>\n",
       "      <td>2014-09-04T00:00:00</td>\n",
       "      <td>2014-09-04T00:00:00</td>\n",
       "      <td>2015-11-20T00:00:00</td>\n",
       "      <td>2016-03-04T00:00:00</td>\n",
       "      <td>Permit Closed</td>\n",
       "      <td>IA/INTERIOR ARCHITECTS</td>\n",
       "      <td>{'url': 'http://web6.seattle.gov/dpd/PermitSta...</td>\n",
       "      <td>NaN</td>\n",
       "      <td>47.624025</td>\n",
       "      <td>-122.337567</td>\n",
       "      <td>{'latitude': '47.62402492', 'human_address': '...</td>\n",
       "      <td>COMMERCIAL</td>\n",
       "      <td>0 days</td>\n",
       "    </tr>\n",
       "    <tr>\n",
       "      <th>3</th>\n",
       "      <td>6620870</td>\n",
       "      <td>Demolition</td>\n",
       "      <td>830 4TH AVE S</td>\n",
       "      <td>need to remove a fire escape that is not part ...</td>\n",
       "      <td>DEMOLITION</td>\n",
       "      <td>Plan Review</td>\n",
       "      <td>JUNK, FRANK</td>\n",
       "      <td>NaN</td>\n",
       "      <td>NaN</td>\n",
       "      <td>NaN</td>\n",
       "      <td>NaN</td>\n",
       "      <td>Initial Information Collected</td>\n",
       "      <td>NaN</td>\n",
       "      <td>{'url': 'http://web6.seattle.gov/dpd/PermitSta...</td>\n",
       "      <td>NaN</td>\n",
       "      <td>47.595020</td>\n",
       "      <td>-122.328530</td>\n",
       "      <td>{'latitude': '47.59502036', 'human_address': '...</td>\n",
       "      <td>COMMERCIAL</td>\n",
       "      <td>NaT</td>\n",
       "    </tr>\n",
       "    <tr>\n",
       "      <th>4</th>\n",
       "      <td>6363778</td>\n",
       "      <td>Construction</td>\n",
       "      <td>805 NE 106TH ST</td>\n",
       "      <td>Channel modification to Thornton Creek, stream...</td>\n",
       "      <td>ADD/ALT</td>\n",
       "      <td>Plan Review</td>\n",
       "      <td>DANIEL, MARK</td>\n",
       "      <td>2013-05-02T00:00:00</td>\n",
       "      <td>2013-12-19T00:00:00</td>\n",
       "      <td>2015-05-14T00:00:00</td>\n",
       "      <td>2015-06-19T00:00:00</td>\n",
       "      <td>Permit Closed</td>\n",
       "      <td>SEATTLE PARKS DEPT</td>\n",
       "      <td>{'url': 'http://web6.seattle.gov/dpd/PermitSta...</td>\n",
       "      <td>NaN</td>\n",
       "      <td>47.705686</td>\n",
       "      <td>-122.320134</td>\n",
       "      <td>{'latitude': '47.70568601', 'human_address': '...</td>\n",
       "      <td>COMMERCIAL</td>\n",
       "      <td>231 days</td>\n",
       "    </tr>\n",
       "  </tbody>\n",
       "</table>\n",
       "</div>"
      ],
      "text/plain": [
       "   Application/Permit Number   Permit Type               Address  \\\n",
       "0                    6640280  Construction       1924 10TH AVE E   \n",
       "1                    6452959  Construction  9434 DELRIDGE WAY SW   \n",
       "2                    6435127  Construction       535 TERRY AVE N   \n",
       "3                    6620870    Demolition         830 4TH AVE S   \n",
       "4                    6363778  Construction       805 NE 106TH ST   \n",
       "\n",
       "                                         Description Action Type  \\\n",
       "0  Alterations to single family residence, (porti...     ADD/ALT   \n",
       "1  Change use permit from restaurant to residenti...     ADD/ALT   \n",
       "2  Construct interior alterations to existing off...     ADD/ALT   \n",
       "3  need to remove a fire escape that is not part ...  DEMOLITION   \n",
       "4  Channel modification to Thornton Creek, stream...     ADD/ALT   \n",
       "\n",
       "        Work Type      Applicant Name     Application Date  \\\n",
       "0  No plan review        ZHANG, JERRY  2018-01-16T00:00:00   \n",
       "1     Plan Review       MARTIN, TERRY  2015-02-13T00:00:00   \n",
       "2  No plan review  ALLEXSAHT, REBECCA  2014-09-04T00:00:00   \n",
       "3     Plan Review         JUNK, FRANK                  NaN   \n",
       "4     Plan Review        DANIEL, MARK  2013-05-02T00:00:00   \n",
       "\n",
       "            Issue Date           Final Date      Expiration Date  \\\n",
       "0  2018-01-16T00:00:00                  NaN  2019-07-16T00:00:00   \n",
       "1  2015-04-16T00:00:00  2016-11-15T00:00:00  2016-10-16T00:00:00   \n",
       "2  2014-09-04T00:00:00  2015-11-20T00:00:00  2016-03-04T00:00:00   \n",
       "3                  NaN                  NaN                  NaN   \n",
       "4  2013-12-19T00:00:00  2015-05-14T00:00:00  2015-06-19T00:00:00   \n",
       "\n",
       "                          Status              Contractor  \\\n",
       "0                  Permit Issued                     NaN   \n",
       "1                  Permit Closed                     NaN   \n",
       "2                  Permit Closed  IA/INTERIOR ARCHITECTS   \n",
       "3  Initial Information Collected                     NaN   \n",
       "4                  Permit Closed      SEATTLE PARKS DEPT   \n",
       "\n",
       "                     Permit and Complaint Status URL  Master Use Permit  \\\n",
       "0  {'url': 'http://web6.seattle.gov/dpd/PermitSta...                NaN   \n",
       "1  {'url': 'http://web6.seattle.gov/dpd/PermitSta...                NaN   \n",
       "2  {'url': 'http://web6.seattle.gov/dpd/PermitSta...                NaN   \n",
       "3  {'url': 'http://web6.seattle.gov/dpd/PermitSta...                NaN   \n",
       "4  {'url': 'http://web6.seattle.gov/dpd/PermitSta...                NaN   \n",
       "\n",
       "    Latitude   Longitude                                           Location  \\\n",
       "0  47.636732 -122.319828  {'latitude': '47.63673222', 'human_address': '...   \n",
       "1  47.518298 -122.355555  {'latitude': '47.51829831', 'human_address': '...   \n",
       "2  47.624025 -122.337567  {'latitude': '47.62402492', 'human_address': '...   \n",
       "3  47.595020 -122.328530  {'latitude': '47.59502036', 'human_address': '...   \n",
       "4  47.705686 -122.320134  {'latitude': '47.70568601', 'human_address': '...   \n",
       "\n",
       "                 Category Wait Time  \n",
       "0  SINGLE FAMILY / DUPLEX    0 days  \n",
       "1              COMMERCIAL   62 days  \n",
       "2              COMMERCIAL    0 days  \n",
       "3              COMMERCIAL       NaT  \n",
       "4              COMMERCIAL  231 days  "
      ]
     },
     "execution_count": 178,
     "metadata": {},
     "output_type": "execute_result"
    }
   ],
   "source": [
    "train_temp.head()"
   ]
  },
  {
   "cell_type": "code",
   "execution_count": 179,
   "metadata": {},
   "outputs": [],
   "source": [
    "train_temp['Wait_final'] = pd.to_datetime(train_temp['Final Date']) - pd.to_datetime(train_temp['Application Date'])"
   ]
  },
  {
   "cell_type": "code",
   "execution_count": 180,
   "metadata": {},
   "outputs": [],
   "source": [
    "train_temp['Wait_expire'] = pd.to_datetime(train_temp['Expiration Date']) - pd.to_datetime(train_temp['Application Date'])"
   ]
  },
  {
   "cell_type": "code",
   "execution_count": 181,
   "metadata": {},
   "outputs": [
    {
     "name": "stdout",
     "output_type": "stream",
     "text": [
      "   Application/Permit Number   Permit Type               Address  \\\n",
      "0                    6640280  Construction       1924 10TH AVE E   \n",
      "1                    6452959  Construction  9434 DELRIDGE WAY SW   \n",
      "2                    6435127  Construction       535 TERRY AVE N   \n",
      "3                    6620870    Demolition         830 4TH AVE S   \n",
      "4                    6363778  Construction       805 NE 106TH ST   \n",
      "\n",
      "                                         Description Action Type  \\\n",
      "0  Alterations to single family residence, (porti...     ADD/ALT   \n",
      "1  Change use permit from restaurant to residenti...     ADD/ALT   \n",
      "2  Construct interior alterations to existing off...     ADD/ALT   \n",
      "3  need to remove a fire escape that is not part ...  DEMOLITION   \n",
      "4  Channel modification to Thornton Creek, stream...     ADD/ALT   \n",
      "\n",
      "        Work Type      Applicant Name     Application Date  \\\n",
      "0  No plan review        ZHANG, JERRY  2018-01-16T00:00:00   \n",
      "1     Plan Review       MARTIN, TERRY  2015-02-13T00:00:00   \n",
      "2  No plan review  ALLEXSAHT, REBECCA  2014-09-04T00:00:00   \n",
      "3     Plan Review         JUNK, FRANK                  NaN   \n",
      "4     Plan Review        DANIEL, MARK  2013-05-02T00:00:00   \n",
      "\n",
      "            Issue Date           Final Date     ...      \\\n",
      "0  2018-01-16T00:00:00                  NaN     ...       \n",
      "1  2015-04-16T00:00:00  2016-11-15T00:00:00     ...       \n",
      "2  2014-09-04T00:00:00  2015-11-20T00:00:00     ...       \n",
      "3                  NaN                  NaN     ...       \n",
      "4  2013-12-19T00:00:00  2015-05-14T00:00:00     ...       \n",
      "\n",
      "               Contractor                    Permit and Complaint Status URL  \\\n",
      "0                     NaN  {'url': 'http://web6.seattle.gov/dpd/PermitSta...   \n",
      "1                     NaN  {'url': 'http://web6.seattle.gov/dpd/PermitSta...   \n",
      "2  IA/INTERIOR ARCHITECTS  {'url': 'http://web6.seattle.gov/dpd/PermitSta...   \n",
      "3                     NaN  {'url': 'http://web6.seattle.gov/dpd/PermitSta...   \n",
      "4      SEATTLE PARKS DEPT  {'url': 'http://web6.seattle.gov/dpd/PermitSta...   \n",
      "\n",
      "  Master Use Permit   Latitude   Longitude  \\\n",
      "0               NaN  47.636732 -122.319828   \n",
      "1               NaN  47.518298 -122.355555   \n",
      "2               NaN  47.624025 -122.337567   \n",
      "3               NaN  47.595020 -122.328530   \n",
      "4               NaN  47.705686 -122.320134   \n",
      "\n",
      "                                            Location                Category  \\\n",
      "0  {'latitude': '47.63673222', 'human_address': '...  SINGLE FAMILY / DUPLEX   \n",
      "1  {'latitude': '47.51829831', 'human_address': '...              COMMERCIAL   \n",
      "2  {'latitude': '47.62402492', 'human_address': '...              COMMERCIAL   \n",
      "3  {'latitude': '47.59502036', 'human_address': '...              COMMERCIAL   \n",
      "4  {'latitude': '47.70568601', 'human_address': '...              COMMERCIAL   \n",
      "\n",
      "  Wait Time Wait_final Wait_expire  \n",
      "0    0 days        NaT    546 days  \n",
      "1   62 days   641 days    611 days  \n",
      "2    0 days   442 days    547 days  \n",
      "3       NaT        NaT         NaT  \n",
      "4  231 days   742 days    778 days  \n",
      "\n",
      "[5 rows x 22 columns]\n"
     ]
    }
   ],
   "source": [
    "print(train_temp.head())"
   ]
  },
  {
   "cell_type": "code",
   "execution_count": 182,
   "metadata": {},
   "outputs": [],
   "source": [
    "###Dropping few columns which are either not required or duplicated. For example Latitude and Longitude and Address /Location are correlated.So remove Address and Location. \n",
    "###The contractor are different for different construtions so it is not needed for the final model\n",
    "###Master use Permit is also not limited and hence can be dropped\n",
    "train_temp.drop(['Address','Applicant Name','Application Date','Final Date', 'Expiration Date', 'Contractor', 'Permit and Complaint Status URL','Master Use Permit','Location'],axis=1,inplace=True)"
   ]
  },
  {
   "cell_type": "code",
   "execution_count": 183,
   "metadata": {},
   "outputs": [
    {
     "name": "stdout",
     "output_type": "stream",
     "text": [
      "   Application/Permit Number   Permit Type  \\\n",
      "0                    6640280  Construction   \n",
      "1                    6452959  Construction   \n",
      "2                    6435127  Construction   \n",
      "3                    6620870    Demolition   \n",
      "4                    6363778  Construction   \n",
      "\n",
      "                                         Description Action Type  \\\n",
      "0  Alterations to single family residence, (porti...     ADD/ALT   \n",
      "1  Change use permit from restaurant to residenti...     ADD/ALT   \n",
      "2  Construct interior alterations to existing off...     ADD/ALT   \n",
      "3  need to remove a fire escape that is not part ...  DEMOLITION   \n",
      "4  Channel modification to Thornton Creek, stream...     ADD/ALT   \n",
      "\n",
      "        Work Type           Issue Date                         Status  \\\n",
      "0  No plan review  2018-01-16T00:00:00                  Permit Issued   \n",
      "1     Plan Review  2015-04-16T00:00:00                  Permit Closed   \n",
      "2  No plan review  2014-09-04T00:00:00                  Permit Closed   \n",
      "3     Plan Review                  NaN  Initial Information Collected   \n",
      "4     Plan Review  2013-12-19T00:00:00                  Permit Closed   \n",
      "\n",
      "    Latitude   Longitude                Category Wait Time Wait_final  \\\n",
      "0  47.636732 -122.319828  SINGLE FAMILY / DUPLEX    0 days        NaT   \n",
      "1  47.518298 -122.355555              COMMERCIAL   62 days   641 days   \n",
      "2  47.624025 -122.337567              COMMERCIAL    0 days   442 days   \n",
      "3  47.595020 -122.328530              COMMERCIAL       NaT        NaT   \n",
      "4  47.705686 -122.320134              COMMERCIAL  231 days   742 days   \n",
      "\n",
      "  Wait_expire  \n",
      "0    546 days  \n",
      "1    611 days  \n",
      "2    547 days  \n",
      "3         NaT  \n",
      "4    778 days  \n"
     ]
    }
   ],
   "source": [
    "print(train_temp.head())"
   ]
  },
  {
   "cell_type": "code",
   "execution_count": 184,
   "metadata": {},
   "outputs": [
    {
     "data": {
      "text/plain": [
       "Application/Permit Number        0\n",
       "Permit Type                      0\n",
       "Description                     10\n",
       "Action Type                    779\n",
       "Work Type                        0\n",
       "Issue Date                   10624\n",
       "Status                        1574\n",
       "Latitude                        21\n",
       "Longitude                       21\n",
       "Category                         0\n",
       "Wait Time                    10624\n",
       "Wait_final                   17851\n",
       "Wait_expire                  10624\n",
       "dtype: int64"
      ]
     },
     "execution_count": 184,
     "metadata": {},
     "output_type": "execute_result"
    }
   ],
   "source": [
    "###check the Null values now\n",
    "train_temp.apply(lambda x: sum(x.isnull()))"
   ]
  },
  {
   "cell_type": "code",
   "execution_count": 185,
   "metadata": {},
   "outputs": [
    {
     "name": "stdout",
     "output_type": "stream",
     "text": [
      "ADD/ALT                          21382\n",
      "NEW                               6864\n",
      "DEMOLITION                        2593\n",
      "ALTER                              933\n",
      "TREE/VEGETATION MAINT/RESTORE      408\n",
      "GRADING                            194\n",
      "TEMP                               170\n",
      "NO CONSTRUCTION                    110\n",
      "CURB CUT                            74\n",
      "SHORELINE EXEMPTION ONLY            10\n",
      "RELOCATION                           9\n",
      "DECONSTRUCTION                       5\n",
      "SITE MONITORING ONLY                 3\n",
      "FLOODPLAIN LICENSE ONLY              3\n",
      "DRAINAGE APPROVAL                    1\n",
      "TREE PROTECTION EXEMPTION            1\n",
      "Name: Action Type, dtype: int64\n"
     ]
    }
   ],
   "source": [
    "print(train_temp['Action Type'].value_counts())\n"
   ]
  },
  {
   "cell_type": "code",
   "execution_count": 186,
   "metadata": {},
   "outputs": [],
   "source": [
    "##Max occurence is ADD/ALT , doing data imputation to missing values of Action Type as ADD/ALT\n",
    "train_temp['Action Type'] = train_temp['Action Type'].fillna(train_temp['Action Type'].value_counts().index[0])"
   ]
  },
  {
   "cell_type": "code",
   "execution_count": 187,
   "metadata": {},
   "outputs": [
    {
     "data": {
      "text/plain": [
       "0"
      ]
     },
     "execution_count": 187,
     "metadata": {},
     "output_type": "execute_result"
    }
   ],
   "source": [
    "train_temp['Action Type'].isnull().sum()"
   ]
  },
  {
   "cell_type": "code",
   "execution_count": 188,
   "metadata": {},
   "outputs": [
    {
     "name": "stdout",
     "output_type": "stream",
     "text": [
      "ADD/ALT                          22161\n",
      "NEW                               6864\n",
      "DEMOLITION                        2593\n",
      "ALTER                              933\n",
      "TREE/VEGETATION MAINT/RESTORE      408\n",
      "GRADING                            194\n",
      "TEMP                               170\n",
      "NO CONSTRUCTION                    110\n",
      "CURB CUT                            74\n",
      "SHORELINE EXEMPTION ONLY            10\n",
      "RELOCATION                           9\n",
      "DECONSTRUCTION                       5\n",
      "SITE MONITORING ONLY                 3\n",
      "FLOODPLAIN LICENSE ONLY              3\n",
      "DRAINAGE APPROVAL                    1\n",
      "TREE PROTECTION EXEMPTION            1\n",
      "Name: Action Type, dtype: int64\n"
     ]
    }
   ],
   "source": [
    "print(train_temp['Action Type'].value_counts())\n",
    "##Missing values from Action Type got cleaned"
   ]
  },
  {
   "cell_type": "code",
   "execution_count": 189,
   "metadata": {},
   "outputs": [],
   "source": [
    "##Issue Date needs to be dropped as not needed and missed in previous Drop\n",
    "train_temp.drop(['Issue Date'],axis=1,inplace=True)"
   ]
  },
  {
   "cell_type": "code",
   "execution_count": 190,
   "metadata": {},
   "outputs": [
    {
     "name": "stdout",
     "output_type": "stream",
     "text": [
      "   Application/Permit Number   Permit Type  \\\n",
      "0                    6640280  Construction   \n",
      "1                    6452959  Construction   \n",
      "2                    6435127  Construction   \n",
      "3                    6620870    Demolition   \n",
      "4                    6363778  Construction   \n",
      "\n",
      "                                         Description Action Type  \\\n",
      "0  Alterations to single family residence, (porti...     ADD/ALT   \n",
      "1  Change use permit from restaurant to residenti...     ADD/ALT   \n",
      "2  Construct interior alterations to existing off...     ADD/ALT   \n",
      "3  need to remove a fire escape that is not part ...  DEMOLITION   \n",
      "4  Channel modification to Thornton Creek, stream...     ADD/ALT   \n",
      "\n",
      "        Work Type                         Status   Latitude   Longitude  \\\n",
      "0  No plan review                  Permit Issued  47.636732 -122.319828   \n",
      "1     Plan Review                  Permit Closed  47.518298 -122.355555   \n",
      "2  No plan review                  Permit Closed  47.624025 -122.337567   \n",
      "3     Plan Review  Initial Information Collected  47.595020 -122.328530   \n",
      "4     Plan Review                  Permit Closed  47.705686 -122.320134   \n",
      "\n",
      "                 Category Wait Time Wait_final Wait_expire  \n",
      "0  SINGLE FAMILY / DUPLEX    0 days        NaT    546 days  \n",
      "1              COMMERCIAL   62 days   641 days    611 days  \n",
      "2              COMMERCIAL    0 days   442 days    547 days  \n",
      "3              COMMERCIAL       NaT        NaT         NaT  \n",
      "4              COMMERCIAL  231 days   742 days    778 days  \n"
     ]
    }
   ],
   "source": [
    "print(train_temp.head())"
   ]
  },
  {
   "cell_type": "code",
   "execution_count": 191,
   "metadata": {},
   "outputs": [
    {
     "name": "stdout",
     "output_type": "stream",
     "text": [
      "Permit Closed                    16407\n",
      "Permit Issued                     6052\n",
      "Initial Information Collected     5185\n",
      "Application Accepted              1522\n",
      "CANCELLED                         1425\n",
      "Reviews Completed                  540\n",
      "AP Closed                          478\n",
      "Permit Finaled                     240\n",
      "Information Collected               60\n",
      "Cert of Occupancy Authorized        51\n",
      "Inspections Added                    3\n",
      "AP Finaled                           2\n",
      "Name: Status, dtype: int64\n"
     ]
    }
   ],
   "source": [
    "print(train_temp['Status'].value_counts())"
   ]
  },
  {
   "cell_type": "code",
   "execution_count": 192,
   "metadata": {},
   "outputs": [],
   "source": [
    "##Max occurence is Permit Closed , doing data imputation to missing values as max occured value\n",
    "train_temp['Status'] = train_temp['Status'].fillna(train_temp['Status'].value_counts().index[0])"
   ]
  },
  {
   "cell_type": "code",
   "execution_count": 193,
   "metadata": {},
   "outputs": [
    {
     "data": {
      "text/plain": [
       "0"
      ]
     },
     "execution_count": 193,
     "metadata": {},
     "output_type": "execute_result"
    }
   ],
   "source": [
    "train_temp['Status'].isnull().sum()\n",
    "##Cleaning done for Status"
   ]
  },
  {
   "cell_type": "code",
   "execution_count": 194,
   "metadata": {},
   "outputs": [
    {
     "name": "stdout",
     "output_type": "stream",
     "text": [
      "<class 'pandas.core.series.Series'>\n"
     ]
    }
   ],
   "source": [
    "##Based on Permit  type imputing the values Wait Time Wait_final Wait_expire\n",
    "print(type(train_temp['Wait Time']))"
   ]
  },
  {
   "cell_type": "code",
   "execution_count": 195,
   "metadata": {},
   "outputs": [
    {
     "name": "stdout",
     "output_type": "stream",
     "text": [
      "0     0 days\n",
      "1    62 days\n",
      "2     0 days\n",
      "3        NaT\n",
      "4   231 days\n",
      "Name: Wait Time, dtype: timedelta64[ns]\n"
     ]
    }
   ],
   "source": [
    "pd.to_numeric(train_temp['Wait Time'], errors='coerce')\n",
    "print(train_temp['Wait Time'].head())\n"
   ]
  },
  {
   "cell_type": "code",
   "execution_count": 196,
   "metadata": {},
   "outputs": [],
   "source": [
    "train_temp['Wait Time'] = train_temp['Wait Time'].dt.days"
   ]
  },
  {
   "cell_type": "code",
   "execution_count": 197,
   "metadata": {},
   "outputs": [
    {
     "data": {
      "text/plain": [
       "0      0.0\n",
       "1     62.0\n",
       "2      0.0\n",
       "3      NaN\n",
       "4    231.0\n",
       "Name: Wait Time, dtype: float64"
      ]
     },
     "execution_count": 197,
     "metadata": {},
     "output_type": "execute_result"
    }
   ],
   "source": [
    "train_temp['Wait Time'].head()"
   ]
  },
  {
   "cell_type": "code",
   "execution_count": 198,
   "metadata": {},
   "outputs": [],
   "source": [
    "##converting rest to float as well \n",
    "train_temp['Wait_final'] = train_temp['Wait_final'].dt.days\n",
    "train_temp['Wait_expire'] = train_temp['Wait_expire'].dt.days"
   ]
  },
  {
   "cell_type": "code",
   "execution_count": 199,
   "metadata": {},
   "outputs": [
    {
     "data": {
      "text/plain": [
       "Permit Type\n",
       "Construction         73.744069\n",
       "Demolition          129.244968\n",
       "Site Development     58.369565\n",
       "Name: Wait Time, dtype: float64"
      ]
     },
     "execution_count": 199,
     "metadata": {},
     "output_type": "execute_result"
    }
   ],
   "source": [
    "Wait_Time_mean = train_temp.groupby('Permit Type')['Wait Time'].mean()\n",
    "Wait_Time_mean"
   ]
  },
  {
   "cell_type": "code",
   "execution_count": 200,
   "metadata": {},
   "outputs": [],
   "source": [
    "##Data imputation for Wait time \n",
    "miss_data_wait = train_temp['Wait Time'].isnull()"
   ]
  },
  {
   "cell_type": "code",
   "execution_count": 201,
   "metadata": {},
   "outputs": [],
   "source": [
    "for index, row in train_temp.iterrows():\n",
    "    if(pd.isnull(row['Wait Time'])):\n",
    "        train_temp.loc[index, 'Wait Time'] = Wait_Time_mean[row['Permit Type']]"
   ]
  },
  {
   "cell_type": "code",
   "execution_count": 202,
   "metadata": {},
   "outputs": [
    {
     "data": {
      "text/plain": [
       "0      0.000000\n",
       "1     62.000000\n",
       "2      0.000000\n",
       "3    129.244968\n",
       "4    231.000000\n",
       "Name: Wait Time, dtype: float64"
      ]
     },
     "execution_count": 202,
     "metadata": {},
     "output_type": "execute_result"
    }
   ],
   "source": [
    "train_temp['Wait Time'].head()"
   ]
  },
  {
   "cell_type": "code",
   "execution_count": 203,
   "metadata": {},
   "outputs": [],
   "source": [
    "##Data imputation for Wait_final\n",
    "train_temp['Wait_final'].head()\n",
    "Wait_Time_final = train_temp.groupby('Permit Type')['Wait_final'].mean()\n",
    "Wait_Time_final\n",
    "for index, row in train_temp.iterrows():\n",
    "    if(pd.isnull(row['Wait_final'])):\n",
    "        train_temp.loc[index, 'Wait_final'] = Wait_Time_final[row['Permit Type']]"
   ]
  },
  {
   "cell_type": "code",
   "execution_count": 204,
   "metadata": {},
   "outputs": [
    {
     "data": {
      "text/plain": [
       "0    320.976759\n",
       "1    641.000000\n",
       "2    442.000000\n",
       "3    394.305116\n",
       "4    742.000000\n",
       "Name: Wait_final, dtype: float64"
      ]
     },
     "execution_count": 204,
     "metadata": {},
     "output_type": "execute_result"
    }
   ],
   "source": [
    "train_temp['Wait_final'].head()"
   ]
  },
  {
   "cell_type": "code",
   "execution_count": 205,
   "metadata": {},
   "outputs": [],
   "source": [
    "Wait_Time_expire = train_temp.groupby('Permit Type')['Wait_expire'].mean()\n",
    "Wait_Time_expire\n",
    "for index, row in train_temp.iterrows():\n",
    "    if(pd.isnull(row['Wait_expire'])):\n",
    "        train_temp.loc[index, 'Wait_expire'] = Wait_Time_expire[row['Permit Type']]"
   ]
  },
  {
   "cell_type": "code",
   "execution_count": 206,
   "metadata": {},
   "outputs": [
    {
     "data": {
      "text/plain": [
       "0    546.000000\n",
       "1    611.000000\n",
       "2    547.000000\n",
       "3    688.241785\n",
       "4    778.000000\n",
       "Name: Wait_expire, dtype: float64"
      ]
     },
     "execution_count": 206,
     "metadata": {},
     "output_type": "execute_result"
    }
   ],
   "source": [
    "train_temp['Wait_expire'].head()"
   ]
  },
  {
   "cell_type": "code",
   "execution_count": 207,
   "metadata": {},
   "outputs": [
    {
     "data": {
      "text/plain": [
       "Application/Permit Number     0\n",
       "Permit Type                   0\n",
       "Description                  10\n",
       "Action Type                   0\n",
       "Work Type                     0\n",
       "Status                        0\n",
       "Latitude                     21\n",
       "Longitude                    21\n",
       "Category                      0\n",
       "Wait Time                     0\n",
       "Wait_final                    0\n",
       "Wait_expire                   0\n",
       "dtype: int64"
      ]
     },
     "execution_count": 207,
     "metadata": {},
     "output_type": "execute_result"
    }
   ],
   "source": [
    "###check the Null values now\n",
    "train_temp.apply(lambda x: sum(x.isnull()))"
   ]
  },
  {
   "cell_type": "code",
   "execution_count": 211,
   "metadata": {},
   "outputs": [
    {
     "data": {
      "text/plain": [
       "0"
      ]
     },
     "execution_count": 211,
     "metadata": {},
     "output_type": "execute_result"
    }
   ],
   "source": [
    "##label missing Description as Missing\n",
    "train_temp['Description'].fillna('missing',inplace=True)\n",
    "train_temp['Description'].isnull().sum()\n"
   ]
  },
  {
   "cell_type": "code",
   "execution_count": 213,
   "metadata": {},
   "outputs": [
    {
     "data": {
      "text/plain": [
       "0"
      ]
     },
     "execution_count": 213,
     "metadata": {},
     "output_type": "execute_result"
    }
   ],
   "source": [
    "##Replace missing latitude and longitude with default of 0\n",
    "train_temp['Latitude'].fillna(0,inplace=True)\n",
    "train_temp['Longitude'].fillna(0,inplace=True)\n",
    "train_temp['Latitude'].isnull().sum()\n",
    "train_temp['Longitude'].isnull().sum()"
   ]
  },
  {
   "cell_type": "code",
   "execution_count": 214,
   "metadata": {},
   "outputs": [
    {
     "data": {
      "text/plain": [
       "Application/Permit Number    0\n",
       "Permit Type                  0\n",
       "Description                  0\n",
       "Action Type                  0\n",
       "Work Type                    0\n",
       "Status                       0\n",
       "Latitude                     0\n",
       "Longitude                    0\n",
       "Category                     0\n",
       "Wait Time                    0\n",
       "Wait_final                   0\n",
       "Wait_expire                  0\n",
       "dtype: int64"
      ]
     },
     "execution_count": 214,
     "metadata": {},
     "output_type": "execute_result"
    }
   ],
   "source": [
    "##Check null values now\n",
    "train_temp.apply(lambda x: sum(x.isnull()))"
   ]
  },
  {
   "cell_type": "code",
   "execution_count": 215,
   "metadata": {},
   "outputs": [
    {
     "name": "stdout",
     "output_type": "stream",
     "text": [
      "SINGLE FAMILY / DUPLEX    18342\n",
      "COMMERCIAL                 9778\n",
      "MULTIFAMILY                4102\n",
      "INSTITUTIONAL               926\n",
      "INDUSTRIAL                  391\n",
      "Name: Category, dtype: int64\n"
     ]
    }
   ],
   "source": [
    "##Check the labels count distribution\n",
    "print(train_temp['Category'].value_counts())\n"
   ]
  },
  {
   "cell_type": "code",
   "execution_count": 221,
   "metadata": {},
   "outputs": [
    {
     "name": "stdout",
     "output_type": "stream",
     "text": [
      "0    alterations to single family residence portion...\n",
      "1    change use permit from restaurant to residenti...\n",
      "2    construct interior alterations to existing off...\n",
      "3    need to remove a fire escape that is not part ...\n",
      "4    channel modification to thornton creek stream ...\n",
      "Name: Description, dtype: object\n"
     ]
    }
   ],
   "source": [
    "import re\n",
    "def process_data(input):\n",
    "    return \" \".join(re.sub(\"(@[A-Za-z0-9]+)|([^0-9A-Za-z \\t])\", \"\",input.lower()).split())\n",
    "\n",
    "\n",
    "train_temp['Description'] = train_temp['Description'].apply(process_data)\n",
    "print(train_temp['Description'].head())"
   ]
  },
  {
   "cell_type": "code",
   "execution_count": 223,
   "metadata": {},
   "outputs": [
    {
     "data": {
      "text/plain": [
       "CountVectorizer(analyzer='word', binary=False, decode_error='strict',\n",
       "        dtype=<class 'numpy.int64'>, encoding='utf-8', input='content',\n",
       "        lowercase=True, max_df=1.0, max_features=200, min_df=1,\n",
       "        ngram_range=(1, 1), preprocessor=None, stop_words='english',\n",
       "        strip_accents=None, token_pattern='(?u)\\\\b\\\\w\\\\w+\\\\b',\n",
       "        tokenizer=None, vocabulary=None)"
      ]
     },
     "execution_count": 223,
     "metadata": {},
     "output_type": "execute_result"
    }
   ],
   "source": [
    "##check the word features from the descriptio\n",
    "\n",
    "\n",
    "from sklearn.feature_extraction.text import CountVectorizer\n",
    "vect = CountVectorizer(stop_words='english',max_features = 200)\n",
    "vect.fit(train_temp['Description'])"
   ]
  },
  {
   "cell_type": "code",
   "execution_count": 224,
   "metadata": {},
   "outputs": [
    {
     "data": {
      "text/plain": [
       "['10667',\n",
       " '1st',\n",
       " '2006',\n",
       " '2nd',\n",
       " '3rd',\n",
       " '4th',\n",
       " 'accessory',\n",
       " 'add',\n",
       " 'addition',\n",
       " 'additions',\n",
       " 'adu',\n",
       " 'alter',\n",
       " 'alteration',\n",
       " 'alterations',\n",
       " 'antenna',\n",
       " 'antennas',\n",
       " 'ap',\n",
       " 'apartment',\n",
       " 'application',\n",
       " 'aps',\n",
       " 'area',\n",
       " 'associated',\n",
       " 'attached',\n",
       " 'ave',\n",
       " 'basement',\n",
       " 'bathroom',\n",
       " 'bedroom',\n",
       " 'blanket',\n",
       " 'bldg',\n",
       " 'build',\n",
       " 'building',\n",
       " 'buildings',\n",
       " 'cancelled',\n",
       " 'carport',\n",
       " 'center',\n",
       " 'change',\n",
       " 'closed',\n",
       " 'commercial',\n",
       " 'communication',\n",
       " 'complete',\n",
       " 'concrete',\n",
       " 'construct',\n",
       " 'construction',\n",
       " 'convert',\n",
       " 'corner',\n",
       " 'create',\n",
       " 'customer',\n",
       " 'dadu',\n",
       " 'damage',\n",
       " 'deck',\n",
       " 'demo',\n",
       " 'demolish',\n",
       " 'demolition',\n",
       " 'detached',\n",
       " 'door',\n",
       " 'doors',\n",
       " 'dormer',\n",
       " 'duplex',\n",
       " 'dwelling',\n",
       " 'dwellings',\n",
       " 'east',\n",
       " 'eca',\n",
       " 'entry',\n",
       " 'equipment',\n",
       " 'establish',\n",
       " 'excavation',\n",
       " 'existing',\n",
       " 'expired',\n",
       " 'exterior',\n",
       " 'facility',\n",
       " 'family',\n",
       " 'field',\n",
       " 'final',\n",
       " 'floor',\n",
       " 'floors',\n",
       " 'foundation',\n",
       " 'ft',\n",
       " 'future',\n",
       " 'garage',\n",
       " 'garages',\n",
       " 'grade',\n",
       " 'ground',\n",
       " 'home',\n",
       " 'house',\n",
       " 'hud',\n",
       " 'iaw',\n",
       " 'impact',\n",
       " 'improvement',\n",
       " 'improvements',\n",
       " 'include',\n",
       " 'includes',\n",
       " 'including',\n",
       " 'incomplete',\n",
       " 'inspection',\n",
       " 'install',\n",
       " 'installation',\n",
       " 'interior',\n",
       " 'kitchen',\n",
       " 'level',\n",
       " 'lfd',\n",
       " 'livework',\n",
       " 'log',\n",
       " 'lot',\n",
       " 'lower',\n",
       " 'ltr',\n",
       " 'main',\n",
       " 'mechanical',\n",
       " 'medical',\n",
       " 'minor',\n",
       " 'mixed',\n",
       " 'multifamily',\n",
       " 'new',\n",
       " 'nonstructural',\n",
       " 'north',\n",
       " 'occupy',\n",
       " 'office',\n",
       " 'parking',\n",
       " 'permit',\n",
       " 'plan',\n",
       " 'plans',\n",
       " 'plot',\n",
       " 'porch',\n",
       " 'portion',\n",
       " 'process',\n",
       " 'processing',\n",
       " 'project',\n",
       " 'property',\n",
       " 'rear',\n",
       " 'remain',\n",
       " 'remodel',\n",
       " 'removal',\n",
       " 'remove',\n",
       " 'repair',\n",
       " 'repairs',\n",
       " 'replace',\n",
       " 'replacement',\n",
       " 'residence',\n",
       " 'residences',\n",
       " 'residential',\n",
       " 'restaurant',\n",
       " 'retail',\n",
       " 'retaining',\n",
       " 'retrofit',\n",
       " 'review',\n",
       " 'reviews',\n",
       " 'roof',\n",
       " 'rooftop',\n",
       " 'room',\n",
       " 'rowhouse',\n",
       " 'sbc',\n",
       " 'school',\n",
       " 'seattle',\n",
       " 'second',\n",
       " 'section',\n",
       " 'seismic',\n",
       " 'sent',\n",
       " 'separate',\n",
       " 'service',\n",
       " 'sf',\n",
       " 'sfr',\n",
       " 'shoring',\n",
       " 'single',\n",
       " 'singlefamily',\n",
       " 'site',\n",
       " 'south',\n",
       " 'space',\n",
       " 'spaces',\n",
       " 'stair',\n",
       " 'stairs',\n",
       " 'stfi',\n",
       " 'storage',\n",
       " 'story',\n",
       " 'structural',\n",
       " 'structure',\n",
       " 'structures',\n",
       " 'subject',\n",
       " 'substantial',\n",
       " 'suite',\n",
       " 'surface',\n",
       " 'temporary',\n",
       " 'tenant',\n",
       " 'ti',\n",
       " 'townhouse',\n",
       " 'townhouses',\n",
       " 'tree',\n",
       " 'unit',\n",
       " 'units',\n",
       " 'upgrade',\n",
       " 'upgrades',\n",
       " 'upper',\n",
       " 'use',\n",
       " 'utility',\n",
       " 'voluntary',\n",
       " 'wall',\n",
       " 'walls',\n",
       " 'warehouse',\n",
       " 'west',\n",
       " 'window',\n",
       " 'windows',\n",
       " 'work']"
      ]
     },
     "execution_count": 224,
     "metadata": {},
     "output_type": "execute_result"
    }
   ],
   "source": [
    "vect.get_feature_names()"
   ]
  },
  {
   "cell_type": "code",
   "execution_count": 225,
   "metadata": {},
   "outputs": [],
   "source": [
    "dtm = vect.transform(train_temp['Description'])"
   ]
  },
  {
   "cell_type": "code",
   "execution_count": 226,
   "metadata": {},
   "outputs": [
    {
     "name": "stdout",
     "output_type": "stream",
     "text": [
      "(33539, 200)\n"
     ]
    }
   ],
   "source": [
    "print(dtm.shape)"
   ]
  },
  {
   "cell_type": "code",
   "execution_count": 227,
   "metadata": {},
   "outputs": [
    {
     "data": {
      "text/plain": [
       "\"<33539x200 sparse matrix of type '<class 'numpy.int64'>'\\n\\twith 302639 stored elements in Compressed Sparse Row format>\""
      ]
     },
     "execution_count": 227,
     "metadata": {},
     "output_type": "execute_result"
    }
   ],
   "source": [
    "repr(dtm)"
   ]
  },
  {
   "cell_type": "code",
   "execution_count": 228,
   "metadata": {},
   "outputs": [],
   "source": [
    "##Store the Dtm in dataframe\n",
    "\n",
    "Text_df = pd.DataFrame(dtm.toarray(), columns=vect.get_feature_names())"
   ]
  },
  {
   "cell_type": "code",
   "execution_count": 229,
   "metadata": {},
   "outputs": [
    {
     "name": "stdout",
     "output_type": "stream",
     "text": [
      "   10667  1st  2006  2nd  3rd  4th  accessory  add  addition  additions  ...   \\\n",
      "0      0    0     0    0    0    0          0    0         0          0  ...    \n",
      "1      0    0     0    0    0    0          0    0         0          0  ...    \n",
      "2      0    0     0    1    0    0          0    0         0          0  ...    \n",
      "3      0    0     0    0    0    0          0    0         0          0  ...    \n",
      "4      0    0     0    0    0    0          0    0         0          0  ...    \n",
      "\n",
      "   use  utility  voluntary  wall  walls  warehouse  west  window  windows  \\\n",
      "0    0        0          0     0      0          0     0       0        0   \n",
      "1    1        0          0     0      0          0     0       0        0   \n",
      "2    0        0          0     0      0          0     0       0        0   \n",
      "3    0        0          0     0      0          0     0       0        0   \n",
      "4    0        0          0     0      0          0     0       0        0   \n",
      "\n",
      "   work  \n",
      "0     0  \n",
      "1     0  \n",
      "2     0  \n",
      "3     0  \n",
      "4     0  \n",
      "\n",
      "[5 rows x 200 columns]\n"
     ]
    }
   ],
   "source": [
    "print(Text_df.head())"
   ]
  },
  {
   "cell_type": "code",
   "execution_count": 231,
   "metadata": {},
   "outputs": [
    {
     "name": "stdout",
     "output_type": "stream",
     "text": [
      "(33539, 200)\n"
     ]
    }
   ],
   "source": [
    "##Create anothe DTM using TFIDF\n",
    "from sklearn.feature_extraction.text import TfidfVectorizer\n",
    "vect_tfidf = TfidfVectorizer(max_features = 200,ngram_range =(1,2))\n",
    "dtm_tfidf = vect_tfidf.fit_transform(train_temp['Description'])\n",
    "print(dtm_tfidf.shape)"
   ]
  },
  {
   "cell_type": "code",
   "execution_count": 233,
   "metadata": {},
   "outputs": [
    {
     "data": {
      "text/plain": [
       "['2nd',\n",
       " 'accessory',\n",
       " 'accessory dwelling',\n",
       " 'accessory to',\n",
       " 'add',\n",
       " 'addition',\n",
       " 'addition and',\n",
       " 'addition to',\n",
       " 'additions',\n",
       " 'alteration',\n",
       " 'alterations',\n",
       " 'alterations to',\n",
       " 'an',\n",
       " 'an existing',\n",
       " 'and',\n",
       " 'and alterations',\n",
       " 'and construct',\n",
       " 'and occupy',\n",
       " 'and processing',\n",
       " 'apartment',\n",
       " 'aps',\n",
       " 'aps under',\n",
       " 'as',\n",
       " 'as and',\n",
       " 'as incomplete',\n",
       " 'at',\n",
       " 'attached',\n",
       " 'attached garage',\n",
       " 'basement',\n",
       " 'basement of',\n",
       " 'be',\n",
       " 'blanket',\n",
       " 'blanket permit',\n",
       " 'building',\n",
       " 'building and',\n",
       " 'building per',\n",
       " 'cancelled',\n",
       " 'change',\n",
       " 'change of',\n",
       " 'closed',\n",
       " 'closed as',\n",
       " 'commercial',\n",
       " 'commercial building',\n",
       " 'construct',\n",
       " 'construct addition',\n",
       " 'construct alterations',\n",
       " 'construct interior',\n",
       " 'construct new',\n",
       " 'construct single',\n",
       " 'construct tenant',\n",
       " 'construction',\n",
       " 'construction of',\n",
       " 'deck',\n",
       " 'demo',\n",
       " 'demolish',\n",
       " 'demolish existing',\n",
       " 'detached',\n",
       " 'detached garage',\n",
       " 'duplex',\n",
       " 'dwelling',\n",
       " 'dwelling per',\n",
       " 'dwelling unit',\n",
       " 'establish',\n",
       " 'establish use',\n",
       " 'existing',\n",
       " 'existing commercial',\n",
       " 'existing single',\n",
       " 'expired',\n",
       " 'expired permit',\n",
       " 'exterior',\n",
       " 'family',\n",
       " 'family dwelling',\n",
       " 'family residence',\n",
       " 'family residences',\n",
       " 'field',\n",
       " 'field inspection',\n",
       " 'floor',\n",
       " 'floor of',\n",
       " 'floor plan',\n",
       " 'for',\n",
       " 'for aps',\n",
       " 'for interior',\n",
       " 'from',\n",
       " 'garage',\n",
       " 'garage per',\n",
       " 'improvement',\n",
       " 'improvements',\n",
       " 'improvements to',\n",
       " 'in',\n",
       " 'in existing',\n",
       " 'incomplete',\n",
       " 'incomplete expired',\n",
       " 'inspection',\n",
       " 'inspection stfi',\n",
       " 'install',\n",
       " 'interior',\n",
       " 'interior alterations',\n",
       " 'interior nonstructural',\n",
       " 'kitchen',\n",
       " 'level',\n",
       " 'lfd',\n",
       " 'main',\n",
       " 'minor',\n",
       " 'multifamily',\n",
       " 'new',\n",
       " 'new single',\n",
       " 'nonstructural',\n",
       " 'nonstructural alterations',\n",
       " 'occupy',\n",
       " 'occupy per',\n",
       " 'of',\n",
       " 'of an',\n",
       " 'of existing',\n",
       " 'of single',\n",
       " 'of the',\n",
       " 'of use',\n",
       " 'office',\n",
       " 'on',\n",
       " 'on the',\n",
       " 'one',\n",
       " 'parking',\n",
       " 'parking per',\n",
       " 'per',\n",
       " 'per floor',\n",
       " 'per plan',\n",
       " 'per plans',\n",
       " 'per stfi',\n",
       " 'permit',\n",
       " 'permit for',\n",
       " 'plan',\n",
       " 'plan establish',\n",
       " 'plan subject',\n",
       " 'plans',\n",
       " 'portion',\n",
       " 'portion of',\n",
       " 'process',\n",
       " 'process for',\n",
       " 'processing',\n",
       " 'processing for',\n",
       " 'project',\n",
       " 'remodel',\n",
       " 'remove',\n",
       " 'repair',\n",
       " 'replace',\n",
       " 'residence',\n",
       " 'residence and',\n",
       " 'residence per',\n",
       " 'residence subject',\n",
       " 'residence with',\n",
       " 'residences',\n",
       " 'residential',\n",
       " 'restaurant',\n",
       " 'retail',\n",
       " 'review',\n",
       " 'review and',\n",
       " 'roof',\n",
       " 'room',\n",
       " 'sbc',\n",
       " 'seismic',\n",
       " 'sfr',\n",
       " 'single',\n",
       " 'single family',\n",
       " 'singlefamily',\n",
       " 'site',\n",
       " 'space',\n",
       " 'stfi',\n",
       " 'story',\n",
       " 'structure',\n",
       " 'subject',\n",
       " 'subject to',\n",
       " 'surface',\n",
       " 'surface parking',\n",
       " 'tenant',\n",
       " 'tenant improvement',\n",
       " 'tenant improvements',\n",
       " 'the',\n",
       " 'this',\n",
       " 'to',\n",
       " 'to an',\n",
       " 'to basement',\n",
       " 'to existing',\n",
       " 'to field',\n",
       " 'to single',\n",
       " 'to the',\n",
       " 'townhouse',\n",
       " 'two',\n",
       " 'under',\n",
       " 'unit',\n",
       " 'units',\n",
       " 'use',\n",
       " 'use and',\n",
       " 'use as',\n",
       " 'use from',\n",
       " 'voluntary',\n",
       " 'wall',\n",
       " 'west',\n",
       " 'with',\n",
       " 'with attached',\n",
       " 'with surface',\n",
       " 'work']"
      ]
     },
     "execution_count": 233,
     "metadata": {},
     "output_type": "execute_result"
    }
   ],
   "source": [
    "vect_tfidf.get_feature_names()"
   ]
  },
  {
   "cell_type": "code",
   "execution_count": 234,
   "metadata": {},
   "outputs": [],
   "source": [
    "##Store the Tfidf Dtm in dataframe\n",
    "\n",
    "Text_tfidf_df = pd.DataFrame(dtm_tfidf.toarray(), columns=vect_tfidf.get_feature_names())"
   ]
  },
  {
   "cell_type": "code",
   "execution_count": 235,
   "metadata": {},
   "outputs": [
    {
     "data": {
      "text/html": [
       "<div>\n",
       "<style scoped>\n",
       "    .dataframe tbody tr th:only-of-type {\n",
       "        vertical-align: middle;\n",
       "    }\n",
       "\n",
       "    .dataframe tbody tr th {\n",
       "        vertical-align: top;\n",
       "    }\n",
       "\n",
       "    .dataframe thead th {\n",
       "        text-align: right;\n",
       "    }\n",
       "</style>\n",
       "<table border=\"1\" class=\"dataframe\">\n",
       "  <thead>\n",
       "    <tr style=\"text-align: right;\">\n",
       "      <th></th>\n",
       "      <th>2nd</th>\n",
       "      <th>accessory</th>\n",
       "      <th>accessory dwelling</th>\n",
       "      <th>accessory to</th>\n",
       "      <th>add</th>\n",
       "      <th>addition</th>\n",
       "      <th>addition and</th>\n",
       "      <th>addition to</th>\n",
       "      <th>additions</th>\n",
       "      <th>alteration</th>\n",
       "      <th>...</th>\n",
       "      <th>use and</th>\n",
       "      <th>use as</th>\n",
       "      <th>use from</th>\n",
       "      <th>voluntary</th>\n",
       "      <th>wall</th>\n",
       "      <th>west</th>\n",
       "      <th>with</th>\n",
       "      <th>with attached</th>\n",
       "      <th>with surface</th>\n",
       "      <th>work</th>\n",
       "    </tr>\n",
       "  </thead>\n",
       "  <tbody>\n",
       "    <tr>\n",
       "      <th>0</th>\n",
       "      <td>0.000000</td>\n",
       "      <td>0.0</td>\n",
       "      <td>0.0</td>\n",
       "      <td>0.0</td>\n",
       "      <td>0.0</td>\n",
       "      <td>0.0</td>\n",
       "      <td>0.0</td>\n",
       "      <td>0.0</td>\n",
       "      <td>0.0</td>\n",
       "      <td>0.0</td>\n",
       "      <td>...</td>\n",
       "      <td>0.0</td>\n",
       "      <td>0.0</td>\n",
       "      <td>0.0</td>\n",
       "      <td>0.0</td>\n",
       "      <td>0.0</td>\n",
       "      <td>0.0</td>\n",
       "      <td>0.0</td>\n",
       "      <td>0.0</td>\n",
       "      <td>0.0</td>\n",
       "      <td>0.0</td>\n",
       "    </tr>\n",
       "    <tr>\n",
       "      <th>1</th>\n",
       "      <td>0.000000</td>\n",
       "      <td>0.0</td>\n",
       "      <td>0.0</td>\n",
       "      <td>0.0</td>\n",
       "      <td>0.0</td>\n",
       "      <td>0.0</td>\n",
       "      <td>0.0</td>\n",
       "      <td>0.0</td>\n",
       "      <td>0.0</td>\n",
       "      <td>0.0</td>\n",
       "      <td>...</td>\n",
       "      <td>0.0</td>\n",
       "      <td>0.0</td>\n",
       "      <td>0.0</td>\n",
       "      <td>0.0</td>\n",
       "      <td>0.0</td>\n",
       "      <td>0.0</td>\n",
       "      <td>0.0</td>\n",
       "      <td>0.0</td>\n",
       "      <td>0.0</td>\n",
       "      <td>0.0</td>\n",
       "    </tr>\n",
       "    <tr>\n",
       "      <th>2</th>\n",
       "      <td>0.257985</td>\n",
       "      <td>0.0</td>\n",
       "      <td>0.0</td>\n",
       "      <td>0.0</td>\n",
       "      <td>0.0</td>\n",
       "      <td>0.0</td>\n",
       "      <td>0.0</td>\n",
       "      <td>0.0</td>\n",
       "      <td>0.0</td>\n",
       "      <td>0.0</td>\n",
       "      <td>...</td>\n",
       "      <td>0.0</td>\n",
       "      <td>0.0</td>\n",
       "      <td>0.0</td>\n",
       "      <td>0.0</td>\n",
       "      <td>0.0</td>\n",
       "      <td>0.0</td>\n",
       "      <td>0.0</td>\n",
       "      <td>0.0</td>\n",
       "      <td>0.0</td>\n",
       "      <td>0.0</td>\n",
       "    </tr>\n",
       "    <tr>\n",
       "      <th>3</th>\n",
       "      <td>0.000000</td>\n",
       "      <td>0.0</td>\n",
       "      <td>0.0</td>\n",
       "      <td>0.0</td>\n",
       "      <td>0.0</td>\n",
       "      <td>0.0</td>\n",
       "      <td>0.0</td>\n",
       "      <td>0.0</td>\n",
       "      <td>0.0</td>\n",
       "      <td>0.0</td>\n",
       "      <td>...</td>\n",
       "      <td>0.0</td>\n",
       "      <td>0.0</td>\n",
       "      <td>0.0</td>\n",
       "      <td>0.0</td>\n",
       "      <td>0.0</td>\n",
       "      <td>0.0</td>\n",
       "      <td>0.0</td>\n",
       "      <td>0.0</td>\n",
       "      <td>0.0</td>\n",
       "      <td>0.0</td>\n",
       "    </tr>\n",
       "    <tr>\n",
       "      <th>4</th>\n",
       "      <td>0.000000</td>\n",
       "      <td>0.0</td>\n",
       "      <td>0.0</td>\n",
       "      <td>0.0</td>\n",
       "      <td>0.0</td>\n",
       "      <td>0.0</td>\n",
       "      <td>0.0</td>\n",
       "      <td>0.0</td>\n",
       "      <td>0.0</td>\n",
       "      <td>0.0</td>\n",
       "      <td>...</td>\n",
       "      <td>0.0</td>\n",
       "      <td>0.0</td>\n",
       "      <td>0.0</td>\n",
       "      <td>0.0</td>\n",
       "      <td>0.0</td>\n",
       "      <td>0.0</td>\n",
       "      <td>0.0</td>\n",
       "      <td>0.0</td>\n",
       "      <td>0.0</td>\n",
       "      <td>0.0</td>\n",
       "    </tr>\n",
       "  </tbody>\n",
       "</table>\n",
       "<p>5 rows × 200 columns</p>\n",
       "</div>"
      ],
      "text/plain": [
       "        2nd  accessory  accessory dwelling  accessory to  add  addition  \\\n",
       "0  0.000000        0.0                 0.0           0.0  0.0       0.0   \n",
       "1  0.000000        0.0                 0.0           0.0  0.0       0.0   \n",
       "2  0.257985        0.0                 0.0           0.0  0.0       0.0   \n",
       "3  0.000000        0.0                 0.0           0.0  0.0       0.0   \n",
       "4  0.000000        0.0                 0.0           0.0  0.0       0.0   \n",
       "\n",
       "   addition and  addition to  additions  alteration  ...   use and  use as  \\\n",
       "0           0.0          0.0        0.0         0.0  ...       0.0     0.0   \n",
       "1           0.0          0.0        0.0         0.0  ...       0.0     0.0   \n",
       "2           0.0          0.0        0.0         0.0  ...       0.0     0.0   \n",
       "3           0.0          0.0        0.0         0.0  ...       0.0     0.0   \n",
       "4           0.0          0.0        0.0         0.0  ...       0.0     0.0   \n",
       "\n",
       "   use from  voluntary  wall  west  with  with attached  with surface  work  \n",
       "0       0.0        0.0   0.0   0.0   0.0            0.0           0.0   0.0  \n",
       "1       0.0        0.0   0.0   0.0   0.0            0.0           0.0   0.0  \n",
       "2       0.0        0.0   0.0   0.0   0.0            0.0           0.0   0.0  \n",
       "3       0.0        0.0   0.0   0.0   0.0            0.0           0.0   0.0  \n",
       "4       0.0        0.0   0.0   0.0   0.0            0.0           0.0   0.0  \n",
       "\n",
       "[5 rows x 200 columns]"
      ]
     },
     "execution_count": 235,
     "metadata": {},
     "output_type": "execute_result"
    }
   ],
   "source": [
    "Text_tfidf_df.head()"
   ]
  },
  {
   "cell_type": "code",
   "execution_count": 238,
   "metadata": {},
   "outputs": [
    {
     "data": {
      "text/plain": [
       "Application/Permit Number      int64\n",
       "Permit Type                   object\n",
       "Description                   object\n",
       "Action Type                   object\n",
       "Work Type                     object\n",
       "Status                        object\n",
       "Latitude                     float64\n",
       "Longitude                    float64\n",
       "Category                      object\n",
       "Wait Time                    float64\n",
       "Wait_final                   float64\n",
       "Wait_expire                  float64\n",
       "dtype: object"
      ]
     },
     "execution_count": 238,
     "metadata": {},
     "output_type": "execute_result"
    }
   ],
   "source": [
    "train_temp.dtypes"
   ]
  },
  {
   "cell_type": "code",
   "execution_count": 240,
   "metadata": {},
   "outputs": [],
   "source": [
    "##Convert the Categorical variables to one hot encoding\n",
    "from sklearn.preprocessing import LabelEncoder\n",
    "le = LabelEncoder()\n",
    "var_mod = ['Permit Type','Action Type','Status','Work Type']\n",
    "le = LabelEncoder()\n",
    "for i in var_mod:\n",
    "    train_temp[i] = le.fit_transform(train_temp[i])"
   ]
  },
  {
   "cell_type": "code",
   "execution_count": 242,
   "metadata": {},
   "outputs": [
    {
     "name": "stdout",
     "output_type": "stream",
     "text": [
      "Application/Permit Number      int64\n",
      "Permit Type                    int64\n",
      "Description                   object\n",
      "Action Type                    int64\n",
      "Work Type                      int64\n",
      "Status                         int64\n",
      "Latitude                     float64\n",
      "Longitude                    float64\n",
      "Category                      object\n",
      "Wait Time                    float64\n",
      "Wait_final                   float64\n",
      "Wait_expire                  float64\n",
      "dtype: object\n"
     ]
    }
   ],
   "source": [
    "print(train_temp.dtypes)"
   ]
  },
  {
   "cell_type": "code",
   "execution_count": 243,
   "metadata": {},
   "outputs": [
    {
     "data": {
      "text/plain": [
       "Application/Permit Number      int64\n",
       "Description                   object\n",
       "Latitude                     float64\n",
       "Longitude                    float64\n",
       "Category                      object\n",
       "Wait Time                    float64\n",
       "Wait_final                   float64\n",
       "Wait_expire                  float64\n",
       "Permit Type_0                  uint8\n",
       "Permit Type_1                  uint8\n",
       "Permit Type_2                  uint8\n",
       "Action Type_0                  uint8\n",
       "Action Type_1                  uint8\n",
       "Action Type_2                  uint8\n",
       "Action Type_3                  uint8\n",
       "Action Type_4                  uint8\n",
       "Action Type_5                  uint8\n",
       "Action Type_6                  uint8\n",
       "Action Type_7                  uint8\n",
       "Action Type_8                  uint8\n",
       "Action Type_9                  uint8\n",
       "Action Type_10                 uint8\n",
       "Action Type_11                 uint8\n",
       "Action Type_12                 uint8\n",
       "Action Type_13                 uint8\n",
       "Action Type_14                 uint8\n",
       "Action Type_15                 uint8\n",
       "Status_0                       uint8\n",
       "Status_1                       uint8\n",
       "Status_2                       uint8\n",
       "Status_3                       uint8\n",
       "Status_4                       uint8\n",
       "Status_5                       uint8\n",
       "Status_6                       uint8\n",
       "Status_7                       uint8\n",
       "Status_8                       uint8\n",
       "Status_9                       uint8\n",
       "Status_10                      uint8\n",
       "Status_11                      uint8\n",
       "Work Type_0                    uint8\n",
       "Work Type_1                    uint8\n",
       "dtype: object"
      ]
     },
     "execution_count": 243,
     "metadata": {},
     "output_type": "execute_result"
    }
   ],
   "source": [
    "train_temp= pd.get_dummies(train_temp, columns=['Permit Type','Action Type','Status','Work Type'])\n",
    "\n",
    "train_temp.dtypes"
   ]
  },
  {
   "cell_type": "code",
   "execution_count": 244,
   "metadata": {},
   "outputs": [],
   "source": [
    "##converting Category to Numerical form\n",
    "train_temp['Category_id'] = train_temp['Category'].factorize()[0]"
   ]
  },
  {
   "cell_type": "code",
   "execution_count": 245,
   "metadata": {},
   "outputs": [],
   "source": [
    "##Create dictionary for internal use\n",
    "category_id_df = train_temp[['Category', 'Category_id']].drop_duplicates().sort_values('Category_id')"
   ]
  },
  {
   "cell_type": "code",
   "execution_count": 246,
   "metadata": {},
   "outputs": [],
   "source": [
    "category_to_id = dict(category_id_df.values)\n",
    "id_to_category = dict(category_id_df[['Category_id', 'Category']].values)\n"
   ]
  },
  {
   "cell_type": "code",
   "execution_count": 247,
   "metadata": {},
   "outputs": [
    {
     "name": "stdout",
     "output_type": "stream",
     "text": [
      "{'SINGLE FAMILY / DUPLEX': 0, 'COMMERCIAL': 1, 'INSTITUTIONAL': 2, 'MULTIFAMILY': 3, 'INDUSTRIAL': 4}\n"
     ]
    }
   ],
   "source": [
    "print(category_to_id)"
   ]
  },
  {
   "cell_type": "code",
   "execution_count": 248,
   "metadata": {},
   "outputs": [
    {
     "name": "stdout",
     "output_type": "stream",
     "text": [
      "   Application/Permit Number  \\\n",
      "0                    6640280   \n",
      "1                    6452959   \n",
      "2                    6435127   \n",
      "3                    6620870   \n",
      "4                    6363778   \n",
      "\n",
      "                                         Description   Latitude   Longitude  \\\n",
      "0  alterations to single family residence portion...  47.636732 -122.319828   \n",
      "1  change use permit from restaurant to residenti...  47.518298 -122.355555   \n",
      "2  construct interior alterations to existing off...  47.624025 -122.337567   \n",
      "3  need to remove a fire escape that is not part ...  47.595020 -122.328530   \n",
      "4  channel modification to thornton creek stream ...  47.705686 -122.320134   \n",
      "\n",
      "                 Category   Wait Time  Wait_final  Wait_expire  Permit Type_0  \\\n",
      "0  SINGLE FAMILY / DUPLEX    0.000000  320.976759   546.000000              1   \n",
      "1              COMMERCIAL   62.000000  641.000000   611.000000              1   \n",
      "2              COMMERCIAL    0.000000  442.000000   547.000000              1   \n",
      "3              COMMERCIAL  129.244968  394.305116   688.241785              0   \n",
      "4              COMMERCIAL  231.000000  742.000000   778.000000              1   \n",
      "\n",
      "   Permit Type_1     ...       Status_5  Status_6  Status_7  Status_8  \\\n",
      "0              0     ...              0         0         0         0   \n",
      "1              0     ...              0         0         0         1   \n",
      "2              0     ...              0         0         0         1   \n",
      "3              1     ...              0         1         0         0   \n",
      "4              0     ...              0         0         0         1   \n",
      "\n",
      "   Status_9  Status_10  Status_11  Work Type_0  Work Type_1  Category_id  \n",
      "0         0          1          0            1            0            0  \n",
      "1         0          0          0            0            1            1  \n",
      "2         0          0          0            1            0            1  \n",
      "3         0          0          0            0            1            1  \n",
      "4         0          0          0            0            1            1  \n",
      "\n",
      "[5 rows x 42 columns]\n"
     ]
    }
   ],
   "source": [
    "print(train_temp.head())"
   ]
  },
  {
   "cell_type": "code",
   "execution_count": 253,
   "metadata": {},
   "outputs": [
    {
     "data": {
      "image/png": "[encoded data removed]",
      "text/plain": [
       "<Figure size 576x432 with 1 Axes>"
      ]
     },
     "metadata": {},
     "output_type": "display_data"
    }
   ],
   "source": [
    "import matplotlib.pyplot as plt\n",
    "fig = plt.figure(figsize=(8,6))\n",
    "train_temp.groupby('Category_id').Description.count().plot.bar(ylim=0)\n",
    "plt.show()"
   ]
  },
  {
   "cell_type": "code",
   "execution_count": 255,
   "metadata": {},
   "outputs": [
    {
     "data": {
      "text/plain": [
       "(33539, 42)"
      ]
     },
     "execution_count": 255,
     "metadata": {},
     "output_type": "execute_result"
    }
   ],
   "source": [
    "## create a new dataframe  to have features of Text and rest variables \n",
    "train_temp.shape"
   ]
  },
  {
   "cell_type": "code",
   "execution_count": 256,
   "metadata": {},
   "outputs": [
    {
     "data": {
      "text/plain": [
       "(33539, 200)"
      ]
     },
     "execution_count": 256,
     "metadata": {},
     "output_type": "execute_result"
    }
   ],
   "source": [
    "Text_tfidf_df.shape"
   ]
  },
  {
   "cell_type": "code",
   "execution_count": 265,
   "metadata": {},
   "outputs": [],
   "source": [
    "##Combine both data frames\n",
    "Features_Union = pd.concat([train_temp, Text_tfidf_df], axis=1)"
   ]
  },
  {
   "cell_type": "code",
   "execution_count": 266,
   "metadata": {},
   "outputs": [
    {
     "name": "stdout",
     "output_type": "stream",
     "text": [
      "(33539, 242)\n"
     ]
    }
   ],
   "source": [
    "print(Features_Union.shape)"
   ]
  },
  {
   "cell_type": "code",
   "execution_count": 268,
   "metadata": {},
   "outputs": [],
   "source": [
    "##Need to extract the X and Y to take further for model development\n",
    "train_temp_X = Features_Union.copy()"
   ]
  },
  {
   "cell_type": "code",
   "execution_count": 267,
   "metadata": {},
   "outputs": [
    {
     "data": {
      "text/plain": [
       "pandas.core.frame.DataFrame"
      ]
     },
     "execution_count": 267,
     "metadata": {},
     "output_type": "execute_result"
    }
   ],
   "source": [
    "type(Features_Union)"
   ]
  },
  {
   "cell_type": "code",
   "execution_count": 269,
   "metadata": {},
   "outputs": [
    {
     "name": "stdout",
     "output_type": "stream",
     "text": [
      "   Application/Permit Number  \\\n",
      "0                    6640280   \n",
      "1                    6452959   \n",
      "2                    6435127   \n",
      "3                    6620870   \n",
      "4                    6363778   \n",
      "\n",
      "                                         Description   Latitude   Longitude  \\\n",
      "0  alterations to single family residence portion...  47.636732 -122.319828   \n",
      "1  change use permit from restaurant to residenti...  47.518298 -122.355555   \n",
      "2  construct interior alterations to existing off...  47.624025 -122.337567   \n",
      "3  need to remove a fire escape that is not part ...  47.595020 -122.328530   \n",
      "4  channel modification to thornton creek stream ...  47.705686 -122.320134   \n",
      "\n",
      "                 Category   Wait Time  Wait_final  Wait_expire  Permit Type_0  \\\n",
      "0  SINGLE FAMILY / DUPLEX    0.000000  320.976759   546.000000              1   \n",
      "1              COMMERCIAL   62.000000  641.000000   611.000000              1   \n",
      "2              COMMERCIAL    0.000000  442.000000   547.000000              1   \n",
      "3              COMMERCIAL  129.244968  394.305116   688.241785              0   \n",
      "4              COMMERCIAL  231.000000  742.000000   778.000000              1   \n",
      "\n",
      "   Permit Type_1  ...   use and  use as  use from  voluntary  wall  west  \\\n",
      "0              0  ...       0.0     0.0       0.0        0.0   0.0   0.0   \n",
      "1              0  ...       0.0     0.0       0.0        0.0   0.0   0.0   \n",
      "2              0  ...       0.0     0.0       0.0        0.0   0.0   0.0   \n",
      "3              1  ...       0.0     0.0       0.0        0.0   0.0   0.0   \n",
      "4              0  ...       0.0     0.0       0.0        0.0   0.0   0.0   \n",
      "\n",
      "   with  with attached  with surface  work  \n",
      "0   0.0            0.0           0.0   0.0  \n",
      "1   0.0            0.0           0.0   0.0  \n",
      "2   0.0            0.0           0.0   0.0  \n",
      "3   0.0            0.0           0.0   0.0  \n",
      "4   0.0            0.0           0.0   0.0  \n",
      "\n",
      "[5 rows x 242 columns]\n"
     ]
    }
   ],
   "source": [
    "print(train_temp_X.head())"
   ]
  },
  {
   "cell_type": "code",
   "execution_count": 270,
   "metadata": {},
   "outputs": [
    {
     "name": "stdout",
     "output_type": "stream",
     "text": [
      "Application/Permit Number      int64\n",
      "Description                   object\n",
      "Latitude                     float64\n",
      "Longitude                    float64\n",
      "Category                      object\n",
      "Wait Time                    float64\n",
      "Wait_final                   float64\n",
      "Wait_expire                  float64\n",
      "Permit Type_0                  uint8\n",
      "Permit Type_1                  uint8\n",
      "Permit Type_2                  uint8\n",
      "Action Type_0                  uint8\n",
      "Action Type_1                  uint8\n",
      "Action Type_2                  uint8\n",
      "Action Type_3                  uint8\n",
      "Action Type_4                  uint8\n",
      "Action Type_5                  uint8\n",
      "Action Type_6                  uint8\n",
      "Action Type_7                  uint8\n",
      "Action Type_8                  uint8\n",
      "Action Type_9                  uint8\n",
      "Action Type_10                 uint8\n",
      "Action Type_11                 uint8\n",
      "Action Type_12                 uint8\n",
      "Action Type_13                 uint8\n",
      "Action Type_14                 uint8\n",
      "Action Type_15                 uint8\n",
      "Status_0                       uint8\n",
      "Status_1                       uint8\n",
      "Status_2                       uint8\n",
      "                              ...   \n",
      "surface                      float64\n",
      "surface parking              float64\n",
      "tenant                       float64\n",
      "tenant improvement           float64\n",
      "tenant improvements          float64\n",
      "the                          float64\n",
      "this                         float64\n",
      "to                           float64\n",
      "to an                        float64\n",
      "to basement                  float64\n",
      "to existing                  float64\n",
      "to field                     float64\n",
      "to single                    float64\n",
      "to the                       float64\n",
      "townhouse                    float64\n",
      "two                          float64\n",
      "under                        float64\n",
      "unit                         float64\n",
      "units                        float64\n",
      "use                          float64\n",
      "use and                      float64\n",
      "use as                       float64\n",
      "use from                     float64\n",
      "voluntary                    float64\n",
      "wall                         float64\n",
      "west                         float64\n",
      "with                         float64\n",
      "with attached                float64\n",
      "with surface                 float64\n",
      "work                         float64\n",
      "Length: 242, dtype: object\n"
     ]
    }
   ],
   "source": [
    "print(train_temp_X.dtypes)"
   ]
  },
  {
   "cell_type": "code",
   "execution_count": 271,
   "metadata": {},
   "outputs": [],
   "source": [
    "train_temp_X.drop(['Description','Category', 'Category_id','Application/Permit Number'],axis=1,inplace=True)"
   ]
  },
  {
   "cell_type": "code",
   "execution_count": 272,
   "metadata": {},
   "outputs": [],
   "source": [
    "train_temp_Y = train_temp.Category_id"
   ]
  },
  {
   "cell_type": "code",
   "execution_count": 274,
   "metadata": {},
   "outputs": [
    {
     "name": "stdout",
     "output_type": "stream",
     "text": [
      "0    0\n",
      "1    1\n",
      "2    1\n",
      "3    1\n",
      "4    1\n",
      "5    1\n",
      "6    2\n",
      "7    1\n",
      "8    0\n",
      "9    0\n",
      "Name: Category_id, dtype: int64\n"
     ]
    }
   ],
   "source": [
    "print(train_temp_Y.head(10))"
   ]
  },
  {
   "cell_type": "code",
   "execution_count": 293,
   "metadata": {},
   "outputs": [
    {
     "name": "stdout",
     "output_type": "stream",
     "text": [
      "Overall Accuracy\n",
      "0.8451795559529132\n",
      "F1 score per class details\n",
      "             precision    recall  f1-score   support\n",
      "\n",
      "          0       0.92      0.92      0.92      3669\n",
      "          1       0.84      0.84      0.84      1956\n",
      "          2       0.41      0.32      0.36       186\n",
      "          3       0.66      0.69      0.68       821\n",
      "          4       0.32      0.24      0.28        79\n",
      "\n",
      "avg / total       0.84      0.85      0.84      6711\n",
      "\n",
      "Overall Accuracy\n",
      "0.8424504397078552\n",
      "F1 score per class details\n",
      "             precision    recall  f1-score   support\n",
      "\n",
      "          0       0.91      0.93      0.92      3669\n",
      "          1       0.83      0.84      0.83      1956\n",
      "          2       0.40      0.31      0.35       185\n",
      "          3       0.69      0.65      0.67       821\n",
      "          4       0.28      0.23      0.25        78\n",
      "\n",
      "avg / total       0.84      0.84      0.84      6709\n",
      "\n",
      "Overall Accuracy\n",
      "0.8438944386461905\n",
      "F1 score per class details\n",
      "             precision    recall  f1-score   support\n",
      "\n",
      "          0       0.92      0.92      0.92      3668\n",
      "          1       0.82      0.84      0.83      1956\n",
      "          2       0.38      0.30      0.34       185\n",
      "          3       0.69      0.68      0.69       820\n",
      "          4       0.28      0.17      0.21        78\n",
      "\n",
      "avg / total       0.84      0.84      0.84      6707\n",
      "\n",
      "Overall Accuracy\n",
      "0.850581568744408\n",
      "F1 score per class details\n",
      "             precision    recall  f1-score   support\n",
      "\n",
      "          0       0.92      0.93      0.92      3668\n",
      "          1       0.83      0.85      0.84      1955\n",
      "          2       0.41      0.38      0.40       185\n",
      "          3       0.71      0.67      0.69       820\n",
      "          4       0.41      0.28      0.33        78\n",
      "\n",
      "avg / total       0.85      0.85      0.85      6706\n",
      "\n",
      "Overall Accuracy\n",
      "0.8462570832090666\n",
      "F1 score per class details\n",
      "             precision    recall  f1-score   support\n",
      "\n",
      "          0       0.91      0.92      0.92      3668\n",
      "          1       0.82      0.86      0.84      1955\n",
      "          2       0.44      0.33      0.38       185\n",
      "          3       0.70      0.63      0.66       820\n",
      "          4       0.37      0.19      0.25        78\n",
      "\n",
      "avg / total       0.84      0.85      0.84      6706\n",
      "\n"
     ]
    }
   ],
   "source": [
    "###model development Random Forest to start with\n",
    "\n",
    "X = train_temp_X\n",
    "y = train_temp_Y\n",
    "from sklearn.model_selection import StratifiedKFold\n",
    "from imblearn.over_sampling import SMOTE\n",
    "from sklearn.ensemble import RandomForestClassifier\n",
    "from sklearn.metrics import accuracy_score, f1_score, confusion_matrix, classification_report\n",
    "from sklearn.metrics import precision_recall_fscore_support as score\n",
    "\n",
    "target_names = ['0', '1', '2', '3', '4']\n",
    "rf = RandomForestClassifier()\n",
    "skf = StratifiedKFold(n_splits=5,random_state=None, shuffle=False)\n",
    "sm = SMOTE()\n",
    "##accs = []\n",
    "##f1s = []\n",
    "##cms = []\n",
    "for train_index, test_index in skf.split(X,y):\n",
    "    \n",
    "    X_train, X_test = X.iloc[train_index], X.iloc[test_index]\n",
    "    y_train, y_test = y.iloc[train_index], y.iloc[test_index]\n",
    "    \n",
    "       \n",
    "    # Oversample\n",
    "    X_train_res, y_train_res = sm.fit_sample(X_train, y_train)\n",
    "    \n",
    "    # Fit Naive Bayes on the vectorized X with y train labels, \n",
    "    # then predict new y labels using X test\n",
    "    rf.fit(X_train_res, y_train_res)\n",
    "    y_pred = rf.predict(X_test)\n",
    "    \n",
    "    # Determine test set accuracy and f1 score on this fold using the true y labels and predicted y labels\n",
    "    accs =accuracy_score(y_test, y_pred)\n",
    "    print(\"Overall Accuracy\")\n",
    "    print(accs)\n",
    "      \n",
    "    print(\"F1 score per class details\")\n",
    "    print(classification_report(y_test, y_pred, target_names=target_names))\n",
    "    \n",
    "    #print(calculate_f1_score(y_test, y_pred, target_class='0'))\n",
    "    #print(f1_score(y_test, y_pred, average=\"macro\"))\n",
    "    #print(precision_score(y_test, y_pred, average=\"macro\"))\n",
    "    #print(recall_score(y_test, y_pred, average=\"macro\"))  \n",
    "    ##precision, recall, fscore, support = score(y_test, y_pred)\n",
    "\n",
    "    ##print('precision: {}'.format(precision))\n",
    "    ##print('recall: {}'.format(recall))\n",
    "    ##print('fscore: {}'.format(fscore))\n",
    "    ##print('support: {}'.format(support))\n",
    "    #cms.append(confusion_matrix(y_test, y_pred))\n",
    "    \n",
    "\n"
   ]
  },
  {
   "cell_type": "code",
   "execution_count": 295,
   "metadata": {},
   "outputs": [
    {
     "name": "stdout",
     "output_type": "stream",
     "text": [
      "Overall Accuracy\n",
      "0.7963045745790494\n",
      "F1 score per class details\n",
      "             precision    recall  f1-score   support\n",
      "\n",
      "          0       0.94      0.87      0.91      3669\n",
      "          1       0.86      0.72      0.78      1956\n",
      "          2       0.21      0.60      0.31       186\n",
      "          3       0.66      0.69      0.68       821\n",
      "          4       0.21      0.78      0.33        79\n",
      "\n",
      "avg / total       0.85      0.80      0.82      6711\n",
      "\n",
      "Overall Accuracy\n",
      "0.7890892830526159\n",
      "F1 score per class details\n",
      "             precision    recall  f1-score   support\n",
      "\n",
      "          0       0.93      0.87      0.90      3669\n",
      "          1       0.83      0.72      0.77      1956\n",
      "          2       0.22      0.58      0.32       185\n",
      "          3       0.65      0.67      0.66       821\n",
      "          4       0.17      0.59      0.26        78\n",
      "\n",
      "avg / total       0.84      0.79      0.81      6709\n",
      "\n",
      "Overall Accuracy\n",
      "0.7839570597882809\n",
      "F1 score per class details\n",
      "             precision    recall  f1-score   support\n",
      "\n",
      "          0       0.94      0.87      0.90      3668\n",
      "          1       0.84      0.68      0.75      1956\n",
      "          2       0.22      0.63      0.32       185\n",
      "          3       0.64      0.68      0.66       820\n",
      "          4       0.18      0.68      0.29        78\n",
      "\n",
      "avg / total       0.84      0.78      0.81      6707\n",
      "\n",
      "Overall Accuracy\n",
      "0.791231732776618\n",
      "F1 score per class details\n",
      "             precision    recall  f1-score   support\n",
      "\n",
      "          0       0.95      0.87      0.91      3668\n",
      "          1       0.83      0.71      0.76      1955\n",
      "          2       0.23      0.68      0.34       185\n",
      "          3       0.67      0.66      0.67       820\n",
      "          4       0.18      0.67      0.28        78\n",
      "\n",
      "avg / total       0.85      0.79      0.81      6706\n",
      "\n",
      "Overall Accuracy\n",
      "0.7866090068595287\n",
      "F1 score per class details\n",
      "             precision    recall  f1-score   support\n",
      "\n",
      "          0       0.93      0.87      0.90      3668\n",
      "          1       0.83      0.72      0.77      1955\n",
      "          2       0.21      0.60      0.31       185\n",
      "          3       0.66      0.62      0.64       820\n",
      "          4       0.18      0.65      0.28        78\n",
      "\n",
      "avg / total       0.84      0.79      0.81      6706\n",
      "\n"
     ]
    }
   ],
   "source": [
    "###Truying with GBoost\n",
    "from sklearn.ensemble import GradientBoostingClassifier\n",
    "gbc =GradientBoostingClassifier(learning_rate=0.01, n_estimators=25,max_depth=9, subsample=0.8, random_state=10)\n",
    "for train_index, test_index in skf.split(X,y):\n",
    "    \n",
    "    X_train, X_test = X.iloc[train_index], X.iloc[test_index]\n",
    "    y_train, y_test = y.iloc[train_index], y.iloc[test_index]\n",
    "    \n",
    "       \n",
    "    # Oversample\n",
    "    X_train_res, y_train_res = sm.fit_sample(X_train, y_train)\n",
    "    \n",
    "    # Fit Naive Bayes on the vectorized X with y train labels, \n",
    "    # then predict new y labels using X test\n",
    "    gbc.fit(X_train_res, y_train_res)\n",
    "    y_pred = gbc.predict(X_test)\n",
    "    \n",
    "    # Determine test set accuracy and f1 score on this fold using the true y labels and predicted y labels\n",
    "    accs =accuracy_score(y_test, y_pred)\n",
    "    print(\"Overall Accuracy\")\n",
    "    print(accs)\n",
    "      \n",
    "    print(\"F1 score per class details\")\n",
    "    print(classification_report(y_test, y_pred, target_names=target_names))\n",
    "    \n",
    "    #print(calculate_f1_score(y_test, y_pred, target_class='0'))\n",
    "    #print(f1_score(y_test, y_pred, average=\"macro\"))\n",
    "    #print(precision_score(y_test, y_pred, average=\"macro\"))\n",
    "    #print(recall_score(y_test, y_pred, average=\"macro\"))  \n",
    "    ##precision, recall, fscore, support = score(y_test, y_pred)\n",
    "\n",
    "    ##print('precision: {}'.format(precision))\n",
    "    ##print('recall: {}'.format(recall))\n",
    "    ##print('fscore: {}'.format(fscore))\n",
    "    ##print('support: {}'.format(support))\n",
    "    #cms.append(confusion_matrix(y_test, y_pred))\n",
    "    \n"
   ]
  },
  {
   "cell_type": "code",
   "execution_count": 298,
   "metadata": {},
   "outputs": [
    {
     "name": "stdout",
     "output_type": "stream",
     "text": [
      "Fitting 5 folds for each of 96 candidates, totalling 480 fits\n"
     ]
    },
    {
     "name": "stderr",
     "output_type": "stream",
     "text": [
      "[Parallel(n_jobs=-1)]: Done  33 tasks      | elapsed:  7.3min\n",
      "[Parallel(n_jobs=-1)]: Done 154 tasks      | elapsed: 32.9min\n",
      "[Parallel(n_jobs=-1)]: Done 357 tasks      | elapsed: 75.8min\n",
      "[Parallel(n_jobs=-1)]: Done 480 out of 480 | elapsed: 101.6min finished\n"
     ]
    },
    {
     "data": {
      "text/plain": [
       "{'bootstrap': True,\n",
       " 'max_depth': 110,\n",
       " 'max_features': 'sqrt',\n",
       " 'min_samples_leaf': 50,\n",
       " 'n_estimators': 200}"
      ]
     },
     "execution_count": 298,
     "metadata": {},
     "output_type": "execute_result"
    }
   ],
   "source": [
    "##Random forest has performed better than XGBoost atleast without any hypertuning.Trying hypertuning with Random forest\n",
    "from sklearn.model_selection import GridSearchCV\n",
    "# Create the parameter grid based on the results of random search \n",
    "param_grid = {\n",
    "    'bootstrap': [True],\n",
    "    'max_depth': [80, 90, 100, 110],\n",
    "    'max_features': ['auto', 'sqrt'],\n",
    "    'min_samples_leaf': [50, 100, 250],\n",
    "    'n_estimators': [100, 200, 300, 1000]\n",
    "}\n",
    "\n",
    "rf1 = RandomForestClassifier()\n",
    "# Instantiate the grid search model\n",
    "grid_search_rf = GridSearchCV(estimator = rf1, param_grid = param_grid, \n",
    "                          cv = 5, n_jobs = -1, verbose = 2)\n",
    "grid_search_rf.fit(X,y)\n",
    "grid_search_rf.best_params_"
   ]
  },
  {
   "cell_type": "code",
   "execution_count": 299,
   "metadata": {},
   "outputs": [
    {
     "name": "stdout",
     "output_type": "stream",
     "text": [
      "Overall Accuracy\n",
      "0.7976456563850395\n",
      "F1 score per class details\n",
      "             precision    recall  f1-score   support\n",
      "\n",
      "          0       0.94      0.87      0.90      3669\n",
      "          1       0.88      0.72      0.79      1956\n",
      "          2       0.25      0.56      0.35       186\n",
      "          3       0.59      0.76      0.66       821\n",
      "          4       0.17      0.56      0.26        79\n",
      "\n",
      "avg / total       0.85      0.80      0.82      6711\n",
      "\n",
      "Overall Accuracy\n",
      "0.7934118348487107\n",
      "F1 score per class details\n",
      "             precision    recall  f1-score   support\n",
      "\n",
      "          0       0.94      0.87      0.90      3669\n",
      "          1       0.88      0.71      0.79      1956\n",
      "          2       0.24      0.52      0.32       185\n",
      "          3       0.58      0.74      0.65       821\n",
      "          4       0.14      0.50      0.22        78\n",
      "\n",
      "avg / total       0.85      0.79      0.81      6709\n",
      "\n",
      "Overall Accuracy\n",
      "0.792455643357686\n",
      "F1 score per class details\n",
      "             precision    recall  f1-score   support\n",
      "\n",
      "          0       0.94      0.87      0.90      3668\n",
      "          1       0.88      0.69      0.77      1956\n",
      "          2       0.23      0.57      0.33       185\n",
      "          3       0.60      0.74      0.66       820\n",
      "          4       0.16      0.59      0.26        78\n",
      "\n",
      "avg / total       0.85      0.79      0.81      6707\n",
      "\n",
      "Overall Accuracy\n",
      "0.8018192663286609\n",
      "F1 score per class details\n",
      "             precision    recall  f1-score   support\n",
      "\n",
      "          0       0.94      0.88      0.91      3668\n",
      "          1       0.87      0.71      0.78      1955\n",
      "          2       0.26      0.63      0.37       185\n",
      "          3       0.60      0.72      0.66       820\n",
      "          4       0.18      0.59      0.27        78\n",
      "\n",
      "avg / total       0.85      0.80      0.82      6706\n",
      "\n",
      "Overall Accuracy\n",
      "0.8024157470921562\n",
      "F1 score per class details\n",
      "             precision    recall  f1-score   support\n",
      "\n",
      "          0       0.94      0.87      0.91      3668\n",
      "          1       0.88      0.73      0.80      1955\n",
      "          2       0.23      0.55      0.33       185\n",
      "          3       0.62      0.74      0.68       820\n",
      "          4       0.17      0.59      0.27        78\n",
      "\n",
      "avg / total       0.86      0.80      0.82      6706\n",
      "\n"
     ]
    }
   ],
   "source": [
    "###Using the parameters to check how the model would perform\n",
    "rfb = RandomForestClassifier(bootstrap = True, max_depth = 110,max_features = 'sqrt', min_samples_leaf = 50, n_estimators = 200)\n",
    "skf = StratifiedKFold(n_splits=5,random_state=None, shuffle=False)\n",
    "##sm = SMOTE()\n",
    "##accs = []\n",
    "##f1s = []\n",
    "##cms = []\n",
    "for train_index, test_index in skf.split(X,y):\n",
    "    \n",
    "    X_train, X_test = X.iloc[train_index], X.iloc[test_index]\n",
    "    y_train, y_test = y.iloc[train_index], y.iloc[test_index]\n",
    "    \n",
    "       \n",
    "    # Oversample\n",
    "    X_train_res, y_train_res = sm.fit_sample(X_train, y_train)\n",
    "    \n",
    "    # Fit Naive Bayes on the vectorized X with y train labels, \n",
    "    # then predict new y labels using X test\n",
    "    rfb.fit(X_train_res, y_train_res)\n",
    "    y_pred = rfb.predict(X_test)\n",
    "    \n",
    "    # Determine test set accuracy and f1 score on this fold using the true y labels and predicted y labels\n",
    "    accs =accuracy_score(y_test, y_pred)\n",
    "    print(\"Overall Accuracy\")\n",
    "    print(accs)\n",
    "      \n",
    "    print(\"F1 score per class details\")\n",
    "    print(classification_report(y_test, y_pred, target_names=target_names))"
   ]
  },
  {
   "cell_type": "code",
   "execution_count": 380,
   "metadata": {},
   "outputs": [
    {
     "data": {
      "text/html": [
       "<div>\n",
       "<style scoped>\n",
       "    .dataframe tbody tr th:only-of-type {\n",
       "        vertical-align: middle;\n",
       "    }\n",
       "\n",
       "    .dataframe tbody tr th {\n",
       "        vertical-align: top;\n",
       "    }\n",
       "\n",
       "    .dataframe thead th {\n",
       "        text-align: right;\n",
       "    }\n",
       "</style>\n",
       "<table border=\"1\" class=\"dataframe\">\n",
       "  <thead>\n",
       "    <tr style=\"text-align: right;\">\n",
       "      <th></th>\n",
       "      <th>Application/Permit Number</th>\n",
       "      <th>Permit Type</th>\n",
       "      <th>Address</th>\n",
       "      <th>Description</th>\n",
       "      <th>Action Type</th>\n",
       "      <th>Work Type</th>\n",
       "      <th>Applicant Name</th>\n",
       "      <th>Application Date</th>\n",
       "      <th>Issue Date</th>\n",
       "      <th>Final Date</th>\n",
       "      <th>Expiration Date</th>\n",
       "      <th>Status</th>\n",
       "      <th>Contractor</th>\n",
       "      <th>Permit and Complaint Status URL</th>\n",
       "      <th>Master Use Permit</th>\n",
       "      <th>Latitude</th>\n",
       "      <th>Longitude</th>\n",
       "      <th>Location</th>\n",
       "    </tr>\n",
       "  </thead>\n",
       "  <tbody>\n",
       "    <tr>\n",
       "      <th>0</th>\n",
       "      <td>6425384</td>\n",
       "      <td>Construction</td>\n",
       "      <td>8348 18TH AVE NW</td>\n",
       "      <td>Construct 6' retaining wall to create walkway,...</td>\n",
       "      <td>ADD/ALT</td>\n",
       "      <td>No plan review</td>\n",
       "      <td>JOSSART, STEVE</td>\n",
       "      <td>2014-07-02T00:00:00</td>\n",
       "      <td>2014-07-02T00:00:00</td>\n",
       "      <td>2015-06-29T00:00:00</td>\n",
       "      <td>2016-01-02T00:00:00</td>\n",
       "      <td>Permit Closed</td>\n",
       "      <td>NaN</td>\n",
       "      <td>{'url': 'http://web6.seattle.gov/dpd/PermitSta...</td>\n",
       "      <td>NaN</td>\n",
       "      <td>47.690123</td>\n",
       "      <td>-122.379795</td>\n",
       "      <td>{'latitude': '47.69012273', 'human_address': '...</td>\n",
       "    </tr>\n",
       "    <tr>\n",
       "      <th>1</th>\n",
       "      <td>6496502</td>\n",
       "      <td>Construction</td>\n",
       "      <td>3120 S FRONTENAC ST</td>\n",
       "      <td>Like for like repair of framing at porches of ...</td>\n",
       "      <td>ADD/ALT</td>\n",
       "      <td>No plan review</td>\n",
       "      <td>RUNDLE, DANIEL</td>\n",
       "      <td>2015-11-12T00:00:00</td>\n",
       "      <td>2015-11-12T00:00:00</td>\n",
       "      <td>2016-02-10T00:00:00</td>\n",
       "      <td>2017-05-12T00:00:00</td>\n",
       "      <td>Permit Closed</td>\n",
       "      <td>SCHULTIS SUNDBERG INC.</td>\n",
       "      <td>{'url': 'http://web6.seattle.gov/dpd/PermitSta...</td>\n",
       "      <td>NaN</td>\n",
       "      <td>47.540111</td>\n",
       "      <td>-122.290535</td>\n",
       "      <td>{'latitude': '47.54011095', 'human_address': '...</td>\n",
       "    </tr>\n",
       "    <tr>\n",
       "      <th>2</th>\n",
       "      <td>6622347</td>\n",
       "      <td>Demolition</td>\n",
       "      <td>4031 S WILLOW ST</td>\n",
       "      <td>Demolish existing single family dwelling. Subj...</td>\n",
       "      <td>DEMOLITION</td>\n",
       "      <td>No plan review</td>\n",
       "      <td>WEBER, JULIAN</td>\n",
       "      <td>2017-10-04T00:00:00</td>\n",
       "      <td>NaN</td>\n",
       "      <td>NaN</td>\n",
       "      <td>NaN</td>\n",
       "      <td>Reviews Completed</td>\n",
       "      <td>NaN</td>\n",
       "      <td>{'url': 'http://web6.seattle.gov/dpd/PermitSta...</td>\n",
       "      <td>3024280.0</td>\n",
       "      <td>47.540470</td>\n",
       "      <td>-122.281410</td>\n",
       "      <td>{'latitude': '47.54046991', 'human_address': '...</td>\n",
       "    </tr>\n",
       "    <tr>\n",
       "      <th>3</th>\n",
       "      <td>6565685</td>\n",
       "      <td>Construction</td>\n",
       "      <td>3940 1ST AVE NE</td>\n",
       "      <td>Establish use as rowhouse and construct new du...</td>\n",
       "      <td>NEW</td>\n",
       "      <td>Plan Review</td>\n",
       "      <td>NOVION, SHAUN</td>\n",
       "      <td>2017-02-14T00:00:00</td>\n",
       "      <td>2017-10-20T00:00:00</td>\n",
       "      <td>NaN</td>\n",
       "      <td>2019-04-20T00:00:00</td>\n",
       "      <td>Permit Issued</td>\n",
       "      <td>NaN</td>\n",
       "      <td>{'url': 'http://web6.seattle.gov/dpd/PermitSta...</td>\n",
       "      <td>3025762.0</td>\n",
       "      <td>47.654986</td>\n",
       "      <td>-122.327467</td>\n",
       "      <td>{'latitude': '47.65498619', 'human_address': '...</td>\n",
       "    </tr>\n",
       "    <tr>\n",
       "      <th>4</th>\n",
       "      <td>6487370</td>\n",
       "      <td>Construction</td>\n",
       "      <td>5317 BALLARD AVE NW</td>\n",
       "      <td>Tenant improvement to existing women's boutiqu...</td>\n",
       "      <td>ADD/ALT</td>\n",
       "      <td>No plan review</td>\n",
       "      <td>DYNA CONTRACTING INC</td>\n",
       "      <td>2017-07-19T00:00:00</td>\n",
       "      <td>2017-07-19T00:00:00</td>\n",
       "      <td>2018-01-17T00:00:00</td>\n",
       "      <td>2019-01-19T00:00:00</td>\n",
       "      <td>Permit Closed</td>\n",
       "      <td>DYNA CONTRACTING INC</td>\n",
       "      <td>{'url': 'http://web6.seattle.gov/dpd/PermitSta...</td>\n",
       "      <td>NaN</td>\n",
       "      <td>47.666714</td>\n",
       "      <td>-122.383900</td>\n",
       "      <td>{'latitude': '47.66671437', 'human_address': '...</td>\n",
       "    </tr>\n",
       "  </tbody>\n",
       "</table>\n",
       "</div>"
      ],
      "text/plain": [
       "   Application/Permit Number   Permit Type              Address  \\\n",
       "0                    6425384  Construction     8348 18TH AVE NW   \n",
       "1                    6496502  Construction  3120 S FRONTENAC ST   \n",
       "2                    6622347    Demolition     4031 S WILLOW ST   \n",
       "3                    6565685  Construction      3940 1ST AVE NE   \n",
       "4                    6487370  Construction  5317 BALLARD AVE NW   \n",
       "\n",
       "                                         Description Action Type  \\\n",
       "0  Construct 6' retaining wall to create walkway,...     ADD/ALT   \n",
       "1  Like for like repair of framing at porches of ...     ADD/ALT   \n",
       "2  Demolish existing single family dwelling. Subj...  DEMOLITION   \n",
       "3  Establish use as rowhouse and construct new du...         NEW   \n",
       "4  Tenant improvement to existing women's boutiqu...     ADD/ALT   \n",
       "\n",
       "        Work Type        Applicant Name     Application Date  \\\n",
       "0  No plan review        JOSSART, STEVE  2014-07-02T00:00:00   \n",
       "1  No plan review        RUNDLE, DANIEL  2015-11-12T00:00:00   \n",
       "2  No plan review         WEBER, JULIAN  2017-10-04T00:00:00   \n",
       "3     Plan Review         NOVION, SHAUN  2017-02-14T00:00:00   \n",
       "4  No plan review  DYNA CONTRACTING INC  2017-07-19T00:00:00   \n",
       "\n",
       "            Issue Date           Final Date      Expiration Date  \\\n",
       "0  2014-07-02T00:00:00  2015-06-29T00:00:00  2016-01-02T00:00:00   \n",
       "1  2015-11-12T00:00:00  2016-02-10T00:00:00  2017-05-12T00:00:00   \n",
       "2                  NaN                  NaN                  NaN   \n",
       "3  2017-10-20T00:00:00                  NaN  2019-04-20T00:00:00   \n",
       "4  2017-07-19T00:00:00  2018-01-17T00:00:00  2019-01-19T00:00:00   \n",
       "\n",
       "              Status              Contractor  \\\n",
       "0      Permit Closed                     NaN   \n",
       "1      Permit Closed  SCHULTIS SUNDBERG INC.   \n",
       "2  Reviews Completed                     NaN   \n",
       "3      Permit Issued                     NaN   \n",
       "4      Permit Closed    DYNA CONTRACTING INC   \n",
       "\n",
       "                     Permit and Complaint Status URL  Master Use Permit  \\\n",
       "0  {'url': 'http://web6.seattle.gov/dpd/PermitSta...                NaN   \n",
       "1  {'url': 'http://web6.seattle.gov/dpd/PermitSta...                NaN   \n",
       "2  {'url': 'http://web6.seattle.gov/dpd/PermitSta...          3024280.0   \n",
       "3  {'url': 'http://web6.seattle.gov/dpd/PermitSta...          3025762.0   \n",
       "4  {'url': 'http://web6.seattle.gov/dpd/PermitSta...                NaN   \n",
       "\n",
       "    Latitude   Longitude                                           Location  \n",
       "0  47.690123 -122.379795  {'latitude': '47.69012273', 'human_address': '...  \n",
       "1  47.540111 -122.290535  {'latitude': '47.54011095', 'human_address': '...  \n",
       "2  47.540470 -122.281410  {'latitude': '47.54046991', 'human_address': '...  \n",
       "3  47.654986 -122.327467  {'latitude': '47.65498619', 'human_address': '...  \n",
       "4  47.666714 -122.383900  {'latitude': '47.66671437', 'human_address': '...  "
      ]
     },
     "execution_count": 380,
     "metadata": {},
     "output_type": "execute_result"
    }
   ],
   "source": [
    "##overall metrics in first model has proven to be better than the other models. Going with the initial model for predictions\n",
    "##checking the Test data \n",
    "test.head()\n"
   ]
  },
  {
   "cell_type": "code",
   "execution_count": 381,
   "metadata": {},
   "outputs": [],
   "source": [
    "##Taking a copy of the test data\n",
    "test_temp = test.copy()"
   ]
  },
  {
   "cell_type": "code",
   "execution_count": 382,
   "metadata": {},
   "outputs": [
    {
     "data": {
      "text/html": [
       "<div>\n",
       "<style scoped>\n",
       "    .dataframe tbody tr th:only-of-type {\n",
       "        vertical-align: middle;\n",
       "    }\n",
       "\n",
       "    .dataframe tbody tr th {\n",
       "        vertical-align: top;\n",
       "    }\n",
       "\n",
       "    .dataframe thead th {\n",
       "        text-align: right;\n",
       "    }\n",
       "</style>\n",
       "<table border=\"1\" class=\"dataframe\">\n",
       "  <thead>\n",
       "    <tr style=\"text-align: right;\">\n",
       "      <th></th>\n",
       "      <th>Application/Permit Number</th>\n",
       "      <th>Permit Type</th>\n",
       "      <th>Address</th>\n",
       "      <th>Description</th>\n",
       "      <th>Action Type</th>\n",
       "      <th>Work Type</th>\n",
       "      <th>Applicant Name</th>\n",
       "      <th>Application Date</th>\n",
       "      <th>Issue Date</th>\n",
       "      <th>Final Date</th>\n",
       "      <th>Expiration Date</th>\n",
       "      <th>Status</th>\n",
       "      <th>Contractor</th>\n",
       "      <th>Permit and Complaint Status URL</th>\n",
       "      <th>Master Use Permit</th>\n",
       "      <th>Latitude</th>\n",
       "      <th>Longitude</th>\n",
       "      <th>Location</th>\n",
       "    </tr>\n",
       "  </thead>\n",
       "  <tbody>\n",
       "    <tr>\n",
       "      <th>0</th>\n",
       "      <td>6425384</td>\n",
       "      <td>Construction</td>\n",
       "      <td>8348 18TH AVE NW</td>\n",
       "      <td>Construct 6' retaining wall to create walkway,...</td>\n",
       "      <td>ADD/ALT</td>\n",
       "      <td>No plan review</td>\n",
       "      <td>JOSSART, STEVE</td>\n",
       "      <td>2014-07-02T00:00:00</td>\n",
       "      <td>2014-07-02T00:00:00</td>\n",
       "      <td>2015-06-29T00:00:00</td>\n",
       "      <td>2016-01-02T00:00:00</td>\n",
       "      <td>Permit Closed</td>\n",
       "      <td>NaN</td>\n",
       "      <td>{'url': 'http://web6.seattle.gov/dpd/PermitSta...</td>\n",
       "      <td>NaN</td>\n",
       "      <td>47.690123</td>\n",
       "      <td>-122.379795</td>\n",
       "      <td>{'latitude': '47.69012273', 'human_address': '...</td>\n",
       "    </tr>\n",
       "    <tr>\n",
       "      <th>1</th>\n",
       "      <td>6496502</td>\n",
       "      <td>Construction</td>\n",
       "      <td>3120 S FRONTENAC ST</td>\n",
       "      <td>Like for like repair of framing at porches of ...</td>\n",
       "      <td>ADD/ALT</td>\n",
       "      <td>No plan review</td>\n",
       "      <td>RUNDLE, DANIEL</td>\n",
       "      <td>2015-11-12T00:00:00</td>\n",
       "      <td>2015-11-12T00:00:00</td>\n",
       "      <td>2016-02-10T00:00:00</td>\n",
       "      <td>2017-05-12T00:00:00</td>\n",
       "      <td>Permit Closed</td>\n",
       "      <td>SCHULTIS SUNDBERG INC.</td>\n",
       "      <td>{'url': 'http://web6.seattle.gov/dpd/PermitSta...</td>\n",
       "      <td>NaN</td>\n",
       "      <td>47.540111</td>\n",
       "      <td>-122.290535</td>\n",
       "      <td>{'latitude': '47.54011095', 'human_address': '...</td>\n",
       "    </tr>\n",
       "    <tr>\n",
       "      <th>2</th>\n",
       "      <td>6622347</td>\n",
       "      <td>Demolition</td>\n",
       "      <td>4031 S WILLOW ST</td>\n",
       "      <td>Demolish existing single family dwelling. Subj...</td>\n",
       "      <td>DEMOLITION</td>\n",
       "      <td>No plan review</td>\n",
       "      <td>WEBER, JULIAN</td>\n",
       "      <td>2017-10-04T00:00:00</td>\n",
       "      <td>NaN</td>\n",
       "      <td>NaN</td>\n",
       "      <td>NaN</td>\n",
       "      <td>Reviews Completed</td>\n",
       "      <td>NaN</td>\n",
       "      <td>{'url': 'http://web6.seattle.gov/dpd/PermitSta...</td>\n",
       "      <td>3024280.0</td>\n",
       "      <td>47.540470</td>\n",
       "      <td>-122.281410</td>\n",
       "      <td>{'latitude': '47.54046991', 'human_address': '...</td>\n",
       "    </tr>\n",
       "    <tr>\n",
       "      <th>3</th>\n",
       "      <td>6565685</td>\n",
       "      <td>Construction</td>\n",
       "      <td>3940 1ST AVE NE</td>\n",
       "      <td>Establish use as rowhouse and construct new du...</td>\n",
       "      <td>NEW</td>\n",
       "      <td>Plan Review</td>\n",
       "      <td>NOVION, SHAUN</td>\n",
       "      <td>2017-02-14T00:00:00</td>\n",
       "      <td>2017-10-20T00:00:00</td>\n",
       "      <td>NaN</td>\n",
       "      <td>2019-04-20T00:00:00</td>\n",
       "      <td>Permit Issued</td>\n",
       "      <td>NaN</td>\n",
       "      <td>{'url': 'http://web6.seattle.gov/dpd/PermitSta...</td>\n",
       "      <td>3025762.0</td>\n",
       "      <td>47.654986</td>\n",
       "      <td>-122.327467</td>\n",
       "      <td>{'latitude': '47.65498619', 'human_address': '...</td>\n",
       "    </tr>\n",
       "    <tr>\n",
       "      <th>4</th>\n",
       "      <td>6487370</td>\n",
       "      <td>Construction</td>\n",
       "      <td>5317 BALLARD AVE NW</td>\n",
       "      <td>Tenant improvement to existing women's boutiqu...</td>\n",
       "      <td>ADD/ALT</td>\n",
       "      <td>No plan review</td>\n",
       "      <td>DYNA CONTRACTING INC</td>\n",
       "      <td>2017-07-19T00:00:00</td>\n",
       "      <td>2017-07-19T00:00:00</td>\n",
       "      <td>2018-01-17T00:00:00</td>\n",
       "      <td>2019-01-19T00:00:00</td>\n",
       "      <td>Permit Closed</td>\n",
       "      <td>DYNA CONTRACTING INC</td>\n",
       "      <td>{'url': 'http://web6.seattle.gov/dpd/PermitSta...</td>\n",
       "      <td>NaN</td>\n",
       "      <td>47.666714</td>\n",
       "      <td>-122.383900</td>\n",
       "      <td>{'latitude': '47.66671437', 'human_address': '...</td>\n",
       "    </tr>\n",
       "  </tbody>\n",
       "</table>\n",
       "</div>"
      ],
      "text/plain": [
       "   Application/Permit Number   Permit Type              Address  \\\n",
       "0                    6425384  Construction     8348 18TH AVE NW   \n",
       "1                    6496502  Construction  3120 S FRONTENAC ST   \n",
       "2                    6622347    Demolition     4031 S WILLOW ST   \n",
       "3                    6565685  Construction      3940 1ST AVE NE   \n",
       "4                    6487370  Construction  5317 BALLARD AVE NW   \n",
       "\n",
       "                                         Description Action Type  \\\n",
       "0  Construct 6' retaining wall to create walkway,...     ADD/ALT   \n",
       "1  Like for like repair of framing at porches of ...     ADD/ALT   \n",
       "2  Demolish existing single family dwelling. Subj...  DEMOLITION   \n",
       "3  Establish use as rowhouse and construct new du...         NEW   \n",
       "4  Tenant improvement to existing women's boutiqu...     ADD/ALT   \n",
       "\n",
       "        Work Type        Applicant Name     Application Date  \\\n",
       "0  No plan review        JOSSART, STEVE  2014-07-02T00:00:00   \n",
       "1  No plan review        RUNDLE, DANIEL  2015-11-12T00:00:00   \n",
       "2  No plan review         WEBER, JULIAN  2017-10-04T00:00:00   \n",
       "3     Plan Review         NOVION, SHAUN  2017-02-14T00:00:00   \n",
       "4  No plan review  DYNA CONTRACTING INC  2017-07-19T00:00:00   \n",
       "\n",
       "            Issue Date           Final Date      Expiration Date  \\\n",
       "0  2014-07-02T00:00:00  2015-06-29T00:00:00  2016-01-02T00:00:00   \n",
       "1  2015-11-12T00:00:00  2016-02-10T00:00:00  2017-05-12T00:00:00   \n",
       "2                  NaN                  NaN                  NaN   \n",
       "3  2017-10-20T00:00:00                  NaN  2019-04-20T00:00:00   \n",
       "4  2017-07-19T00:00:00  2018-01-17T00:00:00  2019-01-19T00:00:00   \n",
       "\n",
       "              Status              Contractor  \\\n",
       "0      Permit Closed                     NaN   \n",
       "1      Permit Closed  SCHULTIS SUNDBERG INC.   \n",
       "2  Reviews Completed                     NaN   \n",
       "3      Permit Issued                     NaN   \n",
       "4      Permit Closed    DYNA CONTRACTING INC   \n",
       "\n",
       "                     Permit and Complaint Status URL  Master Use Permit  \\\n",
       "0  {'url': 'http://web6.seattle.gov/dpd/PermitSta...                NaN   \n",
       "1  {'url': 'http://web6.seattle.gov/dpd/PermitSta...                NaN   \n",
       "2  {'url': 'http://web6.seattle.gov/dpd/PermitSta...          3024280.0   \n",
       "3  {'url': 'http://web6.seattle.gov/dpd/PermitSta...          3025762.0   \n",
       "4  {'url': 'http://web6.seattle.gov/dpd/PermitSta...                NaN   \n",
       "\n",
       "    Latitude   Longitude                                           Location  \n",
       "0  47.690123 -122.379795  {'latitude': '47.69012273', 'human_address': '...  \n",
       "1  47.540111 -122.290535  {'latitude': '47.54011095', 'human_address': '...  \n",
       "2  47.540470 -122.281410  {'latitude': '47.54046991', 'human_address': '...  \n",
       "3  47.654986 -122.327467  {'latitude': '47.65498619', 'human_address': '...  \n",
       "4  47.666714 -122.383900  {'latitude': '47.66671437', 'human_address': '...  "
      ]
     },
     "execution_count": 382,
     "metadata": {},
     "output_type": "execute_result"
    }
   ],
   "source": [
    "test_temp.head()"
   ]
  },
  {
   "cell_type": "code",
   "execution_count": 383,
   "metadata": {},
   "outputs": [],
   "source": [
    "##Run the data through transformation and cleaning pipeline before predictions\n",
    "from datetime import datetime\n",
    "from dateutil.parser import parse\n",
    "test_temp['Wait Time'] = pd.to_datetime(test_temp['Issue Date']) - pd.to_datetime(test_temp['Application Date'])\n",
    "test_temp['Wait_final'] = pd.to_datetime(test_temp['Final Date']) - pd.to_datetime(test_temp['Application Date'])\n",
    "test_temp['Wait_expire'] = pd.to_datetime(test_temp['Expiration Date']) - pd.to_datetime(test_temp['Application Date'])"
   ]
  },
  {
   "cell_type": "code",
   "execution_count": 384,
   "metadata": {},
   "outputs": [
    {
     "data": {
      "text/html": [
       "<div>\n",
       "<style scoped>\n",
       "    .dataframe tbody tr th:only-of-type {\n",
       "        vertical-align: middle;\n",
       "    }\n",
       "\n",
       "    .dataframe tbody tr th {\n",
       "        vertical-align: top;\n",
       "    }\n",
       "\n",
       "    .dataframe thead th {\n",
       "        text-align: right;\n",
       "    }\n",
       "</style>\n",
       "<table border=\"1\" class=\"dataframe\">\n",
       "  <thead>\n",
       "    <tr style=\"text-align: right;\">\n",
       "      <th></th>\n",
       "      <th>Application/Permit Number</th>\n",
       "      <th>Permit Type</th>\n",
       "      <th>Address</th>\n",
       "      <th>Description</th>\n",
       "      <th>Action Type</th>\n",
       "      <th>Work Type</th>\n",
       "      <th>Applicant Name</th>\n",
       "      <th>Application Date</th>\n",
       "      <th>Issue Date</th>\n",
       "      <th>Final Date</th>\n",
       "      <th>...</th>\n",
       "      <th>Status</th>\n",
       "      <th>Contractor</th>\n",
       "      <th>Permit and Complaint Status URL</th>\n",
       "      <th>Master Use Permit</th>\n",
       "      <th>Latitude</th>\n",
       "      <th>Longitude</th>\n",
       "      <th>Location</th>\n",
       "      <th>Wait Time</th>\n",
       "      <th>Wait_final</th>\n",
       "      <th>Wait_expire</th>\n",
       "    </tr>\n",
       "  </thead>\n",
       "  <tbody>\n",
       "    <tr>\n",
       "      <th>0</th>\n",
       "      <td>6425384</td>\n",
       "      <td>Construction</td>\n",
       "      <td>8348 18TH AVE NW</td>\n",
       "      <td>Construct 6' retaining wall to create walkway,...</td>\n",
       "      <td>ADD/ALT</td>\n",
       "      <td>No plan review</td>\n",
       "      <td>JOSSART, STEVE</td>\n",
       "      <td>2014-07-02T00:00:00</td>\n",
       "      <td>2014-07-02T00:00:00</td>\n",
       "      <td>2015-06-29T00:00:00</td>\n",
       "      <td>...</td>\n",
       "      <td>Permit Closed</td>\n",
       "      <td>NaN</td>\n",
       "      <td>{'url': 'http://web6.seattle.gov/dpd/PermitSta...</td>\n",
       "      <td>NaN</td>\n",
       "      <td>47.690123</td>\n",
       "      <td>-122.379795</td>\n",
       "      <td>{'latitude': '47.69012273', 'human_address': '...</td>\n",
       "      <td>0 days</td>\n",
       "      <td>362 days</td>\n",
       "      <td>549 days</td>\n",
       "    </tr>\n",
       "    <tr>\n",
       "      <th>1</th>\n",
       "      <td>6496502</td>\n",
       "      <td>Construction</td>\n",
       "      <td>3120 S FRONTENAC ST</td>\n",
       "      <td>Like for like repair of framing at porches of ...</td>\n",
       "      <td>ADD/ALT</td>\n",
       "      <td>No plan review</td>\n",
       "      <td>RUNDLE, DANIEL</td>\n",
       "      <td>2015-11-12T00:00:00</td>\n",
       "      <td>2015-11-12T00:00:00</td>\n",
       "      <td>2016-02-10T00:00:00</td>\n",
       "      <td>...</td>\n",
       "      <td>Permit Closed</td>\n",
       "      <td>SCHULTIS SUNDBERG INC.</td>\n",
       "      <td>{'url': 'http://web6.seattle.gov/dpd/PermitSta...</td>\n",
       "      <td>NaN</td>\n",
       "      <td>47.540111</td>\n",
       "      <td>-122.290535</td>\n",
       "      <td>{'latitude': '47.54011095', 'human_address': '...</td>\n",
       "      <td>0 days</td>\n",
       "      <td>90 days</td>\n",
       "      <td>547 days</td>\n",
       "    </tr>\n",
       "    <tr>\n",
       "      <th>2</th>\n",
       "      <td>6622347</td>\n",
       "      <td>Demolition</td>\n",
       "      <td>4031 S WILLOW ST</td>\n",
       "      <td>Demolish existing single family dwelling. Subj...</td>\n",
       "      <td>DEMOLITION</td>\n",
       "      <td>No plan review</td>\n",
       "      <td>WEBER, JULIAN</td>\n",
       "      <td>2017-10-04T00:00:00</td>\n",
       "      <td>NaN</td>\n",
       "      <td>NaN</td>\n",
       "      <td>...</td>\n",
       "      <td>Reviews Completed</td>\n",
       "      <td>NaN</td>\n",
       "      <td>{'url': 'http://web6.seattle.gov/dpd/PermitSta...</td>\n",
       "      <td>3024280.0</td>\n",
       "      <td>47.540470</td>\n",
       "      <td>-122.281410</td>\n",
       "      <td>{'latitude': '47.54046991', 'human_address': '...</td>\n",
       "      <td>NaT</td>\n",
       "      <td>NaT</td>\n",
       "      <td>NaT</td>\n",
       "    </tr>\n",
       "    <tr>\n",
       "      <th>3</th>\n",
       "      <td>6565685</td>\n",
       "      <td>Construction</td>\n",
       "      <td>3940 1ST AVE NE</td>\n",
       "      <td>Establish use as rowhouse and construct new du...</td>\n",
       "      <td>NEW</td>\n",
       "      <td>Plan Review</td>\n",
       "      <td>NOVION, SHAUN</td>\n",
       "      <td>2017-02-14T00:00:00</td>\n",
       "      <td>2017-10-20T00:00:00</td>\n",
       "      <td>NaN</td>\n",
       "      <td>...</td>\n",
       "      <td>Permit Issued</td>\n",
       "      <td>NaN</td>\n",
       "      <td>{'url': 'http://web6.seattle.gov/dpd/PermitSta...</td>\n",
       "      <td>3025762.0</td>\n",
       "      <td>47.654986</td>\n",
       "      <td>-122.327467</td>\n",
       "      <td>{'latitude': '47.65498619', 'human_address': '...</td>\n",
       "      <td>248 days</td>\n",
       "      <td>NaT</td>\n",
       "      <td>795 days</td>\n",
       "    </tr>\n",
       "    <tr>\n",
       "      <th>4</th>\n",
       "      <td>6487370</td>\n",
       "      <td>Construction</td>\n",
       "      <td>5317 BALLARD AVE NW</td>\n",
       "      <td>Tenant improvement to existing women's boutiqu...</td>\n",
       "      <td>ADD/ALT</td>\n",
       "      <td>No plan review</td>\n",
       "      <td>DYNA CONTRACTING INC</td>\n",
       "      <td>2017-07-19T00:00:00</td>\n",
       "      <td>2017-07-19T00:00:00</td>\n",
       "      <td>2018-01-17T00:00:00</td>\n",
       "      <td>...</td>\n",
       "      <td>Permit Closed</td>\n",
       "      <td>DYNA CONTRACTING INC</td>\n",
       "      <td>{'url': 'http://web6.seattle.gov/dpd/PermitSta...</td>\n",
       "      <td>NaN</td>\n",
       "      <td>47.666714</td>\n",
       "      <td>-122.383900</td>\n",
       "      <td>{'latitude': '47.66671437', 'human_address': '...</td>\n",
       "      <td>0 days</td>\n",
       "      <td>182 days</td>\n",
       "      <td>549 days</td>\n",
       "    </tr>\n",
       "  </tbody>\n",
       "</table>\n",
       "<p>5 rows × 21 columns</p>\n",
       "</div>"
      ],
      "text/plain": [
       "   Application/Permit Number   Permit Type              Address  \\\n",
       "0                    6425384  Construction     8348 18TH AVE NW   \n",
       "1                    6496502  Construction  3120 S FRONTENAC ST   \n",
       "2                    6622347    Demolition     4031 S WILLOW ST   \n",
       "3                    6565685  Construction      3940 1ST AVE NE   \n",
       "4                    6487370  Construction  5317 BALLARD AVE NW   \n",
       "\n",
       "                                         Description Action Type  \\\n",
       "0  Construct 6' retaining wall to create walkway,...     ADD/ALT   \n",
       "1  Like for like repair of framing at porches of ...     ADD/ALT   \n",
       "2  Demolish existing single family dwelling. Subj...  DEMOLITION   \n",
       "3  Establish use as rowhouse and construct new du...         NEW   \n",
       "4  Tenant improvement to existing women's boutiqu...     ADD/ALT   \n",
       "\n",
       "        Work Type        Applicant Name     Application Date  \\\n",
       "0  No plan review        JOSSART, STEVE  2014-07-02T00:00:00   \n",
       "1  No plan review        RUNDLE, DANIEL  2015-11-12T00:00:00   \n",
       "2  No plan review         WEBER, JULIAN  2017-10-04T00:00:00   \n",
       "3     Plan Review         NOVION, SHAUN  2017-02-14T00:00:00   \n",
       "4  No plan review  DYNA CONTRACTING INC  2017-07-19T00:00:00   \n",
       "\n",
       "            Issue Date           Final Date     ...                 Status  \\\n",
       "0  2014-07-02T00:00:00  2015-06-29T00:00:00     ...          Permit Closed   \n",
       "1  2015-11-12T00:00:00  2016-02-10T00:00:00     ...          Permit Closed   \n",
       "2                  NaN                  NaN     ...      Reviews Completed   \n",
       "3  2017-10-20T00:00:00                  NaN     ...          Permit Issued   \n",
       "4  2017-07-19T00:00:00  2018-01-17T00:00:00     ...          Permit Closed   \n",
       "\n",
       "               Contractor                    Permit and Complaint Status URL  \\\n",
       "0                     NaN  {'url': 'http://web6.seattle.gov/dpd/PermitSta...   \n",
       "1  SCHULTIS SUNDBERG INC.  {'url': 'http://web6.seattle.gov/dpd/PermitSta...   \n",
       "2                     NaN  {'url': 'http://web6.seattle.gov/dpd/PermitSta...   \n",
       "3                     NaN  {'url': 'http://web6.seattle.gov/dpd/PermitSta...   \n",
       "4    DYNA CONTRACTING INC  {'url': 'http://web6.seattle.gov/dpd/PermitSta...   \n",
       "\n",
       "  Master Use Permit   Latitude   Longitude  \\\n",
       "0               NaN  47.690123 -122.379795   \n",
       "1               NaN  47.540111 -122.290535   \n",
       "2         3024280.0  47.540470 -122.281410   \n",
       "3         3025762.0  47.654986 -122.327467   \n",
       "4               NaN  47.666714 -122.383900   \n",
       "\n",
       "                                            Location Wait Time Wait_final  \\\n",
       "0  {'latitude': '47.69012273', 'human_address': '...    0 days   362 days   \n",
       "1  {'latitude': '47.54011095', 'human_address': '...    0 days    90 days   \n",
       "2  {'latitude': '47.54046991', 'human_address': '...       NaT        NaT   \n",
       "3  {'latitude': '47.65498619', 'human_address': '...  248 days        NaT   \n",
       "4  {'latitude': '47.66671437', 'human_address': '...    0 days   182 days   \n",
       "\n",
       "  Wait_expire  \n",
       "0    549 days  \n",
       "1    547 days  \n",
       "2         NaT  \n",
       "3    795 days  \n",
       "4    549 days  \n",
       "\n",
       "[5 rows x 21 columns]"
      ]
     },
     "execution_count": 384,
     "metadata": {},
     "output_type": "execute_result"
    }
   ],
   "source": [
    "test_temp.head()"
   ]
  },
  {
   "cell_type": "code",
   "execution_count": 385,
   "metadata": {},
   "outputs": [
    {
     "name": "stdout",
     "output_type": "stream",
     "text": [
      "   Application/Permit Number   Permit Type  \\\n",
      "0                    6425384  Construction   \n",
      "1                    6496502  Construction   \n",
      "2                    6622347    Demolition   \n",
      "3                    6565685  Construction   \n",
      "4                    6487370  Construction   \n",
      "\n",
      "                                         Description Action Type  \\\n",
      "0  Construct 6' retaining wall to create walkway,...     ADD/ALT   \n",
      "1  Like for like repair of framing at porches of ...     ADD/ALT   \n",
      "2  Demolish existing single family dwelling. Subj...  DEMOLITION   \n",
      "3  Establish use as rowhouse and construct new du...         NEW   \n",
      "4  Tenant improvement to existing women's boutiqu...     ADD/ALT   \n",
      "\n",
      "        Work Type           Issue Date             Status   Latitude  \\\n",
      "0  No plan review  2014-07-02T00:00:00      Permit Closed  47.690123   \n",
      "1  No plan review  2015-11-12T00:00:00      Permit Closed  47.540111   \n",
      "2  No plan review                  NaN  Reviews Completed  47.540470   \n",
      "3     Plan Review  2017-10-20T00:00:00      Permit Issued  47.654986   \n",
      "4  No plan review  2017-07-19T00:00:00      Permit Closed  47.666714   \n",
      "\n",
      "    Longitude Wait Time Wait_final Wait_expire  \n",
      "0 -122.379795    0 days   362 days    549 days  \n",
      "1 -122.290535    0 days    90 days    547 days  \n",
      "2 -122.281410       NaT        NaT         NaT  \n",
      "3 -122.327467  248 days        NaT    795 days  \n",
      "4 -122.383900    0 days   182 days    549 days  \n"
     ]
    }
   ],
   "source": [
    "test_temp.drop(['Address','Applicant Name','Application Date','Final Date', 'Expiration Date', 'Contractor', 'Permit and Complaint Status URL','Master Use Permit','Location'],axis=1,inplace=True)\n",
    "print(test_temp.head())"
   ]
  },
  {
   "cell_type": "code",
   "execution_count": 386,
   "metadata": {},
   "outputs": [],
   "source": [
    "test_temp.drop(['Issue Date'],axis=1,inplace=True)"
   ]
  },
  {
   "cell_type": "code",
   "execution_count": 387,
   "metadata": {},
   "outputs": [],
   "source": [
    "test_temp['Wait Time'] = test_temp['Wait Time'].dt.days\n",
    "test_temp['Wait_final'] = test_temp['Wait_final'].dt.days\n",
    "test_temp['Wait_expire'] = test_temp['Wait_expire'].dt.days\n",
    "Wait_Time_mean_test = test_temp.groupby('Permit Type')['Wait Time'].mean()\n",
    "for index, row in test_temp.iterrows():\n",
    "    if(pd.isnull(row['Wait Time'])):\n",
    "        test_temp.loc[index, 'Wait Time'] = Wait_Time_mean_test[row['Permit Type']]\n",
    "        \n",
    "Wait_Time_final_test = test_temp.groupby('Permit Type')['Wait_final'].mean()\n",
    "for index, row in test_temp.iterrows():\n",
    "    if(pd.isnull(row['Wait_final'])):\n",
    "        test_temp.loc[index, 'Wait_final'] = Wait_Time_final_test[row['Permit Type']]\n",
    "Wait_Time_expire_test = test_temp.groupby('Permit Type')['Wait_expire'].mean()\n",
    "for index, row in test_temp.iterrows():\n",
    "    if(pd.isnull(row['Wait_expire'])):\n",
    "        test_temp.loc[index, 'Wait_expire'] = Wait_Time_expire_test[row['Permit Type']]"
   ]
  },
  {
   "cell_type": "code",
   "execution_count": 388,
   "metadata": {},
   "outputs": [
    {
     "data": {
      "text/plain": [
       "Application/Permit Number      int64\n",
       "Permit Type                   object\n",
       "Description                   object\n",
       "Action Type                   object\n",
       "Work Type                     object\n",
       "Status                        object\n",
       "Latitude                     float64\n",
       "Longitude                    float64\n",
       "Wait Time                    float64\n",
       "Wait_final                   float64\n",
       "Wait_expire                  float64\n",
       "dtype: object"
      ]
     },
     "execution_count": 388,
     "metadata": {},
     "output_type": "execute_result"
    }
   ],
   "source": [
    "test_temp.dtypes"
   ]
  },
  {
   "cell_type": "code",
   "execution_count": 389,
   "metadata": {},
   "outputs": [
    {
     "name": "stdout",
     "output_type": "stream",
     "text": [
      "0    construct 6 retaining wall to create walkway p...\n",
      "1    like for like repair of framing at porches of ...\n",
      "2    demolish existing single family dwelling subje...\n",
      "3    establish use as rowhouse and construct new du...\n",
      "4    tenant improvement to existing womens boutique...\n",
      "Name: Description, dtype: object\n"
     ]
    }
   ],
   "source": [
    "##Data cleaning of Description of test data\n",
    "import re\n",
    "def process_data_test(input):\n",
    "    return \" \".join(re.sub(\"(@[A-Za-z0-9]+)|([^0-9A-Za-z \\t])\", \"\",str(input).lower()).split())\n",
    "test_temp['Description'] = test_temp['Description'].apply(process_data_test)\n",
    "print(test_temp['Description'].head())"
   ]
  },
  {
   "cell_type": "code",
   "execution_count": 390,
   "metadata": {},
   "outputs": [
    {
     "name": "stdout",
     "output_type": "stream",
     "text": [
      "(22360, 200)\n"
     ]
    }
   ],
   "source": [
    "##Convert Description to vector rep\n",
    "dtm_tfidf_test = vect_tfidf.transform(test_temp['Description'])\n",
    "print(dtm_tfidf_test.shape)"
   ]
  },
  {
   "cell_type": "code",
   "execution_count": 391,
   "metadata": {},
   "outputs": [],
   "source": [
    "##Storing the details into Dataframe \n",
    "Text_tfidf_test_df = pd.DataFrame(dtm_tfidf_test.toarray(), columns=vect_tfidf.get_feature_names())"
   ]
  },
  {
   "cell_type": "code",
   "execution_count": 392,
   "metadata": {},
   "outputs": [
    {
     "data": {
      "text/html": [
       "<div>\n",
       "<style scoped>\n",
       "    .dataframe tbody tr th:only-of-type {\n",
       "        vertical-align: middle;\n",
       "    }\n",
       "\n",
       "    .dataframe tbody tr th {\n",
       "        vertical-align: top;\n",
       "    }\n",
       "\n",
       "    .dataframe thead th {\n",
       "        text-align: right;\n",
       "    }\n",
       "</style>\n",
       "<table border=\"1\" class=\"dataframe\">\n",
       "  <thead>\n",
       "    <tr style=\"text-align: right;\">\n",
       "      <th></th>\n",
       "      <th>2nd</th>\n",
       "      <th>accessory</th>\n",
       "      <th>accessory dwelling</th>\n",
       "      <th>accessory to</th>\n",
       "      <th>add</th>\n",
       "      <th>addition</th>\n",
       "      <th>addition and</th>\n",
       "      <th>addition to</th>\n",
       "      <th>additions</th>\n",
       "      <th>alteration</th>\n",
       "      <th>...</th>\n",
       "      <th>use and</th>\n",
       "      <th>use as</th>\n",
       "      <th>use from</th>\n",
       "      <th>voluntary</th>\n",
       "      <th>wall</th>\n",
       "      <th>west</th>\n",
       "      <th>with</th>\n",
       "      <th>with attached</th>\n",
       "      <th>with surface</th>\n",
       "      <th>work</th>\n",
       "    </tr>\n",
       "  </thead>\n",
       "  <tbody>\n",
       "    <tr>\n",
       "      <th>0</th>\n",
       "      <td>0.0</td>\n",
       "      <td>0.0</td>\n",
       "      <td>0.0</td>\n",
       "      <td>0.0</td>\n",
       "      <td>0.0</td>\n",
       "      <td>0.0</td>\n",
       "      <td>0.0</td>\n",
       "      <td>0.0</td>\n",
       "      <td>0.0</td>\n",
       "      <td>0.0</td>\n",
       "      <td>...</td>\n",
       "      <td>0.0</td>\n",
       "      <td>0.000000</td>\n",
       "      <td>0.0</td>\n",
       "      <td>0.0</td>\n",
       "      <td>0.478064</td>\n",
       "      <td>0.0</td>\n",
       "      <td>0.000000</td>\n",
       "      <td>0.0</td>\n",
       "      <td>0.000000</td>\n",
       "      <td>0.0</td>\n",
       "    </tr>\n",
       "    <tr>\n",
       "      <th>1</th>\n",
       "      <td>0.0</td>\n",
       "      <td>0.0</td>\n",
       "      <td>0.0</td>\n",
       "      <td>0.0</td>\n",
       "      <td>0.0</td>\n",
       "      <td>0.0</td>\n",
       "      <td>0.0</td>\n",
       "      <td>0.0</td>\n",
       "      <td>0.0</td>\n",
       "      <td>0.0</td>\n",
       "      <td>...</td>\n",
       "      <td>0.0</td>\n",
       "      <td>0.000000</td>\n",
       "      <td>0.0</td>\n",
       "      <td>0.0</td>\n",
       "      <td>0.000000</td>\n",
       "      <td>0.0</td>\n",
       "      <td>0.000000</td>\n",
       "      <td>0.0</td>\n",
       "      <td>0.000000</td>\n",
       "      <td>0.0</td>\n",
       "    </tr>\n",
       "    <tr>\n",
       "      <th>2</th>\n",
       "      <td>0.0</td>\n",
       "      <td>0.0</td>\n",
       "      <td>0.0</td>\n",
       "      <td>0.0</td>\n",
       "      <td>0.0</td>\n",
       "      <td>0.0</td>\n",
       "      <td>0.0</td>\n",
       "      <td>0.0</td>\n",
       "      <td>0.0</td>\n",
       "      <td>0.0</td>\n",
       "      <td>...</td>\n",
       "      <td>0.0</td>\n",
       "      <td>0.000000</td>\n",
       "      <td>0.0</td>\n",
       "      <td>0.0</td>\n",
       "      <td>0.000000</td>\n",
       "      <td>0.0</td>\n",
       "      <td>0.000000</td>\n",
       "      <td>0.0</td>\n",
       "      <td>0.000000</td>\n",
       "      <td>0.0</td>\n",
       "    </tr>\n",
       "    <tr>\n",
       "      <th>3</th>\n",
       "      <td>0.0</td>\n",
       "      <td>0.0</td>\n",
       "      <td>0.0</td>\n",
       "      <td>0.0</td>\n",
       "      <td>0.0</td>\n",
       "      <td>0.0</td>\n",
       "      <td>0.0</td>\n",
       "      <td>0.0</td>\n",
       "      <td>0.0</td>\n",
       "      <td>0.0</td>\n",
       "      <td>...</td>\n",
       "      <td>0.0</td>\n",
       "      <td>0.215282</td>\n",
       "      <td>0.0</td>\n",
       "      <td>0.0</td>\n",
       "      <td>0.000000</td>\n",
       "      <td>0.0</td>\n",
       "      <td>0.196308</td>\n",
       "      <td>0.0</td>\n",
       "      <td>0.331193</td>\n",
       "      <td>0.0</td>\n",
       "    </tr>\n",
       "    <tr>\n",
       "      <th>4</th>\n",
       "      <td>0.0</td>\n",
       "      <td>0.0</td>\n",
       "      <td>0.0</td>\n",
       "      <td>0.0</td>\n",
       "      <td>0.0</td>\n",
       "      <td>0.0</td>\n",
       "      <td>0.0</td>\n",
       "      <td>0.0</td>\n",
       "      <td>0.0</td>\n",
       "      <td>0.0</td>\n",
       "      <td>...</td>\n",
       "      <td>0.0</td>\n",
       "      <td>0.000000</td>\n",
       "      <td>0.0</td>\n",
       "      <td>0.0</td>\n",
       "      <td>0.000000</td>\n",
       "      <td>0.0</td>\n",
       "      <td>0.000000</td>\n",
       "      <td>0.0</td>\n",
       "      <td>0.000000</td>\n",
       "      <td>0.0</td>\n",
       "    </tr>\n",
       "  </tbody>\n",
       "</table>\n",
       "<p>5 rows × 200 columns</p>\n",
       "</div>"
      ],
      "text/plain": [
       "   2nd  accessory  accessory dwelling  accessory to  add  addition  \\\n",
       "0  0.0        0.0                 0.0           0.0  0.0       0.0   \n",
       "1  0.0        0.0                 0.0           0.0  0.0       0.0   \n",
       "2  0.0        0.0                 0.0           0.0  0.0       0.0   \n",
       "3  0.0        0.0                 0.0           0.0  0.0       0.0   \n",
       "4  0.0        0.0                 0.0           0.0  0.0       0.0   \n",
       "\n",
       "   addition and  addition to  additions  alteration  ...   use and    use as  \\\n",
       "0           0.0          0.0        0.0         0.0  ...       0.0  0.000000   \n",
       "1           0.0          0.0        0.0         0.0  ...       0.0  0.000000   \n",
       "2           0.0          0.0        0.0         0.0  ...       0.0  0.000000   \n",
       "3           0.0          0.0        0.0         0.0  ...       0.0  0.215282   \n",
       "4           0.0          0.0        0.0         0.0  ...       0.0  0.000000   \n",
       "\n",
       "   use from  voluntary      wall  west      with  with attached  with surface  \\\n",
       "0       0.0        0.0  0.478064   0.0  0.000000            0.0      0.000000   \n",
       "1       0.0        0.0  0.000000   0.0  0.000000            0.0      0.000000   \n",
       "2       0.0        0.0  0.000000   0.0  0.000000            0.0      0.000000   \n",
       "3       0.0        0.0  0.000000   0.0  0.196308            0.0      0.331193   \n",
       "4       0.0        0.0  0.000000   0.0  0.000000            0.0      0.000000   \n",
       "\n",
       "   work  \n",
       "0   0.0  \n",
       "1   0.0  \n",
       "2   0.0  \n",
       "3   0.0  \n",
       "4   0.0  \n",
       "\n",
       "[5 rows x 200 columns]"
      ]
     },
     "execution_count": 392,
     "metadata": {},
     "output_type": "execute_result"
    }
   ],
   "source": [
    "Text_tfidf_test_df.head()"
   ]
  },
  {
   "cell_type": "code",
   "execution_count": 393,
   "metadata": {},
   "outputs": [],
   "source": [
    "test_temp= pd.get_dummies(test_temp, columns=['Permit Type','Action Type','Status','Work Type'])"
   ]
  },
  {
   "cell_type": "code",
   "execution_count": 394,
   "metadata": {},
   "outputs": [],
   "source": [
    "Features_Union_test = pd.concat([test_temp, Text_tfidf_test_df], axis=1)"
   ]
  },
  {
   "cell_type": "code",
   "execution_count": 395,
   "metadata": {},
   "outputs": [],
   "source": [
    "test_temp_X = Features_Union_test.copy()"
   ]
  },
  {
   "cell_type": "code",
   "execution_count": 396,
   "metadata": {},
   "outputs": [],
   "source": [
    "test_temp_X.drop(['Description'],axis=1,inplace=True)"
   ]
  },
  {
   "cell_type": "code",
   "execution_count": 397,
   "metadata": {},
   "outputs": [
    {
     "data": {
      "text/plain": [
       "Application/Permit Number                     0\n",
       "Latitude                                     16\n",
       "Longitude                                    16\n",
       "Wait Time                                     0\n",
       "Wait_final                                    0\n",
       "Wait_expire                                   0\n",
       "Permit Type_Construction                      0\n",
       "Permit Type_Demolition                        0\n",
       "Permit Type_Site Development                  0\n",
       "Action Type_ADD/ALT                           0\n",
       "Action Type_ALTER                             0\n",
       "Action Type_CURB CUT                          0\n",
       "Action Type_DECONSTRUCTION                    0\n",
       "Action Type_DEMOLITION                        0\n",
       "Action Type_DRAINAGE APPROVAL                 0\n",
       "Action Type_GRADING                           0\n",
       "Action Type_NEW                               0\n",
       "Action Type_NO CONSTRUCTION                   0\n",
       "Action Type_RELOCATION                        0\n",
       "Action Type_SHORELINE EXEMPTION ONLY          0\n",
       "Action Type_SITE MONITORING ONLY              0\n",
       "Action Type_TEMP                              0\n",
       "Action Type_TREE PROTECTION EXEMPTION         0\n",
       "Action Type_TREE/VEGETATION MAINT/RESTORE     0\n",
       "Status_AP Closed                              0\n",
       "Status_AP Finaled                             0\n",
       "Status_Application Accepted                   0\n",
       "Status_CANCELLED                              0\n",
       "Status_Cert of Occupancy Authorized           0\n",
       "Status_Information Collected                  0\n",
       "                                             ..\n",
       "surface                                       0\n",
       "surface parking                               0\n",
       "tenant                                        0\n",
       "tenant improvement                            0\n",
       "tenant improvements                           0\n",
       "the                                           0\n",
       "this                                          0\n",
       "to                                            0\n",
       "to an                                         0\n",
       "to basement                                   0\n",
       "to existing                                   0\n",
       "to field                                      0\n",
       "to single                                     0\n",
       "to the                                        0\n",
       "townhouse                                     0\n",
       "two                                           0\n",
       "under                                         0\n",
       "unit                                          0\n",
       "units                                         0\n",
       "use                                           0\n",
       "use and                                       0\n",
       "use as                                        0\n",
       "use from                                      0\n",
       "voluntary                                     0\n",
       "wall                                          0\n",
       "west                                          0\n",
       "with                                          0\n",
       "with attached                                 0\n",
       "with surface                                  0\n",
       "work                                          0\n",
       "Length: 238, dtype: int64"
      ]
     },
     "execution_count": 397,
     "metadata": {},
     "output_type": "execute_result"
    }
   ],
   "source": [
    "X_test = test_temp_X\n",
    "X_test.apply(lambda x: sum(x.isnull()))"
   ]
  },
  {
   "cell_type": "code",
   "execution_count": 398,
   "metadata": {},
   "outputs": [],
   "source": [
    "X_test['Latitude'].fillna(0,inplace=True)\n",
    "X_test['Longitude'].fillna(0,inplace=True)\n"
   ]
  },
  {
   "cell_type": "code",
   "execution_count": 341,
   "metadata": {},
   "outputs": [],
   "source": [
    "X_test['predictions'] = rf.predict(X_test)"
   ]
  },
  {
   "cell_type": "code",
   "execution_count": 343,
   "metadata": {},
   "outputs": [
    {
     "name": "stdout",
     "output_type": "stream",
     "text": [
      "0    0\n",
      "1    0\n",
      "2    0\n",
      "3    0\n",
      "4    1\n",
      "Name: predictions, dtype: int64\n"
     ]
    }
   ],
   "source": [
    "print(X_test['predictions'].head())"
   ]
  },
  {
   "cell_type": "code",
   "execution_count": 350,
   "metadata": {},
   "outputs": [
    {
     "name": "stdout",
     "output_type": "stream",
     "text": [
      "{0: 'SINGLE FAMILY / DUPLEX', 1: 'COMMERCIAL', 2: 'INSTITUTIONAL', 3: 'MULTIFAMILY', 4: 'INDUSTRIAL'}\n"
     ]
    }
   ],
   "source": [
    "print(id_to_category)"
   ]
  },
  {
   "cell_type": "code",
   "execution_count": 351,
   "metadata": {},
   "outputs": [
    {
     "name": "stdout",
     "output_type": "stream",
     "text": [
      "<class 'dict'>\n"
     ]
    }
   ],
   "source": [
    "print(type(id_to_category))"
   ]
  },
  {
   "cell_type": "code",
   "execution_count": 369,
   "metadata": {},
   "outputs": [],
   "source": [
    "X_test.to_csv(\"D:/Certi/Intvw/zs/output_rf.csv\")\n",
    "\n",
    "\n",
    "    "
   ]
  },
  {
   "cell_type": "code",
   "execution_count": 371,
   "metadata": {},
   "outputs": [
    {
     "name": "stderr",
     "output_type": "stream",
     "text": [
      "C:\\Users\\anshuman_mahapatra\\AppData\\Local\\Continuum\\anaconda3\\lib\\site-packages\\sklearn\\linear_model\\stochastic_gradient.py:128: FutureWarning: max_iter and tol parameters have been added in <class 'sklearn.linear_model.stochastic_gradient.SGDClassifier'> in 0.19. If both are left unset, they default to max_iter=5 and tol=None. If tol is not None, max_iter defaults to max_iter=1000. From 0.21, default max_iter will be 1000, and default tol will be 1e-3.\n",
      "  \"and default tol will be 1e-3.\" % type(self), FutureWarning)\n",
      "C:\\Users\\anshuman_mahapatra\\AppData\\Local\\Continuum\\anaconda3\\lib\\site-packages\\sklearn\\preprocessing\\label.py:151: DeprecationWarning: The truth value of an empty array is ambiguous. Returning False, but in future this will result in an error. Use `array.size > 0` to check that an array is not empty.\n",
      "  if diff:\n"
     ]
    },
    {
     "name": "stdout",
     "output_type": "stream",
     "text": [
      "Overall Accuracy\n",
      "0.8292355833705856\n",
      "F1 score per class details\n",
      "             precision    recall  f1-score   support\n",
      "\n",
      "          0       0.90      0.93      0.92      3669\n",
      "          1       0.91      0.74      0.81      1956\n",
      "          2       0.40      0.42      0.41       186\n",
      "          3       0.65      0.70      0.68       821\n",
      "          4       0.20      0.63      0.30        79\n",
      "\n",
      "avg / total       0.85      0.83      0.84      6711\n",
      "\n"
     ]
    },
    {
     "name": "stderr",
     "output_type": "stream",
     "text": [
      "C:\\Users\\anshuman_mahapatra\\AppData\\Local\\Continuum\\anaconda3\\lib\\site-packages\\sklearn\\linear_model\\stochastic_gradient.py:128: FutureWarning: max_iter and tol parameters have been added in <class 'sklearn.linear_model.stochastic_gradient.SGDClassifier'> in 0.19. If both are left unset, they default to max_iter=5 and tol=None. If tol is not None, max_iter defaults to max_iter=1000. From 0.21, default max_iter will be 1000, and default tol will be 1e-3.\n",
      "  \"and default tol will be 1e-3.\" % type(self), FutureWarning)\n",
      "C:\\Users\\anshuman_mahapatra\\AppData\\Local\\Continuum\\anaconda3\\lib\\site-packages\\sklearn\\preprocessing\\label.py:151: DeprecationWarning: The truth value of an empty array is ambiguous. Returning False, but in future this will result in an error. Use `array.size > 0` to check that an array is not empty.\n",
      "  if diff:\n"
     ]
    },
    {
     "name": "stdout",
     "output_type": "stream",
     "text": [
      "Overall Accuracy\n",
      "0.7647935608883589\n",
      "F1 score per class details\n",
      "             precision    recall  f1-score   support\n",
      "\n",
      "          0       0.95      0.87      0.91      3669\n",
      "          1       0.90      0.66      0.76      1956\n",
      "          2       0.12      0.81      0.21       185\n",
      "          3       0.72      0.61      0.66       821\n",
      "          4       0.38      0.13      0.19        78\n",
      "\n",
      "avg / total       0.88      0.76      0.81      6709\n",
      "\n"
     ]
    },
    {
     "name": "stderr",
     "output_type": "stream",
     "text": [
      "C:\\Users\\anshuman_mahapatra\\AppData\\Local\\Continuum\\anaconda3\\lib\\site-packages\\sklearn\\linear_model\\stochastic_gradient.py:128: FutureWarning: max_iter and tol parameters have been added in <class 'sklearn.linear_model.stochastic_gradient.SGDClassifier'> in 0.19. If both are left unset, they default to max_iter=5 and tol=None. If tol is not None, max_iter defaults to max_iter=1000. From 0.21, default max_iter will be 1000, and default tol will be 1e-3.\n",
      "  \"and default tol will be 1e-3.\" % type(self), FutureWarning)\n",
      "C:\\Users\\anshuman_mahapatra\\AppData\\Local\\Continuum\\anaconda3\\lib\\site-packages\\sklearn\\preprocessing\\label.py:151: DeprecationWarning: The truth value of an empty array is ambiguous. Returning False, but in future this will result in an error. Use `array.size > 0` to check that an array is not empty.\n",
      "  if diff:\n"
     ]
    },
    {
     "name": "stdout",
     "output_type": "stream",
     "text": [
      "Overall Accuracy\n",
      "0.8525421201729536\n",
      "F1 score per class details\n",
      "             precision    recall  f1-score   support\n",
      "\n",
      "          0       0.92      0.93      0.93      3668\n",
      "          1       0.82      0.86      0.84      1956\n",
      "          2       0.48      0.29      0.36       185\n",
      "          3       0.70      0.66      0.68       820\n",
      "          4       0.30      0.22      0.25        78\n",
      "\n",
      "avg / total       0.85      0.85      0.85      6707\n",
      "\n"
     ]
    },
    {
     "name": "stderr",
     "output_type": "stream",
     "text": [
      "C:\\Users\\anshuman_mahapatra\\AppData\\Local\\Continuum\\anaconda3\\lib\\site-packages\\sklearn\\linear_model\\stochastic_gradient.py:128: FutureWarning: max_iter and tol parameters have been added in <class 'sklearn.linear_model.stochastic_gradient.SGDClassifier'> in 0.19. If both are left unset, they default to max_iter=5 and tol=None. If tol is not None, max_iter defaults to max_iter=1000. From 0.21, default max_iter will be 1000, and default tol will be 1e-3.\n",
      "  \"and default tol will be 1e-3.\" % type(self), FutureWarning)\n",
      "C:\\Users\\anshuman_mahapatra\\AppData\\Local\\Continuum\\anaconda3\\lib\\site-packages\\sklearn\\preprocessing\\label.py:151: DeprecationWarning: The truth value of an empty array is ambiguous. Returning False, but in future this will result in an error. Use `array.size > 0` to check that an array is not empty.\n",
      "  if diff:\n"
     ]
    },
    {
     "name": "stdout",
     "output_type": "stream",
     "text": [
      "Overall Accuracy\n",
      "0.7904861318222487\n",
      "F1 score per class details\n",
      "             precision    recall  f1-score   support\n",
      "\n",
      "          0       0.95      0.91      0.93      3668\n",
      "          1       0.90      0.68      0.78      1955\n",
      "          2       0.14      0.79      0.24       185\n",
      "          3       0.77      0.57      0.66       820\n",
      "          4       0.41      0.19      0.26        78\n",
      "\n",
      "avg / total       0.88      0.79      0.82      6706\n",
      "\n"
     ]
    },
    {
     "name": "stderr",
     "output_type": "stream",
     "text": [
      "C:\\Users\\anshuman_mahapatra\\AppData\\Local\\Continuum\\anaconda3\\lib\\site-packages\\sklearn\\linear_model\\stochastic_gradient.py:128: FutureWarning: max_iter and tol parameters have been added in <class 'sklearn.linear_model.stochastic_gradient.SGDClassifier'> in 0.19. If both are left unset, they default to max_iter=5 and tol=None. If tol is not None, max_iter defaults to max_iter=1000. From 0.21, default max_iter will be 1000, and default tol will be 1e-3.\n",
      "  \"and default tol will be 1e-3.\" % type(self), FutureWarning)\n"
     ]
    },
    {
     "name": "stdout",
     "output_type": "stream",
     "text": [
      "Overall Accuracy\n",
      "0.835222189084402\n",
      "F1 score per class details\n",
      "             precision    recall  f1-score   support\n",
      "\n",
      "          0       0.95      0.89      0.92      3668\n",
      "          1       0.83      0.85      0.84      1955\n",
      "          2       0.28      0.54      0.36       185\n",
      "          3       0.66      0.69      0.67       820\n",
      "          4       0.38      0.19      0.25        78\n",
      "\n",
      "avg / total       0.85      0.84      0.84      6706\n",
      "\n"
     ]
    },
    {
     "name": "stderr",
     "output_type": "stream",
     "text": [
      "C:\\Users\\anshuman_mahapatra\\AppData\\Local\\Continuum\\anaconda3\\lib\\site-packages\\sklearn\\preprocessing\\label.py:151: DeprecationWarning: The truth value of an empty array is ambiguous. Returning False, but in future this will result in an error. Use `array.size > 0` to check that an array is not empty.\n",
      "  if diff:\n"
     ]
    }
   ],
   "source": [
    "###Trying with Ensembling models \n",
    "from sklearn.ensemble import VotingClassifier\n",
    "from sklearn.linear_model import SGDClassifier\n",
    "from sklearn.svm import LinearSVC\n",
    "from sklearn.neural_network import MLPClassifier\n",
    "\n",
    "models = [\n",
    "    SGDClassifier(),\n",
    "    LinearSVC(),\n",
    "    RandomForestClassifier(),\n",
    "    GradientBoostingClassifier(),\n",
    "    MLPClassifier()\n",
    "]\n",
    "\n",
    "m_names = [m.__class__.__name__ for m in models]\n",
    "\n",
    "models = list(zip(m_names, models))\n",
    "vc = VotingClassifier(estimators=models)\n",
    "\n",
    "sm = SMOTE()\n",
    "\n",
    "for train_index, test_index in skf.split(X,y):\n",
    "   \n",
    "    X_train, X_test = X.iloc[train_index], X.iloc[test_index]\n",
    "    y_train, y_test = y.iloc[train_index], y.iloc[test_index]\n",
    "    \n",
    "       \n",
    "    # Oversample\n",
    "    X_train_res, y_train_res = sm.fit_sample(X_train, y_train)\n",
    "    \n",
    "    # Fit Naive Bayes on the vectorized X with y train labels, \n",
    "    # then predict new y labels using X test\n",
    "    vc.fit(X_train_res, y_train_res)\n",
    "    y_pred = vc.predict(X_test)\n",
    "    \n",
    "    # Determine test set accuracy and f1 score on this fold using the true y labels and predicted y labels\n",
    "    accs =accuracy_score(y_test, y_pred)\n",
    "    print(\"Overall Accuracy\")\n",
    "    print(accs)\n",
    "      \n",
    "    print(\"F1 score per class details\")\n",
    "    print(classification_report(y_test, y_pred, target_names=target_names))\n"
   ]
  },
  {
   "cell_type": "code",
   "execution_count": 399,
   "metadata": {},
   "outputs": [
    {
     "name": "stderr",
     "output_type": "stream",
     "text": [
      "C:\\Users\\anshuman_mahapatra\\AppData\\Local\\Continuum\\anaconda3\\lib\\site-packages\\sklearn\\preprocessing\\label.py:151: DeprecationWarning: The truth value of an empty array is ambiguous. Returning False, but in future this will result in an error. Use `array.size > 0` to check that an array is not empty.\n",
      "  if diff:\n"
     ]
    }
   ],
   "source": [
    "X_test['predictions_en'] = vc.predict(X_test)"
   ]
  },
  {
   "cell_type": "code",
   "execution_count": 400,
   "metadata": {},
   "outputs": [
    {
     "data": {
      "text/html": [
       "<div>\n",
       "<style scoped>\n",
       "    .dataframe tbody tr th:only-of-type {\n",
       "        vertical-align: middle;\n",
       "    }\n",
       "\n",
       "    .dataframe tbody tr th {\n",
       "        vertical-align: top;\n",
       "    }\n",
       "\n",
       "    .dataframe thead th {\n",
       "        text-align: right;\n",
       "    }\n",
       "</style>\n",
       "<table border=\"1\" class=\"dataframe\">\n",
       "  <thead>\n",
       "    <tr style=\"text-align: right;\">\n",
       "      <th></th>\n",
       "      <th>Application/Permit Number</th>\n",
       "      <th>Latitude</th>\n",
       "      <th>Longitude</th>\n",
       "      <th>Wait Time</th>\n",
       "      <th>Wait_final</th>\n",
       "      <th>Wait_expire</th>\n",
       "      <th>Permit Type_Construction</th>\n",
       "      <th>Permit Type_Demolition</th>\n",
       "      <th>Permit Type_Site Development</th>\n",
       "      <th>Action Type_ADD/ALT</th>\n",
       "      <th>...</th>\n",
       "      <th>use as</th>\n",
       "      <th>use from</th>\n",
       "      <th>voluntary</th>\n",
       "      <th>wall</th>\n",
       "      <th>west</th>\n",
       "      <th>with</th>\n",
       "      <th>with attached</th>\n",
       "      <th>with surface</th>\n",
       "      <th>work</th>\n",
       "      <th>predictions_en</th>\n",
       "    </tr>\n",
       "  </thead>\n",
       "  <tbody>\n",
       "    <tr>\n",
       "      <th>0</th>\n",
       "      <td>6425384</td>\n",
       "      <td>47.690123</td>\n",
       "      <td>-122.379795</td>\n",
       "      <td>0.000000</td>\n",
       "      <td>362.000000</td>\n",
       "      <td>549.000000</td>\n",
       "      <td>1</td>\n",
       "      <td>0</td>\n",
       "      <td>0</td>\n",
       "      <td>1</td>\n",
       "      <td>...</td>\n",
       "      <td>0.000000</td>\n",
       "      <td>0.0</td>\n",
       "      <td>0.0</td>\n",
       "      <td>0.478064</td>\n",
       "      <td>0.0</td>\n",
       "      <td>0.000000</td>\n",
       "      <td>0.0</td>\n",
       "      <td>0.000000</td>\n",
       "      <td>0.0</td>\n",
       "      <td>0</td>\n",
       "    </tr>\n",
       "    <tr>\n",
       "      <th>1</th>\n",
       "      <td>6496502</td>\n",
       "      <td>47.540111</td>\n",
       "      <td>-122.290535</td>\n",
       "      <td>0.000000</td>\n",
       "      <td>90.000000</td>\n",
       "      <td>547.000000</td>\n",
       "      <td>1</td>\n",
       "      <td>0</td>\n",
       "      <td>0</td>\n",
       "      <td>1</td>\n",
       "      <td>...</td>\n",
       "      <td>0.000000</td>\n",
       "      <td>0.0</td>\n",
       "      <td>0.0</td>\n",
       "      <td>0.000000</td>\n",
       "      <td>0.0</td>\n",
       "      <td>0.000000</td>\n",
       "      <td>0.0</td>\n",
       "      <td>0.000000</td>\n",
       "      <td>0.0</td>\n",
       "      <td>0</td>\n",
       "    </tr>\n",
       "    <tr>\n",
       "      <th>2</th>\n",
       "      <td>6622347</td>\n",
       "      <td>47.540470</td>\n",
       "      <td>-122.281410</td>\n",
       "      <td>131.136827</td>\n",
       "      <td>386.947945</td>\n",
       "      <td>693.167878</td>\n",
       "      <td>0</td>\n",
       "      <td>1</td>\n",
       "      <td>0</td>\n",
       "      <td>0</td>\n",
       "      <td>...</td>\n",
       "      <td>0.000000</td>\n",
       "      <td>0.0</td>\n",
       "      <td>0.0</td>\n",
       "      <td>0.000000</td>\n",
       "      <td>0.0</td>\n",
       "      <td>0.000000</td>\n",
       "      <td>0.0</td>\n",
       "      <td>0.000000</td>\n",
       "      <td>0.0</td>\n",
       "      <td>0</td>\n",
       "    </tr>\n",
       "    <tr>\n",
       "      <th>3</th>\n",
       "      <td>6565685</td>\n",
       "      <td>47.654986</td>\n",
       "      <td>-122.327467</td>\n",
       "      <td>248.000000</td>\n",
       "      <td>317.653385</td>\n",
       "      <td>795.000000</td>\n",
       "      <td>1</td>\n",
       "      <td>0</td>\n",
       "      <td>0</td>\n",
       "      <td>0</td>\n",
       "      <td>...</td>\n",
       "      <td>0.215282</td>\n",
       "      <td>0.0</td>\n",
       "      <td>0.0</td>\n",
       "      <td>0.000000</td>\n",
       "      <td>0.0</td>\n",
       "      <td>0.196308</td>\n",
       "      <td>0.0</td>\n",
       "      <td>0.331193</td>\n",
       "      <td>0.0</td>\n",
       "      <td>0</td>\n",
       "    </tr>\n",
       "    <tr>\n",
       "      <th>4</th>\n",
       "      <td>6487370</td>\n",
       "      <td>47.666714</td>\n",
       "      <td>-122.383900</td>\n",
       "      <td>0.000000</td>\n",
       "      <td>182.000000</td>\n",
       "      <td>549.000000</td>\n",
       "      <td>1</td>\n",
       "      <td>0</td>\n",
       "      <td>0</td>\n",
       "      <td>1</td>\n",
       "      <td>...</td>\n",
       "      <td>0.000000</td>\n",
       "      <td>0.0</td>\n",
       "      <td>0.0</td>\n",
       "      <td>0.000000</td>\n",
       "      <td>0.0</td>\n",
       "      <td>0.000000</td>\n",
       "      <td>0.0</td>\n",
       "      <td>0.000000</td>\n",
       "      <td>0.0</td>\n",
       "      <td>1</td>\n",
       "    </tr>\n",
       "  </tbody>\n",
       "</table>\n",
       "<p>5 rows × 239 columns</p>\n",
       "</div>"
      ],
      "text/plain": [
       "   Application/Permit Number   Latitude   Longitude   Wait Time  Wait_final  \\\n",
       "0                    6425384  47.690123 -122.379795    0.000000  362.000000   \n",
       "1                    6496502  47.540111 -122.290535    0.000000   90.000000   \n",
       "2                    6622347  47.540470 -122.281410  131.136827  386.947945   \n",
       "3                    6565685  47.654986 -122.327467  248.000000  317.653385   \n",
       "4                    6487370  47.666714 -122.383900    0.000000  182.000000   \n",
       "\n",
       "   Wait_expire  Permit Type_Construction  Permit Type_Demolition  \\\n",
       "0   549.000000                         1                       0   \n",
       "1   547.000000                         1                       0   \n",
       "2   693.167878                         0                       1   \n",
       "3   795.000000                         1                       0   \n",
       "4   549.000000                         1                       0   \n",
       "\n",
       "   Permit Type_Site Development  Action Type_ADD/ALT       ...        \\\n",
       "0                             0                    1       ...         \n",
       "1                             0                    1       ...         \n",
       "2                             0                    0       ...         \n",
       "3                             0                    0       ...         \n",
       "4                             0                    1       ...         \n",
       "\n",
       "     use as  use from  voluntary      wall  west      with  with attached  \\\n",
       "0  0.000000       0.0        0.0  0.478064   0.0  0.000000            0.0   \n",
       "1  0.000000       0.0        0.0  0.000000   0.0  0.000000            0.0   \n",
       "2  0.000000       0.0        0.0  0.000000   0.0  0.000000            0.0   \n",
       "3  0.215282       0.0        0.0  0.000000   0.0  0.196308            0.0   \n",
       "4  0.000000       0.0        0.0  0.000000   0.0  0.000000            0.0   \n",
       "\n",
       "   with surface  work  predictions_en  \n",
       "0      0.000000   0.0               0  \n",
       "1      0.000000   0.0               0  \n",
       "2      0.000000   0.0               0  \n",
       "3      0.331193   0.0               0  \n",
       "4      0.000000   0.0               1  \n",
       "\n",
       "[5 rows x 239 columns]"
      ]
     },
     "execution_count": 400,
     "metadata": {},
     "output_type": "execute_result"
    }
   ],
   "source": [
    "X_test.head()"
   ]
  },
  {
   "cell_type": "code",
   "execution_count": 401,
   "metadata": {},
   "outputs": [],
   "source": [
    "X_test.to_csv(\"D:/Certi/Intvw/zs/output_ensemble.csv\")"
   ]
  },
  {
   "cell_type": "code",
   "execution_count": null,
   "metadata": {},
   "outputs": [],
   "source": []
  }
 ],
 "metadata": {
  "kernelspec": {
   "display_name": "Python 3",
   "language": "python",
   "name": "python3"
  },
  "language_info": {
   "codemirror_mode": {
    "name": "ipython",
    "version": 3
   },
   "file_extension": ".py",
   "mimetype": "text/x-python",
   "name": "python",
   "nbconvert_exporter": "python",
   "pygments_lexer": "ipython3",
   "version": "3.6.5"
  }
 },
 "nbformat": 4,
 "nbformat_minor": 2
}
